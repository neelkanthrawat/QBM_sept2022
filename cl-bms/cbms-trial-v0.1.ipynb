{
 "cells": [
  {
   "cell_type": "code",
   "execution_count": 3,
   "metadata": {},
   "outputs": [],
   "source": [
    "import sys\n",
    "sys.path.insert(0,\"/home/rajarsi/Documents/QBMS/qbm_git_new/qmcmc_codes\")\n",
    "from qbm_utils_2 import *"
   ]
  },
  {
   "cell_type": "markdown",
   "metadata": {},
   "source": [
    "**OBJ :** Create a Classical Boltzmann Machines but with quantum-enhanced MCMC step for the training.\n",
    "\n",
    "**TODO :**\n",
    "1. Create class for storing the ising energy hamiltonian -> inherits form the `IsingEnergyFunction` class. Add functions to make updating morw effecient.\n",
    "2. Re create a classs for sampling process based on the `quantum_enhanced_MCMC`, but more specificly to add the contrastive-divergence based gradient descent.\n",
    "4. leave space for adding quantum (transverse terms) in the hamiltonian."
   ]
  },
  {
   "cell_type": "markdown",
   "metadata": {},
   "source": []
  },
  {
   "cell_type": "code",
   "execution_count": null,
   "metadata": {},
   "outputs": [],
   "source": [
    "class EnergyModel():\n",
    "    pass\n",
    "\n"
   ]
  }
 ],
 "metadata": {
  "kernelspec": {
   "display_name": "Python 3.10.6 64-bit",
   "language": "python",
   "name": "python3"
  },
  "language_info": {
   "codemirror_mode": {
    "name": "ipython",
    "version": 3
   },
   "file_extension": ".py",
   "mimetype": "text/x-python",
   "name": "python",
   "nbconvert_exporter": "python",
   "pygments_lexer": "ipython3",
   "version": "3.10.6"
  },
  "orig_nbformat": 4,
  "vscode": {
   "interpreter": {
    "hash": "916dbcbb3f70747c44a77c7bcd40155683ae19c65e1c03b4aa3499c5328201f1"
   }
  }
 },
 "nbformat": 4,
 "nbformat_minor": 2
}
