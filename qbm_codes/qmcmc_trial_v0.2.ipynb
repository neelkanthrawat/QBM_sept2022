{
  "cells": [
    {
      "cell_type": "markdown",
      "metadata": {
        "id": "view-in-github",
        "colab_type": "text"
      },
      "source": [
        "<a href=\"https://colab.research.google.com/github/neelkanthrawat/QBM_sept2022/blob/main/qbm_codes/qmcmc_trial_v0.2.ipynb\" target=\"_parent\"><img src=\"https://colab.research.google.com/assets/colab-badge.svg\" alt=\"Open In Colab\"/></a>"
      ]
    },
    {
      "cell_type": "code",
      "execution_count": 1,
      "metadata": {
        "id": "8j8VtbXvAq1r"
      },
      "outputs": [],
      "source": [
        "import numpy as np\n",
        "import matplotlib.pyplot as plt\n",
        "import pandas as pd\n",
        "from tqdm import tqdm\n",
        "from collections import Counter"
      ]
    },
    {
      "cell_type": "code",
      "execution_count": 2,
      "metadata": {
        "colab": {
          "base_uri": "https://localhost:8080/"
        },
        "id": "0Hz-A7mtA9Vi",
        "outputId": "818a2459-6431-4a7e-d9d9-6e38748e49ec"
      },
      "outputs": [
        {
          "output_type": "stream",
          "name": "stdout",
          "text": [
            "Looking in indexes: https://pypi.org/simple, https://us-python.pkg.dev/colab-wheels/public/simple/\n",
            "Collecting qiskit\n",
            "  Downloading qiskit-0.38.0.tar.gz (13 kB)\n",
            "Requirement already satisfied: ipywidgets in /usr/local/lib/python3.7/dist-packages (7.7.1)\n",
            "Collecting qiskit-terra==0.21.2\n",
            "  Downloading qiskit_terra-0.21.2-cp37-cp37m-manylinux_2_17_x86_64.manylinux2014_x86_64.whl (6.7 MB)\n",
            "\u001b[K     |████████████████████████████████| 6.7 MB 23.9 MB/s \n",
            "\u001b[?25hCollecting qiskit-aer==0.11.0\n",
            "  Downloading qiskit_aer-0.11.0-cp37-cp37m-manylinux_2_17_x86_64.manylinux2014_x86_64.whl (19.2 MB)\n",
            "\u001b[K     |████████████████████████████████| 19.2 MB 269 kB/s \n",
            "\u001b[?25hCollecting qiskit-ibmq-provider==0.19.2\n",
            "  Downloading qiskit_ibmq_provider-0.19.2-py3-none-any.whl (240 kB)\n",
            "\u001b[K     |████████████████████████████████| 240 kB 77.3 MB/s \n",
            "\u001b[?25hRequirement already satisfied: scipy>=1.0 in /usr/local/lib/python3.7/dist-packages (from qiskit-aer==0.11.0->qiskit) (1.7.3)\n",
            "Requirement already satisfied: numpy>=1.16.3 in /usr/local/lib/python3.7/dist-packages (from qiskit-aer==0.11.0->qiskit) (1.21.6)\n",
            "Requirement already satisfied: requests>=2.19 in /usr/local/lib/python3.7/dist-packages (from qiskit-ibmq-provider==0.19.2->qiskit) (2.23.0)\n",
            "Requirement already satisfied: urllib3>=1.21.1 in /usr/local/lib/python3.7/dist-packages (from qiskit-ibmq-provider==0.19.2->qiskit) (1.24.3)\n",
            "Collecting websocket-client>=1.0.1\n",
            "  Downloading websocket_client-1.4.1-py3-none-any.whl (55 kB)\n",
            "\u001b[K     |████████████████████████████████| 55 kB 3.0 MB/s \n",
            "\u001b[?25hRequirement already satisfied: python-dateutil>=2.8.0 in /usr/local/lib/python3.7/dist-packages (from qiskit-ibmq-provider==0.19.2->qiskit) (2.8.2)\n",
            "Collecting websockets>=10.0\n",
            "  Downloading websockets-10.3-cp37-cp37m-manylinux_2_5_x86_64.manylinux1_x86_64.manylinux_2_12_x86_64.manylinux2010_x86_64.whl (112 kB)\n",
            "\u001b[K     |████████████████████████████████| 112 kB 72.0 MB/s \n",
            "\u001b[?25hCollecting requests-ntlm>=1.1.0\n",
            "  Downloading requests_ntlm-1.1.0-py2.py3-none-any.whl (5.7 kB)\n",
            "Collecting symengine>=0.9\n",
            "  Downloading symengine-0.9.2-cp37-cp37m-manylinux2010_x86_64.whl (37.5 MB)\n",
            "\u001b[K     |████████████████████████████████| 37.5 MB 57 kB/s \n",
            "\u001b[?25hCollecting shared-memory38\n",
            "  Downloading shared_memory38-0.1.2-cp37-cp37m-manylinux_2_5_x86_64.manylinux1_x86_64.whl (25 kB)\n",
            "Collecting tweedledum<2.0,>=1.1\n",
            "  Downloading tweedledum-1.1.1-cp37-cp37m-manylinux_2_12_x86_64.manylinux2010_x86_64.whl (943 kB)\n",
            "\u001b[K     |████████████████████████████████| 943 kB 30.9 MB/s \n",
            "\u001b[?25hRequirement already satisfied: typing-extensions in /usr/local/lib/python3.7/dist-packages (from qiskit-terra==0.21.2->qiskit) (4.1.1)\n",
            "Collecting ply>=3.10\n",
            "  Downloading ply-3.11-py2.py3-none-any.whl (49 kB)\n",
            "\u001b[K     |████████████████████████████████| 49 kB 7.4 MB/s \n",
            "\u001b[?25hRequirement already satisfied: psutil>=5 in /usr/local/lib/python3.7/dist-packages (from qiskit-terra==0.21.2->qiskit) (5.4.8)\n",
            "Requirement already satisfied: sympy>=1.3 in /usr/local/lib/python3.7/dist-packages (from qiskit-terra==0.21.2->qiskit) (1.7.1)\n",
            "Collecting retworkx>=0.11.0\n",
            "  Downloading retworkx-0.11.0-cp37-cp37m-manylinux_2_5_x86_64.manylinux1_x86_64.manylinux_2_12_x86_64.manylinux2010_x86_64.whl (1.6 MB)\n",
            "\u001b[K     |████████████████████████████████| 1.6 MB 54.6 MB/s \n",
            "\u001b[?25hRequirement already satisfied: dill>=0.3 in /usr/local/lib/python3.7/dist-packages (from qiskit-terra==0.21.2->qiskit) (0.3.5.1)\n",
            "Collecting stevedore>=3.0.0\n",
            "  Downloading stevedore-3.5.0-py3-none-any.whl (49 kB)\n",
            "\u001b[K     |████████████████████████████████| 49 kB 7.4 MB/s \n",
            "\u001b[?25hRequirement already satisfied: six>=1.5 in /usr/local/lib/python3.7/dist-packages (from python-dateutil>=2.8.0->qiskit-ibmq-provider==0.19.2->qiskit) (1.15.0)\n",
            "Requirement already satisfied: idna<3,>=2.5 in /usr/local/lib/python3.7/dist-packages (from requests>=2.19->qiskit-ibmq-provider==0.19.2->qiskit) (2.10)\n",
            "Requirement already satisfied: chardet<4,>=3.0.2 in /usr/local/lib/python3.7/dist-packages (from requests>=2.19->qiskit-ibmq-provider==0.19.2->qiskit) (3.0.4)\n",
            "Requirement already satisfied: certifi>=2017.4.17 in /usr/local/lib/python3.7/dist-packages (from requests>=2.19->qiskit-ibmq-provider==0.19.2->qiskit) (2022.6.15)\n",
            "Collecting cryptography>=1.3\n",
            "  Downloading cryptography-38.0.1-cp36-abi3-manylinux_2_24_x86_64.whl (4.0 MB)\n",
            "\u001b[K     |████████████████████████████████| 4.0 MB 46.9 MB/s \n",
            "\u001b[?25hCollecting ntlm-auth>=1.0.2\n",
            "  Downloading ntlm_auth-1.5.0-py2.py3-none-any.whl (29 kB)\n",
            "Requirement already satisfied: cffi>=1.12 in /usr/local/lib/python3.7/dist-packages (from cryptography>=1.3->requests-ntlm>=1.1.0->qiskit-ibmq-provider==0.19.2->qiskit) (1.15.1)\n",
            "Requirement already satisfied: pycparser in /usr/local/lib/python3.7/dist-packages (from cffi>=1.12->cryptography>=1.3->requests-ntlm>=1.1.0->qiskit-ibmq-provider==0.19.2->qiskit) (2.21)\n",
            "Collecting pbr!=2.1.0,>=2.0.0\n",
            "  Downloading pbr-5.10.0-py2.py3-none-any.whl (112 kB)\n",
            "\u001b[K     |████████████████████████████████| 112 kB 63.9 MB/s \n",
            "\u001b[?25hRequirement already satisfied: importlib-metadata>=1.7.0 in /usr/local/lib/python3.7/dist-packages (from stevedore>=3.0.0->qiskit-terra==0.21.2->qiskit) (4.12.0)\n",
            "Requirement already satisfied: zipp>=0.5 in /usr/local/lib/python3.7/dist-packages (from importlib-metadata>=1.7.0->stevedore>=3.0.0->qiskit-terra==0.21.2->qiskit) (3.8.1)\n",
            "Requirement already satisfied: mpmath>=0.19 in /usr/local/lib/python3.7/dist-packages (from sympy>=1.3->qiskit-terra==0.21.2->qiskit) (1.2.1)\n",
            "Requirement already satisfied: traitlets>=4.3.1 in /usr/local/lib/python3.7/dist-packages (from ipywidgets) (5.1.1)\n",
            "Requirement already satisfied: ipython>=4.0.0 in /usr/local/lib/python3.7/dist-packages (from ipywidgets) (7.9.0)\n",
            "Requirement already satisfied: widgetsnbextension~=3.6.0 in /usr/local/lib/python3.7/dist-packages (from ipywidgets) (3.6.1)\n",
            "Requirement already satisfied: jupyterlab-widgets>=1.0.0 in /usr/local/lib/python3.7/dist-packages (from ipywidgets) (3.0.3)\n",
            "Requirement already satisfied: ipykernel>=4.5.1 in /usr/local/lib/python3.7/dist-packages (from ipywidgets) (5.3.4)\n",
            "Requirement already satisfied: ipython-genutils~=0.2.0 in /usr/local/lib/python3.7/dist-packages (from ipywidgets) (0.2.0)\n",
            "Requirement already satisfied: jupyter-client in /usr/local/lib/python3.7/dist-packages (from ipykernel>=4.5.1->ipywidgets) (6.1.12)\n",
            "Requirement already satisfied: tornado>=4.2 in /usr/local/lib/python3.7/dist-packages (from ipykernel>=4.5.1->ipywidgets) (5.1.1)\n",
            "Requirement already satisfied: prompt-toolkit<2.1.0,>=2.0.0 in /usr/local/lib/python3.7/dist-packages (from ipython>=4.0.0->ipywidgets) (2.0.10)\n",
            "Requirement already satisfied: backcall in /usr/local/lib/python3.7/dist-packages (from ipython>=4.0.0->ipywidgets) (0.2.0)\n",
            "Requirement already satisfied: decorator in /usr/local/lib/python3.7/dist-packages (from ipython>=4.0.0->ipywidgets) (4.4.2)\n",
            "Collecting jedi>=0.10\n",
            "  Downloading jedi-0.18.1-py2.py3-none-any.whl (1.6 MB)\n",
            "\u001b[K     |████████████████████████████████| 1.6 MB 53.3 MB/s \n",
            "\u001b[?25hRequirement already satisfied: pexpect in /usr/local/lib/python3.7/dist-packages (from ipython>=4.0.0->ipywidgets) (4.8.0)\n",
            "Requirement already satisfied: pickleshare in /usr/local/lib/python3.7/dist-packages (from ipython>=4.0.0->ipywidgets) (0.7.5)\n",
            "Requirement already satisfied: setuptools>=18.5 in /usr/local/lib/python3.7/dist-packages (from ipython>=4.0.0->ipywidgets) (57.4.0)\n",
            "Requirement already satisfied: pygments in /usr/local/lib/python3.7/dist-packages (from ipython>=4.0.0->ipywidgets) (2.6.1)\n",
            "Requirement already satisfied: parso<0.9.0,>=0.8.0 in /usr/local/lib/python3.7/dist-packages (from jedi>=0.10->ipython>=4.0.0->ipywidgets) (0.8.3)\n",
            "Requirement already satisfied: wcwidth in /usr/local/lib/python3.7/dist-packages (from prompt-toolkit<2.1.0,>=2.0.0->ipython>=4.0.0->ipywidgets) (0.2.5)\n",
            "Requirement already satisfied: notebook>=4.4.1 in /usr/local/lib/python3.7/dist-packages (from widgetsnbextension~=3.6.0->ipywidgets) (5.3.1)\n",
            "Requirement already satisfied: jinja2 in /usr/local/lib/python3.7/dist-packages (from notebook>=4.4.1->widgetsnbextension~=3.6.0->ipywidgets) (2.11.3)\n",
            "Requirement already satisfied: terminado>=0.8.1 in /usr/local/lib/python3.7/dist-packages (from notebook>=4.4.1->widgetsnbextension~=3.6.0->ipywidgets) (0.13.3)\n",
            "Requirement already satisfied: Send2Trash in /usr/local/lib/python3.7/dist-packages (from notebook>=4.4.1->widgetsnbextension~=3.6.0->ipywidgets) (1.8.0)\n",
            "Requirement already satisfied: nbconvert in /usr/local/lib/python3.7/dist-packages (from notebook>=4.4.1->widgetsnbextension~=3.6.0->ipywidgets) (5.6.1)\n",
            "Requirement already satisfied: jupyter-core>=4.4.0 in /usr/local/lib/python3.7/dist-packages (from notebook>=4.4.1->widgetsnbextension~=3.6.0->ipywidgets) (4.11.1)\n",
            "Requirement already satisfied: nbformat in /usr/local/lib/python3.7/dist-packages (from notebook>=4.4.1->widgetsnbextension~=3.6.0->ipywidgets) (5.4.0)\n",
            "Requirement already satisfied: pyzmq>=13 in /usr/local/lib/python3.7/dist-packages (from jupyter-client->ipykernel>=4.5.1->ipywidgets) (23.2.1)\n",
            "Requirement already satisfied: ptyprocess in /usr/local/lib/python3.7/dist-packages (from terminado>=0.8.1->notebook>=4.4.1->widgetsnbextension~=3.6.0->ipywidgets) (0.7.0)\n",
            "Requirement already satisfied: MarkupSafe>=0.23 in /usr/local/lib/python3.7/dist-packages (from jinja2->notebook>=4.4.1->widgetsnbextension~=3.6.0->ipywidgets) (2.0.1)\n",
            "Requirement already satisfied: pandocfilters>=1.4.1 in /usr/local/lib/python3.7/dist-packages (from nbconvert->notebook>=4.4.1->widgetsnbextension~=3.6.0->ipywidgets) (1.5.0)\n",
            "Requirement already satisfied: mistune<2,>=0.8.1 in /usr/local/lib/python3.7/dist-packages (from nbconvert->notebook>=4.4.1->widgetsnbextension~=3.6.0->ipywidgets) (0.8.4)\n",
            "Requirement already satisfied: entrypoints>=0.2.2 in /usr/local/lib/python3.7/dist-packages (from nbconvert->notebook>=4.4.1->widgetsnbextension~=3.6.0->ipywidgets) (0.4)\n",
            "Requirement already satisfied: defusedxml in /usr/local/lib/python3.7/dist-packages (from nbconvert->notebook>=4.4.1->widgetsnbextension~=3.6.0->ipywidgets) (0.7.1)\n",
            "Requirement already satisfied: bleach in /usr/local/lib/python3.7/dist-packages (from nbconvert->notebook>=4.4.1->widgetsnbextension~=3.6.0->ipywidgets) (5.0.1)\n",
            "Requirement already satisfied: testpath in /usr/local/lib/python3.7/dist-packages (from nbconvert->notebook>=4.4.1->widgetsnbextension~=3.6.0->ipywidgets) (0.6.0)\n",
            "Requirement already satisfied: jsonschema>=2.6 in /usr/local/lib/python3.7/dist-packages (from nbformat->notebook>=4.4.1->widgetsnbextension~=3.6.0->ipywidgets) (4.3.3)\n",
            "Requirement already satisfied: fastjsonschema in /usr/local/lib/python3.7/dist-packages (from nbformat->notebook>=4.4.1->widgetsnbextension~=3.6.0->ipywidgets) (2.16.1)\n",
            "Requirement already satisfied: attrs>=17.4.0 in /usr/local/lib/python3.7/dist-packages (from jsonschema>=2.6->nbformat->notebook>=4.4.1->widgetsnbextension~=3.6.0->ipywidgets) (22.1.0)\n",
            "Requirement already satisfied: importlib-resources>=1.4.0 in /usr/local/lib/python3.7/dist-packages (from jsonschema>=2.6->nbformat->notebook>=4.4.1->widgetsnbextension~=3.6.0->ipywidgets) (5.9.0)\n",
            "Requirement already satisfied: pyrsistent!=0.17.0,!=0.17.1,!=0.17.2,>=0.14.0 in /usr/local/lib/python3.7/dist-packages (from jsonschema>=2.6->nbformat->notebook>=4.4.1->widgetsnbextension~=3.6.0->ipywidgets) (0.18.1)\n",
            "Requirement already satisfied: webencodings in /usr/local/lib/python3.7/dist-packages (from bleach->nbconvert->notebook>=4.4.1->widgetsnbextension~=3.6.0->ipywidgets) (0.5.1)\n",
            "Building wheels for collected packages: qiskit\n",
            "  Building wheel for qiskit (setup.py) ... \u001b[?25l\u001b[?25hdone\n",
            "  Created wheel for qiskit: filename=qiskit-0.38.0-py3-none-any.whl size=12147 sha256=d5d72842e502d3cc056b7e0de124a52ac6b8449b413b3247fcb3c301d552ab9e\n",
            "  Stored in directory: /root/.cache/pip/wheels/0b/30/78/04c91b7e82655f191b8f6238b6e74af67f3cc618cfca429189\n",
            "Successfully built qiskit\n",
            "Installing collected packages: jedi, pbr, tweedledum, symengine, stevedore, shared-memory38, retworkx, ply, ntlm-auth, cryptography, websockets, websocket-client, requests-ntlm, qiskit-terra, qiskit-ibmq-provider, qiskit-aer, qiskit\n",
            "Successfully installed cryptography-38.0.1 jedi-0.18.1 ntlm-auth-1.5.0 pbr-5.10.0 ply-3.11 qiskit-0.38.0 qiskit-aer-0.11.0 qiskit-ibmq-provider-0.19.2 qiskit-terra-0.21.2 requests-ntlm-1.1.0 retworkx-0.11.0 shared-memory38-0.1.2 stevedore-3.5.0 symengine-0.9.2 tweedledum-1.1.1 websocket-client-1.4.1 websockets-10.3\n"
          ]
        }
      ],
      "source": [
        "!pip install qiskit ipywidgets # while working on google colab!"
      ]
    },
    {
      "cell_type": "code",
      "execution_count": 3,
      "metadata": {
        "colab": {
          "base_uri": "https://localhost:8080/"
        },
        "id": "Zt6GDRoNAtZJ",
        "outputId": "6f59d23b-b3dc-4343-9ac0-a58ca4b9e0f6"
      },
      "outputs": [
        {
          "output_type": "stream",
          "name": "stdout",
          "text": [
            "--2022-10-05 11:05:38--  https://raw.githubusercontent.com/neelkanthrawat/QBM_sept2022/main/qbm_codes/qbm_utils.py\n",
            "Resolving raw.githubusercontent.com (raw.githubusercontent.com)... 185.199.108.133, 185.199.109.133, 185.199.110.133, ...\n",
            "Connecting to raw.githubusercontent.com (raw.githubusercontent.com)|185.199.108.133|:443... connected.\n",
            "HTTP request sent, awaiting response... 200 OK\n",
            "Length: 17062 (17K) [text/plain]\n",
            "Saving to: ‘qbm_utils.py’\n",
            "\n",
            "qbm_utils.py        100%[===================>]  16.66K  --.-KB/s    in 0s      \n",
            "\n",
            "2022-10-05 11:05:38 (79.2 MB/s) - ‘qbm_utils.py’ saved [17062/17062]\n",
            "\n"
          ]
        }
      ],
      "source": [
        "# while working on google colab, run this cell\n",
        "!wget https://raw.githubusercontent.com/neelkanthrawat/QBM_sept2022/main/qbm_codes/qbm_utils.py"
      ]
    },
    {
      "cell_type": "code",
      "execution_count": 4,
      "metadata": {
        "id": "bZo97FWnAq1u"
      },
      "outputs": [],
      "source": [
        "from qbm_utils import *"
      ]
    },
    {
      "cell_type": "markdown",
      "metadata": {
        "id": "hd51eYqCs3N4"
      },
      "source": [
        "### Define your model"
      ]
    },
    {
      "cell_type": "code",
      "execution_count": 5,
      "metadata": {
        "id": "KOeMOjD5Aq1v"
      },
      "outputs": [],
      "source": [
        "# define the model\n",
        "## put n_spins even always\n",
        "n_spins = 8\n",
        "\n",
        "## construct problem Hamiltonian ##\n",
        "shape_of_J=(n_spins,n_spins)\n",
        "J =  np.random.randn(n_spins,n_spins)#np.random.uniform(low= -1, high= 1, size= (n_spins, n_spins) )\n",
        "J = 0.5 * (J + J.transpose() )\n",
        "h = np.random.randn(n_spins)#np.random.uniform(low= -1, high = 1, size= (n_spins))\n",
        "\n",
        "# instantiate the model\n",
        "model = IsingEnergyFunction(J, h)\n",
        "\n",
        "alpha = np.sqrt(n_spins) / np.sqrt( sum([J[i][j]**2 for i in range(n_spins) for j in range(i)]) + sum([h[j]**2 for j in range(n_spins)])  )\n"
      ]
    },
    {
      "cell_type": "markdown",
      "metadata": {
        "id": "51HJZt-pAq1w"
      },
      "source": [
        "### Some updated funcs"
      ]
    },
    {
      "cell_type": "code",
      "execution_count": 6,
      "metadata": {
        "id": "wqKR3qcaAq1y"
      },
      "outputs": [],
      "source": [
        "def classical_mcmc(N_hops:int, num_spins:int, num_elems:int, model, return_last_n_states=500, return_both_classical_and_quantum_steps=False ):\n",
        "    ''' \n",
        "    version 0.2\n",
        "    Args: \n",
        "    Nhops: Number of time you want to run mcmc\n",
        "    num_spins: number of spins\n",
        "    num_elems: 2**(num_spins)\n",
        "    model\n",
        "\n",
        "    Returns:\n",
        "    Last 'return_last_n_states' elements of states so collected (default value=500). one can then deduce the distribution from it! \n",
        "    '''\n",
        "    states=[]\n",
        "    current_state=f'{np.random.randint(0,num_elems):0{num_spins}b}'# bin_next_state=f'{next_state:0{num_spins}b}'\n",
        "    print(\"starting with: \", current_state) \n",
        "\n",
        "    ## initialiiise observables\n",
        "    #observable_dict = dict([ (elem, []) for elem in observables ])\n",
        "    list_after_transition=[]\n",
        "    list_after_acceptance_step=[]\n",
        "\n",
        "    for i in tqdm(range(0, N_hops)):\n",
        "        states.append(current_state)\n",
        "        # get sprime\n",
        "        s_prime=classical_transition(num_spins)\n",
        "        list_after_transition.append(s_prime)\n",
        "        # accept/reject s_prime \n",
        "        energy_s=model.get_energy(current_state)\n",
        "        energy_sprime=model.get_energy(s_prime)\n",
        "        next_state= classical_loop_accepting_state(current_state, s_prime, energy_s, energy_sprime,temp=1)\n",
        "        current_state= next_state\n",
        "        list_after_acceptance_step.append(current_state)\n",
        "        # if store_observables:  ## store the observables \n",
        "          \n",
        "        #   if next_state == s_prime: observable_dict['acceptance'].append('True')\n",
        "        #   else: observable_dict['acceptance'].append('False')\n",
        "        #   observable_dict['energy'].append(model.get_energy(next_state))\n",
        "\n",
        "        ## reinitiate\n",
        "        qc_s=initialise_qc(n_spins=num_spins, bitstring=current_state)\n",
        "    \n",
        "    # returns dictionary of occurences for last \"return_last_n_states\" states\n",
        "    dict_count_return_last_n_states=Counter(states[-return_last_n_states:])\n",
        "    \n",
        "    if return_both_classical_and_quantum_steps: \n",
        "        to_return = dict_count_return_last_n_states, list_after_transition, list_after_acceptance_step\n",
        "    else: \n",
        "        to_return= dict_count_return_last_n_states \n",
        "    \n",
        "    return to_return"
      ]
    },
    {
      "cell_type": "code",
      "execution_count": 7,
      "metadata": {
        "id": "vXzV3CDwAq10"
      },
      "outputs": [],
      "source": [
        "def quantum_enhanced_mcmc(N_hops:int, num_spins:int, num_elems:int, model:IsingEnergyFunction, alpha, num_trotter_steps=10, return_last_n_states=500, return_both_classical_and_quantum_steps=False):\n",
        "    ''' \n",
        "    version 0.2\n",
        "    Args: \n",
        "    Nhops: Number of time you want to run mcmc\n",
        "    num_spins: number of spins\n",
        "    num_elems: 2**(num_spins)\n",
        "\n",
        "    Returns:\n",
        "    Last 'return_last_n_states' elements of states so collected (default value=500). one can then deduce the distribution from it! \n",
        "    '''\n",
        "    states=[]\n",
        "    current_state=f'{np.random.randint(0,num_elems):0{num_spins}b}'# bin_next_state=f'{next_state:0{num_spins}b}'\n",
        "    print(\"starting with: \", current_state) \n",
        "    ## initialise quantum circuit to current_state\n",
        "    qc_s=initialise_qc(n_spins=num_spins, bitstring=current_state)\n",
        "    #print(\"qc_s is:\"); print(qc_s.draw())\n",
        "\n",
        "    ## intialise observables\n",
        "    #observable_dict = dict([ ( elem, []  ) for elem in observables ])\n",
        "    list_after_transition=[]\n",
        "    list_after_acceptance_step=[]\n",
        "\n",
        "    for i in tqdm(range(0, N_hops)):\n",
        "        #print(\"i: \", i)\n",
        "        states.append(current_state)\n",
        "        # get sprime\n",
        "        s_prime=run_qc_quantum_step(qc_initialised_to_s=qc_s, model= model, alpha=alpha, n_spins=num_spins, num_trotter_steps=num_trotter_steps, time=0.8)\n",
        "        list_after_transition.append(s_prime)\n",
        "        # accept/reject s_prime \n",
        "        energy_s=model.get_energy(current_state)\n",
        "        energy_sprime=model.get_energy(s_prime)\n",
        "        next_state= classical_loop_accepting_state(current_state, s_prime, energy_s, energy_sprime,temp=1)\n",
        "        current_state=next_state\n",
        "        # if current_state!=next_state:# this seems to be a redundant step. I could have set current_state=classical_loop_accepting_state(current_state, s_prime, energy_s, energy_sprime,temp=1)\n",
        "        #   current_state= next_state\n",
        "        list_after_acceptance_step.append(current_state)\n",
        "\n",
        "        # if store_observables:  ## store the observables \n",
        "          \n",
        "        #   if next_state == s_prime: observable_dict['acceptance'].append('True')\n",
        "        #   else: observable_dict['acceptance'].append('False')\n",
        "        #   observable_dict['energy'].append(model.get_energy(next_state))\n",
        "\n",
        "        ## reinitiate\n",
        "        qc_s=initialise_qc(n_spins=num_spins, bitstring=current_state)\n",
        "      \n",
        "    dict_count_return_last_n_states=Counter(states[-return_last_n_states:])#dictionary of occurences for last \"return_last_n_states\" states\n",
        "\n",
        "    if return_both_classical_and_quantum_steps: \n",
        "      to_return= dict_count_return_last_n_states, list_after_transition, list_after_acceptance_step\n",
        "    else: \n",
        "      to_return= dict_count_return_last_n_states\n",
        "\n",
        "    return to_return"
      ]
    },
    {
      "cell_type": "markdown",
      "metadata": {
        "id": "fTvZqCVFs3OC"
      },
      "source": [
        "### Some new helper functions"
      ]
    },
    {
      "cell_type": "code",
      "execution_count": 8,
      "metadata": {
        "id": "jeeJADzzAq12"
      },
      "outputs": [],
      "source": [
        "# some new helper functions\n",
        "def states(num_spins:int)->list:\n",
        "    ''' \n",
        "    Returns all possible binary strings of length n=num_spins\n",
        "\n",
        "    Args:\n",
        "    num_spins: n length of the bitstring\n",
        "    Returns:\n",
        "    possible_states= list of all possible binary strings of length num_spins\n",
        "    '''\n",
        "    num_possible_states=2**(num_spins)\n",
        "    possible_states=[f'{k:0{num_spins}b}' for k in range(0,num_possible_states)]\n",
        "    return possible_states\n",
        "\n",
        "def magnetization_of_state(bitstring:str)->float:\n",
        "    '''  \n",
        "    Args:\n",
        "    bitstring: for eg: '010'\n",
        "    Returns:\n",
        "    magnetization for the given bitstring\n",
        "    '''\n",
        "    array=np.array(list(bitstring))\n",
        "    num_times_one=np.count_nonzero(array=='1')\n",
        "    num_times_zero=len(array)-num_times_one\n",
        "    magnetization=num_times_one-num_times_zero\n",
        "    return magnetization\n",
        "\n",
        "def dict_magnetization_of_all_states(list_all_possible_states:list)->dict:\n",
        "    '''\n",
        "    Returns magnetization for all unique states\n",
        "    \n",
        "    Args:\n",
        "    list_all_possible_states\n",
        "    Returns:\n",
        "    dict_magnetization={state(str): magnetization_value}\n",
        "    '''\n",
        "    list_mag_vals=[magnetization_of_state(state) for state in list_all_possible_states]\n",
        "    dict_magnetization=dict(zip(list_all_possible_states, list_mag_vals ))\n",
        "    #print(\"dict_magnetization:\"); print(dict_magnetization)\n",
        "    return dict_magnetization\n",
        "  \n",
        "def value_sorted_dict(dict_in, reverse=False):\n",
        "\n",
        "  sorted_dict={k: v for k, v in sorted(dict_in.items(), key=lambda item: item[1], reverse=reverse)}\n",
        "  return sorted_dict\n",
        "\n",
        "\n",
        "## enter samples, get normalised distn\n",
        "def get_distn(list_of_samples:list)-> dict:\n",
        "  '''   \n",
        "  Returns the dictionary of distn for input list_of_samples\n",
        "  '''\n",
        "  len_list=len(list_of_samples)\n",
        "  temp_dict=Counter(list_of_samples)\n",
        "  temp_prob_list=np.array(list(temp_dict.values()))*(1./len_list)\n",
        "  dict_to_return=dict(zip( list(temp_dict.keys()), temp_prob_list))\n",
        "  return dict_to_return\n",
        "\n",
        "\n",
        "## Average\n",
        "def avg(dict_probabilities:dict, dict_observable_val_at_states:dict):\n",
        "  ''' \n",
        "  Returns average of any observable of interest\n",
        "\n",
        "  Args:\n",
        "  dict_probabilities= {state: probability}\n",
        "  dict_observable_val_at_states={state (same as that of dict_probabilities): observable's value at that state}\n",
        "\n",
        "  Returns:\n",
        "  avg\n",
        "  '''\n",
        "  len_dict=len(dict_probabilities)\n",
        "  temp_array=np.zeros((len_dict,))\n",
        "  temp_list=[dict_probabilities[j]*dict_observable_val_at_states[j] for j in (list(dict_probabilities.keys())) ]\n",
        "  avg=np.mean(temp_list)\n",
        "  return avg\n",
        "\n",
        "### function to get running average of magnetization\n",
        "def running_avg_magnetization(list_states_mcmc:list):\n",
        "  ''' \n",
        "  Returns the running average magnetization \n",
        "\n",
        "  Args:\n",
        "  list_states_mcmc= List of states aceepted after each MCMC step\n",
        "  '''\n",
        "  len_iters_mcmc=len(list_states_mcmc)\n",
        "  running_avg_mag={}\n",
        "  for i in tqdm(range(1,len_iters_mcmc)):\n",
        "    temp_list=list_states_mcmc[:i]#[:i]\n",
        "    temp_prob=get_distn(temp_list)\n",
        "    dict_mag_states_in_temp_prob=dict_magnetization_of_all_states(temp_list)\n",
        "    running_avg_mag[i]=avg(temp_prob, dict_mag_states_in_temp_prob)\n",
        "  return running_avg_mag\n",
        "\n",
        "\n",
        "\n",
        "## Plotting related\n",
        "def plot_dict_of_running_avg_observable(dict_running_avg:dict, observable_legend_label:str):\n",
        "  plt.plot(list(dict_running_avg.keys()), list(dict_running_avg.values()),\"-\" ,label=observable_legend_label)\n",
        "  plt.xlabel(\"MCMC iterations\")\n",
        "\n",
        "def plot_bargraph_desc_order(desc_val_order_dict_in:dict, label:str, normalise_complete_data:bool=False,plot_first_few:int=0):\n",
        "  width=1.0\n",
        "  list_keys=list(desc_val_order_dict_in.keys())\n",
        "  list_vals=list(desc_val_order_dict_in.values())\n",
        "  if normalise_complete_data:\n",
        "    list_vals=np.divide(list_vals, sum(list_vals))#np.divide(list(vals), sum(vals))\n",
        "  if plot_first_few!=0:\n",
        "    plt.bar(list_keys[0:plot_first_few], list_vals[0:plot_first_few], label=label)\n",
        "  else:\n",
        "    plt.bar(list_keys, list_vals, label=label)\n",
        "  plt.xticks(rotation=45)\n",
        "\n",
        "def plot_multiple_bargraphs(list_of_dicts:list,list_labels:list,list_normalise:list ,plot_first_few,  sort_desc=False,sort_asc=False, figsize=(15,7)):\n",
        "  list_keys=list(list_of_dicts[0].keys())\n",
        "  dict_data={}\n",
        "  for i in range(0,len(list_labels)):\n",
        "    #list_vals=[list_of_dicts[i][j] for j in list_keys if j in list(list_of_dicts[i].keys()) else 0] #list(list_of_dicts[i].values())\n",
        "    list_vals=[list_of_dicts[i][j] if j in list(list_of_dicts[i].keys()) else 0 for j in list_keys]\n",
        "    if list_normalise[i]:\n",
        "      list_vals=np.divide(list_vals, sum(list_vals))\n",
        "    dict_data[list_labels[i]]=list_vals\n",
        "  df=pd.DataFrame(dict_data, index=list_keys)\n",
        "  if sort_desc:\n",
        "    df_sorted_desc=df.sort_values(list_labels[0], ascending=False)\n",
        "    df_sorted_desc[:plot_first_few].plot.bar(rot=90,figsize=figsize)\n",
        "  elif sort_asc:\n",
        "    df_sorted_asc=df.sort_values(list_labels[0], ascending=True)\n",
        "    df_sorted_asc[:plot_first_few].plot.bar(rot=90,figsize=figsize)\n",
        "  elif (sort_desc==False and sort_asc==False):\n",
        "    df[:plot_first_few].plot.bar(rot=90,figsize=figsize)\n",
        "\n",
        "\n",
        "# function to create dict for number of times states sprime were not accepted in MCMC iterations\n",
        "def fn_numtimes_bitstring_not_accepted(list_after_trsn, list_after_accept, bitstring):\n",
        "\n",
        "  where_sprime_is_bitstr=list(np.where( np.array(list_after_trsn) == bitstring)[0])\n",
        "  where_bitstr_not_accepted=[k for k in where_sprime_is_bitstr if list_after_accept[k]!=bitstring]\n",
        "  numtimes_sprime_is_bitstring= len(where_sprime_is_bitstr)\n",
        "  numtimes_bitstring_not_accepted=len(where_bitstr_not_accepted)\n",
        "  return numtimes_bitstring_not_accepted, numtimes_sprime_is_bitstring\n",
        "\n",
        "def fn_states_not_accepted(list_states:list, list_after_trsn:list, list_after_accept:list):\n",
        "  list_numtimes_state_not_accepted=[fn_numtimes_bitstring_not_accepted(list_after_trsn, list_after_accept,k)[0] for k in list_states]\n",
        "  list_numtimes_sprime_is_state=[fn_numtimes_bitstring_not_accepted(list_after_trsn, list_after_accept,k)[1] for k in list_states]\n",
        "  dict_numtimes_states_not_accepted=dict(zip(list_states, list_numtimes_state_not_accepted))\n",
        "  dict_numtimes_sprime_is_state=dict(zip(list_states, list_numtimes_sprime_is_state))\n",
        "  return dict_numtimes_states_not_accepted, dict_numtimes_sprime_is_state\n",
        "\n",
        "# hamming distance between 2 strings\n",
        "def hamming_dist(str1, str2):\n",
        "    i = 0\n",
        "    count = 0\n",
        "    while(i < len(str1)):\n",
        "        if(str1[i] != str2[i]):\n",
        "            count += 1\n",
        "        i += 1\n",
        "    return count\n"
      ]
    },
    {
      "cell_type": "code",
      "execution_count": 9,
      "metadata": {
        "id": "P0h_vOEQs3OD"
      },
      "outputs": [],
      "source": [
        "states_nbit=states(num_spins=n_spins)\n",
        "\n",
        "# Actual_probability distribution\n",
        "transits_bltz = dict( [ ( state, model.get_boltzmann_prob(state) ) for state in states_nbit ] )\n",
        "rqd_sum=np.sum(np.array(list(transits_bltz.values())))\n",
        "#print(rqd_sum)\n",
        "prob_vals=list(np.array(list(transits_bltz.values()))*(1./rqd_sum))\n",
        "boltz_prob_distn=value_sorted_dict( dict(zip(states_nbit, prob_vals )), reverse=True )"
      ]
    },
    {
      "cell_type": "markdown",
      "metadata": {
        "id": "IekfaYLOD_67"
      },
      "source": [
        "## Run classical MCMC"
      ]
    },
    {
      "cell_type": "code",
      "source": [
        "def hamming_dist_related_counts(num_spins:int,sprime_each_iter:list, states_accepted_each_iter:list):\n",
        "\n",
        "  dict_counts_states_hamming_dist=dict(zip(list(range(0,num_spins+1)), [0]*(num_spins+1) ))\n",
        "  ham_dist_s_and_sprime=np.array([hamming_dist(states_accepted_each_iter[j], sprime_each_iter[j+1]) for j in range(0,len(states_accepted_each_iter)-1) ])\n",
        "  for k in list(dict_counts_states_hamming_dist.keys()):\n",
        "    dict_counts_states_hamming_dist[k]=np.count_nonzero(ham_dist_s_and_sprime == k) \n",
        "  \n",
        "  assert sum(list(dict_counts_states_hamming_dist.values()))== len(sprime_each_iter)-1\n",
        "  return dict_counts_states_hamming_dist\n",
        "\n",
        "def energy_difference_related_counts(num_spins, sprime_each_iter:list, states_accepted_each_iter:list, model_in):\n",
        "\n",
        "  energy_diff_s_and_sprime=np.array([abs(model.get_energy(sprime_each_iter[j])-model.get_energy(states_accepted_each_iter[j+1])) for j in range(0,len(sprime_each_iter)-1)])\n",
        "  return energy_diff_s_and_sprime"
      ],
      "metadata": {
        "id": "ej3ganq3tsRV"
      },
      "execution_count": 10,
      "outputs": []
    },
    {
      "cell_type": "code",
      "execution_count": 11,
      "metadata": {
        "colab": {
          "base_uri": "https://localhost:8080/"
        },
        "id": "QJGVQcuVD_Cf",
        "outputId": "5ded32a4-96d6-4197-801d-082d0288ddd4"
      },
      "outputs": [
        {
          "output_type": "stream",
          "name": "stderr",
          "text": [
            "\r  0%|          | 0/4 [00:00<?, ?it/s]"
          ]
        },
        {
          "output_type": "stream",
          "name": "stdout",
          "text": [
            "starting with:  00110111\n"
          ]
        },
        {
          "output_type": "stream",
          "name": "stderr",
          "text": [
            "\n",
            "  0%|          | 0/800 [00:00<?, ?it/s]\u001b[A\n",
            " 28%|██▊       | 225/800 [00:00<00:00, 2244.06it/s]\u001b[A\n",
            "100%|██████████| 800/800 [00:00<00:00, 2996.28it/s]\n",
            " 25%|██▌       | 1/4 [00:00<00:00,  3.25it/s]"
          ]
        },
        {
          "output_type": "stream",
          "name": "stdout",
          "text": [
            "starting with:  10010000\n"
          ]
        },
        {
          "output_type": "stream",
          "name": "stderr",
          "text": [
            "\n",
            "  0%|          | 0/800 [00:00<?, ?it/s]\u001b[A\n",
            "100%|██████████| 800/800 [00:00<00:00, 3647.09it/s]\n",
            " 50%|█████     | 2/4 [00:00<00:00,  3.56it/s]"
          ]
        },
        {
          "output_type": "stream",
          "name": "stdout",
          "text": [
            "starting with:  01100100\n"
          ]
        },
        {
          "output_type": "stream",
          "name": "stderr",
          "text": [
            "\n",
            "  0%|          | 0/800 [00:00<?, ?it/s]\u001b[A\n",
            "100%|██████████| 800/800 [00:00<00:00, 4129.73it/s]\n",
            " 75%|███████▌  | 3/4 [00:00<00:00,  3.84it/s]"
          ]
        },
        {
          "output_type": "stream",
          "name": "stdout",
          "text": [
            "starting with:  00000011\n"
          ]
        },
        {
          "output_type": "stream",
          "name": "stderr",
          "text": [
            "\n",
            "  0%|          | 0/800 [00:00<?, ?it/s]\u001b[A\n",
            "100%|██████████| 800/800 [00:00<00:00, 4199.86it/s]\n",
            "100%|██████████| 4/4 [00:01<00:00,  3.86it/s]\n"
          ]
        }
      ],
      "source": [
        "# symmetric uniform transition matrix for uniform transition rule\n",
        "num_spins=n_spins#4\n",
        "num_elems=2**(num_spins)\n",
        "# transit_mat=np.ones((num_elems,num_elems))*(1./(2*num_elems))# in general case transit matrix could be entirely different\n",
        "# np.fill_diagonal(transit_mat, 1./2)\n",
        "\n",
        "# Run MCMC with uniform random transition strategy\n",
        "N_hops=800\n",
        "dict_seperate_chains_states_distn_mcmc={}\n",
        "dict_seperate_chains_sprime_mcmc={}\n",
        "dict_seperate_chains_accepted_mcmc={}\n",
        "dict_seperate_chains_counts_based_on_hamming_dist={}\n",
        "dict_seperate_chains_energy_diff_s_and_sprime={}# for plotting histogram\n",
        "num_seperate_mcmc_chains=4\n",
        "\n",
        "for chain_num in tqdm(range(0,num_seperate_mcmc_chains)):\n",
        "    dict_states_mcmc, cl_mcmc_after_trsn, cl_mcmc_after_accept =classical_mcmc(N_hops, num_spins, num_elems,model, return_last_n_states=500, return_both_classical_and_quantum_steps=True)\n",
        "    dict_states_mcmc_sorted_desc=value_sorted_dict(dict_states_mcmc, reverse=True)\n",
        "\n",
        "    dict_seperate_chains_states_distn_mcmc[chain_num]=dict_states_mcmc_sorted_desc\n",
        "    dict_seperate_chains_sprime_mcmc[chain_num]=cl_mcmc_after_trsn\n",
        "    dict_seperate_chains_accepted_mcmc[chain_num]=cl_mcmc_after_accept\n",
        "    dict_seperate_chains_energy_diff_s_and_sprime[chain_num]=energy_difference_related_counts(num_spins, cl_mcmc_after_trsn, cl_mcmc_after_accept, model_in=model)\n",
        "    dict_seperate_chains_counts_based_on_hamming_dist[chain_num]=hamming_dist_related_counts(num_spins, cl_mcmc_after_trsn, cl_mcmc_after_accept)"
      ]
    },
    {
      "cell_type": "code",
      "source": [
        "dict_seperate_chains_counts_based_on_hamming_dist"
      ],
      "metadata": {
        "colab": {
          "base_uri": "https://localhost:8080/"
        },
        "id": "cZpDuh55-apK",
        "outputId": "8c3e47d8-a14f-481d-e2af-6e56f6e1c166"
      },
      "execution_count": 12,
      "outputs": [
        {
          "output_type": "execute_result",
          "data": {
            "text/plain": [
              "{0: {0: 7, 1: 22, 2: 92, 3: 171, 4: 227, 5: 162, 6: 87, 7: 30, 8: 1},\n",
              " 1: {0: 2, 1: 29, 2: 81, 3: 176, 4: 203, 5: 190, 6: 85, 7: 29, 8: 4},\n",
              " 2: {0: 4, 1: 25, 2: 82, 3: 184, 4: 204, 5: 194, 6: 80, 7: 21, 8: 5},\n",
              " 3: {0: 1, 1: 20, 2: 84, 3: 176, 4: 226, 5: 172, 6: 95, 7: 24, 8: 1}}"
            ]
          },
          "metadata": {},
          "execution_count": 12
        }
      ]
    },
    {
      "cell_type": "code",
      "source": [
        "for i in range(0,num_seperate_mcmc_chains):\n",
        "  mcmc_chain_num=i\n",
        "  plt.figure()\n",
        "  plt.hist(dict_seperate_chains_energy_diff_s_and_sprime[mcmc_chain_num])"
      ],
      "metadata": {
        "colab": {
          "base_uri": "https://localhost:8080/",
          "height": 1000
        },
        "id": "mEjcu5Mi-d_D",
        "outputId": "f0bbc373-d358-4381-f9ae-63f08a8232cc"
      },
      "execution_count": 13,
      "outputs": [
        {
          "output_type": "display_data",
          "data": {
            "text/plain": [
              "<Figure size 432x288 with 1 Axes>"
            ],
            "image/png": "[encoded data removed]"
          },
          "metadata": {
            "needs_background": "light"
          }
        },
        {
          "output_type": "display_data",
          "data": {
            "text/plain": [
              "<Figure size 432x288 with 1 Axes>"
            ],
            "image/png": "[encoded data removed]"
          },
          "metadata": {
            "needs_background": "light"
          }
        },
        {
          "output_type": "display_data",
          "data": {
            "text/plain": [
              "<Figure size 432x288 with 1 Axes>"
            ],
            "image/png": "[encoded data removed]"
          },
          "metadata": {
            "needs_background": "light"
          }
        },
        {
          "output_type": "display_data",
          "data": {
            "text/plain": [
              "<Figure size 432x288 with 1 Axes>"
            ],
            "image/png": "[encoded data removed]"
          },
          "metadata": {
            "needs_background": "light"
          }
        }
      ]
    },
    {
      "cell_type": "code",
      "execution_count": 14,
      "metadata": {
        "colab": {
          "base_uri": "https://localhost:8080/"
        },
        "id": "MOte0CEAs3OG",
        "outputId": "30397998-8034-4c33-ba0b-38e8d43a9b40"
      },
      "outputs": [
        {
          "output_type": "stream",
          "name": "stderr",
          "text": [
            "100%|██████████| 799/799 [00:01<00:00, 581.27it/s]\n",
            "100%|██████████| 799/799 [00:01<00:00, 602.05it/s]\n",
            "100%|██████████| 799/799 [00:01<00:00, 581.72it/s]\n",
            "100%|██████████| 799/799 [00:01<00:00, 612.34it/s]\n"
          ]
        }
      ],
      "source": [
        "### data for plotting running average magnetization 5 cases seperately:\n",
        "first_few=900\n",
        "#cl_running_avg_magzn=[running_avg_magnetization(list_states_mcmc=dict_seperate_chains_accepted_mcmc[m][:first_few+1]) for m in range(0,num_seperate_mcmc_chains)]\n",
        "dict_for_df_running_avg_seperate_mcmc={}\n",
        "for m in range(0, num_seperate_mcmc_chains):\n",
        "  dict_for_df_running_avg_seperate_mcmc[m]=list(running_avg_magnetization(list_states_mcmc=dict_seperate_chains_accepted_mcmc[m][:first_few+1]).values())\n",
        "\n",
        "running_avg_df=pd.DataFrame(dict_for_df_running_avg_seperate_mcmc)\n",
        "mean_magnetization=running_avg_df.mean(axis=1)# mean taken over all seperate mcmc chains\n",
        "\n",
        "# plt.figure(figsize=(10,7))\n",
        "# magnetization_of_all_states=dict_magnetization_of_all_states(states_nbit)\n",
        "# actual_avg_mag=avg(dict_probabilities=boltz_prob_distn, dict_observable_val_at_states=magnetization_of_all_states)\n",
        "# plt.plot(mean_magnetization,\":\" ,label=\"Cl mcmc\")\n",
        "# plt.axhline(y=actual_avg_mag,linestyle=\"-\", color=\"k\" ,label=\"Actual\")\n",
        "# plt.legend()"
      ]
    },
    {
      "cell_type": "code",
      "execution_count": 15,
      "metadata": {
        "id": "z2lTXaPG1To_"
      },
      "outputs": [],
      "source": [
        "# # get actual probability distribution\n",
        "# transits_bltz = dict( [ ( state, model.get_boltzmann_prob(state) ) for state in states_nbit ] )\n",
        "# # plot actual prob distribution as well as one obtained from MCMC\n",
        "# #dict_states_mcmc_plot=dict(zip(list(range(0,2**(num_spins))), list(dict_states_mcmc.values()) ))\n",
        "# plot_histogram( [boltz_prob_distn, dict_states_mcmc] , figsize=(20, 7), legend= ['model', 'MCMC-uniform'], bar_labels=False, sort=\"value_desc\")"
      ]
    },
    {
      "cell_type": "markdown",
      "metadata": {
        "id": "A2r85OtSAq15"
      },
      "source": [
        "## Run quantum enhanced MCMC"
      ]
    },
    {
      "cell_type": "code",
      "execution_count": null,
      "metadata": {
        "id": "YzHqeUOTAq15"
      },
      "outputs": [],
      "source": [
        "# symmetric uniform transition matrix for uniform transition rule: tho tbh I dont need it\n",
        "num_spins=n_spins#4\n",
        "num_elems=2**(num_spins)\n",
        "# transit_mat=np.ones((num_elems,num_elems))*(1./(2*num_elems))# in general case transit matrix could be entirely different\n",
        "# np.fill_diagonal(transit_mat, 1./2)\n",
        "\n",
        "dict_quant_seperate_chains_states_distn_mcmc={}\n",
        "dict_quant_seperate_chains_sprime_mcmc={}\n",
        "dict_quant_seperate_chains_accepted_mcmc={}\n",
        "dict_quant_seperate_chains_counts_based_on_hamming_dist={}\n",
        "dict_quant_seperate_chains_energy_diff_s_and_sprime={}# for plotting histogram\n",
        "num_seperate_mcmc_chains=4\n",
        "\n",
        "# Run MCMC with Quantum evolution based transition strategy\n",
        "N_hops=800\n",
        "\n",
        "for chain_num in tqdm(range(0,num_seperate_mcmc_chains)):\n",
        "    dict_states_quantum_mcmc, quant_mcmc_after_trsn, quant_mcmc_after_accept =quantum_enhanced_mcmc(N_hops,num_spins, num_elems, model, alpha, num_trotter_steps=10,return_last_n_states=500,return_both_classical_and_quantum_steps=True)\n",
        "    dict_states_quantum_mcmc_sorted_desc=value_sorted_dict(dict_states_quantum_mcmc, reverse=True)\n",
        "\n",
        "    dict_quant_seperate_chains_states_distn_mcmc[chain_num]=dict_states_quantum_mcmc_sorted_desc\n",
        "    dict_quant_seperate_chains_sprime_mcmc[chain_num]=quant_mcmc_after_trsn\n",
        "    dict_quant_seperate_chains_accepted_mcmc[chain_num]=quant_mcmc_after_accept\n",
        "    dict_quant_seperate_chains_energy_diff_s_and_sprime[chain_num]=energy_difference_related_counts(num_spins, quant_mcmc_after_trsn, quant_mcmc_after_accept, model_in=model)\n",
        "    dict_quant_seperate_chains_counts_based_on_hamming_dist[chain_num]=hamming_dist_related_counts(num_spins, quant_mcmc_after_trsn, quant_mcmc_after_accept)"
      ]
    },
    {
      "cell_type": "code",
      "source": [
        "dict_quant_seperate_chains_counts_based_on_hamming_dist, dict_seperate_chains_counts_based_on_hamming_dist"
      ],
      "metadata": {
        "colab": {
          "base_uri": "https://localhost:8080/"
        },
        "id": "yjWeGQoamdB7",
        "outputId": "d6ce9b14-82ea-4bad-fa77-a47ef1cf51e4"
      },
      "execution_count": 17,
      "outputs": [
        {
          "output_type": "execute_result",
          "data": {
            "text/plain": [
              "({0: {0: 11, 1: 36, 2: 111, 3: 180, 4: 205, 5: 140, 6: 87, 7: 24, 8: 5},\n",
              "  1: {0: 12, 1: 42, 2: 117, 3: 203, 4: 184, 5: 147, 6: 69, 7: 21, 8: 4},\n",
              "  2: {0: 5, 1: 49, 2: 104, 3: 190, 4: 189, 5: 150, 6: 81, 7: 28, 8: 3},\n",
              "  3: {0: 6, 1: 40, 2: 121, 3: 166, 4: 192, 5: 172, 6: 72, 7: 24, 8: 6}},\n",
              " {0: {0: 7, 1: 22, 2: 92, 3: 171, 4: 227, 5: 162, 6: 87, 7: 30, 8: 1},\n",
              "  1: {0: 2, 1: 29, 2: 81, 3: 176, 4: 203, 5: 190, 6: 85, 7: 29, 8: 4},\n",
              "  2: {0: 4, 1: 25, 2: 82, 3: 184, 4: 204, 5: 194, 6: 80, 7: 21, 8: 5},\n",
              "  3: {0: 1, 1: 20, 2: 84, 3: 176, 4: 226, 5: 172, 6: 95, 7: 24, 8: 1}})"
            ]
          },
          "metadata": {},
          "execution_count": 17
        }
      ]
    },
    {
      "cell_type": "code",
      "source": [
        "### data for plotting running average magnetization 5 cases seperately:\n",
        "first_few=900\n",
        "#cl_running_avg_magzn=[running_avg_magnetization(list_states_mcmc=dict_seperate_chains_accepted_mcmc[m][:first_few+1]) for m in range(0,num_seperate_mcmc_chains)]\n",
        "dict_for_df_running_avg_seperate_quant_mcmc={}\n",
        "for m in range(0, num_seperate_mcmc_chains):\n",
        "  dict_for_df_running_avg_seperate_quant_mcmc[m]=list(running_avg_magnetization(list_states_mcmc=dict_quant_seperate_chains_accepted_mcmc[m][:first_few+1]).values())\n",
        "\n",
        "running_avg_df=pd.DataFrame(dict_for_df_running_avg_seperate_quant_mcmc)\n",
        "mean_magnetization_quant=running_avg_df.mean(axis=1)# mean taken over all seperate mcmc chains"
      ],
      "metadata": {
        "colab": {
          "base_uri": "https://localhost:8080/"
        },
        "id": "DFi3LcvJYaHM",
        "outputId": "f1546fa5-c480-4cdc-9234-0cb6e9632e79"
      },
      "execution_count": 18,
      "outputs": [
        {
          "output_type": "stream",
          "name": "stderr",
          "text": [
            "100%|██████████| 799/799 [00:01<00:00, 619.26it/s]\n",
            "100%|██████████| 799/799 [00:01<00:00, 619.40it/s]\n",
            "100%|██████████| 799/799 [00:01<00:00, 603.39it/s]\n",
            "100%|██████████| 799/799 [00:01<00:00, 622.30it/s]\n"
          ]
        }
      ]
    },
    {
      "cell_type": "code",
      "source": [
        "plt.figure(figsize=(10,7))\n",
        "magnetization_of_all_states=dict_magnetization_of_all_states(states_nbit)\n",
        "actual_avg_mag=avg(dict_probabilities=boltz_prob_distn, dict_observable_val_at_states=magnetization_of_all_states)\n",
        "plt.plot(mean_magnetization,\":\" ,label=\"Cl mcmc\")\n",
        "plt.plot(mean_magnetization_quant,\":\" ,label=\"Quant mcmc\")\n",
        "plt.axhline(y=actual_avg_mag,linestyle=\"-\", color=\"k\" ,label=\"Actual\")\n",
        "plt.legend()\n",
        "plt.title(\"Running average magnetization\")"
      ],
      "metadata": {
        "colab": {
          "base_uri": "https://localhost:8080/",
          "height": 462
        },
        "id": "B1yirEX4XzeK",
        "outputId": "1b49e65d-d628-4866-d6fa-8d81b98888ad"
      },
      "execution_count": 19,
      "outputs": [
        {
          "output_type": "execute_result",
          "data": {
            "text/plain": [
              "Text(0.5, 1.0, 'Running average magnetization')"
            ]
          },
          "metadata": {},
          "execution_count": 19
        },
        {
          "output_type": "display_data",
          "data": {
            "text/plain": [
              "<Figure size 720x504 with 1 Axes>"
            ],
            "image/png": "[encoded data removed]"
          },
          "metadata": {
            "needs_background": "light"
          }
        }
      ]
    },
    {
      "cell_type": "code",
      "source": [
        "for i in range(0,num_seperate_mcmc_chains):\n",
        "  mcmc_chain_num=i\n",
        "  plt.figure()\n",
        "  plt.hist(dict_quant_seperate_chains_energy_diff_s_and_sprime[mcmc_chain_num])"
      ],
      "metadata": {
        "colab": {
          "base_uri": "https://localhost:8080/",
          "height": 1000
        },
        "id": "LliStQpShPP5",
        "outputId": "f0962cc7-7d77-43b7-83bb-26760e89ceb1"
      },
      "execution_count": 20,
      "outputs": [
        {
          "output_type": "display_data",
          "data": {
            "text/plain": [
              "<Figure size 432x288 with 1 Axes>"
            ],
            "image/png": "[encoded data removed]"
          },
          "metadata": {
            "needs_background": "light"
          }
        },
        {
          "output_type": "display_data",
          "data": {
            "text/plain": [
              "<Figure size 432x288 with 1 Axes>"
            ],
            "image/png": "[encoded data removed]"
          },
          "metadata": {
            "needs_background": "light"
          }
        },
        {
          "output_type": "display_data",
          "data": {
            "text/plain": [
              "<Figure size 432x288 with 1 Axes>"
            ],
            "image/png": "[encoded data removed]"
          },
          "metadata": {
            "needs_background": "light"
          }
        },
        {
          "output_type": "display_data",
          "data": {
            "text/plain": [
              "<Figure size 432x288 with 1 Axes>"
            ],
            "image/png": "[encoded data removed]"
          },
          "metadata": {
            "needs_background": "light"
          }
        }
      ]
    },
    {
      "cell_type": "code",
      "source": [
        "### save data\n",
        "## quantum\n",
        "import numpy as np\n",
        "\n",
        "# Save\n",
        "np.save(\"j.npy\", J)\n",
        "np.save(\"h.npy\",h)\n",
        "np.save(\"dict_quant_seperate_chains_sprime_mcmc.npy\",dict_quant_seperate_chains_sprime_mcmc)\n",
        "np.save(\"dict_quant_seperate_chains_states_distn_mcmc.npy\",dict_quant_seperate_chains_states_distn_mcmc)\n",
        "np.save(\"dict_quant_seperate_chains_accepted_mcmc.npy\",dict_quant_seperate_chains_accepted_mcmc)\n",
        "np.save(\"dict_quant_seperate_chains_energy_diff_s_and_sprime.npy\",dict_quant_seperate_chains_energy_diff_s_and_sprime)\n",
        "np.save(\"dict_quant_seperate_chains_counts_based_on_hamming_dist.npy\",dict_quant_seperate_chains_counts_based_on_hamming_dist)\n",
        "\n",
        "# Load\n",
        "# read_dictionary = np.load('my_file.npy',allow_pickle='TRUE').item()\n",
        "# print(read_dictionary['hello']) # displays \"world\""
      ],
      "metadata": {
        "id": "ue1wcPWCoI4G"
      },
      "execution_count": 21,
      "outputs": []
    },
    {
      "cell_type": "markdown",
      "source": [
        "# Everything below is not relevant"
      ],
      "metadata": {
        "id": "DJLlCXwQhoxF"
      }
    },
    {
      "cell_type": "markdown",
      "metadata": {
        "id": "yiwCStvOGip-"
      },
      "source": [
        "### comparing number of accepted/rejected samples"
      ]
    },
    {
      "cell_type": "code",
      "execution_count": null,
      "metadata": {
        "id": "SMtohT9qG_TX"
      },
      "outputs": [],
      "source": [
        "# plt.figure(figsize=(20,7))\n",
        "# plt.plot(cl_mcmc_after_trsn, label=\"Classical Uniform\")\n",
        "# plt.plot(quant_mcmc_after_trsn, label=\"Quantum\")\n",
        "# plt.xlabel(\"MCMC iterations\")\n",
        "# plt.title(\"after transition\")\n",
        "plt.figure(figsize=(10,10))\n",
        "#quant_mcmc_after_trsn, quant_mcmc_after_accept\n",
        "plt.plot(cl_mcmc_after_accept, label=\"Classical Uniform\")\n",
        "plt.plot(quant_mcmc_after_accept,label=\"Quantum\")\n",
        "plt.xlabel(\"MCMC iterations\")\n",
        "plt.title(\"State accepted in i'th iteration\")\n",
        "plt.legend()"
      ]
    },
    {
      "cell_type": "markdown",
      "metadata": {
        "id": "7fkk5Z-9PAYb"
      },
      "source": [
        "Next task:\n",
        "For different problem instances, do the following:\n",
        "\n",
        "1. Running average: magnetization. **(DONE)**\n",
        "\n",
        "2.  For first few relevant states (high probability), check how many times were those states accepted/rejected out of total number of iterations considered for the prob distn. **(CODE IS COMPLETE, NOW WE NEED TO RUN SOME EXPERIEMENTS)**\n",
        "\n",
        "3. Overlap with the desired distribution.\n"
      ]
    },
    {
      "cell_type": "markdown",
      "metadata": {
        "id": "CKgLUKukDne0"
      },
      "source": [
        "## Running average; magnetization"
      ]
    },
    {
      "cell_type": "code",
      "execution_count": null,
      "metadata": {
        "colab": {
          "base_uri": "https://localhost:8080/"
        },
        "id": "atvmYeWL0hvO",
        "outputId": "33f110b2-d51c-40e7-9a5a-173191095d4f"
      },
      "outputs": [
        {
          "name": "stderr",
          "output_type": "stream",
          "text": [
            "100%|██████████| 599/599 [00:00<00:00, 843.07it/s]\n",
            "100%|██████████| 599/599 [00:00<00:00, 811.41it/s]\n"
          ]
        }
      ],
      "source": [
        "check_cl=running_avg_magnetization(list_states_mcmc=cl_mcmc_after_accept)\n",
        "check_quant=running_avg_magnetization(list_states_mcmc=quant_mcmc_after_accept)"
      ]
    },
    {
      "cell_type": "code",
      "execution_count": null,
      "metadata": {
        "colab": {
          "base_uri": "https://localhost:8080/",
          "height": 460
        },
        "id": "ynfCYeiS50wQ",
        "outputId": "e7d5e285-be38-440e-fed3-f35d6c8d6253"
      },
      "outputs": [
        {
          "data": {
            "text/plain": [
              "<matplotlib.legend.Legend at 0x7f308a901990>"
            ]
          },
          "execution_count": 24,
          "metadata": {},
          "output_type": "execute_result"
        },
        {
          "data": {
            "image/png": "[encoded data removed]",
            "text/plain": [
              "<Figure size 1440x504 with 1 Axes>"
            ]
          },
          "metadata": {
            "needs_background": "light"
          },
          "output_type": "display_data"
        }
      ],
      "source": [
        "plt.figure(figsize=(20,7))\n",
        "magnetization_of_all_states=dict_magnetization_of_all_states(states_nbit)\n",
        "actual_avg_mag=avg(dict_probabilities=boltz_prob_distn, dict_observable_val_at_states=magnetization_of_all_states)\n",
        "plt.axhline(y=actual_avg_mag,linestyle=\":\", color=\"k\" ,label=\"Actual\")\n",
        "plot_dict_of_running_avg_observable(check_cl, \"Cl MCMC- Uniform\")\n",
        "plot_dict_of_running_avg_observable(check_quant, \"Quantum\")\n",
        "plt.legend()"
      ]
    },
    {
      "cell_type": "markdown",
      "metadata": {
        "id": "sL_7qZNIEDeO"
      },
      "source": [
        "## Sampling related"
      ]
    },
    {
      "cell_type": "code",
      "execution_count": null,
      "metadata": {
        "id": "s2_o7fwB6-Fy"
      },
      "outputs": [],
      "source": [
        "# cl_mcmc_after_trsn, cl_mcmc_after_accept\n",
        "# quant_mcmc_after_trsn, quant_mcmc_after_accept \n",
        "aa,bb=fn_states_not_accepted(list_states=states_nbit, list_after_trsn=cl_mcmc_after_trsn, list_after_accept=cl_mcmc_after_accept)\n",
        "print(aa); print(bb)\n",
        "# fn_numtimes_bitstring_not_accepted(list_after_trsn=cl_mcmc_after_trsn, list_after_accept=cl_mcmc_after_accept,bitstring='0000')"
      ]
    },
    {
      "cell_type": "code",
      "execution_count": null,
      "metadata": {
        "id": "qP7XoMFnUgdr"
      },
      "outputs": [],
      "source": []
    },
    {
      "cell_type": "code",
      "execution_count": null,
      "metadata": {
        "id": "XTgDq37vKC61"
      },
      "outputs": [],
      "source": []
    }
  ],
  "metadata": {
    "colab": {
      "provenance": [],
      "include_colab_link": true
    },
    "kernelspec": {
      "display_name": "Python 3.8.8 ('base')",
      "language": "python",
      "name": "python3"
    },
    "language_info": {
      "codemirror_mode": {
        "name": "ipython",
        "version": 3
      },
      "file_extension": ".py",
      "mimetype": "text/x-python",
      "name": "python",
      "nbconvert_exporter": "python",
      "pygments_lexer": "ipython3",
      "version": "3.8.8"
    },
    "orig_nbformat": 4,
    "vscode": {
      "interpreter": {
        "hash": "184a4bfd18ed123440bfad7023e607e274d9f6c0bdada601c853a4367aa45839"
      }
    },
    "accelerator": "GPU"
  },
  "nbformat": 4,
  "nbformat_minor": 0
}