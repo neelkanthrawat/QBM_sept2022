{
  "cells": [
    {
      "cell_type": "markdown",
      "metadata": {
        "id": "view-in-github",
        "colab_type": "text"
      },
      "source": [
        "<a href=\"https://colab.research.google.com/github/neelkanthrawat/QBM_sept2022/blob/main/qbm_codes/qmcmc_trial_v0.2.ipynb\" target=\"_parent\"><img src=\"https://colab.research.google.com/assets/colab-badge.svg\" alt=\"Open In Colab\"/></a>"
      ]
    },
    {
      "cell_type": "code",
      "execution_count": 1,
      "metadata": {
        "id": "8j8VtbXvAq1r"
      },
      "outputs": [],
      "source": [
        "import numpy as np\n",
        "import matplotlib.pyplot as plt\n",
        "import pandas as pd\n",
        "from tqdm import tqdm\n",
        "from collections import Counter"
      ]
    },
    {
      "cell_type": "code",
      "execution_count": null,
      "metadata": {
        "id": "0Hz-A7mtA9Vi"
      },
      "outputs": [],
      "source": [
        "!pip install qiskit ipywidgets # while working on google colab!"
      ]
    },
    {
      "cell_type": "code",
      "execution_count": 3,
      "metadata": {
        "colab": {
          "base_uri": "https://localhost:8080/"
        },
        "id": "Zt6GDRoNAtZJ",
        "outputId": "0efc3acd-f565-4129-fff4-e9b057f1306e"
      },
      "outputs": [
        {
          "output_type": "stream",
          "name": "stdout",
          "text": [
            "--2022-10-09 15:23:56--  https://raw.githubusercontent.com/neelkanthrawat/QBM_sept2022/main/qbm_codes/qbm_utils.py\n",
            "Resolving raw.githubusercontent.com (raw.githubusercontent.com)... 185.199.108.133, 185.199.109.133, 185.199.110.133, ...\n",
            "Connecting to raw.githubusercontent.com (raw.githubusercontent.com)|185.199.108.133|:443... connected.\n",
            "HTTP request sent, awaiting response... 200 OK\n",
            "Length: 17062 (17K) [text/plain]\n",
            "Saving to: ‘qbm_utils.py’\n",
            "\n",
            "\rqbm_utils.py          0%[                    ]       0  --.-KB/s               \rqbm_utils.py        100%[===================>]  16.66K  --.-KB/s    in 0s      \n",
            "\n",
            "2022-10-09 15:23:57 (120 MB/s) - ‘qbm_utils.py’ saved [17062/17062]\n",
            "\n"
          ]
        }
      ],
      "source": [
        "# while working on google colab, run this cell\n",
        "!wget https://raw.githubusercontent.com/neelkanthrawat/QBM_sept2022/main/qbm_codes/qbm_utils.py"
      ]
    },
    {
      "cell_type": "code",
      "execution_count": 9,
      "metadata": {
        "id": "bZo97FWnAq1u"
      },
      "outputs": [],
      "source": [
        "from qbm_utils import *"
      ]
    },
    {
      "cell_type": "markdown",
      "metadata": {
        "id": "hd51eYqCs3N4"
      },
      "source": [
        "### Define your model"
      ]
    },
    {
      "cell_type": "markdown",
      "metadata": {
        "id": "51HJZt-pAq1w"
      },
      "source": [
        "### Some updated funcs"
      ]
    },
    {
      "cell_type": "code",
      "source": [
        "np.random.uniform(0,1)"
      ],
      "metadata": {
        "colab": {
          "base_uri": "https://localhost:8080/"
        },
        "id": "Ju3XUpZiZegj",
        "outputId": "2515b9f6-1afb-40fe-e48d-d58c13bd9f94"
      },
      "execution_count": 19,
      "outputs": [
        {
          "output_type": "execute_result",
          "data": {
            "text/plain": [
              "0.8611627140132007"
            ]
          },
          "metadata": {},
          "execution_count": 19
        }
      ]
    },
    {
      "cell_type": "code",
      "source": [
        "def classical_loop_accepting_state(s_init:str, s_prime:str,energy_s:float,energy_sprime:float,temp=1)->str:\n",
        "    '''  \n",
        "    Accepts the state sprime with probability A ( i.e. min(1,exp(-(E(s')-E(s))/ temp) ) \n",
        "    and s_init with probability 1-A\n",
        "    '''\n",
        "    delta_energy=energy_sprime-energy_s # E(s')-E(s)\n",
        "    exp_factor=np.exp(-delta_energy/temp)\n",
        "    acceptance=min(1,exp_factor)# for both QC case as well as uniform random strategy, the transition matrix Pij is symmetric!\n",
        "    #coin_flip=np.random.choice([True, False], p=[acceptance, 1-acceptance])\n",
        "    new_state=s_init\n",
        "    # if coin_flip:\n",
        "    #     new_state=s_prime\n",
        "    if acceptance>=np.random.uniform(0,1):\n",
        "      new_state=s_prime\n",
        "    return new_state"
      ],
      "metadata": {
        "id": "qFF026KKZABa"
      },
      "execution_count": 21,
      "outputs": []
    },
    {
      "cell_type": "code",
      "execution_count": 15,
      "metadata": {
        "id": "wqKR3qcaAq1y"
      },
      "outputs": [],
      "source": [
        "def classical_mcmc(N_hops:int, num_spins:int, num_elems:int, model, return_last_n_states=500, return_both=False, temp=1 ):\n",
        "    ''' \n",
        "    version 0.2\n",
        "    Args: \n",
        "    Nhops: Number of time you want to run mcmc\n",
        "    num_spins: number of spins\n",
        "    num_elems: 2**(num_spins)\n",
        "    model\n",
        "\n",
        "    Returns:\n",
        "    Last 'return_last_n_states' elements of states so collected (default value=500). one can then deduce the distribution from it! \n",
        "    '''\n",
        "    states=[]\n",
        "    current_state=f'{np.random.randint(0,num_elems):0{num_spins}b}'# bin_next_state=f'{next_state:0{num_spins}b}'\n",
        "    print(\"starting with: \", current_state) \n",
        "\n",
        "    ## initialiiise observables\n",
        "    #observable_dict = dict([ (elem, []) for elem in observables ])\n",
        "    list_after_transition=[]\n",
        "    list_after_acceptance_step=[]\n",
        "\n",
        "    for i in tqdm(range(0, N_hops)):\n",
        "        states.append(current_state)\n",
        "        # get sprime\n",
        "        s_prime=classical_transition(num_spins)\n",
        "        list_after_transition.append(s_prime)\n",
        "        # accept/reject s_prime \n",
        "        energy_s=model.get_energy(current_state)\n",
        "        energy_sprime=model.get_energy(s_prime)\n",
        "        next_state= classical_loop_accepting_state(current_state, s_prime, energy_s, energy_sprime,temp=temp)\n",
        "        current_state= next_state\n",
        "        list_after_acceptance_step.append(current_state)\n",
        "        ## reinitiate\n",
        "        qc_s=initialise_qc(n_spins=num_spins, bitstring=current_state)\n",
        "    \n",
        "    # returns dictionary of occurences for last \"return_last_n_states\" states\n",
        "    dict_count_return_last_n_states=Counter(states[-return_last_n_states:])\n",
        "    \n",
        "    if return_both: \n",
        "        to_return = dict_count_return_last_n_states, list_after_transition, list_after_acceptance_step\n",
        "    else: \n",
        "        to_return= dict_count_return_last_n_states \n",
        "    \n",
        "    return to_return"
      ]
    },
    {
      "cell_type": "code",
      "source": [
        "### quantum circuit for quant mcmc\n",
        "def initialise_qc(n_spins:int, bitstring:str):\n",
        "  '''\n",
        "  Initialises a quantum circuit with n_spins number of qubits in a state defined by \"bitstring\"\n",
        "  (Caution: Qiskit's indexing convention for qubits (order of tensor product) is different from the conventional textbook one!)  \n",
        "  '''\n",
        "\n",
        "  spins = QuantumRegister(n_spins, name= 'spin')\n",
        "  creg_final = ClassicalRegister(n_spins, name= 'creg_f')\n",
        "  qc_in = QuantumCircuit(spins, creg_final)\n",
        "\n",
        "  len_str_in=len(bitstring)\n",
        "  assert(len_str_in == len(qc_in.qubits)), \"len(bitstring) should be equal to number_of_qubits/spins\"\n",
        "\n",
        "  #print(\"qc_in.qubits: \", qc_in.qubits)\n",
        "  where_x_gate=[qc_in.qubits[len_str_in-1-i] for i in range(0,len(bitstring)) if bitstring[i]=='1']\n",
        "  if len(where_x_gate)!=0:\n",
        "    qc_in.x(where_x_gate)\n",
        "  return qc_in\n",
        "\n",
        "def fn_qc_h1(num_spins, gamma, alpha, h, delta_time):\n",
        "  ''' '''\n",
        "  from qiskit.extensions import UnitaryGate\n",
        "  a=gamma\n",
        "  #print(\"a:\",a)\n",
        "  b_list=[-(1-gamma)*alpha*hj for hj in h]\n",
        "  #print(\"first 2 bj: \", (b_list[0],b_list[1]))\n",
        "  #list_hermitian_ops=[a*XGate().to_matrix()+b_list[j]*ZGate().to_matrix() for j in range(0,num_spins)]\n",
        "  #list_unitaries=[UnitaryGate(HamiltonianGate(list_hermitian_ops[j], time=delta_time).to_matrix(), label=f\"exp(-ia{j}X+b{j}Z)\") for j in range(0, len(list_hermitian_ops))]\n",
        "  list_unitaries=[UnitaryGate(HamiltonianGate(a*XGate().to_matrix()+b_list[j]*ZGate().to_matrix(), time=delta_time).to_matrix(), label=f\"exp(-ia{j}X+b{j}Z)\") for j in range(0,num_spins)]\n",
        "  qc=QuantumCircuit(num_spins)\n",
        "  for j in range(0, num_spins):\n",
        "    qc.append(list_unitaries[j], [num_spins-1-j])\n",
        "  qc.barrier()\n",
        "  #print(\"qc is:\"); print(qc.draw())\n",
        "  return qc\n",
        "\n",
        "def fn_qc_h2(J, alpha, gamma, delta_time=0.8):\n",
        "  num_spins=np.shape(J)[0]\n",
        "  qc_for_evol_h2=QuantumCircuit(num_spins)\n",
        "  theta_list=[-2*J[j,j+1]*(1-gamma)*alpha*delta_time for j in range(0, num_spins-1)]\n",
        "  for j in range(0, num_spins-1):\n",
        "    qc_for_evol_h2.rzz(theta_list[j], qubit1=num_spins-1-j, qubit2=num_spins-1-(j+1))\n",
        "  #print(\"qc for fn_qc_h2 is:\"); print(qc_for_evol_h2.draw())\n",
        "  return qc_for_evol_h2\n",
        "\n",
        "def trottered_qc_for_transition(num_spins, qc_h1, qc_h2, num_trotter_steps):\n",
        "  qc_combine=QuantumCircuit(num_spins)\n",
        "  for i in range(0, num_trotter_steps-1):\n",
        "    qc_combine=qc_combine.compose(qc_h1)\n",
        "    qc_combine=qc_combine.compose(qc_h2)\n",
        "    qc_combine.barrier()\n",
        "  qc_combine=qc_combine.compose(qc_h1)\n",
        "  #print(\"trotter ckt:\"); print(qc_combine.draw())\n",
        "  return qc_combine\n",
        "\n",
        "def combine_2_qc(init_qc:QuantumCircuit, trottered_qc:QuantumCircuit):\n",
        "\n",
        "  num_spins=len(init_qc.qubits)\n",
        "  qc=QuantumCircuit(num_spins, num_spins)\n",
        "  qc=qc.compose(init_qc)\n",
        "  qc.barrier()\n",
        "  qc=qc.compose(trottered_qc)\n",
        "  return qc\n",
        "\n",
        "def run_qc_quantum_step(qc_initialised_to_s:QuantumCircuit, model:IsingEnergyFunction, alpha,n_spins:int)->str:\n",
        "\n",
        "    '''     \n",
        "    Takes in a qc initialized to some state \"s\". After performing unitary evolution U=exp(-iHt)\n",
        "    , circuit is measured once and returns the bitstring ,s', corresponding to the measured state .\n",
        "\n",
        "    Args:\n",
        "    qc_initialised_to_s\n",
        "    alpha:\n",
        "    num_trotter_steps: (default 10)\n",
        "    time: For how long you want to evolve.\n",
        "    '''\n",
        "\n",
        "    h = model.get_h()\n",
        "    J = model.get_J()\n",
        "\n",
        "    #init_qc=initialise_qc(n_spins=n_spins, bitstring='1'*n_spins)\n",
        "    gamma=np.round(np.random.uniform(0.25,0.6), decimals=2)\n",
        "    time=np.random.choice(list(range(2,20)))# earlier I had [2,10]\n",
        "    delta_time=0.8\n",
        "    num_trotter_steps=int(np.floor((time/delta_time)))\n",
        "    #print(\"num_trotter_steps:\", num_trotter_steps)\n",
        "    #print(f\"num troter steps: {num_trotter_steps}\")\n",
        "    qc_evol_h1=fn_qc_h1(n_spins, gamma, alpha, h, delta_time)\n",
        "    qc_evol_h2=fn_qc_h2(J, alpha, gamma, delta_time=delta_time)\n",
        "    trotter_ckt=trottered_qc_for_transition(n_spins,qc_evol_h1, qc_evol_h2, num_trotter_steps=num_trotter_steps)\n",
        "    qc_for_mcmc= combine_2_qc(qc_initialised_to_s, trotter_ckt)\n",
        "    #print(\"qc for mcmc:\"); print(qc_for_mcmc.draw())\n",
        "    #print(\"qc_for_mcmc: \", qc_for_mcmc.draw())\n",
        "\n",
        "    # run the circuit\n",
        "    #creg_final=ClassicalRegister(n_spins, name= 'creg_f')\n",
        "    num_shots=1\n",
        "    quantum_registers_for_spins=qc_for_mcmc.qregs[0]\n",
        "    classical_register=qc_for_mcmc.cregs[0]\n",
        "    qc_for_mcmc.measure(quantum_registers_for_spins,classical_register)\n",
        "    state_obtained_dict=execute(qc_for_mcmc, shots= num_shots, backend= qsm).result().get_counts()\n",
        "    state_obtained=list(state_obtained_dict.keys())[0]#since there is only one element\n",
        "    return state_obtained"
      ],
      "metadata": {
        "id": "aFJtLzt9_uQC"
      },
      "execution_count": 34,
      "outputs": []
    },
    {
      "cell_type": "code",
      "execution_count": 53,
      "metadata": {
        "id": "vXzV3CDwAq10"
      },
      "outputs": [],
      "source": [
        "def quantum_enhanced_mcmc(N_hops:int, num_spins:int,initial_state:str ,num_elems:int, model:IsingEnergyFunction, alpha, return_last_n_states=500, return_both=False, temp=1):\n",
        "    ''' \n",
        "    version 0.2\n",
        "    Args: \n",
        "    Nhops: Number of time you want to run mcmc\n",
        "    num_spins: number of spins\n",
        "    num_elems: 2**(num_spins)\n",
        "\n",
        "    Returns:\n",
        "    Last 'return_last_n_states' elements of states so collected (default value=500). one can then deduce the distribution from it! \n",
        "    '''\n",
        "    states=[]\n",
        "    current_state=f'{np.random.randint(0,num_elems):0{num_spins}b}'# bin_next_state=f'{next_state:0{num_spins}b}'\n",
        "    print(\"starting with: \", initial_state) \n",
        "    ## initialise quantum circuit to current_state\n",
        "    qc_s=initialise_qc(n_spins=num_spins, bitstring=current_state)\n",
        "    #print(\"qc_s is:\"); print(qc_s.draw())\n",
        "\n",
        "    ## intialise observables\n",
        "    #observable_dict = dict([ ( elem, []  ) for elem in observables ])\n",
        "    list_after_transition=[]\n",
        "    list_after_acceptance_step=[]\n",
        "\n",
        "    for i in tqdm(range(0, N_hops)):\n",
        "        #print(\"i: \", i)\n",
        "        states.append(current_state)\n",
        "        # get sprime\n",
        "        s_prime=run_qc_quantum_step(qc_initialised_to_s=qc_s, model= model, alpha=alpha, n_spins=num_spins)\n",
        "        list_after_transition.append(s_prime)\n",
        "        # accept/reject s_prime \n",
        "        energy_s=model.get_energy(current_state)\n",
        "        energy_sprime=model.get_energy(s_prime)\n",
        "        next_state= classical_loop_accepting_state(current_state, s_prime, energy_s, energy_sprime,temp=temp)\n",
        "        current_state=next_state\n",
        "        list_after_acceptance_step.append(current_state)\n",
        "\n",
        "        ## reinitiate\n",
        "        qc_s=initialise_qc(n_spins=num_spins, bitstring=current_state)\n",
        "      \n",
        "    dict_count_return_last_n_states=Counter(states[-return_last_n_states:])#dictionary of occurences for last \"return_last_n_states\" states\n",
        "\n",
        "    if return_both: \n",
        "      to_return= dict_count_return_last_n_states, list_after_transition, list_after_acceptance_step\n",
        "    else: \n",
        "      to_return= dict_count_return_last_n_states\n",
        "\n",
        "    return to_return"
      ]
    },
    {
      "cell_type": "markdown",
      "metadata": {
        "id": "fTvZqCVFs3OC"
      },
      "source": [
        "### Some new helper functions"
      ]
    },
    {
      "cell_type": "code",
      "execution_count": 10,
      "metadata": {
        "id": "jeeJADzzAq12"
      },
      "outputs": [],
      "source": [
        "# some new helper functions\n",
        "def states(num_spins:int)->list:\n",
        "    ''' \n",
        "    Returns all possible binary strings of length n=num_spins\n",
        "\n",
        "    Args:\n",
        "    num_spins: n length of the bitstring\n",
        "    Returns:\n",
        "    possible_states= list of all possible binary strings of length num_spins\n",
        "    '''\n",
        "    num_possible_states=2**(num_spins)\n",
        "    possible_states=[f'{k:0{num_spins}b}' for k in range(0,num_possible_states)]\n",
        "    return possible_states\n",
        "\n",
        "def magnetization_of_state(bitstring:str)->float:\n",
        "    '''  \n",
        "    Args:\n",
        "    bitstring: for eg: '010'\n",
        "    Returns:\n",
        "    magnetization for the given bitstring\n",
        "    '''\n",
        "    array=np.array(list(bitstring))\n",
        "    num_times_one=np.count_nonzero(array=='1')\n",
        "    num_times_zero=len(array)-num_times_one\n",
        "    magnetization=num_times_one-num_times_zero\n",
        "    return magnetization\n",
        "\n",
        "def dict_magnetization_of_all_states(list_all_possible_states:list)->dict:\n",
        "    '''\n",
        "    Returns magnetization for all unique states\n",
        "    \n",
        "    Args:\n",
        "    list_all_possible_states\n",
        "    Returns:\n",
        "    dict_magnetization={state(str): magnetization_value}\n",
        "    '''\n",
        "    list_mag_vals=[magnetization_of_state(state) for state in list_all_possible_states]\n",
        "    dict_magnetization=dict(zip(list_all_possible_states, list_mag_vals ))\n",
        "    #print(\"dict_magnetization:\"); print(dict_magnetization)\n",
        "    return dict_magnetization\n",
        "  \n",
        "def value_sorted_dict(dict_in, reverse=False):\n",
        "\n",
        "  sorted_dict={k: v for k, v in sorted(dict_in.items(), key=lambda item: item[1], reverse=reverse)}\n",
        "  return sorted_dict\n",
        "\n",
        "\n",
        "## enter samples, get normalised distn\n",
        "def get_distn(list_of_samples:list)-> dict:\n",
        "  '''   \n",
        "  Returns the dictionary of distn for input list_of_samples\n",
        "  '''\n",
        "  len_list=len(list_of_samples)\n",
        "  temp_dict=Counter(list_of_samples)\n",
        "  temp_prob_list=np.array(list(temp_dict.values()))*(1./len_list)\n",
        "  dict_to_return=dict(zip( list(temp_dict.keys()), temp_prob_list))\n",
        "  return dict_to_return\n",
        "\n",
        "\n",
        "## Average\n",
        "def avg(dict_probabilities:dict, dict_observable_val_at_states:dict):\n",
        "  ''' \n",
        "  Returns average of any observable of interest\n",
        "\n",
        "  Args:\n",
        "  dict_probabilities= {state: probability}\n",
        "  dict_observable_val_at_states={state (same as that of dict_probabilities): observable's value at that state}\n",
        "\n",
        "  Returns:\n",
        "  avg\n",
        "  '''\n",
        "  len_dict=len(dict_probabilities)\n",
        "  temp_array=np.zeros((len_dict,))\n",
        "  temp_list=[dict_probabilities[j]*dict_observable_val_at_states[j] for j in (list(dict_probabilities.keys())) ]\n",
        "  avg=np.mean(temp_list)\n",
        "  return avg\n",
        "\n",
        "### function to get running average of magnetization\n",
        "def running_avg_magnetization(list_states_mcmc:list):\n",
        "  ''' \n",
        "  Returns the running average magnetization \n",
        "\n",
        "  Args:\n",
        "  list_states_mcmc= List of states aceepted after each MCMC step\n",
        "  '''\n",
        "  len_iters_mcmc=len(list_states_mcmc)\n",
        "  running_avg_mag={}\n",
        "  for i in tqdm(range(1,len_iters_mcmc)):\n",
        "    temp_list=list_states_mcmc[:i]#[:i]\n",
        "    temp_prob=get_distn(temp_list)\n",
        "    dict_mag_states_in_temp_prob=dict_magnetization_of_all_states(temp_list)\n",
        "    running_avg_mag[i]=avg(temp_prob, dict_mag_states_in_temp_prob)\n",
        "  return running_avg_mag\n",
        "\n",
        "\n",
        "\n",
        "## Plotting related\n",
        "def plot_dict_of_running_avg_observable(dict_running_avg:dict, observable_legend_label:str):\n",
        "  plt.plot(list(dict_running_avg.keys()), list(dict_running_avg.values()),\"-\" ,label=observable_legend_label)\n",
        "  plt.xlabel(\"MCMC iterations\")\n",
        "\n",
        "def plot_bargraph_desc_order(desc_val_order_dict_in:dict, label:str, normalise_complete_data:bool=False,plot_first_few:int=0):\n",
        "  width=1.0\n",
        "  list_keys=list(desc_val_order_dict_in.keys())\n",
        "  list_vals=list(desc_val_order_dict_in.values())\n",
        "  if normalise_complete_data:\n",
        "    list_vals=np.divide(list_vals, sum(list_vals))#np.divide(list(vals), sum(vals))\n",
        "  if plot_first_few!=0:\n",
        "    plt.bar(list_keys[0:plot_first_few], list_vals[0:plot_first_few], label=label)\n",
        "  else:\n",
        "    plt.bar(list_keys, list_vals, label=label)\n",
        "  plt.xticks(rotation=45)\n",
        "\n",
        "def plot_multiple_bargraphs(list_of_dicts:list,list_labels:list,list_normalise:list ,plot_first_few,  sort_desc=False,sort_asc=False, figsize=(15,7)):\n",
        "  list_keys=list(list_of_dicts[0].keys())\n",
        "  dict_data={}\n",
        "  for i in range(0,len(list_labels)):\n",
        "    #list_vals=[list_of_dicts[i][j] for j in list_keys if j in list(list_of_dicts[i].keys()) else 0] #list(list_of_dicts[i].values())\n",
        "    list_vals=[list_of_dicts[i][j] if j in list(list_of_dicts[i].keys()) else 0 for j in list_keys]\n",
        "    if list_normalise[i]:\n",
        "      list_vals=np.divide(list_vals, sum(list_vals))\n",
        "    dict_data[list_labels[i]]=list_vals\n",
        "  df=pd.DataFrame(dict_data, index=list_keys)\n",
        "  if sort_desc:\n",
        "    df_sorted_desc=df.sort_values(list_labels[0], ascending=False)\n",
        "    df_sorted_desc[:plot_first_few].plot.bar(rot=90,figsize=figsize)\n",
        "  elif sort_asc:\n",
        "    df_sorted_asc=df.sort_values(list_labels[0], ascending=True)\n",
        "    df_sorted_asc[:plot_first_few].plot.bar(rot=90,figsize=figsize)\n",
        "  elif (sort_desc==False and sort_asc==False):\n",
        "    df[:plot_first_few].plot.bar(rot=90,figsize=figsize)\n",
        "\n",
        "\n",
        "# function to create dict for number of times states sprime were not accepted in MCMC iterations\n",
        "def fn_numtimes_bitstring_not_accepted(list_after_trsn, list_after_accept, bitstring):\n",
        "\n",
        "  where_sprime_is_bitstr=list(np.where( np.array(list_after_trsn) == bitstring)[0])\n",
        "  where_bitstr_not_accepted=[k for k in where_sprime_is_bitstr if list_after_accept[k]!=bitstring]\n",
        "  numtimes_sprime_is_bitstring= len(where_sprime_is_bitstr)\n",
        "  numtimes_bitstring_not_accepted=len(where_bitstr_not_accepted)\n",
        "  return numtimes_bitstring_not_accepted, numtimes_sprime_is_bitstring\n",
        "\n",
        "def fn_states_not_accepted(list_states:list, list_after_trsn:list, list_after_accept:list):\n",
        "  list_numtimes_state_not_accepted=[fn_numtimes_bitstring_not_accepted(list_after_trsn, list_after_accept,k)[0] for k in list_states]\n",
        "  list_numtimes_sprime_is_state=[fn_numtimes_bitstring_not_accepted(list_after_trsn, list_after_accept,k)[1] for k in list_states]\n",
        "  dict_numtimes_states_not_accepted=dict(zip(list_states, list_numtimes_state_not_accepted))\n",
        "  dict_numtimes_sprime_is_state=dict(zip(list_states, list_numtimes_sprime_is_state))\n",
        "  return dict_numtimes_states_not_accepted, dict_numtimes_sprime_is_state\n",
        "\n",
        "# hamming distance between 2 strings\n",
        "def hamming_dist(str1, str2):\n",
        "    i = 0\n",
        "    count = 0\n",
        "    while(i < len(str1)):\n",
        "        if(str1[i] != str2[i]):\n",
        "            count += 1\n",
        "        i += 1\n",
        "    return count\n",
        "  \n",
        "#\n",
        "def hamming_dist_related_counts(num_spins:int,sprime_each_iter:list, states_accepted_each_iter:list):\n",
        "\n",
        "  dict_counts_states_hamming_dist=dict(zip(list(range(0,num_spins+1)), [0]*(num_spins+1) ))\n",
        "  ham_dist_s_and_sprime=np.array([hamming_dist(states_accepted_each_iter[j], sprime_each_iter[j+1]) for j in range(0,len(states_accepted_each_iter)-1) ])\n",
        "  for k in list(dict_counts_states_hamming_dist.keys()):\n",
        "    dict_counts_states_hamming_dist[k]=np.count_nonzero(ham_dist_s_and_sprime == k) \n",
        "  \n",
        "  assert sum(list(dict_counts_states_hamming_dist.values()))== len(sprime_each_iter)-1\n",
        "  return dict_counts_states_hamming_dist\n",
        "\n",
        "def energy_difference_related_counts(num_spins, sprime_each_iter:list, states_accepted_each_iter:list, model_in):\n",
        "\n",
        "  energy_diff_s_and_sprime=np.array([abs(model.get_energy(sprime_each_iter[j])-model.get_energy(states_accepted_each_iter[j+1])) for j in range(0,len(sprime_each_iter)-1)])\n",
        "  return energy_diff_s_and_sprime\n"
      ]
    },
    {
      "cell_type": "markdown",
      "source": [
        "### Define the model"
      ],
      "metadata": {
        "id": "ry_wOwxX64q2"
      }
    },
    {
      "cell_type": "code",
      "source": [
        "# define the model\n",
        "## put n_spins even always\n",
        "n_spins = 8\n",
        "\n",
        "## construct problem Hamiltonian ##\n",
        "shape_of_J=(n_spins,n_spins)\n",
        "J =  np.random.randn(n_spins,n_spins)#np.random.uniform(low= -1, high= 1, size= (n_spins, n_spins) )\n",
        "J = 0.5 * (J + J.transpose() )\n",
        "h = np.random.randn(n_spins)#np.random.uniform(low= -1, high = 1, size= (n_spins))\n",
        "\n",
        "# instantiate the model\n",
        "model = IsingEnergyFunction(J, h)\n",
        "\n",
        "alpha = np.sqrt(n_spins) / np.sqrt( sum([J[i][j]**2 for i in range(n_spins) for j in range(i)]) + sum([h[j]**2 for j in range(n_spins)])  )\n",
        "\n",
        "states_nbit=states(num_spins=n_spins)\n",
        "temp=0.4\n",
        "# Actual_probability distribution\n",
        "transits_bltz = dict( [ ( state, model.get_boltzmann_prob(state, beta=1./temp) ) for state in states_nbit ] )\n",
        "rqd_sum=np.sum(np.array(list(transits_bltz.values())))\n",
        "#print(rqd_sum)\n",
        "prob_vals=list(np.array(list(transits_bltz.values()))*(1./rqd_sum))\n",
        "boltz_prob_distn=value_sorted_dict( dict(zip(states_nbit, prob_vals )), reverse=True )\n",
        "plot_bargraph_desc_order(boltz_prob_distn, label=\"analytical\", plot_first_few=10)"
      ],
      "metadata": {
        "colab": {
          "base_uri": "https://localhost:8080/",
          "height": 302
        },
        "id": "aK3AJa4A64Gu",
        "outputId": "34e7a216-f7ad-42f3-971e-beeb7b76f1f0"
      },
      "execution_count": 65,
      "outputs": [
        {
          "output_type": "display_data",
          "data": {
            "text/plain": [
              "<Figure size 432x288 with 1 Axes>"
            ],
            "image/png": "[encoded data removed]"
          },
          "metadata": {
            "needs_background": "light"
          }
        }
      ]
    },
    {
      "cell_type": "code",
      "source": [
        "#print(initialise_qc(n_spins=4, bitstring='1101').draw())\n",
        "# checking sth\n",
        "# init_qc=initialise_qc(n_spins=4, bitstring='1101')\n",
        "# run_qc_quantum_step(init_qc, model, alpha,n_spins=n_spins)"
      ],
      "metadata": {
        "id": "zyJNCKOR9VFZ"
      },
      "execution_count": 13,
      "outputs": []
    },
    {
      "cell_type": "markdown",
      "metadata": {
        "id": "IekfaYLOD_67"
      },
      "source": [
        "## Run classical MCMC"
      ]
    },
    {
      "cell_type": "code",
      "execution_count": 66,
      "metadata": {
        "colab": {
          "base_uri": "https://localhost:8080/"
        },
        "id": "QJGVQcuVD_Cf",
        "outputId": "8c70a2e3-7e06-4f0b-e5e5-467e14280015"
      },
      "outputs": [
        {
          "output_type": "stream",
          "name": "stderr",
          "text": [
            "\r  0%|          | 0/1 [00:00<?, ?it/s]"
          ]
        },
        {
          "output_type": "stream",
          "name": "stdout",
          "text": [
            "starting with:  10100010\n"
          ]
        },
        {
          "output_type": "stream",
          "name": "stderr",
          "text": [
            "\n",
            "  0%|          | 0/500 [00:00<?, ?it/s]\u001b[A\n",
            "100%|██████████| 500/500 [00:00<00:00, 3856.11it/s]\n",
            "100%|██████████| 1/1 [00:00<00:00,  5.95it/s]\n"
          ]
        }
      ],
      "source": [
        "# symmetric uniform transition matrix for uniform transition rule\n",
        "num_spins=n_spins#4\n",
        "num_elems=2**(num_spins)\n",
        "# transit_mat=np.ones((num_elems,num_elems))*(1./(2*num_elems))# in general case transit matrix could be entirely different\n",
        "# np.fill_diagonal(transit_mat, 1./2)\n",
        "\n",
        "# Run MCMC with uniform random transition strategy\n",
        "N_hops=500\n",
        "dict_seperate_chains_states_distn_mcmc={}\n",
        "dict_seperate_chains_sprime_mcmc={}\n",
        "dict_seperate_chains_accepted_mcmc={}\n",
        "dict_seperate_chains_counts_based_on_hamming_dist={}\n",
        "dict_seperate_chains_energy_diff_s_and_sprime={}# for plotting histogram\n",
        "num_seperate_mcmc_chains=1\n",
        "\n",
        "for chain_num in tqdm(range(0,num_seperate_mcmc_chains)):\n",
        "    dict_states_mcmc, cl_mcmc_after_trsn, cl_mcmc_after_accept =classical_mcmc(N_hops, num_spins, num_elems,model, return_last_n_states=N_hops-20,\n",
        "                                                                               return_both=True, temp=temp)\n",
        "    dict_states_mcmc_sorted_desc=value_sorted_dict(dict_states_mcmc, reverse=True)\n",
        "\n",
        "    dict_seperate_chains_states_distn_mcmc[chain_num]=dict_states_mcmc_sorted_desc\n",
        "    dict_seperate_chains_sprime_mcmc[chain_num]=cl_mcmc_after_trsn\n",
        "    dict_seperate_chains_accepted_mcmc[chain_num]=cl_mcmc_after_accept\n",
        "    dict_seperate_chains_energy_diff_s_and_sprime[chain_num]=energy_difference_related_counts(num_spins, cl_mcmc_after_trsn, cl_mcmc_after_accept, model_in=model)\n",
        "    dict_seperate_chains_counts_based_on_hamming_dist[chain_num]=hamming_dist_related_counts(num_spins, cl_mcmc_after_trsn, cl_mcmc_after_accept)"
      ]
    },
    {
      "cell_type": "code",
      "source": [
        "dict_seperate_chains_counts_based_on_hamming_dist"
      ],
      "metadata": {
        "colab": {
          "base_uri": "https://localhost:8080/"
        },
        "id": "cZpDuh55-apK",
        "outputId": "7da3538f-b10f-41d2-840d-c893c5760f75"
      },
      "execution_count": 67,
      "outputs": [
        {
          "output_type": "execute_result",
          "data": {
            "text/plain": [
              "{0: {0: 1, 1: 18, 2: 71, 3: 117, 4: 123, 5: 101, 6: 51, 7: 14, 8: 3}}"
            ]
          },
          "metadata": {},
          "execution_count": 67
        }
      ]
    },
    {
      "cell_type": "code",
      "source": [
        "for i in range(0,num_seperate_mcmc_chains):\n",
        "  mcmc_chain_num=i\n",
        "  plt.figure()\n",
        "  plt.hist(dict_seperate_chains_energy_diff_s_and_sprime[mcmc_chain_num], bins=12)"
      ],
      "metadata": {
        "colab": {
          "base_uri": "https://localhost:8080/",
          "height": 265
        },
        "id": "mEjcu5Mi-d_D",
        "outputId": "bca3ea20-c3b4-4fb8-c6aa-c186857dae73"
      },
      "execution_count": 68,
      "outputs": [
        {
          "output_type": "display_data",
          "data": {
            "text/plain": [
              "<Figure size 432x288 with 1 Axes>"
            ],
            "image/png": "[encoded data removed]"
          },
          "metadata": {
            "needs_background": "light"
          }
        }
      ]
    },
    {
      "cell_type": "code",
      "execution_count": 69,
      "metadata": {
        "colab": {
          "base_uri": "https://localhost:8080/"
        },
        "id": "MOte0CEAs3OG",
        "outputId": "131518a9-8aa0-4af3-e0d8-4c0bc8d3594f"
      },
      "outputs": [
        {
          "output_type": "stream",
          "name": "stderr",
          "text": [
            "100%|██████████| 499/499 [00:00<00:00, 794.15it/s]\n"
          ]
        }
      ],
      "source": [
        "### data for plotting running average magnetization 5 cases seperately:\n",
        "first_few=N_hops\n",
        "#cl_running_avg_magzn=[running_avg_magnetization(list_states_mcmc=dict_seperate_chains_accepted_mcmc[m][:first_few+1]) for m in range(0,num_seperate_mcmc_chains)]\n",
        "dict_for_df_running_avg_seperate_mcmc={}\n",
        "for m in range(0, num_seperate_mcmc_chains):\n",
        "  dict_for_df_running_avg_seperate_mcmc[m]=list(running_avg_magnetization(list_states_mcmc=dict_seperate_chains_accepted_mcmc[m][:first_few+1]).values())\n",
        "\n",
        "running_avg_df=pd.DataFrame(dict_for_df_running_avg_seperate_mcmc)\n",
        "mean_magnetization=running_avg_df.mean(axis=1)# mean taken over all seperate mcmc chains\n",
        "\n",
        "# plt.figure(figsize=(10,7))\n",
        "# magnetization_of_all_states=dict_magnetization_of_all_states(states_nbit)\n",
        "# actual_avg_mag=avg(dict_probabilities=boltz_prob_distn, dict_observable_val_at_states=magnetization_of_all_states)\n",
        "# plt.plot(mean_magnetization,\":\" ,label=\"Cl mcmc\")\n",
        "# plt.axhline(y=actual_avg_mag,linestyle=\"-\", color=\"k\" ,label=\"Actual\")\n",
        "# plt.legend()"
      ]
    },
    {
      "cell_type": "code",
      "execution_count": 140,
      "metadata": {
        "id": "z2lTXaPG1To_"
      },
      "outputs": [],
      "source": [
        "# # get actual probability distribution\n",
        "# transits_bltz = dict( [ ( state, model.get_boltzmann_prob(state) ) for state in states_nbit ] )\n",
        "# # plot actual prob distribution as well as one obtained from MCMC\n",
        "# #dict_states_mcmc_plot=dict(zip(list(range(0,2**(num_spins))), list(dict_states_mcmc.values()) ))\n",
        "# plot_histogram( [boltz_prob_distn, dict_states_mcmc] , figsize=(20, 7), legend= ['model', 'MCMC-uniform'], bar_labels=False, sort=\"value_desc\")"
      ]
    },
    {
      "cell_type": "markdown",
      "metadata": {
        "id": "A2r85OtSAq15"
      },
      "source": [
        "## Run quantum enhanced MCMC"
      ]
    },
    {
      "cell_type": "code",
      "execution_count": 70,
      "metadata": {
        "id": "YzHqeUOTAq15",
        "colab": {
          "base_uri": "https://localhost:8080/"
        },
        "outputId": "d46fd7af-0040-4ec7-fda1-cd25d82e4011"
      },
      "outputs": [
        {
          "output_type": "stream",
          "name": "stderr",
          "text": [
            "\r  0%|          | 0/1 [00:00<?, ?it/s]"
          ]
        },
        {
          "output_type": "stream",
          "name": "stdout",
          "text": [
            "starting with:  01110111\n"
          ]
        },
        {
          "output_type": "stream",
          "name": "stderr",
          "text": [
            "\n",
            "  0%|          | 0/500 [00:00<?, ?it/s]\u001b[A\n",
            "  0%|          | 1/500 [00:00<00:58,  8.49it/s]\u001b[A\n",
            "  0%|          | 2/500 [00:00<02:52,  2.89it/s]\u001b[A\n",
            "  1%|          | 3/500 [00:00<02:26,  3.40it/s]\u001b[A\n",
            "  1%|          | 4/500 [00:01<02:10,  3.80it/s]\u001b[A\n",
            "  1%|          | 5/500 [00:01<02:10,  3.79it/s]\u001b[A\n",
            "  1%|          | 6/500 [00:01<02:18,  3.56it/s]\u001b[A\n",
            "  1%|▏         | 7/500 [00:01<01:52,  4.39it/s]\u001b[A\n",
            "  2%|▏         | 8/500 [00:02<01:55,  4.27it/s]\u001b[A\n",
            "  2%|▏         | 9/500 [00:02<01:40,  4.88it/s]\u001b[A\n",
            "  2%|▏         | 10/500 [00:02<01:56,  4.22it/s]\u001b[A\n",
            "  2%|▏         | 12/500 [00:02<01:21,  5.97it/s]\u001b[A\n",
            "  3%|▎         | 14/500 [00:02<01:02,  7.84it/s]\u001b[A\n",
            "  3%|▎         | 16/500 [00:03<00:57,  8.36it/s]\u001b[A\n",
            "  4%|▎         | 18/500 [00:03<01:02,  7.68it/s]\u001b[A\n",
            "  4%|▍         | 19/500 [00:03<01:11,  6.76it/s]\u001b[A\n",
            "  4%|▍         | 20/500 [00:03<01:37,  4.90it/s]\u001b[A\n",
            "  4%|▍         | 21/500 [00:04<01:54,  4.20it/s]\u001b[A\n",
            "  4%|▍         | 22/500 [00:04<02:16,  3.49it/s]\u001b[A\n",
            "  5%|▍         | 23/500 [00:04<01:55,  4.14it/s]\u001b[A\n",
            "  5%|▍         | 24/500 [00:05<02:13,  3.56it/s]\u001b[A\n",
            "  5%|▌         | 25/500 [00:05<02:30,  3.15it/s]\u001b[A\n",
            "  5%|▌         | 26/500 [00:05<02:32,  3.11it/s]\u001b[A\n",
            "  5%|▌         | 27/500 [00:06<02:29,  3.16it/s]\u001b[A\n",
            "  6%|▌         | 28/500 [00:06<02:26,  3.22it/s]\u001b[A\n",
            "  6%|▌         | 30/500 [00:06<01:49,  4.29it/s]\u001b[A\n",
            "  6%|▋         | 32/500 [00:07<02:04,  3.75it/s]\u001b[A\n",
            "  7%|▋         | 34/500 [00:07<01:42,  4.55it/s]\u001b[A\n",
            "  7%|▋         | 35/500 [00:08<01:48,  4.30it/s]\u001b[A\n",
            "  7%|▋         | 36/500 [00:08<01:36,  4.82it/s]\u001b[A\n",
            "  7%|▋         | 37/500 [00:08<01:28,  5.22it/s]\u001b[A\n",
            "  8%|▊         | 39/500 [00:08<01:17,  5.91it/s]\u001b[A\n",
            "  8%|▊         | 40/500 [00:08<01:22,  5.60it/s]\u001b[A\n",
            "  8%|▊         | 41/500 [00:09<01:44,  4.38it/s]\u001b[A\n",
            "  8%|▊         | 42/500 [00:09<02:13,  3.44it/s]\u001b[A\n",
            "  9%|▉         | 44/500 [00:09<01:39,  4.59it/s]\u001b[A\n",
            "  9%|▉         | 45/500 [00:10<02:00,  3.79it/s]\u001b[A\n",
            "  9%|▉         | 47/500 [00:10<01:49,  4.14it/s]\u001b[A\n",
            " 10%|▉         | 48/500 [00:10<01:38,  4.57it/s]\u001b[A\n",
            " 10%|█         | 50/500 [00:11<01:48,  4.16it/s]\u001b[A\n",
            " 10%|█         | 51/500 [00:11<01:38,  4.57it/s]\u001b[A\n",
            " 10%|█         | 52/500 [00:11<01:41,  4.42it/s]\u001b[A\n",
            " 11%|█         | 53/500 [00:11<01:31,  4.88it/s]\u001b[A\n",
            " 11%|█         | 54/500 [00:12<01:35,  4.66it/s]\u001b[A\n",
            " 11%|█         | 56/500 [00:12<01:06,  6.72it/s]\u001b[A\n",
            " 11%|█▏        | 57/500 [00:12<01:04,  6.88it/s]\u001b[A\n",
            " 12%|█▏        | 58/500 [00:12<01:35,  4.63it/s]\u001b[A\n",
            " 12%|█▏        | 59/500 [00:12<01:26,  5.12it/s]\u001b[A\n",
            " 12%|█▏        | 60/500 [00:13<01:20,  5.45it/s]\u001b[A\n",
            " 12%|█▏        | 61/500 [00:13<01:31,  4.78it/s]\u001b[A\n",
            " 12%|█▏        | 62/500 [00:13<01:23,  5.28it/s]\u001b[A\n",
            " 13%|█▎        | 63/500 [00:13<01:52,  3.89it/s]\u001b[A\n",
            " 13%|█▎        | 65/500 [00:14<01:20,  5.40it/s]\u001b[A\n",
            " 13%|█▎        | 66/500 [00:14<01:32,  4.68it/s]\u001b[A\n",
            " 13%|█▎        | 67/500 [00:14<01:26,  4.99it/s]\u001b[A\n",
            " 14%|█▎        | 68/500 [00:14<01:19,  5.43it/s]\u001b[A\n",
            " 14%|█▍        | 69/500 [00:14<01:17,  5.57it/s]\u001b[A\n",
            " 14%|█▍        | 70/500 [00:15<01:14,  5.81it/s]\u001b[A\n",
            " 14%|█▍        | 71/500 [00:15<01:28,  4.84it/s]\u001b[A\n",
            " 14%|█▍        | 72/500 [00:15<01:23,  5.12it/s]\u001b[A\n",
            " 15%|█▍        | 73/500 [00:15<01:19,  5.39it/s]\u001b[A\n",
            " 15%|█▍        | 74/500 [00:16<01:51,  3.82it/s]\u001b[A\n",
            " 15%|█▌        | 75/500 [00:16<02:08,  3.31it/s]\u001b[A\n",
            " 15%|█▌        | 76/500 [00:16<02:11,  3.21it/s]\u001b[A\n",
            " 15%|█▌        | 77/500 [00:17<02:07,  3.31it/s]\u001b[A\n",
            " 16%|█▌        | 78/500 [00:17<01:49,  3.86it/s]\u001b[A\n",
            " 16%|█▌        | 80/500 [00:17<01:28,  4.75it/s]\u001b[A\n",
            " 16%|█▌        | 81/500 [00:17<01:45,  3.97it/s]\u001b[A\n",
            " 17%|█▋        | 83/500 [00:18<01:36,  4.31it/s]\u001b[A\n",
            " 17%|█▋        | 84/500 [00:18<01:54,  3.62it/s]\u001b[A\n",
            " 17%|█▋        | 85/500 [00:19<02:02,  3.39it/s]\u001b[A\n",
            " 17%|█▋        | 86/500 [00:19<01:51,  3.72it/s]\u001b[A\n",
            " 17%|█▋        | 87/500 [00:19<01:59,  3.44it/s]\u001b[A\n",
            " 18%|█▊        | 88/500 [00:20<02:08,  3.22it/s]\u001b[A\n",
            " 18%|█▊        | 89/500 [00:20<02:27,  2.78it/s]\u001b[A\n",
            " 18%|█▊        | 90/500 [00:20<02:25,  2.81it/s]\u001b[A\n",
            " 18%|█▊        | 91/500 [00:21<02:25,  2.80it/s]\u001b[A\n",
            " 18%|█▊        | 92/500 [00:21<02:19,  2.93it/s]\u001b[A\n",
            " 19%|█▊        | 93/500 [00:21<02:16,  2.99it/s]\u001b[A\n",
            " 19%|█▉        | 94/500 [00:22<02:07,  3.18it/s]\u001b[A\n",
            " 19%|█▉        | 95/500 [00:22<02:23,  2.82it/s]\u001b[A\n",
            " 19%|█▉        | 97/500 [00:22<01:49,  3.68it/s]\u001b[A\n",
            " 20%|█▉        | 98/500 [00:23<01:38,  4.08it/s]\u001b[A\n",
            " 20%|█▉        | 99/500 [00:23<01:53,  3.54it/s]\u001b[A\n",
            " 20%|██        | 100/500 [00:23<02:08,  3.12it/s]\u001b[A\n",
            " 20%|██        | 101/500 [00:24<01:50,  3.61it/s]\u001b[A\n",
            " 21%|██        | 103/500 [00:24<01:23,  4.78it/s]\u001b[A\n",
            " 21%|██        | 104/500 [00:24<01:29,  4.42it/s]\u001b[A\n",
            " 21%|██        | 105/500 [00:24<01:37,  4.05it/s]\u001b[A\n",
            " 21%|██        | 106/500 [00:25<01:29,  4.41it/s]\u001b[A\n",
            " 21%|██▏       | 107/500 [00:25<01:48,  3.63it/s]\u001b[A\n",
            " 22%|██▏       | 108/500 [00:25<01:46,  3.66it/s]\u001b[A\n",
            " 22%|██▏       | 109/500 [00:26<01:42,  3.82it/s]\u001b[A\n",
            " 22%|██▏       | 110/500 [00:26<01:53,  3.44it/s]\u001b[A\n",
            " 22%|██▏       | 111/500 [00:26<02:15,  2.88it/s]\u001b[A\n",
            " 22%|██▏       | 112/500 [00:27<02:11,  2.94it/s]\u001b[A\n",
            " 23%|██▎       | 113/500 [00:27<01:48,  3.57it/s]\u001b[A\n",
            " 23%|██▎       | 114/500 [00:27<01:57,  3.29it/s]\u001b[A\n",
            " 23%|██▎       | 115/500 [00:28<02:02,  3.16it/s]\u001b[A\n",
            " 23%|██▎       | 116/500 [00:28<01:46,  3.61it/s]\u001b[A\n",
            " 23%|██▎       | 117/500 [00:28<01:57,  3.25it/s]\u001b[A\n",
            " 24%|██▎       | 118/500 [00:28<01:51,  3.44it/s]\u001b[A\n",
            " 24%|██▍       | 119/500 [00:29<02:18,  2.76it/s]\u001b[A\n",
            " 24%|██▍       | 120/500 [00:29<02:02,  3.11it/s]\u001b[A\n",
            " 24%|██▍       | 121/500 [00:29<01:37,  3.88it/s]\u001b[A\n",
            " 24%|██▍       | 122/500 [00:30<02:01,  3.10it/s]\u001b[A\n",
            " 25%|██▍       | 123/500 [00:30<01:44,  3.61it/s]\u001b[A\n",
            " 25%|██▍       | 124/500 [00:30<01:48,  3.46it/s]\u001b[A\n",
            " 25%|██▌       | 125/500 [00:30<01:41,  3.69it/s]\u001b[A\n",
            " 25%|██▌       | 126/500 [00:31<02:00,  3.12it/s]\u001b[A\n",
            " 25%|██▌       | 127/500 [00:31<01:40,  3.73it/s]\u001b[A\n",
            " 26%|██▌       | 128/500 [00:31<01:27,  4.24it/s]\u001b[A\n",
            " 26%|██▌       | 129/500 [00:31<01:17,  4.79it/s]\u001b[A\n",
            " 26%|██▌       | 130/500 [00:32<01:45,  3.52it/s]\u001b[A\n",
            " 26%|██▌       | 131/500 [00:32<01:55,  3.20it/s]\u001b[A\n",
            " 27%|██▋       | 133/500 [00:32<01:16,  4.79it/s]\u001b[A\n",
            " 27%|██▋       | 134/500 [00:33<01:37,  3.75it/s]\u001b[A\n",
            " 27%|██▋       | 135/500 [00:33<01:56,  3.13it/s]\u001b[A\n",
            " 27%|██▋       | 136/500 [00:34<02:09,  2.81it/s]\u001b[A\n",
            " 27%|██▋       | 137/500 [00:34<02:11,  2.75it/s]\u001b[A\n",
            " 28%|██▊       | 138/500 [00:35<02:27,  2.46it/s]\u001b[A\n",
            " 28%|██▊       | 139/500 [00:35<02:25,  2.49it/s]\u001b[A\n",
            " 28%|██▊       | 140/500 [00:35<02:00,  2.98it/s]\u001b[A\n",
            " 28%|██▊       | 141/500 [00:36<02:10,  2.75it/s]\u001b[A\n",
            " 28%|██▊       | 142/500 [00:36<01:43,  3.45it/s]\u001b[A\n",
            " 29%|██▊       | 143/500 [00:36<01:38,  3.61it/s]\u001b[A\n",
            " 29%|██▉       | 144/500 [00:36<01:27,  4.05it/s]\u001b[A\n",
            " 29%|██▉       | 145/500 [00:36<01:19,  4.45it/s]\u001b[A\n",
            " 29%|██▉       | 146/500 [00:37<01:35,  3.70it/s]\u001b[A\n",
            " 29%|██▉       | 147/500 [00:37<01:46,  3.32it/s]\u001b[A\n",
            " 30%|██▉       | 148/500 [00:37<01:41,  3.47it/s]\u001b[A\n",
            " 30%|██▉       | 149/500 [00:38<02:03,  2.85it/s]\u001b[A\n",
            " 30%|███       | 150/500 [00:38<01:38,  3.55it/s]\u001b[A\n",
            " 30%|███       | 151/500 [00:38<01:27,  3.98it/s]\u001b[A\n",
            " 31%|███       | 153/500 [00:38<01:01,  5.67it/s]\u001b[A\n",
            " 31%|███       | 154/500 [00:38<00:55,  6.21it/s]\u001b[A\n",
            " 31%|███       | 155/500 [00:39<01:10,  4.89it/s]\u001b[A\n",
            " 31%|███       | 156/500 [00:39<01:28,  3.88it/s]\u001b[A\n",
            " 31%|███▏      | 157/500 [00:39<01:19,  4.33it/s]\u001b[A\n",
            " 32%|███▏      | 158/500 [00:39<01:11,  4.81it/s]\u001b[A\n",
            " 32%|███▏      | 159/500 [00:40<01:09,  4.91it/s]\u001b[A\n",
            " 32%|███▏      | 160/500 [00:40<01:17,  4.37it/s]\u001b[A\n",
            " 32%|███▏      | 161/500 [00:40<01:09,  4.90it/s]\u001b[A\n",
            " 32%|███▏      | 162/500 [00:40<01:32,  3.64it/s]\u001b[A\n",
            " 33%|███▎      | 163/500 [00:41<01:29,  3.78it/s]\u001b[A\n",
            " 33%|███▎      | 164/500 [00:41<01:47,  3.13it/s]\u001b[A\n",
            " 33%|███▎      | 165/500 [00:41<01:30,  3.72it/s]\u001b[A\n",
            " 33%|███▎      | 166/500 [00:41<01:18,  4.26it/s]\u001b[A\n",
            " 33%|███▎      | 167/500 [00:42<01:12,  4.62it/s]\u001b[A\n",
            " 34%|███▎      | 168/500 [00:42<01:05,  5.10it/s]\u001b[A\n",
            " 34%|███▍      | 169/500 [00:42<01:18,  4.20it/s]\u001b[A\n",
            " 34%|███▍      | 170/500 [00:43<01:39,  3.33it/s]\u001b[A\n",
            " 34%|███▍      | 171/500 [00:43<01:46,  3.10it/s]\u001b[A\n",
            " 34%|███▍      | 172/500 [00:43<01:52,  2.90it/s]\u001b[A\n",
            " 35%|███▍      | 174/500 [00:44<01:13,  4.43it/s]\u001b[A\n",
            " 35%|███▌      | 175/500 [00:44<01:32,  3.51it/s]\u001b[A\n",
            " 35%|███▌      | 176/500 [00:44<01:27,  3.71it/s]\u001b[A\n",
            " 35%|███▌      | 177/500 [00:45<01:32,  3.51it/s]\u001b[A\n",
            " 36%|███▌      | 179/500 [00:45<01:10,  4.56it/s]\u001b[A\n",
            " 36%|███▌      | 180/500 [00:45<01:05,  4.89it/s]\u001b[A\n",
            " 36%|███▌      | 181/500 [00:45<01:06,  4.78it/s]\u001b[A\n",
            " 37%|███▋      | 183/500 [00:46<01:04,  4.95it/s]\u001b[A\n",
            " 37%|███▋      | 184/500 [00:46<01:15,  4.19it/s]\u001b[A\n",
            " 37%|███▋      | 185/500 [00:46<01:30,  3.49it/s]\u001b[A\n",
            " 37%|███▋      | 186/500 [00:47<01:24,  3.70it/s]\u001b[A\n",
            " 37%|███▋      | 187/500 [00:47<01:21,  3.86it/s]\u001b[A\n",
            " 38%|███▊      | 188/500 [00:47<01:12,  4.29it/s]\u001b[A\n",
            " 38%|███▊      | 189/500 [00:47<01:10,  4.43it/s]\u001b[A\n",
            " 38%|███▊      | 190/500 [00:47<01:06,  4.65it/s]\u001b[A\n",
            " 38%|███▊      | 191/500 [00:48<01:00,  5.09it/s]\u001b[A\n",
            " 38%|███▊      | 192/500 [00:48<01:31,  3.36it/s]\u001b[A\n",
            " 39%|███▊      | 193/500 [00:48<01:21,  3.79it/s]\u001b[A\n",
            " 39%|███▉      | 194/500 [00:49<01:21,  3.75it/s]\u001b[A\n",
            " 39%|███▉      | 196/500 [00:49<01:06,  4.55it/s]\u001b[A\n",
            " 39%|███▉      | 197/500 [00:49<01:22,  3.68it/s]\u001b[A\n",
            " 40%|███▉      | 198/500 [00:50<01:18,  3.86it/s]\u001b[A\n",
            " 40%|███▉      | 199/500 [00:50<01:30,  3.32it/s]\u001b[A\n",
            " 40%|████      | 200/500 [00:50<01:34,  3.18it/s]\u001b[A\n",
            " 40%|████      | 201/500 [00:50<01:25,  3.50it/s]\u001b[A\n",
            " 40%|████      | 202/500 [00:51<01:37,  3.06it/s]\u001b[A\n",
            " 41%|████      | 203/500 [00:51<01:26,  3.42it/s]\u001b[A\n",
            " 41%|████      | 204/500 [00:52<01:39,  2.97it/s]\u001b[A\n",
            " 41%|████      | 205/500 [00:52<01:36,  3.04it/s]\u001b[A\n",
            " 41%|████      | 206/500 [00:52<01:25,  3.43it/s]\u001b[A\n",
            " 42%|████▏     | 208/500 [00:52<01:07,  4.35it/s]\u001b[A\n",
            " 42%|████▏     | 209/500 [00:53<01:22,  3.54it/s]\u001b[A\n",
            " 42%|████▏     | 210/500 [00:53<01:24,  3.42it/s]\u001b[A\n",
            " 42%|████▏     | 211/500 [00:54<01:40,  2.88it/s]\u001b[A\n",
            " 42%|████▏     | 212/500 [00:54<01:24,  3.42it/s]\u001b[A\n",
            " 43%|████▎     | 213/500 [00:54<01:38,  2.93it/s]\u001b[A\n",
            " 43%|████▎     | 214/500 [00:54<01:20,  3.54it/s]\u001b[A\n",
            " 43%|████▎     | 216/500 [00:55<00:58,  4.85it/s]\u001b[A\n",
            " 43%|████▎     | 217/500 [00:55<00:58,  4.86it/s]\u001b[A\n",
            " 44%|████▎     | 218/500 [00:55<00:54,  5.20it/s]\u001b[A\n",
            " 44%|████▍     | 219/500 [00:55<00:50,  5.57it/s]\u001b[A\n",
            " 44%|████▍     | 220/500 [00:55<00:55,  5.05it/s]\u001b[A\n",
            " 44%|████▍     | 221/500 [00:56<00:54,  5.12it/s]\u001b[A\n",
            " 44%|████▍     | 222/500 [00:56<01:01,  4.50it/s]\u001b[A\n",
            " 45%|████▍     | 223/500 [00:56<00:55,  4.95it/s]\u001b[A\n",
            " 45%|████▌     | 225/500 [00:56<00:51,  5.38it/s]\u001b[A\n",
            " 45%|████▌     | 226/500 [00:56<00:48,  5.62it/s]\u001b[A\n",
            " 45%|████▌     | 227/500 [00:57<01:00,  4.50it/s]\u001b[A\n",
            " 46%|████▌     | 228/500 [00:57<01:20,  3.36it/s]\u001b[A\n",
            " 46%|████▌     | 229/500 [00:58<01:23,  3.25it/s]\u001b[A\n",
            " 46%|████▌     | 230/500 [00:58<01:11,  3.77it/s]\u001b[A\n",
            " 46%|████▌     | 231/500 [00:58<01:18,  3.43it/s]\u001b[A\n",
            " 46%|████▋     | 232/500 [00:59<01:20,  3.33it/s]\u001b[A\n",
            " 47%|████▋     | 233/500 [00:59<01:24,  3.14it/s]\u001b[A\n",
            " 47%|████▋     | 234/500 [00:59<01:27,  3.04it/s]\u001b[A\n",
            " 47%|████▋     | 235/500 [00:59<01:15,  3.52it/s]\u001b[A\n",
            " 47%|████▋     | 237/500 [01:00<01:01,  4.25it/s]\u001b[A\n",
            " 48%|████▊     | 238/500 [01:00<01:14,  3.53it/s]\u001b[A\n",
            " 48%|████▊     | 239/500 [01:00<01:09,  3.74it/s]\u001b[A\n",
            " 48%|████▊     | 240/500 [01:01<01:02,  4.17it/s]\u001b[A\n",
            " 48%|████▊     | 241/500 [01:01<01:00,  4.25it/s]\u001b[A\n",
            " 48%|████▊     | 242/500 [01:01<01:04,  4.00it/s]\u001b[A\n",
            " 49%|████▊     | 243/500 [01:01<01:10,  3.65it/s]\u001b[A\n",
            " 49%|████▉     | 244/500 [01:02<01:20,  3.19it/s]\u001b[A\n",
            " 49%|████▉     | 245/500 [01:02<01:13,  3.46it/s]\u001b[A\n",
            " 49%|████▉     | 246/500 [01:02<01:07,  3.75it/s]\u001b[A\n",
            " 49%|████▉     | 247/500 [01:02<00:59,  4.28it/s]\u001b[A\n",
            " 50%|████▉     | 249/500 [01:03<01:01,  4.09it/s]\u001b[A\n",
            " 50%|█████     | 250/500 [01:03<00:53,  4.65it/s]\u001b[A\n",
            " 50%|█████     | 251/500 [01:03<00:54,  4.54it/s]\u001b[A\n",
            " 50%|█████     | 252/500 [01:03<00:48,  5.16it/s]\u001b[A\n",
            " 51%|█████     | 253/500 [01:04<00:52,  4.70it/s]\u001b[A\n",
            " 51%|█████     | 254/500 [01:04<01:09,  3.54it/s]\u001b[A\n",
            " 51%|█████     | 255/500 [01:04<01:05,  3.72it/s]\u001b[A\n",
            " 51%|█████     | 256/500 [01:05<00:57,  4.27it/s]\u001b[A\n",
            " 51%|█████▏    | 257/500 [01:05<00:57,  4.24it/s]\u001b[A\n",
            " 52%|█████▏    | 258/500 [01:05<00:50,  4.75it/s]\u001b[A\n",
            " 52%|█████▏    | 259/500 [01:05<00:57,  4.19it/s]\u001b[A\n",
            " 52%|█████▏    | 260/500 [01:06<01:03,  3.76it/s]\u001b[A\n",
            " 52%|█████▏    | 261/500 [01:06<01:17,  3.10it/s]\u001b[A\n",
            " 52%|█████▏    | 262/500 [01:06<01:01,  3.86it/s]\u001b[A\n",
            " 53%|█████▎    | 263/500 [01:07<01:10,  3.34it/s]\u001b[A\n",
            " 53%|█████▎    | 265/500 [01:07<00:45,  5.15it/s]\u001b[A\n",
            " 53%|█████▎    | 266/500 [01:07<00:57,  4.04it/s]\u001b[A\n",
            " 53%|█████▎    | 267/500 [01:07<01:00,  3.87it/s]\u001b[A\n",
            " 54%|█████▎    | 268/500 [01:08<01:11,  3.26it/s]\u001b[A\n",
            " 54%|█████▍    | 269/500 [01:08<01:13,  3.14it/s]\u001b[A\n",
            " 54%|█████▍    | 270/500 [01:08<01:11,  3.23it/s]\u001b[A\n",
            " 54%|█████▍    | 271/500 [01:09<01:06,  3.44it/s]\u001b[A\n",
            " 55%|█████▍    | 273/500 [01:09<00:43,  5.23it/s]\u001b[A\n",
            " 55%|█████▍    | 274/500 [01:09<00:59,  3.83it/s]\u001b[A\n",
            " 55%|█████▌    | 275/500 [01:10<01:04,  3.50it/s]\u001b[A\n",
            " 55%|█████▌    | 276/500 [01:10<01:23,  2.67it/s]\u001b[A\n",
            " 55%|█████▌    | 277/500 [01:11<01:16,  2.90it/s]\u001b[A\n",
            " 56%|█████▌    | 278/500 [01:11<01:02,  3.54it/s]\u001b[A\n",
            " 56%|█████▌    | 279/500 [01:11<01:01,  3.57it/s]\u001b[A\n",
            " 56%|█████▌    | 280/500 [01:11<00:54,  4.06it/s]\u001b[A\n",
            " 56%|█████▌    | 281/500 [01:11<00:51,  4.22it/s]\u001b[A\n",
            " 56%|█████▋    | 282/500 [01:12<00:48,  4.54it/s]\u001b[A\n",
            " 57%|█████▋    | 283/500 [01:12<00:46,  4.68it/s]\u001b[A\n",
            " 57%|█████▋    | 284/500 [01:12<00:39,  5.41it/s]\u001b[A\n",
            " 57%|█████▋    | 285/500 [01:12<00:55,  3.86it/s]\u001b[A\n",
            " 57%|█████▋    | 286/500 [01:13<00:55,  3.86it/s]\u001b[A\n",
            " 57%|█████▋    | 287/500 [01:13<00:46,  4.61it/s]\u001b[A\n",
            " 58%|█████▊    | 288/500 [01:13<00:46,  4.59it/s]\u001b[A\n",
            " 58%|█████▊    | 289/500 [01:13<00:51,  4.07it/s]\u001b[A\n",
            " 58%|█████▊    | 290/500 [01:13<00:51,  4.08it/s]\u001b[A\n",
            " 58%|█████▊    | 291/500 [01:14<01:01,  3.41it/s]\u001b[A\n",
            " 58%|█████▊    | 292/500 [01:14<01:00,  3.45it/s]\u001b[A\n",
            " 59%|█████▊    | 293/500 [01:14<01:06,  3.10it/s]\u001b[A\n",
            " 59%|█████▉    | 294/500 [01:15<01:08,  3.00it/s]\u001b[A\n",
            " 59%|█████▉    | 295/500 [01:15<01:00,  3.37it/s]\u001b[A\n",
            " 59%|█████▉    | 296/500 [01:15<01:00,  3.34it/s]\u001b[A\n",
            " 59%|█████▉    | 297/500 [01:16<01:10,  2.90it/s]\u001b[A\n",
            " 60%|█████▉    | 298/500 [01:16<01:21,  2.48it/s]\u001b[A\n",
            " 60%|██████    | 300/500 [01:17<01:01,  3.25it/s]\u001b[A\n",
            " 60%|██████    | 301/500 [01:18<01:23,  2.37it/s]\u001b[A\n",
            " 61%|██████    | 303/500 [01:18<00:57,  3.44it/s]\u001b[A\n",
            " 61%|██████    | 304/500 [01:18<01:05,  2.99it/s]\u001b[A\n",
            " 61%|██████    | 305/500 [01:19<01:08,  2.83it/s]\u001b[A\n",
            " 61%|██████    | 306/500 [01:19<01:08,  2.85it/s]\u001b[A\n",
            " 61%|██████▏   | 307/500 [01:19<00:59,  3.26it/s]\u001b[A\n",
            " 62%|██████▏   | 308/500 [01:19<00:50,  3.81it/s]\u001b[A\n",
            " 62%|██████▏   | 310/500 [01:20<00:43,  4.35it/s]\u001b[A\n",
            " 62%|██████▏   | 311/500 [01:20<00:49,  3.81it/s]\u001b[A\n",
            " 62%|██████▏   | 312/500 [01:20<00:47,  3.96it/s]\u001b[A\n",
            " 63%|██████▎   | 313/500 [01:21<00:53,  3.48it/s]\u001b[A\n",
            " 63%|██████▎   | 314/500 [01:21<00:49,  3.79it/s]\u001b[A\n",
            " 63%|██████▎   | 315/500 [01:21<00:48,  3.80it/s]\u001b[A\n",
            " 63%|██████▎   | 316/500 [01:21<00:45,  4.02it/s]\u001b[A\n",
            " 63%|██████▎   | 317/500 [01:22<00:44,  4.07it/s]\u001b[A\n",
            " 64%|██████▎   | 318/500 [01:22<00:58,  3.13it/s]\u001b[A\n",
            " 64%|██████▍   | 319/500 [01:22<00:52,  3.43it/s]\u001b[A\n",
            " 64%|██████▍   | 320/500 [01:23<00:49,  3.61it/s]\u001b[A\n",
            " 64%|██████▍   | 321/500 [01:23<00:49,  3.65it/s]\u001b[A\n",
            " 64%|██████▍   | 322/500 [01:23<00:47,  3.72it/s]\u001b[A\n",
            " 65%|██████▍   | 323/500 [01:23<00:41,  4.31it/s]\u001b[A\n",
            " 65%|██████▍   | 324/500 [01:24<00:45,  3.91it/s]\u001b[A\n",
            " 65%|██████▌   | 325/500 [01:24<00:45,  3.84it/s]\u001b[A\n",
            " 65%|██████▌   | 326/500 [01:24<00:52,  3.32it/s]\u001b[A\n",
            " 65%|██████▌   | 327/500 [01:25<01:04,  2.67it/s]\u001b[A\n",
            " 66%|██████▌   | 328/500 [01:25<00:58,  2.96it/s]\u001b[A\n",
            " 66%|██████▌   | 329/500 [01:25<00:59,  2.85it/s]\u001b[A\n",
            " 66%|██████▌   | 330/500 [01:26<00:58,  2.89it/s]\u001b[A\n",
            " 66%|██████▋   | 332/500 [01:26<00:39,  4.25it/s]\u001b[A\n",
            " 67%|██████▋   | 333/500 [01:26<00:39,  4.28it/s]\u001b[A\n",
            " 67%|██████▋   | 334/500 [01:26<00:41,  4.03it/s]\u001b[A\n",
            " 67%|██████▋   | 336/500 [01:27<00:30,  5.32it/s]\u001b[A\n",
            " 68%|██████▊   | 338/500 [01:27<00:27,  5.83it/s]\u001b[A\n",
            " 68%|██████▊   | 339/500 [01:27<00:29,  5.50it/s]\u001b[A\n",
            " 68%|██████▊   | 340/500 [01:27<00:27,  5.76it/s]\u001b[A\n",
            " 68%|██████▊   | 341/500 [01:27<00:26,  5.95it/s]\u001b[A\n",
            " 68%|██████▊   | 342/500 [01:28<00:32,  4.87it/s]\u001b[A\n",
            " 69%|██████▊   | 343/500 [01:28<00:32,  4.87it/s]\u001b[A\n",
            " 69%|██████▉   | 344/500 [01:28<00:32,  4.80it/s]\u001b[A\n",
            " 69%|██████▉   | 345/500 [01:28<00:37,  4.14it/s]\u001b[A\n",
            " 69%|██████▉   | 346/500 [01:29<00:43,  3.54it/s]\u001b[A\n",
            " 69%|██████▉   | 347/500 [01:29<00:46,  3.31it/s]\u001b[A\n",
            " 70%|██████▉   | 348/500 [01:30<00:46,  3.28it/s]\u001b[A\n",
            " 70%|██████▉   | 349/500 [01:30<00:38,  3.91it/s]\u001b[A\n",
            " 70%|███████   | 350/500 [01:30<00:32,  4.67it/s]\u001b[A\n",
            " 70%|███████   | 351/500 [01:30<00:42,  3.53it/s]\u001b[A\n",
            " 70%|███████   | 352/500 [01:31<00:41,  3.61it/s]\u001b[A\n",
            " 71%|███████   | 353/500 [01:31<00:40,  3.59it/s]\u001b[A\n",
            " 71%|███████   | 354/500 [01:31<00:35,  4.12it/s]\u001b[A\n",
            " 71%|███████   | 355/500 [01:31<00:30,  4.81it/s]\u001b[A\n",
            " 71%|███████   | 356/500 [01:31<00:30,  4.67it/s]\u001b[A\n",
            " 71%|███████▏  | 357/500 [01:32<00:34,  4.16it/s]\u001b[A\n",
            " 72%|███████▏  | 359/500 [01:32<00:28,  4.88it/s]\u001b[A\n",
            " 72%|███████▏  | 360/500 [01:32<00:31,  4.40it/s]\u001b[A\n",
            " 72%|███████▏  | 361/500 [01:32<00:33,  4.17it/s]\u001b[A\n",
            " 72%|███████▏  | 362/500 [01:33<00:36,  3.74it/s]\u001b[A\n",
            " 73%|███████▎  | 363/500 [01:33<00:41,  3.27it/s]\u001b[A\n",
            " 73%|███████▎  | 364/500 [01:34<00:44,  3.06it/s]\u001b[A\n",
            " 73%|███████▎  | 365/500 [01:34<00:37,  3.56it/s]\u001b[A\n",
            " 73%|███████▎  | 366/500 [01:34<00:40,  3.27it/s]\u001b[A\n",
            " 73%|███████▎  | 367/500 [01:35<00:45,  2.90it/s]\u001b[A\n",
            " 74%|███████▎  | 368/500 [01:35<00:42,  3.14it/s]\u001b[A\n",
            " 74%|███████▍  | 369/500 [01:35<00:38,  3.37it/s]\u001b[A\n",
            " 74%|███████▍  | 370/500 [01:35<00:36,  3.52it/s]\u001b[A\n",
            " 74%|███████▍  | 371/500 [01:36<00:36,  3.58it/s]\u001b[A\n",
            " 74%|███████▍  | 372/500 [01:36<00:35,  3.59it/s]\u001b[A\n",
            " 75%|███████▍  | 373/500 [01:36<00:35,  3.53it/s]\u001b[A\n",
            " 75%|███████▍  | 374/500 [01:36<00:31,  3.99it/s]\u001b[A\n",
            " 75%|███████▌  | 375/500 [01:37<00:31,  3.91it/s]\u001b[A\n",
            " 75%|███████▌  | 376/500 [01:37<00:34,  3.61it/s]\u001b[A\n",
            " 75%|███████▌  | 377/500 [01:37<00:32,  3.82it/s]\u001b[A\n",
            " 76%|███████▌  | 379/500 [01:37<00:22,  5.37it/s]\u001b[A\n",
            " 76%|███████▌  | 380/500 [01:38<00:21,  5.46it/s]\u001b[A\n",
            " 76%|███████▌  | 381/500 [01:38<00:19,  6.06it/s]\u001b[A\n",
            " 76%|███████▋  | 382/500 [01:38<00:18,  6.25it/s]\u001b[A\n",
            " 77%|███████▋  | 383/500 [01:38<00:26,  4.37it/s]\u001b[A\n",
            " 77%|███████▋  | 384/500 [01:39<00:31,  3.66it/s]\u001b[A\n",
            " 77%|███████▋  | 386/500 [01:39<00:26,  4.28it/s]\u001b[A\n",
            " 77%|███████▋  | 387/500 [01:39<00:25,  4.35it/s]\u001b[A\n",
            " 78%|███████▊  | 388/500 [01:40<00:28,  3.99it/s]\u001b[A\n",
            " 78%|███████▊  | 389/500 [01:40<00:28,  3.88it/s]\u001b[A\n",
            " 78%|███████▊  | 390/500 [01:40<00:29,  3.70it/s]\u001b[A\n",
            " 78%|███████▊  | 391/500 [01:40<00:33,  3.30it/s]\u001b[A\n",
            " 79%|███████▊  | 393/500 [01:41<00:27,  3.94it/s]\u001b[A\n",
            " 79%|███████▉  | 394/500 [01:41<00:27,  3.83it/s]\u001b[A\n",
            " 79%|███████▉  | 395/500 [01:41<00:28,  3.71it/s]\u001b[A\n",
            " 79%|███████▉  | 396/500 [01:42<00:34,  3.05it/s]\u001b[A\n",
            " 79%|███████▉  | 397/500 [01:42<00:33,  3.08it/s]\u001b[A\n",
            " 80%|███████▉  | 398/500 [01:42<00:30,  3.31it/s]\u001b[A\n",
            " 80%|███████▉  | 399/500 [01:43<00:25,  3.89it/s]\u001b[A\n",
            " 80%|████████  | 400/500 [01:43<00:29,  3.35it/s]\u001b[A\n",
            " 80%|████████  | 401/500 [01:43<00:30,  3.29it/s]\u001b[A\n",
            " 80%|████████  | 402/500 [01:43<00:24,  4.01it/s]\u001b[A\n",
            " 81%|████████  | 403/500 [01:44<00:26,  3.70it/s]\u001b[A\n",
            " 81%|████████  | 404/500 [01:44<00:24,  3.87it/s]\u001b[A\n",
            " 81%|████████  | 405/500 [01:45<00:31,  3.06it/s]\u001b[A\n",
            " 81%|████████  | 406/500 [01:45<00:30,  3.11it/s]\u001b[A\n",
            " 82%|████████▏ | 408/500 [01:45<00:26,  3.48it/s]\u001b[A\n",
            " 82%|████████▏ | 409/500 [01:46<00:24,  3.73it/s]\u001b[A\n",
            " 82%|████████▏ | 410/500 [01:46<00:23,  3.87it/s]\u001b[A\n",
            " 82%|████████▏ | 411/500 [01:46<00:21,  4.08it/s]\u001b[A\n",
            " 82%|████████▏ | 412/500 [01:46<00:18,  4.66it/s]\u001b[A\n",
            " 83%|████████▎ | 413/500 [01:46<00:16,  5.12it/s]\u001b[A\n",
            " 83%|████████▎ | 414/500 [01:46<00:15,  5.38it/s]\u001b[A\n",
            " 83%|████████▎ | 415/500 [01:47<00:19,  4.46it/s]\u001b[A\n",
            " 83%|████████▎ | 416/500 [01:47<00:20,  4.04it/s]\u001b[A\n",
            " 83%|████████▎ | 417/500 [01:47<00:22,  3.70it/s]\u001b[A\n",
            " 84%|████████▎ | 418/500 [01:48<00:29,  2.76it/s]\u001b[A\n",
            " 84%|████████▍ | 419/500 [01:48<00:24,  3.25it/s]\u001b[A\n",
            " 84%|████████▍ | 420/500 [01:49<00:28,  2.82it/s]\u001b[A\n",
            " 84%|████████▍ | 421/500 [01:49<00:26,  3.03it/s]\u001b[A\n",
            " 84%|████████▍ | 422/500 [01:49<00:23,  3.29it/s]\u001b[A\n",
            " 85%|████████▍ | 423/500 [01:49<00:23,  3.29it/s]\u001b[A\n",
            " 85%|████████▌ | 425/500 [01:50<00:21,  3.50it/s]\u001b[A\n",
            " 85%|████████▌ | 426/500 [01:50<00:20,  3.70it/s]\u001b[A\n",
            " 85%|████████▌ | 427/500 [01:50<00:20,  3.48it/s]\u001b[A\n",
            " 86%|████████▌ | 428/500 [01:51<00:18,  3.96it/s]\u001b[A\n",
            " 86%|████████▌ | 429/500 [01:51<00:15,  4.55it/s]\u001b[A\n",
            " 86%|████████▌ | 430/500 [01:51<00:20,  3.35it/s]\u001b[A\n",
            " 86%|████████▌ | 431/500 [01:51<00:18,  3.68it/s]\u001b[A\n",
            " 86%|████████▋ | 432/500 [01:52<00:20,  3.37it/s]\u001b[A\n",
            " 87%|████████▋ | 433/500 [01:52<00:18,  3.64it/s]\u001b[A\n",
            " 87%|████████▋ | 434/500 [01:52<00:15,  4.35it/s]\u001b[A\n",
            " 87%|████████▋ | 435/500 [01:53<00:17,  3.66it/s]\u001b[A\n",
            " 87%|████████▋ | 436/500 [01:53<00:17,  3.56it/s]\u001b[A\n",
            " 87%|████████▋ | 437/500 [01:53<00:14,  4.27it/s]\u001b[A\n",
            " 88%|████████▊ | 438/500 [01:53<00:13,  4.74it/s]\u001b[A\n",
            " 88%|████████▊ | 439/500 [01:53<00:14,  4.10it/s]\u001b[A\n",
            " 88%|████████▊ | 440/500 [01:54<00:15,  3.91it/s]\u001b[A\n",
            " 88%|████████▊ | 441/500 [01:54<00:15,  3.74it/s]\u001b[A\n",
            " 88%|████████▊ | 442/500 [01:54<00:18,  3.21it/s]\u001b[A\n",
            " 89%|████████▉ | 444/500 [01:55<00:14,  3.96it/s]\u001b[A\n",
            " 89%|████████▉ | 445/500 [01:55<00:13,  3.97it/s]\u001b[A\n",
            " 89%|████████▉ | 446/500 [01:55<00:14,  3.60it/s]\u001b[A\n",
            " 89%|████████▉ | 447/500 [01:56<00:16,  3.27it/s]\u001b[A\n",
            " 90%|████████▉ | 449/500 [01:56<00:10,  4.73it/s]\u001b[A\n",
            " 90%|█████████ | 450/500 [01:56<00:10,  4.83it/s]\u001b[A\n",
            " 90%|█████████ | 451/500 [01:57<00:12,  3.77it/s]\u001b[A\n",
            " 90%|█████████ | 452/500 [01:57<00:11,  4.00it/s]\u001b[A\n",
            " 91%|█████████ | 453/500 [01:57<00:09,  4.71it/s]\u001b[A\n",
            " 91%|█████████ | 454/500 [01:57<00:14,  3.24it/s]\u001b[A\n",
            " 91%|█████████ | 455/500 [01:58<00:11,  3.90it/s]\u001b[A\n",
            " 91%|█████████ | 456/500 [01:58<00:13,  3.38it/s]\u001b[A\n",
            " 92%|█████████▏| 458/500 [01:58<00:11,  3.78it/s]\u001b[A\n",
            " 92%|█████████▏| 460/500 [01:59<00:08,  4.50it/s]\u001b[A\n",
            " 92%|█████████▏| 461/500 [01:59<00:08,  4.66it/s]\u001b[A\n",
            " 92%|█████████▏| 462/500 [01:59<00:09,  4.19it/s]\u001b[A\n",
            " 93%|█████████▎| 464/500 [02:00<00:08,  4.08it/s]\u001b[A\n",
            " 93%|█████████▎| 465/500 [02:00<00:10,  3.29it/s]\u001b[A\n",
            " 93%|█████████▎| 466/500 [02:01<00:10,  3.29it/s]\u001b[A\n",
            " 94%|█████████▎| 468/500 [02:01<00:07,  4.50it/s]\u001b[A\n",
            " 94%|█████████▍| 469/500 [02:01<00:07,  4.31it/s]\u001b[A\n",
            " 94%|█████████▍| 470/500 [02:01<00:08,  3.60it/s]\u001b[A\n",
            " 94%|█████████▍| 471/500 [02:02<00:07,  4.01it/s]\u001b[A\n",
            " 94%|█████████▍| 472/500 [02:02<00:06,  4.43it/s]\u001b[A\n",
            " 95%|█████████▍| 473/500 [02:02<00:07,  3.79it/s]\u001b[A\n",
            " 95%|█████████▍| 474/500 [02:02<00:06,  3.88it/s]\u001b[A\n",
            " 95%|█████████▌| 475/500 [02:03<00:07,  3.28it/s]\u001b[A\n",
            " 95%|█████████▌| 476/500 [02:03<00:07,  3.27it/s]\u001b[A\n",
            " 95%|█████████▌| 477/500 [02:03<00:06,  3.48it/s]\u001b[A\n",
            " 96%|█████████▌| 478/500 [02:04<00:06,  3.41it/s]\u001b[A\n",
            " 96%|█████████▌| 479/500 [02:04<00:06,  3.17it/s]\u001b[A\n",
            " 96%|█████████▌| 480/500 [02:04<00:06,  3.22it/s]\u001b[A\n",
            " 96%|█████████▋| 482/500 [02:05<00:04,  4.19it/s]\u001b[A\n",
            " 97%|█████████▋| 483/500 [02:05<00:04,  4.04it/s]\u001b[A\n",
            " 97%|█████████▋| 484/500 [02:05<00:03,  4.07it/s]\u001b[A\n",
            " 97%|█████████▋| 485/500 [02:05<00:03,  3.95it/s]\u001b[A\n",
            " 97%|█████████▋| 486/500 [02:06<00:03,  4.23it/s]\u001b[A\n",
            " 97%|█████████▋| 487/500 [02:06<00:04,  3.22it/s]\u001b[A\n",
            " 98%|█████████▊| 489/500 [02:06<00:02,  4.44it/s]\u001b[A\n",
            " 98%|█████████▊| 490/500 [02:07<00:02,  4.02it/s]\u001b[A\n",
            " 98%|█████████▊| 491/500 [02:07<00:02,  3.87it/s]\u001b[A\n",
            " 98%|█████████▊| 492/500 [02:07<00:02,  3.65it/s]\u001b[A\n",
            " 99%|█████████▊| 493/500 [02:08<00:02,  3.38it/s]\u001b[A\n",
            " 99%|█████████▉| 494/500 [02:08<00:01,  3.21it/s]\u001b[A\n",
            " 99%|█████████▉| 495/500 [02:08<00:01,  3.39it/s]\u001b[A\n",
            " 99%|█████████▉| 496/500 [02:09<00:01,  3.46it/s]\u001b[A\n",
            " 99%|█████████▉| 497/500 [02:09<00:00,  3.57it/s]\u001b[A\n",
            "100%|█████████▉| 498/500 [02:09<00:00,  3.43it/s]\u001b[A\n",
            "100%|█████████▉| 499/500 [02:09<00:00,  3.16it/s]\u001b[A\n",
            "100%|██████████| 500/500 [02:10<00:00,  3.84it/s]\n",
            "100%|██████████| 1/1 [02:10<00:00, 130.37s/it]\n"
          ]
        }
      ],
      "source": [
        "# symmetric uniform transition matrix for uniform transition rule: tho tbh I dont need it\n",
        "num_spins=n_spins#4\n",
        "num_elems=2**(num_spins)\n",
        "# transit_mat=np.ones((num_elems,num_elems))*(1./(2*num_elems))# in general case transit matrix could be entirely different\n",
        "# np.fill_diagonal(transit_mat, 1./2)\n",
        "\n",
        "dict_quant_seperate_chains_states_distn_mcmc={}\n",
        "dict_quant_seperate_chains_sprime_mcmc={}\n",
        "dict_quant_seperate_chains_accepted_mcmc={}\n",
        "dict_quant_seperate_chains_counts_based_on_hamming_dist={}\n",
        "dict_quant_seperate_chains_energy_diff_s_and_sprime={}# for plotting histogram\n",
        "num_seperate_mcmc_chains=1\n",
        "\n",
        "# Run MCMC with Quantum evolution based transition strategy\n",
        "N_hops=500\n",
        "init_state=list(boltz_prob_distn.keys())[2]\n",
        "\n",
        "for chain_num in tqdm(range(0,num_seperate_mcmc_chains)):\n",
        "    dict_states_quantum_mcmc, quant_mcmc_after_trsn, quant_mcmc_after_accept =quantum_enhanced_mcmc(N_hops,num_spins,init_state,\n",
        "                                                                                                    num_elems, model, \n",
        "                                                                                                    alpha,return_last_n_states=N_hops-20,\n",
        "                                                                                                    return_both=True, temp=temp)\n",
        "    \n",
        "    dict_states_quantum_mcmc_sorted_desc=value_sorted_dict(dict_states_quantum_mcmc, reverse=True)\n",
        "\n",
        "    dict_quant_seperate_chains_states_distn_mcmc[chain_num]=dict_states_quantum_mcmc_sorted_desc\n",
        "    dict_quant_seperate_chains_sprime_mcmc[chain_num]=quant_mcmc_after_trsn\n",
        "    dict_quant_seperate_chains_accepted_mcmc[chain_num]=quant_mcmc_after_accept\n",
        "    dict_quant_seperate_chains_energy_diff_s_and_sprime[chain_num]=energy_difference_related_counts(num_spins, quant_mcmc_after_trsn, quant_mcmc_after_accept, model_in=model)\n",
        "    dict_quant_seperate_chains_counts_based_on_hamming_dist[chain_num]=hamming_dist_related_counts(num_spins, quant_mcmc_after_trsn, quant_mcmc_after_accept)"
      ]
    },
    {
      "cell_type": "code",
      "source": [
        "dict_quant_seperate_chains_counts_based_on_hamming_dist, dict_seperate_chains_counts_based_on_hamming_dist"
      ],
      "metadata": {
        "colab": {
          "base_uri": "https://localhost:8080/"
        },
        "id": "yjWeGQoamdB7",
        "outputId": "f67708d3-e57b-48a9-fcf9-e5e668f2ad39"
      },
      "execution_count": 71,
      "outputs": [
        {
          "output_type": "execute_result",
          "data": {
            "text/plain": [
              "({0: {0: 18, 1: 55, 2: 95, 3: 104, 4: 101, 5: 72, 6: 37, 7: 12, 8: 5}},\n",
              " {0: {0: 1, 1: 18, 2: 71, 3: 117, 4: 123, 5: 101, 6: 51, 7: 14, 8: 3}})"
            ]
          },
          "metadata": {},
          "execution_count": 71
        }
      ]
    },
    {
      "cell_type": "code",
      "source": [
        "### data for plotting running average magnetization 5 cases seperately:\n",
        "first_few=N_hops\n",
        "#cl_running_avg_magzn=[running_avg_magnetization(list_states_mcmc=dict_seperate_chains_accepted_mcmc[m][:first_few+1]) for m in range(0,num_seperate_mcmc_chains)]\n",
        "dict_for_df_running_avg_seperate_quant_mcmc={}\n",
        "for m in range(0, num_seperate_mcmc_chains):\n",
        "  dict_for_df_running_avg_seperate_quant_mcmc[m]=list(running_avg_magnetization(list_states_mcmc=dict_quant_seperate_chains_accepted_mcmc[m][:first_few+1]).values())\n",
        "\n",
        "running_avg_df=pd.DataFrame(dict_for_df_running_avg_seperate_quant_mcmc)\n",
        "mean_magnetization_quant=running_avg_df.mean(axis=1)# mean taken over all seperate mcmc chains"
      ],
      "metadata": {
        "colab": {
          "base_uri": "https://localhost:8080/"
        },
        "id": "DFi3LcvJYaHM",
        "outputId": "cba15610-0d91-46c4-df39-7fda115d1aa0"
      },
      "execution_count": 72,
      "outputs": [
        {
          "output_type": "stream",
          "name": "stderr",
          "text": [
            "100%|██████████| 499/499 [00:00<00:00, 885.09it/s] \n"
          ]
        }
      ]
    },
    {
      "cell_type": "code",
      "source": [
        "plt.figure(figsize=(10,7))\n",
        "magnetization_of_all_states=dict_magnetization_of_all_states(states_nbit)\n",
        "actual_avg_mag=avg(dict_probabilities=boltz_prob_distn, dict_observable_val_at_states=magnetization_of_all_states)\n",
        "print(\"actual_avg_mag: \",actual_avg_mag)\n",
        "plt.plot(mean_magnetization,\":\" ,label=\"Cl mcmc\")\n",
        "plt.plot(mean_magnetization_quant,\":\" ,label=\"Quant mcmc\")\n",
        "plt.axhline(y=actual_avg_mag,linestyle=\"-\", color=\"k\" ,label=\"Actual\")\n",
        "plt.legend()\n",
        "plt.title(\"Running average magnetization\")"
      ],
      "metadata": {
        "colab": {
          "base_uri": "https://localhost:8080/",
          "height": 479
        },
        "id": "B1yirEX4XzeK",
        "outputId": "87a4bd2d-8b4d-4fce-8a15-1630a8b0c24f"
      },
      "execution_count": 73,
      "outputs": [
        {
          "output_type": "stream",
          "name": "stdout",
          "text": [
            "actual_avg_mag:  0.00961383065456627\n"
          ]
        },
        {
          "output_type": "execute_result",
          "data": {
            "text/plain": [
              "Text(0.5, 1.0, 'Running average magnetization')"
            ]
          },
          "metadata": {},
          "execution_count": 73
        },
        {
          "output_type": "display_data",
          "data": {
            "text/plain": [
              "<Figure size 720x504 with 1 Axes>"
            ],
            "image/png": "[encoded data removed]"
          },
          "metadata": {
            "needs_background": "light"
          }
        }
      ]
    },
    {
      "cell_type": "code",
      "source": [
        "for i in range(0,num_seperate_mcmc_chains):\n",
        "  mcmc_chain_num=i\n",
        "  plt.figure()\n",
        "  plt.hist(dict_quant_seperate_chains_energy_diff_s_and_sprime[mcmc_chain_num], bins=50)"
      ],
      "metadata": {
        "colab": {
          "base_uri": "https://localhost:8080/",
          "height": 265
        },
        "id": "LliStQpShPP5",
        "outputId": "c9cd75a0-fdd4-44cf-8c26-8bd6a2470ab3"
      },
      "execution_count": 61,
      "outputs": [
        {
          "output_type": "display_data",
          "data": {
            "text/plain": [
              "<Figure size 432x288 with 1 Axes>"
            ],
            "image/png": "[encoded data removed]"
          },
          "metadata": {
            "needs_background": "light"
          }
        }
      ]
    },
    {
      "cell_type": "markdown",
      "source": [
        "# Everything below is not relevant"
      ],
      "metadata": {
        "id": "DJLlCXwQhoxF"
      }
    },
    {
      "cell_type": "markdown",
      "metadata": {
        "id": "yiwCStvOGip-"
      },
      "source": [
        "### comparing number of accepted/rejected samples"
      ]
    },
    {
      "cell_type": "code",
      "execution_count": null,
      "metadata": {
        "id": "SMtohT9qG_TX"
      },
      "outputs": [],
      "source": [
        "# plt.figure(figsize=(20,7))\n",
        "# plt.plot(cl_mcmc_after_trsn, label=\"Classical Uniform\")\n",
        "# plt.plot(quant_mcmc_after_trsn, label=\"Quantum\")\n",
        "# plt.xlabel(\"MCMC iterations\")\n",
        "# plt.title(\"after transition\")\n",
        "plt.figure(figsize=(10,10))\n",
        "#quant_mcmc_after_trsn, quant_mcmc_after_accept\n",
        "plt.plot(cl_mcmc_after_accept, label=\"Classical Uniform\")\n",
        "plt.plot(quant_mcmc_after_accept,label=\"Quantum\")\n",
        "plt.xlabel(\"MCMC iterations\")\n",
        "plt.title(\"State accepted in i'th iteration\")\n",
        "plt.legend()"
      ]
    },
    {
      "cell_type": "markdown",
      "metadata": {
        "id": "7fkk5Z-9PAYb"
      },
      "source": [
        "Next task:\n",
        "For different problem instances, do the following:\n",
        "\n",
        "1. Running average: magnetization. **(DONE)**\n",
        "\n",
        "2.  For first few relevant states (high probability), check how many times were those states accepted/rejected out of total number of iterations considered for the prob distn. **(CODE IS COMPLETE, NOW WE NEED TO RUN SOME EXPERIEMENTS)**\n",
        "\n",
        "3. Overlap with the desired distribution.\n"
      ]
    },
    {
      "cell_type": "markdown",
      "metadata": {
        "id": "CKgLUKukDne0"
      },
      "source": [
        "## Running average; magnetization"
      ]
    },
    {
      "cell_type": "code",
      "execution_count": null,
      "metadata": {
        "colab": {
          "base_uri": "https://localhost:8080/"
        },
        "id": "atvmYeWL0hvO",
        "outputId": "33f110b2-d51c-40e7-9a5a-173191095d4f"
      },
      "outputs": [
        {
          "name": "stderr",
          "output_type": "stream",
          "text": [
            "100%|██████████| 599/599 [00:00<00:00, 843.07it/s]\n",
            "100%|██████████| 599/599 [00:00<00:00, 811.41it/s]\n"
          ]
        }
      ],
      "source": [
        "check_cl=running_avg_magnetization(list_states_mcmc=cl_mcmc_after_accept)\n",
        "check_quant=running_avg_magnetization(list_states_mcmc=quant_mcmc_after_accept)"
      ]
    },
    {
      "cell_type": "code",
      "execution_count": null,
      "metadata": {
        "colab": {
          "base_uri": "https://localhost:8080/",
          "height": 460
        },
        "id": "ynfCYeiS50wQ",
        "outputId": "e7d5e285-be38-440e-fed3-f35d6c8d6253"
      },
      "outputs": [
        {
          "data": {
            "text/plain": [
              "<matplotlib.legend.Legend at 0x7f308a901990>"
            ]
          },
          "execution_count": 24,
          "metadata": {},
          "output_type": "execute_result"
        },
        {
          "data": {
            "image/png": "[encoded data removed]",
            "text/plain": [
              "<Figure size 1440x504 with 1 Axes>"
            ]
          },
          "metadata": {
            "needs_background": "light"
          },
          "output_type": "display_data"
        }
      ],
      "source": [
        "plt.figure(figsize=(20,7))\n",
        "magnetization_of_all_states=dict_magnetization_of_all_states(states_nbit)\n",
        "actual_avg_mag=avg(dict_probabilities=boltz_prob_distn, dict_observable_val_at_states=magnetization_of_all_states)\n",
        "plt.axhline(y=actual_avg_mag,linestyle=\":\", color=\"k\" ,label=\"Actual\")\n",
        "plot_dict_of_running_avg_observable(check_cl, \"Cl MCMC- Uniform\")\n",
        "plot_dict_of_running_avg_observable(check_quant, \"Quantum\")\n",
        "plt.legend()"
      ]
    },
    {
      "cell_type": "markdown",
      "metadata": {
        "id": "sL_7qZNIEDeO"
      },
      "source": [
        "## Sampling related"
      ]
    },
    {
      "cell_type": "code",
      "execution_count": null,
      "metadata": {
        "id": "s2_o7fwB6-Fy"
      },
      "outputs": [],
      "source": [
        "# cl_mcmc_after_trsn, cl_mcmc_after_accept\n",
        "# quant_mcmc_after_trsn, quant_mcmc_after_accept \n",
        "aa,bb=fn_states_not_accepted(list_states=states_nbit, list_after_trsn=cl_mcmc_after_trsn, list_after_accept=cl_mcmc_after_accept)\n",
        "print(aa); print(bb)\n",
        "# fn_numtimes_bitstring_not_accepted(list_after_trsn=cl_mcmc_after_trsn, list_after_accept=cl_mcmc_after_accept,bitstring='0000')"
      ]
    },
    {
      "cell_type": "code",
      "execution_count": null,
      "metadata": {
        "id": "qP7XoMFnUgdr"
      },
      "outputs": [],
      "source": []
    },
    {
      "cell_type": "code",
      "execution_count": null,
      "metadata": {
        "id": "XTgDq37vKC61"
      },
      "outputs": [],
      "source": []
    }
  ],
  "metadata": {
    "colab": {
      "provenance": [],
      "include_colab_link": true
    },
    "kernelspec": {
      "display_name": "Python 3.8.8 ('base')",
      "language": "python",
      "name": "python3"
    },
    "language_info": {
      "codemirror_mode": {
        "name": "ipython",
        "version": 3
      },
      "file_extension": ".py",
      "mimetype": "text/x-python",
      "name": "python",
      "nbconvert_exporter": "python",
      "pygments_lexer": "ipython3",
      "version": "3.8.8"
    },
    "orig_nbformat": 4,
    "vscode": {
      "interpreter": {
        "hash": "184a4bfd18ed123440bfad7023e607e274d9f6c0bdada601c853a4367aa45839"
      }
    }
  },
  "nbformat": 4,
  "nbformat_minor": 0
}