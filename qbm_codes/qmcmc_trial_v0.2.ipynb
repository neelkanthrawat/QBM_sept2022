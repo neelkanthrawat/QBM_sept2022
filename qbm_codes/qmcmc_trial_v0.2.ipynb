{
  "cells": [
    {
      "cell_type": "markdown",
      "metadata": {
        "id": "view-in-github",
        "colab_type": "text"
      },
      "source": [
        "<a href=\"https://colab.research.google.com/github/neelkanthrawat/QBM_sept2022/blob/main/qbm_codes/qmcmc_trial_v0.2.ipynb\" target=\"_parent\"><img src=\"https://colab.research.google.com/assets/colab-badge.svg\" alt=\"Open In Colab\"/></a>"
      ]
    },
    {
      "cell_type": "code",
      "execution_count": 5,
      "metadata": {
        "id": "8j8VtbXvAq1r"
      },
      "outputs": [],
      "source": [
        "import numpy as np\n",
        "import matplotlib.pyplot as plt\n",
        "import pandas as pd\n",
        "from tqdm import tqdm\n",
        "from collections import Counter"
      ]
    },
    {
      "cell_type": "code",
      "execution_count": null,
      "metadata": {
        "id": "0Hz-A7mtA9Vi"
      },
      "outputs": [],
      "source": [
        "!pip install qiskit ipywidgets # while working on google colab!"
      ]
    },
    {
      "cell_type": "code",
      "execution_count": 7,
      "metadata": {
        "colab": {
          "base_uri": "https://localhost:8080/"
        },
        "id": "Zt6GDRoNAtZJ",
        "outputId": "aaf649b4-eb52-42d5-dc98-5ca15335cace"
      },
      "outputs": [
        {
          "output_type": "stream",
          "name": "stdout",
          "text": [
            "--2022-10-05 05:57:34--  https://raw.githubusercontent.com/neelkanthrawat/QBM_sept2022/main/qbm_codes/qbm_utils.py\n",
            "Resolving raw.githubusercontent.com (raw.githubusercontent.com)... 185.199.108.133, 185.199.109.133, 185.199.110.133, ...\n",
            "Connecting to raw.githubusercontent.com (raw.githubusercontent.com)|185.199.108.133|:443... connected.\n",
            "HTTP request sent, awaiting response... 200 OK\n",
            "Length: 17062 (17K) [text/plain]\n",
            "Saving to: ‘qbm_utils.py’\n",
            "\n",
            "\rqbm_utils.py          0%[                    ]       0  --.-KB/s               \rqbm_utils.py        100%[===================>]  16.66K  --.-KB/s    in 0s      \n",
            "\n",
            "2022-10-05 05:57:34 (146 MB/s) - ‘qbm_utils.py’ saved [17062/17062]\n",
            "\n"
          ]
        }
      ],
      "source": [
        "# while working on google colab, run this cell\n",
        "!wget https://raw.githubusercontent.com/neelkanthrawat/QBM_sept2022/main/qbm_codes/qbm_utils.py"
      ]
    },
    {
      "cell_type": "code",
      "execution_count": 8,
      "metadata": {
        "id": "bZo97FWnAq1u"
      },
      "outputs": [],
      "source": [
        "from qbm_utils import *"
      ]
    },
    {
      "cell_type": "markdown",
      "metadata": {
        "id": "hd51eYqCs3N4"
      },
      "source": [
        "### Define your model"
      ]
    },
    {
      "cell_type": "code",
      "execution_count": 9,
      "metadata": {
        "id": "KOeMOjD5Aq1v"
      },
      "outputs": [],
      "source": [
        "# define the model\n",
        "## put n_spins even always\n",
        "n_spins = 8\n",
        "\n",
        "## construct problem Hamiltonian ##\n",
        "shape_of_J=(n_spins,n_spins)\n",
        "J =  np.random.randn(n_spins,n_spins)#np.random.uniform(low= -1, high= 1, size= (n_spins, n_spins) )\n",
        "J = 0.5 * (J + J.transpose() )\n",
        "h = np.random.randn(n_spins)#np.random.uniform(low= -1, high = 1, size= (n_spins))\n",
        "\n",
        "# instantiate the model\n",
        "model = IsingEnergyFunction(J, h)\n",
        "\n",
        "alpha = np.sqrt(n_spins) / np.sqrt( sum([J[i][j]**2 for i in range(n_spins) for j in range(i)]) + sum([h[j]**2 for j in range(n_spins)])  )\n"
      ]
    },
    {
      "cell_type": "markdown",
      "metadata": {
        "id": "51HJZt-pAq1w"
      },
      "source": [
        "### Some updated funcs"
      ]
    },
    {
      "cell_type": "code",
      "execution_count": 10,
      "metadata": {
        "id": "wqKR3qcaAq1y"
      },
      "outputs": [],
      "source": [
        "def classical_mcmc(N_hops:int, num_spins:int, num_elems:int, model, return_last_n_states=500, return_both_classical_and_quantum_steps=False ):\n",
        "    ''' \n",
        "    version 0.2\n",
        "    Args: \n",
        "    Nhops: Number of time you want to run mcmc\n",
        "    num_spins: number of spins\n",
        "    num_elems: 2**(num_spins)\n",
        "    model\n",
        "\n",
        "    Returns:\n",
        "    Last 'return_last_n_states' elements of states so collected (default value=500). one can then deduce the distribution from it! \n",
        "    '''\n",
        "    states=[]\n",
        "    current_state=f'{np.random.randint(0,num_elems):0{num_spins}b}'# bin_next_state=f'{next_state:0{num_spins}b}'\n",
        "    print(\"starting with: \", current_state) \n",
        "\n",
        "    ## initialiiise observables\n",
        "    #observable_dict = dict([ (elem, []) for elem in observables ])\n",
        "    list_after_transition=[]\n",
        "    list_after_acceptance_step=[]\n",
        "\n",
        "    for i in tqdm(range(0, N_hops)):\n",
        "        states.append(current_state)\n",
        "        # get sprime\n",
        "        s_prime=classical_transition(num_spins)\n",
        "        list_after_transition.append(s_prime)\n",
        "        # accept/reject s_prime \n",
        "        energy_s=model.get_energy(current_state)\n",
        "        energy_sprime=model.get_energy(s_prime)\n",
        "        next_state= classical_loop_accepting_state(current_state, s_prime, energy_s, energy_sprime,temp=1)\n",
        "        current_state= next_state\n",
        "        list_after_acceptance_step.append(current_state)\n",
        "        # if store_observables:  ## store the observables \n",
        "          \n",
        "        #   if next_state == s_prime: observable_dict['acceptance'].append('True')\n",
        "        #   else: observable_dict['acceptance'].append('False')\n",
        "        #   observable_dict['energy'].append(model.get_energy(next_state))\n",
        "\n",
        "        ## reinitiate\n",
        "        qc_s=initialise_qc(n_spins=num_spins, bitstring=current_state)\n",
        "    \n",
        "    # returns dictionary of occurences for last \"return_last_n_states\" states\n",
        "    dict_count_return_last_n_states=Counter(states[-return_last_n_states:])\n",
        "    \n",
        "    if return_both_classical_and_quantum_steps: \n",
        "        to_return = dict_count_return_last_n_states, list_after_transition, list_after_acceptance_step\n",
        "    else: \n",
        "        to_return= dict_count_return_last_n_states \n",
        "    \n",
        "    return to_return"
      ]
    },
    {
      "cell_type": "code",
      "execution_count": 11,
      "metadata": {
        "id": "vXzV3CDwAq10"
      },
      "outputs": [],
      "source": [
        "def quantum_enhanced_mcmc(N_hops:int, num_spins:int, num_elems:int, model:IsingEnergyFunction, alpha, num_trotter_steps=10, return_last_n_states=500, return_both_classical_and_quantum_steps=False):\n",
        "    ''' \n",
        "    version 0.2\n",
        "    Args: \n",
        "    Nhops: Number of time you want to run mcmc\n",
        "    num_spins: number of spins\n",
        "    num_elems: 2**(num_spins)\n",
        "\n",
        "    Returns:\n",
        "    Last 'return_last_n_states' elements of states so collected (default value=500). one can then deduce the distribution from it! \n",
        "    '''\n",
        "    states=[]\n",
        "    current_state=f'{np.random.randint(0,num_elems):0{num_spins}b}'# bin_next_state=f'{next_state:0{num_spins}b}'\n",
        "    print(\"starting with: \", current_state) \n",
        "    ## initialise quantum circuit to current_state\n",
        "    qc_s=initialise_qc(n_spins=num_spins, bitstring=current_state)\n",
        "    #print(\"qc_s is:\"); print(qc_s.draw())\n",
        "\n",
        "    ## intialise observables\n",
        "    #observable_dict = dict([ ( elem, []  ) for elem in observables ])\n",
        "    list_after_transition=[]\n",
        "    list_after_acceptance_step=[]\n",
        "\n",
        "    for i in tqdm(range(0, N_hops)):\n",
        "        #print(\"i: \", i)\n",
        "        states.append(current_state)\n",
        "        # get sprime\n",
        "        s_prime=run_qc_quantum_step(qc_initialised_to_s=qc_s, model= model, alpha=alpha, n_spins=num_spins, num_trotter_steps=num_trotter_steps, time=0.8)\n",
        "        list_after_transition.append(s_prime)\n",
        "        # accept/reject s_prime \n",
        "        energy_s=model.get_energy(current_state)\n",
        "        energy_sprime=model.get_energy(s_prime)\n",
        "        next_state= classical_loop_accepting_state(current_state, s_prime, energy_s, energy_sprime,temp=1)\n",
        "        current_state=next_state\n",
        "        # if current_state!=next_state:# this seems to be a redundant step. I could have set current_state=classical_loop_accepting_state(current_state, s_prime, energy_s, energy_sprime,temp=1)\n",
        "        #   current_state= next_state\n",
        "        list_after_acceptance_step.append(current_state)\n",
        "\n",
        "        # if store_observables:  ## store the observables \n",
        "          \n",
        "        #   if next_state == s_prime: observable_dict['acceptance'].append('True')\n",
        "        #   else: observable_dict['acceptance'].append('False')\n",
        "        #   observable_dict['energy'].append(model.get_energy(next_state))\n",
        "\n",
        "        ## reinitiate\n",
        "        qc_s=initialise_qc(n_spins=num_spins, bitstring=current_state)\n",
        "      \n",
        "    dict_count_return_last_n_states=Counter(states[-return_last_n_states:])#dictionary of occurences for last \"return_last_n_states\" states\n",
        "\n",
        "    if return_both_classical_and_quantum_steps: \n",
        "      to_return= dict_count_return_last_n_states, list_after_transition, list_after_acceptance_step\n",
        "    else: \n",
        "      to_return= dict_count_return_last_n_states\n",
        "\n",
        "    return to_return"
      ]
    },
    {
      "cell_type": "markdown",
      "metadata": {
        "id": "fTvZqCVFs3OC"
      },
      "source": [
        "### Some new helper functions"
      ]
    },
    {
      "cell_type": "code",
      "execution_count": 31,
      "metadata": {
        "id": "jeeJADzzAq12"
      },
      "outputs": [],
      "source": [
        "# some new helper functions\n",
        "def states(num_spins:int)->list:\n",
        "    ''' \n",
        "    Returns all possible binary strings of length n=num_spins\n",
        "\n",
        "    Args:\n",
        "    num_spins: n length of the bitstring\n",
        "    Returns:\n",
        "    possible_states= list of all possible binary strings of length num_spins\n",
        "    '''\n",
        "    num_possible_states=2**(num_spins)\n",
        "    possible_states=[f'{k:0{num_spins}b}' for k in range(0,num_possible_states)]\n",
        "    return possible_states\n",
        "\n",
        "def magnetization_of_state(bitstring:str)->float:\n",
        "    '''  \n",
        "    Args:\n",
        "    bitstring: for eg: '010'\n",
        "    Returns:\n",
        "    magnetization for the given bitstring\n",
        "    '''\n",
        "    array=np.array(list(bitstring))\n",
        "    num_times_one=np.count_nonzero(array=='1')\n",
        "    num_times_zero=len(array)-num_times_one\n",
        "    magnetization=num_times_one-num_times_zero\n",
        "    return magnetization\n",
        "\n",
        "def dict_magnetization_of_all_states(list_all_possible_states:list)->dict:\n",
        "    '''\n",
        "    Returns magnetization for all unique states\n",
        "    \n",
        "    Args:\n",
        "    list_all_possible_states\n",
        "    Returns:\n",
        "    dict_magnetization={state(str): magnetization_value}\n",
        "    '''\n",
        "    list_mag_vals=[magnetization_of_state(state) for state in list_all_possible_states]\n",
        "    dict_magnetization=dict(zip(list_all_possible_states, list_mag_vals ))\n",
        "    #print(\"dict_magnetization:\"); print(dict_magnetization)\n",
        "    return dict_magnetization\n",
        "  \n",
        "def value_sorted_dict(dict_in, reverse=False):\n",
        "\n",
        "  sorted_dict={k: v for k, v in sorted(dict_in.items(), key=lambda item: item[1], reverse=reverse)}\n",
        "  return sorted_dict\n",
        "\n",
        "\n",
        "## enter samples, get normalised distn\n",
        "def get_distn(list_of_samples:list)-> dict:\n",
        "  '''   \n",
        "  Returns the dictionary of distn for input list_of_samples\n",
        "  '''\n",
        "  len_list=len(list_of_samples)\n",
        "  temp_dict=Counter(list_of_samples)\n",
        "  temp_prob_list=np.array(list(temp_dict.values()))*(1./len_list)\n",
        "  dict_to_return=dict(zip( list(temp_dict.keys()), temp_prob_list))\n",
        "  return dict_to_return\n",
        "\n",
        "\n",
        "## Average\n",
        "def avg(dict_probabilities:dict, dict_observable_val_at_states:dict):\n",
        "  ''' \n",
        "  Returns average of any observable of interest\n",
        "\n",
        "  Args:\n",
        "  dict_probabilities= {state: probability}\n",
        "  dict_observable_val_at_states={state (same as that of dict_probabilities): observable's value at that state}\n",
        "\n",
        "  Returns:\n",
        "  avg\n",
        "  '''\n",
        "  len_dict=len(dict_probabilities)\n",
        "  temp_array=np.zeros((len_dict,))\n",
        "  temp_list=[dict_probabilities[j]*dict_observable_val_at_states[j] for j in (list(dict_probabilities.keys())) ]\n",
        "  avg=np.mean(temp_list)\n",
        "  return avg\n",
        "\n",
        "### function to get running average of magnetization\n",
        "def running_avg_magnetization(list_states_mcmc:list):\n",
        "  ''' \n",
        "  Returns the running average magnetization \n",
        "\n",
        "  Args:\n",
        "  list_states_mcmc= List of states aceepted after each MCMC step\n",
        "  '''\n",
        "  len_iters_mcmc=len(list_states_mcmc)\n",
        "  running_avg_mag={}\n",
        "  for i in tqdm(range(1,len_iters_mcmc)):\n",
        "    temp_list=list_states_mcmc[:i]#[:i]\n",
        "    temp_prob=get_distn(temp_list)\n",
        "    dict_mag_states_in_temp_prob=dict_magnetization_of_all_states(temp_list)\n",
        "    running_avg_mag[i]=avg(temp_prob, dict_mag_states_in_temp_prob)\n",
        "  return running_avg_mag\n",
        "\n",
        "\n",
        "\n",
        "## Plotting related\n",
        "def plot_dict_of_running_avg_observable(dict_running_avg:dict, observable_legend_label:str):\n",
        "  plt.plot(list(dict_running_avg.keys()), list(dict_running_avg.values()),\"-\" ,label=observable_legend_label)\n",
        "  plt.xlabel(\"MCMC iterations\")\n",
        "\n",
        "def plot_bargraph_desc_order(desc_val_order_dict_in:dict, label:str, normalise_complete_data:bool=False,plot_first_few:int=0):\n",
        "  width=1.0\n",
        "  list_keys=list(desc_val_order_dict_in.keys())\n",
        "  list_vals=list(desc_val_order_dict_in.values())\n",
        "  if normalise_complete_data:\n",
        "    list_vals=np.divide(list_vals, sum(list_vals))#np.divide(list(vals), sum(vals))\n",
        "  if plot_first_few!=0:\n",
        "    plt.bar(list_keys[0:plot_first_few], list_vals[0:plot_first_few], label=label)\n",
        "  else:\n",
        "    plt.bar(list_keys, list_vals, label=label)\n",
        "  plt.xticks(rotation=45)\n",
        "\n",
        "def plot_multiple_bargraphs(list_of_dicts:list,list_labels:list,list_normalise:list ,plot_first_few,  sort_desc=False,sort_asc=False, figsize=(15,7)):\n",
        "  list_keys=list(list_of_dicts[0].keys())\n",
        "  dict_data={}\n",
        "  for i in range(0,len(list_labels)):\n",
        "    #list_vals=[list_of_dicts[i][j] for j in list_keys if j in list(list_of_dicts[i].keys()) else 0] #list(list_of_dicts[i].values())\n",
        "    list_vals=[list_of_dicts[i][j] if j in list(list_of_dicts[i].keys()) else 0 for j in list_keys]\n",
        "    if list_normalise[i]:\n",
        "      list_vals=np.divide(list_vals, sum(list_vals))\n",
        "    dict_data[list_labels[i]]=list_vals\n",
        "  df=pd.DataFrame(dict_data, index=list_keys)\n",
        "  if sort_desc:\n",
        "    df_sorted_desc=df.sort_values(list_labels[0], ascending=False)\n",
        "    df_sorted_desc[:plot_first_few].plot.bar(rot=90,figsize=figsize)\n",
        "  elif sort_asc:\n",
        "    df_sorted_asc=df.sort_values(list_labels[0], ascending=True)\n",
        "    df_sorted_asc[:plot_first_few].plot.bar(rot=90,figsize=figsize)\n",
        "  elif (sort_desc==False and sort_asc==False):\n",
        "    df[:plot_first_few].plot.bar(rot=90,figsize=figsize)\n",
        "\n",
        "\n",
        "# function to create dict for number of times states sprime were not accepted in MCMC iterations\n",
        "def fn_numtimes_bitstring_not_accepted(list_after_trsn, list_after_accept, bitstring):\n",
        "\n",
        "  where_sprime_is_bitstr=list(np.where( np.array(list_after_trsn) == bitstring)[0])\n",
        "  where_bitstr_not_accepted=[k for k in where_sprime_is_bitstr if list_after_accept[k]!=bitstring]\n",
        "  numtimes_sprime_is_bitstring= len(where_sprime_is_bitstr)\n",
        "  numtimes_bitstring_not_accepted=len(where_bitstr_not_accepted)\n",
        "  return numtimes_bitstring_not_accepted, numtimes_sprime_is_bitstring\n",
        "\n",
        "def fn_states_not_accepted(list_states:list, list_after_trsn:list, list_after_accept:list):\n",
        "  list_numtimes_state_not_accepted=[fn_numtimes_bitstring_not_accepted(list_after_trsn, list_after_accept,k)[0] for k in list_states]\n",
        "  list_numtimes_sprime_is_state=[fn_numtimes_bitstring_not_accepted(list_after_trsn, list_after_accept,k)[1] for k in list_states]\n",
        "  dict_numtimes_states_not_accepted=dict(zip(list_states, list_numtimes_state_not_accepted))\n",
        "  dict_numtimes_sprime_is_state=dict(zip(list_states, list_numtimes_sprime_is_state))\n",
        "  return dict_numtimes_states_not_accepted, dict_numtimes_sprime_is_state\n",
        "\n",
        "# hamming distance between 2 strings\n",
        "def hamming_dist(str1, str2):\n",
        "    i = 0\n",
        "    count = 0\n",
        "    while(i < len(str1)):\n",
        "        if(str1[i] != str2[i]):\n",
        "            count += 1\n",
        "        i += 1\n",
        "    return count\n"
      ]
    },
    {
      "cell_type": "code",
      "execution_count": 13,
      "metadata": {
        "id": "P0h_vOEQs3OD"
      },
      "outputs": [],
      "source": [
        "states_nbit=states(num_spins=n_spins)\n",
        "\n",
        "# Actual_probability distribution\n",
        "transits_bltz = dict( [ ( state, model.get_boltzmann_prob(state) ) for state in states_nbit ] )\n",
        "rqd_sum=np.sum(np.array(list(transits_bltz.values())))\n",
        "#print(rqd_sum)\n",
        "prob_vals=list(np.array(list(transits_bltz.values()))*(1./rqd_sum))\n",
        "boltz_prob_distn=value_sorted_dict( dict(zip(states_nbit, prob_vals )), reverse=True )"
      ]
    },
    {
      "cell_type": "markdown",
      "metadata": {
        "id": "IekfaYLOD_67"
      },
      "source": [
        "## Run classical MCMC"
      ]
    },
    {
      "cell_type": "code",
      "source": [
        "def hamming_dist_related_counts(num_spins:int,sprime_each_iter:list, states_accepted_each_iter:list):\n",
        "\n",
        "  dict_counts_states_hamming_dist=dict(zip(list(range(0,num_spins+1)), [0]*(num_spins+1) ))\n",
        "  ham_dist_s_and_sprime=np.array([hamming_dist(states_accepted_each_iter[j], sprime_each_iter[j+1]) for j in range(0,len(states_accepted_each_iter)-1) ])\n",
        "  for k in list(dict_counts_states_hamming_dist.keys()):\n",
        "    dict_counts_states_hamming_dist[k]=np.count_nonzero(ham_dist_s_and_sprime == k) \n",
        "  \n",
        "  assert sum(list(dict_counts_states_hamming_dist.values()))== len(sprime_each_iter)-1\n",
        "  return dict_counts_states_hamming_dist\n",
        "\n",
        "def energy_difference_related_counts(num_spins, sprime_each_iter:list, states_accepted_each_iter:list, model_in):\n",
        "\n",
        "  energy_diff_s_and_sprime=np.array([abs(model.get_energy(sprime_each_iter[j])-model.get_energy(states_accepted_each_iter[j+1])) for j in range(0,len(sprime_each_iter)-1)])\n",
        "  return energy_diff_s_and_sprime"
      ],
      "metadata": {
        "id": "ej3ganq3tsRV"
      },
      "execution_count": 77,
      "outputs": []
    },
    {
      "cell_type": "code",
      "execution_count": null,
      "metadata": {
        "id": "QJGVQcuVD_Cf"
      },
      "outputs": [],
      "source": [
        "# symmetric uniform transition matrix for uniform transition rule\n",
        "num_spins=n_spins#4\n",
        "num_elems=2**(num_spins)\n",
        "# transit_mat=np.ones((num_elems,num_elems))*(1./(2*num_elems))# in general case transit matrix could be entirely different\n",
        "# np.fill_diagonal(transit_mat, 1./2)\n",
        "\n",
        "# Run MCMC with uniform random transition strategy\n",
        "N_hops=2000\n",
        "dict_seperate_chains_states_distn_mcmc={}\n",
        "dict_seperate_chains_sprime_mcmc={}\n",
        "dict_seperate_chains_accepted_mcmc={}\n",
        "dict_seperate_chains_counts_based_on_hamming_dist={}\n",
        "dict_seperate_chains_energy_diff_s_and_sprime={}# for plotting histogram\n",
        "num_seperate_mcmc_chains=10\n",
        "\n",
        "for chain_num in tqdm(range(0,num_seperate_mcmc_chains)):\n",
        "    dict_states_mcmc, cl_mcmc_after_trsn, cl_mcmc_after_accept =classical_mcmc(N_hops, num_spins, num_elems,model, return_last_n_states=600, return_both_classical_and_quantum_steps=True)\n",
        "    dict_states_mcmc_sorted_desc=value_sorted_dict(dict_states_mcmc, reverse=True)\n",
        "\n",
        "    dict_seperate_chains_states_distn_mcmc[chain_num]=dict_states_mcmc_sorted_desc\n",
        "    dict_seperate_chains_sprime_mcmc[chain_num]=cl_mcmc_after_trsn\n",
        "    dict_seperate_chains_accepted_mcmc[chain_num]=cl_mcmc_after_accept\n",
        "    dict_seperate_chains_energy_diff_s_and_sprime[chain_num]=energy_difference_related_counts(num_spins, cl_mcmc_after_trsn, cl_mcmc_after_accept, model_in=model)\n",
        "    dict_seperate_chains_counts_based_on_hamming_dist[chain_num]=hamming_dist_related_counts(num_spins, cl_mcmc_after_trsn, cl_mcmc_after_accept)"
      ]
    },
    {
      "cell_type": "code",
      "source": [
        "dict_seperate_chains_counts_based_on_hamming_dist"
      ],
      "metadata": {
        "id": "cZpDuh55-apK",
        "outputId": "7e29f5a9-351d-4571-9527-62316aa3e613",
        "colab": {
          "base_uri": "https://localhost:8080/"
        }
      },
      "execution_count": 71,
      "outputs": [
        {
          "output_type": "execute_result",
          "data": {
            "text/plain": [
              "{0: {0: 4, 1: 69, 2: 220, 3: 417, 4: 549, 5: 460, 6: 215, 7: 57, 8: 8},\n",
              " 1: {0: 10, 1: 79, 2: 222, 3: 411, 4: 549, 5: 442, 6: 224, 7: 53, 8: 9},\n",
              " 2: {0: 8, 1: 74, 2: 238, 3: 417, 4: 552, 5: 430, 6: 217, 7: 56, 8: 7},\n",
              " 3: {0: 6, 1: 66, 2: 239, 3: 448, 4: 511, 5: 450, 6: 214, 7: 57, 8: 8},\n",
              " 4: {0: 5, 1: 57, 2: 228, 3: 430, 4: 504, 5: 462, 6: 236, 7: 67, 8: 10},\n",
              " 5: {0: 8, 1: 61, 2: 230, 3: 446, 4: 535, 5: 402, 6: 230, 7: 76, 8: 11},\n",
              " 6: {0: 5, 1: 64, 2: 207, 3: 436, 4: 516, 5: 471, 6: 221, 7: 69, 8: 10},\n",
              " 7: {0: 7, 1: 68, 2: 218, 3: 429, 4: 556, 5: 438, 6: 202, 7: 76, 8: 5},\n",
              " 8: {0: 5, 1: 40, 2: 216, 3: 415, 4: 596, 5: 445, 6: 211, 7: 61, 8: 10},\n",
              " 9: {0: 7, 1: 60, 2: 205, 3: 449, 4: 558, 5: 434, 6: 221, 7: 58, 8: 7}}"
            ]
          },
          "metadata": {},
          "execution_count": 71
        }
      ]
    },
    {
      "cell_type": "code",
      "source": [
        "for i in range(0,9):\n",
        "  mcmc_chain_num=i\n",
        "  plt.figure()\n",
        "  plt.hist(dict_seperate_chains_energy_diff_s_and_sprime[mcmc_chain_num])"
      ],
      "metadata": {
        "id": "mEjcu5Mi-d_D"
      },
      "execution_count": null,
      "outputs": []
    },
    {
      "cell_type": "code",
      "execution_count": null,
      "metadata": {
        "id": "MOte0CEAs3OG"
      },
      "outputs": [],
      "source": [
        "### data for plotting running average magnetization 5 cases seperately:\n",
        "first_few=500\n",
        "#cl_running_avg_magzn=[running_avg_magnetization(list_states_mcmc=dict_seperate_chains_accepted_mcmc[m][:first_few+1]) for m in range(0,num_seperate_mcmc_chains)]\n",
        "dict_for_df_running_avg_seperate_mcmc={}\n",
        "for m in range(0, num_seperate_mcmc_chains):\n",
        "  dict_for_df_running_avg_seperate_mcmc[m]=list(running_avg_magnetization(list_states_mcmc=dict_seperate_chains_accepted_mcmc[m][:first_few+1]).values())\n",
        "\n",
        "running_avg_df=pd.DataFrame(dict_for_df_running_avg_seperate_mcmc)\n",
        "mean_magnetization=running_avg_df.mean(axis=1)# mean taken over all seperate mcmc chains\n",
        "\n",
        "plt.figure(figsize=(10,7))\n",
        "magnetization_of_all_states=dict_magnetization_of_all_states(states_nbit)\n",
        "actual_avg_mag=avg(dict_probabilities=boltz_prob_distn, dict_observable_val_at_states=magnetization_of_all_states)\n",
        "plt.plot(mean_magnetization,\":\" ,label=\"Cl mcmc\")\n",
        "plt.axhline(y=actual_avg_mag,linestyle=\"-\", color=\"k\" ,label=\"Actual\")\n",
        "plt.legend()"
      ]
    },
    {
      "cell_type": "code",
      "execution_count": 49,
      "metadata": {
        "id": "2DVkLsRKs3OI"
      },
      "outputs": [],
      "source": [
        "### Sampling related\n",
        "# not needed\n",
        "# list_of_dict_state_not_accepted=[]\n",
        "# list_of_dict_sprime_occured=[]\n",
        "# for i in tqdm(range(0,num_seperate_mcmc_chains)):\n",
        "#     dict_numtimes_state_not_accepted, dict_numtimes_sprime=fn_states_not_accepted(list_states=states_nbit,\n",
        "#     list_after_trsn=dict_seperate_chains_sprime_mcmc[i], \n",
        "#     list_after_accept= dict_seperate_chains_accepted_mcmc[i])\n",
        "#     list_of_dict_state_not_accepted.append(dict_numtimes_state_not_accepted)\n",
        "#     list_of_dict_sprime_occured.append(dict_numtimes_sprime)\n",
        "\n",
        "# numtimes_sprime_rejected_array=np.zeros((num_elems,num_seperate_mcmc_chains))\n",
        "# numtimes_sprime_occured_array=np.zeros((num_elems,num_seperate_mcmc_chains))\n",
        "# for i in range(0, num_seperate_mcmc_chains):\n",
        "#     numtimes_sprime_rejected_array[:,i]=list(list_of_dict_state_not_accepted[i].values())\n",
        "#     numtimes_sprime_occured_array[:,i]=list(list_of_dict_sprime_occured[i].values())\n",
        "\n",
        "# avg_sprime_rejected=list(np.mean(numtimes_sprime_rejected_array, axis=1))\n",
        "# std_dev_sprime_rejected=np.std(numtimes_sprime_rejected_array, axis=1)\n",
        "# avg_sprime_occured=list(np.mean(numtimes_sprime_occured_array, axis=1))\n",
        "\n",
        "# dict_avg_times_sprime_rejected=dict(\n",
        "#     zip(\n",
        "#     list(dict_numtimes_state_not_accepted.keys()),avg_sprime_rejected\n",
        "#     )\n",
        "#     )\n",
        "\n",
        "# dict_avg_times_sprime_occured=dict(\n",
        "#     zip(\n",
        "#     list(dict_numtimes_sprime.keys()),avg_sprime_occured\n",
        "#     )\n",
        "#     )\n",
        "\n",
        "# print(avg_sprime_rejected)"
      ]
    },
    {
      "cell_type": "code",
      "execution_count": null,
      "metadata": {
        "id": "kULpQHAzac1R"
      },
      "outputs": [],
      "source": [
        "# plt.figure(figsize=(15,10))\n",
        "# plt.subplot(2,1,1)\n",
        "# plot_bargraph_desc_order(boltz_prob_distn,label=\"theoretical\", plot_first_few=30)   \n",
        "# plt.legend()\n",
        "# plt.subplot(2,1,2)\n",
        "# plot_bargraph_desc_order(dict_states_mcmc,label=\"MCMC-uniform\", normalise_complete_data=True)  \n",
        "# plt.legend()\n",
        "# # plot_bargraph(boltz_prob_distn,label=\"theoretical\",plot_first_few=60)  \n",
        "# # plot_bargraph(dict_states_mcmc,label=\"MCMC-Uniform\",normalise_complete_data=True,plot_first_few=60)  \n",
        "# plot_multiple_bargraphs([boltz_prob_distn,dict_states_mcmc], [\"theory\", \"MCMC-Uniform random\"], list_normalise=[True,True], plot_first_few=30, sort_desc=True)\n",
        "# # plt.legend()"
      ]
    },
    {
      "cell_type": "code",
      "execution_count": null,
      "metadata": {
        "id": "z2lTXaPG1To_"
      },
      "outputs": [],
      "source": [
        "# # get actual probability distribution\n",
        "# transits_bltz = dict( [ ( state, model.get_boltzmann_prob(state) ) for state in states_nbit ] )\n",
        "# # plot actual prob distribution as well as one obtained from MCMC\n",
        "# #dict_states_mcmc_plot=dict(zip(list(range(0,2**(num_spins))), list(dict_states_mcmc.values()) ))\n",
        "# plot_histogram( [boltz_prob_distn, dict_states_mcmc] , figsize=(20, 7), legend= ['model', 'MCMC-uniform'], bar_labels=False, sort=\"value_desc\")"
      ]
    },
    {
      "cell_type": "markdown",
      "metadata": {
        "id": "A2r85OtSAq15"
      },
      "source": [
        "## Run quantum enhanced MCMC"
      ]
    },
    {
      "cell_type": "code",
      "execution_count": null,
      "metadata": {
        "colab": {
          "base_uri": "https://localhost:8080/"
        },
        "id": "YzHqeUOTAq15",
        "outputId": "0b6e39c2-e6e4-47ee-c535-da0b82939c16"
      },
      "outputs": [
        {
          "name": "stdout",
          "output_type": "stream",
          "text": [
            "starting with:  00011101\n"
          ]
        },
        {
          "name": "stderr",
          "output_type": "stream",
          "text": [
            "100%|██████████| 600/600 [03:59<00:00,  2.51it/s]\n"
          ]
        }
      ],
      "source": [
        "# symmetric uniform transition matrix for uniform transition rule: tho tbh I dont need it\n",
        "num_spins=n_spins#4\n",
        "num_elems=2**(num_spins)\n",
        "transit_mat=np.ones((num_elems,num_elems))*(1./(2*num_elems))# in general case transit matrix could be entirely different\n",
        "np.fill_diagonal(transit_mat, 1./2)\n",
        "\n",
        "# Run MCMC with uniform random transition strategy\n",
        "N_hops=600\n",
        "dict_states_quantum_mcmc, quant_mcmc_after_trsn, quant_mcmc_after_accept =quantum_enhanced_mcmc(N_hops, \n",
        "num_spins, num_elems, model, alpha, num_trotter_steps=10, \n",
        "return_last_n_states=300,return_both_classical_and_quantum_steps=True)"
      ]
    },
    {
      "cell_type": "code",
      "execution_count": null,
      "metadata": {
        "id": "-DZTBYno1ALp"
      },
      "outputs": [],
      "source": [
        "# get actual probability distribution\n",
        "#transits_bltz = dict( [ ( state, model.get_boltzmann_prob(state) ) for state in states_nbit ] )\n",
        "# plot actual prob distribution as well as one obtained from MCMC\n",
        "plot_histogram( [boltz_prob_distn, dict_states_quantum_mcmc] , figsize=(20, 7), legend= ['model', 'Quantum-enhanced MCMC' ], sort= 'value_desc')"
      ]
    },
    {
      "cell_type": "code",
      "execution_count": null,
      "metadata": {
        "id": "zBFr2uQgF7p_"
      },
      "outputs": [],
      "source": [
        "fig = plot_histogram( [boltz_prob_distn,dict_states_quantum_mcmc] , figsize=(40, 15), legend= [\"model\", \"Quantum\" ], bar_labels=False)\n",
        "fig"
      ]
    },
    {
      "cell_type": "code",
      "execution_count": null,
      "metadata": {
        "id": "8kIg-BaQFgQL"
      },
      "outputs": [],
      "source": [
        "plot_histogram( [boltz_prob_distn,dict_states_mcmc, dict_states_quantum_mcmc] , figsize=(40, 15), legend= ['model', 'classical MCMC: Uniform','Quantum-enhanced MCMC' ], sort='value_desc', bar_labels=False)"
      ]
    },
    {
      "cell_type": "code",
      "execution_count": null,
      "metadata": {
        "id": "7AjbJG0vAkxP"
      },
      "outputs": [],
      "source": [
        "# transits_bltz"
      ]
    },
    {
      "cell_type": "code",
      "execution_count": null,
      "metadata": {
        "id": "k--IFkWn__QG"
      },
      "outputs": [],
      "source": [
        "transits_bltz = dict( [ ( state, model.get_boltzmann_prob(state) ) for state in states_nbit ] )\n",
        "rqd_sum=np.sum(np.array(list(transits_bltz.values())))\n",
        "#print(rqd_sum)\n",
        "prob_vals=list(np.array(list(transits_bltz.values()))*(1./rqd_sum))\n",
        "boltz_prob_distn=dict(zip(list(transits_bltz.keys()), prob_vals ))\n",
        "print(boltz_prob_distn)"
      ]
    },
    {
      "cell_type": "markdown",
      "metadata": {
        "id": "yiwCStvOGip-"
      },
      "source": [
        "### comparing number of accepted/rejected samples"
      ]
    },
    {
      "cell_type": "code",
      "execution_count": null,
      "metadata": {
        "id": "SMtohT9qG_TX"
      },
      "outputs": [],
      "source": [
        "# plt.figure(figsize=(20,7))\n",
        "# plt.plot(cl_mcmc_after_trsn, label=\"Classical Uniform\")\n",
        "# plt.plot(quant_mcmc_after_trsn, label=\"Quantum\")\n",
        "# plt.xlabel(\"MCMC iterations\")\n",
        "# plt.title(\"after transition\")\n",
        "plt.figure(figsize=(10,10))\n",
        "#quant_mcmc_after_trsn, quant_mcmc_after_accept\n",
        "plt.plot(cl_mcmc_after_accept, label=\"Classical Uniform\")\n",
        "plt.plot(quant_mcmc_after_accept,label=\"Quantum\")\n",
        "plt.xlabel(\"MCMC iterations\")\n",
        "plt.title(\"State accepted in i'th iteration\")\n",
        "plt.legend()"
      ]
    },
    {
      "cell_type": "markdown",
      "metadata": {
        "id": "7fkk5Z-9PAYb"
      },
      "source": [
        "Next task:\n",
        "For different problem instances, do the following:\n",
        "\n",
        "1. Running average: magnetization. **(DONE)**\n",
        "\n",
        "2.  For first few relevant states (high probability), check how many times were those states accepted/rejected out of total number of iterations considered for the prob distn. **(CODE IS COMPLETE, NOW WE NEED TO RUN SOME EXPERIEMENTS)**\n",
        "\n",
        "3. Overlap with the desired distribution.\n"
      ]
    },
    {
      "cell_type": "markdown",
      "metadata": {
        "id": "CKgLUKukDne0"
      },
      "source": [
        "## Running average; magnetization"
      ]
    },
    {
      "cell_type": "code",
      "execution_count": null,
      "metadata": {
        "colab": {
          "base_uri": "https://localhost:8080/"
        },
        "id": "atvmYeWL0hvO",
        "outputId": "33f110b2-d51c-40e7-9a5a-173191095d4f"
      },
      "outputs": [
        {
          "name": "stderr",
          "output_type": "stream",
          "text": [
            "100%|██████████| 599/599 [00:00<00:00, 843.07it/s]\n",
            "100%|██████████| 599/599 [00:00<00:00, 811.41it/s]\n"
          ]
        }
      ],
      "source": [
        "check_cl=running_avg_magnetization(list_states_mcmc=cl_mcmc_after_accept)\n",
        "check_quant=running_avg_magnetization(list_states_mcmc=quant_mcmc_after_accept)"
      ]
    },
    {
      "cell_type": "code",
      "execution_count": null,
      "metadata": {
        "colab": {
          "base_uri": "https://localhost:8080/",
          "height": 460
        },
        "id": "ynfCYeiS50wQ",
        "outputId": "e7d5e285-be38-440e-fed3-f35d6c8d6253"
      },
      "outputs": [
        {
          "data": {
            "text/plain": [
              "<matplotlib.legend.Legend at 0x7f308a901990>"
            ]
          },
          "execution_count": 24,
          "metadata": {},
          "output_type": "execute_result"
        },
        {
          "data": {
            "image/png": "[encoded data removed]",
            "text/plain": [
              "<Figure size 1440x504 with 1 Axes>"
            ]
          },
          "metadata": {
            "needs_background": "light"
          },
          "output_type": "display_data"
        }
      ],
      "source": [
        "plt.figure(figsize=(20,7))\n",
        "magnetization_of_all_states=dict_magnetization_of_all_states(states_nbit)\n",
        "actual_avg_mag=avg(dict_probabilities=boltz_prob_distn, dict_observable_val_at_states=magnetization_of_all_states)\n",
        "plt.axhline(y=actual_avg_mag,linestyle=\":\", color=\"k\" ,label=\"Actual\")\n",
        "plot_dict_of_running_avg_observable(check_cl, \"Cl MCMC- Uniform\")\n",
        "plot_dict_of_running_avg_observable(check_quant, \"Quantum\")\n",
        "plt.legend()"
      ]
    },
    {
      "cell_type": "markdown",
      "metadata": {
        "id": "sL_7qZNIEDeO"
      },
      "source": [
        "## Sampling related"
      ]
    },
    {
      "cell_type": "code",
      "execution_count": null,
      "metadata": {
        "id": "s2_o7fwB6-Fy"
      },
      "outputs": [],
      "source": [
        "# cl_mcmc_after_trsn, cl_mcmc_after_accept\n",
        "# quant_mcmc_after_trsn, quant_mcmc_after_accept \n",
        "aa,bb=fn_states_not_accepted(list_states=states_nbit, list_after_trsn=cl_mcmc_after_trsn, list_after_accept=cl_mcmc_after_accept)\n",
        "print(aa); print(bb)\n",
        "# fn_numtimes_bitstring_not_accepted(list_after_trsn=cl_mcmc_after_trsn, list_after_accept=cl_mcmc_after_accept,bitstring='0000')"
      ]
    },
    {
      "cell_type": "code",
      "execution_count": null,
      "metadata": {
        "id": "qP7XoMFnUgdr"
      },
      "outputs": [],
      "source": []
    },
    {
      "cell_type": "code",
      "execution_count": null,
      "metadata": {
        "id": "XTgDq37vKC61"
      },
      "outputs": [],
      "source": []
    }
  ],
  "metadata": {
    "colab": {
      "provenance": [],
      "include_colab_link": true
    },
    "kernelspec": {
      "display_name": "Python 3.8.8 ('base')",
      "language": "python",
      "name": "python3"
    },
    "language_info": {
      "codemirror_mode": {
        "name": "ipython",
        "version": 3
      },
      "file_extension": ".py",
      "mimetype": "text/x-python",
      "name": "python",
      "nbconvert_exporter": "python",
      "pygments_lexer": "ipython3",
      "version": "3.8.8"
    },
    "orig_nbformat": 4,
    "vscode": {
      "interpreter": {
        "hash": "184a4bfd18ed123440bfad7023e607e274d9f6c0bdada601c853a4367aa45839"
      }
    }
  },
  "nbformat": 4,
  "nbformat_minor": 0
}