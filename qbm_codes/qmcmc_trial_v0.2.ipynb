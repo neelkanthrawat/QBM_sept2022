{
  "cells": [
    {
      "cell_type": "markdown",
      "metadata": {
        "id": "view-in-github",
        "colab_type": "text"
      },
      "source": [
        "<a href=\"https://colab.research.google.com/github/neelkanthrawat/QBM_sept2022/blob/main/qbm_codes/qmcmc_trial_v0.2.ipynb\" target=\"_parent\"><img src=\"https://colab.research.google.com/assets/colab-badge.svg\" alt=\"Open In Colab\"/></a>"
      ]
    },
    {
      "cell_type": "code",
      "execution_count": 15,
      "metadata": {
        "id": "8j8VtbXvAq1r"
      },
      "outputs": [],
      "source": [
        "import numpy as np\n",
        "import matplotlib.pyplot as plt\n",
        "import pandas as pd\n",
        "from tqdm import tqdm\n",
        "from collections import Counter"
      ]
    },
    {
      "cell_type": "code",
      "execution_count": null,
      "metadata": {
        "id": "0Hz-A7mtA9Vi"
      },
      "outputs": [],
      "source": [
        "!pip install qiskit ipywidgets # while working on google colab!"
      ]
    },
    {
      "cell_type": "code",
      "execution_count": 17,
      "metadata": {
        "colab": {
          "base_uri": "https://localhost:8080/"
        },
        "id": "Zt6GDRoNAtZJ",
        "outputId": "ee751f95-9fff-4a41-bcd2-738e5229611d"
      },
      "outputs": [
        {
          "output_type": "stream",
          "name": "stdout",
          "text": [
            "--2022-10-09 13:26:04--  https://raw.githubusercontent.com/neelkanthrawat/QBM_sept2022/main/qbm_codes/qbm_utils.py\n",
            "Resolving raw.githubusercontent.com (raw.githubusercontent.com)... 185.199.111.133, 185.199.110.133, 185.199.109.133, ...\n",
            "Connecting to raw.githubusercontent.com (raw.githubusercontent.com)|185.199.111.133|:443... connected.\n",
            "HTTP request sent, awaiting response... 200 OK\n",
            "Length: 17062 (17K) [text/plain]\n",
            "Saving to: ‘qbm_utils.py.1’\n",
            "\n",
            "\rqbm_utils.py.1        0%[                    ]       0  --.-KB/s               \rqbm_utils.py.1      100%[===================>]  16.66K  --.-KB/s    in 0s      \n",
            "\n",
            "2022-10-09 13:26:04 (81.6 MB/s) - ‘qbm_utils.py.1’ saved [17062/17062]\n",
            "\n"
          ]
        }
      ],
      "source": [
        "# while working on google colab, run this cell\n",
        "!wget https://raw.githubusercontent.com/neelkanthrawat/QBM_sept2022/main/qbm_codes/qbm_utils.py"
      ]
    },
    {
      "cell_type": "code",
      "execution_count": 18,
      "metadata": {
        "id": "bZo97FWnAq1u"
      },
      "outputs": [],
      "source": [
        "from qbm_utils import *"
      ]
    },
    {
      "cell_type": "markdown",
      "metadata": {
        "id": "hd51eYqCs3N4"
      },
      "source": [
        "### Define your model"
      ]
    },
    {
      "cell_type": "markdown",
      "metadata": {
        "id": "51HJZt-pAq1w"
      },
      "source": [
        "### Some updated funcs"
      ]
    },
    {
      "cell_type": "code",
      "execution_count": 19,
      "metadata": {
        "id": "wqKR3qcaAq1y"
      },
      "outputs": [],
      "source": [
        "def classical_mcmc(N_hops:int, num_spins:int, num_elems:int, model, return_last_n_states=500, return_both_classical_and_quantum_steps=False, temp=1 ):\n",
        "    ''' \n",
        "    version 0.2\n",
        "    Args: \n",
        "    Nhops: Number of time you want to run mcmc\n",
        "    num_spins: number of spins\n",
        "    num_elems: 2**(num_spins)\n",
        "    model\n",
        "\n",
        "    Returns:\n",
        "    Last 'return_last_n_states' elements of states so collected (default value=500). one can then deduce the distribution from it! \n",
        "    '''\n",
        "    states=[]\n",
        "    current_state=f'{np.random.randint(0,num_elems):0{num_spins}b}'# bin_next_state=f'{next_state:0{num_spins}b}'\n",
        "    print(\"starting with: \", current_state) \n",
        "\n",
        "    ## initialiiise observables\n",
        "    #observable_dict = dict([ (elem, []) for elem in observables ])\n",
        "    list_after_transition=[]\n",
        "    list_after_acceptance_step=[]\n",
        "\n",
        "    for i in tqdm(range(0, N_hops)):\n",
        "        states.append(current_state)\n",
        "        # get sprime\n",
        "        s_prime=classical_transition(num_spins)\n",
        "        list_after_transition.append(s_prime)\n",
        "        # accept/reject s_prime \n",
        "        energy_s=model.get_energy(current_state)\n",
        "        energy_sprime=model.get_energy(s_prime)\n",
        "        next_state= classical_loop_accepting_state(current_state, s_prime, energy_s, energy_sprime,temp=temp)\n",
        "        current_state= next_state\n",
        "        list_after_acceptance_step.append(current_state)\n",
        "        # if store_observables:  ## store the observables \n",
        "          \n",
        "        #   if next_state == s_prime: observable_dict['acceptance'].append('True')\n",
        "        #   else: observable_dict['acceptance'].append('False')\n",
        "        #   observable_dict['energy'].append(model.get_energy(next_state))\n",
        "\n",
        "        ## reinitiate\n",
        "        qc_s=initialise_qc(n_spins=num_spins, bitstring=current_state)\n",
        "    \n",
        "    # returns dictionary of occurences for last \"return_last_n_states\" states\n",
        "    dict_count_return_last_n_states=Counter(states[-return_last_n_states:])\n",
        "    \n",
        "    if return_both_classical_and_quantum_steps: \n",
        "        to_return = dict_count_return_last_n_states, list_after_transition, list_after_acceptance_step\n",
        "    else: \n",
        "        to_return= dict_count_return_last_n_states \n",
        "    \n",
        "    return to_return"
      ]
    },
    {
      "cell_type": "code",
      "source": [
        "### quantum circuit for quant mcmc\n",
        "def initialise_qc(n_spins:int, bitstring:str):\n",
        "  '''\n",
        "  Initialises a quantum circuit with n_spins number of qubits in a state defined by \"bitstring\"\n",
        "  (Caution: Qiskit's indexing convention for qubits (order of tensor product) is different from the conventional textbook one!)  \n",
        "  '''\n",
        "\n",
        "  spins = QuantumRegister(n_spins, name= 'spin')\n",
        "  creg_final = ClassicalRegister(n_spins, name= 'creg_f')\n",
        "  qc_in = QuantumCircuit(spins, creg_final)\n",
        "\n",
        "  len_str_in=len(bitstring)\n",
        "  assert(len_str_in == len(qc_in.qubits)), \"len(bitstring) should be equal to number_of_qubits/spins\"\n",
        "\n",
        "  #print(\"qc_in.qubits: \", qc_in.qubits)\n",
        "  where_x_gate=[qc_in.qubits[len_str_in-1-i] for i in range(0,len(bitstring)) if bitstring[i]=='1']\n",
        "  if len(where_x_gate)!=0:\n",
        "    qc_in.x(where_x_gate)\n",
        "  return qc_in\n",
        "\n",
        "def fn_qc_h1(num_spins, gamma, alpha, h, delta_time):\n",
        "  ''' '''\n",
        "  from qiskit.extensions import UnitaryGate\n",
        "  a=gamma\n",
        "  #print(\"a:\",a)\n",
        "  b_list=[-(1-gamma)*alpha*hj for hj in h]\n",
        "  #print(\"first 2 bj: \", (b_list[0],b_list[1]))\n",
        "  list_hermitian_ops=[a*XGate().to_matrix()+b_list[j]*ZGate().to_matrix() for j in range(0,num_spins)]\n",
        "  list_unitaries=[UnitaryGate(HamiltonianGate(list_hermitian_ops[j], time=delta_time), label=f\"exp(-ia{j}X+b{j}Z)\") for j in range(0, len(list_hermitian_ops))]\n",
        "  qc=QuantumCircuit(num_spins)\n",
        "  for j in range(0, num_spins):\n",
        "    qc.append(list_unitaries[j], [num_spins-1-j])\n",
        "  qc.barrier()\n",
        "  #print(\"qc is:\"); print(qc.draw())\n",
        "  return qc\n",
        "\n",
        "def fn_qc_h2(J, alpha, gamma, delta_time=0.8):\n",
        "  num_spins=np.shape(J)[0]\n",
        "  qc_for_evol_h2=QuantumCircuit(num_spins)\n",
        "  theta_list=[-2*J[j,j+1]*(1-gamma)*alpha*delta_time for j in range(0, num_spins-1)]\n",
        "  for j in range(0, num_spins-1):\n",
        "    qc_for_evol_h2.rzz(theta_list[j], qubit1=num_spins-1-j, qubit2=num_spins-1-(j+1))\n",
        "  #print(\"qc for fn_qc_h2 is:\"); print(qc_for_evol_h2.draw())\n",
        "  return qc_for_evol_h2\n",
        "\n",
        "def trottered_qc_for_transition(num_spins, qc_h1, qc_h2, num_trotter_steps):\n",
        "  qc_combine=QuantumCircuit(num_spins)\n",
        "  for i in range(0, num_trotter_steps-1):\n",
        "    qc_combine=qc_combine.compose(qc_h1)\n",
        "    qc_combine=qc_combine.compose(qc_h2)\n",
        "    qc_combine.barrier()\n",
        "  qc_combine=qc_combine.compose(qc_h1)\n",
        "  #print(\"trotter ckt:\"); print(qc_combine.draw())\n",
        "  return qc_combine\n",
        "\n",
        "def combine_2_qc(init_qc:QuantumCircuit, trottered_qc:QuantumCircuit):\n",
        "\n",
        "  num_spins=len(init_qc.qubits)\n",
        "  qc=QuantumCircuit(num_spins, num_spins)\n",
        "  qc=qc.compose(init_qc)\n",
        "  qc.barrier()\n",
        "  qc=qc.compose(trottered_qc)\n",
        "  return qc\n",
        "\n",
        "def run_qc_quantum_step(qc_initialised_to_s:QuantumCircuit, model:IsingEnergyFunction, alpha,n_spins:int)->str:\n",
        "\n",
        "    '''     \n",
        "    Takes in a qc initialized to some state \"s\". After performing unitary evolution U=exp(-iHt)\n",
        "    , circuit is measured once and returns the bitstring ,s', corresponding to the measured state .\n",
        "\n",
        "    Args:\n",
        "    qc_initialised_to_s\n",
        "    alpha:\n",
        "    num_trotter_steps: (default 10)\n",
        "    time: For how long you want to evolve.\n",
        "    '''\n",
        "\n",
        "    h = model.get_h()\n",
        "    J = model.get_J()\n",
        "\n",
        "    #init_qc=initialise_qc(n_spins=n_spins, bitstring='1'*n_spins)\n",
        "    gamma=np.round(np.random.uniform(0.25,0.6), decimals=3)\n",
        "    time=np.random.choice(list(range(2,10)))\n",
        "    delta_time=0.8\n",
        "    num_trotter_steps=int(time/delta_time)\n",
        "    qc_evol_h1=fn_qc_h1(n_spins, gamma, alpha, h, delta_time)\n",
        "    qc_evol_h2=fn_qc_h2(J, alpha, gamma, delta_time=0.8)\n",
        "    trotter_ckt=trottered_qc_for_transition(n_spins,qc_evol_h1, qc_evol_h2, num_trotter_steps=num_trotter_steps)\n",
        "    qc_for_mcmc= combine_2_qc(qc_initialised_to_s, trotter_ckt)\n",
        "\n",
        "    # run the circuit\n",
        "    #creg_final=ClassicalRegister(n_spins, name= 'creg_f')\n",
        "    num_shots=1\n",
        "    quantum_registers_for_spins=qc_for_mcmc.qregs[0]\n",
        "    classical_register=qc_for_mcmc.cregs[0]\n",
        "    qc_for_mcmc.measure(quantum_registers_for_spins,classical_register)\n",
        "    state_obtained_dict=execute(qc_for_mcmc, shots= num_shots, backend= qsm).result().get_counts()\n",
        "    state_obtained=list(state_obtained_dict.keys())[0]#since there is only one element\n",
        "    \n",
        "    # for _ in range(num_trotter_steps):\n",
        "    #     append_evolution(qc_initialised_to_s, h, J ,gamma=np.random.random(), alpha=alpha, time=time)\n",
        "    # append_evolution(qc_initialised_to_s, h, J , gamma=0.1, alpha=alpha, time=time, is_terminal_step=True)\n",
        "    \n",
        "    # draw the ckt\n",
        "    #print(qc_initialised_to_s.draw())\n",
        "\n",
        "    # run the circuit\n",
        "    #creg_final=ClassicalRegister(n_spins, name= 'creg_f')\n",
        "    # num_shots=1\n",
        "    # quantum_registers_for_spins=qc_initialised_to_s.qregs[0]\n",
        "    # classical_register=qc_initialised_to_s.cregs[0]\n",
        "    # qc_initialised_to_s.measure(quantum_registers_for_spins,classical_register)\n",
        "    # state_obtained_dict=execute(qc_initialised_to_s, shots= num_shots, backend= qsm).result().get_counts()\n",
        "    # state_obtained=list(state_obtained_dict.keys())[0]#since there is only one element\n",
        "    return state_obtained"
      ],
      "metadata": {
        "id": "aFJtLzt9_uQC"
      },
      "execution_count": 35,
      "outputs": []
    },
    {
      "cell_type": "code",
      "execution_count": 38,
      "metadata": {
        "id": "vXzV3CDwAq10"
      },
      "outputs": [],
      "source": [
        "def quantum_enhanced_mcmc(N_hops:int, num_spins:int, num_elems:int, model:IsingEnergyFunction, alpha, return_last_n_states=500, return_both_classical_and_quantum_steps=False, temp=1):\n",
        "    ''' \n",
        "    version 0.2\n",
        "    Args: \n",
        "    Nhops: Number of time you want to run mcmc\n",
        "    num_spins: number of spins\n",
        "    num_elems: 2**(num_spins)\n",
        "\n",
        "    Returns:\n",
        "    Last 'return_last_n_states' elements of states so collected (default value=500). one can then deduce the distribution from it! \n",
        "    '''\n",
        "    states=[]\n",
        "    current_state=f'{np.random.randint(0,num_elems):0{num_spins}b}'# bin_next_state=f'{next_state:0{num_spins}b}'\n",
        "    print(\"starting with: \", current_state) \n",
        "    ## initialise quantum circuit to current_state\n",
        "    qc_s=initialise_qc(n_spins=num_spins, bitstring=current_state)\n",
        "    #print(\"qc_s is:\"); print(qc_s.draw())\n",
        "\n",
        "    ## intialise observables\n",
        "    #observable_dict = dict([ ( elem, []  ) for elem in observables ])\n",
        "    list_after_transition=[]\n",
        "    list_after_acceptance_step=[]\n",
        "\n",
        "    for i in tqdm(range(0, N_hops)):\n",
        "        #print(\"i: \", i)\n",
        "        states.append(current_state)\n",
        "        # get sprime\n",
        "        s_prime=run_qc_quantum_step(qc_initialised_to_s=qc_s, model= model, alpha=alpha, n_spins=num_spins)\n",
        "        list_after_transition.append(s_prime)\n",
        "        # accept/reject s_prime \n",
        "        energy_s=model.get_energy(current_state)\n",
        "        energy_sprime=model.get_energy(s_prime)\n",
        "        next_state= classical_loop_accepting_state(current_state, s_prime, energy_s, energy_sprime,temp=temp)\n",
        "        current_state=next_state\n",
        "        # if current_state!=next_state:# this seems to be a redundant step. I could have set current_state=classical_loop_accepting_state(current_state, s_prime, energy_s, energy_sprime,temp=1)\n",
        "        #   current_state= next_state\n",
        "        list_after_acceptance_step.append(current_state)\n",
        "\n",
        "        # if store_observables:  ## store the observables \n",
        "          \n",
        "        #   if next_state == s_prime: observable_dict['acceptance'].append('True')\n",
        "        #   else: observable_dict['acceptance'].append('False')\n",
        "        #   observable_dict['energy'].append(model.get_energy(next_state))\n",
        "\n",
        "        ## reinitiate\n",
        "        qc_s=initialise_qc(n_spins=num_spins, bitstring=current_state)\n",
        "      \n",
        "    dict_count_return_last_n_states=Counter(states[-return_last_n_states:])#dictionary of occurences for last \"return_last_n_states\" states\n",
        "\n",
        "    if return_both_classical_and_quantum_steps: \n",
        "      to_return= dict_count_return_last_n_states, list_after_transition, list_after_acceptance_step\n",
        "    else: \n",
        "      to_return= dict_count_return_last_n_states\n",
        "\n",
        "    return to_return"
      ]
    },
    {
      "cell_type": "markdown",
      "metadata": {
        "id": "fTvZqCVFs3OC"
      },
      "source": [
        "### Some new helper functions"
      ]
    },
    {
      "cell_type": "code",
      "execution_count": 28,
      "metadata": {
        "id": "jeeJADzzAq12"
      },
      "outputs": [],
      "source": [
        "# some new helper functions\n",
        "def states(num_spins:int)->list:\n",
        "    ''' \n",
        "    Returns all possible binary strings of length n=num_spins\n",
        "\n",
        "    Args:\n",
        "    num_spins: n length of the bitstring\n",
        "    Returns:\n",
        "    possible_states= list of all possible binary strings of length num_spins\n",
        "    '''\n",
        "    num_possible_states=2**(num_spins)\n",
        "    possible_states=[f'{k:0{num_spins}b}' for k in range(0,num_possible_states)]\n",
        "    return possible_states\n",
        "\n",
        "def magnetization_of_state(bitstring:str)->float:\n",
        "    '''  \n",
        "    Args:\n",
        "    bitstring: for eg: '010'\n",
        "    Returns:\n",
        "    magnetization for the given bitstring\n",
        "    '''\n",
        "    array=np.array(list(bitstring))\n",
        "    num_times_one=np.count_nonzero(array=='1')\n",
        "    num_times_zero=len(array)-num_times_one\n",
        "    magnetization=num_times_one-num_times_zero\n",
        "    return magnetization\n",
        "\n",
        "def dict_magnetization_of_all_states(list_all_possible_states:list)->dict:\n",
        "    '''\n",
        "    Returns magnetization for all unique states\n",
        "    \n",
        "    Args:\n",
        "    list_all_possible_states\n",
        "    Returns:\n",
        "    dict_magnetization={state(str): magnetization_value}\n",
        "    '''\n",
        "    list_mag_vals=[magnetization_of_state(state) for state in list_all_possible_states]\n",
        "    dict_magnetization=dict(zip(list_all_possible_states, list_mag_vals ))\n",
        "    #print(\"dict_magnetization:\"); print(dict_magnetization)\n",
        "    return dict_magnetization\n",
        "  \n",
        "def value_sorted_dict(dict_in, reverse=False):\n",
        "\n",
        "  sorted_dict={k: v for k, v in sorted(dict_in.items(), key=lambda item: item[1], reverse=reverse)}\n",
        "  return sorted_dict\n",
        "\n",
        "\n",
        "## enter samples, get normalised distn\n",
        "def get_distn(list_of_samples:list)-> dict:\n",
        "  '''   \n",
        "  Returns the dictionary of distn for input list_of_samples\n",
        "  '''\n",
        "  len_list=len(list_of_samples)\n",
        "  temp_dict=Counter(list_of_samples)\n",
        "  temp_prob_list=np.array(list(temp_dict.values()))*(1./len_list)\n",
        "  dict_to_return=dict(zip( list(temp_dict.keys()), temp_prob_list))\n",
        "  return dict_to_return\n",
        "\n",
        "\n",
        "## Average\n",
        "def avg(dict_probabilities:dict, dict_observable_val_at_states:dict):\n",
        "  ''' \n",
        "  Returns average of any observable of interest\n",
        "\n",
        "  Args:\n",
        "  dict_probabilities= {state: probability}\n",
        "  dict_observable_val_at_states={state (same as that of dict_probabilities): observable's value at that state}\n",
        "\n",
        "  Returns:\n",
        "  avg\n",
        "  '''\n",
        "  len_dict=len(dict_probabilities)\n",
        "  temp_array=np.zeros((len_dict,))\n",
        "  temp_list=[dict_probabilities[j]*dict_observable_val_at_states[j] for j in (list(dict_probabilities.keys())) ]\n",
        "  avg=np.mean(temp_list)\n",
        "  return avg\n",
        "\n",
        "### function to get running average of magnetization\n",
        "def running_avg_magnetization(list_states_mcmc:list):\n",
        "  ''' \n",
        "  Returns the running average magnetization \n",
        "\n",
        "  Args:\n",
        "  list_states_mcmc= List of states aceepted after each MCMC step\n",
        "  '''\n",
        "  len_iters_mcmc=len(list_states_mcmc)\n",
        "  running_avg_mag={}\n",
        "  for i in tqdm(range(1,len_iters_mcmc)):\n",
        "    temp_list=list_states_mcmc[:i]#[:i]\n",
        "    temp_prob=get_distn(temp_list)\n",
        "    dict_mag_states_in_temp_prob=dict_magnetization_of_all_states(temp_list)\n",
        "    running_avg_mag[i]=avg(temp_prob, dict_mag_states_in_temp_prob)\n",
        "  return running_avg_mag\n",
        "\n",
        "\n",
        "\n",
        "## Plotting related\n",
        "def plot_dict_of_running_avg_observable(dict_running_avg:dict, observable_legend_label:str):\n",
        "  plt.plot(list(dict_running_avg.keys()), list(dict_running_avg.values()),\"-\" ,label=observable_legend_label)\n",
        "  plt.xlabel(\"MCMC iterations\")\n",
        "\n",
        "def plot_bargraph_desc_order(desc_val_order_dict_in:dict, label:str, normalise_complete_data:bool=False,plot_first_few:int=0):\n",
        "  width=1.0\n",
        "  list_keys=list(desc_val_order_dict_in.keys())\n",
        "  list_vals=list(desc_val_order_dict_in.values())\n",
        "  if normalise_complete_data:\n",
        "    list_vals=np.divide(list_vals, sum(list_vals))#np.divide(list(vals), sum(vals))\n",
        "  if plot_first_few!=0:\n",
        "    plt.bar(list_keys[0:plot_first_few], list_vals[0:plot_first_few], label=label)\n",
        "  else:\n",
        "    plt.bar(list_keys, list_vals, label=label)\n",
        "  plt.xticks(rotation=45)\n",
        "\n",
        "def plot_multiple_bargraphs(list_of_dicts:list,list_labels:list,list_normalise:list ,plot_first_few,  sort_desc=False,sort_asc=False, figsize=(15,7)):\n",
        "  list_keys=list(list_of_dicts[0].keys())\n",
        "  dict_data={}\n",
        "  for i in range(0,len(list_labels)):\n",
        "    #list_vals=[list_of_dicts[i][j] for j in list_keys if j in list(list_of_dicts[i].keys()) else 0] #list(list_of_dicts[i].values())\n",
        "    list_vals=[list_of_dicts[i][j] if j in list(list_of_dicts[i].keys()) else 0 for j in list_keys]\n",
        "    if list_normalise[i]:\n",
        "      list_vals=np.divide(list_vals, sum(list_vals))\n",
        "    dict_data[list_labels[i]]=list_vals\n",
        "  df=pd.DataFrame(dict_data, index=list_keys)\n",
        "  if sort_desc:\n",
        "    df_sorted_desc=df.sort_values(list_labels[0], ascending=False)\n",
        "    df_sorted_desc[:plot_first_few].plot.bar(rot=90,figsize=figsize)\n",
        "  elif sort_asc:\n",
        "    df_sorted_asc=df.sort_values(list_labels[0], ascending=True)\n",
        "    df_sorted_asc[:plot_first_few].plot.bar(rot=90,figsize=figsize)\n",
        "  elif (sort_desc==False and sort_asc==False):\n",
        "    df[:plot_first_few].plot.bar(rot=90,figsize=figsize)\n",
        "\n",
        "\n",
        "# function to create dict for number of times states sprime were not accepted in MCMC iterations\n",
        "def fn_numtimes_bitstring_not_accepted(list_after_trsn, list_after_accept, bitstring):\n",
        "\n",
        "  where_sprime_is_bitstr=list(np.where( np.array(list_after_trsn) == bitstring)[0])\n",
        "  where_bitstr_not_accepted=[k for k in where_sprime_is_bitstr if list_after_accept[k]!=bitstring]\n",
        "  numtimes_sprime_is_bitstring= len(where_sprime_is_bitstr)\n",
        "  numtimes_bitstring_not_accepted=len(where_bitstr_not_accepted)\n",
        "  return numtimes_bitstring_not_accepted, numtimes_sprime_is_bitstring\n",
        "\n",
        "def fn_states_not_accepted(list_states:list, list_after_trsn:list, list_after_accept:list):\n",
        "  list_numtimes_state_not_accepted=[fn_numtimes_bitstring_not_accepted(list_after_trsn, list_after_accept,k)[0] for k in list_states]\n",
        "  list_numtimes_sprime_is_state=[fn_numtimes_bitstring_not_accepted(list_after_trsn, list_after_accept,k)[1] for k in list_states]\n",
        "  dict_numtimes_states_not_accepted=dict(zip(list_states, list_numtimes_state_not_accepted))\n",
        "  dict_numtimes_sprime_is_state=dict(zip(list_states, list_numtimes_sprime_is_state))\n",
        "  return dict_numtimes_states_not_accepted, dict_numtimes_sprime_is_state\n",
        "\n",
        "# hamming distance between 2 strings\n",
        "def hamming_dist(str1, str2):\n",
        "    i = 0\n",
        "    count = 0\n",
        "    while(i < len(str1)):\n",
        "        if(str1[i] != str2[i]):\n",
        "            count += 1\n",
        "        i += 1\n",
        "    return count\n",
        "  \n",
        "#\n",
        "def hamming_dist_related_counts(num_spins:int,sprime_each_iter:list, states_accepted_each_iter:list):\n",
        "\n",
        "  dict_counts_states_hamming_dist=dict(zip(list(range(0,num_spins+1)), [0]*(num_spins+1) ))\n",
        "  ham_dist_s_and_sprime=np.array([hamming_dist(states_accepted_each_iter[j], sprime_each_iter[j+1]) for j in range(0,len(states_accepted_each_iter)-1) ])\n",
        "  for k in list(dict_counts_states_hamming_dist.keys()):\n",
        "    dict_counts_states_hamming_dist[k]=np.count_nonzero(ham_dist_s_and_sprime == k) \n",
        "  \n",
        "  assert sum(list(dict_counts_states_hamming_dist.values()))== len(sprime_each_iter)-1\n",
        "  return dict_counts_states_hamming_dist\n",
        "\n",
        "def energy_difference_related_counts(num_spins, sprime_each_iter:list, states_accepted_each_iter:list, model_in):\n",
        "\n",
        "  energy_diff_s_and_sprime=np.array([abs(model.get_energy(sprime_each_iter[j])-model.get_energy(states_accepted_each_iter[j+1])) for j in range(0,len(sprime_each_iter)-1)])\n",
        "  return energy_diff_s_and_sprime\n"
      ]
    },
    {
      "cell_type": "markdown",
      "source": [
        "### Define the model"
      ],
      "metadata": {
        "id": "ry_wOwxX64q2"
      }
    },
    {
      "cell_type": "code",
      "source": [
        "# define the model\n",
        "## put n_spins even always\n",
        "n_spins = 8\n",
        "\n",
        "## construct problem Hamiltonian ##\n",
        "shape_of_J=(n_spins,n_spins)\n",
        "J =  np.random.randn(n_spins,n_spins)#np.random.uniform(low= -1, high= 1, size= (n_spins, n_spins) )\n",
        "J = 0.5 * (J + J.transpose() )\n",
        "h = np.random.randn(n_spins)#np.random.uniform(low= -1, high = 1, size= (n_spins))\n",
        "\n",
        "# instantiate the model\n",
        "model = IsingEnergyFunction(J, h)\n",
        "\n",
        "alpha = np.sqrt(n_spins) / np.sqrt( sum([J[i][j]**2 for i in range(n_spins) for j in range(i)]) + sum([h[j]**2 for j in range(n_spins)])  )\n"
      ],
      "metadata": {
        "id": "aK3AJa4A64Gu"
      },
      "execution_count": 44,
      "outputs": []
    },
    {
      "cell_type": "code",
      "execution_count": 45,
      "metadata": {
        "id": "P0h_vOEQs3OD",
        "colab": {
          "base_uri": "https://localhost:8080/",
          "height": 298
        },
        "outputId": "bf604f1d-8452-4c14-d21a-8ba7183d0a3a"
      },
      "outputs": [
        {
          "output_type": "display_data",
          "data": {
            "text/plain": [
              "<Figure size 432x288 with 1 Axes>"
            ],
            "image/png": "[encoded data removed]"
          },
          "metadata": {
            "needs_background": "light"
          }
        }
      ],
      "source": [
        "states_nbit=states(num_spins=n_spins)\n",
        "temp=0.4\n",
        "# Actual_probability distribution\n",
        "transits_bltz = dict( [ ( state, model.get_boltzmann_prob(state, beta=1./temp) ) for state in states_nbit ] )\n",
        "rqd_sum=np.sum(np.array(list(transits_bltz.values())))\n",
        "#print(rqd_sum)\n",
        "prob_vals=list(np.array(list(transits_bltz.values()))*(1./rqd_sum))\n",
        "boltz_prob_distn=value_sorted_dict( dict(zip(states_nbit, prob_vals )), reverse=True )\n",
        "plot_bargraph_desc_order(boltz_prob_distn, label=\"analytical\", plot_first_few=10)"
      ]
    },
    {
      "cell_type": "code",
      "source": [
        "#print(initialise_qc(n_spins=4, bitstring='1101').draw())\n",
        "init_qc=initialise_qc(n_spins=8, bitstring='11010000')\n",
        "# print(\"init_qc:\"); print(init_qc.draw())\n",
        "# print(\"num qubits:\"); print(len(init_qc.qubits))\n",
        "# gamma=np.round(np.random.uniform(0.25,0.6), decimals=3)\n",
        "# print(f\"gamma is: {gamma}\")\n",
        "# time=np.random.choice(list(range(2,20)))\n",
        "# delta_time=0.8\n",
        "# num_trotter_steps=int(time/delta_time)\n",
        "\n",
        "# qc_evol_h1=fn_qc_h1(n_spins, gamma, alpha, h, delta_time)\n",
        "# qc_evol_h2=fn_qc_h2(J, alpha, gamma, delta_time=0.8)\n",
        "# trotter_ckt=trottered_qc_for_transition(n_spins,qc_evol_h1, qc_evol_h2, num_trotter_steps=3)\n",
        "\n",
        "# qc_for_mcmc=combine_2_qc(init_qc, trotter_ckt)\n",
        "# print(\"qc_for_mcmc:\")\n",
        "# print(qc_for_mcmc)\n",
        "\n",
        "# NEED TO NOW VERFIY RESULTS WITH THIS CIRCUIT AND THEN USE IT IN FUNCTION run_quantum_mcmc \n",
        "run_qc_quantum_step(init_qc, model, alpha,n_spins=n_spins)"
      ],
      "metadata": {
        "id": "zyJNCKOR9VFZ",
        "outputId": "ac99dede-b03b-45d9-8ca9-b1933abbb266",
        "colab": {
          "base_uri": "https://localhost:8080/",
          "height": 36
        }
      },
      "execution_count": 46,
      "outputs": [
        {
          "output_type": "execute_result",
          "data": {
            "text/plain": [
              "'01101111'"
            ],
            "application/vnd.google.colaboratory.intrinsic+json": {
              "type": "string"
            }
          },
          "metadata": {},
          "execution_count": 46
        }
      ]
    },
    {
      "cell_type": "markdown",
      "metadata": {
        "id": "IekfaYLOD_67"
      },
      "source": [
        "## Run classical MCMC"
      ]
    },
    {
      "cell_type": "code",
      "execution_count": 47,
      "metadata": {
        "colab": {
          "base_uri": "https://localhost:8080/"
        },
        "id": "QJGVQcuVD_Cf",
        "outputId": "0cafe08b-0d98-4a08-8e9f-e654671de1b4"
      },
      "outputs": [
        {
          "output_type": "stream",
          "name": "stderr",
          "text": [
            "\r  0%|          | 0/1 [00:00<?, ?it/s]"
          ]
        },
        {
          "output_type": "stream",
          "name": "stdout",
          "text": [
            "starting with:  11001111\n"
          ]
        },
        {
          "output_type": "stream",
          "name": "stderr",
          "text": [
            "\n",
            "  0%|          | 0/1200 [00:00<?, ?it/s]\u001b[A\n",
            " 27%|██▋       | 319/1200 [00:00<00:00, 3185.36it/s]\u001b[A\n",
            " 53%|█████▎    | 638/1200 [00:00<00:00, 3151.92it/s]\u001b[A\n",
            "100%|██████████| 1200/1200 [00:00<00:00, 3149.96it/s]\n",
            "100%|██████████| 1/1 [00:00<00:00,  2.29it/s]\n"
          ]
        }
      ],
      "source": [
        "# symmetric uniform transition matrix for uniform transition rule\n",
        "num_spins=n_spins#4\n",
        "num_elems=2**(num_spins)\n",
        "# transit_mat=np.ones((num_elems,num_elems))*(1./(2*num_elems))# in general case transit matrix could be entirely different\n",
        "# np.fill_diagonal(transit_mat, 1./2)\n",
        "\n",
        "# Run MCMC with uniform random transition strategy\n",
        "N_hops=1200\n",
        "dict_seperate_chains_states_distn_mcmc={}\n",
        "dict_seperate_chains_sprime_mcmc={}\n",
        "dict_seperate_chains_accepted_mcmc={}\n",
        "dict_seperate_chains_counts_based_on_hamming_dist={}\n",
        "dict_seperate_chains_energy_diff_s_and_sprime={}# for plotting histogram\n",
        "num_seperate_mcmc_chains=1\n",
        "\n",
        "for chain_num in tqdm(range(0,num_seperate_mcmc_chains)):\n",
        "    dict_states_mcmc, cl_mcmc_after_trsn, cl_mcmc_after_accept =classical_mcmc(N_hops, num_spins, num_elems,model, return_last_n_states=N_hops-20, return_both_classical_and_quantum_steps=True, temp=temp)\n",
        "    dict_states_mcmc_sorted_desc=value_sorted_dict(dict_states_mcmc, reverse=True)\n",
        "\n",
        "    dict_seperate_chains_states_distn_mcmc[chain_num]=dict_states_mcmc_sorted_desc\n",
        "    dict_seperate_chains_sprime_mcmc[chain_num]=cl_mcmc_after_trsn\n",
        "    dict_seperate_chains_accepted_mcmc[chain_num]=cl_mcmc_after_accept\n",
        "    dict_seperate_chains_energy_diff_s_and_sprime[chain_num]=energy_difference_related_counts(num_spins, cl_mcmc_after_trsn, cl_mcmc_after_accept, model_in=model)\n",
        "    dict_seperate_chains_counts_based_on_hamming_dist[chain_num]=hamming_dist_related_counts(num_spins, cl_mcmc_after_trsn, cl_mcmc_after_accept)"
      ]
    },
    {
      "cell_type": "code",
      "source": [
        "dict_seperate_chains_counts_based_on_hamming_dist"
      ],
      "metadata": {
        "colab": {
          "base_uri": "https://localhost:8080/"
        },
        "id": "cZpDuh55-apK",
        "outputId": "13dd862a-b2d8-4af8-c73e-7805aca97913"
      },
      "execution_count": 48,
      "outputs": [
        {
          "output_type": "execute_result",
          "data": {
            "text/plain": [
              "{0: {0: 10, 1: 35, 2: 148, 3: 253, 4: 325, 5: 250, 6: 136, 7: 36, 8: 6}}"
            ]
          },
          "metadata": {},
          "execution_count": 48
        }
      ]
    },
    {
      "cell_type": "code",
      "source": [
        "for i in range(0,num_seperate_mcmc_chains):\n",
        "  mcmc_chain_num=i\n",
        "  plt.figure()\n",
        "  plt.hist(dict_seperate_chains_energy_diff_s_and_sprime[mcmc_chain_num])"
      ],
      "metadata": {
        "colab": {
          "base_uri": "https://localhost:8080/",
          "height": 265
        },
        "id": "mEjcu5Mi-d_D",
        "outputId": "dbac577a-96f4-4821-fb07-5ef424c0541b"
      },
      "execution_count": 49,
      "outputs": [
        {
          "output_type": "display_data",
          "data": {
            "text/plain": [
              "<Figure size 432x288 with 1 Axes>"
            ],
            "image/png": "[encoded data removed]"
          },
          "metadata": {
            "needs_background": "light"
          }
        }
      ]
    },
    {
      "cell_type": "code",
      "execution_count": 50,
      "metadata": {
        "colab": {
          "base_uri": "https://localhost:8080/"
        },
        "id": "MOte0CEAs3OG",
        "outputId": "cddc0063-d698-4cc7-bbc2-181c12723209"
      },
      "outputs": [
        {
          "output_type": "stream",
          "name": "stderr",
          "text": [
            "100%|██████████| 900/900 [00:01<00:00, 483.17it/s]\n"
          ]
        }
      ],
      "source": [
        "### data for plotting running average magnetization 5 cases seperately:\n",
        "first_few=900\n",
        "#cl_running_avg_magzn=[running_avg_magnetization(list_states_mcmc=dict_seperate_chains_accepted_mcmc[m][:first_few+1]) for m in range(0,num_seperate_mcmc_chains)]\n",
        "dict_for_df_running_avg_seperate_mcmc={}\n",
        "for m in range(0, num_seperate_mcmc_chains):\n",
        "  dict_for_df_running_avg_seperate_mcmc[m]=list(running_avg_magnetization(list_states_mcmc=dict_seperate_chains_accepted_mcmc[m][:first_few+1]).values())\n",
        "\n",
        "running_avg_df=pd.DataFrame(dict_for_df_running_avg_seperate_mcmc)\n",
        "mean_magnetization=running_avg_df.mean(axis=1)# mean taken over all seperate mcmc chains\n",
        "\n",
        "# plt.figure(figsize=(10,7))\n",
        "# magnetization_of_all_states=dict_magnetization_of_all_states(states_nbit)\n",
        "# actual_avg_mag=avg(dict_probabilities=boltz_prob_distn, dict_observable_val_at_states=magnetization_of_all_states)\n",
        "# plt.plot(mean_magnetization,\":\" ,label=\"Cl mcmc\")\n",
        "# plt.axhline(y=actual_avg_mag,linestyle=\"-\", color=\"k\" ,label=\"Actual\")\n",
        "# plt.legend()"
      ]
    },
    {
      "cell_type": "code",
      "execution_count": null,
      "metadata": {
        "id": "z2lTXaPG1To_"
      },
      "outputs": [],
      "source": [
        "# # get actual probability distribution\n",
        "# transits_bltz = dict( [ ( state, model.get_boltzmann_prob(state) ) for state in states_nbit ] )\n",
        "# # plot actual prob distribution as well as one obtained from MCMC\n",
        "# #dict_states_mcmc_plot=dict(zip(list(range(0,2**(num_spins))), list(dict_states_mcmc.values()) ))\n",
        "# plot_histogram( [boltz_prob_distn, dict_states_mcmc] , figsize=(20, 7), legend= ['model', 'MCMC-uniform'], bar_labels=False, sort=\"value_desc\")"
      ]
    },
    {
      "cell_type": "markdown",
      "metadata": {
        "id": "A2r85OtSAq15"
      },
      "source": [
        "## Run quantum enhanced MCMC"
      ]
    },
    {
      "cell_type": "code",
      "execution_count": 51,
      "metadata": {
        "id": "YzHqeUOTAq15",
        "colab": {
          "base_uri": "https://localhost:8080/",
          "height": 1000
        },
        "outputId": "87d5b145-dce1-4a34-b9af-f032e547189d"
      },
      "outputs": [
        {
          "output_type": "stream",
          "name": "stderr",
          "text": [
            "\r  0%|          | 0/1 [00:00<?, ?it/s]"
          ]
        },
        {
          "output_type": "stream",
          "name": "stdout",
          "text": [
            "starting with:  01011001\n"
          ]
        },
        {
          "output_type": "stream",
          "name": "stderr",
          "text": [
            "\n",
            "  0%|          | 0/1200 [00:00<?, ?it/s]\u001b[A\n",
            "  0%|          | 2/1200 [00:00<02:56,  6.80it/s]\u001b[A\n",
            "  0%|          | 3/1200 [00:00<03:00,  6.65it/s]\u001b[A\n",
            "  0%|          | 4/1200 [00:00<03:32,  5.63it/s]\u001b[A\n",
            "  0%|          | 6/1200 [00:00<02:19,  8.58it/s]\u001b[A\n",
            "  1%|          | 8/1200 [00:01<02:22,  8.36it/s]\u001b[A\n",
            "  1%|          | 9/1200 [00:01<02:58,  6.67it/s]\u001b[A\n",
            "  1%|          | 10/1200 [00:01<03:17,  6.04it/s]\u001b[A\n",
            "  1%|          | 12/1200 [00:01<02:28,  8.00it/s]\u001b[A\n",
            "  1%|          | 14/1200 [00:01<02:03,  9.62it/s]\u001b[A\n",
            "  1%|▏         | 16/1200 [00:02<02:10,  9.09it/s]\u001b[A\n",
            "  2%|▏         | 18/1200 [00:02<02:32,  7.73it/s]\u001b[A\n",
            "  2%|▏         | 19/1200 [00:02<02:42,  7.25it/s]\u001b[A\n",
            "  2%|▏         | 20/1200 [00:02<02:50,  6.90it/s]\u001b[A\n",
            "  2%|▏         | 22/1200 [00:02<02:38,  7.42it/s]\u001b[A\n",
            "  2%|▏         | 24/1200 [00:03<02:09,  9.08it/s]\u001b[A\n",
            "  2%|▏         | 25/1200 [00:03<02:22,  8.26it/s]\u001b[A\n",
            "  2%|▏         | 26/1200 [00:03<02:31,  7.74it/s]\u001b[A\n",
            "  2%|▏         | 28/1200 [00:03<02:12,  8.86it/s]\u001b[A\n",
            "  2%|▏         | 29/1200 [00:03<02:22,  8.21it/s]\u001b[A\n",
            "  2%|▎         | 30/1200 [00:03<02:35,  7.53it/s]\u001b[A\n",
            "  3%|▎         | 31/1200 [00:04<02:43,  7.14it/s]\u001b[A\n",
            "  3%|▎         | 32/1200 [00:04<03:10,  6.12it/s]\u001b[A\n",
            "  3%|▎         | 33/1200 [00:04<04:05,  4.75it/s]\u001b[A\n",
            "  3%|▎         | 35/1200 [00:04<02:54,  6.69it/s]\u001b[A\n",
            "  3%|▎         | 36/1200 [00:04<02:52,  6.75it/s]\u001b[A\n",
            "  3%|▎         | 37/1200 [00:05<03:21,  5.78it/s]\u001b[A\n",
            "  3%|▎         | 38/1200 [00:05<03:22,  5.74it/s]\u001b[A\n",
            "  3%|▎         | 39/1200 [00:05<03:13,  6.01it/s]\u001b[A\n",
            "  3%|▎         | 41/1200 [00:05<02:30,  7.72it/s]\u001b[A\n",
            "  4%|▎         | 42/1200 [00:05<02:30,  7.67it/s]\u001b[A\n",
            "  4%|▎         | 43/1200 [00:05<02:57,  6.51it/s]\u001b[A\n",
            "  4%|▎         | 44/1200 [00:06<02:57,  6.52it/s]\u001b[A\n",
            "  4%|▍         | 45/1200 [00:06<03:00,  6.39it/s]\u001b[A\n",
            "  4%|▍         | 46/1200 [00:06<02:54,  6.60it/s]\u001b[A\n",
            "  4%|▍         | 47/1200 [00:06<03:14,  5.92it/s]\u001b[A\n",
            "  4%|▍         | 48/1200 [00:06<03:06,  6.17it/s]\u001b[A\n",
            "  4%|▍         | 49/1200 [00:06<03:11,  6.01it/s]\u001b[A\n",
            "  4%|▍         | 50/1200 [00:07<02:54,  6.58it/s]\u001b[A\n",
            "  4%|▍         | 51/1200 [00:07<02:51,  6.71it/s]\u001b[A\n",
            "  4%|▍         | 52/1200 [00:07<02:53,  6.63it/s]\u001b[A\n",
            "  4%|▍         | 53/1200 [00:07<03:01,  6.32it/s]\u001b[A\n",
            "  4%|▍         | 54/1200 [00:07<03:24,  5.62it/s]\u001b[A\n",
            "  5%|▍         | 56/1200 [00:08<02:54,  6.57it/s]\u001b[A\n",
            "  5%|▍         | 58/1200 [00:08<02:49,  6.75it/s]\u001b[A\n",
            "  5%|▌         | 60/1200 [00:08<02:23,  7.92it/s]\u001b[A\n",
            "  5%|▌         | 61/1200 [00:08<02:28,  7.68it/s]\u001b[A\n",
            "  5%|▌         | 62/1200 [00:08<02:39,  7.12it/s]\u001b[A\n",
            "  5%|▌         | 63/1200 [00:08<02:44,  6.91it/s]\u001b[A\n",
            "  5%|▌         | 64/1200 [00:09<02:54,  6.51it/s]\u001b[A\n",
            "  5%|▌         | 65/1200 [00:09<03:12,  5.90it/s]\u001b[A\n",
            "  6%|▌         | 66/1200 [00:09<03:06,  6.08it/s]\u001b[A\n",
            "  6%|▌         | 68/1200 [00:09<02:50,  6.64it/s]\u001b[A\n",
            "  6%|▌         | 69/1200 [00:09<02:42,  6.97it/s]\u001b[A\n",
            "  6%|▌         | 70/1200 [00:10<02:44,  6.86it/s]\u001b[A\n",
            "  6%|▌         | 71/1200 [00:10<02:55,  6.42it/s]\u001b[A\n",
            "  6%|▌         | 73/1200 [00:10<03:10,  5.90it/s]\u001b[A\n",
            "  6%|▋         | 75/1200 [00:10<02:43,  6.88it/s]\u001b[A\n",
            "  6%|▋         | 76/1200 [00:10<02:47,  6.72it/s]\u001b[A\n",
            "  6%|▋         | 78/1200 [00:11<02:32,  7.36it/s]\u001b[A\n",
            "  7%|▋         | 79/1200 [00:11<02:35,  7.22it/s]\u001b[A\n",
            "  7%|▋         | 80/1200 [00:11<02:39,  7.04it/s]\u001b[A\n",
            "  7%|▋         | 81/1200 [00:11<02:37,  7.12it/s]\u001b[A\n",
            "  7%|▋         | 83/1200 [00:11<02:30,  7.40it/s]\u001b[A\n",
            "  7%|▋         | 84/1200 [00:12<02:57,  6.30it/s]\u001b[A\n",
            "  7%|▋         | 86/1200 [00:12<02:18,  8.03it/s]\u001b[A\n",
            "  7%|▋         | 88/1200 [00:12<02:05,  8.89it/s]\u001b[A\n",
            "  7%|▋         | 89/1200 [00:12<02:27,  7.51it/s]\u001b[A\n",
            "  8%|▊         | 90/1200 [00:12<02:42,  6.85it/s]\u001b[A\n",
            "  8%|▊         | 92/1200 [00:13<02:24,  7.69it/s]\u001b[A\n",
            "  8%|▊         | 93/1200 [00:13<02:28,  7.43it/s]\u001b[A\n",
            "  8%|▊         | 94/1200 [00:13<02:44,  6.74it/s]\u001b[A\n",
            "  8%|▊         | 96/1200 [00:13<02:34,  7.14it/s]\u001b[A\n",
            "  8%|▊         | 97/1200 [00:13<02:27,  7.48it/s]\u001b[A\n",
            "  8%|▊         | 99/1200 [00:13<02:04,  8.85it/s]\u001b[A\n",
            "  8%|▊         | 100/1200 [00:14<02:23,  7.65it/s]\u001b[A\n",
            "  8%|▊         | 101/1200 [00:14<02:27,  7.44it/s]\u001b[A\n",
            "  8%|▊         | 102/1200 [00:14<02:31,  7.25it/s]\u001b[A\n",
            "  9%|▊         | 104/1200 [00:14<02:02,  8.96it/s]\u001b[A\n",
            "  9%|▉         | 105/1200 [00:14<02:33,  7.15it/s]\u001b[A\n",
            "  9%|▉         | 106/1200 [00:14<02:35,  7.04it/s]\u001b[A\n",
            "  9%|▉         | 107/1200 [00:15<02:33,  7.11it/s]\u001b[A\n",
            "  9%|▉         | 108/1200 [00:15<02:35,  7.04it/s]\u001b[A\n",
            "  9%|▉         | 109/1200 [00:15<02:37,  6.92it/s]\u001b[A\n",
            "  9%|▉         | 110/1200 [00:15<02:47,  6.52it/s]\u001b[A\n",
            "  9%|▉         | 111/1200 [00:15<02:41,  6.76it/s]\u001b[A\n",
            "  9%|▉         | 112/1200 [00:15<03:02,  5.95it/s]\u001b[A\n",
            "  9%|▉         | 113/1200 [00:16<03:17,  5.51it/s]\u001b[A\n",
            " 10%|▉         | 114/1200 [00:16<03:17,  5.50it/s]\u001b[A\n",
            " 10%|▉         | 115/1200 [00:16<03:25,  5.27it/s]\u001b[A\n",
            " 10%|▉         | 117/1200 [00:16<02:41,  6.72it/s]\u001b[A\n",
            " 10%|▉         | 118/1200 [00:16<03:06,  5.81it/s]\u001b[A\n",
            " 10%|█         | 120/1200 [00:17<02:47,  6.45it/s]\u001b[A\n",
            " 10%|█         | 121/1200 [00:17<02:46,  6.47it/s]\u001b[A\n",
            " 10%|█         | 122/1200 [00:17<02:38,  6.81it/s]\u001b[A\n",
            " 10%|█         | 123/1200 [00:17<02:34,  6.99it/s]\u001b[A\n",
            " 10%|█         | 124/1200 [00:17<02:36,  6.85it/s]\u001b[A\n",
            " 10%|█         | 125/1200 [00:18<03:04,  5.83it/s]\u001b[A\n",
            " 11%|█         | 127/1200 [00:18<02:48,  6.36it/s]\u001b[A\n",
            " 11%|█         | 128/1200 [00:18<02:48,  6.35it/s]\u001b[A\n",
            " 11%|█         | 129/1200 [00:18<02:38,  6.74it/s]\u001b[A\n",
            " 11%|█         | 130/1200 [00:18<02:33,  6.99it/s]\u001b[A\n",
            " 11%|█         | 131/1200 [00:18<02:37,  6.78it/s]\u001b[A\n",
            " 11%|█         | 133/1200 [00:19<02:25,  7.31it/s]\u001b[A\n",
            " 11%|█         | 134/1200 [00:19<02:30,  7.10it/s]\u001b[A\n",
            " 11%|█▏        | 135/1200 [00:19<02:23,  7.42it/s]\u001b[A\n",
            " 11%|█▏        | 136/1200 [00:19<02:26,  7.25it/s]\u001b[A\n",
            " 11%|█▏        | 137/1200 [00:19<02:24,  7.37it/s]\u001b[A\n",
            " 12%|█▏        | 138/1200 [00:19<02:54,  6.10it/s]\u001b[A\n",
            " 12%|█▏        | 139/1200 [00:20<03:06,  5.69it/s]\u001b[A\n",
            " 12%|█▏        | 140/1200 [00:20<03:24,  5.19it/s]\u001b[A\n",
            " 12%|█▏        | 141/1200 [00:20<03:05,  5.72it/s]\u001b[A\n",
            " 12%|█▏        | 142/1200 [00:20<03:00,  5.85it/s]\u001b[A\n",
            " 12%|█▏        | 143/1200 [00:20<02:46,  6.36it/s]\u001b[A\n",
            " 12%|█▏        | 144/1200 [00:20<02:46,  6.35it/s]\u001b[A\n",
            " 12%|█▏        | 145/1200 [00:21<02:53,  6.06it/s]\u001b[A\n",
            " 12%|█▏        | 146/1200 [00:21<02:47,  6.29it/s]\u001b[A\n",
            " 12%|█▏        | 147/1200 [00:21<02:49,  6.21it/s]\u001b[A\n",
            " 12%|█▏        | 149/1200 [00:21<02:02,  8.61it/s]\u001b[A\n",
            " 13%|█▎        | 151/1200 [00:21<02:12,  7.91it/s]\u001b[A\n",
            " 13%|█▎        | 152/1200 [00:22<02:35,  6.76it/s]\u001b[A\n",
            " 13%|█▎        | 153/1200 [00:22<02:27,  7.08it/s]\u001b[A\n",
            " 13%|█▎        | 154/1200 [00:22<02:35,  6.72it/s]\u001b[A\n",
            " 13%|█▎        | 155/1200 [00:22<02:40,  6.53it/s]\u001b[A\n",
            " 13%|█▎        | 157/1200 [00:22<02:14,  7.73it/s]\u001b[A\n",
            " 13%|█▎        | 159/1200 [00:22<01:54,  9.09it/s]\u001b[A\n",
            " 13%|█▎        | 160/1200 [00:22<01:52,  9.25it/s]\u001b[A\n",
            " 13%|█▎        | 161/1200 [00:23<02:27,  7.03it/s]\u001b[A\n",
            " 14%|█▎        | 162/1200 [00:23<02:56,  5.87it/s]\u001b[A\n",
            " 14%|█▎        | 163/1200 [00:23<02:49,  6.10it/s]\u001b[A\n",
            " 14%|█▎        | 164/1200 [00:23<02:44,  6.30it/s]\u001b[A\n",
            " 14%|█▍        | 165/1200 [00:23<02:55,  5.90it/s]\u001b[A\n",
            " 14%|█▍        | 167/1200 [00:24<02:32,  6.78it/s]\u001b[A\n",
            " 14%|█▍        | 168/1200 [00:24<02:34,  6.68it/s]\u001b[A\n",
            " 14%|█▍        | 169/1200 [00:24<02:34,  6.69it/s]\u001b[A\n",
            " 14%|█▍        | 170/1200 [00:24<02:45,  6.23it/s]\u001b[A\n",
            " 14%|█▍        | 171/1200 [00:24<02:50,  6.03it/s]\u001b[A\n",
            " 14%|█▍        | 172/1200 [00:25<02:51,  5.99it/s]\u001b[A\n",
            " 14%|█▍        | 173/1200 [00:25<03:16,  5.21it/s]\u001b[A\n",
            " 15%|█▍        | 175/1200 [00:25<02:51,  5.97it/s]\u001b[A\n",
            " 15%|█▍        | 176/1200 [00:25<03:10,  5.38it/s]\u001b[A\n",
            " 15%|█▍        | 178/1200 [00:25<02:21,  7.21it/s]\u001b[A\n",
            " 15%|█▍        | 179/1200 [00:26<02:41,  6.33it/s]\u001b[A\n",
            " 15%|█▌        | 180/1200 [00:26<02:41,  6.33it/s]\u001b[A\n",
            " 15%|█▌        | 181/1200 [00:26<02:57,  5.74it/s]\u001b[A\n",
            " 15%|█▌        | 182/1200 [00:26<02:58,  5.70it/s]\u001b[A\n",
            " 15%|█▌        | 183/1200 [00:27<03:24,  4.97it/s]\u001b[A\n",
            " 15%|█▌        | 185/1200 [00:27<02:30,  6.74it/s]\u001b[A\n",
            " 16%|█▌        | 186/1200 [00:27<02:29,  6.77it/s]\u001b[A\n",
            " 16%|█▌        | 187/1200 [00:27<02:51,  5.89it/s]\u001b[A\n",
            " 16%|█▌        | 189/1200 [00:27<02:12,  7.63it/s]\u001b[A\n",
            " 16%|█▌        | 190/1200 [00:27<02:30,  6.71it/s]\u001b[A\n",
            " 16%|█▌        | 192/1200 [00:28<02:11,  7.66it/s]\u001b[A\n",
            " 16%|█▌        | 193/1200 [00:28<02:12,  7.59it/s]\u001b[A\n",
            " 16%|█▌        | 194/1200 [00:28<02:24,  6.95it/s]\u001b[A\n",
            " 16%|█▋        | 195/1200 [00:28<02:36,  6.42it/s]\u001b[A\n",
            " 16%|█▋        | 196/1200 [00:28<02:42,  6.17it/s]\u001b[A\n",
            " 16%|█▋        | 198/1200 [00:29<02:16,  7.34it/s]\u001b[A\n",
            " 17%|█▋        | 199/1200 [00:29<02:18,  7.23it/s]\u001b[A\n",
            " 17%|█▋        | 200/1200 [00:29<02:21,  7.08it/s]\u001b[A\n",
            " 17%|█▋        | 201/1200 [00:29<02:26,  6.84it/s]\u001b[A\n",
            " 17%|█▋        | 202/1200 [00:29<03:20,  4.99it/s]\u001b[A\n",
            " 17%|█▋        | 203/1200 [00:30<03:13,  5.15it/s]\u001b[A\n",
            " 17%|█▋        | 204/1200 [00:30<02:58,  5.59it/s]\u001b[A\n",
            " 17%|█▋        | 205/1200 [00:30<02:48,  5.89it/s]\u001b[A\n",
            " 17%|█▋        | 206/1200 [00:30<03:03,  5.41it/s]\u001b[A\n",
            " 17%|█▋        | 207/1200 [00:30<02:49,  5.86it/s]\u001b[A\n",
            " 17%|█▋        | 209/1200 [00:30<02:26,  6.76it/s]\u001b[A\n",
            " 18%|█▊        | 210/1200 [00:31<02:43,  6.05it/s]\u001b[A\n",
            " 18%|█▊        | 211/1200 [00:31<02:54,  5.66it/s]\u001b[A\n",
            " 18%|█▊        | 213/1200 [00:31<02:37,  6.28it/s]\u001b[A\n",
            " 18%|█▊        | 214/1200 [00:31<02:45,  5.95it/s]\u001b[A\n",
            " 18%|█▊        | 215/1200 [00:32<02:54,  5.66it/s]\u001b[A\n",
            " 18%|█▊        | 217/1200 [00:32<02:24,  6.81it/s]\u001b[A\n",
            " 18%|█▊        | 219/1200 [00:32<02:10,  7.51it/s]\u001b[A\n",
            " 18%|█▊        | 220/1200 [00:32<02:30,  6.51it/s]\u001b[A\n",
            " 18%|█▊        | 222/1200 [00:32<02:12,  7.38it/s]\u001b[A\n",
            " 19%|█▊        | 223/1200 [00:33<02:11,  7.43it/s]\u001b[A\n",
            " 19%|█▊        | 224/1200 [00:33<02:04,  7.87it/s]\u001b[A\n",
            " 19%|█▉        | 225/1200 [00:33<02:14,  7.23it/s]\u001b[A\n",
            " 19%|█▉        | 227/1200 [00:33<02:13,  7.30it/s]\u001b[A\n",
            " 19%|█▉        | 228/1200 [00:33<02:17,  7.08it/s]\u001b[A\n",
            " 19%|█▉        | 229/1200 [00:33<02:19,  6.96it/s]\u001b[A\n",
            " 19%|█▉        | 231/1200 [00:34<02:17,  7.03it/s]\u001b[A\n",
            " 19%|█▉        | 232/1200 [00:34<02:25,  6.63it/s]\u001b[A\n",
            " 19%|█▉        | 233/1200 [00:34<02:29,  6.48it/s]\u001b[A\n",
            " 20%|█▉        | 234/1200 [00:34<02:19,  6.95it/s]\u001b[A\n",
            " 20%|█▉        | 235/1200 [00:34<02:24,  6.69it/s]\u001b[A\n",
            " 20%|█▉        | 236/1200 [00:34<02:44,  5.86it/s]\u001b[A\n",
            " 20%|█▉        | 238/1200 [00:35<02:20,  6.84it/s]\u001b[A\n",
            " 20%|█▉        | 239/1200 [00:35<02:57,  5.41it/s]\u001b[A\n",
            " 20%|██        | 240/1200 [00:35<02:53,  5.53it/s]\u001b[A\n",
            " 20%|██        | 242/1200 [00:35<02:31,  6.31it/s]\u001b[A\n",
            " 20%|██        | 244/1200 [00:36<02:13,  7.14it/s]\u001b[A\n",
            " 20%|██        | 245/1200 [00:36<02:24,  6.62it/s]\u001b[A\n",
            " 20%|██        | 246/1200 [00:36<02:36,  6.11it/s]\u001b[A\n",
            " 21%|██        | 247/1200 [00:36<02:45,  5.76it/s]\u001b[A\n",
            " 21%|██        | 248/1200 [00:36<02:39,  5.95it/s]\u001b[A\n",
            " 21%|██        | 249/1200 [00:37<02:58,  5.33it/s]\u001b[A\n",
            " 21%|██        | 250/1200 [00:37<02:51,  5.55it/s]\u001b[A\n",
            " 21%|██        | 251/1200 [00:37<02:48,  5.63it/s]\u001b[A\n",
            " 21%|██        | 252/1200 [00:37<02:58,  5.31it/s]\u001b[A\n",
            " 21%|██        | 253/1200 [00:37<02:42,  5.84it/s]\u001b[A\n",
            " 21%|██        | 254/1200 [00:38<02:59,  5.26it/s]\u001b[A\n",
            " 21%|██▏       | 256/1200 [00:38<02:42,  5.80it/s]\u001b[A\n",
            " 21%|██▏       | 257/1200 [00:38<02:34,  6.09it/s]\u001b[A\n",
            " 22%|██▏       | 259/1200 [00:38<01:57,  8.04it/s]\u001b[A\n",
            " 22%|██▏       | 260/1200 [00:38<02:17,  6.83it/s]\u001b[A\n",
            " 22%|██▏       | 262/1200 [00:39<02:04,  7.53it/s]\u001b[A\n",
            " 22%|██▏       | 263/1200 [00:39<02:22,  6.56it/s]\u001b[A\n",
            " 22%|██▏       | 264/1200 [00:39<02:33,  6.09it/s]\u001b[A\n",
            " 22%|██▏       | 265/1200 [00:39<02:32,  6.15it/s]\u001b[A\n",
            " 22%|██▏       | 266/1200 [00:39<02:32,  6.13it/s]\u001b[A\n",
            " 22%|██▏       | 267/1200 [00:40<02:47,  5.56it/s]\u001b[A\n",
            " 22%|██▏       | 268/1200 [00:40<02:44,  5.66it/s]\u001b[A\n",
            " 22%|██▏       | 269/1200 [00:40<02:38,  5.87it/s]\u001b[A\n",
            " 22%|██▎       | 270/1200 [00:40<03:09,  4.90it/s]\u001b[A\n",
            " 23%|██▎       | 272/1200 [00:40<02:47,  5.53it/s]\u001b[A\n",
            " 23%|██▎       | 273/1200 [00:41<02:35,  5.96it/s]\u001b[A\n",
            " 23%|██▎       | 275/1200 [00:41<02:14,  6.89it/s]\u001b[A\n",
            " 23%|██▎       | 277/1200 [00:41<01:47,  8.55it/s]\u001b[A\n",
            " 23%|██▎       | 278/1200 [00:41<01:50,  8.31it/s]\u001b[A\n",
            " 23%|██▎       | 279/1200 [00:41<01:53,  8.13it/s]\u001b[A\n",
            " 23%|██▎       | 280/1200 [00:41<01:54,  8.06it/s]\u001b[A\n",
            " 23%|██▎       | 281/1200 [00:42<02:05,  7.34it/s]\u001b[A\n",
            " 24%|██▎       | 282/1200 [00:42<02:28,  6.18it/s]\u001b[A\n",
            " 24%|██▎       | 283/1200 [00:42<02:31,  6.05it/s]\u001b[A\n",
            " 24%|██▎       | 284/1200 [00:42<02:36,  5.87it/s]\u001b[A\n",
            " 24%|██▍       | 285/1200 [00:42<02:48,  5.42it/s]\u001b[A\n",
            " 24%|██▍       | 286/1200 [00:42<02:36,  5.84it/s]\u001b[A\n",
            " 24%|██▍       | 287/1200 [00:43<02:37,  5.78it/s]\u001b[A\n",
            " 24%|██▍       | 288/1200 [00:43<02:52,  5.28it/s]\u001b[A\n",
            " 24%|██▍       | 289/1200 [00:43<02:45,  5.49it/s]\u001b[A\n",
            " 24%|██▍       | 290/1200 [00:43<02:43,  5.55it/s]\u001b[A\n",
            " 24%|██▍       | 291/1200 [00:43<02:35,  5.83it/s]\u001b[A\n",
            " 24%|██▍       | 293/1200 [00:44<01:56,  7.79it/s]\u001b[A\n",
            " 24%|██▍       | 294/1200 [00:44<02:04,  7.26it/s]\u001b[A\n",
            " 25%|██▍       | 295/1200 [00:44<02:03,  7.35it/s]\u001b[A\n",
            " 25%|██▍       | 296/1200 [00:44<02:17,  6.57it/s]\u001b[A\n",
            " 25%|██▍       | 297/1200 [00:44<02:34,  5.84it/s]\u001b[A\n",
            " 25%|██▍       | 298/1200 [00:44<02:39,  5.64it/s]\u001b[A\n",
            " 25%|██▍       | 299/1200 [00:45<02:52,  5.23it/s]\u001b[A\n",
            " 25%|██▌       | 300/1200 [00:45<02:44,  5.48it/s]\u001b[A\n",
            " 25%|██▌       | 301/1200 [00:45<02:55,  5.13it/s]\u001b[A\n",
            " 25%|██▌       | 303/1200 [00:45<02:26,  6.14it/s]\u001b[A\n",
            " 25%|██▌       | 304/1200 [00:45<02:19,  6.43it/s]\u001b[A\n",
            " 25%|██▌       | 305/1200 [00:46<02:42,  5.50it/s]\u001b[A\n",
            " 26%|██▌       | 306/1200 [00:46<03:13,  4.62it/s]\u001b[A\n",
            " 26%|██▌       | 307/1200 [00:46<03:07,  4.76it/s]\u001b[A\n",
            " 26%|██▌       | 308/1200 [00:46<02:58,  5.01it/s]\u001b[A\n",
            " 26%|██▌       | 310/1200 [00:47<02:18,  6.44it/s]\u001b[A\n",
            " 26%|██▌       | 311/1200 [00:47<02:18,  6.40it/s]\u001b[A\n",
            " 26%|██▌       | 312/1200 [00:47<02:16,  6.49it/s]\u001b[A\n",
            " 26%|██▌       | 313/1200 [00:47<02:18,  6.42it/s]\u001b[A\n",
            " 26%|██▋       | 315/1200 [00:47<02:12,  6.66it/s]\u001b[A\n",
            " 26%|██▋       | 316/1200 [00:48<02:27,  5.98it/s]\u001b[A\n",
            " 26%|██▋       | 318/1200 [00:48<02:04,  7.09it/s]\u001b[A\n",
            " 27%|██▋       | 319/1200 [00:48<02:03,  7.13it/s]\u001b[A\n",
            " 27%|██▋       | 320/1200 [00:48<02:04,  7.10it/s]\u001b[A\n",
            " 27%|██▋       | 321/1200 [00:48<02:07,  6.89it/s]\u001b[A\n",
            " 27%|██▋       | 322/1200 [00:48<02:06,  6.94it/s]\u001b[A\n",
            " 27%|██▋       | 323/1200 [00:48<02:08,  6.83it/s]\u001b[A\n",
            " 27%|██▋       | 324/1200 [00:49<02:05,  6.96it/s]\u001b[A\n",
            " 27%|██▋       | 325/1200 [00:49<02:07,  6.88it/s]\u001b[A\n",
            " 27%|██▋       | 326/1200 [00:49<02:03,  7.07it/s]\u001b[A\n",
            " 27%|██▋       | 327/1200 [00:49<02:01,  7.20it/s]\u001b[A\n",
            " 27%|██▋       | 328/1200 [00:49<02:02,  7.12it/s]\u001b[A\n",
            " 27%|██▋       | 329/1200 [00:49<02:14,  6.46it/s]\u001b[A\n",
            " 28%|██▊       | 330/1200 [00:50<02:15,  6.40it/s]\u001b[A\n",
            " 28%|██▊       | 331/1200 [00:50<02:08,  6.76it/s]\u001b[A\n",
            " 28%|██▊       | 332/1200 [00:50<02:26,  5.91it/s]\u001b[A\n",
            " 28%|██▊       | 333/1200 [00:50<02:13,  6.49it/s]\u001b[A\n",
            " 28%|██▊       | 334/1200 [00:50<02:05,  6.91it/s]\u001b[A\n",
            " 28%|██▊       | 335/1200 [00:50<02:03,  7.00it/s]\u001b[A\n",
            " 28%|██▊       | 336/1200 [00:50<02:03,  7.01it/s]\u001b[A\n",
            " 28%|██▊       | 337/1200 [00:51<02:26,  5.88it/s]\u001b[A\n",
            " 28%|██▊       | 338/1200 [00:51<02:35,  5.55it/s]\u001b[A\n",
            " 28%|██▊       | 340/1200 [00:51<02:13,  6.43it/s]\u001b[A\n",
            " 28%|██▊       | 341/1200 [00:51<02:11,  6.52it/s]\u001b[A\n",
            " 28%|██▊       | 342/1200 [00:51<02:05,  6.82it/s]\u001b[A\n",
            " 29%|██▊       | 343/1200 [00:51<01:54,  7.46it/s]\u001b[A\n",
            " 29%|██▊       | 344/1200 [00:52<02:15,  6.33it/s]\u001b[A\n",
            " 29%|██▉       | 345/1200 [00:52<02:17,  6.20it/s]\u001b[A\n",
            " 29%|██▉       | 346/1200 [00:52<02:19,  6.12it/s]\u001b[A\n",
            " 29%|██▉       | 347/1200 [00:52<02:25,  5.85it/s]\u001b[A\n",
            " 29%|██▉       | 348/1200 [00:52<02:20,  6.08it/s]\u001b[A\n",
            " 29%|██▉       | 349/1200 [00:53<02:23,  5.94it/s]\u001b[A\n",
            " 29%|██▉       | 350/1200 [00:53<02:18,  6.14it/s]\u001b[A\n",
            " 29%|██▉       | 351/1200 [00:53<02:27,  5.75it/s]\u001b[A\n",
            " 29%|██▉       | 353/1200 [00:53<02:42,  5.22it/s]\u001b[A\n",
            " 30%|██▉       | 354/1200 [00:54<02:47,  5.05it/s]\u001b[A\n",
            " 30%|██▉       | 355/1200 [00:54<02:37,  5.36it/s]\u001b[A\n",
            " 30%|██▉       | 356/1200 [00:54<02:26,  5.74it/s]\u001b[A\n",
            " 30%|██▉       | 357/1200 [00:54<02:29,  5.63it/s]\u001b[A\n",
            " 30%|██▉       | 358/1200 [00:54<02:16,  6.15it/s]\u001b[A\n",
            " 30%|███       | 360/1200 [00:54<01:54,  7.34it/s]\u001b[A\n",
            " 30%|███       | 362/1200 [00:55<01:56,  7.19it/s]\u001b[A\n",
            " 30%|███       | 363/1200 [00:55<02:08,  6.51it/s]\u001b[A\n",
            " 30%|███       | 364/1200 [00:55<02:02,  6.83it/s]\u001b[A\n",
            " 30%|███       | 366/1200 [00:55<01:54,  7.29it/s]\u001b[A\n",
            " 31%|███       | 367/1200 [00:55<02:12,  6.30it/s]\u001b[A\n",
            " 31%|███       | 368/1200 [00:56<02:30,  5.54it/s]\u001b[A\n",
            " 31%|███       | 370/1200 [00:56<01:56,  7.15it/s]\u001b[A\n",
            " 31%|███       | 371/1200 [00:56<01:53,  7.32it/s]\u001b[A\n",
            " 31%|███       | 373/1200 [00:56<01:46,  7.79it/s]\u001b[A\n",
            " 31%|███       | 374/1200 [00:56<01:54,  7.24it/s]\u001b[A\n",
            " 31%|███▏      | 375/1200 [00:57<01:56,  7.06it/s]\u001b[A\n",
            " 31%|███▏      | 377/1200 [00:57<01:49,  7.50it/s]\u001b[A\n",
            " 32%|███▏      | 378/1200 [00:57<02:04,  6.61it/s]\u001b[A\n",
            " 32%|███▏      | 379/1200 [00:57<02:01,  6.78it/s]\u001b[A\n",
            " 32%|███▏      | 380/1200 [00:57<02:08,  6.36it/s]\u001b[A\n",
            " 32%|███▏      | 381/1200 [00:58<02:26,  5.61it/s]\u001b[A\n",
            " 32%|███▏      | 382/1200 [00:58<02:19,  5.88it/s]\u001b[A\n",
            " 32%|███▏      | 383/1200 [00:58<02:30,  5.44it/s]\u001b[A\n",
            " 32%|███▏      | 384/1200 [00:58<02:20,  5.79it/s]\u001b[A\n",
            " 32%|███▏      | 385/1200 [00:58<02:12,  6.13it/s]\u001b[A\n",
            " 32%|███▏      | 386/1200 [00:58<02:13,  6.11it/s]\u001b[A\n",
            " 32%|███▏      | 387/1200 [00:59<02:50,  4.77it/s]\u001b[A\n",
            " 32%|███▏      | 388/1200 [00:59<03:18,  4.10it/s]\u001b[A\n",
            " 32%|███▏      | 389/1200 [00:59<03:57,  3.41it/s]\u001b[A\n",
            " 33%|███▎      | 391/1200 [01:00<02:51,  4.72it/s]\u001b[A\n",
            " 33%|███▎      | 392/1200 [01:00<02:41,  5.02it/s]\u001b[A\n",
            " 33%|███▎      | 393/1200 [01:00<04:08,  3.25it/s]\u001b[A\n",
            " 33%|███▎      | 394/1200 [01:01<03:55,  3.42it/s]\u001b[A\n",
            " 33%|███▎      | 395/1200 [01:01<03:36,  3.71it/s]\u001b[A\n",
            " 33%|███▎      | 396/1200 [01:01<03:47,  3.53it/s]\u001b[A\n",
            " 33%|███▎      | 397/1200 [01:01<03:38,  3.68it/s]\u001b[A\n",
            " 33%|███▎      | 398/1200 [01:02<04:00,  3.33it/s]\u001b[A\n",
            " 33%|███▎      | 399/1200 [01:02<03:40,  3.63it/s]\u001b[A\n",
            " 33%|███▎      | 401/1200 [01:02<02:42,  4.90it/s]\u001b[A\n",
            " 34%|███▎      | 402/1200 [01:02<02:31,  5.28it/s]\u001b[A\n",
            " 34%|███▎      | 403/1200 [01:03<02:32,  5.22it/s]\u001b[A\n",
            " 34%|███▎      | 404/1200 [01:03<02:22,  5.59it/s]\u001b[A\n",
            " 34%|███▍      | 406/1200 [01:03<02:00,  6.61it/s]\u001b[A\n",
            " 34%|███▍      | 407/1200 [01:03<01:54,  6.90it/s]\u001b[A\n",
            " 34%|███▍      | 408/1200 [01:03<02:10,  6.09it/s]\u001b[A\n",
            " 34%|███▍      | 409/1200 [01:04<02:24,  5.48it/s]\u001b[A\n",
            " 34%|███▍      | 410/1200 [01:04<02:21,  5.59it/s]\u001b[A\n",
            " 34%|███▍      | 411/1200 [01:04<02:23,  5.51it/s]\u001b[A\n",
            " 34%|███▍      | 413/1200 [01:04<01:53,  6.92it/s]\u001b[A\n",
            " 34%|███▍      | 414/1200 [01:04<01:51,  7.07it/s]\u001b[A\n",
            " 35%|███▍      | 415/1200 [01:04<01:52,  6.98it/s]\u001b[A\n",
            " 35%|███▍      | 416/1200 [01:05<01:59,  6.56it/s]\u001b[A\n",
            " 35%|███▍      | 417/1200 [01:05<02:01,  6.47it/s]\u001b[A\n",
            " 35%|███▍      | 418/1200 [01:05<01:57,  6.64it/s]\u001b[A\n",
            " 35%|███▌      | 420/1200 [01:05<01:58,  6.57it/s]\u001b[A\n",
            " 35%|███▌      | 421/1200 [01:05<02:11,  5.94it/s]\u001b[A\n",
            " 35%|███▌      | 422/1200 [01:06<02:24,  5.38it/s]\u001b[A\n",
            " 35%|███▌      | 423/1200 [01:06<02:25,  5.34it/s]\u001b[A\n",
            " 35%|███▌      | 424/1200 [01:06<02:21,  5.47it/s]\u001b[A\n",
            " 36%|███▌      | 426/1200 [01:06<02:06,  6.11it/s]\u001b[A\n",
            " 36%|███▌      | 427/1200 [01:06<02:10,  5.92it/s]\u001b[A\n",
            " 36%|███▌      | 428/1200 [01:07<02:01,  6.35it/s]\u001b[A\n",
            " 36%|███▌      | 429/1200 [01:07<02:06,  6.11it/s]\u001b[A\n",
            " 36%|███▌      | 430/1200 [01:07<01:58,  6.51it/s]\u001b[A\n",
            " 36%|███▌      | 431/1200 [01:07<01:52,  6.86it/s]\u001b[A\n",
            " 36%|███▌      | 432/1200 [01:07<02:08,  5.99it/s]\u001b[A\n",
            " 36%|███▌      | 433/1200 [01:07<02:00,  6.37it/s]\u001b[A\n",
            " 36%|███▌      | 434/1200 [01:08<01:59,  6.39it/s]\u001b[A\n",
            " 36%|███▋      | 436/1200 [01:08<01:42,  7.47it/s]\u001b[A\n",
            " 36%|███▋      | 437/1200 [01:08<02:01,  6.29it/s]\u001b[A\n",
            " 36%|███▋      | 438/1200 [01:08<02:02,  6.20it/s]\u001b[A\n",
            " 37%|███▋      | 440/1200 [01:08<01:57,  6.46it/s]\u001b[A\n",
            " 37%|███▋      | 441/1200 [01:09<02:06,  6.02it/s]\u001b[A\n",
            " 37%|███▋      | 443/1200 [01:09<01:37,  7.75it/s]\u001b[A\n",
            " 37%|███▋      | 444/1200 [01:09<01:37,  7.78it/s]\u001b[A\n",
            " 37%|███▋      | 445/1200 [01:09<01:41,  7.41it/s]\u001b[A\n",
            " 37%|███▋      | 447/1200 [01:09<01:44,  7.23it/s]\u001b[A\n",
            " 37%|███▋      | 448/1200 [01:10<01:59,  6.29it/s]\u001b[A\n",
            " 37%|███▋      | 449/1200 [01:10<02:00,  6.22it/s]\u001b[A\n",
            " 38%|███▊      | 450/1200 [01:10<01:58,  6.35it/s]\u001b[A\n",
            " 38%|███▊      | 451/1200 [01:10<02:13,  5.63it/s]\u001b[A\n",
            " 38%|███▊      | 452/1200 [01:10<02:09,  5.79it/s]\u001b[A\n",
            " 38%|███▊      | 453/1200 [01:11<02:17,  5.42it/s]\u001b[A\n",
            " 38%|███▊      | 454/1200 [01:11<02:23,  5.19it/s]\u001b[A\n",
            " 38%|███▊      | 455/1200 [01:11<02:09,  5.77it/s]\u001b[A\n",
            " 38%|███▊      | 456/1200 [01:11<02:08,  5.81it/s]\u001b[A\n",
            " 38%|███▊      | 457/1200 [01:11<02:13,  5.56it/s]\u001b[A\n",
            " 38%|███▊      | 458/1200 [01:11<02:03,  6.03it/s]\u001b[A\n",
            " 38%|███▊      | 459/1200 [01:12<01:59,  6.19it/s]\u001b[A\n",
            " 38%|███▊      | 461/1200 [01:12<01:28,  8.31it/s]\u001b[A\n",
            " 38%|███▊      | 462/1200 [01:12<01:40,  7.34it/s]\u001b[A\n",
            " 39%|███▊      | 463/1200 [01:12<01:49,  6.73it/s]\u001b[A\n",
            " 39%|███▊      | 464/1200 [01:12<01:46,  6.90it/s]\u001b[A\n",
            " 39%|███▉      | 465/1200 [01:12<02:10,  5.65it/s]\u001b[A\n",
            " 39%|███▉      | 466/1200 [01:13<02:05,  5.84it/s]\u001b[A\n",
            " 39%|███▉      | 467/1200 [01:13<01:59,  6.14it/s]\u001b[A\n",
            " 39%|███▉      | 468/1200 [01:13<02:13,  5.48it/s]\u001b[A\n",
            " 39%|███▉      | 470/1200 [01:13<01:49,  6.68it/s]\u001b[A\n",
            " 39%|███▉      | 471/1200 [01:13<01:55,  6.33it/s]\u001b[A\n",
            " 39%|███▉      | 472/1200 [01:14<01:55,  6.28it/s]\u001b[A\n",
            " 39%|███▉      | 473/1200 [01:14<01:52,  6.49it/s]\u001b[A\n",
            " 40%|███▉      | 474/1200 [01:14<02:01,  5.98it/s]\u001b[A\n",
            " 40%|███▉      | 475/1200 [01:14<02:12,  5.46it/s]\u001b[A\n",
            " 40%|███▉      | 477/1200 [01:14<01:41,  7.12it/s]\u001b[A\n",
            " 40%|███▉      | 479/1200 [01:14<01:31,  7.86it/s]\u001b[A\n",
            " 40%|████      | 480/1200 [01:15<01:36,  7.45it/s]\u001b[A\n",
            " 40%|████      | 481/1200 [01:15<01:41,  7.11it/s]\u001b[A\n",
            " 40%|████      | 482/1200 [01:15<01:39,  7.24it/s]\u001b[A\n",
            " 40%|████      | 483/1200 [01:15<01:47,  6.66it/s]\u001b[A\n",
            " 40%|████      | 484/1200 [01:15<02:01,  5.88it/s]\u001b[A\n",
            " 40%|████      | 486/1200 [01:16<01:41,  7.02it/s]\u001b[A\n",
            " 41%|████      | 488/1200 [01:16<01:29,  7.92it/s]\u001b[A\n",
            " 41%|████      | 489/1200 [01:16<01:32,  7.67it/s]\u001b[A\n",
            " 41%|████      | 490/1200 [01:16<01:34,  7.53it/s]\u001b[A\n",
            " 41%|████      | 491/1200 [01:16<01:54,  6.20it/s]\u001b[A\n",
            " 41%|████      | 492/1200 [01:16<01:58,  5.98it/s]\u001b[A\n",
            " 41%|████      | 493/1200 [01:17<02:01,  5.80it/s]\u001b[A\n",
            " 41%|████      | 494/1200 [01:17<02:03,  5.73it/s]\u001b[A\n",
            " 41%|████▏     | 496/1200 [01:17<01:51,  6.32it/s]\u001b[A\n",
            " 42%|████▏     | 498/1200 [01:17<01:29,  7.89it/s]\u001b[A\n",
            " 42%|████▏     | 500/1200 [01:17<01:22,  8.44it/s]\u001b[A\n",
            " 42%|████▏     | 501/1200 [01:18<01:35,  7.30it/s]\u001b[A\n",
            " 42%|████▏     | 502/1200 [01:18<01:41,  6.86it/s]\u001b[A\n",
            " 42%|████▏     | 504/1200 [01:18<01:33,  7.43it/s]\u001b[A\n",
            " 42%|████▏     | 505/1200 [01:18<01:49,  6.37it/s]\u001b[A\n",
            " 42%|████▏     | 506/1200 [01:18<01:40,  6.92it/s]\u001b[A\n",
            " 42%|████▏     | 508/1200 [01:19<01:37,  7.08it/s]\u001b[A\n",
            " 42%|████▏     | 509/1200 [01:19<01:54,  6.05it/s]\u001b[A\n",
            " 43%|████▎     | 511/1200 [01:19<01:30,  7.65it/s]\u001b[A\n",
            " 43%|████▎     | 512/1200 [01:19<01:49,  6.29it/s]\u001b[A\n",
            " 43%|████▎     | 513/1200 [01:19<01:43,  6.63it/s]\u001b[A\n",
            " 43%|████▎     | 515/1200 [01:20<01:36,  7.10it/s]\u001b[A\n",
            " 43%|████▎     | 516/1200 [01:20<01:34,  7.20it/s]\u001b[A\n",
            " 43%|████▎     | 517/1200 [01:20<01:37,  7.01it/s]\u001b[A\n",
            " 43%|████▎     | 518/1200 [01:20<01:38,  6.93it/s]\u001b[A\n",
            " 43%|████▎     | 519/1200 [01:20<01:55,  5.88it/s]\u001b[A\n",
            " 43%|████▎     | 520/1200 [01:21<01:54,  5.92it/s]\u001b[A\n",
            " 43%|████▎     | 521/1200 [01:21<01:58,  5.74it/s]\u001b[A\n",
            " 44%|████▎     | 523/1200 [01:21<01:46,  6.38it/s]\u001b[A\n",
            " 44%|████▎     | 524/1200 [01:21<01:55,  5.86it/s]\u001b[A\n",
            " 44%|████▍     | 525/1200 [01:21<02:03,  5.48it/s]\u001b[A\n",
            " 44%|████▍     | 526/1200 [01:22<01:56,  5.79it/s]\u001b[A\n",
            " 44%|████▍     | 528/1200 [01:22<01:49,  6.15it/s]\u001b[A\n",
            " 44%|████▍     | 529/1200 [01:22<01:39,  6.72it/s]\u001b[A\n",
            " 44%|████▍     | 530/1200 [01:22<01:36,  6.95it/s]\u001b[A\n",
            " 44%|████▍     | 531/1200 [01:22<01:48,  6.14it/s]\u001b[A\n",
            " 44%|████▍     | 533/1200 [01:23<01:25,  7.79it/s]\u001b[A\n",
            " 44%|████▍     | 534/1200 [01:23<01:28,  7.50it/s]\u001b[A\n",
            " 45%|████▍     | 535/1200 [01:23<01:45,  6.29it/s]\u001b[A\n",
            " 45%|████▍     | 536/1200 [01:23<01:51,  5.97it/s]\u001b[A\n",
            " 45%|████▍     | 537/1200 [01:23<01:55,  5.75it/s]\u001b[A\n",
            " 45%|████▍     | 539/1200 [01:24<01:44,  6.35it/s]\u001b[A\n",
            " 45%|████▌     | 540/1200 [01:24<01:44,  6.29it/s]\u001b[A\n",
            " 45%|████▌     | 541/1200 [01:24<01:51,  5.91it/s]\u001b[A\n",
            " 45%|████▌     | 542/1200 [01:24<01:50,  5.96it/s]\u001b[A\n",
            " 45%|████▌     | 543/1200 [01:24<01:52,  5.81it/s]\u001b[A\n",
            " 45%|████▌     | 544/1200 [01:24<01:52,  5.81it/s]\u001b[A\n",
            " 45%|████▌     | 545/1200 [01:25<02:01,  5.40it/s]\u001b[A\n",
            " 46%|████▌     | 547/1200 [01:25<01:35,  6.85it/s]\u001b[A\n",
            " 46%|████▌     | 548/1200 [01:25<01:52,  5.79it/s]\u001b[A\n",
            " 46%|████▌     | 549/1200 [01:25<01:59,  5.45it/s]\u001b[A\n",
            " 46%|████▌     | 550/1200 [01:26<02:00,  5.38it/s]\u001b[A\n",
            " 46%|████▌     | 551/1200 [01:26<02:10,  4.99it/s]\u001b[A\n",
            " 46%|████▌     | 552/1200 [01:26<02:19,  4.65it/s]\u001b[A\n",
            " 46%|████▌     | 553/1200 [01:26<02:07,  5.09it/s]\u001b[A\n",
            " 46%|████▌     | 554/1200 [01:26<02:11,  4.90it/s]\u001b[A\n",
            " 46%|████▋     | 555/1200 [01:27<02:02,  5.28it/s]\u001b[A\n",
            " 46%|████▋     | 556/1200 [01:27<01:50,  5.84it/s]\u001b[A\n",
            " 46%|████▋     | 557/1200 [01:27<01:51,  5.77it/s]\u001b[A\n",
            " 46%|████▋     | 558/1200 [01:27<01:41,  6.30it/s]\u001b[A\n",
            " 47%|████▋     | 559/1200 [01:27<01:54,  5.61it/s]\u001b[A\n",
            " 47%|████▋     | 561/1200 [01:27<01:23,  7.62it/s]\u001b[A\n",
            " 47%|████▋     | 562/1200 [01:28<01:30,  7.06it/s]\u001b[A\n",
            " 47%|████▋     | 563/1200 [01:28<01:30,  7.00it/s]\u001b[A\n",
            " 47%|████▋     | 564/1200 [01:28<01:40,  6.36it/s]\u001b[A\n",
            " 47%|████▋     | 565/1200 [01:28<01:43,  6.16it/s]\u001b[A\n",
            " 47%|████▋     | 566/1200 [01:28<01:43,  6.14it/s]\u001b[A\n",
            " 47%|████▋     | 567/1200 [01:28<01:57,  5.37it/s]\u001b[A\n",
            " 47%|████▋     | 568/1200 [01:29<01:50,  5.70it/s]\u001b[A\n",
            " 47%|████▋     | 569/1200 [01:29<01:41,  6.21it/s]\u001b[A\n",
            " 48%|████▊     | 570/1200 [01:29<01:36,  6.52it/s]\u001b[A\n",
            " 48%|████▊     | 571/1200 [01:29<01:35,  6.57it/s]\u001b[A\n",
            " 48%|████▊     | 573/1200 [01:29<01:25,  7.29it/s]\u001b[A\n",
            " 48%|████▊     | 574/1200 [01:29<01:37,  6.44it/s]\u001b[A\n",
            " 48%|████▊     | 575/1200 [01:30<01:39,  6.30it/s]\u001b[A\n",
            " 48%|████▊     | 576/1200 [01:30<01:50,  5.63it/s]\u001b[A\n",
            " 48%|████▊     | 578/1200 [01:30<01:35,  6.51it/s]\u001b[A\n",
            " 48%|████▊     | 579/1200 [01:30<01:44,  5.93it/s]\u001b[A\n",
            " 48%|████▊     | 580/1200 [01:31<02:13,  4.65it/s]\u001b[A\n",
            " 48%|████▊     | 581/1200 [01:31<01:58,  5.24it/s]\u001b[A\n",
            " 48%|████▊     | 582/1200 [01:31<02:06,  4.89it/s]\u001b[A\n",
            " 49%|████▊     | 583/1200 [01:31<02:08,  4.79it/s]\u001b[A\n",
            " 49%|████▊     | 584/1200 [01:31<01:56,  5.31it/s]\u001b[A\n",
            " 49%|████▉     | 585/1200 [01:32<01:53,  5.41it/s]\u001b[A\n",
            " 49%|████▉     | 586/1200 [01:32<01:45,  5.84it/s]\u001b[A\n",
            " 49%|████▉     | 587/1200 [01:32<01:40,  6.11it/s]\u001b[A\n",
            " 49%|████▉     | 589/1200 [01:32<01:14,  8.25it/s]\u001b[A\n",
            " 49%|████▉     | 590/1200 [01:32<01:33,  6.53it/s]\u001b[A\n",
            " 49%|████▉     | 591/1200 [01:32<01:45,  5.75it/s]\u001b[A\n",
            " 49%|████▉     | 592/1200 [01:33<01:55,  5.27it/s]\u001b[A\n",
            " 50%|████▉     | 594/1200 [01:33<01:41,  5.97it/s]\u001b[A\n",
            " 50%|████▉     | 595/1200 [01:33<01:36,  6.26it/s]\u001b[A\n",
            " 50%|████▉     | 597/1200 [01:33<01:24,  7.10it/s]\u001b[A\n",
            " 50%|████▉     | 598/1200 [01:33<01:22,  7.27it/s]\u001b[A\n",
            " 50%|████▉     | 599/1200 [01:34<01:37,  6.16it/s]\u001b[A\n",
            " 50%|█████     | 600/1200 [01:34<01:39,  6.01it/s]\u001b[A\n",
            " 50%|█████     | 601/1200 [01:34<01:33,  6.41it/s]\u001b[A\n",
            " 50%|█████     | 602/1200 [01:34<01:29,  6.70it/s]\u001b[A\n",
            " 50%|█████     | 604/1200 [01:34<01:18,  7.61it/s]\u001b[A\n",
            " 50%|█████     | 605/1200 [01:34<01:16,  7.80it/s]\u001b[A\n",
            " 50%|█████     | 606/1200 [01:35<01:22,  7.18it/s]\u001b[A\n",
            " 51%|█████     | 607/1200 [01:35<01:20,  7.40it/s]\u001b[A\n",
            " 51%|█████     | 608/1200 [01:35<01:30,  6.53it/s]\u001b[A\n",
            " 51%|█████     | 609/1200 [01:35<01:33,  6.31it/s]\u001b[A\n",
            " 51%|█████     | 610/1200 [01:35<01:35,  6.16it/s]\u001b[A\n",
            " 51%|█████     | 612/1200 [01:36<01:21,  7.23it/s]\u001b[A\n",
            " 51%|█████     | 613/1200 [01:36<01:27,  6.69it/s]\u001b[A\n",
            " 51%|█████     | 614/1200 [01:36<01:33,  6.23it/s]\u001b[A\n",
            " 51%|█████▏    | 615/1200 [01:36<01:36,  6.06it/s]\u001b[A\n",
            " 51%|█████▏    | 616/1200 [01:36<01:36,  6.07it/s]\u001b[A\n",
            " 51%|█████▏    | 617/1200 [01:36<01:30,  6.41it/s]\u001b[A\n",
            " 52%|█████▏    | 619/1200 [01:37<01:21,  7.14it/s]\u001b[A\n",
            " 52%|█████▏    | 621/1200 [01:37<01:27,  6.64it/s]\u001b[A\n",
            " 52%|█████▏    | 622/1200 [01:37<01:28,  6.54it/s]\u001b[A\n",
            " 52%|█████▏    | 623/1200 [01:37<01:53,  5.06it/s]\u001b[A\n",
            " 52%|█████▏    | 625/1200 [01:38<01:40,  5.74it/s]\u001b[A\n",
            " 52%|█████▏    | 627/1200 [01:38<01:28,  6.50it/s]\u001b[A\n",
            " 52%|█████▏    | 628/1200 [01:38<01:28,  6.45it/s]\u001b[A\n",
            " 52%|█████▏    | 629/1200 [01:38<01:28,  6.47it/s]\u001b[A\n",
            " 52%|█████▎    | 630/1200 [01:39<01:36,  5.88it/s]\u001b[A\n",
            " 53%|█████▎    | 631/1200 [01:39<01:38,  5.75it/s]\u001b[A\n",
            " 53%|█████▎    | 632/1200 [01:39<01:36,  5.90it/s]\u001b[A\n",
            " 53%|█████▎    | 634/1200 [01:39<01:20,  7.01it/s]\u001b[A\n",
            " 53%|█████▎    | 635/1200 [01:39<01:27,  6.43it/s]\u001b[A\n",
            " 53%|█████▎    | 636/1200 [01:39<01:36,  5.84it/s]\u001b[A\n",
            " 53%|█████▎    | 637/1200 [01:40<01:30,  6.25it/s]\u001b[A\n",
            " 53%|█████▎    | 639/1200 [01:40<01:21,  6.87it/s]\u001b[A\n",
            " 53%|█████▎    | 640/1200 [01:40<01:30,  6.21it/s]\u001b[A\n",
            " 54%|█████▎    | 642/1200 [01:40<01:23,  6.71it/s]\u001b[A\n",
            " 54%|█████▎    | 643/1200 [01:41<01:26,  6.45it/s]\u001b[A\n",
            " 54%|█████▎    | 644/1200 [01:41<01:27,  6.34it/s]\u001b[A\n",
            " 54%|█████▍    | 645/1200 [01:41<01:35,  5.81it/s]\u001b[A\n",
            " 54%|█████▍    | 646/1200 [01:41<01:42,  5.39it/s]\u001b[A\n",
            " 54%|█████▍    | 647/1200 [01:41<01:32,  5.98it/s]\u001b[A\n",
            " 54%|█████▍    | 649/1200 [01:41<01:16,  7.16it/s]\u001b[A\n",
            " 54%|█████▍    | 650/1200 [01:42<01:32,  5.95it/s]\u001b[A\n",
            " 54%|█████▍    | 651/1200 [01:42<01:35,  5.73it/s]\u001b[A\n",
            " 54%|█████▍    | 652/1200 [01:42<01:39,  5.51it/s]\u001b[A\n",
            " 54%|█████▍    | 653/1200 [01:42<01:48,  5.04it/s]\u001b[A\n",
            " 55%|█████▍    | 655/1200 [01:43<01:29,  6.11it/s]\u001b[A\n",
            " 55%|█████▍    | 657/1200 [01:43<01:20,  6.78it/s]\u001b[A\n",
            " 55%|█████▍    | 658/1200 [01:43<01:21,  6.66it/s]\u001b[A\n",
            " 55%|█████▍    | 659/1200 [01:43<01:23,  6.44it/s]\u001b[A\n",
            " 55%|█████▌    | 660/1200 [01:43<01:27,  6.20it/s]\u001b[A\n",
            " 55%|█████▌    | 661/1200 [01:44<01:45,  5.13it/s]\u001b[A\n",
            " 55%|█████▌    | 663/1200 [01:44<01:26,  6.18it/s]\u001b[A\n",
            " 55%|█████▌    | 664/1200 [01:44<01:23,  6.45it/s]\u001b[A\n",
            " 55%|█████▌    | 665/1200 [01:44<01:22,  6.51it/s]\u001b[A\n",
            " 56%|█████▌    | 666/1200 [01:44<01:18,  6.80it/s]\u001b[A\n",
            " 56%|█████▌    | 667/1200 [01:44<01:21,  6.55it/s]\u001b[A\n",
            " 56%|█████▌    | 668/1200 [01:45<01:23,  6.37it/s]\u001b[A\n",
            " 56%|█████▌    | 669/1200 [01:45<01:28,  6.00it/s]\u001b[A\n",
            " 56%|█████▌    | 670/1200 [01:45<01:24,  6.26it/s]\u001b[A\n",
            " 56%|█████▌    | 672/1200 [01:45<01:06,  7.95it/s]\u001b[A\n",
            " 56%|█████▌    | 673/1200 [01:45<01:20,  6.51it/s]\u001b[A\n",
            " 56%|█████▌    | 674/1200 [01:45<01:14,  7.07it/s]\u001b[A\n",
            " 56%|█████▋    | 675/1200 [01:46<01:22,  6.37it/s]\u001b[A\n",
            " 56%|█████▋    | 676/1200 [01:46<01:30,  5.79it/s]\u001b[A\n",
            " 56%|█████▋    | 677/1200 [01:46<01:21,  6.41it/s]\u001b[A\n",
            " 56%|█████▋    | 678/1200 [01:46<01:23,  6.25it/s]\u001b[A\n",
            " 57%|█████▋    | 679/1200 [01:46<01:22,  6.35it/s]\n",
            "  0%|          | 0/1 [01:46<?, ?it/s]\n"
          ]
        },
        {
          "output_type": "error",
          "ename": "KeyboardInterrupt",
          "evalue": "ignored",
          "traceback": [
            "\u001b[0;31m---------------------------------------------------------------------------\u001b[0m",
            "\u001b[0;31mKeyboardInterrupt\u001b[0m                         Traceback (most recent call last)",
            "\u001b[0;32m<ipython-input-51-2bbe6a6118db>\u001b[0m in \u001b[0;36m<module>\u001b[0;34m\u001b[0m\n\u001b[1;32m     19\u001b[0m                                                                                                     \u001b[0mnum_elems\u001b[0m\u001b[0;34m,\u001b[0m \u001b[0mmodel\u001b[0m\u001b[0;34m,\u001b[0m\u001b[0;34m\u001b[0m\u001b[0;34m\u001b[0m\u001b[0m\n\u001b[1;32m     20\u001b[0m                                                                                                     \u001b[0malpha\u001b[0m\u001b[0;34m,\u001b[0m\u001b[0mreturn_last_n_states\u001b[0m\u001b[0;34m=\u001b[0m\u001b[0mN_hops\u001b[0m\u001b[0;34m-\u001b[0m\u001b[0;36m20\u001b[0m\u001b[0;34m,\u001b[0m\u001b[0;34m\u001b[0m\u001b[0;34m\u001b[0m\u001b[0m\n\u001b[0;32m---> 21\u001b[0;31m                                                                                                     return_both_classical_and_quantum_steps=True, temp=temp)\n\u001b[0m\u001b[1;32m     22\u001b[0m \u001b[0;34m\u001b[0m\u001b[0m\n\u001b[1;32m     23\u001b[0m     \u001b[0mdict_states_quantum_mcmc_sorted_desc\u001b[0m\u001b[0;34m=\u001b[0m\u001b[0mvalue_sorted_dict\u001b[0m\u001b[0;34m(\u001b[0m\u001b[0mdict_states_quantum_mcmc\u001b[0m\u001b[0;34m,\u001b[0m \u001b[0mreverse\u001b[0m\u001b[0;34m=\u001b[0m\u001b[0;32mTrue\u001b[0m\u001b[0;34m)\u001b[0m\u001b[0;34m\u001b[0m\u001b[0;34m\u001b[0m\u001b[0m\n",
            "\u001b[0;32m<ipython-input-38-537c506c7ccd>\u001b[0m in \u001b[0;36mquantum_enhanced_mcmc\u001b[0;34m(N_hops, num_spins, num_elems, model, alpha, return_last_n_states, return_both_classical_and_quantum_steps, temp)\u001b[0m\n\u001b[1;32m     26\u001b[0m         \u001b[0mstates\u001b[0m\u001b[0;34m.\u001b[0m\u001b[0mappend\u001b[0m\u001b[0;34m(\u001b[0m\u001b[0mcurrent_state\u001b[0m\u001b[0;34m)\u001b[0m\u001b[0;34m\u001b[0m\u001b[0;34m\u001b[0m\u001b[0m\n\u001b[1;32m     27\u001b[0m         \u001b[0;31m# get sprime\u001b[0m\u001b[0;34m\u001b[0m\u001b[0;34m\u001b[0m\u001b[0;34m\u001b[0m\u001b[0m\n\u001b[0;32m---> 28\u001b[0;31m         \u001b[0ms_prime\u001b[0m\u001b[0;34m=\u001b[0m\u001b[0mrun_qc_quantum_step\u001b[0m\u001b[0;34m(\u001b[0m\u001b[0mqc_initialised_to_s\u001b[0m\u001b[0;34m=\u001b[0m\u001b[0mqc_s\u001b[0m\u001b[0;34m,\u001b[0m \u001b[0mmodel\u001b[0m\u001b[0;34m=\u001b[0m \u001b[0mmodel\u001b[0m\u001b[0;34m,\u001b[0m \u001b[0malpha\u001b[0m\u001b[0;34m=\u001b[0m\u001b[0malpha\u001b[0m\u001b[0;34m,\u001b[0m \u001b[0mn_spins\u001b[0m\u001b[0;34m=\u001b[0m\u001b[0mnum_spins\u001b[0m\u001b[0;34m)\u001b[0m\u001b[0;34m\u001b[0m\u001b[0;34m\u001b[0m\u001b[0m\n\u001b[0m\u001b[1;32m     29\u001b[0m         \u001b[0mlist_after_transition\u001b[0m\u001b[0;34m.\u001b[0m\u001b[0mappend\u001b[0m\u001b[0;34m(\u001b[0m\u001b[0ms_prime\u001b[0m\u001b[0;34m)\u001b[0m\u001b[0;34m\u001b[0m\u001b[0;34m\u001b[0m\u001b[0m\n\u001b[1;32m     30\u001b[0m         \u001b[0;31m# accept/reject s_prime\u001b[0m\u001b[0;34m\u001b[0m\u001b[0;34m\u001b[0m\u001b[0;34m\u001b[0m\u001b[0m\n",
            "\u001b[0;32m<ipython-input-35-60aa288fa408>\u001b[0m in \u001b[0;36mrun_qc_quantum_step\u001b[0;34m(qc_initialised_to_s, model, alpha, n_spins)\u001b[0m\n\u001b[1;32m     95\u001b[0m     \u001b[0mclassical_register\u001b[0m\u001b[0;34m=\u001b[0m\u001b[0mqc_for_mcmc\u001b[0m\u001b[0;34m.\u001b[0m\u001b[0mcregs\u001b[0m\u001b[0;34m[\u001b[0m\u001b[0;36m0\u001b[0m\u001b[0;34m]\u001b[0m\u001b[0;34m\u001b[0m\u001b[0;34m\u001b[0m\u001b[0m\n\u001b[1;32m     96\u001b[0m     \u001b[0mqc_for_mcmc\u001b[0m\u001b[0;34m.\u001b[0m\u001b[0mmeasure\u001b[0m\u001b[0;34m(\u001b[0m\u001b[0mquantum_registers_for_spins\u001b[0m\u001b[0;34m,\u001b[0m\u001b[0mclassical_register\u001b[0m\u001b[0;34m)\u001b[0m\u001b[0;34m\u001b[0m\u001b[0;34m\u001b[0m\u001b[0m\n\u001b[0;32m---> 97\u001b[0;31m     \u001b[0mstate_obtained_dict\u001b[0m\u001b[0;34m=\u001b[0m\u001b[0mexecute\u001b[0m\u001b[0;34m(\u001b[0m\u001b[0mqc_for_mcmc\u001b[0m\u001b[0;34m,\u001b[0m \u001b[0mshots\u001b[0m\u001b[0;34m=\u001b[0m \u001b[0mnum_shots\u001b[0m\u001b[0;34m,\u001b[0m \u001b[0mbackend\u001b[0m\u001b[0;34m=\u001b[0m \u001b[0mqsm\u001b[0m\u001b[0;34m)\u001b[0m\u001b[0;34m.\u001b[0m\u001b[0mresult\u001b[0m\u001b[0;34m(\u001b[0m\u001b[0;34m)\u001b[0m\u001b[0;34m.\u001b[0m\u001b[0mget_counts\u001b[0m\u001b[0;34m(\u001b[0m\u001b[0;34m)\u001b[0m\u001b[0;34m\u001b[0m\u001b[0;34m\u001b[0m\u001b[0m\n\u001b[0m\u001b[1;32m     98\u001b[0m     \u001b[0mstate_obtained\u001b[0m\u001b[0;34m=\u001b[0m\u001b[0mlist\u001b[0m\u001b[0;34m(\u001b[0m\u001b[0mstate_obtained_dict\u001b[0m\u001b[0;34m.\u001b[0m\u001b[0mkeys\u001b[0m\u001b[0;34m(\u001b[0m\u001b[0;34m)\u001b[0m\u001b[0;34m)\u001b[0m\u001b[0;34m[\u001b[0m\u001b[0;36m0\u001b[0m\u001b[0;34m]\u001b[0m\u001b[0;31m#since there is only one element\u001b[0m\u001b[0;34m\u001b[0m\u001b[0;34m\u001b[0m\u001b[0m\n\u001b[1;32m     99\u001b[0m \u001b[0;34m\u001b[0m\u001b[0m\n",
            "\u001b[0;32m/usr/local/lib/python3.7/dist-packages/qiskit/execute_function.py\u001b[0m in \u001b[0;36mexecute\u001b[0;34m(experiments, backend, basis_gates, coupling_map, backend_properties, initial_layout, seed_transpiler, optimization_level, pass_manager, qobj_id, qobj_header, shots, memory, max_credits, seed_simulator, default_qubit_los, default_meas_los, qubit_lo_range, meas_lo_range, schedule_los, meas_level, meas_return, memory_slots, memory_slot_size, rep_time, rep_delay, parameter_binds, schedule_circuit, inst_map, meas_map, scheduling_method, init_qubits, **run_config)\u001b[0m\n\u001b[1;32m    305\u001b[0m             \u001b[0mseed_transpiler\u001b[0m\u001b[0;34m=\u001b[0m\u001b[0mseed_transpiler\u001b[0m\u001b[0;34m,\u001b[0m\u001b[0;34m\u001b[0m\u001b[0;34m\u001b[0m\u001b[0m\n\u001b[1;32m    306\u001b[0m             \u001b[0moptimization_level\u001b[0m\u001b[0;34m=\u001b[0m\u001b[0moptimization_level\u001b[0m\u001b[0;34m,\u001b[0m\u001b[0;34m\u001b[0m\u001b[0;34m\u001b[0m\u001b[0m\n\u001b[0;32m--> 307\u001b[0;31m             \u001b[0mbackend\u001b[0m\u001b[0;34m=\u001b[0m\u001b[0mbackend\u001b[0m\u001b[0;34m,\u001b[0m\u001b[0;34m\u001b[0m\u001b[0;34m\u001b[0m\u001b[0m\n\u001b[0m\u001b[1;32m    308\u001b[0m         )\n\u001b[1;32m    309\u001b[0m \u001b[0;34m\u001b[0m\u001b[0m\n",
            "\u001b[0;32m/usr/local/lib/python3.7/dist-packages/qiskit/compiler/transpiler.py\u001b[0m in \u001b[0;36mtranspile\u001b[0;34m(circuits, backend, basis_gates, inst_map, coupling_map, backend_properties, initial_layout, layout_method, routing_method, translation_method, scheduling_method, instruction_durations, dt, approximation_degree, timing_constraints, seed_transpiler, optimization_level, callback, output_name, unitary_synthesis_method, unitary_synthesis_plugin_config, target)\u001b[0m\n\u001b[1;32m    346\u001b[0m                     \u001b[0mtranspile_config\u001b[0m\u001b[0;34m[\u001b[0m\u001b[0;34m\"backend_num_qubits\"\u001b[0m\u001b[0;34m]\u001b[0m\u001b[0;34m,\u001b[0m\u001b[0;34m\u001b[0m\u001b[0;34m\u001b[0m\u001b[0m\n\u001b[1;32m    347\u001b[0m                     \u001b[0mtranspile_config\u001b[0m\u001b[0;34m[\u001b[0m\u001b[0;34m\"faulty_qubits_map\"\u001b[0m\u001b[0;34m]\u001b[0m\u001b[0;34m,\u001b[0m\u001b[0;34m\u001b[0m\u001b[0;34m\u001b[0m\u001b[0m\n\u001b[0;32m--> 348\u001b[0;31m                     \u001b[0mtranspile_config\u001b[0m\u001b[0;34m[\u001b[0m\u001b[0;34m\"pass_manager_config\"\u001b[0m\u001b[0;34m]\u001b[0m\u001b[0;34m.\u001b[0m\u001b[0mbackend_properties\u001b[0m\u001b[0;34m,\u001b[0m\u001b[0;34m\u001b[0m\u001b[0;34m\u001b[0m\u001b[0m\n\u001b[0m\u001b[1;32m    349\u001b[0m                 )\n\u001b[1;32m    350\u001b[0m             )\n",
            "\u001b[0;32m/usr/local/lib/python3.7/dist-packages/qiskit/compiler/transpiler.py\u001b[0m in \u001b[0;36m_serial_transpile_circuit\u001b[0;34m(circuit, pass_manager, callback, output_name, num_qubits, faulty_qubits_map, backend_prop)\u001b[0m\n\u001b[1;32m    432\u001b[0m     \u001b[0mbackend_prop\u001b[0m\u001b[0;34m=\u001b[0m\u001b[0;32mNone\u001b[0m\u001b[0;34m,\u001b[0m\u001b[0;34m\u001b[0m\u001b[0;34m\u001b[0m\u001b[0m\n\u001b[1;32m    433\u001b[0m ):\n\u001b[0;32m--> 434\u001b[0;31m     \u001b[0mresult\u001b[0m \u001b[0;34m=\u001b[0m \u001b[0mpass_manager\u001b[0m\u001b[0;34m.\u001b[0m\u001b[0mrun\u001b[0m\u001b[0;34m(\u001b[0m\u001b[0mcircuit\u001b[0m\u001b[0;34m,\u001b[0m \u001b[0mcallback\u001b[0m\u001b[0;34m=\u001b[0m\u001b[0mcallback\u001b[0m\u001b[0;34m,\u001b[0m \u001b[0moutput_name\u001b[0m\u001b[0;34m=\u001b[0m\u001b[0moutput_name\u001b[0m\u001b[0;34m)\u001b[0m\u001b[0;34m\u001b[0m\u001b[0;34m\u001b[0m\u001b[0m\n\u001b[0m\u001b[1;32m    435\u001b[0m     \u001b[0;32mif\u001b[0m \u001b[0mfaulty_qubits_map\u001b[0m\u001b[0;34m:\u001b[0m\u001b[0;34m\u001b[0m\u001b[0;34m\u001b[0m\u001b[0m\n\u001b[1;32m    436\u001b[0m         return _remap_circuit_faulty_backend(\n",
            "\u001b[0;32m/usr/local/lib/python3.7/dist-packages/qiskit/transpiler/passmanager.py\u001b[0m in \u001b[0;36mrun\u001b[0;34m(self, circuits, output_name, callback)\u001b[0m\n\u001b[1;32m    509\u001b[0m     ) -> Union[QuantumCircuit, List[QuantumCircuit]]:\n\u001b[1;32m    510\u001b[0m         \u001b[0mself\u001b[0m\u001b[0;34m.\u001b[0m\u001b[0m_update_passmanager\u001b[0m\u001b[0;34m(\u001b[0m\u001b[0;34m)\u001b[0m\u001b[0;34m\u001b[0m\u001b[0;34m\u001b[0m\u001b[0m\n\u001b[0;32m--> 511\u001b[0;31m         \u001b[0;32mreturn\u001b[0m \u001b[0msuper\u001b[0m\u001b[0;34m(\u001b[0m\u001b[0;34m)\u001b[0m\u001b[0;34m.\u001b[0m\u001b[0mrun\u001b[0m\u001b[0;34m(\u001b[0m\u001b[0mcircuits\u001b[0m\u001b[0;34m,\u001b[0m \u001b[0moutput_name\u001b[0m\u001b[0;34m,\u001b[0m \u001b[0mcallback\u001b[0m\u001b[0;34m)\u001b[0m\u001b[0;34m\u001b[0m\u001b[0;34m\u001b[0m\u001b[0m\n\u001b[0m",
            "\u001b[0;32m/usr/local/lib/python3.7/dist-packages/qiskit/transpiler/passmanager.py\u001b[0m in \u001b[0;36mrun\u001b[0;34m(self, circuits, output_name, callback)\u001b[0m\n\u001b[1;32m    222\u001b[0m             \u001b[0;32mreturn\u001b[0m \u001b[0mcircuits\u001b[0m\u001b[0;34m\u001b[0m\u001b[0;34m\u001b[0m\u001b[0m\n\u001b[1;32m    223\u001b[0m         \u001b[0;32mif\u001b[0m \u001b[0misinstance\u001b[0m\u001b[0;34m(\u001b[0m\u001b[0mcircuits\u001b[0m\u001b[0;34m,\u001b[0m \u001b[0mQuantumCircuit\u001b[0m\u001b[0;34m)\u001b[0m\u001b[0;34m:\u001b[0m\u001b[0;34m\u001b[0m\u001b[0;34m\u001b[0m\u001b[0m\n\u001b[0;32m--> 224\u001b[0;31m             \u001b[0;32mreturn\u001b[0m \u001b[0mself\u001b[0m\u001b[0;34m.\u001b[0m\u001b[0m_run_single_circuit\u001b[0m\u001b[0;34m(\u001b[0m\u001b[0mcircuits\u001b[0m\u001b[0;34m,\u001b[0m \u001b[0moutput_name\u001b[0m\u001b[0;34m,\u001b[0m \u001b[0mcallback\u001b[0m\u001b[0;34m)\u001b[0m\u001b[0;34m\u001b[0m\u001b[0;34m\u001b[0m\u001b[0m\n\u001b[0m\u001b[1;32m    225\u001b[0m         \u001b[0;32mif\u001b[0m \u001b[0mlen\u001b[0m\u001b[0;34m(\u001b[0m\u001b[0mcircuits\u001b[0m\u001b[0;34m)\u001b[0m \u001b[0;34m==\u001b[0m \u001b[0;36m1\u001b[0m\u001b[0;34m:\u001b[0m\u001b[0;34m\u001b[0m\u001b[0;34m\u001b[0m\u001b[0m\n\u001b[1;32m    226\u001b[0m             \u001b[0;32mreturn\u001b[0m \u001b[0mself\u001b[0m\u001b[0;34m.\u001b[0m\u001b[0m_run_single_circuit\u001b[0m\u001b[0;34m(\u001b[0m\u001b[0mcircuits\u001b[0m\u001b[0;34m[\u001b[0m\u001b[0;36m0\u001b[0m\u001b[0;34m]\u001b[0m\u001b[0;34m,\u001b[0m \u001b[0moutput_name\u001b[0m\u001b[0;34m,\u001b[0m \u001b[0mcallback\u001b[0m\u001b[0;34m)\u001b[0m\u001b[0;34m\u001b[0m\u001b[0;34m\u001b[0m\u001b[0m\n",
            "\u001b[0;32m/usr/local/lib/python3.7/dist-packages/qiskit/transpiler/passmanager.py\u001b[0m in \u001b[0;36m_run_single_circuit\u001b[0;34m(self, circuit, output_name, callback)\u001b[0m\n\u001b[1;32m    277\u001b[0m         \"\"\"\n\u001b[1;32m    278\u001b[0m         \u001b[0mrunning_passmanager\u001b[0m \u001b[0;34m=\u001b[0m \u001b[0mself\u001b[0m\u001b[0;34m.\u001b[0m\u001b[0m_create_running_passmanager\u001b[0m\u001b[0;34m(\u001b[0m\u001b[0;34m)\u001b[0m\u001b[0;34m\u001b[0m\u001b[0;34m\u001b[0m\u001b[0m\n\u001b[0;32m--> 279\u001b[0;31m         \u001b[0mresult\u001b[0m \u001b[0;34m=\u001b[0m \u001b[0mrunning_passmanager\u001b[0m\u001b[0;34m.\u001b[0m\u001b[0mrun\u001b[0m\u001b[0;34m(\u001b[0m\u001b[0mcircuit\u001b[0m\u001b[0;34m,\u001b[0m \u001b[0moutput_name\u001b[0m\u001b[0;34m=\u001b[0m\u001b[0moutput_name\u001b[0m\u001b[0;34m,\u001b[0m \u001b[0mcallback\u001b[0m\u001b[0;34m=\u001b[0m\u001b[0mcallback\u001b[0m\u001b[0;34m)\u001b[0m\u001b[0;34m\u001b[0m\u001b[0;34m\u001b[0m\u001b[0m\n\u001b[0m\u001b[1;32m    280\u001b[0m         \u001b[0mself\u001b[0m\u001b[0;34m.\u001b[0m\u001b[0mproperty_set\u001b[0m \u001b[0;34m=\u001b[0m \u001b[0mrunning_passmanager\u001b[0m\u001b[0;34m.\u001b[0m\u001b[0mproperty_set\u001b[0m\u001b[0;34m\u001b[0m\u001b[0;34m\u001b[0m\u001b[0m\n\u001b[1;32m    281\u001b[0m         \u001b[0;32mreturn\u001b[0m \u001b[0mresult\u001b[0m\u001b[0;34m\u001b[0m\u001b[0;34m\u001b[0m\u001b[0m\n",
            "\u001b[0;32m/usr/local/lib/python3.7/dist-packages/qiskit/transpiler/runningpassmanager.py\u001b[0m in \u001b[0;36mrun\u001b[0;34m(***failed resolving arguments***)\u001b[0m\n\u001b[1;32m    122\u001b[0m         \u001b[0;32mfor\u001b[0m \u001b[0mpassset\u001b[0m \u001b[0;32min\u001b[0m \u001b[0mself\u001b[0m\u001b[0;34m.\u001b[0m\u001b[0mworking_list\u001b[0m\u001b[0;34m:\u001b[0m\u001b[0;34m\u001b[0m\u001b[0;34m\u001b[0m\u001b[0m\n\u001b[1;32m    123\u001b[0m             \u001b[0;32mfor\u001b[0m \u001b[0mpass_\u001b[0m \u001b[0;32min\u001b[0m \u001b[0mpassset\u001b[0m\u001b[0;34m:\u001b[0m\u001b[0;34m\u001b[0m\u001b[0;34m\u001b[0m\u001b[0m\n\u001b[0;32m--> 124\u001b[0;31m                 \u001b[0mdag\u001b[0m \u001b[0;34m=\u001b[0m \u001b[0mself\u001b[0m\u001b[0;34m.\u001b[0m\u001b[0m_do_pass\u001b[0m\u001b[0;34m(\u001b[0m\u001b[0mpass_\u001b[0m\u001b[0;34m,\u001b[0m \u001b[0mdag\u001b[0m\u001b[0;34m,\u001b[0m \u001b[0mpassset\u001b[0m\u001b[0;34m.\u001b[0m\u001b[0moptions\u001b[0m\u001b[0;34m)\u001b[0m\u001b[0;34m\u001b[0m\u001b[0;34m\u001b[0m\u001b[0m\n\u001b[0m\u001b[1;32m    125\u001b[0m \u001b[0;34m\u001b[0m\u001b[0m\n\u001b[1;32m    126\u001b[0m         \u001b[0mcircuit\u001b[0m \u001b[0;34m=\u001b[0m \u001b[0mdag_to_circuit\u001b[0m\u001b[0;34m(\u001b[0m\u001b[0mdag\u001b[0m\u001b[0;34m)\u001b[0m\u001b[0;34m\u001b[0m\u001b[0;34m\u001b[0m\u001b[0m\n",
            "\u001b[0;32m/usr/local/lib/python3.7/dist-packages/qiskit/transpiler/runningpassmanager.py\u001b[0m in \u001b[0;36m_do_pass\u001b[0;34m(self, pass_, dag, options)\u001b[0m\n\u001b[1;32m    165\u001b[0m             \u001b[0;31m# Run the pass itself, if not already run\u001b[0m\u001b[0;34m\u001b[0m\u001b[0;34m\u001b[0m\u001b[0;34m\u001b[0m\u001b[0m\n\u001b[1;32m    166\u001b[0m             \u001b[0;32mif\u001b[0m \u001b[0mpass_\u001b[0m \u001b[0;32mnot\u001b[0m \u001b[0;32min\u001b[0m \u001b[0mself\u001b[0m\u001b[0;34m.\u001b[0m\u001b[0mvalid_passes\u001b[0m\u001b[0;34m:\u001b[0m\u001b[0;34m\u001b[0m\u001b[0;34m\u001b[0m\u001b[0m\n\u001b[0;32m--> 167\u001b[0;31m                 \u001b[0mdag\u001b[0m \u001b[0;34m=\u001b[0m \u001b[0mself\u001b[0m\u001b[0;34m.\u001b[0m\u001b[0m_run_this_pass\u001b[0m\u001b[0;34m(\u001b[0m\u001b[0mpass_\u001b[0m\u001b[0;34m,\u001b[0m \u001b[0mdag\u001b[0m\u001b[0;34m)\u001b[0m\u001b[0;34m\u001b[0m\u001b[0;34m\u001b[0m\u001b[0m\n\u001b[0m\u001b[1;32m    168\u001b[0m \u001b[0;34m\u001b[0m\u001b[0m\n\u001b[1;32m    169\u001b[0m                 \u001b[0;31m# update the valid_passes property\u001b[0m\u001b[0;34m\u001b[0m\u001b[0;34m\u001b[0m\u001b[0;34m\u001b[0m\u001b[0m\n",
            "\u001b[0;32m/usr/local/lib/python3.7/dist-packages/qiskit/transpiler/runningpassmanager.py\u001b[0m in \u001b[0;36m_run_this_pass\u001b[0;34m(self, pass_, dag)\u001b[0m\n\u001b[1;32m    194\u001b[0m             \u001b[0;31m# Measure time if we have a callback or logging set\u001b[0m\u001b[0;34m\u001b[0m\u001b[0;34m\u001b[0m\u001b[0;34m\u001b[0m\u001b[0m\n\u001b[1;32m    195\u001b[0m             \u001b[0mstart_time\u001b[0m \u001b[0;34m=\u001b[0m \u001b[0mtime\u001b[0m\u001b[0;34m(\u001b[0m\u001b[0;34m)\u001b[0m\u001b[0;34m\u001b[0m\u001b[0;34m\u001b[0m\u001b[0m\n\u001b[0;32m--> 196\u001b[0;31m             \u001b[0mnew_dag\u001b[0m \u001b[0;34m=\u001b[0m \u001b[0mpass_\u001b[0m\u001b[0;34m.\u001b[0m\u001b[0mrun\u001b[0m\u001b[0;34m(\u001b[0m\u001b[0mdag\u001b[0m\u001b[0;34m)\u001b[0m\u001b[0;34m\u001b[0m\u001b[0;34m\u001b[0m\u001b[0m\n\u001b[0m\u001b[1;32m    197\u001b[0m             \u001b[0mend_time\u001b[0m \u001b[0;34m=\u001b[0m \u001b[0mtime\u001b[0m\u001b[0;34m(\u001b[0m\u001b[0;34m)\u001b[0m\u001b[0;34m\u001b[0m\u001b[0;34m\u001b[0m\u001b[0m\n\u001b[1;32m    198\u001b[0m             \u001b[0mrun_time\u001b[0m \u001b[0;34m=\u001b[0m \u001b[0mend_time\u001b[0m \u001b[0;34m-\u001b[0m \u001b[0mstart_time\u001b[0m\u001b[0;34m\u001b[0m\u001b[0;34m\u001b[0m\u001b[0m\n",
            "\u001b[0;32m/usr/local/lib/python3.7/dist-packages/qiskit/transpiler/passes/optimization/optimize_1q_decomposition.py\u001b[0m in \u001b[0;36mrun\u001b[0;34m(self, dag)\u001b[0m\n\u001b[1;32m    166\u001b[0m                     \u001b[0;32mcontinue\u001b[0m\u001b[0;34m\u001b[0m\u001b[0;34m\u001b[0m\u001b[0m\n\u001b[1;32m    167\u001b[0m \u001b[0;34m\u001b[0m\u001b[0m\n\u001b[0;32m--> 168\u001b[0;31m             \u001b[0mnew_basis\u001b[0m\u001b[0;34m,\u001b[0m \u001b[0mnew_circ\u001b[0m \u001b[0;34m=\u001b[0m \u001b[0mself\u001b[0m\u001b[0;34m.\u001b[0m\u001b[0m_resynthesize_run\u001b[0m\u001b[0;34m(\u001b[0m\u001b[0mrun\u001b[0m\u001b[0;34m)\u001b[0m\u001b[0;34m\u001b[0m\u001b[0;34m\u001b[0m\u001b[0m\n\u001b[0m\u001b[1;32m    169\u001b[0m \u001b[0;34m\u001b[0m\u001b[0m\n\u001b[1;32m    170\u001b[0m             \u001b[0;32mif\u001b[0m \u001b[0mnew_circ\u001b[0m \u001b[0;32mis\u001b[0m \u001b[0;32mnot\u001b[0m \u001b[0;32mNone\u001b[0m \u001b[0;32mand\u001b[0m \u001b[0mself\u001b[0m\u001b[0;34m.\u001b[0m\u001b[0m_substitution_checks\u001b[0m\u001b[0;34m(\u001b[0m\u001b[0mdag\u001b[0m\u001b[0;34m,\u001b[0m \u001b[0mrun\u001b[0m\u001b[0;34m,\u001b[0m \u001b[0mnew_circ\u001b[0m\u001b[0;34m,\u001b[0m \u001b[0mnew_basis\u001b[0m\u001b[0;34m)\u001b[0m\u001b[0;34m:\u001b[0m\u001b[0;34m\u001b[0m\u001b[0;34m\u001b[0m\u001b[0m\n",
            "\u001b[0;32m/usr/local/lib/python3.7/dist-packages/qiskit/transpiler/passes/optimization/optimize_1q_decomposition.py\u001b[0m in \u001b[0;36m_resynthesize_run\u001b[0;34m(self, run)\u001b[0m\n\u001b[1;32m     76\u001b[0m             \u001b[0moperator\u001b[0m \u001b[0;34m=\u001b[0m \u001b[0mgate\u001b[0m\u001b[0;34m.\u001b[0m\u001b[0mop\u001b[0m\u001b[0;34m.\u001b[0m\u001b[0mto_matrix\u001b[0m\u001b[0;34m(\u001b[0m\u001b[0;34m)\u001b[0m\u001b[0;34m.\u001b[0m\u001b[0mdot\u001b[0m\u001b[0;34m(\u001b[0m\u001b[0moperator\u001b[0m\u001b[0;34m)\u001b[0m\u001b[0;34m\u001b[0m\u001b[0;34m\u001b[0m\u001b[0m\n\u001b[1;32m     77\u001b[0m \u001b[0;34m\u001b[0m\u001b[0m\n\u001b[0;32m---> 78\u001b[0;31m         \u001b[0mnew_circs\u001b[0m \u001b[0;34m=\u001b[0m \u001b[0;34m{\u001b[0m\u001b[0mk\u001b[0m\u001b[0;34m:\u001b[0m \u001b[0mv\u001b[0m\u001b[0;34m.\u001b[0m\u001b[0m_decompose\u001b[0m\u001b[0;34m(\u001b[0m\u001b[0moperator\u001b[0m\u001b[0;34m)\u001b[0m \u001b[0;32mfor\u001b[0m \u001b[0mk\u001b[0m\u001b[0;34m,\u001b[0m \u001b[0mv\u001b[0m \u001b[0;32min\u001b[0m \u001b[0mself\u001b[0m\u001b[0;34m.\u001b[0m\u001b[0m_decomposers\u001b[0m\u001b[0;34m.\u001b[0m\u001b[0mitems\u001b[0m\u001b[0;34m(\u001b[0m\u001b[0;34m)\u001b[0m\u001b[0;34m}\u001b[0m\u001b[0;34m\u001b[0m\u001b[0;34m\u001b[0m\u001b[0m\n\u001b[0m\u001b[1;32m     79\u001b[0m \u001b[0;34m\u001b[0m\u001b[0m\n\u001b[1;32m     80\u001b[0m         \u001b[0mnew_basis\u001b[0m\u001b[0;34m,\u001b[0m \u001b[0mnew_circ\u001b[0m \u001b[0;34m=\u001b[0m \u001b[0;32mNone\u001b[0m\u001b[0;34m,\u001b[0m \u001b[0;32mNone\u001b[0m\u001b[0;34m\u001b[0m\u001b[0;34m\u001b[0m\u001b[0m\n",
            "\u001b[0;32m/usr/local/lib/python3.7/dist-packages/qiskit/transpiler/passes/optimization/optimize_1q_decomposition.py\u001b[0m in \u001b[0;36m<dictcomp>\u001b[0;34m(.0)\u001b[0m\n\u001b[1;32m     76\u001b[0m             \u001b[0moperator\u001b[0m \u001b[0;34m=\u001b[0m \u001b[0mgate\u001b[0m\u001b[0;34m.\u001b[0m\u001b[0mop\u001b[0m\u001b[0;34m.\u001b[0m\u001b[0mto_matrix\u001b[0m\u001b[0;34m(\u001b[0m\u001b[0;34m)\u001b[0m\u001b[0;34m.\u001b[0m\u001b[0mdot\u001b[0m\u001b[0;34m(\u001b[0m\u001b[0moperator\u001b[0m\u001b[0;34m)\u001b[0m\u001b[0;34m\u001b[0m\u001b[0;34m\u001b[0m\u001b[0m\n\u001b[1;32m     77\u001b[0m \u001b[0;34m\u001b[0m\u001b[0m\n\u001b[0;32m---> 78\u001b[0;31m         \u001b[0mnew_circs\u001b[0m \u001b[0;34m=\u001b[0m \u001b[0;34m{\u001b[0m\u001b[0mk\u001b[0m\u001b[0;34m:\u001b[0m \u001b[0mv\u001b[0m\u001b[0;34m.\u001b[0m\u001b[0m_decompose\u001b[0m\u001b[0;34m(\u001b[0m\u001b[0moperator\u001b[0m\u001b[0;34m)\u001b[0m \u001b[0;32mfor\u001b[0m \u001b[0mk\u001b[0m\u001b[0;34m,\u001b[0m \u001b[0mv\u001b[0m \u001b[0;32min\u001b[0m \u001b[0mself\u001b[0m\u001b[0;34m.\u001b[0m\u001b[0m_decomposers\u001b[0m\u001b[0;34m.\u001b[0m\u001b[0mitems\u001b[0m\u001b[0;34m(\u001b[0m\u001b[0;34m)\u001b[0m\u001b[0;34m}\u001b[0m\u001b[0;34m\u001b[0m\u001b[0;34m\u001b[0m\u001b[0m\n\u001b[0m\u001b[1;32m     79\u001b[0m \u001b[0;34m\u001b[0m\u001b[0m\n\u001b[1;32m     80\u001b[0m         \u001b[0mnew_basis\u001b[0m\u001b[0;34m,\u001b[0m \u001b[0mnew_circ\u001b[0m \u001b[0;34m=\u001b[0m \u001b[0;32mNone\u001b[0m\u001b[0;34m,\u001b[0m \u001b[0;32mNone\u001b[0m\u001b[0;34m\u001b[0m\u001b[0;34m\u001b[0m\u001b[0m\n",
            "\u001b[0;32m/usr/local/lib/python3.7/dist-packages/qiskit/quantum_info/synthesis/one_qubit_decompose.py\u001b[0m in \u001b[0;36m_decompose\u001b[0;34m(self, unitary, simplify, atol)\u001b[0m\n\u001b[1;32m    165\u001b[0m     \u001b[0;32mdef\u001b[0m \u001b[0m_decompose\u001b[0m\u001b[0;34m(\u001b[0m\u001b[0mself\u001b[0m\u001b[0;34m,\u001b[0m \u001b[0munitary\u001b[0m\u001b[0;34m,\u001b[0m \u001b[0msimplify\u001b[0m\u001b[0;34m=\u001b[0m\u001b[0;32mTrue\u001b[0m\u001b[0;34m,\u001b[0m \u001b[0matol\u001b[0m\u001b[0;34m=\u001b[0m\u001b[0mDEFAULT_ATOL\u001b[0m\u001b[0;34m)\u001b[0m\u001b[0;34m:\u001b[0m\u001b[0;34m\u001b[0m\u001b[0;34m\u001b[0m\u001b[0m\n\u001b[1;32m    166\u001b[0m         \u001b[0mtheta\u001b[0m\u001b[0;34m,\u001b[0m \u001b[0mphi\u001b[0m\u001b[0;34m,\u001b[0m \u001b[0mlam\u001b[0m\u001b[0;34m,\u001b[0m \u001b[0mphase\u001b[0m \u001b[0;34m=\u001b[0m \u001b[0mself\u001b[0m\u001b[0;34m.\u001b[0m\u001b[0m_params\u001b[0m\u001b[0;34m(\u001b[0m\u001b[0munitary\u001b[0m\u001b[0;34m)\u001b[0m\u001b[0;34m\u001b[0m\u001b[0;34m\u001b[0m\u001b[0m\n\u001b[0;32m--> 167\u001b[0;31m         \u001b[0mcircuit\u001b[0m \u001b[0;34m=\u001b[0m \u001b[0mself\u001b[0m\u001b[0;34m.\u001b[0m\u001b[0m_circuit\u001b[0m\u001b[0;34m(\u001b[0m\u001b[0mtheta\u001b[0m\u001b[0;34m,\u001b[0m \u001b[0mphi\u001b[0m\u001b[0;34m,\u001b[0m \u001b[0mlam\u001b[0m\u001b[0;34m,\u001b[0m \u001b[0mphase\u001b[0m\u001b[0;34m,\u001b[0m \u001b[0msimplify\u001b[0m\u001b[0;34m=\u001b[0m\u001b[0msimplify\u001b[0m\u001b[0;34m,\u001b[0m \u001b[0matol\u001b[0m\u001b[0;34m=\u001b[0m\u001b[0matol\u001b[0m\u001b[0;34m)\u001b[0m\u001b[0;34m\u001b[0m\u001b[0;34m\u001b[0m\u001b[0m\n\u001b[0m\u001b[1;32m    168\u001b[0m         \u001b[0;32mreturn\u001b[0m \u001b[0mcircuit\u001b[0m\u001b[0;34m\u001b[0m\u001b[0;34m\u001b[0m\u001b[0m\n\u001b[1;32m    169\u001b[0m \u001b[0;34m\u001b[0m\u001b[0m\n",
            "\u001b[0;32m/usr/local/lib/python3.7/dist-packages/qiskit/quantum_info/synthesis/one_qubit_decompose.py\u001b[0m in \u001b[0;36m_circuit_psx\u001b[0;34m(theta, phi, lam, phase, simplify, atol)\u001b[0m\n\u001b[1;32m    521\u001b[0m             \u001b[0mcircuit\u001b[0m\u001b[0;34m.\u001b[0m\u001b[0m_append\u001b[0m\u001b[0;34m(\u001b[0m\u001b[0mSXGate\u001b[0m\u001b[0;34m(\u001b[0m\u001b[0;34m)\u001b[0m\u001b[0;34m,\u001b[0m \u001b[0;34m[\u001b[0m\u001b[0mqr\u001b[0m\u001b[0;34m[\u001b[0m\u001b[0;36m0\u001b[0m\u001b[0;34m]\u001b[0m\u001b[0;34m]\u001b[0m\u001b[0;34m,\u001b[0m \u001b[0;34m[\u001b[0m\u001b[0;34m]\u001b[0m\u001b[0;34m)\u001b[0m\u001b[0;34m\u001b[0m\u001b[0;34m\u001b[0m\u001b[0m\n\u001b[1;32m    522\u001b[0m \u001b[0;34m\u001b[0m\u001b[0m\n\u001b[0;32m--> 523\u001b[0;31m         \u001b[0;32mreturn\u001b[0m \u001b[0mOneQubitEulerDecomposer\u001b[0m\u001b[0;34m.\u001b[0m\u001b[0m_circuit_psx_gen\u001b[0m\u001b[0;34m(\u001b[0m\u001b[0mtheta\u001b[0m\u001b[0;34m,\u001b[0m \u001b[0mphi\u001b[0m\u001b[0;34m,\u001b[0m \u001b[0mlam\u001b[0m\u001b[0;34m,\u001b[0m \u001b[0mphase\u001b[0m\u001b[0;34m,\u001b[0m \u001b[0matol\u001b[0m\u001b[0;34m,\u001b[0m \u001b[0mfnz\u001b[0m\u001b[0;34m,\u001b[0m \u001b[0mfnx\u001b[0m\u001b[0;34m)\u001b[0m\u001b[0;34m\u001b[0m\u001b[0;34m\u001b[0m\u001b[0m\n\u001b[0m\u001b[1;32m    524\u001b[0m \u001b[0;34m\u001b[0m\u001b[0m\n\u001b[1;32m    525\u001b[0m     \u001b[0;34m@\u001b[0m\u001b[0mstaticmethod\u001b[0m\u001b[0;34m\u001b[0m\u001b[0;34m\u001b[0m\u001b[0m\n",
            "\u001b[0;32m/usr/local/lib/python3.7/dist-packages/qiskit/quantum_info/synthesis/one_qubit_decompose.py\u001b[0m in \u001b[0;36m_circuit_psx_gen\u001b[0;34m(theta, phi, lam, phase, atol, pfun, xfun, xpifun)\u001b[0m\n\u001b[1;32m    473\u001b[0m         \"\"\"\n\u001b[1;32m    474\u001b[0m         \u001b[0mqr\u001b[0m \u001b[0;34m=\u001b[0m \u001b[0mQuantumRegister\u001b[0m\u001b[0;34m(\u001b[0m\u001b[0;36m1\u001b[0m\u001b[0;34m,\u001b[0m \u001b[0;34m\"qr\"\u001b[0m\u001b[0;34m)\u001b[0m\u001b[0;34m\u001b[0m\u001b[0;34m\u001b[0m\u001b[0m\n\u001b[0;32m--> 475\u001b[0;31m         \u001b[0mcircuit\u001b[0m \u001b[0;34m=\u001b[0m \u001b[0mQuantumCircuit\u001b[0m\u001b[0;34m(\u001b[0m\u001b[0mqr\u001b[0m\u001b[0;34m,\u001b[0m \u001b[0mglobal_phase\u001b[0m\u001b[0;34m=\u001b[0m\u001b[0mphase\u001b[0m\u001b[0;34m)\u001b[0m\u001b[0;34m\u001b[0m\u001b[0;34m\u001b[0m\u001b[0m\n\u001b[0m\u001b[1;32m    476\u001b[0m         \u001b[0;31m# Early return for zero SX decomposition\u001b[0m\u001b[0;34m\u001b[0m\u001b[0;34m\u001b[0m\u001b[0;34m\u001b[0m\u001b[0m\n\u001b[1;32m    477\u001b[0m         \u001b[0;32mif\u001b[0m \u001b[0mnp\u001b[0m\u001b[0;34m.\u001b[0m\u001b[0mabs\u001b[0m\u001b[0;34m(\u001b[0m\u001b[0mtheta\u001b[0m\u001b[0;34m)\u001b[0m \u001b[0;34m<\u001b[0m \u001b[0matol\u001b[0m\u001b[0;34m:\u001b[0m\u001b[0;34m\u001b[0m\u001b[0;34m\u001b[0m\u001b[0m\n",
            "\u001b[0;32m/usr/local/lib/python3.7/dist-packages/qiskit/circuit/quantumcircuit.py\u001b[0m in \u001b[0;36m__init__\u001b[0;34m(self, name, global_phase, metadata, *regs)\u001b[0m\n\u001b[1;32m    230\u001b[0m         \u001b[0;32mif\u001b[0m \u001b[0mname\u001b[0m \u001b[0;32mis\u001b[0m \u001b[0;32mNone\u001b[0m\u001b[0;34m:\u001b[0m\u001b[0;34m\u001b[0m\u001b[0;34m\u001b[0m\u001b[0m\n\u001b[1;32m    231\u001b[0m             \u001b[0mself\u001b[0m\u001b[0;34m.\u001b[0m\u001b[0m_base_name\u001b[0m \u001b[0;34m=\u001b[0m \u001b[0mself\u001b[0m\u001b[0;34m.\u001b[0m\u001b[0mcls_prefix\u001b[0m\u001b[0;34m(\u001b[0m\u001b[0;34m)\u001b[0m\u001b[0;34m\u001b[0m\u001b[0;34m\u001b[0m\u001b[0m\n\u001b[0;32m--> 232\u001b[0;31m             \u001b[0mself\u001b[0m\u001b[0;34m.\u001b[0m\u001b[0m_name_update\u001b[0m\u001b[0;34m(\u001b[0m\u001b[0;34m)\u001b[0m\u001b[0;34m\u001b[0m\u001b[0;34m\u001b[0m\u001b[0m\n\u001b[0m\u001b[1;32m    233\u001b[0m         \u001b[0;32melif\u001b[0m \u001b[0;32mnot\u001b[0m \u001b[0misinstance\u001b[0m\u001b[0;34m(\u001b[0m\u001b[0mname\u001b[0m\u001b[0;34m,\u001b[0m \u001b[0mstr\u001b[0m\u001b[0;34m)\u001b[0m\u001b[0;34m:\u001b[0m\u001b[0;34m\u001b[0m\u001b[0;34m\u001b[0m\u001b[0m\n\u001b[1;32m    234\u001b[0m             raise CircuitError(\n",
            "\u001b[0;32m/usr/local/lib/python3.7/dist-packages/qiskit/circuit/quantumcircuit.py\u001b[0m in \u001b[0;36m_name_update\u001b[0;34m(self)\u001b[0m\n\u001b[1;32m    432\u001b[0m             \u001b[0mpid_name\u001b[0m \u001b[0;34m=\u001b[0m \u001b[0;34m\"\"\u001b[0m\u001b[0;34m\u001b[0m\u001b[0;34m\u001b[0m\u001b[0m\n\u001b[1;32m    433\u001b[0m \u001b[0;34m\u001b[0m\u001b[0m\n\u001b[0;32m--> 434\u001b[0;31m         \u001b[0mself\u001b[0m\u001b[0;34m.\u001b[0m\u001b[0mname\u001b[0m \u001b[0;34m=\u001b[0m \u001b[0;34mf\"{self._base_name}-{self.cls_instances()}{pid_name}\"\u001b[0m\u001b[0;34m\u001b[0m\u001b[0;34m\u001b[0m\u001b[0m\n\u001b[0m\u001b[1;32m    435\u001b[0m \u001b[0;34m\u001b[0m\u001b[0m\n\u001b[1;32m    436\u001b[0m     \u001b[0;32mdef\u001b[0m \u001b[0mhas_register\u001b[0m\u001b[0;34m(\u001b[0m\u001b[0mself\u001b[0m\u001b[0;34m,\u001b[0m \u001b[0mregister\u001b[0m\u001b[0;34m:\u001b[0m \u001b[0mRegister\u001b[0m\u001b[0;34m)\u001b[0m \u001b[0;34m->\u001b[0m \u001b[0mbool\u001b[0m\u001b[0;34m:\u001b[0m\u001b[0;34m\u001b[0m\u001b[0;34m\u001b[0m\u001b[0m\n",
            "\u001b[0;31mKeyboardInterrupt\u001b[0m: "
          ]
        }
      ],
      "source": [
        "# symmetric uniform transition matrix for uniform transition rule: tho tbh I dont need it\n",
        "num_spins=n_spins#4\n",
        "num_elems=2**(num_spins)\n",
        "# transit_mat=np.ones((num_elems,num_elems))*(1./(2*num_elems))# in general case transit matrix could be entirely different\n",
        "# np.fill_diagonal(transit_mat, 1./2)\n",
        "\n",
        "dict_quant_seperate_chains_states_distn_mcmc={}\n",
        "dict_quant_seperate_chains_sprime_mcmc={}\n",
        "dict_quant_seperate_chains_accepted_mcmc={}\n",
        "dict_quant_seperate_chains_counts_based_on_hamming_dist={}\n",
        "dict_quant_seperate_chains_energy_diff_s_and_sprime={}# for plotting histogram\n",
        "num_seperate_mcmc_chains=1\n",
        "\n",
        "# Run MCMC with Quantum evolution based transition strategy\n",
        "N_hops=1200\n",
        "\n",
        "for chain_num in tqdm(range(0,num_seperate_mcmc_chains)):\n",
        "    dict_states_quantum_mcmc, quant_mcmc_after_trsn, quant_mcmc_after_accept =quantum_enhanced_mcmc(N_hops,num_spins,\n",
        "                                                                                                    num_elems, model, \n",
        "                                                                                                    alpha,return_last_n_states=N_hops-20,\n",
        "                                                                                                    return_both_classical_and_quantum_steps=True, temp=temp)\n",
        "    \n",
        "    dict_states_quantum_mcmc_sorted_desc=value_sorted_dict(dict_states_quantum_mcmc, reverse=True)\n",
        "\n",
        "    dict_quant_seperate_chains_states_distn_mcmc[chain_num]=dict_states_quantum_mcmc_sorted_desc\n",
        "    dict_quant_seperate_chains_sprime_mcmc[chain_num]=quant_mcmc_after_trsn\n",
        "    dict_quant_seperate_chains_accepted_mcmc[chain_num]=quant_mcmc_after_accept\n",
        "    dict_quant_seperate_chains_energy_diff_s_and_sprime[chain_num]=energy_difference_related_counts(num_spins, quant_mcmc_after_trsn, quant_mcmc_after_accept, model_in=model)\n",
        "    dict_quant_seperate_chains_counts_based_on_hamming_dist[chain_num]=hamming_dist_related_counts(num_spins, quant_mcmc_after_trsn, quant_mcmc_after_accept)"
      ]
    },
    {
      "cell_type": "code",
      "source": [
        "dict_quant_seperate_chains_counts_based_on_hamming_dist, dict_seperate_chains_counts_based_on_hamming_dist"
      ],
      "metadata": {
        "colab": {
          "base_uri": "https://localhost:8080/"
        },
        "id": "yjWeGQoamdB7",
        "outputId": "7bf9ad7d-70ad-40be-f5bf-c9ae019e4501"
      },
      "execution_count": 40,
      "outputs": [
        {
          "output_type": "execute_result",
          "data": {
            "text/plain": [
              "({0: {0: 416, 1: 258, 2: 330, 3: 131, 4: 64}},\n",
              " {0: {0: 80, 1: 291, 2: 474, 3: 296, 4: 58}})"
            ]
          },
          "metadata": {},
          "execution_count": 40
        }
      ]
    },
    {
      "cell_type": "code",
      "source": [
        "### data for plotting running average magnetization 5 cases seperately:\n",
        "first_few=900\n",
        "#cl_running_avg_magzn=[running_avg_magnetization(list_states_mcmc=dict_seperate_chains_accepted_mcmc[m][:first_few+1]) for m in range(0,num_seperate_mcmc_chains)]\n",
        "dict_for_df_running_avg_seperate_quant_mcmc={}\n",
        "for m in range(0, num_seperate_mcmc_chains):\n",
        "  dict_for_df_running_avg_seperate_quant_mcmc[m]=list(running_avg_magnetization(list_states_mcmc=dict_quant_seperate_chains_accepted_mcmc[m][:first_few+1]).values())\n",
        "\n",
        "running_avg_df=pd.DataFrame(dict_for_df_running_avg_seperate_quant_mcmc)\n",
        "mean_magnetization_quant=running_avg_df.mean(axis=1)# mean taken over all seperate mcmc chains"
      ],
      "metadata": {
        "colab": {
          "base_uri": "https://localhost:8080/"
        },
        "id": "DFi3LcvJYaHM",
        "outputId": "6565b4a6-30d2-49f1-a662-24d64a2259c5"
      },
      "execution_count": 41,
      "outputs": [
        {
          "output_type": "stream",
          "name": "stderr",
          "text": [
            "100%|██████████| 900/900 [00:01<00:00, 569.12it/s]\n"
          ]
        }
      ]
    },
    {
      "cell_type": "code",
      "source": [
        "plt.figure(figsize=(10,7))\n",
        "magnetization_of_all_states=dict_magnetization_of_all_states(states_nbit)\n",
        "actual_avg_mag=avg(dict_probabilities=boltz_prob_distn, dict_observable_val_at_states=magnetization_of_all_states)\n",
        "print(\"actual_avg_mag: \",actual_avg_mag)\n",
        "plt.plot(mean_magnetization,\":\" ,label=\"Cl mcmc\")\n",
        "plt.plot(mean_magnetization_quant,\":\" ,label=\"Quant mcmc\")\n",
        "plt.axhline(y=actual_avg_mag,linestyle=\"-\", color=\"k\" ,label=\"Actual\")\n",
        "plt.legend()\n",
        "plt.title(\"Running average magnetization\")"
      ],
      "metadata": {
        "colab": {
          "base_uri": "https://localhost:8080/",
          "height": 480
        },
        "id": "B1yirEX4XzeK",
        "outputId": "07802b08-c2ed-4d42-9409-022b873bfea7"
      },
      "execution_count": 42,
      "outputs": [
        {
          "output_type": "stream",
          "name": "stdout",
          "text": [
            "actual_avg_mag:  -0.1542769757541101\n"
          ]
        },
        {
          "output_type": "execute_result",
          "data": {
            "text/plain": [
              "Text(0.5, 1.0, 'Running average magnetization')"
            ]
          },
          "metadata": {},
          "execution_count": 42
        },
        {
          "output_type": "display_data",
          "data": {
            "text/plain": [
              "<Figure size 720x504 with 1 Axes>"
            ],
            "image/png": "[encoded data removed]"
          },
          "metadata": {
            "needs_background": "light"
          }
        }
      ]
    },
    {
      "cell_type": "code",
      "source": [
        "for i in range(0,num_seperate_mcmc_chains):\n",
        "  mcmc_chain_num=i\n",
        "  plt.figure()\n",
        "  plt.hist(dict_quant_seperate_chains_energy_diff_s_and_sprime[mcmc_chain_num])"
      ],
      "metadata": {
        "colab": {
          "base_uri": "https://localhost:8080/",
          "height": 265
        },
        "id": "LliStQpShPP5",
        "outputId": "752b5e5c-c5df-4f7e-bd34-549d8f840c84"
      },
      "execution_count": 43,
      "outputs": [
        {
          "output_type": "display_data",
          "data": {
            "text/plain": [
              "<Figure size 432x288 with 1 Axes>"
            ],
            "image/png": "[encoded data removed]"
          },
          "metadata": {
            "needs_background": "light"
          }
        }
      ]
    },
    {
      "cell_type": "code",
      "source": [
        "### save data\n",
        "## quantum\n",
        "import numpy as np\n",
        "\n",
        "# Save\n",
        "np.save(\"j.npy\", J)\n",
        "np.save(\"h.npy\",h)\n",
        "np.save(\"dict_quant_seperate_chains_sprime_mcmc.npy\",dict_quant_seperate_chains_sprime_mcmc)\n",
        "np.save(\"dict_quant_seperate_chains_states_distn_mcmc.npy\",dict_quant_seperate_chains_states_distn_mcmc)\n",
        "np.save(\"dict_quant_seperate_chains_accepted_mcmc.npy\",dict_quant_seperate_chains_accepted_mcmc)\n",
        "np.save(\"dict_quant_seperate_chains_energy_diff_s_and_sprime.npy\",dict_quant_seperate_chains_energy_diff_s_and_sprime)\n",
        "np.save(\"dict_quant_seperate_chains_counts_based_on_hamming_dist.npy\",dict_quant_seperate_chains_counts_based_on_hamming_dist)\n",
        "\n",
        "# Load\n",
        "# read_dictionary = np.load('my_file.npy',allow_pickle='TRUE').item()\n",
        "# print(read_dictionary['hello']) # displays \"world\""
      ],
      "metadata": {
        "id": "ue1wcPWCoI4G"
      },
      "execution_count": null,
      "outputs": []
    },
    {
      "cell_type": "markdown",
      "source": [
        "# Everything below is not relevant"
      ],
      "metadata": {
        "id": "DJLlCXwQhoxF"
      }
    },
    {
      "cell_type": "markdown",
      "metadata": {
        "id": "yiwCStvOGip-"
      },
      "source": [
        "### comparing number of accepted/rejected samples"
      ]
    },
    {
      "cell_type": "code",
      "execution_count": null,
      "metadata": {
        "id": "SMtohT9qG_TX"
      },
      "outputs": [],
      "source": [
        "# plt.figure(figsize=(20,7))\n",
        "# plt.plot(cl_mcmc_after_trsn, label=\"Classical Uniform\")\n",
        "# plt.plot(quant_mcmc_after_trsn, label=\"Quantum\")\n",
        "# plt.xlabel(\"MCMC iterations\")\n",
        "# plt.title(\"after transition\")\n",
        "plt.figure(figsize=(10,10))\n",
        "#quant_mcmc_after_trsn, quant_mcmc_after_accept\n",
        "plt.plot(cl_mcmc_after_accept, label=\"Classical Uniform\")\n",
        "plt.plot(quant_mcmc_after_accept,label=\"Quantum\")\n",
        "plt.xlabel(\"MCMC iterations\")\n",
        "plt.title(\"State accepted in i'th iteration\")\n",
        "plt.legend()"
      ]
    },
    {
      "cell_type": "markdown",
      "metadata": {
        "id": "7fkk5Z-9PAYb"
      },
      "source": [
        "Next task:\n",
        "For different problem instances, do the following:\n",
        "\n",
        "1. Running average: magnetization. **(DONE)**\n",
        "\n",
        "2.  For first few relevant states (high probability), check how many times were those states accepted/rejected out of total number of iterations considered for the prob distn. **(CODE IS COMPLETE, NOW WE NEED TO RUN SOME EXPERIEMENTS)**\n",
        "\n",
        "3. Overlap with the desired distribution.\n"
      ]
    },
    {
      "cell_type": "markdown",
      "metadata": {
        "id": "CKgLUKukDne0"
      },
      "source": [
        "## Running average; magnetization"
      ]
    },
    {
      "cell_type": "code",
      "execution_count": null,
      "metadata": {
        "colab": {
          "base_uri": "https://localhost:8080/"
        },
        "id": "atvmYeWL0hvO",
        "outputId": "33f110b2-d51c-40e7-9a5a-173191095d4f"
      },
      "outputs": [
        {
          "name": "stderr",
          "output_type": "stream",
          "text": [
            "100%|██████████| 599/599 [00:00<00:00, 843.07it/s]\n",
            "100%|██████████| 599/599 [00:00<00:00, 811.41it/s]\n"
          ]
        }
      ],
      "source": [
        "check_cl=running_avg_magnetization(list_states_mcmc=cl_mcmc_after_accept)\n",
        "check_quant=running_avg_magnetization(list_states_mcmc=quant_mcmc_after_accept)"
      ]
    },
    {
      "cell_type": "code",
      "execution_count": null,
      "metadata": {
        "colab": {
          "base_uri": "https://localhost:8080/",
          "height": 460
        },
        "id": "ynfCYeiS50wQ",
        "outputId": "e7d5e285-be38-440e-fed3-f35d6c8d6253"
      },
      "outputs": [
        {
          "data": {
            "text/plain": [
              "<matplotlib.legend.Legend at 0x7f308a901990>"
            ]
          },
          "execution_count": 24,
          "metadata": {},
          "output_type": "execute_result"
        },
        {
          "data": {
            "image/png": "[encoded data removed]",
            "text/plain": [
              "<Figure size 1440x504 with 1 Axes>"
            ]
          },
          "metadata": {
            "needs_background": "light"
          },
          "output_type": "display_data"
        }
      ],
      "source": [
        "plt.figure(figsize=(20,7))\n",
        "magnetization_of_all_states=dict_magnetization_of_all_states(states_nbit)\n",
        "actual_avg_mag=avg(dict_probabilities=boltz_prob_distn, dict_observable_val_at_states=magnetization_of_all_states)\n",
        "plt.axhline(y=actual_avg_mag,linestyle=\":\", color=\"k\" ,label=\"Actual\")\n",
        "plot_dict_of_running_avg_observable(check_cl, \"Cl MCMC- Uniform\")\n",
        "plot_dict_of_running_avg_observable(check_quant, \"Quantum\")\n",
        "plt.legend()"
      ]
    },
    {
      "cell_type": "markdown",
      "metadata": {
        "id": "sL_7qZNIEDeO"
      },
      "source": [
        "## Sampling related"
      ]
    },
    {
      "cell_type": "code",
      "execution_count": null,
      "metadata": {
        "id": "s2_o7fwB6-Fy"
      },
      "outputs": [],
      "source": [
        "# cl_mcmc_after_trsn, cl_mcmc_after_accept\n",
        "# quant_mcmc_after_trsn, quant_mcmc_after_accept \n",
        "aa,bb=fn_states_not_accepted(list_states=states_nbit, list_after_trsn=cl_mcmc_after_trsn, list_after_accept=cl_mcmc_after_accept)\n",
        "print(aa); print(bb)\n",
        "# fn_numtimes_bitstring_not_accepted(list_after_trsn=cl_mcmc_after_trsn, list_after_accept=cl_mcmc_after_accept,bitstring='0000')"
      ]
    },
    {
      "cell_type": "code",
      "execution_count": null,
      "metadata": {
        "id": "qP7XoMFnUgdr"
      },
      "outputs": [],
      "source": []
    },
    {
      "cell_type": "code",
      "execution_count": null,
      "metadata": {
        "id": "XTgDq37vKC61"
      },
      "outputs": [],
      "source": []
    }
  ],
  "metadata": {
    "colab": {
      "provenance": [],
      "include_colab_link": true
    },
    "kernelspec": {
      "display_name": "Python 3.8.8 ('base')",
      "language": "python",
      "name": "python3"
    },
    "language_info": {
      "codemirror_mode": {
        "name": "ipython",
        "version": 3
      },
      "file_extension": ".py",
      "mimetype": "text/x-python",
      "name": "python",
      "nbconvert_exporter": "python",
      "pygments_lexer": "ipython3",
      "version": "3.8.8"
    },
    "orig_nbformat": 4,
    "vscode": {
      "interpreter": {
        "hash": "184a4bfd18ed123440bfad7023e607e274d9f6c0bdada601c853a4367aa45839"
      }
    }
  },
  "nbformat": 4,
  "nbformat_minor": 0
}