{
  "cells": [
    {
      "cell_type": "markdown",
      "metadata": {
        "id": "view-in-github",
        "colab_type": "text"
      },
      "source": [
        "<a href=\"https://colab.research.google.com/github/neelkanthrawat/QBM_sept2022/blob/main/qbm_codes/qmcmc_trial_v0.2.ipynb\" target=\"_parent\"><img src=\"https://colab.research.google.com/assets/colab-badge.svg\" alt=\"Open In Colab\"/></a>"
      ]
    },
    {
      "cell_type": "code",
      "execution_count": 1,
      "metadata": {
        "id": "8j8VtbXvAq1r"
      },
      "outputs": [],
      "source": [
        "import numpy as np\n",
        "import matplotlib.pyplot as plt\n",
        "import pandas as pd\n",
        "from tqdm import tqdm\n",
        "from collections import Counter"
      ]
    },
    {
      "cell_type": "code",
      "source": [
        "!pip install qiskit ipywidgets # while working on google colab!"
      ],
      "metadata": {
        "id": "0Hz-A7mtA9Vi",
        "colab": {
          "base_uri": "https://localhost:8080/"
        },
        "outputId": "c0c218e6-7481-4fcd-e5f3-df851a5a426d"
      },
      "execution_count": 2,
      "outputs": [
        {
          "output_type": "stream",
          "name": "stdout",
          "text": [
            "Looking in indexes: https://pypi.org/simple, https://us-python.pkg.dev/colab-wheels/public/simple/\n",
            "Collecting qiskit\n",
            "  Downloading qiskit-0.38.0.tar.gz (13 kB)\n",
            "Requirement already satisfied: ipywidgets in /usr/local/lib/python3.7/dist-packages (7.7.1)\n",
            "Collecting qiskit-terra==0.21.2\n",
            "  Downloading qiskit_terra-0.21.2-cp37-cp37m-manylinux_2_17_x86_64.manylinux2014_x86_64.whl (6.7 MB)\n",
            "\u001b[K     |████████████████████████████████| 6.7 MB 4.7 MB/s \n",
            "\u001b[?25hCollecting qiskit-aer==0.11.0\n",
            "  Downloading qiskit_aer-0.11.0-cp37-cp37m-manylinux_2_17_x86_64.manylinux2014_x86_64.whl (19.2 MB)\n",
            "\u001b[K     |████████████████████████████████| 19.2 MB 1.3 MB/s \n",
            "\u001b[?25hCollecting qiskit-ibmq-provider==0.19.2\n",
            "  Downloading qiskit_ibmq_provider-0.19.2-py3-none-any.whl (240 kB)\n",
            "\u001b[K     |████████████████████████████████| 240 kB 36.7 MB/s \n",
            "\u001b[?25hRequirement already satisfied: scipy>=1.0 in /usr/local/lib/python3.7/dist-packages (from qiskit-aer==0.11.0->qiskit) (1.7.3)\n",
            "Requirement already satisfied: numpy>=1.16.3 in /usr/local/lib/python3.7/dist-packages (from qiskit-aer==0.11.0->qiskit) (1.21.6)\n",
            "Collecting websocket-client>=1.0.1\n",
            "  Downloading websocket_client-1.4.1-py3-none-any.whl (55 kB)\n",
            "\u001b[K     |████████████████████████████████| 55 kB 2.9 MB/s \n",
            "\u001b[?25hCollecting websockets>=10.0\n",
            "  Downloading websockets-10.3-cp37-cp37m-manylinux_2_5_x86_64.manylinux1_x86_64.manylinux_2_12_x86_64.manylinux2010_x86_64.whl (112 kB)\n",
            "\u001b[K     |████████████████████████████████| 112 kB 26.9 MB/s \n",
            "\u001b[?25hRequirement already satisfied: requests>=2.19 in /usr/local/lib/python3.7/dist-packages (from qiskit-ibmq-provider==0.19.2->qiskit) (2.23.0)\n",
            "Requirement already satisfied: urllib3>=1.21.1 in /usr/local/lib/python3.7/dist-packages (from qiskit-ibmq-provider==0.19.2->qiskit) (1.24.3)\n",
            "Collecting requests-ntlm>=1.1.0\n",
            "  Downloading requests_ntlm-1.1.0-py2.py3-none-any.whl (5.7 kB)\n",
            "Requirement already satisfied: python-dateutil>=2.8.0 in /usr/local/lib/python3.7/dist-packages (from qiskit-ibmq-provider==0.19.2->qiskit) (2.8.2)\n",
            "Requirement already satisfied: sympy>=1.3 in /usr/local/lib/python3.7/dist-packages (from qiskit-terra==0.21.2->qiskit) (1.7.1)\n",
            "Requirement already satisfied: psutil>=5 in /usr/local/lib/python3.7/dist-packages (from qiskit-terra==0.21.2->qiskit) (5.4.8)\n",
            "Requirement already satisfied: dill>=0.3 in /usr/local/lib/python3.7/dist-packages (from qiskit-terra==0.21.2->qiskit) (0.3.5.1)\n",
            "Collecting shared-memory38\n",
            "  Downloading shared_memory38-0.1.2-cp37-cp37m-manylinux_2_5_x86_64.manylinux1_x86_64.whl (25 kB)\n",
            "Collecting ply>=3.10\n",
            "  Downloading ply-3.11-py2.py3-none-any.whl (49 kB)\n",
            "\u001b[K     |████████████████████████████████| 49 kB 5.2 MB/s \n",
            "\u001b[?25hRequirement already satisfied: typing-extensions in /usr/local/lib/python3.7/dist-packages (from qiskit-terra==0.21.2->qiskit) (4.1.1)\n",
            "Collecting retworkx>=0.11.0\n",
            "  Downloading retworkx-0.11.0-cp37-cp37m-manylinux_2_5_x86_64.manylinux1_x86_64.manylinux_2_12_x86_64.manylinux2010_x86_64.whl (1.6 MB)\n",
            "\u001b[K     |████████████████████████████████| 1.6 MB 46.6 MB/s \n",
            "\u001b[?25hCollecting tweedledum<2.0,>=1.1\n",
            "  Downloading tweedledum-1.1.1-cp37-cp37m-manylinux_2_12_x86_64.manylinux2010_x86_64.whl (943 kB)\n",
            "\u001b[K     |████████████████████████████████| 943 kB 54.0 MB/s \n",
            "\u001b[?25hCollecting symengine>=0.9\n",
            "  Downloading symengine-0.9.2-cp37-cp37m-manylinux2010_x86_64.whl (37.5 MB)\n",
            "\u001b[K     |████████████████████████████████| 37.5 MB 48 kB/s \n",
            "\u001b[?25hCollecting stevedore>=3.0.0\n",
            "  Downloading stevedore-3.5.0-py3-none-any.whl (49 kB)\n",
            "\u001b[K     |████████████████████████████████| 49 kB 5.7 MB/s \n",
            "\u001b[?25hRequirement already satisfied: six>=1.5 in /usr/local/lib/python3.7/dist-packages (from python-dateutil>=2.8.0->qiskit-ibmq-provider==0.19.2->qiskit) (1.15.0)\n",
            "Requirement already satisfied: certifi>=2017.4.17 in /usr/local/lib/python3.7/dist-packages (from requests>=2.19->qiskit-ibmq-provider==0.19.2->qiskit) (2022.6.15)\n",
            "Requirement already satisfied: chardet<4,>=3.0.2 in /usr/local/lib/python3.7/dist-packages (from requests>=2.19->qiskit-ibmq-provider==0.19.2->qiskit) (3.0.4)\n",
            "Requirement already satisfied: idna<3,>=2.5 in /usr/local/lib/python3.7/dist-packages (from requests>=2.19->qiskit-ibmq-provider==0.19.2->qiskit) (2.10)\n",
            "Collecting ntlm-auth>=1.0.2\n",
            "  Downloading ntlm_auth-1.5.0-py2.py3-none-any.whl (29 kB)\n",
            "Collecting cryptography>=1.3\n",
            "  Downloading cryptography-38.0.1-cp36-abi3-manylinux_2_24_x86_64.whl (4.0 MB)\n",
            "\u001b[K     |████████████████████████████████| 4.0 MB 41.8 MB/s \n",
            "\u001b[?25hRequirement already satisfied: cffi>=1.12 in /usr/local/lib/python3.7/dist-packages (from cryptography>=1.3->requests-ntlm>=1.1.0->qiskit-ibmq-provider==0.19.2->qiskit) (1.15.1)\n",
            "Requirement already satisfied: pycparser in /usr/local/lib/python3.7/dist-packages (from cffi>=1.12->cryptography>=1.3->requests-ntlm>=1.1.0->qiskit-ibmq-provider==0.19.2->qiskit) (2.21)\n",
            "Collecting pbr!=2.1.0,>=2.0.0\n",
            "  Downloading pbr-5.10.0-py2.py3-none-any.whl (112 kB)\n",
            "\u001b[K     |████████████████████████████████| 112 kB 57.6 MB/s \n",
            "\u001b[?25hRequirement already satisfied: importlib-metadata>=1.7.0 in /usr/local/lib/python3.7/dist-packages (from stevedore>=3.0.0->qiskit-terra==0.21.2->qiskit) (4.12.0)\n",
            "Requirement already satisfied: zipp>=0.5 in /usr/local/lib/python3.7/dist-packages (from importlib-metadata>=1.7.0->stevedore>=3.0.0->qiskit-terra==0.21.2->qiskit) (3.8.1)\n",
            "Requirement already satisfied: mpmath>=0.19 in /usr/local/lib/python3.7/dist-packages (from sympy>=1.3->qiskit-terra==0.21.2->qiskit) (1.2.1)\n",
            "Requirement already satisfied: ipython-genutils~=0.2.0 in /usr/local/lib/python3.7/dist-packages (from ipywidgets) (0.2.0)\n",
            "Requirement already satisfied: traitlets>=4.3.1 in /usr/local/lib/python3.7/dist-packages (from ipywidgets) (5.1.1)\n",
            "Requirement already satisfied: jupyterlab-widgets>=1.0.0 in /usr/local/lib/python3.7/dist-packages (from ipywidgets) (3.0.3)\n",
            "Requirement already satisfied: ipykernel>=4.5.1 in /usr/local/lib/python3.7/dist-packages (from ipywidgets) (5.3.4)\n",
            "Requirement already satisfied: ipython>=4.0.0 in /usr/local/lib/python3.7/dist-packages (from ipywidgets) (7.9.0)\n",
            "Requirement already satisfied: widgetsnbextension~=3.6.0 in /usr/local/lib/python3.7/dist-packages (from ipywidgets) (3.6.1)\n",
            "Requirement already satisfied: tornado>=4.2 in /usr/local/lib/python3.7/dist-packages (from ipykernel>=4.5.1->ipywidgets) (5.1.1)\n",
            "Requirement already satisfied: jupyter-client in /usr/local/lib/python3.7/dist-packages (from ipykernel>=4.5.1->ipywidgets) (6.1.12)\n",
            "Requirement already satisfied: setuptools>=18.5 in /usr/local/lib/python3.7/dist-packages (from ipython>=4.0.0->ipywidgets) (57.4.0)\n",
            "Requirement already satisfied: pygments in /usr/local/lib/python3.7/dist-packages (from ipython>=4.0.0->ipywidgets) (2.6.1)\n",
            "Requirement already satisfied: backcall in /usr/local/lib/python3.7/dist-packages (from ipython>=4.0.0->ipywidgets) (0.2.0)\n",
            "Requirement already satisfied: prompt-toolkit<2.1.0,>=2.0.0 in /usr/local/lib/python3.7/dist-packages (from ipython>=4.0.0->ipywidgets) (2.0.10)\n",
            "Requirement already satisfied: pexpect in /usr/local/lib/python3.7/dist-packages (from ipython>=4.0.0->ipywidgets) (4.8.0)\n",
            "Requirement already satisfied: decorator in /usr/local/lib/python3.7/dist-packages (from ipython>=4.0.0->ipywidgets) (4.4.2)\n",
            "Collecting jedi>=0.10\n",
            "  Downloading jedi-0.18.1-py2.py3-none-any.whl (1.6 MB)\n",
            "\u001b[K     |████████████████████████████████| 1.6 MB 50.3 MB/s \n",
            "\u001b[?25hRequirement already satisfied: pickleshare in /usr/local/lib/python3.7/dist-packages (from ipython>=4.0.0->ipywidgets) (0.7.5)\n",
            "Requirement already satisfied: parso<0.9.0,>=0.8.0 in /usr/local/lib/python3.7/dist-packages (from jedi>=0.10->ipython>=4.0.0->ipywidgets) (0.8.3)\n",
            "Requirement already satisfied: wcwidth in /usr/local/lib/python3.7/dist-packages (from prompt-toolkit<2.1.0,>=2.0.0->ipython>=4.0.0->ipywidgets) (0.2.5)\n",
            "Requirement already satisfied: notebook>=4.4.1 in /usr/local/lib/python3.7/dist-packages (from widgetsnbextension~=3.6.0->ipywidgets) (5.3.1)\n",
            "Requirement already satisfied: nbconvert in /usr/local/lib/python3.7/dist-packages (from notebook>=4.4.1->widgetsnbextension~=3.6.0->ipywidgets) (5.6.1)\n",
            "Requirement already satisfied: terminado>=0.8.1 in /usr/local/lib/python3.7/dist-packages (from notebook>=4.4.1->widgetsnbextension~=3.6.0->ipywidgets) (0.13.3)\n",
            "Requirement already satisfied: nbformat in /usr/local/lib/python3.7/dist-packages (from notebook>=4.4.1->widgetsnbextension~=3.6.0->ipywidgets) (5.4.0)\n",
            "Requirement already satisfied: Send2Trash in /usr/local/lib/python3.7/dist-packages (from notebook>=4.4.1->widgetsnbextension~=3.6.0->ipywidgets) (1.8.0)\n",
            "Requirement already satisfied: jinja2 in /usr/local/lib/python3.7/dist-packages (from notebook>=4.4.1->widgetsnbextension~=3.6.0->ipywidgets) (2.11.3)\n",
            "Requirement already satisfied: jupyter-core>=4.4.0 in /usr/local/lib/python3.7/dist-packages (from notebook>=4.4.1->widgetsnbextension~=3.6.0->ipywidgets) (4.11.1)\n",
            "Requirement already satisfied: pyzmq>=13 in /usr/local/lib/python3.7/dist-packages (from jupyter-client->ipykernel>=4.5.1->ipywidgets) (23.2.1)\n",
            "Requirement already satisfied: ptyprocess in /usr/local/lib/python3.7/dist-packages (from terminado>=0.8.1->notebook>=4.4.1->widgetsnbextension~=3.6.0->ipywidgets) (0.7.0)\n",
            "Requirement already satisfied: MarkupSafe>=0.23 in /usr/local/lib/python3.7/dist-packages (from jinja2->notebook>=4.4.1->widgetsnbextension~=3.6.0->ipywidgets) (2.0.1)\n",
            "Requirement already satisfied: defusedxml in /usr/local/lib/python3.7/dist-packages (from nbconvert->notebook>=4.4.1->widgetsnbextension~=3.6.0->ipywidgets) (0.7.1)\n",
            "Requirement already satisfied: entrypoints>=0.2.2 in /usr/local/lib/python3.7/dist-packages (from nbconvert->notebook>=4.4.1->widgetsnbextension~=3.6.0->ipywidgets) (0.4)\n",
            "Requirement already satisfied: pandocfilters>=1.4.1 in /usr/local/lib/python3.7/dist-packages (from nbconvert->notebook>=4.4.1->widgetsnbextension~=3.6.0->ipywidgets) (1.5.0)\n",
            "Requirement already satisfied: testpath in /usr/local/lib/python3.7/dist-packages (from nbconvert->notebook>=4.4.1->widgetsnbextension~=3.6.0->ipywidgets) (0.6.0)\n",
            "Requirement already satisfied: mistune<2,>=0.8.1 in /usr/local/lib/python3.7/dist-packages (from nbconvert->notebook>=4.4.1->widgetsnbextension~=3.6.0->ipywidgets) (0.8.4)\n",
            "Requirement already satisfied: bleach in /usr/local/lib/python3.7/dist-packages (from nbconvert->notebook>=4.4.1->widgetsnbextension~=3.6.0->ipywidgets) (5.0.1)\n",
            "Requirement already satisfied: jsonschema>=2.6 in /usr/local/lib/python3.7/dist-packages (from nbformat->notebook>=4.4.1->widgetsnbextension~=3.6.0->ipywidgets) (4.3.3)\n",
            "Requirement already satisfied: fastjsonschema in /usr/local/lib/python3.7/dist-packages (from nbformat->notebook>=4.4.1->widgetsnbextension~=3.6.0->ipywidgets) (2.16.1)\n",
            "Requirement already satisfied: pyrsistent!=0.17.0,!=0.17.1,!=0.17.2,>=0.14.0 in /usr/local/lib/python3.7/dist-packages (from jsonschema>=2.6->nbformat->notebook>=4.4.1->widgetsnbextension~=3.6.0->ipywidgets) (0.18.1)\n",
            "Requirement already satisfied: attrs>=17.4.0 in /usr/local/lib/python3.7/dist-packages (from jsonschema>=2.6->nbformat->notebook>=4.4.1->widgetsnbextension~=3.6.0->ipywidgets) (22.1.0)\n",
            "Requirement already satisfied: importlib-resources>=1.4.0 in /usr/local/lib/python3.7/dist-packages (from jsonschema>=2.6->nbformat->notebook>=4.4.1->widgetsnbextension~=3.6.0->ipywidgets) (5.9.0)\n",
            "Requirement already satisfied: webencodings in /usr/local/lib/python3.7/dist-packages (from bleach->nbconvert->notebook>=4.4.1->widgetsnbextension~=3.6.0->ipywidgets) (0.5.1)\n",
            "Building wheels for collected packages: qiskit\n",
            "  Building wheel for qiskit (setup.py) ... \u001b[?25l\u001b[?25hdone\n",
            "  Created wheel for qiskit: filename=qiskit-0.38.0-py3-none-any.whl size=12147 sha256=760cf3cf5cbabb0a913f3b0677b2685ae4df2ee57afa6e34094ae554a157af84\n",
            "  Stored in directory: /root/.cache/pip/wheels/0b/30/78/04c91b7e82655f191b8f6238b6e74af67f3cc618cfca429189\n",
            "Successfully built qiskit\n",
            "Installing collected packages: jedi, pbr, tweedledum, symengine, stevedore, shared-memory38, retworkx, ply, ntlm-auth, cryptography, websockets, websocket-client, requests-ntlm, qiskit-terra, qiskit-ibmq-provider, qiskit-aer, qiskit\n",
            "Successfully installed cryptography-38.0.1 jedi-0.18.1 ntlm-auth-1.5.0 pbr-5.10.0 ply-3.11 qiskit-0.38.0 qiskit-aer-0.11.0 qiskit-ibmq-provider-0.19.2 qiskit-terra-0.21.2 requests-ntlm-1.1.0 retworkx-0.11.0 shared-memory38-0.1.2 stevedore-3.5.0 symengine-0.9.2 tweedledum-1.1.1 websocket-client-1.4.1 websockets-10.3\n"
          ]
        }
      ]
    },
    {
      "cell_type": "code",
      "source": [
        "# while working on google colab, run this cell\n",
        "!wget https://raw.githubusercontent.com/neelkanthrawat/QBM_sept2022/main/qbm_codes/qbm_utils.py"
      ],
      "metadata": {
        "id": "Zt6GDRoNAtZJ",
        "outputId": "b5316056-5587-4848-9a83-0a13d3d05ee0",
        "colab": {
          "base_uri": "https://localhost:8080/"
        }
      },
      "execution_count": 3,
      "outputs": [
        {
          "output_type": "stream",
          "name": "stdout",
          "text": [
            "--2022-10-03 16:25:39--  https://raw.githubusercontent.com/neelkanthrawat/QBM_sept2022/main/qbm_codes/qbm_utils.py\n",
            "Resolving raw.githubusercontent.com (raw.githubusercontent.com)... 185.199.108.133, 185.199.109.133, 185.199.110.133, ...\n",
            "Connecting to raw.githubusercontent.com (raw.githubusercontent.com)|185.199.108.133|:443... connected.\n",
            "HTTP request sent, awaiting response... 200 OK\n",
            "Length: 17062 (17K) [text/plain]\n",
            "Saving to: ‘qbm_utils.py’\n",
            "\n",
            "qbm_utils.py        100%[===================>]  16.66K  --.-KB/s    in 0.001s  \n",
            "\n",
            "2022-10-03 16:25:39 (26.6 MB/s) - ‘qbm_utils.py’ saved [17062/17062]\n",
            "\n"
          ]
        }
      ]
    },
    {
      "cell_type": "code",
      "execution_count": 4,
      "metadata": {
        "id": "bZo97FWnAq1u"
      },
      "outputs": [],
      "source": [
        "from qbm_utils import *"
      ]
    },
    {
      "cell_type": "code",
      "execution_count": 5,
      "metadata": {
        "id": "KOeMOjD5Aq1v"
      },
      "outputs": [],
      "source": [
        "# define the model\n",
        "## put n_spins even always\n",
        "n_spins = 8\n",
        "\n",
        "## construct problem Hamiltonian ##\n",
        "shape_of_J=(n_spins,n_spins)\n",
        "J =  np.random.randn(n_spins,n_spins)#np.random.uniform(low= -1, high= 1, size= (n_spins, n_spins) )\n",
        "J = 0.5 * (J + J.transpose() )\n",
        "h = np.random.randn(n_spins)#np.random.uniform(low= -1, high = 1, size= (n_spins))\n",
        "\n",
        "# instantiate the model\n",
        "model = IsingEnergyFunction(J, h)\n",
        "\n",
        "alpha = np.sqrt(n_spins) / np.sqrt( sum([J[i][j]**2 for i in range(n_spins) for j in range(i)]) + sum([h[j]**2 for j in range(n_spins)])  )\n"
      ]
    },
    {
      "cell_type": "markdown",
      "metadata": {
        "id": "51HJZt-pAq1w"
      },
      "source": [
        "## Some updated funcs"
      ]
    },
    {
      "cell_type": "code",
      "execution_count": 6,
      "metadata": {
        "id": "wqKR3qcaAq1y"
      },
      "outputs": [],
      "source": [
        "def classical_mcmc(N_hops:int, num_spins:int, num_elems:int, model, return_last_n_states=500, return_both_classical_and_quantum_steps=False ):\n",
        "    ''' \n",
        "    version 0.2\n",
        "    Args: \n",
        "    Nhops: Number of time you want to run mcmc\n",
        "    num_spins: number of spins\n",
        "    num_elems: 2**(num_spins)\n",
        "    model\n",
        "\n",
        "    Returns:\n",
        "    Last 'return_last_n_states' elements of states so collected (default value=500). one can then deduce the distribution from it! \n",
        "    '''\n",
        "    states=[]\n",
        "    current_state=f'{np.random.randint(0,num_elems):0{num_spins}b}'# bin_next_state=f'{next_state:0{num_spins}b}'\n",
        "    print(\"starting with: \", current_state) \n",
        "\n",
        "    ## initialiiise observables\n",
        "    #observable_dict = dict([ (elem, []) for elem in observables ])\n",
        "    list_after_transition=[]\n",
        "    list_after_acceptance_step=[]\n",
        "\n",
        "    for i in tqdm(range(0, N_hops)):\n",
        "        states.append(current_state)\n",
        "        # get sprime\n",
        "        s_prime=classical_transition(num_spins)\n",
        "        list_after_transition.append(s_prime)\n",
        "        # accept/reject s_prime \n",
        "        energy_s=model.get_energy(current_state)\n",
        "        energy_sprime=model.get_energy(s_prime)\n",
        "        next_state= classical_loop_accepting_state(current_state, s_prime, energy_s, energy_sprime,temp=1)\n",
        "        current_state= next_state\n",
        "        list_after_acceptance_step.append(current_state)\n",
        "        # if store_observables:  ## store the observables \n",
        "          \n",
        "        #   if next_state == s_prime: observable_dict['acceptance'].append('True')\n",
        "        #   else: observable_dict['acceptance'].append('False')\n",
        "        #   observable_dict['energy'].append(model.get_energy(next_state))\n",
        "\n",
        "        ## reinitiate\n",
        "        qc_s=initialise_qc(n_spins=num_spins, bitstring=current_state)\n",
        "    \n",
        "    # returns dictionary of occurences for last \"return_last_n_states\" states\n",
        "    dict_count_return_last_n_states=Counter(states[-return_last_n_states:])\n",
        "    \n",
        "    if return_both_classical_and_quantum_steps: \n",
        "        to_return = dict_count_return_last_n_states, list_after_transition, list_after_acceptance_step\n",
        "    else: \n",
        "        to_return= dict_count_return_last_n_states \n",
        "    \n",
        "    return to_return"
      ]
    },
    {
      "cell_type": "code",
      "execution_count": 7,
      "metadata": {
        "id": "vXzV3CDwAq10"
      },
      "outputs": [],
      "source": [
        "def quantum_enhanced_mcmc(N_hops:int, num_spins:int, num_elems:int, model:IsingEnergyFunction, alpha, num_trotter_steps=10, return_last_n_states=500, return_both_classical_and_quantum_steps=False):\n",
        "    ''' \n",
        "    version 0.2\n",
        "    Args: \n",
        "    Nhops: Number of time you want to run mcmc\n",
        "    num_spins: number of spins\n",
        "    num_elems: 2**(num_spins)\n",
        "\n",
        "    Returns:\n",
        "    Last 'return_last_n_states' elements of states so collected (default value=500). one can then deduce the distribution from it! \n",
        "    '''\n",
        "    states=[]\n",
        "    current_state=f'{np.random.randint(0,num_elems):0{num_spins}b}'# bin_next_state=f'{next_state:0{num_spins}b}'\n",
        "    print(\"starting with: \", current_state) \n",
        "    ## initialise quantum circuit to current_state\n",
        "    qc_s=initialise_qc(n_spins=num_spins, bitstring=current_state)\n",
        "    #print(\"qc_s is:\"); print(qc_s.draw())\n",
        "\n",
        "    ## intialise observables\n",
        "    #observable_dict = dict([ ( elem, []  ) for elem in observables ])\n",
        "    list_after_transition=[]\n",
        "    list_after_acceptance_step=[]\n",
        "\n",
        "    for i in tqdm(range(0, N_hops)):\n",
        "        #print(\"i: \", i)\n",
        "        states.append(current_state)\n",
        "        # get sprime\n",
        "        s_prime=run_qc_quantum_step(qc_initialised_to_s=qc_s, model= model, alpha=alpha, n_spins=num_spins, num_trotter_steps=num_trotter_steps, time=0.8)\n",
        "        list_after_transition.append(s_prime)\n",
        "        # accept/reject s_prime \n",
        "        energy_s=model.get_energy(current_state)\n",
        "        energy_sprime=model.get_energy(s_prime)\n",
        "        next_state= classical_loop_accepting_state(current_state, s_prime, energy_s, energy_sprime,temp=1)\n",
        "        current_state=next_state\n",
        "        # if current_state!=next_state:# this seems to be a redundant step. I could have set current_state=classical_loop_accepting_state(current_state, s_prime, energy_s, energy_sprime,temp=1)\n",
        "        #   current_state= next_state\n",
        "        list_after_acceptance_step.append(current_state)\n",
        "\n",
        "        # if store_observables:  ## store the observables \n",
        "          \n",
        "        #   if next_state == s_prime: observable_dict['acceptance'].append('True')\n",
        "        #   else: observable_dict['acceptance'].append('False')\n",
        "        #   observable_dict['energy'].append(model.get_energy(next_state))\n",
        "\n",
        "        ## reinitiate\n",
        "        qc_s=initialise_qc(n_spins=num_spins, bitstring=current_state)\n",
        "      \n",
        "    dict_count_return_last_n_states=Counter(states[-return_last_n_states:])#dictionary of occurences for last \"return_last_n_states\" states\n",
        "\n",
        "    if return_both_classical_and_quantum_steps: \n",
        "      to_return= dict_count_return_last_n_states, list_after_transition, list_after_acceptance_step\n",
        "    else: \n",
        "      to_return= dict_count_return_last_n_states\n",
        "\n",
        "    return to_return"
      ]
    },
    {
      "cell_type": "code",
      "execution_count": 8,
      "metadata": {
        "id": "jeeJADzzAq12"
      },
      "outputs": [],
      "source": [
        "def states(num_spins:int)->list:\n",
        "    ''' \n",
        "    Returns all possible binary strings of length n=num_spins\n",
        "\n",
        "    Args:\n",
        "    num_spins: n length of the bitstring\n",
        "    Returns:\n",
        "    possible_states= list of all possible binary strings of length num_spins\n",
        "    '''\n",
        "    num_possible_states=2**(num_spins)\n",
        "    possible_states=[f'{k:0{num_spins}b}' for k in range(0,num_possible_states)]\n",
        "    return possible_states\n",
        "\n",
        "def magnetization_of_state(bitstring:str)->float:\n",
        "    '''  \n",
        "    Args:\n",
        "    bitstring: for eg: '010'\n",
        "    Returns:\n",
        "    magnetization for the given bitstring\n",
        "    '''\n",
        "    array=np.array(list(bitstring))\n",
        "    num_times_one=np.count_nonzero(array=='1')\n",
        "    num_times_zero=len(array)-num_times_one\n",
        "    magnetization=num_times_one-num_times_zero\n",
        "    return magnetization\n",
        "\n",
        "def dict_magnetization_of_all_states(list_all_possible_states:list)->dict:\n",
        "    '''\n",
        "    Returns magnetization for all unique states\n",
        "    \n",
        "    Args:\n",
        "    list_all_possible_states\n",
        "    Returns:\n",
        "    dict_magnetization={state(str): magnetization_value}\n",
        "    '''\n",
        "    list_mag_vals=[magnetization_of_state(state) for state in list_all_possible_states]\n",
        "    dict_magnetization=dict(zip(list_all_possible_states, list_mag_vals ))\n",
        "    #print(\"dict_magnetization:\"); print(dict_magnetization)\n",
        "    return dict_magnetization\n",
        "  \n",
        "def value_sorted_dict(dict_in, reverse=False):\n",
        "\n",
        "  sorted_dict={k: v for k, v in sorted(dict_in.items(), key=lambda item: item[1], reverse=reverse)}\n",
        "  return sorted_dict"
      ]
    },
    {
      "cell_type": "markdown",
      "source": [
        "## Run classical MCMC"
      ],
      "metadata": {
        "id": "IekfaYLOD_67"
      }
    },
    {
      "cell_type": "code",
      "source": [
        "states_nbit=states(num_spins=n_spins)\n",
        "dict_mag=dict_magnetization_of_all_states(states_nbit)"
      ],
      "metadata": {
        "id": "K0PdzRLYEHlZ"
      },
      "execution_count": 9,
      "outputs": []
    },
    {
      "cell_type": "code",
      "source": [
        "# symmetric uniform transition matrix for uniform transition rule\n",
        "num_spins=n_spins#4\n",
        "num_elems=2**(num_spins)\n",
        "transit_mat=np.ones((num_elems,num_elems))*(1./(2*num_elems))# in general case transit matrix could be entirely different\n",
        "np.fill_diagonal(transit_mat, 1./2)\n",
        "\n",
        "# Run MCMC with uniform random transition strategy\n",
        "N_hops=2000\n",
        "dict_states_mcmc, cl_mcmc_after_trsn, cl_mcmc_after_accept =classical_mcmc(N_hops, num_spins, num_elems,model, return_last_n_states=600, return_both_classical_and_quantum_steps=True)\n",
        "dict_states_mcmc=value_sorted_dict(dict_states_mcmc, reverse=True)"
      ],
      "metadata": {
        "id": "QJGVQcuVD_Cf",
        "outputId": "241d0e1b-857b-4ce1-fd13-0e3c370dcea5",
        "colab": {
          "base_uri": "https://localhost:8080/"
        }
      },
      "execution_count": 34,
      "outputs": [
        {
          "output_type": "stream",
          "name": "stdout",
          "text": [
            "starting with:  11000010\n"
          ]
        },
        {
          "output_type": "stream",
          "name": "stderr",
          "text": [
            "100%|██████████| 2000/2000 [00:01<00:00, 1394.51it/s]\n"
          ]
        }
      ]
    },
    {
      "cell_type": "code",
      "source": [
        "transits_bltz = dict( [ ( state, model.get_boltzmann_prob(state) ) for state in states_nbit ] )\n",
        "rqd_sum=np.sum(np.array(list(transits_bltz.values())))\n",
        "#print(rqd_sum)\n",
        "prob_vals=list(np.array(list(transits_bltz.values()))*(1./rqd_sum))\n",
        "boltz_prob_distn=value_sorted_dict( dict(zip(states_nbit, prob_vals )), reverse=True )\n",
        "print(boltz_prob_distn)"
      ],
      "metadata": {
        "id": "0gFCHGRq97DW",
        "outputId": "55285001-bf07-421a-8111-c84f4dab0040",
        "colab": {
          "base_uri": "https://localhost:8080/"
        }
      },
      "execution_count": 35,
      "outputs": [
        {
          "output_type": "stream",
          "name": "stdout",
          "text": [
            "{'11010111': 0.26553647936551844, '11000111': 0.2043256076477189, '11100111': 0.08925588089058671, '10010011': 0.055501121960389234, '10010111': 0.052822385036672304, '11110111': 0.05236836898596101, '11010101': 0.025213451054567845, '00010011': 0.024690336465417392, '10011011': 0.019122273512599684, '10000111': 0.016954083763291956, '11000101': 0.015068449134256676, '10111011': 0.012533210973093995, '01010111': 0.012532796063437109, '01000111': 0.01227757047810166, '10110011': 0.00870051463832598, '11100101': 0.008059814409589928, '11010011': 0.007471942007502351, '10000011': 0.006969203227118506, '00010111': 0.006850021576476288, '11110101': 0.006088630125010615, '10011001': 0.00586654572314718, '10110111': 0.005539124792100956, '10010001': 0.005134493399264533, '10111001': 0.004708122217876278, '11101111': 0.004115499639989348, '00000011': 0.0039470645743322555, '10100111': 0.00393791786568609, '10101011': 0.0035123615078153604, '11011111': 0.0029063236056798424, '00000111': 0.002799072284990775, '11010001': 0.0026983650212385434, '10100011': 0.0024198892751153183, '10001011': 0.0024193973373444065, '11111111': 0.002396450536648961, '11001111': 0.0022533511842764927, '11000011': 0.0022493505713533095, '11110011': 0.0022029182671529893, '11111001': 0.0016785853822256877, '11100100': 0.0016734204209239508, '10011111': 0.0016027540582806029, '11100011': 0.0014688965992230667, '10010101': 0.001284856832513739, '11101101': 0.0012324175263010548, '01010011': 0.0012097860862077439, '11111011': 0.0011446868409648518, '11011001': 0.0011121323052337526, '01100111': 0.0010989978097656978, '10101001': 0.001024760186031791, '10110001': 0.0009855603502012644, '11110001': 0.0009741100723035906, '11011011': 0.0009286288109348378, '11111101': 0.0009239875305135626, '11011101': 0.0009151645026831827, '11101001': 0.0008759115253966623, '00011011': 0.0008288634443957475, '00110011': 0.0007931229876187989, '11101100': 0.0007704165394584437, '11101011': 0.000769069941255923, '11000100': 0.0007363867150090735, '10111111': 0.000702699546368909, '11100110': 0.0006723896542351562, '11000001': 0.0006309021542768772, '10001001': 0.0005764847050985983, '11001101': 0.0005510889915111998, '10001111': 0.0005183337755778732, '01110111': 0.0005064810229356357, '11100001': 0.0005044737025446672, '10101111': 0.0005033632248924813, '10000001': 0.0005007450021294751, '11110100': 0.0004962446234688658, '11010100': 0.000483688632806565, '01000011': 0.00046365836243905526, '00010001': 0.00046096763544012815, '11000110': 0.0003622966737391256, '10111000': 0.00032664369733194777, '10000101': 0.00032029393360911176, '11001011': 0.0002816774721549811, '00100011': 0.0002808386954456291, '11001001': 0.00026200167887665806, '01010101': 0.000240161651895794, '11111100': 0.00022674099167189856, '10100001': 0.00021289792707780025, '01000110': 0.00020426182423606022, '11010110': 0.00018482552136437795, '01000101': 0.0001827282866502282, '10101000': 0.00018111424050774638, '10110101': 0.00016497583117827623, '11110110': 0.0001548636280714823, '11101000': 0.00014773381389808905, '00110111': 0.0001471924154318963, '00001011': 0.00013351083607322998, '00100111': 0.0001332222588282839, '10011101': 0.0001292857662309625, '00111011': 0.0001113207594330706, '11111000': 0.00011113716267971078, '10011000': 9.580019214395053e-05, '11101110': 9.334573058097764e-05, '10100101': 9.109268140269306e-05, '01010001': 8.817051557102015e-05, '01000100': 8.378695226156661e-05, '01010110': 8.185004879609296e-05, '11001100': 8.1086178527137e-05, '01100110': 7.768089696958659e-05, '01110011': 7.308762115664844e-05, '10111101': 6.940582892406707e-05, '01100011': 6.20443907939866e-05, '00000001': 5.7234160206621374e-05, '11011100': 5.285918508223482e-05, '00011001': 5.131844747726957e-05, '00000110': 4.8797724506218786e-05, '00010110': 4.687848799877209e-05, '00010010': 4.5589056201550114e-05, '01010100': 4.3228530532953215e-05, '00101011': 3.9717223057720616e-05, '01100100': 3.901628029071874e-05, '10101101': 3.861405515063366e-05, '10010110': 3.8527110634119927e-05, '00010101': 3.362608141646618e-05, '10001101': 3.247364170211311e-05, '10111010': 3.154954236560602e-05, '10000110': 3.150116086351759e-05, '10100110': 3.108576231551284e-05, '11100000': 2.8259891610131034e-05, '10010000': 2.7847987227063468e-05, '01000001': 2.624524002236306e-05, '10010100': 2.582848974257343e-05, '10101100': 2.529436788923713e-05, '10001000': 2.3981453958337168e-05, '00010000': 2.345848000782739e-05, '10110000': 2.2710258037482435e-05, '10101010': 2.2523388263490638e-05, '11110000': 2.1420825000555726e-05, '11111110': 2.133715735595374e-05, '00011111': 2.0251585636647578e-05, '01100101': 2.0027770998273254e-05, '10100100': 1.9818655809048504e-05, '00000010': 1.8565712683482425e-05, '00110001': 1.8131194119094296e-05, '10111100': 1.7847219425143573e-05, '11011000': 1.733124215183103e-05, '10110110': 1.7164541910015834e-05, '10000100': 1.6401999260479654e-05, '01011011': 1.4649927019012016e-05, '10110100': 1.4089878034504163e-05, '01110110': 1.4053250313920254e-05, '11010000': 1.3966456187855752e-05, '01011111': 1.336552319686036e-05, '01001111': 1.3192792539573879e-05, '10100000': 1.2497239100889982e-05, '11001110': 1.2029792557315124e-05, '10101110': 1.196365996165879e-05, '01110101': 1.1883963541151544e-05, '10011010': 1.1329939875447204e-05, '10010010': 1.0921999011033672e-05, '00000101': 1.0671761032812208e-05, '11001000': 1.0401143990892314e-05, '00100110': 9.86744885621792e-06, '01110100': 9.088051006624295e-06, '00111001': 8.439352503059165e-06, '00001111': 8.338107950751937e-06, '11000000': 8.31862095443687e-06, '00011000': 7.863043030351032e-06, '10011100': 7.824970285823533e-06, '00000000': 7.419737644856627e-06, '10110010': 7.274245377999409e-06, '10000000': 6.91857471076886e-06, '10111110': 6.55614348935986e-06, '01110001': 6.522304426534821e-06, '00001001': 6.420142912191775e-06, '00010100': 6.342401880257065e-06, '00110010': 6.221810292212417e-06, '11011110': 6.090731090007875e-06, '01001011': 5.65732695715849e-06, '00100010': 5.612249565372238e-06, '00111000': 5.493750155380475e-06, '10100010': 5.1539749098716135e-06, '00000100': 5.127638377347703e-06, '10001100': 5.006875338743374e-06, '00100001': 4.986323764507037e-06, '01101111': 4.937427926568796e-06, '11101010': 4.7064089955771615e-06, '00011010': 4.607913187423501e-06, '01100001': 4.300286792637885e-06, '01010000': 4.2819552863115595e-06, '00110110': 4.2796644848215154e-06, '00110000': 3.920112006451874e-06, '00101000': 3.878047084415149e-06, '01111011': 3.7004142742277105e-06, '10001010': 3.6517335224558845e-06, '01011001': 3.5407670316808967e-06, '10011110': 3.5196787631092297e-06, '10000010': 3.4937135956557166e-06, '01000000': 3.2469312798599623e-06, '01101011': 3.1651576883855546e-06, '11100010': 2.985570591975568e-06, '10001110': 2.8996758545268535e-06, '11111010': 2.749835521705621e-06, '00100000': 2.7463529035565663e-06, '00111010': 2.6292997311134282e-06, '00001000': 2.5059109802792037e-06, '00101010': 2.3897177701020853e-06, '00101001': 2.3385652918236234e-06, '01100000': 2.2602818767237394e-06, '01111111': 2.258295732447412e-06, '01010010': 2.131726539717563e-06, '01000010': 2.0812526523608573e-06, '00001010': 1.8907826923851671e-06, '00111111': 1.8194166739301617e-06, '11110010': 1.7576431365611304e-06, '01101100': 1.750187632259496e-06, '00101111': 1.6592424010673928e-06, '11010010': 1.4032116332669233e-06, '01110000': 1.34574398545766e-06, '00100100': 1.2695948333220604e-06, '01100010': 1.1832373395989514e-06, '01101000': 1.1513045882563139e-06, '01111001': 1.0951022796471027e-06, '11000010': 1.076095045842678e-06, '01001001': 1.0619665255966572e-06, '01101110': 1.0507656884524537e-06, '01001100': 8.989499163959241e-07, '00110101': 8.84732939195754e-07, '01011101': 8.493540266332924e-07, '01101001': 7.275072805049336e-07, '00110100': 7.089772965473204e-07, '01111000': 6.803051742000972e-07, '01001110': 6.608443975779198e-07, '01001101': 6.511441993795114e-07, '00100101': 6.219295819481859e-07, '01110010': 5.471537346978268e-07, '11011010': 5.250728306194998e-07, '01011000': 5.17730570464375e-07, '01011100': 4.603024323569342e-07, '00001110': 4.3766385291623995e-07, '00011110': 4.1728079591445636e-07, '11001010': 4.0572643803301297e-07, '01111100': 4.0459750268303196e-07, '01001000': 3.9556793914576783e-07, '00101110': 3.700203737854583e-07, '00011101': 3.296783669357377e-07, '01101101': 2.98389581877957e-07, '01011110': 2.6281166820218695e-07, '01111110': 1.8866099785443362e-07, '00011100': 1.8722147237561575e-07, '01101010': 1.817407860990421e-07, '01111101': 1.7572196199527365e-07, '00111110': 1.592737370704034e-07, '00101100': 1.5788213714902674e-07, '00001100': 1.5251255421199872e-07, '00001101': 1.0542329546758297e-07, '00111100': 8.750117243091771e-08, '01111010': 8.340721070134079e-08, '01011010': 7.772237749859326e-08, '01001010': 7.645848621385321e-08, '00111101': 3.6266532307785614e-08, '00101101': 2.5687471390163494e-08}\n"
          ]
        }
      ]
    },
    {
      "cell_type": "code",
      "source": [
        "def plot_bargraph(desc_val_order_dict_in, label, normalise_complete_data=False,plot_first_few=0):\n",
        "  width=1.0\n",
        "  list_keys=list(desc_val_order_dict_in.keys())\n",
        "  list_vals=list(desc_val_order_dict_in.values())\n",
        "  if normalise_complete_data:\n",
        "    list_vals=np.divide(list_vals, sum(list_vals))#np.divide(list(vals), sum(vals))\n",
        "  if plot_first_few!=0:\n",
        "    plt.bar(list_keys[0:plot_first_few], list_vals[0:plot_first_few], label=label)\n",
        "  else:\n",
        "    plt.bar(list_keys, list_vals, label=label)\n",
        "  plt.xticks(rotation=45)\n",
        "\n",
        "plt.figure(figsize=(15,10))\n",
        "plt.subplot(2,1,1)\n",
        "plot_bargraph(boltz_prob_distn,label=\"theoretical\", plot_first_few=30)   \n",
        "plt.legend()\n",
        "plt.subplot(2,1,2)\n",
        "plot_bargraph(dict_states_mcmc,label=\"MCMC-uniform\", normalise_complete_data=True)  \n",
        "plt.legend()"
      ],
      "metadata": {
        "colab": {
          "base_uri": "https://localhost:8080/",
          "height": 643
        },
        "id": "kULpQHAzac1R",
        "outputId": "0c79da4d-146b-4f7f-9d96-b6307bc7f47e"
      },
      "execution_count": 36,
      "outputs": [
        {
          "output_type": "execute_result",
          "data": {
            "text/plain": [
              "<matplotlib.legend.Legend at 0x7feff1ad9550>"
            ]
          },
          "metadata": {},
          "execution_count": 36
        },
        {
          "output_type": "display_data",
          "data": {
            "text/plain": [
              "<Figure size 1080x720 with 2 Axes>"
            ],
            "image/png": "[encoded data removed]"
          },
          "metadata": {
            "needs_background": "light"
          }
        }
      ]
    },
    {
      "cell_type": "code",
      "source": [
        "def plot_multiple_bargraphs(list_of_dicts:list,list_labels:list,list_normalise:list ,plot_first_few,  sort_desc=False,sort_asc=False, figsize=(15,7)):\n",
        "  list_keys=list(list_of_dicts[0].keys())\n",
        "  dict_data={}\n",
        "  for i in range(0,len(list_labels)):\n",
        "    #list_vals=[list_of_dicts[i][j] for j in list_keys if j in list(list_of_dicts[i].keys()) else 0] #list(list_of_dicts[i].values())\n",
        "    list_vals=[list_of_dicts[i][j] if j in list(list_of_dicts[i].keys()) else 0 for j in list_keys]\n",
        "    if list_normalise[i]:\n",
        "      list_vals=np.divide(list_vals, sum(list_vals))\n",
        "    dict_data[list_labels[i]]=list_vals\n",
        "  df=pd.DataFrame(dict_data, index=list_keys)\n",
        "  if sort_desc:\n",
        "    df_sorted_desc=df.sort_values(list_labels[0], ascending=False)\n",
        "    df_sorted_desc[:plot_first_few].plot.bar(rot=90,figsize=figsize)\n",
        "  elif sort_asc:\n",
        "    df_sorted_asc=df.sort_values(list_labels[0], ascending=True)\n",
        "    df_sorted_asc[:plot_first_few].plot.bar(rot=90,figsize=figsize)\n",
        "  elif (sort_desc==False and sort_asc==False):\n",
        "    df[:plot_first_few].plot.bar(rot=90,figsize=figsize)\n",
        "\n",
        "# plot_bargraph(boltz_prob_distn,label=\"theoretical\",plot_first_few=60)  \n",
        "# plot_bargraph(dict_states_mcmc,label=\"MCMC-Uniform\",normalise_complete_data=True,plot_first_few=60)  \n",
        "plot_multiple_bargraphs([boltz_prob_distn,dict_states_mcmc], [\"theory\", \"MCMC-Uniform random\"], list_normalise=[True,True], plot_first_few=30, sort_desc=True)\n",
        "# plt.legend()\n"
      ],
      "metadata": {
        "colab": {
          "base_uri": "https://localhost:8080/",
          "height": 469
        },
        "id": "D_fr3wPYezlz",
        "outputId": "9a3e78aa-785a-4990-c587-319be7ce8477"
      },
      "execution_count": 37,
      "outputs": [
        {
          "output_type": "display_data",
          "data": {
            "text/plain": [
              "<Figure size 1080x504 with 1 Axes>"
            ],
            "image/png": "[encoded data removed]"
          },
          "metadata": {
            "needs_background": "light"
          }
        }
      ]
    },
    {
      "cell_type": "code",
      "source": [
        "# get actual probability distribution\n",
        "transits_bltz = dict( [ ( state, model.get_boltzmann_prob(state) ) for state in states_nbit ] )\n",
        "# plot actual prob distribution as well as one obtained from MCMC\n",
        "#dict_states_mcmc_plot=dict(zip(list(range(0,2**(num_spins))), list(dict_states_mcmc.values()) ))\n",
        "plot_histogram( [boltz_prob_distn, dict_states_mcmc] , figsize=(20, 7), legend= ['model', 'MCMC-uniform'], bar_labels=False, sort=\"value_desc\")"
      ],
      "metadata": {
        "id": "z2lTXaPG1To_"
      },
      "execution_count": null,
      "outputs": []
    },
    {
      "cell_type": "code",
      "source": [
        "plot_histogram( [boltz_prob_distn, dict_states_mcmc] , figsize=(20, 7), legend= ['model', 'MCMC-uniform'], bar_label=False)\n",
        "plt.gca().invert_yaxis()"
      ],
      "metadata": {
        "id": "mfI3S9rYCTLl"
      },
      "execution_count": null,
      "outputs": []
    },
    {
      "cell_type": "markdown",
      "metadata": {
        "id": "A2r85OtSAq15"
      },
      "source": [
        "## Run quantum enhanced MCMC"
      ]
    },
    {
      "cell_type": "code",
      "execution_count": null,
      "metadata": {
        "id": "YzHqeUOTAq15",
        "outputId": "0b6e39c2-e6e4-47ee-c535-da0b82939c16",
        "colab": {
          "base_uri": "https://localhost:8080/"
        }
      },
      "outputs": [
        {
          "output_type": "stream",
          "name": "stdout",
          "text": [
            "starting with:  00011101\n"
          ]
        },
        {
          "output_type": "stream",
          "name": "stderr",
          "text": [
            "100%|██████████| 600/600 [03:59<00:00,  2.51it/s]\n"
          ]
        }
      ],
      "source": [
        "# symmetric uniform transition matrix for uniform transition rule: tho tbh I dont need it\n",
        "num_spins=n_spins#4\n",
        "num_elems=2**(num_spins)\n",
        "transit_mat=np.ones((num_elems,num_elems))*(1./(2*num_elems))# in general case transit matrix could be entirely different\n",
        "np.fill_diagonal(transit_mat, 1./2)\n",
        "\n",
        "# Run MCMC with uniform random transition strategy\n",
        "N_hops=600\n",
        "dict_states_quantum_mcmc, quant_mcmc_after_trsn, quant_mcmc_after_accept =quantum_enhanced_mcmc(N_hops, \n",
        "num_spins, num_elems, model, alpha, num_trotter_steps=10, \n",
        "return_last_n_states=300,return_both_classical_and_quantum_steps=True)\n",
        "\n"
      ]
    },
    {
      "cell_type": "code",
      "source": [
        "# get actual probability distribution\n",
        "#transits_bltz = dict( [ ( state, model.get_boltzmann_prob(state) ) for state in states_nbit ] )\n",
        "# plot actual prob distribution as well as one obtained from MCMC\n",
        "plot_histogram( [boltz_prob_distn, dict_states_quantum_mcmc] , figsize=(20, 7), legend= ['model', 'Quantum-enhanced MCMC' ], sort= 'value_desc')"
      ],
      "metadata": {
        "id": "-DZTBYno1ALp"
      },
      "execution_count": null,
      "outputs": []
    },
    {
      "cell_type": "code",
      "source": [
        "fig = plot_histogram( [boltz_prob_distn,dict_states_quantum_mcmc] , figsize=(40, 15), legend= [\"model\", \"Quantum\" ], bar_labels=False)\n",
        "fig"
      ],
      "metadata": {
        "id": "zBFr2uQgF7p_"
      },
      "execution_count": null,
      "outputs": []
    },
    {
      "cell_type": "code",
      "source": [
        "plot_histogram( [boltz_prob_distn,dict_states_mcmc, dict_states_quantum_mcmc] , figsize=(40, 15), legend= ['model', 'classical MCMC: Uniform','Quantum-enhanced MCMC' ], sort='value_desc', bar_labels=False)"
      ],
      "metadata": {
        "id": "8kIg-BaQFgQL"
      },
      "execution_count": null,
      "outputs": []
    },
    {
      "cell_type": "code",
      "source": [
        "# transits_bltz"
      ],
      "metadata": {
        "id": "7AjbJG0vAkxP"
      },
      "execution_count": null,
      "outputs": []
    },
    {
      "cell_type": "code",
      "source": [
        "transits_bltz = dict( [ ( state, model.get_boltzmann_prob(state) ) for state in states_nbit ] )\n",
        "rqd_sum=np.sum(np.array(list(transits_bltz.values())))\n",
        "#print(rqd_sum)\n",
        "prob_vals=list(np.array(list(transits_bltz.values()))*(1./rqd_sum))\n",
        "boltz_prob_distn=dict(zip(list(transits_bltz.keys()), prob_vals ))\n",
        "print(boltz_prob_distn)"
      ],
      "metadata": {
        "id": "k--IFkWn__QG",
        "outputId": "1c1a58f6-5c31-4cf7-f6f0-8279c7318707",
        "colab": {
          "base_uri": "https://localhost:8080/"
        }
      },
      "execution_count": null,
      "outputs": [
        {
          "output_type": "stream",
          "name": "stdout",
          "text": [
            "{'00000000': 0.00025724074618447694, '00000001': 7.769570183623475e-05, '00000010': 0.00011760993690432808, '00000011': 1.0799946295217981e-05, '00000100': 2.7079226698463817e-05, '00000101': 2.8778783274456252e-05, '00000110': 1.6828494412682807e-05, '00000111': 5.4375314137793435e-06, '00001000': 0.000976359424618341, '00001001': 0.003652335587437778, '00001010': 0.00015319139959287596, '00001011': 0.00017422708948964884, '00001100': 0.000123359194434316, '00001101': 0.001623721024244815, '00001110': 2.630879363822362e-05, '00001111': 0.0001052837073434603, '00010000': 0.00024065255164708435, '00010001': 8.519242300680196e-05, '00010010': 0.0002975310736412987, '00010011': 3.202308546842793e-05, '00010100': 1.9763864071318853e-05, '00010101': 2.461848339876424e-05, '00010110': 3.3213792290694804e-05, '00010111': 1.2578482435130756e-05, '00011000': 0.003201503625413981, '00011001': 0.014036803370548084, '00011010': 0.0013583643072686011, '00011011': 0.0018107180266788581, '00011100': 0.0003155736186837863, '00011101': 0.0048684851029663564, '00011110': 0.0001819984552828584, '00011111': 0.0008536526698436289, '00100000': 0.0004037008890444343, '00100001': 0.0006294940091023062, '00100010': 0.0009239010393368466, '00100011': 0.000438003616720806, '00100100': 6.151550408404185e-05, '00100101': 0.0003375168193942432, '00100110': 0.00019136172866816967, '00100111': 0.0003192171851465825, '00101000': 0.00041259207799989906, '00101001': 0.007968131619319325, '00101010': 0.00032404627969316965, '00101011': 0.0019026679361784306, '00101100': 7.545900440106191e-05, '00101101': 0.005127735583511389, '00101110': 8.055675696304204e-05, '00101111': 0.001664320149403341, '00110000': 0.00010340857057867, '00110001': 0.00018899124957566141, '00110010': 0.0006399703993657642, '00110011': 0.0003556029818959995, '00110100': 1.2293238468203413e-05, '00110101': 7.905519333315723e-05, '00110110': 0.00010341282611658099, '00110111': 0.0002021896177491867, '00111000': 0.00037043437346035135, '00111001': 0.008384943864770133, '00111010': 0.0007867468922290345, '00111011': 0.005414324261754172, '00111100': 5.2855033811400194e-05, '00111101': 0.0042097293237685265, '00111110': 0.00015258606052072246, '00111111': 0.0036949028466717, '01000000': 0.002051075452646788, '01000001': 0.0016047278460444348, '01000010': 0.004570277322872401, '01000011': 0.0010871329299155844, '01000100': 3.2337651353767816e-05, '01000101': 8.902401217827085e-05, '01000110': 9.794316628081782e-05, '01000111': 8.197721766728589e-05, '01001000': 0.00849639845094154, '01001001': 0.08233004288657655, '01001010': 0.006497049756102655, '01001011': 0.01914079662300212, '01001100': 0.00016077814477742953, '01001101': 0.005481878691085916, '01001110': 0.00016711409569690393, '01001111': 0.001732350781994501, '01010000': 0.0011835597815996496, '01010001': 0.0010853335219444557, '01010010': 0.007131628600311131, '01010011': 0.001988300773269349, '01010100': 1.4558007088719238e-05, '01010101': 4.6973603935643946e-05, '01010110': 0.00011923539479296537, '01010111': 0.00011697080927712689, '01011000': 0.017184503864723415, '01011001': 0.19517030230511614, '01011010': 0.035534967450426565, '01011011': 0.12270238496307698, '01011100': 0.0002536962396859523, '01011101': 0.010138406586851533, '01011110': 0.0007130790915360095, '01011111': 0.008663905804694429, '01100000': 0.0008442572751863996, '01100001': 0.003410116574647017, '01100010': 0.009416667199340853, '01100011': 0.01156410380154114, '01100100': 1.9267706984835296e-05, '01100101': 0.0002738440972909427, '01100110': 0.0002921172421906253, '01100111': 0.0012622660118699201, '01101000': 0.0009417145117751588, '01101001': 0.04711046549924474, '01101010': 0.003604641497490713, '01101011': 0.05482524185530176, '01101100': 2.579525282365384e-05, '01101101': 0.004540637782988806, '01101110': 0.00013421076521417613, '01101111': 0.007182651048801458, '01110000': 0.00013339191046862582, '01110001': 0.0006315055513516666, '01110010': 0.004023365662895651, '01110011': 0.005791052879841553, '01110100': 2.375032758145816e-06, '01110101': 3.956363816304476e-05, '01110110': 9.737206159349306e-05, '01110111': 0.0004931526007429021, '01111000': 0.0005215158460362377, '01111001': 0.030578692211134607, '01111010': 0.005398187015304195, '01111011': 0.09623203514290336, '01111100': 1.1144816566426762e-05, '01111101': 0.0022993403507063446, '01111110': 0.00015680434429549963, '01111111': 0.009835779230207712, '10000000': 0.0002037694271702385, '10000001': 6.2107661229249105e-06, '10000010': 0.0005583502226142351, '10000011': 5.174080603225504e-06, '10000100': 1.3303304535090353e-06, '10000101': 1.4267392894995756e-07, '10000110': 4.954866418159259e-06, '10000111': 1.6156131674953028e-07, '10001000': 0.0010805491801154136, '10001001': 0.0004079006597813736, '10001010': 0.0010160910175128174, '10001011': 0.00011661725841171893, '10001100': 8.467015426188525e-06, '10001101': 1.1246545843158996e-05, '10001110': 1.0822389831554223e-05, '10001111': 4.370512089169422e-06, '10010000': 1.109770866243788e-05, '10010001': 3.964539384147473e-07, '10010010': 8.223157165085493e-05, '10010011': 8.931375594777111e-07, '10010100': 5.652475881420318e-08, '10010101': 7.105212516026772e-09, '10010110': 5.69309902259309e-07, '10010111': 2.1757422110929258e-08, '10011000': 0.0002062682566751496, '10011001': 9.126316665184842e-05, '10011010': 0.0005245151952497728, '10011011': 7.05572353657192e-05, '10011100': 1.2609651996532123e-06, '10011101': 1.963112434874705e-06, '10011110': 4.3584646281430375e-06, '10011111': 2.0629844015636916e-06, '10100000': 5.860301227210964e-05, '10100001': 9.221482635941368e-06, '10100010': 0.000803802037063322, '10100011': 3.845477378374215e-05, '10100100': 5.538202511150069e-07, '10100101': 3.0663984189412867e-07, '10100110': 1.0325301532612249e-05, '10100111': 1.7381323349453537e-06, '10101000': 8.367903641745267e-05, '10101001': 0.0001630801875520395, '10101010': 0.0003938820939627373, '10101011': 0.0002333840194751405, '10101100': 9.491412915127031e-07, '10101101': 6.508701226511338e-06, '10101110': 6.072746934423118e-06, '10101111': 1.2661028833161371e-05, '10110000': 8.738972117650446e-07, '10110001': 1.611737953111095e-07, '10110010': 3.241358881308879e-05, '10110011': 1.8175298119596263e-06, '10110100': 6.44308908415895e-09, '10110101': 4.181259793655872e-09, '10110110': 3.248371185430051e-07, '10110111': 6.409128974246069e-08, '10111000': 4.373716704066921e-06, '10111001': 9.99052813487979e-06, '10111010': 5.567212762396913e-05, '10111011': 3.866303676382444e-05, '10111100': 3.8703455059253166e-08, '10111101': 3.1107597520406423e-07, '10111110': 6.696404113669233e-07, '10111111': 1.6363595486708534e-06, '11000000': 0.0008513616897149203, '11000001': 6.721756452934985e-05, '11000010': 0.011369423216251996, '11000011': 0.0002729150261673241, '11000100': 8.32463023313514e-07, '11000101': 2.3126640977760536e-07, '11000110': 1.511102868312974e-05, '11000111': 1.2763270742856292e-06, '11001000': 0.004927230609780319, '11001001': 0.004818094092837594, '11001010': 0.022581231518605763, '11001011': 0.006713366498349969, '11001100': 5.782545277742674e-06, '11001101': 1.9896210506808437e-05, '11001110': 3.6022058313358064e-05, '11001111': 3.7682542327339506e-05, '11010000': 2.8600014301677993e-05, '11010001': 2.6465992537364307e-06, '11010010': 0.0010328284253181203, '11010011': 2.9058317379911982e-05, '11010100': 2.1817349498241563e-08, '11010101': 7.103998504945565e-09, '11010110': 1.0709487025118381e-06, '11010111': 1.0602050953250766e-07, '11011000': 0.0005801610933042183, '11011001': 0.0006649274390449246, '11011010': 0.007190033890517975, '11011011': 0.002505399215649246, '11011100': 5.31189698226044e-07, '11011101': 2.142171490920155e-06, '11011110': 8.948221564170488e-06, '11011111': 1.0971390319888095e-05, '11100000': 6.421969645367578e-05, '11100001': 2.6176500131268578e-05, '11100010': 0.004292932614281347, '11100011': 0.0005320074919370763, '11100100': 9.089656696071314e-08, '11100101': 1.303676236681224e-07, '11100110': 8.259201321656215e-06, '11100111': 3.6014771720140463e-06, '11101000': 0.00010008021993879129, '11101001': 0.0005052371785171101, '11101010': 0.0022959079877588875, '11101011': 0.003523886197332424, '11101100': 1.7001717198893626e-07, '11101101': 3.0200822805975485e-06, '11101110': 5.301561020276153e-06, '11101111': 2.863189529533956e-05, '11110000': 5.906993787472122e-07, '11110001': 2.822039651283398e-07, '11110010': 0.0001067800056082257, '11110011': 1.5509824451923774e-05, '11110100': 6.522748544103473e-10, '11110101': 1.0964937768364059e-09, '11110110': 1.6027242582661133e-07, '11110111': 8.191335054020952e-08, '11111000': 3.2265624978745483e-06, '11111001': 1.909151521585841e-05, '11111010': 0.0002001630508655521, '11111011': 0.0003600846212362888, '11111100': 4.276313229152778e-09, '11111101': 8.903253971382801e-08, '11111110': 3.6059366060939623e-07, '11111111': 2.2825362647066093e-06}\n"
          ]
        }
      ]
    },
    {
      "cell_type": "markdown",
      "source": [
        "### comparing number of accpeted/rejected samples"
      ],
      "metadata": {
        "id": "yiwCStvOGip-"
      }
    },
    {
      "cell_type": "code",
      "source": [
        "# plt.figure(figsize=(20,7))\n",
        "# plt.plot(cl_mcmc_after_trsn, label=\"Classical Uniform\")\n",
        "# plt.plot(quant_mcmc_after_trsn, label=\"Quantum\")\n",
        "# plt.xlabel(\"MCMC iterations\")\n",
        "# plt.title(\"after transition\")\n",
        "plt.figure(figsize=(10,10))\n",
        "#quant_mcmc_after_trsn, quant_mcmc_after_accept\n",
        "plt.plot(cl_mcmc_after_accept, label=\"Classical Uniform\")\n",
        "plt.plot(quant_mcmc_after_accept,label=\"Quantum\")\n",
        "plt.xlabel(\"MCMC iterations\")\n",
        "plt.title(\"State accepted in i'th iteration\")\n",
        "plt.legend()"
      ],
      "metadata": {
        "id": "SMtohT9qG_TX"
      },
      "execution_count": null,
      "outputs": []
    },
    {
      "cell_type": "markdown",
      "source": [
        "Next task:\n",
        "For different problem instances, do the following:\n",
        "\n",
        "1. Running average: magnetization. **(DONE)**\n",
        "\n",
        "2.  For first few relevant states (high probability), check how many times were those states accepted/rejected out of total number of iterations considered for the prob distn. **(CODE IS COMPLETE, NOW WE NEED TO RUN SOME EXPERIEMENTS)**\n",
        "\n",
        "3. Overlap with the desired distribution.\n"
      ],
      "metadata": {
        "id": "7fkk5Z-9PAYb"
      }
    },
    {
      "cell_type": "markdown",
      "source": [
        "## Running average; magnetization"
      ],
      "metadata": {
        "id": "CKgLUKukDne0"
      }
    },
    {
      "cell_type": "code",
      "source": [
        "def get_distn(list_of_samples:list)-> dict:\n",
        "  '''   \n",
        "  Returns the dictionary of distn for input list_of_samples\n",
        "  '''\n",
        "  len_list=len(list_of_samples)\n",
        "  temp_dict=Counter(list_of_samples)\n",
        "  temp_prob_list=np.array(list(temp_dict.values()))*(1./len_list)\n",
        "  dict_to_return=dict(zip( list(temp_dict.keys()), temp_prob_list))\n",
        "  return dict_to_return"
      ],
      "metadata": {
        "id": "v9RoyUmx1RAh"
      },
      "execution_count": null,
      "outputs": []
    },
    {
      "cell_type": "code",
      "source": [
        "def avg(dict_probabilities:dict, dict_observable_val_at_states:dict):\n",
        "  ''' \n",
        "  Returns average of any observable of interest\n",
        "\n",
        "  Args:\n",
        "  dict_probabilities= {state: probability}\n",
        "  dict_observable_val_at_states={state (same as that of dict_probabilities): observable's value at that state}\n",
        "\n",
        "  Returns:\n",
        "  avg\n",
        "  '''\n",
        "  len_dict=len(dict_probabilities)\n",
        "  temp_array=np.zeros((len_dict,))\n",
        "  temp_list=[dict_probabilities[j]*dict_observable_val_at_states[j] for j in (list(dict_probabilities.keys())) ]\n",
        "  avg=np.mean(temp_list)\n",
        "  return avg"
      ],
      "metadata": {
        "id": "JMwA0s1K3Zmd"
      },
      "execution_count": null,
      "outputs": []
    },
    {
      "cell_type": "code",
      "source": [
        "### function to get running average of magnetization\n",
        "def running_avg_magnetization(list_states_mcmc:list):\n",
        "  ''' \n",
        "  Returns the running average magnetization \n",
        "\n",
        "  Args:\n",
        "  list_states_mcmc= List of states aceepted after each MCMC step\n",
        "  '''\n",
        "  len_iters_mcmc=len(list_states_mcmc)\n",
        "  running_avg_mag={}\n",
        "  for i in tqdm(range(1,len_iters_mcmc)):\n",
        "    temp_list=list_states_mcmc[:i]#[:i]\n",
        "    temp_prob=get_distn(temp_list)\n",
        "    dict_mag_states_in_temp_prob=dict_magnetization_of_all_states(temp_list)\n",
        "    running_avg_mag[i]=avg(temp_prob, dict_mag_states_in_temp_prob)\n",
        "  return running_avg_mag"
      ],
      "metadata": {
        "id": "tQnApV5tHYVC"
      },
      "execution_count": null,
      "outputs": []
    },
    {
      "cell_type": "code",
      "source": [
        "check_cl=running_avg_magnetization(list_states_mcmc=cl_mcmc_after_accept)\n",
        "check_quant=running_avg_magnetization(list_states_mcmc=quant_mcmc_after_accept)"
      ],
      "metadata": {
        "id": "atvmYeWL0hvO",
        "outputId": "33f110b2-d51c-40e7-9a5a-173191095d4f",
        "colab": {
          "base_uri": "https://localhost:8080/"
        }
      },
      "execution_count": null,
      "outputs": [
        {
          "output_type": "stream",
          "name": "stderr",
          "text": [
            "100%|██████████| 599/599 [00:00<00:00, 843.07it/s]\n",
            "100%|██████████| 599/599 [00:00<00:00, 811.41it/s]\n"
          ]
        }
      ]
    },
    {
      "cell_type": "code",
      "source": [
        "def plot_dict_of_running_avg_observable(dict_running_avg:dict, observable_legend_label:str):\n",
        "  plt.plot(list(dict_running_avg.keys()), list(dict_running_avg.values()),\"-\" ,label=observable_legend_label)\n",
        "  plt.xlabel(\"MCMC iterations\")"
      ],
      "metadata": {
        "id": "z9noH1pb0ky4"
      },
      "execution_count": null,
      "outputs": []
    },
    {
      "cell_type": "code",
      "source": [
        "plt.figure(figsize=(20,7))\n",
        "magnetization_of_all_states=dict_magnetization_of_all_states(states_nbit)\n",
        "actual_avg_mag=avg(dict_probabilities=boltz_prob_distn, dict_observable_val_at_states=magnetization_of_all_states)\n",
        "plt.axhline(y=actual_avg_mag,linestyle=\":\", color=\"k\" ,label=\"Actual\")\n",
        "plot_dict_of_running_avg_observable(check_cl, \"Cl MCMC- Uniform\")\n",
        "plot_dict_of_running_avg_observable(check_quant, \"Quantum\")\n",
        "plt.legend()"
      ],
      "metadata": {
        "id": "ynfCYeiS50wQ",
        "outputId": "e7d5e285-be38-440e-fed3-f35d6c8d6253",
        "colab": {
          "base_uri": "https://localhost:8080/",
          "height": 460
        }
      },
      "execution_count": null,
      "outputs": [
        {
          "output_type": "execute_result",
          "data": {
            "text/plain": [
              "<matplotlib.legend.Legend at 0x7f308a901990>"
            ]
          },
          "metadata": {},
          "execution_count": 24
        },
        {
          "output_type": "display_data",
          "data": {
            "text/plain": [
              "<Figure size 1440x504 with 1 Axes>"
            ],
            "image/png": "[encoded data removed]"
          },
          "metadata": {
            "needs_background": "light"
          }
        }
      ]
    },
    {
      "cell_type": "markdown",
      "source": [
        "## Sampling related"
      ],
      "metadata": {
        "id": "sL_7qZNIEDeO"
      }
    },
    {
      "cell_type": "code",
      "source": [
        "# cl_mcmc_after_trsn, cl_mcmc_after_accept\n",
        "# quant_mcmc_after_trsn, quant_mcmc_after_accept \n",
        "\n",
        "def fn_numtimes_bitstring_not_accepted(list_after_trsn, list_after_accept, bitstring):\n",
        "\n",
        "  where_sprime_is_bitstr=list(np.where( np.array(list_after_trsn) == bitstring)[0])\n",
        "  where_bitstr_not_accepted=[k for k in where_sprime_is_bitstr if list_after_accept[k]!=bitstring]\n",
        "  numtimes_sprime_is_bitstring= len(where_sprime_is_bitstr)\n",
        "  numtimes_bitstring_not_accepted=len(where_bitstr_not_accepted)\n",
        "  return numtimes_bitstring_not_accepted, numtimes_sprime_is_bitstring\n",
        "\n",
        "def fn_states_not_accepted(list_states:list, list_after_trsn:list, list_after_accept:list):\n",
        "  list_numtimes_state_not_accepted=[fn_numtimes_bitstring_not_accepted(list_after_trsn, list_after_accept,k)[0] for k in list_states]\n",
        "  list_numtimes_sprime_is_state=[fn_numtimes_bitstring_not_accepted(list_after_trsn, list_after_accept,k)[1] for k in list_states]\n",
        "  dict_numtimes_states_not_accepted=dict(zip(list_states, list_numtimes_state_not_accepted))\n",
        "  dict_numtimes_sprime_is_state=dict(zip(list_states, list_numtimes_sprime_is_state))\n",
        "  return dict_numtimes_states_not_accepted, dict_numtimes_sprime_is_state\n",
        "\n",
        "aa,bb=fn_states_not_accepted(list_states=states_nbit, list_after_trsn=cl_mcmc_after_trsn, list_after_accept=cl_mcmc_after_accept)\n",
        "print(aa); print(bb)\n",
        "# fn_numtimes_bitstring_not_accepted(list_after_trsn=cl_mcmc_after_trsn, list_after_accept=cl_mcmc_after_accept,bitstring='0000')"
      ],
      "metadata": {
        "id": "s2_o7fwB6-Fy",
        "outputId": "592c8d65-afd8-4155-e5ba-56195d89b629",
        "colab": {
          "base_uri": "https://localhost:8080/"
        }
      },
      "execution_count": null,
      "outputs": [
        {
          "output_type": "stream",
          "name": "stdout",
          "text": [
            "{'00000000': 3, '00000001': 3, '00000010': 1, '00000011': 4, '00000100': 4, '00000101': 5, '00000110': 1, '00000111': 3, '00001000': 3, '00001001': 2, '00001010': 2, '00001011': 1, '00001100': 5, '00001101': 3, '00001110': 0, '00001111': 2, '00010000': 5, '00010001': 1, '00010010': 1, '00010011': 2, '00010100': 2, '00010101': 5, '00010110': 3, '00010111': 1, '00011000': 3, '00011001': 2, '00011010': 1, '00011011': 2, '00011100': 2, '00011101': 0, '00011110': 4, '00011111': 1, '00100000': 1, '00100001': 6, '00100010': 2, '00100011': 4, '00100100': 3, '00100101': 4, '00100110': 1, '00100111': 4, '00101000': 0, '00101001': 1, '00101010': 1, '00101011': 1, '00101100': 3, '00101101': 2, '00101110': 3, '00101111': 2, '00110000': 1, '00110001': 2, '00110010': 4, '00110011': 1, '00110100': 1, '00110101': 1, '00110110': 1, '00110111': 0, '00111000': 2, '00111001': 0, '00111010': 2, '00111011': 3, '00111100': 1, '00111101': 1, '00111110': 1, '00111111': 2, '01000000': 0, '01000001': 3, '01000010': 3, '01000011': 1, '01000100': 3, '01000101': 4, '01000110': 4, '01000111': 4, '01001000': 0, '01001001': 0, '01001010': 0, '01001011': 0, '01001100': 1, '01001101': 0, '01001110': 3, '01001111': 1, '01010000': 2, '01010001': 2, '01010010': 0, '01010011': 0, '01010100': 2, '01010101': 3, '01010110': 2, '01010111': 5, '01011000': 0, '01011001': 0, '01011010': 1, '01011011': 0, '01011100': 5, '01011101': 1, '01011110': 2, '01011111': 0, '01100000': 2, '01100001': 1, '01100010': 0, '01100011': 0, '01100100': 1, '01100101': 2, '01100110': 2, '01100111': 3, '01101000': 3, '01101001': 0, '01101010': 1, '01101011': 0, '01101100': 3, '01101101': 1, '01101110': 5, '01101111': 2, '01110000': 3, '01110001': 2, '01110010': 1, '01110011': 0, '01110100': 1, '01110101': 4, '01110110': 4, '01110111': 1, '01111000': 1, '01111001': 0, '01111010': 0, '01111011': 0, '01111100': 2, '01111101': 2, '01111110': 2, '01111111': 1, '10000000': 2, '10000001': 1, '10000010': 2, '10000011': 2, '10000100': 1, '10000101': 2, '10000110': 3, '10000111': 4, '10001000': 1, '10001001': 2, '10001010': 2, '10001011': 1, '10001100': 3, '10001101': 6, '10001110': 1, '10001111': 1, '10010000': 1, '10010001': 1, '10010010': 2, '10010011': 1, '10010100': 3, '10010101': 0, '10010110': 1, '10010111': 3, '10011000': 2, '10011001': 3, '10011010': 2, '10011011': 3, '10011100': 2, '10011101': 2, '10011110': 2, '10011111': 3, '10100000': 4, '10100001': 5, '10100010': 1, '10100011': 2, '10100100': 1, '10100101': 2, '10100110': 2, '10100111': 3, '10101000': 2, '10101001': 2, '10101010': 4, '10101011': 3, '10101100': 1, '10101101': 2, '10101110': 5, '10101111': 1, '10110000': 1, '10110001': 2, '10110010': 3, '10110011': 2, '10110100': 3, '10110101': 4, '10110110': 4, '10110111': 7, '10111000': 2, '10111001': 1, '10111010': 1, '10111011': 0, '10111100': 1, '10111101': 1, '10111110': 2, '10111111': 3, '11000000': 2, '11000001': 5, '11000010': 0, '11000011': 3, '11000100': 7, '11000101': 1, '11000110': 1, '11000111': 1, '11001000': 1, '11001001': 0, '11001010': 0, '11001011': 1, '11001100': 2, '11001101': 1, '11001110': 7, '11001111': 2, '11010000': 1, '11010001': 1, '11010010': 3, '11010011': 2, '11010100': 0, '11010101': 3, '11010110': 2, '11010111': 4, '11011000': 1, '11011001': 0, '11011010': 0, '11011011': 0, '11011100': 1, '11011101': 2, '11011110': 2, '11011111': 3, '11100000': 1, '11100001': 1, '11100010': 2, '11100011': 0, '11100100': 3, '11100101': 5, '11100110': 5, '11100111': 2, '11101000': 5, '11101001': 3, '11101010': 0, '11101011': 2, '11101100': 4, '11101101': 1, '11101110': 1, '11101111': 2, '11110000': 1, '11110001': 0, '11110010': 3, '11110011': 1, '11110100': 2, '11110101': 3, '11110110': 4, '11110111': 1, '11111000': 1, '11111001': 4, '11111010': 4, '11111011': 2, '11111100': 1, '11111101': 3, '11111110': 1, '11111111': 1}\n",
            "{'00000000': 3, '00000001': 3, '00000010': 1, '00000011': 4, '00000100': 4, '00000101': 5, '00000110': 1, '00000111': 3, '00001000': 3, '00001001': 4, '00001010': 2, '00001011': 1, '00001100': 5, '00001101': 4, '00001110': 0, '00001111': 2, '00010000': 5, '00010001': 1, '00010010': 1, '00010011': 2, '00010100': 2, '00010101': 5, '00010110': 3, '00010111': 1, '00011000': 3, '00011001': 3, '00011010': 1, '00011011': 3, '00011100': 2, '00011101': 2, '00011110': 4, '00011111': 1, '00100000': 1, '00100001': 6, '00100010': 2, '00100011': 4, '00100100': 3, '00100101': 4, '00100110': 1, '00100111': 4, '00101000': 0, '00101001': 1, '00101010': 2, '00101011': 3, '00101100': 3, '00101101': 5, '00101110': 3, '00101111': 2, '00110000': 1, '00110001': 2, '00110010': 5, '00110011': 1, '00110100': 1, '00110101': 1, '00110110': 1, '00110111': 0, '00111000': 2, '00111001': 3, '00111010': 2, '00111011': 4, '00111100': 1, '00111101': 3, '00111110': 1, '00111111': 2, '01000000': 2, '01000001': 3, '01000010': 5, '01000011': 2, '01000100': 3, '01000101': 4, '01000110': 4, '01000111': 4, '01001000': 1, '01001001': 1, '01001010': 1, '01001011': 3, '01001100': 2, '01001101': 2, '01001110': 3, '01001111': 1, '01010000': 2, '01010001': 2, '01010010': 4, '01010011': 0, '01010100': 2, '01010101': 3, '01010110': 2, '01010111': 5, '01011000': 0, '01011001': 0, '01011010': 5, '01011011': 1, '01011100': 5, '01011101': 2, '01011110': 3, '01011111': 4, '01100000': 3, '01100001': 1, '01100010': 1, '01100011': 1, '01100100': 1, '01100101': 2, '01100110': 2, '01100111': 3, '01101000': 3, '01101001': 2, '01101010': 3, '01101011': 1, '01101100': 3, '01101101': 4, '01101110': 5, '01101111': 2, '01110000': 3, '01110001': 2, '01110010': 1, '01110011': 2, '01110100': 1, '01110101': 4, '01110110': 4, '01110111': 2, '01111000': 1, '01111001': 0, '01111010': 1, '01111011': 1, '01111100': 2, '01111101': 3, '01111110': 2, '01111111': 3, '10000000': 2, '10000001': 1, '10000010': 3, '10000011': 2, '10000100': 1, '10000101': 2, '10000110': 3, '10000111': 4, '10001000': 1, '10001001': 2, '10001010': 3, '10001011': 1, '10001100': 3, '10001101': 6, '10001110': 1, '10001111': 1, '10010000': 1, '10010001': 1, '10010010': 2, '10010011': 1, '10010100': 3, '10010101': 0, '10010110': 1, '10010111': 3, '10011000': 2, '10011001': 3, '10011010': 2, '10011011': 3, '10011100': 2, '10011101': 2, '10011110': 2, '10011111': 3, '10100000': 4, '10100001': 5, '10100010': 1, '10100011': 2, '10100100': 1, '10100101': 2, '10100110': 2, '10100111': 3, '10101000': 2, '10101001': 3, '10101010': 4, '10101011': 4, '10101100': 1, '10101101': 2, '10101110': 5, '10101111': 1, '10110000': 1, '10110001': 2, '10110010': 3, '10110011': 2, '10110100': 3, '10110101': 4, '10110110': 4, '10110111': 7, '10111000': 2, '10111001': 1, '10111010': 1, '10111011': 0, '10111100': 1, '10111101': 1, '10111110': 2, '10111111': 3, '11000000': 2, '11000001': 5, '11000010': 2, '11000011': 3, '11000100': 7, '11000101': 1, '11000110': 1, '11000111': 1, '11001000': 2, '11001001': 0, '11001010': 1, '11001011': 5, '11001100': 2, '11001101': 1, '11001110': 7, '11001111': 2, '11010000': 1, '11010001': 1, '11010010': 3, '11010011': 2, '11010100': 0, '11010101': 3, '11010110': 2, '11010111': 4, '11011000': 1, '11011001': 0, '11011010': 2, '11011011': 2, '11011100': 1, '11011101': 2, '11011110': 2, '11011111': 4, '11100000': 2, '11100001': 1, '11100010': 4, '11100011': 0, '11100100': 3, '11100101': 5, '11100110': 5, '11100111': 2, '11101000': 5, '11101001': 3, '11101010': 0, '11101011': 4, '11101100': 4, '11101101': 1, '11101110': 1, '11101111': 2, '11110000': 1, '11110001': 0, '11110010': 3, '11110011': 1, '11110100': 2, '11110101': 3, '11110110': 4, '11110111': 1, '11111000': 1, '11111001': 4, '11111010': 4, '11111011': 2, '11111100': 1, '11111101': 3, '11111110': 1, '11111111': 1}\n"
          ]
        }
      ]
    },
    {
      "cell_type": "code",
      "source": [],
      "metadata": {
        "id": "qP7XoMFnUgdr"
      },
      "execution_count": null,
      "outputs": []
    },
    {
      "cell_type": "code",
      "source": [],
      "metadata": {
        "id": "XTgDq37vKC61"
      },
      "execution_count": null,
      "outputs": []
    }
  ],
  "metadata": {
    "kernelspec": {
      "display_name": "Python 3.8.8 ('base')",
      "language": "python",
      "name": "python3"
    },
    "language_info": {
      "codemirror_mode": {
        "name": "ipython",
        "version": 3
      },
      "file_extension": ".py",
      "mimetype": "text/x-python",
      "name": "python",
      "nbconvert_exporter": "python",
      "pygments_lexer": "ipython3",
      "version": "3.8.8"
    },
    "orig_nbformat": 4,
    "vscode": {
      "interpreter": {
        "hash": "184a4bfd18ed123440bfad7023e607e274d9f6c0bdada601c853a4367aa45839"
      }
    },
    "colab": {
      "provenance": [],
      "include_colab_link": true
    }
  },
  "nbformat": 4,
  "nbformat_minor": 0
}