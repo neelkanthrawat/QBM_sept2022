{
 "cells": [
  {
   "cell_type": "code",
   "execution_count": 1,
   "metadata": {},
   "outputs": [],
   "source": [
    "import numpy as np\n",
    "import matplotlib.pyplot as plt\n",
    "import pandas as pd"
   ]
  },
  {
   "cell_type": "code",
   "execution_count": 2,
   "metadata": {},
   "outputs": [],
   "source": [
    "from qbm_utils import *"
   ]
  },
  {
   "cell_type": "code",
   "execution_count": 4,
   "metadata": {},
   "outputs": [],
   "source": [
    "# define the model\n",
    "## put n_spins even always\n",
    "n_spins = 4\n",
    "\n",
    "## construct problem Hamiltonian ##\n",
    "shape_of_J=(n_spins,n_spins)\n",
    "J =  np.random.randn(n_spins,n_spins)#np.random.uniform(low= -1, high= 1, size= (n_spins, n_spins) )\n",
    "J = 0.5 * (J + J.transpose() )\n",
    "h = np.random.randn(n_spins)#np.random.uniform(low= -1, high = 1, size= (n_spins))\n",
    "\n",
    "# instantiate the model\n",
    "model = IsingEnergyFunction(J, h)\n",
    "\n",
    "alpha = np.sqrt(n_spins) / np.sqrt( sum([J[i][j]**2 for i in range(n_spins) for j in range(i)]) + sum([h[j]**2 for j in range(n_spins)])  )\n"
   ]
  },
  {
   "cell_type": "markdown",
   "metadata": {},
   "source": [
    "## Run quantum enhanced MCMC"
   ]
  },
  {
   "cell_type": "code",
   "execution_count": 16,
   "metadata": {},
   "outputs": [],
   "source": [
    "def quantum_enhanced_mcmc(N_hops:int, num_spins:int, num_elems:int, model:IsingEnergyFunction, alpha, num_trotter_steps=10, return_last_n_states=500, return_both_classical_and_quantum_steps=False):\n",
    "    ''' \n",
    "    version 0.2\n",
    "    Args: \n",
    "    Nhops: Number of time you want to run mcmc\n",
    "    num_spins: number of spins\n",
    "    num_elems: 2**(num_spins)\n",
    "\n",
    "    Returns:\n",
    "    Last 'return_last_n_states' elements of states so collected (default value=500). one can then deduce the distribution from it! \n",
    "    '''\n",
    "    states=[]\n",
    "    current_state=f'{np.random.randint(0,num_elems):0{num_spins}b}'# bin_next_state=f'{next_state:0{num_spins}b}'\n",
    "    print(\"starting with: \", current_state) \n",
    "    ## initialise quantum circuit to current_state\n",
    "    qc_s=initialise_qc(n_spins=num_spins, bitstring=current_state)\n",
    "    #print(\"qc_s is:\"); print(qc_s.draw())\n",
    "\n",
    "    ## intialise observables\n",
    "    #observable_dict = dict([ ( elem, []  ) for elem in observables ])\n",
    "    list_after_transition=[]\n",
    "    list_after_acceptance_step=[]\n",
    "\n",
    "    for i in tqdm(range(0, N_hops)):\n",
    "        #print(\"i: \", i)\n",
    "        states.append(current_state)\n",
    "        # get sprime\n",
    "        s_prime=run_qc_quantum_step(qc_initialised_to_s=qc_s, model= model, alpha=alpha, n_spins=num_spins, num_trotter_steps=num_trotter_steps, time=0.8)\n",
    "        list_after_transition.append(s_prime)\n",
    "        # accept/reject s_prime \n",
    "        energy_s=model.get_energy(current_state)\n",
    "        energy_sprime=model.get_energy(s_prime)\n",
    "        next_state= classical_loop_accepting_state(current_state, s_prime, energy_s, energy_sprime,temp=1)\n",
    "        \n",
    "        if current_state!=next_state:# this seems to be a redundant step. I could have set current_state=classical_loop_accepting_state(current_state, s_prime, energy_s, energy_sprime,temp=1)\n",
    "          current_state= next_state\n",
    "        list_after_acceptance_step.append(current_state)\n",
    "\n",
    "        # if store_observables:  ## store the observables \n",
    "          \n",
    "        #   if next_state == s_prime: observable_dict['acceptance'].append('True')\n",
    "        #   else: observable_dict['acceptance'].append('False')\n",
    "        #   observable_dict['energy'].append(model.get_energy(next_state))\n",
    "\n",
    "        ## reinitiate\n",
    "        qc_s=initialise_qc(n_spins=num_spins, bitstring=current_state)\n",
    "      \n",
    "    dict_count_return_last_n_states=Counter(states[-return_last_n_states:])#dictionary of occurences for last \"return_last_n_states\" states\n",
    "\n",
    "    if return_both_classical_and_quantum_steps: \n",
    "      to_return= dict_count_return_last_n_states, list_after_transition, list_after_acceptance_step\n",
    "    else: \n",
    "      to_return= dict_count_return_last_n_states\n",
    "\n",
    "    return to_return"
   ]
  },
  {
   "cell_type": "code",
   "execution_count": 44,
   "metadata": {},
   "outputs": [
    {
     "name": "stdout",
     "output_type": "stream",
     "text": [
      "dict_magnetization:\n",
      "{'0000': -4, '0001': -2, '0010': -2, '0011': 0, '0100': -2, '0101': 0, '0110': 0, '0111': 2, '1000': -2, '1001': 0, '1010': 0, '1011': 2, '1100': 0, '1101': 2, '1110': 2, '1111': 4}\n"
     ]
    }
   ],
   "source": [
    "def states(num_spins:int)->str:\n",
    "    num_possible_states=2**(num_spins)\n",
    "    possible_states=[f'{k:0{num_spins}b}' for k in range(0,num_possible_states)]\n",
    "    return possible_states\n",
    "\n",
    "def magnetization_of_state(bitstring:str)->float:\n",
    "    array=np.array(list(bitstring))\n",
    "    num_times_one=np.count_nonzero(array=='1')\n",
    "    num_times_zero=len(array)-num_times_one\n",
    "    magnetization=num_times_one-num_times_zero\n",
    "    return magnetization\n",
    "\n",
    "def dict_magnetization_of_all_states(list_all_possible_states:list)->dict:\n",
    "    list_mag_vals=[magnetization_of_state(state) for state in list_all_possible_states]\n",
    "    dict_magnetization=dict(zip(list_all_possible_states, list_mag_vals ))\n",
    "    print(\"dict_magnetization:\"); print(dict_magnetization)\n",
    "    return dict_magnetization\n",
    "\n",
    "states=states(num_spins=4)\n",
    "dict_mag=dict_magnetization_of_all_states(states)"
   ]
  },
  {
   "cell_type": "code",
   "execution_count": 18,
   "metadata": {},
   "outputs": [
    {
     "name": "stderr",
     "output_type": "stream",
     "text": [
      "  0%|          | 0/5 [00:00<?, ?it/s]"
     ]
    },
    {
     "name": "stdout",
     "output_type": "stream",
     "text": [
      "starting with:  1100\n"
     ]
    },
    {
     "name": "stderr",
     "output_type": "stream",
     "text": [
      "100%|██████████| 5/5 [00:02<00:00,  2.24it/s]\n"
     ]
    },
    {
     "data": {
      "image/png": "[encoded data removed]",
      "text/plain": [
       "<Figure size 1080x504 with 1 Axes>"
      ]
     },
     "execution_count": 18,
     "metadata": {},
     "output_type": "execute_result"
    }
   ],
   "source": [
    "# symmetric uniform transition matrix for uniform transition rule\n",
    "num_spins=4\n",
    "num_elems=2**(num_spins)\n",
    "transit_mat=np.ones((num_elems,num_elems))*(1./(2*num_elems))# in general case transit matrix could be entirely different\n",
    "np.fill_diagonal(transit_mat, 1./2)\n",
    "\n",
    "# Run MCMC with uniform random transition strategy\n",
    "N_hops=5\n",
    "dict_states_quantum_mcmc, _, _=quantum_enhanced_mcmc(N_hops, \n",
    "num_spins, num_elems, model, alpha, num_trotter_steps=10, \n",
    "return_last_n_states=3,return_both_classical_and_quantum_steps=True)\n",
    "\n",
    "# get actual probability distribution\n",
    "transits_bltz = dict( [ ( state, model.get_boltzmann_prob(state) ) for state in dict_states_quantum_mcmc.keys() ] )\n",
    "# plot actual prob distribution as well as one obtained from MCMC\n",
    "plot_histogram( [transits_bltz, dict_states_quantum_mcmc] , figsize=(15, 7), legend= ['model', 'Quantum-enhanced MCMC' ])#, sort= 'value_desc')"
   ]
  },
  {
   "cell_type": "code",
   "execution_count": 13,
   "metadata": {},
   "outputs": [
    {
     "data": {
      "text/plain": [
       "(Counter({'0010': 1, '0001': 2}),\n",
       "   acceptance    energy\n",
       " 0       True -0.397840\n",
       " 1       True -0.403041\n",
       " 2       True  0.764179\n",
       " 3      False  0.764179\n",
       " 4       True  2.243997)"
      ]
     },
     "execution_count": 13,
     "metadata": {},
     "output_type": "execute_result"
    }
   ],
   "source": [
    "dict_states_quantum_mcmc"
   ]
  },
  {
   "cell_type": "code",
   "execution_count": null,
   "metadata": {},
   "outputs": [],
   "source": []
  }
 ],
 "metadata": {
  "kernelspec": {
   "display_name": "Python 3.8.8 ('base')",
   "language": "python",
   "name": "python3"
  },
  "language_info": {
   "codemirror_mode": {
    "name": "ipython",
    "version": 3
   },
   "file_extension": ".py",
   "mimetype": "text/x-python",
   "name": "python",
   "nbconvert_exporter": "python",
   "pygments_lexer": "ipython3",
   "version": "3.8.8"
  },
  "orig_nbformat": 4,
  "vscode": {
   "interpreter": {
    "hash": "184a4bfd18ed123440bfad7023e607e274d9f6c0bdada601c853a4367aa45839"
   }
  }
 },
 "nbformat": 4,
 "nbformat_minor": 2
}
