{
  "cells": [
    {
      "cell_type": "markdown",
      "metadata": {
        "id": "view-in-github",
        "colab_type": "text"
      },
      "source": [
        "<a href=\"https://colab.research.google.com/github/neelkanthrawat/QBM_sept2022/blob/main/qbm_codes/mcmc_cl_and_quant.ipynb\" target=\"_parent\"><img src=\"https://colab.research.google.com/assets/colab-badge.svg\" alt=\"Open In Colab\"/></a>"
      ]
    },
    {
      "cell_type": "code",
      "execution_count": 1,
      "metadata": {
        "id": "Y4spUofDctBa"
      },
      "outputs": [],
      "source": [
        "import numpy as np\n",
        "import matplotlib.pyplot as plt\n",
        "import pandas as pd\n",
        "from tqdm import tqdm\n",
        "from collections import Counter"
      ]
    },
    {
      "cell_type": "code",
      "execution_count": null,
      "metadata": {
        "id": "lA8v1Yk7ctBf"
      },
      "outputs": [],
      "source": [
        "!pip install qiskit ipywidgets # while working on google colab!"
      ]
    },
    {
      "cell_type": "code",
      "execution_count": 3,
      "metadata": {
        "colab": {
          "base_uri": "https://localhost:8080/"
        },
        "id": "h0FQNQpIctBh",
        "outputId": "624b5846-eb2f-495e-aa94-f846dd6c0e7f"
      },
      "outputs": [
        {
          "output_type": "stream",
          "name": "stdout",
          "text": [
            "--2022-10-25 14:03:36--  https://raw.githubusercontent.com/neelkanthrawat/QBM_sept2022/main/qbm_codes/qbm_utils_2.py\n",
            "Resolving raw.githubusercontent.com (raw.githubusercontent.com)... 185.199.109.133, 185.199.108.133, 185.199.111.133, ...\n",
            "Connecting to raw.githubusercontent.com (raw.githubusercontent.com)|185.199.109.133|:443... connected.\n",
            "HTTP request sent, awaiting response... 200 OK\n",
            "Length: 27243 (27K) [text/plain]\n",
            "Saving to: ‘qbm_utils_2.py’\n",
            "\n",
            "\rqbm_utils_2.py        0%[                    ]       0  --.-KB/s               \rqbm_utils_2.py      100%[===================>]  26.60K  --.-KB/s    in 0.001s  \n",
            "\n",
            "2022-10-25 14:03:36 (17.7 MB/s) - ‘qbm_utils_2.py’ saved [27243/27243]\n",
            "\n"
          ]
        }
      ],
      "source": [
        "# while working on google colab, run this cell\n",
        "!wget https://raw.githubusercontent.com/neelkanthrawat/QBM_sept2022/main/qbm_codes/qbm_utils_2.py"
      ]
    },
    {
      "cell_type": "code",
      "execution_count": 4,
      "metadata": {
        "id": "7iC6yy54ctBh"
      },
      "outputs": [],
      "source": [
        "from qbm_utils_2 import *"
      ]
    },
    {
      "cell_type": "markdown",
      "metadata": {
        "id": "bkr0xkNLctBi"
      },
      "source": [
        "### Define the model"
      ]
    },
    {
      "cell_type": "code",
      "execution_count": 5,
      "metadata": {
        "colab": {
          "base_uri": "https://localhost:8080/"
        },
        "id": "7DaTGgKPctBl",
        "outputId": "e85e5f87-6afc-40a4-e94a-20a3721237d1"
      },
      "outputs": [
        {
          "output_type": "stream",
          "name": "stdout",
          "text": [
            "J after: [[ 0.    -0.145 -0.35  -0.085  0.09  -1.245  0.93   0.04 ]\n",
            " [-0.145  0.     0.29  -1.37  -0.585 -0.635  0.875 -0.085]\n",
            " [-0.35   0.29   0.     0.23  -0.885  0.195  0.6    0.395]\n",
            " [-0.085 -1.37   0.23   0.    -0.14   1.11  -0.52   0.245]\n",
            " [ 0.09  -0.585 -0.885 -0.14   0.     0.14   0.26  -0.005]\n",
            " [-1.245 -0.635  0.195  1.11   0.14   0.    -0.08   1.675]\n",
            " [ 0.93   0.875  0.6   -0.52   0.26  -0.08   0.     0.55 ]\n",
            " [ 0.04  -0.085  0.395  0.245 -0.005  1.675  0.55   0.   ]]\n",
            "h is: [ 0.49 -0.08  1.13  1.52  2.19 -1.4  -1.44 -0.5 ]\n",
            "alpha:  0.5640831659646375\n"
          ]
        }
      ],
      "source": [
        "# define the model\n",
        "np.random.seed(1)# should always be in the same cell!  \n",
        "n_spins = 8\n",
        "\n",
        "## construct problem Hamiltonian ##\n",
        "shape_of_J=(n_spins,n_spins)\n",
        "\n",
        "# defining J matrix (mutual 1-1 interaction)\n",
        "J =  np.round(np.random.randn(n_spins,n_spins), decimals=2)#np.random.uniform(low= -1, high= 1, size= (n_spins, n_spins) )\n",
        "J = 0.5 * (J + J.transpose() )\n",
        "# print(\"J before:\"); print(J)\n",
        "J= J - np.diag(np.diag(J))\n",
        "\n",
        "# J=np.array([[0,1,0.5,-1],[1,0,0.3,0.5],[0.5,0.3,0,1],[-1,0.5,1,0]])\n",
        "print(\"J after:\", J)\n",
        "\n",
        "# defining h\n",
        "h = np.round(np.random.randn(n_spins), decimals=2)#np.random.uniform(low= -1, high = 1, size= (n_spins))\n",
        "# h=np.array([0.5]*n_spins)\n",
        "print(\"h is:\", h)\n",
        "\n",
        "# instantiate the model\n",
        "model = IsingEnergyFunction(J, h)\n",
        "# print(model.get_energy('0100'))\n",
        "alpha = np.sqrt(n_spins) / np.sqrt( sum([J[i][j]**2 for i in range(n_spins) for j in range(i)]) + sum([h[j]**2 for j in range(n_spins)])  )\n",
        "print(\"alpha: \", alpha)"
      ]
    },
    {
      "cell_type": "markdown",
      "metadata": {
        "id": "GKufwMofctBq"
      },
      "source": [
        "### Get the true distribution"
      ]
    },
    {
      "cell_type": "code",
      "execution_count": 6,
      "metadata": {
        "id": "A3RrDZK_ctBx"
      },
      "outputs": [],
      "source": [
        "def true_boltzman_distn(n_spins:int, temp:int, model, wanna_plot=False):\n",
        "\n",
        "    states_nbit=states(num_spins=n_spins)# arranged in ascending order in magnitude\n",
        "    # Actual_probability distribution\n",
        "    transits_bltz = dict( [ ( state, model.get_boltzmann_prob(state, beta=1./temp) ) for state in states_nbit ] )\n",
        "    rqd_sum=np.sum(np.array(list(transits_bltz.values())))\n",
        "    prob_vals=list(np.array(list(transits_bltz.values()))*(1./rqd_sum))\n",
        "    ### Prob distribution, sorted in descending order of prob values\n",
        "    boltz_prob_distn=value_sorted_dict( dict(zip(states_nbit, prob_vals )), reverse=True )\n",
        "    # plot distribution\n",
        "    if wanna_plot:\n",
        "        plt.figure(2)\n",
        "    #plot_histogram([boltz_prob_distn], legend=[\"analytical\"], sort=\"value_desc\")\n",
        "    plot_bargraph_desc_order(boltz_prob_distn, label=\"analytical\",plot_first_few=20); plt.legend()\n",
        "    return boltz_prob_distn"
      ]
    },
    {
      "cell_type": "code",
      "execution_count": 7,
      "metadata": {
        "colab": {
          "base_uri": "https://localhost:8080/",
          "height": 306
        },
        "id": "Zs21bQBjctBy",
        "outputId": "1501126d-a228-447c-f361-daeeb33f8529"
      },
      "outputs": [
        {
          "output_type": "display_data",
          "data": {
            "text/plain": [
              "<Figure size 432x288 with 1 Axes>"
            ],
            "image/png": "[encoded data removed]"
          },
          "metadata": {
            "needs_background": "light"
          }
        }
      ],
      "source": [
        "states_nbit=states(num_spins=n_spins)\n",
        "temp=0.35\n",
        "boltz_prob_distn=true_boltzman_distn(n_spins, temp=temp, model=model, wanna_plot=True)"
      ]
    },
    {
      "cell_type": "code",
      "execution_count": 8,
      "metadata": {
        "colab": {
          "base_uri": "https://localhost:8080/"
        },
        "id": "434x-YDOctB1",
        "outputId": "58937ecf-b3e1-44ea-8df2-caeec3042b94"
      },
      "outputs": [
        {
          "output_type": "stream",
          "name": "stdout",
          "text": [
            "actual_avg_mag:  -3.9452232402199825\n"
          ]
        }
      ],
      "source": [
        "mag_all_states=dict_magnetization_of_all_states(list_all_possible_states=states_nbit)\n",
        "actual_avg_mag=avg(dict_probabilities=boltz_prob_distn, dict_observable_val_at_states=mag_all_states)\n",
        "print(\"actual_avg_mag: \",actual_avg_mag)"
      ]
    },
    {
      "cell_type": "markdown",
      "metadata": {
        "id": "1crl98pgctB2"
      },
      "source": [
        "### Function to run different number of chains of mcmc for a particular problem instance"
      ]
    },
    {
      "cell_type": "code",
      "execution_count": 9,
      "metadata": {
        "id": "bQV__B7tctB4"
      },
      "outputs": [],
      "source": [
        "def run_mcmc_different_chains(num_spins:int, \n",
        "N_hops:int,num_seperate_mcmc_chains:int ,model,temp:float, \n",
        "return_last_n_states:int,return_both=False, is_quantum_mcmc=False, alpha=None ):\n",
        "\n",
        "    num_elems=2**(num_spins)\n",
        "    dict_seperate_chains_states_distn_mcmc={}\n",
        "    dict_seperate_chains_sprime_mcmc={}\n",
        "    dict_seperate_chains_accepted_mcmc={}\n",
        "    dict_seperate_chains_counts_based_on_hamming_dist={}\n",
        "    dict_seperate_chains_energy_diff_s_and_sprime={}# for plotting histogram\n",
        "    poss_states=list(range(0,num_elems))\n",
        "    print(f\"Whether running quantum mcmc:{is_quantum_mcmc}\")\n",
        "    for chain_num in tqdm(range(0,num_seperate_mcmc_chains)):\n",
        "        init_state=np.random.choice(poss_states)\n",
        "        poss_states.remove(init_state)# to ensure that each mcmc chain starts with a different initial state\n",
        "        initial_state=f'{init_state:0{num_spins}b}'#f'{np.random.randint(0,num_elems):0{num_spins}b}'\n",
        "        if is_quantum_mcmc:\n",
        "            dict_states_mcmc, cl_mcmc_after_trsn, cl_mcmc_after_accept =quantum_enhanced_mcmc(N_hops, num_spins, \n",
        "                                                                                initial_state,\n",
        "                                                                                num_elems,model, \n",
        "                                                                                alpha,return_last_n_states=return_last_n_states,\n",
        "                                                                                return_both=True, temp=temp)\n",
        "        else:\n",
        "            dict_states_mcmc, cl_mcmc_after_trsn, cl_mcmc_after_accept =classical_mcmc(N_hops, num_spins, \n",
        "                                                                                initial_state,\n",
        "                                                                                num_elems,model, \n",
        "                                                                                return_last_n_states=return_last_n_states,\n",
        "                                                                                return_both=True, temp=temp)                                                                        \n",
        "        # sorting states in descending order of values(# occurences in mcmc chains)  for keys(states) \n",
        "        dict_states_mcmc_sorted_desc=value_sorted_dict(dict_states_mcmc, reverse=True)\n",
        "        #storing in a dict\n",
        "        dict_seperate_chains_states_distn_mcmc[chain_num]=dict_states_mcmc_sorted_desc\n",
        "        dict_seperate_chains_sprime_mcmc[chain_num]=cl_mcmc_after_trsn\n",
        "        dict_seperate_chains_accepted_mcmc[chain_num]=cl_mcmc_after_accept\n",
        "        dict_seperate_chains_energy_diff_s_and_sprime[chain_num]=energy_difference_related_counts(num_spins, cl_mcmc_after_trsn, cl_mcmc_after_accept, model_in=model)\n",
        "        dict_seperate_chains_counts_based_on_hamming_dist[chain_num]=hamming_dist_related_counts(num_spins, cl_mcmc_after_trsn, cl_mcmc_after_accept)\n",
        "\n",
        "    return dict_seperate_chains_states_distn_mcmc, dict_seperate_chains_sprime_mcmc, dict_seperate_chains_accepted_mcmc, dict_seperate_chains_energy_diff_s_and_sprime,dict_seperate_chains_counts_based_on_hamming_dist\n"
      ]
    },
    {
      "cell_type": "code",
      "execution_count": null,
      "metadata": {
        "id": "Qp0pEbzWctB6"
      },
      "outputs": [],
      "source": [
        "# 10 seperate chains of classical mcmc for the given problem instance\n",
        "N_hops=600;num_seperate_mcmc_chains=8; return_last_n_states=N_hops\n",
        "dict_seperate_chains_states_distn_mcmc, dict_seperate_chains_sprime_mcmc, dict_seperate_chains_accepted_mcmc, dict_seperate_chains_energy_diff_s_and_sprime,dict_seperate_chains_counts_based_on_hamming_dist=run_mcmc_different_chains(n_spins, \n",
        "N_hops, num_seperate_mcmc_chains,\n",
        "model, temp=temp, return_last_n_states=return_last_n_states,\n",
        "return_both=True )"
      ]
    },
    {
      "cell_type": "code",
      "execution_count": 11,
      "metadata": {
        "colab": {
          "base_uri": "https://localhost:8080/",
          "height": 592
        },
        "id": "FHxrMf5ActB8",
        "outputId": "24dca9d1-53fe-4f65-fd94-3dc4e92341db"
      },
      "outputs": [
        {
          "output_type": "stream",
          "name": "stderr",
          "text": [
            "100%|██████████| 599/599 [00:00<00:00, 801.37it/s]\n",
            "100%|██████████| 599/599 [00:00<00:00, 812.34it/s]\n",
            "100%|██████████| 599/599 [00:00<00:00, 810.94it/s]\n",
            "100%|██████████| 599/599 [00:00<00:00, 812.03it/s]\n",
            "100%|██████████| 599/599 [00:00<00:00, 794.55it/s]\n",
            "100%|██████████| 599/599 [00:00<00:00, 791.89it/s]\n",
            "100%|██████████| 599/599 [00:00<00:00, 789.23it/s]\n",
            "100%|██████████| 599/599 [00:00<00:00, 810.62it/s]\n"
          ]
        },
        {
          "output_type": "execute_result",
          "data": {
            "text/plain": [
              "<matplotlib.legend.Legend at 0x7f210b238650>"
            ]
          },
          "metadata": {},
          "execution_count": 11
        },
        {
          "output_type": "display_data",
          "data": {
            "text/plain": [
              "<Figure size 720x504 with 1 Axes>"
            ],
            "image/png": "[encoded data removed]"
          },
          "metadata": {
            "needs_background": "light"
          }
        }
      ],
      "source": [
        "### data for plotting running average magnetization 5 cases seperately:\n",
        "first_few=N_hops# \n",
        "#cl_running_avg_magzn=[running_avg_magnetization(list_states_mcmc=dict_seperate_chains_accepted_mcmc[m][:first_few+1]) for m in range(0,num_seperate_mcmc_chains)]\n",
        "dict_for_df_running_avg_seperate_mcmc={}\n",
        "for m in range(0, num_seperate_mcmc_chains):\n",
        "  dict_for_df_running_avg_seperate_mcmc[m]=list(running_avg_magnetization(list_states_mcmc=dict_seperate_chains_accepted_mcmc[m][:first_few+1]).values())\n",
        "\n",
        "running_avg_df=pd.DataFrame(dict_for_df_running_avg_seperate_mcmc)\n",
        "mean_magnetization=running_avg_df.mean(axis=1)# mean taken over all seperate mcmc chains\n",
        "\n",
        "plt.figure(figsize=(10,7))\n",
        "magnetization_of_all_states=dict_magnetization_of_all_states(states_nbit)\n",
        "actual_avg_mag=avg(dict_probabilities=boltz_prob_distn, dict_observable_val_at_states=magnetization_of_all_states)\n",
        "plt.plot(mean_magnetization,\":\" ,label=\"Cl mcmc\")\n",
        "plt.axhline(y=actual_avg_mag,linestyle=\"-\", color=\"k\" ,label=\"Actual\")\n",
        "plt.legend()"
      ]
    },
    {
      "cell_type": "code",
      "execution_count": 12,
      "metadata": {
        "id": "sDaxuS9BctB9"
      },
      "outputs": [],
      "source": [
        "# pandas data_frame for prob distn obtained from different mcmc chains\n",
        "def fn_get_dataframe_diff_mcmc_chains_same_problem_instance(dict_seperate_chains_states_mcmc):\n",
        "    df=pd.DataFrame(dict_seperate_chains_states_mcmc)\n",
        "    df=df.fillna(0)\n",
        "    return df\n",
        "\n",
        "def get_dict_mean_occurences(df_seperate_chains_mcmc_states_occurences):\n",
        "    mean_occurences=df_seperate_chains_mcmc_states_occurences.mean(axis=1)\n",
        "    #print(\"mean occurences:\"); print(mean_occurences)\n",
        "    #print(f\"type(mean_occurences): {type(mean_occurences)}\")\n",
        "    dict_mean_occurences=mean_occurences.to_dict()# mean number of occurences; we took mean of data obtained for mcmc chains\n",
        "    # plt.figure(1); mean_occurences.plot.bar()\n",
        "    return dict_mean_occurences\n",
        "\n",
        "def get_empirical_distn(dict_mean_occurences):\n",
        "    empirical_probs=list(np.array(list(dict_mean_occurences.values()))*(1./return_last_n_states))\n",
        "    ### Prob distribution, sorted in descending order of prob values\n",
        "    dict_empirical_prob_distn=dict(zip(list(dict_mean_occurences.keys()), empirical_probs ))\n",
        "    return dict_empirical_prob_distn\n",
        "\n",
        "\n",
        "## KL DIVERGENCE\n",
        "def kl_divergence(dict_prob_distn_data,dict_prob_distn_model):\n",
        "    ''' Borrowed from an old notebook''' \n",
        "    list_prob_model=list(dict_prob_distn_data.values())\n",
        "    list_prob_data=list(dict_prob_distn_model.values())\n",
        "    \n",
        "    to_return=0\n",
        "    for i in range(0,len(list_prob_model)):\n",
        "        if(list_prob_data[i]== 0):\n",
        "            to_return+= 0\n",
        "        if(list_prob_model[i]!= 0):\n",
        "            to_return+=list_prob_data[i]*np.log(list_prob_model[i]/list_prob_data[i])\n",
        "    to_return=(-1)*to_return\n",
        "    \n",
        "    return to_return"
      ]
    },
    {
      "cell_type": "code",
      "execution_count": 13,
      "metadata": {
        "colab": {
          "base_uri": "https://localhost:8080/",
          "height": 487
        },
        "id": "G8UZANBnctB-",
        "outputId": "add0ebe6-2027-47fa-fec8-822e81309daf"
      },
      "outputs": [
        {
          "output_type": "display_data",
          "data": {
            "text/plain": [
              "<Figure size 432x288 with 0 Axes>"
            ]
          },
          "metadata": {}
        },
        {
          "output_type": "display_data",
          "data": {
            "text/plain": [
              "<Figure size 720x504 with 1 Axes>"
            ],
            "image/png": "[encoded data removed]"
          },
          "metadata": {
            "needs_background": "light"
          }
        }
      ],
      "source": [
        "### for classical mcmc\n",
        "df_1=fn_get_dataframe_diff_mcmc_chains_same_problem_instance(dict_seperate_chains_states_distn_mcmc)\n",
        "dict_mean_occurences=get_dict_mean_occurences(df_1)\n",
        "dict_empirical_cl_prob_distn=get_empirical_distn(dict_mean_occurences)\n",
        "\n",
        "plt.figure(1)\n",
        "plot_multiple_bargraphs(list_of_dicts=[boltz_prob_distn, dict_empirical_cl_prob_distn],\n",
        "                        list_labels=[\"analytical\",\"classical-uniform MCMC\"],\n",
        "                        list_normalise=[False,False] ,plot_first_few=10,  \n",
        "                        sort_desc=True,figsize=(10,7))"
      ]
    },
    {
      "cell_type": "code",
      "execution_count": 14,
      "metadata": {
        "colab": {
          "base_uri": "https://localhost:8080/"
        },
        "id": "KyS-4_r1ctCA",
        "outputId": "a44adca5-6ed3-4f7c-b080-872c91e53d14"
      },
      "outputs": [
        {
          "output_type": "execute_result",
          "data": {
            "text/plain": [
              "0.5250069654814651"
            ]
          },
          "metadata": {},
          "execution_count": 14
        }
      ],
      "source": [
        "kl_divergence(dict_empirical_cl_prob_distn,boltz_prob_distn)"
      ]
    },
    {
      "cell_type": "markdown",
      "metadata": {
        "id": "xD-dnVTbctCB"
      },
      "source": [
        "### Quantum enhanced MCMC"
      ]
    },
    {
      "cell_type": "code",
      "execution_count": null,
      "metadata": {
        "id": "jEKd8YaectCC"
      },
      "outputs": [],
      "source": [
        "# 10 seperate chains of quantum mcmc for the given problem instance\n",
        "N_hops=600;num_seperate_mcmc_chains=8; return_last_n_states=N_hops\n",
        "dict_seperate_chains_states_distn_mcmc_q, dict_seperate_chains_sprime_mcmc_q, dict_seperate_chains_accepted_mcmc_q, dict_seperate_chains_energy_diff_s_and_sprime_q,dict_seperate_chains_counts_based_on_hamming_dist_q=run_mcmc_different_chains(n_spins, \n",
        "N_hops, num_seperate_mcmc_chains,\n",
        "model, temp=temp, return_last_n_states=return_last_n_states,\n",
        "return_both=True, is_quantum_mcmc=True, alpha=alpha )"
      ]
    },
    {
      "cell_type": "code",
      "execution_count": null,
      "metadata": {
        "id": "8eIF_jqdctCD"
      },
      "outputs": [],
      "source": [
        "# print(\"dict_seperate_chains_states_distn_mcmc_q\")\n",
        "# print(dict_seperate_chains_states_distn_mcmc_q)\n",
        "# print(\"dict_seperate_chains_sprime_mcmc_q\")\n",
        "# print(dict_seperate_chains_sprime_mcmc_q)\n",
        "# print(\"dict_seperate_chains_accepted_mcmc_q\")\n",
        "# print(dict_seperate_chains_accepted_mcmc_q)"
      ]
    },
    {
      "cell_type": "code",
      "execution_count": 16,
      "metadata": {
        "colab": {
          "base_uri": "https://localhost:8080/",
          "height": 592
        },
        "id": "droVL2bKctCF",
        "outputId": "027f57b6-2302-4b07-f2f0-166c50f15348"
      },
      "outputs": [
        {
          "output_type": "stream",
          "name": "stderr",
          "text": [
            "100%|██████████| 599/599 [00:00<00:00, 771.29it/s]\n",
            "100%|██████████| 599/599 [00:00<00:00, 800.17it/s]\n",
            "100%|██████████| 599/599 [00:00<00:00, 821.48it/s]\n",
            "100%|██████████| 599/599 [00:00<00:00, 781.03it/s]\n",
            "100%|██████████| 599/599 [00:00<00:00, 788.33it/s]\n",
            "100%|██████████| 599/599 [00:00<00:00, 798.96it/s]\n",
            "100%|██████████| 599/599 [00:00<00:00, 805.66it/s]\n",
            "100%|██████████| 599/599 [00:00<00:00, 815.56it/s]\n"
          ]
        },
        {
          "output_type": "execute_result",
          "data": {
            "text/plain": [
              "<matplotlib.legend.Legend at 0x7f2108957650>"
            ]
          },
          "metadata": {},
          "execution_count": 16
        },
        {
          "output_type": "display_data",
          "data": {
            "text/plain": [
              "<Figure size 720x504 with 1 Axes>"
            ],
            "image/png": "[encoded data removed]"
          },
          "metadata": {
            "needs_background": "light"
          }
        }
      ],
      "source": [
        "### data for plotting running average magnetization 5 cases seperately:\n",
        "first_few=N_hops# \n",
        "#cl_running_avg_magzn=[running_avg_magnetization(list_states_mcmc=dict_seperate_chains_accepted_mcmc[m][:first_few+1]) for m in range(0,num_seperate_mcmc_chains)]\n",
        "dict_for_df_running_avg_seperate_mcmc_q={}\n",
        "for m in range(0, num_seperate_mcmc_chains):\n",
        "  dict_for_df_running_avg_seperate_mcmc_q[m]=list(running_avg_magnetization(list_states_mcmc=dict_seperate_chains_accepted_mcmc_q[m][:first_few+1]).values())\n",
        "\n",
        "running_avg_q_df=pd.DataFrame(dict_for_df_running_avg_seperate_mcmc_q)\n",
        "mean_magnetization_q=running_avg_q_df.mean(axis=1)# mean taken over all seperate mcmc chains\n",
        "\n",
        "plt.figure(figsize=(10,7))\n",
        "magnetization_of_all_states=dict_magnetization_of_all_states(states_nbit)\n",
        "actual_avg_mag=avg(dict_probabilities=boltz_prob_distn, dict_observable_val_at_states=magnetization_of_all_states)\n",
        "plt.plot(mean_magnetization_q,\"-\" ,label=\"quant mcmc\")\n",
        "plt.plot(mean_magnetization,\"-\" ,label=\"classical mcmc\")\n",
        "plt.axhline(y=actual_avg_mag,linestyle=\"-\", color=\"k\" ,label=\"Actual\")\n",
        "plt.legend()"
      ]
    },
    {
      "cell_type": "code",
      "execution_count": 17,
      "metadata": {
        "colab": {
          "base_uri": "https://localhost:8080/",
          "height": 487
        },
        "id": "FFCb1B5DctCG",
        "outputId": "fc7a80bf-72d7-4db3-eef0-9cc439d1e192"
      },
      "outputs": [
        {
          "output_type": "display_data",
          "data": {
            "text/plain": [
              "<Figure size 432x288 with 0 Axes>"
            ]
          },
          "metadata": {}
        },
        {
          "output_type": "display_data",
          "data": {
            "text/plain": [
              "<Figure size 720x504 with 1 Axes>"
            ],
            "image/png": "[encoded data removed]"
          },
          "metadata": {
            "needs_background": "light"
          }
        }
      ],
      "source": [
        "### for quantum mcmc\n",
        "df_q=fn_get_dataframe_diff_mcmc_chains_same_problem_instance(dict_seperate_chains_states_distn_mcmc_q)\n",
        "dict_mean_occurences_q=get_dict_mean_occurences(df_q)\n",
        "dict_empirical_prob_distn_q=get_empirical_distn(dict_mean_occurences_q)\n",
        "\n",
        "plt.figure(1)\n",
        "plot_multiple_bargraphs(list_of_dicts=[boltz_prob_distn, dict_empirical_cl_prob_distn,dict_empirical_prob_distn_q],\n",
        "                        list_labels=[\"analytical\",\"Cl-MCMC\",\"Quant MCMC\"],\n",
        "                        list_normalise=[False,False,False] ,plot_first_few=10,  \n",
        "                        sort_desc=True,figsize=(10,7))"
      ]
    },
    {
      "cell_type": "code",
      "execution_count": 18,
      "metadata": {
        "colab": {
          "base_uri": "https://localhost:8080/"
        },
        "id": "4o8Nf5FXctCH",
        "outputId": "fb1ccbce-d7cc-4115-cb67-d543d3554275"
      },
      "outputs": [
        {
          "output_type": "stream",
          "name": "stdout",
          "text": [
            "KL divergence quantum case:\n",
            "0.2335946639384008\n",
            "KL divergence classical case:\n",
            "0.5250069654814651\n"
          ]
        }
      ],
      "source": [
        "print(\"KL divergence quantum case:\");\n",
        "print(kl_divergence(dict_empirical_prob_distn_q,boltz_prob_distn))\n",
        "print(\"KL divergence classical case:\")\n",
        "print(kl_divergence(dict_empirical_cl_prob_distn,boltz_prob_distn))"
      ]
    },
    {
      "cell_type": "code",
      "execution_count": null,
      "metadata": {
        "id": "BpkTMX6WctCI"
      },
      "outputs": [],
      "source": []
    }
  ],
  "metadata": {
    "kernelspec": {
      "display_name": "Python 3.8.8 ('base')",
      "language": "python",
      "name": "python3"
    },
    "language_info": {
      "codemirror_mode": {
        "name": "ipython",
        "version": 3
      },
      "file_extension": ".py",
      "mimetype": "text/x-python",
      "name": "python",
      "nbconvert_exporter": "python",
      "pygments_lexer": "ipython3",
      "version": "3.8.8"
    },
    "orig_nbformat": 4,
    "vscode": {
      "interpreter": {
        "hash": "184a4bfd18ed123440bfad7023e607e274d9f6c0bdada601c853a4367aa45839"
      }
    },
    "colab": {
      "provenance": [],
      "include_colab_link": true
    },
    "accelerator": "GPU"
  },
  "nbformat": 4,
  "nbformat_minor": 0
}