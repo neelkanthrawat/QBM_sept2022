{
 "cells": [
  {
   "cell_type": "code",
   "execution_count": 1,
   "metadata": {},
   "outputs": [],
   "source": [
    "import numpy as np\n",
    "import matplotlib.pyplot as plt\n",
    "import pandas as pd\n",
    "from tqdm import tqdm\n",
    "from collections import Counter"
   ]
  },
  {
   "cell_type": "code",
   "execution_count": null,
   "metadata": {},
   "outputs": [],
   "source": [
    "#!pip install qiskit ipywidgets # while working on google colab!"
   ]
  },
  {
   "cell_type": "code",
   "execution_count": null,
   "metadata": {},
   "outputs": [],
   "source": [
    "# while working on google colab, run this cell\n",
    "#!wget https://raw.githubusercontent.com/neelkanthrawat/QBM_sept2022/main/qbm_codes/qbm_utils_2.py"
   ]
  },
  {
   "cell_type": "code",
   "execution_count": 89,
   "metadata": {},
   "outputs": [],
   "source": [
    "from qbm_utils_2 import *"
   ]
  },
  {
   "cell_type": "markdown",
   "metadata": {},
   "source": [
    "### Define the model"
   ]
  },
  {
   "cell_type": "code",
   "execution_count": 91,
   "metadata": {},
   "outputs": [
    {
     "name": "stdout",
     "output_type": "stream",
     "text": [
      "J after: [[ 0.     0.13  -0.105 -0.695]\n",
      " [ 0.13   0.     0.745 -0.57 ]\n",
      " [-0.105  0.745  0.    -0.465]\n",
      " [-0.695 -0.57  -0.465  0.   ]]\n",
      "h is: [-0.17 -0.88  0.04  0.58]\n",
      "alpha:  1.206396381047913\n"
     ]
    }
   ],
   "source": [
    "# define the model\n",
    "np.random.seed(1)# should always be in the same cell!\n",
    "n_spins = 4\n",
    "\n",
    "## construct problem Hamiltonian ##\n",
    "shape_of_J=(n_spins,n_spins)\n",
    "\n",
    "# defining J matrix (mutual 1-1 interaction)\n",
    "J =  np.round(np.random.randn(n_spins,n_spins), decimals=2)#np.random.uniform(low= -1, high= 1, size= (n_spins, n_spins) )\n",
    "J = 0.5 * (J + J.transpose() )\n",
    "# print(\"J before:\"); print(J)\n",
    "J= J - np.diag(np.diag(J))\n",
    "\n",
    "# J=np.array([[0,1,0.5,-1],[1,0,0.3,0.5],[0.5,0.3,0,1],[-1,0.5,1,0]])\n",
    "print(\"J after:\", J)\n",
    "\n",
    "# defining h\n",
    "h = np.round(np.random.randn(n_spins), decimals=2)#np.random.uniform(low= -1, high = 1, size= (n_spins))\n",
    "# h=np.array([0.5]*n_spins)\n",
    "print(\"h is:\", h)\n",
    "\n",
    "# instantiate the model\n",
    "model = IsingEnergyFunction(J, h)\n",
    "# print(model.get_energy('0100'))\n",
    "alpha = np.sqrt(n_spins) / np.sqrt( sum([J[i][j]**2 for i in range(n_spins) for j in range(i)]) + sum([h[j]**2 for j in range(n_spins)])  )\n",
    "print(\"alpha: \", alpha)"
   ]
  },
  {
   "cell_type": "markdown",
   "metadata": {},
   "source": [
    "### Get the true distribution"
   ]
  },
  {
   "cell_type": "code",
   "execution_count": 92,
   "metadata": {},
   "outputs": [],
   "source": [
    "def true_boltzman_distn(n_spins:int, temp:int, model, wanna_plot=False):\n",
    "\n",
    "    states_nbit=states(num_spins=n_spins)# arranged in ascending order in magnitude\n",
    "    # Actual_probability distribution\n",
    "    transits_bltz = dict( [ ( state, model.get_boltzmann_prob(state, beta=1./temp) ) for state in states_nbit ] )\n",
    "    rqd_sum=np.sum(np.array(list(transits_bltz.values())))\n",
    "    prob_vals=list(np.array(list(transits_bltz.values()))*(1./rqd_sum))\n",
    "    ### Prob distribution, sorted in descending order of prob values\n",
    "    boltz_prob_distn=value_sorted_dict( dict(zip(states_nbit, prob_vals )), reverse=True )\n",
    "    # plot distribution\n",
    "    if wanna_plot:\n",
    "        plt.figure(2)\n",
    "    #plot_histogram([boltz_prob_distn], legend=[\"analytical\"], sort=\"value_desc\")\n",
    "    plot_bargraph_desc_order(boltz_prob_distn, label=\"analytical\",plot_first_few=20); plt.legend()\n",
    "    return boltz_prob_distn"
   ]
  },
  {
   "cell_type": "code",
   "execution_count": 93,
   "metadata": {},
   "outputs": [
    {
     "data": {
      "image/png": "[encoded data removed]",
      "text/plain": [
       "<Figure size 432x288 with 1 Axes>"
      ]
     },
     "metadata": {
      "needs_background": "light"
     },
     "output_type": "display_data"
    }
   ],
   "source": [
    "states_nbit=states(num_spins=n_spins)\n",
    "temp=0.5\n",
    "boltz_prob_distn=true_boltzman_distn(n_spins, temp=temp, model=model, wanna_plot=True)"
   ]
  },
  {
   "cell_type": "code",
   "execution_count": 94,
   "metadata": {},
   "outputs": [
    {
     "name": "stdout",
     "output_type": "stream",
     "text": [
      "actual_avg_mag:  -1.2889977364022813\n"
     ]
    }
   ],
   "source": [
    "mag_all_states=dict_magnetization_of_all_states(list_all_possible_states=states_nbit)\n",
    "actual_avg_mag=avg(dict_probabilities=boltz_prob_distn, dict_observable_val_at_states=mag_all_states)\n",
    "print(\"actual_avg_mag: \",actual_avg_mag)"
   ]
  },
  {
   "cell_type": "markdown",
   "metadata": {},
   "source": [
    "### Function to run different number of chains of mcmc for a particular problem instance"
   ]
  },
  {
   "cell_type": "code",
   "execution_count": 95,
   "metadata": {},
   "outputs": [],
   "source": [
    "def run_mcmc_different_chains_cl(num_spins:int, \n",
    "N_hops:int,num_seperate_mcmc_chains:int ,model,temp:float, \n",
    "return_last_n_states:int, return_both=False):\n",
    "\n",
    "    num_elems=2**(num_spins)\n",
    "    dict_seperate_chains_states_distn_mcmc={}\n",
    "    dict_seperate_chains_sprime_mcmc={}\n",
    "    dict_seperate_chains_accepted_mcmc={}\n",
    "    dict_seperate_chains_counts_based_on_hamming_dist={}\n",
    "    dict_seperate_chains_energy_diff_s_and_sprime={}# for plotting histogram\n",
    "\n",
    "    for chain_num in tqdm(range(0,num_seperate_mcmc_chains)):\n",
    "        dict_states_mcmc, cl_mcmc_after_trsn, cl_mcmc_after_accept =classical_mcmc(N_hops, num_spins, num_elems,model, return_last_n_states=return_last_n_states,\n",
    "                                                                                return_both=True, temp=temp)                                                                        \n",
    "        # sorting states in descending order of values(# occurences in mcmc chains)  for keys(states) \n",
    "        dict_states_mcmc_sorted_desc=value_sorted_dict(dict_states_mcmc, reverse=True)\n",
    "        #storing in a dict\n",
    "        dict_seperate_chains_states_distn_mcmc[chain_num]=dict_states_mcmc_sorted_desc\n",
    "        dict_seperate_chains_sprime_mcmc[chain_num]=cl_mcmc_after_trsn\n",
    "        dict_seperate_chains_accepted_mcmc[chain_num]=cl_mcmc_after_accept\n",
    "        dict_seperate_chains_energy_diff_s_and_sprime[chain_num]=energy_difference_related_counts(num_spins, cl_mcmc_after_trsn, cl_mcmc_after_accept, model_in=model)\n",
    "        dict_seperate_chains_counts_based_on_hamming_dist[chain_num]=hamming_dist_related_counts(num_spins, cl_mcmc_after_trsn, cl_mcmc_after_accept)\n",
    "\n",
    "    return dict_seperate_chains_states_distn_mcmc, dict_seperate_chains_sprime_mcmc, dict_seperate_chains_accepted_mcmc, dict_seperate_chains_energy_diff_s_and_sprime,dict_seperate_chains_counts_based_on_hamming_dist\n"
   ]
  },
  {
   "cell_type": "code",
   "execution_count": 98,
   "metadata": {},
   "outputs": [
    {
     "name": "stderr",
     "output_type": "stream",
     "text": [
      "100%|██████████| 6/6 [00:00<00:00, 2222.54it/s]\n",
      "100%|██████████| 6/6 [00:00<00:00, 731.27it/s]\n",
      "100%|██████████| 6/6 [00:00<?, ?it/s]\n",
      "100%|██████████| 3/3 [00:00<00:00, 59.85it/s]"
     ]
    },
    {
     "name": "stdout",
     "output_type": "stream",
     "text": [
      "starting with:  1101\n",
      "starting with:  1100\n",
      "starting with:  0111\n"
     ]
    },
    {
     "name": "stderr",
     "output_type": "stream",
     "text": [
      "\n"
     ]
    }
   ],
   "source": [
    "dict_sep_chains_distn, dict_sep_chain_sprime, dict_sep_chains_accepted, dict_sep_chains_energy_diff_s_and_sprime,dict_seperate_chains_counts_based_on_hamming_dist=run_mcmc_different_chains_cl(n_spins, 6, 3, model, temp=temp, return_last_n_states=6, return_both=True )"
   ]
  },
  {
   "cell_type": "code",
   "execution_count": 99,
   "metadata": {},
   "outputs": [
    {
     "name": "stdout",
     "output_type": "stream",
     "text": [
      "dict_sep_chains_distn:\n",
      "{0: {'1101': 3, '0100': 3}, 1: {'0100': 4, '1100': 2}, 2: {'1100': 4, '0111': 2}}\n",
      "dict_sep_chains_sprime:\n",
      "{0: ['0011', '1101', '0100', '0010', '0101', '1101'], 1: ['1011', '0100', '1101', '0000', '0000', '0111'], 2: ['1001', '1100', '1100', '1100', '0010', '0010']}\n",
      "dict_sep_chains_accepted:\n",
      "{0: ['1101', '1101', '0100', '0100', '0100', '0100'], 1: ['1100', '0100', '0100', '0100', '0100', '0100'], 2: ['0111', '1100', '1100', '1100', '1100', '0010']}\n",
      "dict_sep_chains_energy_diff_s_and_sprime:\n",
      "{0: array([3.78, 1.08, 0.  , 2.1 , 2.34]), 1: array([2.66, 0.  , 1.08, 2.37, 2.37]), 2: array([3.69, 0.  , 0.  , 0.  , 0.  ])}\n",
      "dict_seperate_chains_counts_based_on_hamming_dist:\n",
      "{0: {0: 1, 1: 1, 2: 3, 3: 0, 4: 0}, 1: {0: 0, 1: 3, 2: 2, 3: 0, 4: 0}, 2: {0: 2, 1: 0, 2: 0, 3: 3, 4: 0}}\n"
     ]
    }
   ],
   "source": [
    "print(\"dict_sep_chains_distn:\")\n",
    "print(dict_sep_chains_distn)\n",
    "print(\"dict_sep_chains_sprime:\")\n",
    "print(dict_sep_chain_sprime)\n",
    "print(\"dict_sep_chains_accepted:\")\n",
    "print(dict_sep_chains_accepted)\n",
    "print(\"dict_sep_chains_energy_diff_s_and_sprime:\")\n",
    "print(dict_sep_chains_energy_diff_s_and_sprime)\n",
    "print(\"dict_seperate_chains_counts_based_on_hamming_dist:\")\n",
    "print(dict_seperate_chains_counts_based_on_hamming_dist)"
   ]
  },
  {
   "cell_type": "code",
   "execution_count": null,
   "metadata": {},
   "outputs": [],
   "source": []
  }
 ],
 "metadata": {
  "kernelspec": {
   "display_name": "Python 3.8.8 ('base')",
   "language": "python",
   "name": "python3"
  },
  "language_info": {
   "codemirror_mode": {
    "name": "ipython",
    "version": 3
   },
   "file_extension": ".py",
   "mimetype": "text/x-python",
   "name": "python",
   "nbconvert_exporter": "python",
   "pygments_lexer": "ipython3",
   "version": "3.8.8"
  },
  "orig_nbformat": 4,
  "vscode": {
   "interpreter": {
    "hash": "184a4bfd18ed123440bfad7023e607e274d9f6c0bdada601c853a4367aa45839"
   }
  }
 },
 "nbformat": 4,
 "nbformat_minor": 2
}
