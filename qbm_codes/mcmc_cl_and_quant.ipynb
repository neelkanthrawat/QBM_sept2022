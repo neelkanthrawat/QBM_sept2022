{
 "cells": [
  {
   "cell_type": "code",
   "execution_count": 1,
   "metadata": {},
   "outputs": [],
   "source": [
    "import numpy as np\n",
    "import matplotlib.pyplot as plt\n",
    "import pandas as pd\n",
    "from tqdm import tqdm\n",
    "from collections import Counter"
   ]
  },
  {
   "cell_type": "code",
   "execution_count": null,
   "metadata": {},
   "outputs": [],
   "source": [
    "#!pip install qiskit ipywidgets # while working on google colab!"
   ]
  },
  {
   "cell_type": "code",
   "execution_count": null,
   "metadata": {},
   "outputs": [],
   "source": [
    "# while working on google colab, run this cell\n",
    "#!wget https://raw.githubusercontent.com/neelkanthrawat/QBM_sept2022/main/qbm_codes/qbm_utils_2.py"
   ]
  },
  {
   "cell_type": "code",
   "execution_count": 2,
   "metadata": {},
   "outputs": [],
   "source": [
    "from qbm_utils_2 import *"
   ]
  },
  {
   "cell_type": "markdown",
   "metadata": {},
   "source": [
    "### Define the model"
   ]
  },
  {
   "cell_type": "code",
   "execution_count": 3,
   "metadata": {},
   "outputs": [
    {
     "name": "stdout",
     "output_type": "stream",
     "text": [
      "J after: [[ 0.     0.13  -0.105 -0.695]\n",
      " [ 0.13   0.     0.745 -0.57 ]\n",
      " [-0.105  0.745  0.    -0.465]\n",
      " [-0.695 -0.57  -0.465  0.   ]]\n",
      "h is: [-0.17 -0.88  0.04  0.58]\n",
      "alpha:  1.206396381047913\n"
     ]
    }
   ],
   "source": [
    "# define the model\n",
    "np.random.seed(1)# should always be in the same cell!\n",
    "n_spins = 4\n",
    "\n",
    "## construct problem Hamiltonian ##\n",
    "shape_of_J=(n_spins,n_spins)\n",
    "\n",
    "# defining J matrix (mutual 1-1 interaction)\n",
    "J =  np.round(np.random.randn(n_spins,n_spins), decimals=2)#np.random.uniform(low= -1, high= 1, size= (n_spins, n_spins) )\n",
    "J = 0.5 * (J + J.transpose() )\n",
    "# print(\"J before:\"); print(J)\n",
    "J= J - np.diag(np.diag(J))\n",
    "\n",
    "# J=np.array([[0,1,0.5,-1],[1,0,0.3,0.5],[0.5,0.3,0,1],[-1,0.5,1,0]])\n",
    "print(\"J after:\", J)\n",
    "\n",
    "# defining h\n",
    "h = np.round(np.random.randn(n_spins), decimals=2)#np.random.uniform(low= -1, high = 1, size= (n_spins))\n",
    "# h=np.array([0.5]*n_spins)\n",
    "print(\"h is:\", h)\n",
    "\n",
    "# instantiate the model\n",
    "model = IsingEnergyFunction(J, h)\n",
    "# print(model.get_energy('0100'))\n",
    "alpha = np.sqrt(n_spins) / np.sqrt( sum([J[i][j]**2 for i in range(n_spins) for j in range(i)]) + sum([h[j]**2 for j in range(n_spins)])  )\n",
    "print(\"alpha: \", alpha)"
   ]
  },
  {
   "cell_type": "markdown",
   "metadata": {},
   "source": [
    "### Get the true distribution"
   ]
  },
  {
   "cell_type": "code",
   "execution_count": 4,
   "metadata": {},
   "outputs": [],
   "source": [
    "def true_boltzman_distn(n_spins:int, temp:int, model, wanna_plot=False):\n",
    "\n",
    "    states_nbit=states(num_spins=n_spins)# arranged in ascending order in magnitude\n",
    "    # Actual_probability distribution\n",
    "    transits_bltz = dict( [ ( state, model.get_boltzmann_prob(state, beta=1./temp) ) for state in states_nbit ] )\n",
    "    rqd_sum=np.sum(np.array(list(transits_bltz.values())))\n",
    "    prob_vals=list(np.array(list(transits_bltz.values()))*(1./rqd_sum))\n",
    "    ### Prob distribution, sorted in descending order of prob values\n",
    "    boltz_prob_distn=value_sorted_dict( dict(zip(states_nbit, prob_vals )), reverse=True )\n",
    "    # plot distribution\n",
    "    if wanna_plot:\n",
    "        plt.figure(2)\n",
    "    #plot_histogram([boltz_prob_distn], legend=[\"analytical\"], sort=\"value_desc\")\n",
    "    plot_bargraph_desc_order(boltz_prob_distn, label=\"analytical\",plot_first_few=20); plt.legend()\n",
    "    return boltz_prob_distn"
   ]
  },
  {
   "cell_type": "code",
   "execution_count": 5,
   "metadata": {},
   "outputs": [
    {
     "data": {
      "image/png": "[encoded data removed]",
      "text/plain": [
       "<Figure size 432x288 with 1 Axes>"
      ]
     },
     "metadata": {
      "needs_background": "light"
     },
     "output_type": "display_data"
    }
   ],
   "source": [
    "states_nbit=states(num_spins=n_spins)\n",
    "temp=0.35\n",
    "boltz_prob_distn=true_boltzman_distn(n_spins, temp=temp, model=model, wanna_plot=True)"
   ]
  },
  {
   "cell_type": "code",
   "execution_count": 6,
   "metadata": {},
   "outputs": [
    {
     "name": "stdout",
     "output_type": "stream",
     "text": [
      "actual_avg_mag:  -1.7277986852575642\n"
     ]
    }
   ],
   "source": [
    "mag_all_states=dict_magnetization_of_all_states(list_all_possible_states=states_nbit)\n",
    "actual_avg_mag=avg(dict_probabilities=boltz_prob_distn, dict_observable_val_at_states=mag_all_states)\n",
    "print(\"actual_avg_mag: \",actual_avg_mag)"
   ]
  },
  {
   "cell_type": "markdown",
   "metadata": {},
   "source": [
    "### Function to run different number of chains of mcmc for a particular problem instance"
   ]
  },
  {
   "cell_type": "code",
   "execution_count": 32,
   "metadata": {},
   "outputs": [],
   "source": [
    "def run_mcmc_different_chains(num_spins:int, \n",
    "N_hops:int,num_seperate_mcmc_chains:int ,model,temp:float, \n",
    "return_last_n_states:int,return_both=False, is_quantum_mcmc=False, alpha=None ):\n",
    "\n",
    "    num_elems=2**(num_spins)\n",
    "    dict_seperate_chains_states_distn_mcmc={}\n",
    "    dict_seperate_chains_sprime_mcmc={}\n",
    "    dict_seperate_chains_accepted_mcmc={}\n",
    "    dict_seperate_chains_counts_based_on_hamming_dist={}\n",
    "    dict_seperate_chains_energy_diff_s_and_sprime={}# for plotting histogram\n",
    "    poss_states=list(range(0,num_elems))\n",
    "    for chain_num in tqdm(range(0,num_seperate_mcmc_chains)):\n",
    "        init_state=np.random.choice(poss_states)\n",
    "        poss_states.remove(init_state)# to ensure that each mcmc chain starts with a different initial state\n",
    "        initial_state=f'{init_state:0{num_spins}b}'#f'{np.random.randint(0,num_elems):0{num_spins}b}'\n",
    "        if is_quantum_mcmc:\n",
    "            dict_states_mcmc, cl_mcmc_after_trsn, cl_mcmc_after_accept =quantum_enhanced_mcmc(N_hops, num_spins, \n",
    "                                                                                initial_state,\n",
    "                                                                                num_elems,model, \n",
    "                                                                                alpha,return_last_n_states=return_last_n_states,\n",
    "                                                                                return_both=True, temp=temp)\n",
    "        else:\n",
    "            dict_states_mcmc, cl_mcmc_after_trsn, cl_mcmc_after_accept =classical_mcmc(N_hops, num_spins, \n",
    "                                                                                initial_state,\n",
    "                                                                                num_elems,model, \n",
    "                                                                                return_last_n_states=return_last_n_states,\n",
    "                                                                                return_both=True, temp=temp)                                                                        \n",
    "        # sorting states in descending order of values(# occurences in mcmc chains)  for keys(states) \n",
    "        dict_states_mcmc_sorted_desc=value_sorted_dict(dict_states_mcmc, reverse=True)\n",
    "        #storing in a dict\n",
    "        dict_seperate_chains_states_distn_mcmc[chain_num]=dict_states_mcmc_sorted_desc\n",
    "        dict_seperate_chains_sprime_mcmc[chain_num]=cl_mcmc_after_trsn\n",
    "        dict_seperate_chains_accepted_mcmc[chain_num]=cl_mcmc_after_accept\n",
    "        dict_seperate_chains_energy_diff_s_and_sprime[chain_num]=energy_difference_related_counts(num_spins, cl_mcmc_after_trsn, cl_mcmc_after_accept, model_in=model)\n",
    "        dict_seperate_chains_counts_based_on_hamming_dist[chain_num]=hamming_dist_related_counts(num_spins, cl_mcmc_after_trsn, cl_mcmc_after_accept)\n",
    "\n",
    "    return dict_seperate_chains_states_distn_mcmc, dict_seperate_chains_sprime_mcmc, dict_seperate_chains_accepted_mcmc, dict_seperate_chains_energy_diff_s_and_sprime,dict_seperate_chains_counts_based_on_hamming_dist\n"
   ]
  },
  {
   "cell_type": "code",
   "execution_count": null,
   "metadata": {},
   "outputs": [],
   "source": [
    "# 10 seperate chains of classical mcmc for the given problem instance\n",
    "N_hops=3000;num_seperate_mcmc_chains=10; return_last_n_states=N_hops\n",
    "dict_seperate_chains_states_distn_mcmc, dict_seperate_chains_sprime_mcmc, dict_seperate_chains_accepted_mcmc, dict_seperate_chains_energy_diff_s_and_sprime,dict_seperate_chains_counts_based_on_hamming_dist=run_mcmc_different_chains(n_spins, \n",
    "N_hops, num_seperate_mcmc_chains,\n",
    "model, temp=temp, return_last_n_states=return_last_n_states,\n",
    "return_both=True )"
   ]
  },
  {
   "cell_type": "code",
   "execution_count": 34,
   "metadata": {},
   "outputs": [
    {
     "name": "stderr",
     "output_type": "stream",
     "text": [
      "100%|██████████| 1000/1000 [00:10<00:00, 91.95it/s]\n",
      "100%|██████████| 1000/1000 [00:10<00:00, 92.23it/s]\n",
      "100%|██████████| 1000/1000 [00:12<00:00, 77.03it/s] \n",
      "100%|██████████| 1000/1000 [00:13<00:00, 75.39it/s]\n",
      "100%|██████████| 1000/1000 [00:12<00:00, 82.92it/s]\n",
      "100%|██████████| 1000/1000 [00:08<00:00, 120.89it/s]\n",
      "100%|██████████| 1000/1000 [00:08<00:00, 118.07it/s]\n",
      "100%|██████████| 1000/1000 [00:08<00:00, 113.69it/s]\n",
      "100%|██████████| 1000/1000 [00:09<00:00, 109.08it/s]\n",
      "100%|██████████| 1000/1000 [00:08<00:00, 115.78it/s]\n"
     ]
    },
    {
     "data": {
      "text/plain": [
       "<matplotlib.legend.Legend at 0x1d37ebcdc40>"
      ]
     },
     "execution_count": 34,
     "metadata": {},
     "output_type": "execute_result"
    },
    {
     "data": {
      "image/png": "[encoded data removed]",
      "text/plain": [
       "<Figure size 720x504 with 1 Axes>"
      ]
     },
     "metadata": {
      "needs_background": "light"
     },
     "output_type": "display_data"
    }
   ],
   "source": [
    "### data for plotting running average magnetization 5 cases seperately:\n",
    "first_few=1000# \n",
    "#cl_running_avg_magzn=[running_avg_magnetization(list_states_mcmc=dict_seperate_chains_accepted_mcmc[m][:first_few+1]) for m in range(0,num_seperate_mcmc_chains)]\n",
    "dict_for_df_running_avg_seperate_mcmc={}\n",
    "for m in range(0, num_seperate_mcmc_chains):\n",
    "  dict_for_df_running_avg_seperate_mcmc[m]=list(running_avg_magnetization(list_states_mcmc=dict_seperate_chains_accepted_mcmc[m][:first_few+1]).values())\n",
    "\n",
    "running_avg_df=pd.DataFrame(dict_for_df_running_avg_seperate_mcmc)\n",
    "mean_magnetization=running_avg_df.mean(axis=1)# mean taken over all seperate mcmc chains\n",
    "\n",
    "plt.figure(figsize=(10,7))\n",
    "magnetization_of_all_states=dict_magnetization_of_all_states(states_nbit)\n",
    "actual_avg_mag=avg(dict_probabilities=boltz_prob_distn, dict_observable_val_at_states=magnetization_of_all_states)\n",
    "plt.plot(mean_magnetization,\":\" ,label=\"Cl mcmc\")\n",
    "plt.axhline(y=actual_avg_mag,linestyle=\"-\", color=\"k\" ,label=\"Actual\")\n",
    "plt.legend()"
   ]
  },
  {
   "cell_type": "code",
   "execution_count": 35,
   "metadata": {},
   "outputs": [],
   "source": [
    "# pandas data_frame for prob distn obtained from different mcmc chains\n",
    "def fn_get_dataframe_diff_mcmc_chains_same_problem_instance(dict_seperate_chains_states_mcmc):\n",
    "    df=pd.DataFrame(dict_seperate_chains_states_mcmc)\n",
    "    df=df.fillna(0)\n",
    "    return df\n",
    "\n",
    "def get_dict_mean_occurences(df_seperate_chains_mcmc_states_occurences):\n",
    "    mean_occurences=df_seperate_chains_mcmc_states_occurences.mean(axis=1)\n",
    "    #print(\"mean occurences:\"); print(mean_occurences)\n",
    "    #print(f\"type(mean_occurences): {type(mean_occurences)}\")\n",
    "    dict_mean_occurences=mean_occurences.to_dict()# mean number of occurences; we took mean of data obtained for mcmc chains\n",
    "    # plt.figure(1); mean_occurences.plot.bar()\n",
    "    return dict_mean_occurences\n",
    "\n",
    "def get_empirical_distn(dict_mean_occurences):\n",
    "    empirical_probs=list(np.array(list(dict_mean_occurences.values()))*(1./return_last_n_states))\n",
    "    ### Prob distribution, sorted in descending order of prob values\n",
    "    dict_empirical_prob_distn=dict(zip(list(dict_mean_occurences.keys()), empirical_probs ))\n",
    "    return dict_empirical_prob_distn\n",
    "\n",
    "\n",
    "## KL DIVERGENCE\n",
    "def kl_divergence(dict_prob_distn_data,dict_prob_distn_model):\n",
    "    ''' Borrowed from an old notebook''' \n",
    "    list_prob_model=list(dict_prob_distn_data.values())\n",
    "    list_prob_data=list(dict_prob_distn_model.values())\n",
    "    \n",
    "    to_return=0\n",
    "    for i in range(0,len(list_prob_model)):\n",
    "        if(list_prob_data[i]== 0):\n",
    "            to_return+= 0\n",
    "        if(list_prob_model[i]!= 0):\n",
    "            to_return+=list_prob_data[i]*np.log(list_prob_model[i]/list_prob_data[i])\n",
    "    to_return=(-1)*to_return\n",
    "    \n",
    "    return to_return"
   ]
  },
  {
   "cell_type": "code",
   "execution_count": 36,
   "metadata": {},
   "outputs": [
    {
     "data": {
      "text/plain": [
       "<Figure size 432x288 with 0 Axes>"
      ]
     },
     "metadata": {},
     "output_type": "display_data"
    },
    {
     "data": {
      "image/png": "[encoded data removed]",
      "text/plain": [
       "<Figure size 720x504 with 1 Axes>"
      ]
     },
     "metadata": {
      "needs_background": "light"
     },
     "output_type": "display_data"
    }
   ],
   "source": [
    "### for classical mcmc\n",
    "df_1=fn_get_dataframe_diff_mcmc_chains_same_problem_instance(dict_seperate_chains_states_distn_mcmc)\n",
    "dict_mean_occurences=get_dict_mean_occurences(df_1)\n",
    "dict_empirical_cl_prob_distn=get_empirical_distn(dict_mean_occurences)\n",
    "\n",
    "plt.figure(1)\n",
    "plot_multiple_bargraphs(list_of_dicts=[boltz_prob_distn, dict_empirical_cl_prob_distn],\n",
    "                        list_labels=[\"analytical\",\"classical-uniform MCMC\"],\n",
    "                        list_normalise=[False,False] ,plot_first_few=10,  \n",
    "                        sort_desc=True,figsize=(10,7))"
   ]
  },
  {
   "cell_type": "code",
   "execution_count": 37,
   "metadata": {},
   "outputs": [
    {
     "data": {
      "text/plain": [
       "0.03701330615312842"
      ]
     },
     "execution_count": 37,
     "metadata": {},
     "output_type": "execute_result"
    }
   ],
   "source": [
    "kl_divergence(dict_empirical_cl_prob_distn,boltz_prob_distn)"
   ]
  },
  {
   "cell_type": "markdown",
   "metadata": {},
   "source": [
    "### Quantum enhanced MCMC"
   ]
  },
  {
   "cell_type": "code",
   "execution_count": null,
   "metadata": {},
   "outputs": [],
   "source": [
    "# 10 seperate chains of quantum mcmc for the given problem instance\n",
    "N_hops=3000;num_seperate_mcmc_chains=10; return_last_n_states=N_hops\n",
    "dict_seperate_chains_states_distn_mcmc_q, dict_seperate_chains_sprime_mcmc_q, dict_seperate_chains_accepted_mcmc_q, dict_seperate_chains_energy_diff_s_and_sprime_q,dict_seperate_chains_counts_based_on_hamming_dist_q=run_mcmc_different_chains(n_spins, \n",
    "N_hops, num_seperate_mcmc_chains,\n",
    "model, temp=temp, return_last_n_states=return_last_n_states,\n",
    "return_both=True, is_quantum_mcmc=True, alpha=alpha )"
   ]
  },
  {
   "cell_type": "code",
   "execution_count": null,
   "metadata": {},
   "outputs": [],
   "source": [
    "### data for plotting running average magnetization 5 cases seperately:\n",
    "first_few=1000# \n",
    "#cl_running_avg_magzn=[running_avg_magnetization(list_states_mcmc=dict_seperate_chains_accepted_mcmc[m][:first_few+1]) for m in range(0,num_seperate_mcmc_chains)]\n",
    "dict_for_df_running_avg_seperate_mcmc_q={}\n",
    "for m in range(0, num_seperate_mcmc_chains):\n",
    "  dict_for_df_running_avg_seperate_mcmc_q[m]=list(running_avg_magnetization(list_states_mcmc=dict_seperate_chains_accepted_mcmc_q[m][:first_few+1]).values())\n",
    "\n",
    "running_avg_q_df=pd.DataFrame(dict_for_df_running_avg_seperate_mcmc_q)\n",
    "mean_magnetization_q=running_avg_q_df.mean(axis=1)# mean taken over all seperate mcmc chains\n",
    "\n",
    "plt.figure(figsize=(10,7))\n",
    "magnetization_of_all_states=dict_magnetization_of_all_states(states_nbit)\n",
    "actual_avg_mag=avg(dict_probabilities=boltz_prob_distn, dict_observable_val_at_states=magnetization_of_all_states)\n",
    "plt.plot(mean_magnetization_q,\":\" ,label=\"Cl mcmc\")\n",
    "plt.axhline(y=actual_avg_mag,linestyle=\"-\", color=\"k\" ,label=\"Actual\")\n",
    "plt.legend()"
   ]
  },
  {
   "cell_type": "code",
   "execution_count": null,
   "metadata": {},
   "outputs": [],
   "source": [
    "### for quantum mcmc\n",
    "df_q=fn_get_dataframe_diff_mcmc_chains_same_problem_instance(dict_seperate_chains_states_distn_mcmc_q)\n",
    "dict_mean_occurences_q=get_dict_mean_occurences(df_q)\n",
    "dict_empirical_cl_prob_distn_q=get_empirical_distn(dict_mean_occurences_q)\n",
    "\n",
    "plt.figure(1)\n",
    "plot_multiple_bargraphs(list_of_dicts=[boltz_prob_distn, dict_empirical_cl_prob_distn,dict_empirical_cl_prob_distn_q],\n",
    "                        list_labels=[\"analytical\",\"Cl-MCMC\",\"Quant MCMC\"],\n",
    "                        list_normalise=[False,False,False] ,plot_first_few=10,  \n",
    "                        sort_desc=True,figsize=(10,7))"
   ]
  },
  {
   "cell_type": "code",
   "execution_count": null,
   "metadata": {},
   "outputs": [],
   "source": [
    "kl_divergence(dict_empirical_cl_prob_distn_q,boltz_prob_distn)"
   ]
  }
 ],
 "metadata": {
  "kernelspec": {
   "display_name": "Python 3.8.8 ('base')",
   "language": "python",
   "name": "python3"
  },
  "language_info": {
   "codemirror_mode": {
    "name": "ipython",
    "version": 3
   },
   "file_extension": ".py",
   "mimetype": "text/x-python",
   "name": "python",
   "nbconvert_exporter": "python",
   "pygments_lexer": "ipython3",
   "version": "3.8.8"
  },
  "orig_nbformat": 4,
  "vscode": {
   "interpreter": {
    "hash": "184a4bfd18ed123440bfad7023e607e274d9f6c0bdada601c853a4367aa45839"
   }
  }
 },
 "nbformat": 4,
 "nbformat_minor": 2
}
