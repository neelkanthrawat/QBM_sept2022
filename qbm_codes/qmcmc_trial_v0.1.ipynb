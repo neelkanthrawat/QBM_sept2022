{
  "cells": [
    {
      "cell_type": "markdown",
      "metadata": {
        "colab_type": "text",
        "id": "view-in-github"
      },
      "source": [
        "<a href=\"https://colab.research.google.com/github/neelkanthrawat/QBM_sept2022/blob/main/qbm_codes/qmcmc_trial_v0.1.ipynb\" target=\"_parent\"><img src=\"https://colab.research.google.com/assets/colab-badge.svg\" alt=\"Open In Colab\"/></a>"
      ]
    },
    {
      "cell_type": "code",
      "execution_count": null,
      "metadata": {
        "id": "u-EA2s2MJxuW"
      },
      "outputs": [],
      "source": [
        "#!pip install qiskit ipywidgets # while working on google colab!"
      ]
    },
    {
      "cell_type": "code",
      "execution_count": null,
      "metadata": {
        "id": "YU5zf08lKAT2"
      },
      "outputs": [],
      "source": [
        "#!wget https://raw.githubusercontent.com/neelkanthrawat/QBM_sept2022/main/qbm_codes/qbm_utils.py# while working on google colab, run this cell"
      ]
    },
    {
      "cell_type": "code",
      "execution_count": 1,
      "metadata": {
        "id": "8d9Izs6rJsYW"
      },
      "outputs": [],
      "source": [
        "from qbm_utils import *"
      ]
    },
    {
      "cell_type": "code",
      "execution_count": 9,
      "metadata": {
        "id": "pNxJAUIbJsYZ"
      },
      "outputs": [],
      "source": [
        "### define the model ###\n",
        "\n",
        "## put n_spins even always\n",
        "# n_spins = 5\n",
        "\n",
        "# ## construct problem Hamiltonian ##\n",
        "# shape_of_J=(n_spins,n_spins)\n",
        "# J =  np.random.randn(n_spins,n_spins)#np.random.uniform(low= -1, high= 1, size= (n_spins, n_spins) )\n",
        "# J = 0.5 * (J + J.transpose() )\n",
        "# h = np.random.randn(n_spins)#np.random.uniform(low= -1, high = 1, size= (n_spins))\n",
        "\n",
        "# # instantiate the model\n",
        "# model = IsingEnergyFunction(J, h)\n",
        "\n",
        "# alpha = np.sqrt(n_spins) / np.sqrt( sum([J[i][j]**2 for i in range(n_spins) for j in range(i)]) + sum([h[j]**2 for j in range(n_spins)])  )\n"
      ]
    },
    {
      "cell_type": "code",
      "execution_count": 10,
      "metadata": {
        "id": "s2PG_4Z8JsYb"
      },
      "outputs": [],
      "source": [
        "def quantum_enhanced_mcmc(N_hops:int, num_spins:int, num_elems:int, model:IsingEnergyFunction, alpha, num_trotter_steps=10, return_last_n_states=500, store_observables= True, observables:list= ['acceptance','energy'], return_history= True ):\n",
        "    ''' \n",
        "    Args: \n",
        "    Nhops: Number of time you want to run mcmc\n",
        "    num_spins: number of spins\n",
        "    num_elems: 2**(num_spins)\n",
        "\n",
        "    Returns:\n",
        "    Last 'return_last_n_states' elements of states so collected (default value=500). one can then deduce the distribution from it! \n",
        "    '''\n",
        "    states=[]\n",
        "    current_state=f'{np.random.randint(0,num_elems):0{num_spins}b}'# bin_next_state=f'{next_state:0{num_spins}b}'\n",
        "    print(\"starting with: \", current_state) \n",
        "    ## initialise quantum circuit to current_state\n",
        "    qc_s=initialise_qc(n_spins=num_spins, bitstring=current_state)\n",
        "    #print(\"qc_s is:\"); print(qc_s.draw())\n",
        "\n",
        "    ## intialise observables\n",
        "    observable_dict = dict([ ( elem, []  ) for elem in observables ])\n",
        "\n",
        "    for i in range(0, N_hops):\n",
        "        #print(\"i: \", i)\n",
        "        states.append(current_state)\n",
        "        # get sprime\n",
        "        s_prime=run_qc_quantum_step(qc_initialised_to_s=qc_s, model= model, alpha=alpha, n_spins=num_spins, num_trotter_steps=num_trotter_steps, time=0.8)\n",
        "        # accept/reject s_prime \n",
        "        energy_s=model.get_energy(current_state)\n",
        "        energy_sprime=model.get_energy(s_prime)\n",
        "        next_state= classical_loop_accepting_state(current_state, s_prime, energy_s, energy_sprime,temp=1)\n",
        "        \n",
        "        if current_state!=next_state:\n",
        "          current_state= next_state\n",
        "\n",
        "        if store_observables:  ## store the observables \n",
        "          \n",
        "          if next_state == s_prime: observable_dict['acceptance'].append('True')\n",
        "          else: observable_dict['acceptance'].append('False')\n",
        "          observable_dict['energy'].append(model.get_energy(next_state))\n",
        "\n",
        "        ## reinitiate\n",
        "        qc_s=initialise_qc(n_spins=num_spins, bitstring=current_state)\n",
        "    \n",
        "    if return_history: return Counter(states[-return_last_n_states:]), pd.DataFrame(observable_dict)\n",
        "    else: return Counter(states[-return_last_n_states:])# returns dictionary of occurences for last 500 states"
      ]
    },
    {
      "cell_type": "code",
      "execution_count": 11,
      "metadata": {
        "id": "bhif4IRtJsYd"
      },
      "outputs": [],
      "source": [
        "# define the model\n",
        "## put n_spins even always\n",
        "n_spins = 4\n",
        "\n",
        "## construct problem Hamiltonian ##\n",
        "shape_of_J=(n_spins,n_spins)\n",
        "J =  np.random.randn(n_spins,n_spins)#np.random.uniform(low= -1, high= 1, size= (n_spins, n_spins) )\n",
        "J = 0.5 * (J + J.transpose() )\n",
        "h = np.random.randn(n_spins)#np.random.uniform(low= -1, high = 1, size= (n_spins))\n",
        "\n",
        "# instantiate the model\n",
        "model = IsingEnergyFunction(J, h)\n",
        "\n",
        "alpha = np.sqrt(n_spins) / np.sqrt( sum([J[i][j]**2 for i in range(n_spins) for j in range(i)]) + sum([h[j]**2 for j in range(n_spins)])  )\n"
      ]
    },
    {
      "cell_type": "code",
      "execution_count": 12,
      "metadata": {
        "id": "ZVys4aX4JsYe"
      },
      "outputs": [
        {
          "name": "stdout",
          "output_type": "stream",
          "text": [
            "starting with:  0010\n"
          ]
        },
        {
          "data": {
            "image/png": "[encoded data removed]",
            "text/plain": [
              "<Figure size 1080x504 with 1 Axes>"
            ]
          },
          "execution_count": 12,
          "metadata": {},
          "output_type": "execute_result"
        }
      ],
      "source": [
        "# symmetric uniform transition matrix for uniform transition rule\n",
        "num_spins=4\n",
        "num_elems=2**(num_spins)\n",
        "transit_mat=np.ones((num_elems,num_elems))*(1./(2*num_elems))# in general case transit matrix could be entirely different\n",
        "np.fill_diagonal(transit_mat, 1./2)\n",
        "\n",
        "# Run MCMC with uniform random transition strategy\n",
        "N_hops=50\n",
        "dict_states_quantum_mcmc, mcmc_hist =quantum_enhanced_mcmc(N_hops, num_spins, num_elems, model, alpha, num_trotter_steps=10, return_history=True, return_last_n_states=50)\n",
        "\n",
        "# get actual probability distribution\n",
        "transits_bltz = dict( [ ( state, model.get_boltzmann_prob(state) ) for state in dict_states_quantum_mcmc.keys() ] )\n",
        "# plot actual prob distribution as well as one obtained from MCMC\n",
        "plot_histogram( [transits_bltz, dict_states_quantum_mcmc] , figsize=(15, 7), legend= ['model', 'Quantum-enhanced MCMC' ])#, sort= 'value_desc')"
      ]
    },
    {
      "cell_type": "code",
      "execution_count": 9,
      "metadata": {},
      "outputs": [
        {
          "data": {
            "text/html": [
              "<div>\n",
              "<style scoped>\n",
              "    .dataframe tbody tr th:only-of-type {\n",
              "        vertical-align: middle;\n",
              "    }\n",
              "\n",
              "    .dataframe tbody tr th {\n",
              "        vertical-align: top;\n",
              "    }\n",
              "\n",
              "    .dataframe thead th {\n",
              "        text-align: right;\n",
              "    }\n",
              "</style>\n",
              "<table border=\"1\" class=\"dataframe\">\n",
              "  <thead>\n",
              "    <tr style=\"text-align: right;\">\n",
              "      <th></th>\n",
              "      <th>acceptance</th>\n",
              "    </tr>\n",
              "  </thead>\n",
              "  <tbody>\n",
              "    <tr>\n",
              "      <th>0</th>\n",
              "      <td>True</td>\n",
              "    </tr>\n",
              "    <tr>\n",
              "      <th>1</th>\n",
              "      <td>True</td>\n",
              "    </tr>\n",
              "    <tr>\n",
              "      <th>2</th>\n",
              "      <td>True</td>\n",
              "    </tr>\n",
              "    <tr>\n",
              "      <th>3</th>\n",
              "      <td>True</td>\n",
              "    </tr>\n",
              "    <tr>\n",
              "      <th>4</th>\n",
              "      <td>False</td>\n",
              "    </tr>\n",
              "    <tr>\n",
              "      <th>5</th>\n",
              "      <td>False</td>\n",
              "    </tr>\n",
              "    <tr>\n",
              "      <th>6</th>\n",
              "      <td>True</td>\n",
              "    </tr>\n",
              "    <tr>\n",
              "      <th>7</th>\n",
              "      <td>True</td>\n",
              "    </tr>\n",
              "    <tr>\n",
              "      <th>8</th>\n",
              "      <td>True</td>\n",
              "    </tr>\n",
              "    <tr>\n",
              "      <th>9</th>\n",
              "      <td>True</td>\n",
              "    </tr>\n",
              "    <tr>\n",
              "      <th>10</th>\n",
              "      <td>False</td>\n",
              "    </tr>\n",
              "    <tr>\n",
              "      <th>11</th>\n",
              "      <td>True</td>\n",
              "    </tr>\n",
              "    <tr>\n",
              "      <th>12</th>\n",
              "      <td>True</td>\n",
              "    </tr>\n",
              "    <tr>\n",
              "      <th>13</th>\n",
              "      <td>True</td>\n",
              "    </tr>\n",
              "    <tr>\n",
              "      <th>14</th>\n",
              "      <td>True</td>\n",
              "    </tr>\n",
              "    <tr>\n",
              "      <th>15</th>\n",
              "      <td>True</td>\n",
              "    </tr>\n",
              "    <tr>\n",
              "      <th>16</th>\n",
              "      <td>True</td>\n",
              "    </tr>\n",
              "    <tr>\n",
              "      <th>17</th>\n",
              "      <td>False</td>\n",
              "    </tr>\n",
              "    <tr>\n",
              "      <th>18</th>\n",
              "      <td>True</td>\n",
              "    </tr>\n",
              "    <tr>\n",
              "      <th>19</th>\n",
              "      <td>False</td>\n",
              "    </tr>\n",
              "    <tr>\n",
              "      <th>20</th>\n",
              "      <td>True</td>\n",
              "    </tr>\n",
              "    <tr>\n",
              "      <th>21</th>\n",
              "      <td>True</td>\n",
              "    </tr>\n",
              "    <tr>\n",
              "      <th>22</th>\n",
              "      <td>True</td>\n",
              "    </tr>\n",
              "    <tr>\n",
              "      <th>23</th>\n",
              "      <td>True</td>\n",
              "    </tr>\n",
              "    <tr>\n",
              "      <th>24</th>\n",
              "      <td>False</td>\n",
              "    </tr>\n",
              "    <tr>\n",
              "      <th>25</th>\n",
              "      <td>False</td>\n",
              "    </tr>\n",
              "    <tr>\n",
              "      <th>26</th>\n",
              "      <td>False</td>\n",
              "    </tr>\n",
              "    <tr>\n",
              "      <th>27</th>\n",
              "      <td>True</td>\n",
              "    </tr>\n",
              "    <tr>\n",
              "      <th>28</th>\n",
              "      <td>False</td>\n",
              "    </tr>\n",
              "    <tr>\n",
              "      <th>29</th>\n",
              "      <td>True</td>\n",
              "    </tr>\n",
              "    <tr>\n",
              "      <th>30</th>\n",
              "      <td>True</td>\n",
              "    </tr>\n",
              "    <tr>\n",
              "      <th>31</th>\n",
              "      <td>True</td>\n",
              "    </tr>\n",
              "    <tr>\n",
              "      <th>32</th>\n",
              "      <td>True</td>\n",
              "    </tr>\n",
              "    <tr>\n",
              "      <th>33</th>\n",
              "      <td>True</td>\n",
              "    </tr>\n",
              "    <tr>\n",
              "      <th>34</th>\n",
              "      <td>False</td>\n",
              "    </tr>\n",
              "    <tr>\n",
              "      <th>35</th>\n",
              "      <td>True</td>\n",
              "    </tr>\n",
              "    <tr>\n",
              "      <th>36</th>\n",
              "      <td>True</td>\n",
              "    </tr>\n",
              "    <tr>\n",
              "      <th>37</th>\n",
              "      <td>True</td>\n",
              "    </tr>\n",
              "    <tr>\n",
              "      <th>38</th>\n",
              "      <td>True</td>\n",
              "    </tr>\n",
              "    <tr>\n",
              "      <th>39</th>\n",
              "      <td>True</td>\n",
              "    </tr>\n",
              "    <tr>\n",
              "      <th>40</th>\n",
              "      <td>True</td>\n",
              "    </tr>\n",
              "    <tr>\n",
              "      <th>41</th>\n",
              "      <td>True</td>\n",
              "    </tr>\n",
              "    <tr>\n",
              "      <th>42</th>\n",
              "      <td>False</td>\n",
              "    </tr>\n",
              "    <tr>\n",
              "      <th>43</th>\n",
              "      <td>True</td>\n",
              "    </tr>\n",
              "    <tr>\n",
              "      <th>44</th>\n",
              "      <td>True</td>\n",
              "    </tr>\n",
              "    <tr>\n",
              "      <th>45</th>\n",
              "      <td>True</td>\n",
              "    </tr>\n",
              "    <tr>\n",
              "      <th>46</th>\n",
              "      <td>True</td>\n",
              "    </tr>\n",
              "    <tr>\n",
              "      <th>47</th>\n",
              "      <td>True</td>\n",
              "    </tr>\n",
              "    <tr>\n",
              "      <th>48</th>\n",
              "      <td>True</td>\n",
              "    </tr>\n",
              "    <tr>\n",
              "      <th>49</th>\n",
              "      <td>True</td>\n",
              "    </tr>\n",
              "  </tbody>\n",
              "</table>\n",
              "</div>"
            ],
            "text/plain": [
              "   acceptance\n",
              "0        True\n",
              "1        True\n",
              "2        True\n",
              "3        True\n",
              "4       False\n",
              "5       False\n",
              "6        True\n",
              "7        True\n",
              "8        True\n",
              "9        True\n",
              "10      False\n",
              "11       True\n",
              "12       True\n",
              "13       True\n",
              "14       True\n",
              "15       True\n",
              "16       True\n",
              "17      False\n",
              "18       True\n",
              "19      False\n",
              "20       True\n",
              "21       True\n",
              "22       True\n",
              "23       True\n",
              "24      False\n",
              "25      False\n",
              "26      False\n",
              "27       True\n",
              "28      False\n",
              "29       True\n",
              "30       True\n",
              "31       True\n",
              "32       True\n",
              "33       True\n",
              "34      False\n",
              "35       True\n",
              "36       True\n",
              "37       True\n",
              "38       True\n",
              "39       True\n",
              "40       True\n",
              "41       True\n",
              "42      False\n",
              "43       True\n",
              "44       True\n",
              "45       True\n",
              "46       True\n",
              "47       True\n",
              "48       True\n",
              "49       True"
            ]
          },
          "execution_count": 9,
          "metadata": {},
          "output_type": "execute_result"
        }
      ],
      "source": [
        "mcmc_hist"
      ]
    },
    {
      "cell_type": "code",
      "execution_count": 7,
      "metadata": {},
      "outputs": [
        {
          "data": {
            "text/plain": [
              "[1, 2, 3]"
            ]
          },
          "execution_count": 7,
          "metadata": {},
          "output_type": "execute_result"
        }
      ],
      "source": [
        "l = [1,2,3]\n",
        "l[-5:]"
      ]
    },
    {
      "cell_type": "code",
      "execution_count": null,
      "metadata": {
        "id": "ChwXDLqjJsYg",
        "outputId": "050cb42b-aa02-42ff-eea7-24d6fb4c987a"
      },
      "outputs": [
        {
          "data": {
            "text/plain": [
              "[Qubit(QuantumRegister(2, 'spin'), 0), Qubit(QuantumRegister(2, 'spin'), 1)]"
            ]
          },
          "execution_count": 9,
          "metadata": {},
          "output_type": "execute_result"
        }
      ],
      "source": [
        "initialise_qc(2, '11')[0].qubits"
      ]
    },
    {
      "cell_type": "code",
      "execution_count": null,
      "metadata": {
        "id": "W2fHELkuJsYh"
      },
      "outputs": [],
      "source": [
        "observables= ['rejection_count']\n",
        "observable_dict = dict([ ( elem, []  ) for elem in observables ])"
      ]
    },
    {
      "cell_type": "code",
      "execution_count": null,
      "metadata": {
        "id": "qQ6r30jeJsYi"
      },
      "outputs": [],
      "source": [
        "observable_dict['rejection_count'].append(0.2)"
      ]
    },
    {
      "cell_type": "code",
      "execution_count": null,
      "metadata": {
        "id": "3BpwTVcSJsYi",
        "outputId": "dd1688a5-3e46-4145-85b6-084ce2bc1944"
      },
      "outputs": [
        {
          "data": {
            "text/plain": [
              "[0.1, 0.2]"
            ]
          },
          "execution_count": 20,
          "metadata": {},
          "output_type": "execute_result"
        }
      ],
      "source": [
        "observable_dict['rejection_count']"
      ]
    },
    {
      "cell_type": "code",
      "execution_count": null,
      "metadata": {
        "id": "8RIGqbQGJsYj"
      },
      "outputs": [],
      "source": []
    },
    {
      "cell_type": "code",
      "execution_count": null,
      "metadata": {
        "id": "F48IcVacJsYk"
      },
      "outputs": [],
      "source": [
        "observable_df = pd.DataFrame(observable_dict)\n",
        "# observable_df.append([[0.4]])"
      ]
    },
    {
      "cell_type": "code",
      "execution_count": null,
      "metadata": {
        "id": "2jiPuAvCJsYk",
        "outputId": "2d31ab98-1e49-4966-9135-420cbebddb31"
      },
      "outputs": [
        {
          "data": {
            "text/html": [
              "<div>\n",
              "<style scoped>\n",
              "    .dataframe tbody tr th:only-of-type {\n",
              "        vertical-align: middle;\n",
              "    }\n",
              "\n",
              "    .dataframe tbody tr th {\n",
              "        vertical-align: top;\n",
              "    }\n",
              "\n",
              "    .dataframe thead th {\n",
              "        text-align: right;\n",
              "    }\n",
              "</style>\n",
              "<table border=\"1\" class=\"dataframe\">\n",
              "  <thead>\n",
              "    <tr style=\"text-align: right;\">\n",
              "      <th></th>\n",
              "      <th>rejection_count</th>\n",
              "    </tr>\n",
              "  </thead>\n",
              "  <tbody>\n",
              "    <tr>\n",
              "      <th>0</th>\n",
              "      <td>0.1</td>\n",
              "    </tr>\n",
              "    <tr>\n",
              "      <th>1</th>\n",
              "      <td>0.2</td>\n",
              "    </tr>\n",
              "  </tbody>\n",
              "</table>\n",
              "</div>"
            ],
            "text/plain": [
              "   rejection_count\n",
              "0              0.1\n",
              "1              0.2"
            ]
          },
          "execution_count": 22,
          "metadata": {},
          "output_type": "execute_result"
        }
      ],
      "source": [
        "observable_df"
      ]
    },
    {
      "cell_type": "code",
      "execution_count": null,
      "metadata": {
        "id": "7W5c4j6BJsYl"
      },
      "outputs": [],
      "source": [
        "## class for updating; \n",
        "# requirements ->\n",
        "# update_strategy = {classical, quantum}\n",
        "# measurements = {} : list of observables to measure over iterations\n",
        "\n",
        "\n",
        "\n",
        "def run_mcmc_sampling():\n",
        "    "
      ]
    }
  ],
  "metadata": {
    "accelerator": "GPU",
    "colab": {
      "include_colab_link": true,
      "provenance": []
    },
    "kernelspec": {
      "display_name": "Python 3.10.6 64-bit",
      "language": "python",
      "name": "python3"
    },
    "language_info": {
      "codemirror_mode": {
        "name": "ipython",
        "version": 3
      },
      "file_extension": ".py",
      "mimetype": "text/x-python",
      "name": "python",
      "nbconvert_exporter": "python",
      "pygments_lexer": "ipython3",
      "version": "3.10.6"
    },
    "orig_nbformat": 4,
    "vscode": {
      "interpreter": {
        "hash": "31f2aee4e71d21fbe5cf8b01ff0e069b9275f58929596ceb00d14d90e3e16cd6"
      }
    }
  },
  "nbformat": 4,
  "nbformat_minor": 0
}
