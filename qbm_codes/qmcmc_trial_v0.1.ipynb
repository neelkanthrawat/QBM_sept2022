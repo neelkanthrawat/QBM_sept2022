{
 "cells": [
  {
   "cell_type": "code",
   "execution_count": 1,
   "metadata": {},
   "outputs": [],
   "source": [
    "from qbm_utils import *"
   ]
  },
  {
   "cell_type": "code",
   "execution_count": 2,
   "metadata": {},
   "outputs": [],
   "source": [
    "### define the model ###\n",
    "\n",
    "## put n_spins even always\n",
    "n_spins = 5\n",
    "\n",
    "## construct problem Hamiltonian ##\n",
    "shape_of_J=(n_spins,n_spins)\n",
    "J =  np.random.randn(n_spins,n_spins)#np.random.uniform(low= -1, high= 1, size= (n_spins, n_spins) )\n",
    "J = 0.5 * (J + J.transpose() )\n",
    "h = np.random.randn(n_spins)#np.random.uniform(low= -1, high = 1, size= (n_spins))\n",
    "\n",
    "# instantiate the model\n",
    "model = IsingEnergyFunction(J, h)\n",
    "\n",
    "alpha = np.sqrt(n_spins) / np.sqrt( sum([J[i][j]**2 for i in range(n_spins) for j in range(i)]) + sum([h[j]**2 for j in range(n_spins)])  )\n"
   ]
  },
  {
   "cell_type": "code",
   "execution_count": 3,
   "metadata": {},
   "outputs": [],
   "source": [
    "def quantum_enhanced_mcmc(N_hops:int, num_spins:int, num_elems:int, model:IsingEnergyFunction, alpha, num_trotter_steps=10, return_last_n_states=500, observables:list= ['acceptance'], return_history= False ):\n",
    "    ''' \n",
    "    Args: \n",
    "    Nhops: Number of time you want to run mcmc\n",
    "    num_spins: number of spins\n",
    "    num_elems: 2**(num_spins)\n",
    "\n",
    "    Returns:\n",
    "    Last 'return_last_n_states' elements of states so collected (default value=500). one can then deduce the distribution from it! \n",
    "    '''\n",
    "    states=[]\n",
    "    current_state=f'{np.random.randint(0,num_elems):0{num_spins}b}'# bin_next_state=f'{next_state:0{num_spins}b}'\n",
    "    print(\"starting with: \", current_state) \n",
    "    ## initialise quantum circuit to current_state\n",
    "    qc_s=initialise_qc(n_spins=num_spins, bitstring=current_state)\n",
    "    #print(\"qc_s is:\"); print(qc_s.draw())\n",
    "\n",
    "    ## intialise observables\n",
    "    observable_dict = dict([ ( elem, []  ) for elem in observables ])\n",
    "\n",
    "    for i in range(0, N_hops):\n",
    "        #print(\"i: \", i)\n",
    "        states.append(current_state)\n",
    "        # get sprime\n",
    "        s_prime=run_qc_quantum_step(qc_initialised_to_s=qc_s, model= model, alpha=alpha, n_spins=num_spins, num_trotter_steps=num_trotter_steps, time=0.8)\n",
    "        # accept/reject s_prime \n",
    "        energy_s=model.get_energy(current_state)\n",
    "        energy_sprime=model.get_energy(s_prime)\n",
    "        next_state= classical_loop_accepting_state(current_state, s_prime, energy_s, energy_sprime,temp=1)\n",
    "        \n",
    "        if next_state == s_prime: observable_dict['acceptance'].append('True')\n",
    "        else: observable_dict['acceptance'].append('False')\n",
    "\n",
    "        if current_state!=next_state:\n",
    "          current_state= next_state\n",
    "        qc_s=initialise_qc(n_spins=num_spins, bitstring=current_state)\n",
    "    \n",
    "    if return_history: return Counter(states[-return_last_n_states:]), pd.DataFrame(observable_dict)\n",
    "    else: return Counter(states[-return_last_n_states:])# returns dictionary of occurences for last 500 states"
   ]
  },
  {
   "cell_type": "code",
   "execution_count": 7,
   "metadata": {},
   "outputs": [],
   "source": [
    "# define the model\n",
    "## put n_spins even always\n",
    "n_spins = 4\n",
    "\n",
    "## construct problem Hamiltonian ##\n",
    "shape_of_J=(n_spins,n_spins)\n",
    "J =  np.random.randn(n_spins,n_spins)#np.random.uniform(low= -1, high= 1, size= (n_spins, n_spins) )\n",
    "J = 0.5 * (J + J.transpose() )\n",
    "h = np.random.randn(n_spins)#np.random.uniform(low= -1, high = 1, size= (n_spins))\n",
    "\n",
    "# instantiate the model\n",
    "model = IsingEnergyFunction(J, h)\n",
    "\n",
    "alpha = np.sqrt(n_spins) / np.sqrt( sum([J[i][j]**2 for i in range(n_spins) for j in range(i)]) + sum([h[j]**2 for j in range(n_spins)])  )\n"
   ]
  },
  {
   "cell_type": "code",
   "execution_count": 5,
   "metadata": {},
   "outputs": [
    {
     "name": "stdout",
     "output_type": "stream",
     "text": [
      "starting with:  0111\n"
     ]
    },
    {
     "ename": "AttributeError",
     "evalue": "'tuple' object has no attribute 'qubits'",
     "output_type": "error",
     "traceback": [
      "\u001b[0;31m---------------------------------------------------------------------------\u001b[0m",
      "\u001b[0;31mAttributeError\u001b[0m                            Traceback (most recent call last)",
      "\u001b[1;32m/home/rajarsi/Documents/QBMS/qbm_git/qbm_codes/qmcmc_trial_v0.1.ipynb Cell 5\u001b[0m in \u001b[0;36m<cell line: 9>\u001b[0;34m()\u001b[0m\n\u001b[1;32m      <a href='vscode-notebook-cell:/home/rajarsi/Documents/QBMS/qbm_git/qbm_codes/qmcmc_trial_v0.1.ipynb#X14sZmlsZQ%3D%3D?line=6'>7</a>\u001b[0m \u001b[39m# Run MCMC with uniform random transition strategy\u001b[39;00m\n\u001b[1;32m      <a href='vscode-notebook-cell:/home/rajarsi/Documents/QBMS/qbm_git/qbm_codes/qmcmc_trial_v0.1.ipynb#X14sZmlsZQ%3D%3D?line=7'>8</a>\u001b[0m N_hops\u001b[39m=\u001b[39m\u001b[39m100\u001b[39m\n\u001b[0;32m----> <a href='vscode-notebook-cell:/home/rajarsi/Documents/QBMS/qbm_git/qbm_codes/qmcmc_trial_v0.1.ipynb#X14sZmlsZQ%3D%3D?line=8'>9</a>\u001b[0m dict_states_quantum_mcmc\u001b[39m=\u001b[39mquantum_enhanced_mcmc(N_hops, num_spins, num_elems, model, alpha, num_trotter_steps\u001b[39m=\u001b[39;49m\u001b[39m10\u001b[39;49m, return_last_n_states\u001b[39m=\u001b[39;49m\u001b[39m500\u001b[39;49m)\n\u001b[1;32m     <a href='vscode-notebook-cell:/home/rajarsi/Documents/QBMS/qbm_git/qbm_codes/qmcmc_trial_v0.1.ipynb#X14sZmlsZQ%3D%3D?line=10'>11</a>\u001b[0m \u001b[39m# get actual probability distribution\u001b[39;00m\n\u001b[1;32m     <a href='vscode-notebook-cell:/home/rajarsi/Documents/QBMS/qbm_git/qbm_codes/qmcmc_trial_v0.1.ipynb#X14sZmlsZQ%3D%3D?line=11'>12</a>\u001b[0m transits_bltz \u001b[39m=\u001b[39m \u001b[39mdict\u001b[39m( [ ( state, model\u001b[39m.\u001b[39mget_boltzmann_prob(state) ) \u001b[39mfor\u001b[39;00m state \u001b[39min\u001b[39;00m dict_states_quantum_mcmc\u001b[39m.\u001b[39mkeys() ] )\n",
      "\u001b[1;32m/home/rajarsi/Documents/QBMS/qbm_git/qbm_codes/qmcmc_trial_v0.1.ipynb Cell 5\u001b[0m in \u001b[0;36mquantum_enhanced_mcmc\u001b[0;34m(N_hops, num_spins, num_elems, model, alpha, num_trotter_steps, return_last_n_states, observables, return_history)\u001b[0m\n\u001b[1;32m     <a href='vscode-notebook-cell:/home/rajarsi/Documents/QBMS/qbm_git/qbm_codes/qmcmc_trial_v0.1.ipynb#X14sZmlsZQ%3D%3D?line=22'>23</a>\u001b[0m states\u001b[39m.\u001b[39mappend(current_state)\n\u001b[1;32m     <a href='vscode-notebook-cell:/home/rajarsi/Documents/QBMS/qbm_git/qbm_codes/qmcmc_trial_v0.1.ipynb#X14sZmlsZQ%3D%3D?line=23'>24</a>\u001b[0m \u001b[39m# get sprime\u001b[39;00m\n\u001b[0;32m---> <a href='vscode-notebook-cell:/home/rajarsi/Documents/QBMS/qbm_git/qbm_codes/qmcmc_trial_v0.1.ipynb#X14sZmlsZQ%3D%3D?line=24'>25</a>\u001b[0m s_prime\u001b[39m=\u001b[39mrun_qc_quantum_step(qc_initialised_to_s\u001b[39m=\u001b[39;49mqc_s, model\u001b[39m=\u001b[39;49m model, alpha\u001b[39m=\u001b[39;49malpha, n_spins\u001b[39m=\u001b[39;49mnum_spins, num_trotter_steps\u001b[39m=\u001b[39;49mnum_trotter_steps, time\u001b[39m=\u001b[39;49m\u001b[39m0.8\u001b[39;49m)\n\u001b[1;32m     <a href='vscode-notebook-cell:/home/rajarsi/Documents/QBMS/qbm_git/qbm_codes/qmcmc_trial_v0.1.ipynb#X14sZmlsZQ%3D%3D?line=25'>26</a>\u001b[0m \u001b[39m# accept/reject s_prime \u001b[39;00m\n\u001b[1;32m     <a href='vscode-notebook-cell:/home/rajarsi/Documents/QBMS/qbm_git/qbm_codes/qmcmc_trial_v0.1.ipynb#X14sZmlsZQ%3D%3D?line=26'>27</a>\u001b[0m energy_s\u001b[39m=\u001b[39mmodel\u001b[39m.\u001b[39mget_energy(current_state)\n",
      "File \u001b[0;32m~/Documents/QBMS/qbm_git/qbm_codes/qbm_utils.py:305\u001b[0m, in \u001b[0;36mrun_qc_quantum_step\u001b[0;34m(qc_initialised_to_s, model, alpha, n_spins, num_trotter_steps, time)\u001b[0m\n\u001b[1;32m    302\u001b[0m J \u001b[39m=\u001b[39m model\u001b[39m.\u001b[39mget_J()\n\u001b[1;32m    304\u001b[0m \u001b[39mfor\u001b[39;00m _ \u001b[39min\u001b[39;00m \u001b[39mrange\u001b[39m(num_trotter_steps):\n\u001b[0;32m--> 305\u001b[0m     append_evolution(qc_initialised_to_s, h, J ,gamma\u001b[39m=\u001b[39;49mnp\u001b[39m.\u001b[39;49mrandom\u001b[39m.\u001b[39;49mrandom(), alpha\u001b[39m=\u001b[39;49malpha, time\u001b[39m=\u001b[39;49mtime)\n\u001b[1;32m    306\u001b[0m append_evolution(qc_initialised_to_s, h, J , gamma\u001b[39m=\u001b[39m\u001b[39m0.1\u001b[39m, alpha\u001b[39m=\u001b[39malpha, time\u001b[39m=\u001b[39mtime, is_terminal_step\u001b[39m=\u001b[39m\u001b[39mTrue\u001b[39;00m)\n\u001b[1;32m    308\u001b[0m \u001b[39m# draw the ckt\u001b[39;00m\n\u001b[1;32m    309\u001b[0m \u001b[39m#print(qc_initialised_to_s.draw())\u001b[39;00m\n\u001b[1;32m    310\u001b[0m \n\u001b[1;32m    311\u001b[0m \u001b[39m# run the circuit\u001b[39;00m\n\u001b[1;32m    312\u001b[0m \u001b[39m#creg_final=ClassicalRegister(n_spins, name= 'creg_f')\u001b[39;00m\n",
      "File \u001b[0;32m~/Documents/QBMS/qbm_git/qbm_codes/qbm_utils.py:166\u001b[0m, in \u001b[0;36mappend_evolution\u001b[0;34m(qc, h, J, gamma, alpha, time, is_terminal_step)\u001b[0m\n\u001b[1;32m    164\u001b[0m \u001b[39mdef\u001b[39;00m \u001b[39mappend_evolution\u001b[39m(qc:QuantumCircuit, h:np\u001b[39m.\u001b[39marray , J:np\u001b[39m.\u001b[39marray, gamma:\u001b[39mfloat\u001b[39m, alpha:\u001b[39mfloat\u001b[39m, time:\u001b[39mfloat\u001b[39m, is_terminal_step\u001b[39m=\u001b[39m \u001b[39mFalse\u001b[39;00m):\n\u001b[0;32m--> 166\u001b[0m     \u001b[39mfor\u001b[39;00m qubit \u001b[39min\u001b[39;00m \u001b[39mrange\u001b[39m(\u001b[39mlen\u001b[39m(qc\u001b[39m.\u001b[39;49mqubits)):\u001b[39m# H1\u001b[39;00m\n\u001b[1;32m    167\u001b[0m         qc\u001b[39m.\u001b[39mappend(HamiltonianGate( gamma \u001b[39m*\u001b[39m Pauli(\u001b[39m'\u001b[39m\u001b[39mX\u001b[39m\u001b[39m'\u001b[39m)\u001b[39m.\u001b[39mto_matrix() \u001b[39m+\u001b[39m (\u001b[39m1\u001b[39m \u001b[39m-\u001b[39m gamma) \u001b[39m*\u001b[39m alpha \u001b[39m*\u001b[39m h[qubit] \u001b[39m*\u001b[39m Pauli(\u001b[39m'\u001b[39m\u001b[39mZ\u001b[39m\u001b[39m'\u001b[39m)\u001b[39m.\u001b[39mto_matrix(), time, label\u001b[39m=\u001b[39m \u001b[39m'\u001b[39m\u001b[39mh_\u001b[39m\u001b[39m'\u001b[39m\u001b[39m+\u001b[39m\u001b[39mstr\u001b[39m(qubit) ), [ qc\u001b[39m.\u001b[39mqubits[qubit]] )\n\u001b[1;32m    169\u001b[0m     \u001b[39mif\u001b[39;00m \u001b[39mnot\u001b[39;00m is_terminal_step:   \u001b[39m# H2\u001b[39;00m\n",
      "\u001b[0;31mAttributeError\u001b[0m: 'tuple' object has no attribute 'qubits'"
     ]
    }
   ],
   "source": [
    "# symmetric uniform transition matrix for uniform transition rule\n",
    "num_spins=4\n",
    "num_elems=2**(num_spins)\n",
    "transit_mat=np.ones((num_elems,num_elems))*(1./(2*num_elems))# in general case transit matrix could be entirely different\n",
    "np.fill_diagonal(transit_mat, 1./2)\n",
    "\n",
    "# Run MCMC with uniform random transition strategy\n",
    "N_hops=100\n",
    "dict_states_quantum_mcmc=quantum_enhanced_mcmc(N_hops, num_spins, num_elems, model, alpha, num_trotter_steps=10, return_last_n_states=500)\n",
    "\n",
    "# get actual probability distribution\n",
    "transits_bltz = dict( [ ( state, model.get_boltzmann_prob(state) ) for state in dict_states_quantum_mcmc.keys() ] )\n",
    "# plot actual prob distribution as well as one obtained from MCMC\n",
    "plot_histogram( [transits_bltz, dict_states_quantum_mcmc] , figsize=(15, 7), legend= ['model', 'Quantum-enhanced MCMC' ])#, sort= 'value_desc')"
   ]
  },
  {
   "cell_type": "code",
   "execution_count": 9,
   "metadata": {},
   "outputs": [
    {
     "data": {
      "text/plain": [
       "[Qubit(QuantumRegister(2, 'spin'), 0), Qubit(QuantumRegister(2, 'spin'), 1)]"
      ]
     },
     "execution_count": 9,
     "metadata": {},
     "output_type": "execute_result"
    }
   ],
   "source": [
    "initialise_qc(2, '11')[0].qubits"
   ]
  },
  {
   "cell_type": "code",
   "execution_count": 12,
   "metadata": {},
   "outputs": [],
   "source": [
    "observables= ['rejection_count']\n",
    "observable_dict = dict([ ( elem, []  ) for elem in observables ])"
   ]
  },
  {
   "cell_type": "code",
   "execution_count": 19,
   "metadata": {},
   "outputs": [],
   "source": [
    "observable_dict['rejection_count'].append(0.2)"
   ]
  },
  {
   "cell_type": "code",
   "execution_count": 20,
   "metadata": {},
   "outputs": [
    {
     "data": {
      "text/plain": [
       "[0.1, 0.2]"
      ]
     },
     "execution_count": 20,
     "metadata": {},
     "output_type": "execute_result"
    }
   ],
   "source": [
    "observable_dict['rejection_count']"
   ]
  },
  {
   "cell_type": "code",
   "execution_count": null,
   "metadata": {},
   "outputs": [],
   "source": []
  },
  {
   "cell_type": "code",
   "execution_count": 21,
   "metadata": {},
   "outputs": [],
   "source": [
    "observable_df = pd.DataFrame(observable_dict)\n",
    "# observable_df.append([[0.4]])"
   ]
  },
  {
   "cell_type": "code",
   "execution_count": 22,
   "metadata": {},
   "outputs": [
    {
     "data": {
      "text/html": [
       "<div>\n",
       "<style scoped>\n",
       "    .dataframe tbody tr th:only-of-type {\n",
       "        vertical-align: middle;\n",
       "    }\n",
       "\n",
       "    .dataframe tbody tr th {\n",
       "        vertical-align: top;\n",
       "    }\n",
       "\n",
       "    .dataframe thead th {\n",
       "        text-align: right;\n",
       "    }\n",
       "</style>\n",
       "<table border=\"1\" class=\"dataframe\">\n",
       "  <thead>\n",
       "    <tr style=\"text-align: right;\">\n",
       "      <th></th>\n",
       "      <th>rejection_count</th>\n",
       "    </tr>\n",
       "  </thead>\n",
       "  <tbody>\n",
       "    <tr>\n",
       "      <th>0</th>\n",
       "      <td>0.1</td>\n",
       "    </tr>\n",
       "    <tr>\n",
       "      <th>1</th>\n",
       "      <td>0.2</td>\n",
       "    </tr>\n",
       "  </tbody>\n",
       "</table>\n",
       "</div>"
      ],
      "text/plain": [
       "   rejection_count\n",
       "0              0.1\n",
       "1              0.2"
      ]
     },
     "execution_count": 22,
     "metadata": {},
     "output_type": "execute_result"
    }
   ],
   "source": [
    "observable_df"
   ]
  },
  {
   "cell_type": "code",
   "execution_count": null,
   "metadata": {},
   "outputs": [],
   "source": [
    "## class for updating; \n",
    "# requirements ->\n",
    "# update_strategy = {classical, quantum}\n",
    "# measurements = {} : list of observables to measure over iterations\n",
    "\n",
    "\n",
    "\n",
    "def run_mcmc_sampling():\n",
    "    "
   ]
  }
 ],
 "metadata": {
  "kernelspec": {
   "display_name": "Python 3.10.6 64-bit",
   "language": "python",
   "name": "python3"
  },
  "language_info": {
   "codemirror_mode": {
    "name": "ipython",
    "version": 3
   },
   "file_extension": ".py",
   "mimetype": "text/x-python",
   "name": "python",
   "nbconvert_exporter": "python",
   "pygments_lexer": "ipython3",
   "version": "3.10.6"
  },
  "orig_nbformat": 4,
  "vscode": {
   "interpreter": {
    "hash": "31f2aee4e71d21fbe5cf8b01ff0e069b9275f58929596ceb00d14d90e3e16cd6"
   }
  }
 },
 "nbformat": 4,
 "nbformat_minor": 2
}
