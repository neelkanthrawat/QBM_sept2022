{
  "cells": [
    {
      "cell_type": "markdown",
      "metadata": {
        "colab_type": "text",
        "id": "view-in-github"
      },
      "source": [
        "<a href=\"https://colab.research.google.com/github/neelkanthrawat/QBM_sept2022/blob/main/qbm_codes/qmcmc_trial_v0.1.ipynb\" target=\"_parent\"><img src=\"https://colab.research.google.com/assets/colab-badge.svg\" alt=\"Open In Colab\"/></a>"
      ]
    },
    {
      "cell_type": "code",
      "execution_count": null,
      "metadata": {
        "id": "u-EA2s2MJxuW"
      },
      "outputs": [],
      "source": [
        "#!pip install qiskit ipywidgets # while working on google colab!"
      ]
    },
    {
      "cell_type": "code",
      "execution_count": null,
      "metadata": {
        "id": "YU5zf08lKAT2"
      },
      "outputs": [],
      "source": [
        "#!wget https://raw.githubusercontent.com/neelkanthrawat/QBM_sept2022/main/qbm_codes/qbm_utils.py# while working on google colab, run this cell"
      ]
    },
    {
      "cell_type": "code",
      "execution_count": 1,
      "metadata": {
        "id": "8d9Izs6rJsYW"
      },
      "outputs": [],
      "source": [
        "from qbm_utils import *"
      ]
    },
    {
      "cell_type": "code",
      "execution_count": 2,
      "metadata": {
        "id": "bhif4IRtJsYd"
      },
      "outputs": [],
      "source": [
        "# define the model\n",
        "## put n_spins even always\n",
        "n_spins = 4\n",
        "\n",
        "## construct problem Hamiltonian ##\n",
        "shape_of_J=(n_spins,n_spins)\n",
        "J =  np.random.randn(n_spins,n_spins)#np.random.uniform(low= -1, high= 1, size= (n_spins, n_spins) )\n",
        "J = 0.5 * (J + J.transpose() )\n",
        "h = np.random.randn(n_spins)#np.random.uniform(low= -1, high = 1, size= (n_spins))\n",
        "\n",
        "# instantiate the model\n",
        "model = IsingEnergyFunction(J, h)\n",
        "\n",
        "alpha = np.sqrt(n_spins) / np.sqrt( sum([J[i][j]**2 for i in range(n_spins) for j in range(i)]) + sum([h[j]**2 for j in range(n_spins)])  )\n"
      ]
    },
    {
      "cell_type": "code",
      "execution_count": 4,
      "metadata": {},
      "outputs": [
        {
          "ename": "RecursionError",
          "evalue": "maximum recursion depth exceeded while calling a Python object",
          "output_type": "error",
          "traceback": [
            "\u001b[0;31m---------------------------------------------------------------------------\u001b[0m",
            "\u001b[0;31mRecursionError\u001b[0m                            Traceback (most recent call last)",
            "\u001b[1;32m/home/rajarsi/Documents/QBMS/qbm_git/qbm_codes/qmcmc_trial_v0.1.ipynb Cell 6\u001b[0m in \u001b[0;36m<cell line: 1>\u001b[0;34m()\u001b[0m\n\u001b[0;32m----> <a href='vscode-notebook-cell:/home/rajarsi/Documents/QBMS/qbm_git/qbm_codes/qmcmc_trial_v0.1.ipynb#X30sZmlsZQ%3D%3D?line=0'>1</a>\u001b[0m model\u001b[39m.\u001b[39;49mget_partition_sum()\n",
            "File \u001b[0;32m~/Documents/QBMS/qbm_git/qbm_codes/qbm_utils.py:231\u001b[0m, in \u001b[0;36mIsingEnergyFunction.get_partition_sum\u001b[0;34m(self, beta)\u001b[0m\n\u001b[1;32m    228\u001b[0m \u001b[39mdef\u001b[39;00m \u001b[39mget_partition_sum\u001b[39m(\u001b[39mself\u001b[39m, beta:\u001b[39mfloat\u001b[39m\u001b[39m=\u001b[39m \u001b[39m1.0\u001b[39m):           \u001b[39m## is computationally expensive\u001b[39;00m\n\u001b[1;32m    230\u001b[0m     all_configs \u001b[39m=\u001b[39m np\u001b[39m.\u001b[39marray(\u001b[39mlist\u001b[39m(itertools\u001b[39m.\u001b[39mproduct([\u001b[39m1\u001b[39m,\u001b[39m0\u001b[39m], repeat\u001b[39m=\u001b[39m \u001b[39mself\u001b[39m\u001b[39m.\u001b[39mnum_spins)))\n\u001b[0;32m--> 231\u001b[0m     \u001b[39mreturn\u001b[39;00m \u001b[39msum\u001b[39m([ \u001b[39mself\u001b[39m\u001b[39m.\u001b[39mget_boltzmann_prob(config) \u001b[39mfor\u001b[39;00m config \u001b[39min\u001b[39;00m all_configs ])\n",
            "File \u001b[0;32m~/Documents/QBMS/qbm_git/qbm_codes/qbm_utils.py:231\u001b[0m, in \u001b[0;36m<listcomp>\u001b[0;34m(.0)\u001b[0m\n\u001b[1;32m    228\u001b[0m \u001b[39mdef\u001b[39;00m \u001b[39mget_partition_sum\u001b[39m(\u001b[39mself\u001b[39m, beta:\u001b[39mfloat\u001b[39m\u001b[39m=\u001b[39m \u001b[39m1.0\u001b[39m):           \u001b[39m## is computationally expensive\u001b[39;00m\n\u001b[1;32m    230\u001b[0m     all_configs \u001b[39m=\u001b[39m np\u001b[39m.\u001b[39marray(\u001b[39mlist\u001b[39m(itertools\u001b[39m.\u001b[39mproduct([\u001b[39m1\u001b[39m,\u001b[39m0\u001b[39m], repeat\u001b[39m=\u001b[39m \u001b[39mself\u001b[39m\u001b[39m.\u001b[39mnum_spins)))\n\u001b[0;32m--> 231\u001b[0m     \u001b[39mreturn\u001b[39;00m \u001b[39msum\u001b[39m([ \u001b[39mself\u001b[39;49m\u001b[39m.\u001b[39;49mget_boltzmann_prob(config) \u001b[39mfor\u001b[39;00m config \u001b[39min\u001b[39;00m all_configs ])\n",
            "File \u001b[0;32m~/Documents/QBMS/qbm_git/qbm_codes/qbm_utils.py:236\u001b[0m, in \u001b[0;36mIsingEnergyFunction.get_boltzmann_prob\u001b[0;34m(self, state, beta, normalised)\u001b[0m\n\u001b[1;32m    233\u001b[0m \u001b[39mdef\u001b[39;00m \u001b[39mget_boltzmann_prob\u001b[39m(\u001b[39mself\u001b[39m, state:Union[\u001b[39mstr\u001b[39m, np\u001b[39m.\u001b[39marray], beta:\u001b[39mfloat\u001b[39m\u001b[39m=\u001b[39m \u001b[39m1.0\u001b[39m, normalised\u001b[39m=\u001b[39m \u001b[39mTrue\u001b[39;00m ) \u001b[39m-\u001b[39m\u001b[39m>\u001b[39m \u001b[39mfloat\u001b[39m:\n\u001b[1;32m    235\u001b[0m     \u001b[39mif\u001b[39;00m normalised :\n\u001b[0;32m--> 236\u001b[0m         \u001b[39mreturn\u001b[39;00m np\u001b[39m.\u001b[39mexp( \u001b[39m-\u001b[39m\u001b[39m1\u001b[39m \u001b[39m*\u001b[39m beta \u001b[39m*\u001b[39m \u001b[39mself\u001b[39m\u001b[39m.\u001b[39mget_energy(state) ) \u001b[39m/\u001b[39m \u001b[39mself\u001b[39;49m\u001b[39m.\u001b[39;49mget_partition_sum(beta)\n\u001b[1;32m    238\u001b[0m     \u001b[39melse\u001b[39;00m:    \n\u001b[1;32m    239\u001b[0m         \u001b[39mreturn\u001b[39;00m np\u001b[39m.\u001b[39mexp( \u001b[39m-\u001b[39m\u001b[39m1\u001b[39m \u001b[39m*\u001b[39m beta \u001b[39m*\u001b[39m \u001b[39mself\u001b[39m\u001b[39m.\u001b[39mget_energy(state) )\n",
            "File \u001b[0;32m~/Documents/QBMS/qbm_git/qbm_codes/qbm_utils.py:231\u001b[0m, in \u001b[0;36mIsingEnergyFunction.get_partition_sum\u001b[0;34m(self, beta)\u001b[0m\n\u001b[1;32m    228\u001b[0m \u001b[39mdef\u001b[39;00m \u001b[39mget_partition_sum\u001b[39m(\u001b[39mself\u001b[39m, beta:\u001b[39mfloat\u001b[39m\u001b[39m=\u001b[39m \u001b[39m1.0\u001b[39m):           \u001b[39m## is computationally expensive\u001b[39;00m\n\u001b[1;32m    230\u001b[0m     all_configs \u001b[39m=\u001b[39m np\u001b[39m.\u001b[39marray(\u001b[39mlist\u001b[39m(itertools\u001b[39m.\u001b[39mproduct([\u001b[39m1\u001b[39m,\u001b[39m0\u001b[39m], repeat\u001b[39m=\u001b[39m \u001b[39mself\u001b[39m\u001b[39m.\u001b[39mnum_spins)))\n\u001b[0;32m--> 231\u001b[0m     \u001b[39mreturn\u001b[39;00m \u001b[39msum\u001b[39m([ \u001b[39mself\u001b[39m\u001b[39m.\u001b[39mget_boltzmann_prob(config) \u001b[39mfor\u001b[39;00m config \u001b[39min\u001b[39;00m all_configs ])\n",
            "File \u001b[0;32m~/Documents/QBMS/qbm_git/qbm_codes/qbm_utils.py:231\u001b[0m, in \u001b[0;36m<listcomp>\u001b[0;34m(.0)\u001b[0m\n\u001b[1;32m    228\u001b[0m \u001b[39mdef\u001b[39;00m \u001b[39mget_partition_sum\u001b[39m(\u001b[39mself\u001b[39m, beta:\u001b[39mfloat\u001b[39m\u001b[39m=\u001b[39m \u001b[39m1.0\u001b[39m):           \u001b[39m## is computationally expensive\u001b[39;00m\n\u001b[1;32m    230\u001b[0m     all_configs \u001b[39m=\u001b[39m np\u001b[39m.\u001b[39marray(\u001b[39mlist\u001b[39m(itertools\u001b[39m.\u001b[39mproduct([\u001b[39m1\u001b[39m,\u001b[39m0\u001b[39m], repeat\u001b[39m=\u001b[39m \u001b[39mself\u001b[39m\u001b[39m.\u001b[39mnum_spins)))\n\u001b[0;32m--> 231\u001b[0m     \u001b[39mreturn\u001b[39;00m \u001b[39msum\u001b[39m([ \u001b[39mself\u001b[39;49m\u001b[39m.\u001b[39;49mget_boltzmann_prob(config) \u001b[39mfor\u001b[39;00m config \u001b[39min\u001b[39;00m all_configs ])\n",
            "File \u001b[0;32m~/Documents/QBMS/qbm_git/qbm_codes/qbm_utils.py:236\u001b[0m, in \u001b[0;36mIsingEnergyFunction.get_boltzmann_prob\u001b[0;34m(self, state, beta, normalised)\u001b[0m\n\u001b[1;32m    233\u001b[0m \u001b[39mdef\u001b[39;00m \u001b[39mget_boltzmann_prob\u001b[39m(\u001b[39mself\u001b[39m, state:Union[\u001b[39mstr\u001b[39m, np\u001b[39m.\u001b[39marray], beta:\u001b[39mfloat\u001b[39m\u001b[39m=\u001b[39m \u001b[39m1.0\u001b[39m, normalised\u001b[39m=\u001b[39m \u001b[39mTrue\u001b[39;00m ) \u001b[39m-\u001b[39m\u001b[39m>\u001b[39m \u001b[39mfloat\u001b[39m:\n\u001b[1;32m    235\u001b[0m     \u001b[39mif\u001b[39;00m normalised :\n\u001b[0;32m--> 236\u001b[0m         \u001b[39mreturn\u001b[39;00m np\u001b[39m.\u001b[39mexp( \u001b[39m-\u001b[39m\u001b[39m1\u001b[39m \u001b[39m*\u001b[39m beta \u001b[39m*\u001b[39m \u001b[39mself\u001b[39m\u001b[39m.\u001b[39mget_energy(state) ) \u001b[39m/\u001b[39m \u001b[39mself\u001b[39;49m\u001b[39m.\u001b[39;49mget_partition_sum(beta)\n\u001b[1;32m    238\u001b[0m     \u001b[39melse\u001b[39;00m:    \n\u001b[1;32m    239\u001b[0m         \u001b[39mreturn\u001b[39;00m np\u001b[39m.\u001b[39mexp( \u001b[39m-\u001b[39m\u001b[39m1\u001b[39m \u001b[39m*\u001b[39m beta \u001b[39m*\u001b[39m \u001b[39mself\u001b[39m\u001b[39m.\u001b[39mget_energy(state) )\n",
            "    \u001b[0;31m[... skipping similar frames: <listcomp> at line 231 (987 times), IsingEnergyFunction.get_boltzmann_prob at line 236 (987 times), IsingEnergyFunction.get_partition_sum at line 231 (987 times)]\u001b[0m\n",
            "File \u001b[0;32m~/Documents/QBMS/qbm_git/qbm_codes/qbm_utils.py:231\u001b[0m, in \u001b[0;36mIsingEnergyFunction.get_partition_sum\u001b[0;34m(self, beta)\u001b[0m\n\u001b[1;32m    228\u001b[0m \u001b[39mdef\u001b[39;00m \u001b[39mget_partition_sum\u001b[39m(\u001b[39mself\u001b[39m, beta:\u001b[39mfloat\u001b[39m\u001b[39m=\u001b[39m \u001b[39m1.0\u001b[39m):           \u001b[39m## is computationally expensive\u001b[39;00m\n\u001b[1;32m    230\u001b[0m     all_configs \u001b[39m=\u001b[39m np\u001b[39m.\u001b[39marray(\u001b[39mlist\u001b[39m(itertools\u001b[39m.\u001b[39mproduct([\u001b[39m1\u001b[39m,\u001b[39m0\u001b[39m], repeat\u001b[39m=\u001b[39m \u001b[39mself\u001b[39m\u001b[39m.\u001b[39mnum_spins)))\n\u001b[0;32m--> 231\u001b[0m     \u001b[39mreturn\u001b[39;00m \u001b[39msum\u001b[39m([ \u001b[39mself\u001b[39m\u001b[39m.\u001b[39mget_boltzmann_prob(config) \u001b[39mfor\u001b[39;00m config \u001b[39min\u001b[39;00m all_configs ])\n",
            "File \u001b[0;32m~/Documents/QBMS/qbm_git/qbm_codes/qbm_utils.py:231\u001b[0m, in \u001b[0;36m<listcomp>\u001b[0;34m(.0)\u001b[0m\n\u001b[1;32m    228\u001b[0m \u001b[39mdef\u001b[39;00m \u001b[39mget_partition_sum\u001b[39m(\u001b[39mself\u001b[39m, beta:\u001b[39mfloat\u001b[39m\u001b[39m=\u001b[39m \u001b[39m1.0\u001b[39m):           \u001b[39m## is computationally expensive\u001b[39;00m\n\u001b[1;32m    230\u001b[0m     all_configs \u001b[39m=\u001b[39m np\u001b[39m.\u001b[39marray(\u001b[39mlist\u001b[39m(itertools\u001b[39m.\u001b[39mproduct([\u001b[39m1\u001b[39m,\u001b[39m0\u001b[39m], repeat\u001b[39m=\u001b[39m \u001b[39mself\u001b[39m\u001b[39m.\u001b[39mnum_spins)))\n\u001b[0;32m--> 231\u001b[0m     \u001b[39mreturn\u001b[39;00m \u001b[39msum\u001b[39m([ \u001b[39mself\u001b[39;49m\u001b[39m.\u001b[39;49mget_boltzmann_prob(config) \u001b[39mfor\u001b[39;00m config \u001b[39min\u001b[39;00m all_configs ])\n",
            "File \u001b[0;32m~/Documents/QBMS/qbm_git/qbm_codes/qbm_utils.py:236\u001b[0m, in \u001b[0;36mIsingEnergyFunction.get_boltzmann_prob\u001b[0;34m(self, state, beta, normalised)\u001b[0m\n\u001b[1;32m    233\u001b[0m \u001b[39mdef\u001b[39;00m \u001b[39mget_boltzmann_prob\u001b[39m(\u001b[39mself\u001b[39m, state:Union[\u001b[39mstr\u001b[39m, np\u001b[39m.\u001b[39marray], beta:\u001b[39mfloat\u001b[39m\u001b[39m=\u001b[39m \u001b[39m1.0\u001b[39m, normalised\u001b[39m=\u001b[39m \u001b[39mTrue\u001b[39;00m ) \u001b[39m-\u001b[39m\u001b[39m>\u001b[39m \u001b[39mfloat\u001b[39m:\n\u001b[1;32m    235\u001b[0m     \u001b[39mif\u001b[39;00m normalised :\n\u001b[0;32m--> 236\u001b[0m         \u001b[39mreturn\u001b[39;00m np\u001b[39m.\u001b[39mexp( \u001b[39m-\u001b[39m\u001b[39m1\u001b[39m \u001b[39m*\u001b[39m beta \u001b[39m*\u001b[39m \u001b[39mself\u001b[39;49m\u001b[39m.\u001b[39;49mget_energy(state) ) \u001b[39m/\u001b[39m \u001b[39mself\u001b[39m\u001b[39m.\u001b[39mget_partition_sum(beta)\n\u001b[1;32m    238\u001b[0m     \u001b[39melse\u001b[39;00m:    \n\u001b[1;32m    239\u001b[0m         \u001b[39mreturn\u001b[39;00m np\u001b[39m.\u001b[39mexp( \u001b[39m-\u001b[39m\u001b[39m1\u001b[39m \u001b[39m*\u001b[39m beta \u001b[39m*\u001b[39m \u001b[39mself\u001b[39m\u001b[39m.\u001b[39mget_energy(state) )\n",
            "File \u001b[0;32m~/Documents/QBMS/qbm_git/qbm_codes/qbm_utils.py:226\u001b[0m, in \u001b[0;36mIsingEnergyFunction.get_energy\u001b[0;34m(self, state)\u001b[0m\n\u001b[1;32m    224\u001b[0m     \u001b[39mreturn\u001b[39;00m energy\n\u001b[1;32m    225\u001b[0m \u001b[39melse\u001b[39;00m:\n\u001b[0;32m--> 226\u001b[0m     \u001b[39mreturn\u001b[39;00m np\u001b[39m.\u001b[39;49mdot(state\u001b[39m.\u001b[39;49mtranspose(), \u001b[39mself\u001b[39;49m\u001b[39m.\u001b[39;49mJ\u001b[39m.\u001b[39;49mdot(state)) \u001b[39m+\u001b[39m np\u001b[39m.\u001b[39mdot(\u001b[39mself\u001b[39m\u001b[39m.\u001b[39mh\u001b[39m.\u001b[39mtranspose(), state )\n",
            "File \u001b[0;32m<__array_function__ internals>:180\u001b[0m, in \u001b[0;36mdot\u001b[0;34m(*args, **kwargs)\u001b[0m\n",
            "\u001b[0;31mRecursionError\u001b[0m: maximum recursion depth exceeded while calling a Python object"
          ]
        }
      ],
      "source": [
        "model.get_partition_sum()"
      ]
    },
    {
      "cell_type": "code",
      "execution_count": 3,
      "metadata": {
        "id": "ZVys4aX4JsYe"
      },
      "outputs": [
        {
          "name": "stdout",
          "output_type": "stream",
          "text": [
            "starting with:  1111\n"
          ]
        },
        {
          "name": "stderr",
          "output_type": "stream",
          "text": [
            "100%|██████████| 50/50 [00:41<00:00,  1.22it/s]\n"
          ]
        },
        {
          "ename": "RecursionError",
          "evalue": "maximum recursion depth exceeded while calling a Python object",
          "output_type": "error",
          "traceback": [
            "\u001b[0;31m---------------------------------------------------------------------------\u001b[0m",
            "\u001b[0;31mRecursionError\u001b[0m                            Traceback (most recent call last)",
            "\u001b[1;32m/home/rajarsi/Documents/QBMS/qbm_git/qbm_codes/qmcmc_trial_v0.1.ipynb Cell 6\u001b[0m in \u001b[0;36m<cell line: 12>\u001b[0;34m()\u001b[0m\n\u001b[1;32m      <a href='vscode-notebook-cell:/home/rajarsi/Documents/QBMS/qbm_git/qbm_codes/qmcmc_trial_v0.1.ipynb#X10sZmlsZQ%3D%3D?line=8'>9</a>\u001b[0m dict_states_quantum_mcmc, mcmc_hist \u001b[39m=\u001b[39m quantum_enhanced_mcmc(N_hops, num_spins, num_elems, model, alpha, num_trotter_steps\u001b[39m=\u001b[39m\u001b[39m10\u001b[39m, return_history\u001b[39m=\u001b[39m\u001b[39mTrue\u001b[39;00m, return_last_n_states\u001b[39m=\u001b[39m\u001b[39m50\u001b[39m)\n\u001b[1;32m     <a href='vscode-notebook-cell:/home/rajarsi/Documents/QBMS/qbm_git/qbm_codes/qmcmc_trial_v0.1.ipynb#X10sZmlsZQ%3D%3D?line=10'>11</a>\u001b[0m \u001b[39m# get actual probability distribution\u001b[39;00m\n\u001b[0;32m---> <a href='vscode-notebook-cell:/home/rajarsi/Documents/QBMS/qbm_git/qbm_codes/qmcmc_trial_v0.1.ipynb#X10sZmlsZQ%3D%3D?line=11'>12</a>\u001b[0m transits_bltz \u001b[39m=\u001b[39m \u001b[39mdict\u001b[39m( [ ( state, model\u001b[39m.\u001b[39mget_boltzmann_prob(state) ) \u001b[39mfor\u001b[39;00m state \u001b[39min\u001b[39;00m dict_states_quantum_mcmc\u001b[39m.\u001b[39mkeys() ] )\n\u001b[1;32m     <a href='vscode-notebook-cell:/home/rajarsi/Documents/QBMS/qbm_git/qbm_codes/qmcmc_trial_v0.1.ipynb#X10sZmlsZQ%3D%3D?line=12'>13</a>\u001b[0m \u001b[39m# plot actual prob distribution as well as one obtained from MCMC\u001b[39;00m\n\u001b[1;32m     <a href='vscode-notebook-cell:/home/rajarsi/Documents/QBMS/qbm_git/qbm_codes/qmcmc_trial_v0.1.ipynb#X10sZmlsZQ%3D%3D?line=13'>14</a>\u001b[0m plot_histogram( [transits_bltz, dict_states_quantum_mcmc] , figsize\u001b[39m=\u001b[39m(\u001b[39m15\u001b[39m, \u001b[39m7\u001b[39m), legend\u001b[39m=\u001b[39m [\u001b[39m'\u001b[39m\u001b[39mmodel\u001b[39m\u001b[39m'\u001b[39m, \u001b[39m'\u001b[39m\u001b[39mQuantum-enhanced MCMC\u001b[39m\u001b[39m'\u001b[39m ])\n",
            "\u001b[1;32m/home/rajarsi/Documents/QBMS/qbm_git/qbm_codes/qmcmc_trial_v0.1.ipynb Cell 6\u001b[0m in \u001b[0;36m<listcomp>\u001b[0;34m(.0)\u001b[0m\n\u001b[1;32m      <a href='vscode-notebook-cell:/home/rajarsi/Documents/QBMS/qbm_git/qbm_codes/qmcmc_trial_v0.1.ipynb#X10sZmlsZQ%3D%3D?line=8'>9</a>\u001b[0m dict_states_quantum_mcmc, mcmc_hist \u001b[39m=\u001b[39m quantum_enhanced_mcmc(N_hops, num_spins, num_elems, model, alpha, num_trotter_steps\u001b[39m=\u001b[39m\u001b[39m10\u001b[39m, return_history\u001b[39m=\u001b[39m\u001b[39mTrue\u001b[39;00m, return_last_n_states\u001b[39m=\u001b[39m\u001b[39m50\u001b[39m)\n\u001b[1;32m     <a href='vscode-notebook-cell:/home/rajarsi/Documents/QBMS/qbm_git/qbm_codes/qmcmc_trial_v0.1.ipynb#X10sZmlsZQ%3D%3D?line=10'>11</a>\u001b[0m \u001b[39m# get actual probability distribution\u001b[39;00m\n\u001b[0;32m---> <a href='vscode-notebook-cell:/home/rajarsi/Documents/QBMS/qbm_git/qbm_codes/qmcmc_trial_v0.1.ipynb#X10sZmlsZQ%3D%3D?line=11'>12</a>\u001b[0m transits_bltz \u001b[39m=\u001b[39m \u001b[39mdict\u001b[39m( [ ( state, model\u001b[39m.\u001b[39;49mget_boltzmann_prob(state) ) \u001b[39mfor\u001b[39;00m state \u001b[39min\u001b[39;00m dict_states_quantum_mcmc\u001b[39m.\u001b[39mkeys() ] )\n\u001b[1;32m     <a href='vscode-notebook-cell:/home/rajarsi/Documents/QBMS/qbm_git/qbm_codes/qmcmc_trial_v0.1.ipynb#X10sZmlsZQ%3D%3D?line=12'>13</a>\u001b[0m \u001b[39m# plot actual prob distribution as well as one obtained from MCMC\u001b[39;00m\n\u001b[1;32m     <a href='vscode-notebook-cell:/home/rajarsi/Documents/QBMS/qbm_git/qbm_codes/qmcmc_trial_v0.1.ipynb#X10sZmlsZQ%3D%3D?line=13'>14</a>\u001b[0m plot_histogram( [transits_bltz, dict_states_quantum_mcmc] , figsize\u001b[39m=\u001b[39m(\u001b[39m15\u001b[39m, \u001b[39m7\u001b[39m), legend\u001b[39m=\u001b[39m [\u001b[39m'\u001b[39m\u001b[39mmodel\u001b[39m\u001b[39m'\u001b[39m, \u001b[39m'\u001b[39m\u001b[39mQuantum-enhanced MCMC\u001b[39m\u001b[39m'\u001b[39m ])\n",
            "File \u001b[0;32m~/Documents/QBMS/qbm_git/qbm_codes/qbm_utils.py:236\u001b[0m, in \u001b[0;36mIsingEnergyFunction.get_boltzmann_prob\u001b[0;34m(self, state, beta, normalised)\u001b[0m\n\u001b[1;32m    233\u001b[0m \u001b[39mdef\u001b[39;00m \u001b[39mget_boltzmann_prob\u001b[39m(\u001b[39mself\u001b[39m, state:Union[\u001b[39mstr\u001b[39m, np\u001b[39m.\u001b[39marray], beta:\u001b[39mfloat\u001b[39m\u001b[39m=\u001b[39m \u001b[39m1.0\u001b[39m, normalised\u001b[39m=\u001b[39m \u001b[39mTrue\u001b[39;00m ) \u001b[39m-\u001b[39m\u001b[39m>\u001b[39m \u001b[39mfloat\u001b[39m:\n\u001b[1;32m    235\u001b[0m     \u001b[39mif\u001b[39;00m normalised :\n\u001b[0;32m--> 236\u001b[0m         \u001b[39mreturn\u001b[39;00m np\u001b[39m.\u001b[39mexp( \u001b[39m-\u001b[39m\u001b[39m1\u001b[39m \u001b[39m*\u001b[39m beta \u001b[39m*\u001b[39m \u001b[39mself\u001b[39m\u001b[39m.\u001b[39mget_energy(state) ) \u001b[39m/\u001b[39m \u001b[39mself\u001b[39;49m\u001b[39m.\u001b[39;49mget_partition_sum(beta)\n\u001b[1;32m    238\u001b[0m     \u001b[39melse\u001b[39;00m:    \n\u001b[1;32m    239\u001b[0m         \u001b[39mreturn\u001b[39;00m np\u001b[39m.\u001b[39mexp( \u001b[39m-\u001b[39m\u001b[39m1\u001b[39m \u001b[39m*\u001b[39m beta \u001b[39m*\u001b[39m \u001b[39mself\u001b[39m\u001b[39m.\u001b[39mget_energy(state) )\n",
            "File \u001b[0;32m~/Documents/QBMS/qbm_git/qbm_codes/qbm_utils.py:231\u001b[0m, in \u001b[0;36mIsingEnergyFunction.get_partition_sum\u001b[0;34m(self, beta)\u001b[0m\n\u001b[1;32m    228\u001b[0m \u001b[39mdef\u001b[39;00m \u001b[39mget_partition_sum\u001b[39m(\u001b[39mself\u001b[39m, beta:\u001b[39mfloat\u001b[39m\u001b[39m=\u001b[39m \u001b[39m1.0\u001b[39m):           \u001b[39m## is computationally expensive\u001b[39;00m\n\u001b[1;32m    230\u001b[0m     all_configs \u001b[39m=\u001b[39m np\u001b[39m.\u001b[39marray(\u001b[39mlist\u001b[39m(itertools\u001b[39m.\u001b[39mproduct([\u001b[39m1\u001b[39m,\u001b[39m0\u001b[39m], repeat\u001b[39m=\u001b[39m \u001b[39mself\u001b[39m\u001b[39m.\u001b[39mnum_spins)))\n\u001b[0;32m--> 231\u001b[0m     \u001b[39mreturn\u001b[39;00m \u001b[39msum\u001b[39m([ \u001b[39mself\u001b[39m\u001b[39m.\u001b[39mget_boltzmann_prob(config) \u001b[39mfor\u001b[39;00m config \u001b[39min\u001b[39;00m all_configs ])\n",
            "File \u001b[0;32m~/Documents/QBMS/qbm_git/qbm_codes/qbm_utils.py:231\u001b[0m, in \u001b[0;36m<listcomp>\u001b[0;34m(.0)\u001b[0m\n\u001b[1;32m    228\u001b[0m \u001b[39mdef\u001b[39;00m \u001b[39mget_partition_sum\u001b[39m(\u001b[39mself\u001b[39m, beta:\u001b[39mfloat\u001b[39m\u001b[39m=\u001b[39m \u001b[39m1.0\u001b[39m):           \u001b[39m## is computationally expensive\u001b[39;00m\n\u001b[1;32m    230\u001b[0m     all_configs \u001b[39m=\u001b[39m np\u001b[39m.\u001b[39marray(\u001b[39mlist\u001b[39m(itertools\u001b[39m.\u001b[39mproduct([\u001b[39m1\u001b[39m,\u001b[39m0\u001b[39m], repeat\u001b[39m=\u001b[39m \u001b[39mself\u001b[39m\u001b[39m.\u001b[39mnum_spins)))\n\u001b[0;32m--> 231\u001b[0m     \u001b[39mreturn\u001b[39;00m \u001b[39msum\u001b[39m([ \u001b[39mself\u001b[39;49m\u001b[39m.\u001b[39;49mget_boltzmann_prob(config) \u001b[39mfor\u001b[39;00m config \u001b[39min\u001b[39;00m all_configs ])\n",
            "File \u001b[0;32m~/Documents/QBMS/qbm_git/qbm_codes/qbm_utils.py:236\u001b[0m, in \u001b[0;36mIsingEnergyFunction.get_boltzmann_prob\u001b[0;34m(self, state, beta, normalised)\u001b[0m\n\u001b[1;32m    233\u001b[0m \u001b[39mdef\u001b[39;00m \u001b[39mget_boltzmann_prob\u001b[39m(\u001b[39mself\u001b[39m, state:Union[\u001b[39mstr\u001b[39m, np\u001b[39m.\u001b[39marray], beta:\u001b[39mfloat\u001b[39m\u001b[39m=\u001b[39m \u001b[39m1.0\u001b[39m, normalised\u001b[39m=\u001b[39m \u001b[39mTrue\u001b[39;00m ) \u001b[39m-\u001b[39m\u001b[39m>\u001b[39m \u001b[39mfloat\u001b[39m:\n\u001b[1;32m    235\u001b[0m     \u001b[39mif\u001b[39;00m normalised :\n\u001b[0;32m--> 236\u001b[0m         \u001b[39mreturn\u001b[39;00m np\u001b[39m.\u001b[39mexp( \u001b[39m-\u001b[39m\u001b[39m1\u001b[39m \u001b[39m*\u001b[39m beta \u001b[39m*\u001b[39m \u001b[39mself\u001b[39m\u001b[39m.\u001b[39mget_energy(state) ) \u001b[39m/\u001b[39m \u001b[39mself\u001b[39;49m\u001b[39m.\u001b[39;49mget_partition_sum(beta)\n\u001b[1;32m    238\u001b[0m     \u001b[39melse\u001b[39;00m:    \n\u001b[1;32m    239\u001b[0m         \u001b[39mreturn\u001b[39;00m np\u001b[39m.\u001b[39mexp( \u001b[39m-\u001b[39m\u001b[39m1\u001b[39m \u001b[39m*\u001b[39m beta \u001b[39m*\u001b[39m \u001b[39mself\u001b[39m\u001b[39m.\u001b[39mget_energy(state) )\n",
            "File \u001b[0;32m~/Documents/QBMS/qbm_git/qbm_codes/qbm_utils.py:231\u001b[0m, in \u001b[0;36mIsingEnergyFunction.get_partition_sum\u001b[0;34m(self, beta)\u001b[0m\n\u001b[1;32m    228\u001b[0m \u001b[39mdef\u001b[39;00m \u001b[39mget_partition_sum\u001b[39m(\u001b[39mself\u001b[39m, beta:\u001b[39mfloat\u001b[39m\u001b[39m=\u001b[39m \u001b[39m1.0\u001b[39m):           \u001b[39m## is computationally expensive\u001b[39;00m\n\u001b[1;32m    230\u001b[0m     all_configs \u001b[39m=\u001b[39m np\u001b[39m.\u001b[39marray(\u001b[39mlist\u001b[39m(itertools\u001b[39m.\u001b[39mproduct([\u001b[39m1\u001b[39m,\u001b[39m0\u001b[39m], repeat\u001b[39m=\u001b[39m \u001b[39mself\u001b[39m\u001b[39m.\u001b[39mnum_spins)))\n\u001b[0;32m--> 231\u001b[0m     \u001b[39mreturn\u001b[39;00m \u001b[39msum\u001b[39m([ \u001b[39mself\u001b[39m\u001b[39m.\u001b[39mget_boltzmann_prob(config) \u001b[39mfor\u001b[39;00m config \u001b[39min\u001b[39;00m all_configs ])\n",
            "File \u001b[0;32m~/Documents/QBMS/qbm_git/qbm_codes/qbm_utils.py:231\u001b[0m, in \u001b[0;36m<listcomp>\u001b[0;34m(.0)\u001b[0m\n\u001b[1;32m    228\u001b[0m \u001b[39mdef\u001b[39;00m \u001b[39mget_partition_sum\u001b[39m(\u001b[39mself\u001b[39m, beta:\u001b[39mfloat\u001b[39m\u001b[39m=\u001b[39m \u001b[39m1.0\u001b[39m):           \u001b[39m## is computationally expensive\u001b[39;00m\n\u001b[1;32m    230\u001b[0m     all_configs \u001b[39m=\u001b[39m np\u001b[39m.\u001b[39marray(\u001b[39mlist\u001b[39m(itertools\u001b[39m.\u001b[39mproduct([\u001b[39m1\u001b[39m,\u001b[39m0\u001b[39m], repeat\u001b[39m=\u001b[39m \u001b[39mself\u001b[39m\u001b[39m.\u001b[39mnum_spins)))\n\u001b[0;32m--> 231\u001b[0m     \u001b[39mreturn\u001b[39;00m \u001b[39msum\u001b[39m([ \u001b[39mself\u001b[39;49m\u001b[39m.\u001b[39;49mget_boltzmann_prob(config) \u001b[39mfor\u001b[39;00m config \u001b[39min\u001b[39;00m all_configs ])\n",
            "    \u001b[0;31m[... skipping similar frames: IsingEnergyFunction.get_boltzmann_prob at line 236 (988 times), <listcomp> at line 231 (987 times), IsingEnergyFunction.get_partition_sum at line 231 (987 times)]\u001b[0m\n",
            "File \u001b[0;32m~/Documents/QBMS/qbm_git/qbm_codes/qbm_utils.py:231\u001b[0m, in \u001b[0;36mIsingEnergyFunction.get_partition_sum\u001b[0;34m(self, beta)\u001b[0m\n\u001b[1;32m    228\u001b[0m \u001b[39mdef\u001b[39;00m \u001b[39mget_partition_sum\u001b[39m(\u001b[39mself\u001b[39m, beta:\u001b[39mfloat\u001b[39m\u001b[39m=\u001b[39m \u001b[39m1.0\u001b[39m):           \u001b[39m## is computationally expensive\u001b[39;00m\n\u001b[1;32m    230\u001b[0m     all_configs \u001b[39m=\u001b[39m np\u001b[39m.\u001b[39marray(\u001b[39mlist\u001b[39m(itertools\u001b[39m.\u001b[39mproduct([\u001b[39m1\u001b[39m,\u001b[39m0\u001b[39m], repeat\u001b[39m=\u001b[39m \u001b[39mself\u001b[39m\u001b[39m.\u001b[39mnum_spins)))\n\u001b[0;32m--> 231\u001b[0m     \u001b[39mreturn\u001b[39;00m \u001b[39msum\u001b[39m([ \u001b[39mself\u001b[39m\u001b[39m.\u001b[39mget_boltzmann_prob(config) \u001b[39mfor\u001b[39;00m config \u001b[39min\u001b[39;00m all_configs ])\n",
            "File \u001b[0;32m~/Documents/QBMS/qbm_git/qbm_codes/qbm_utils.py:231\u001b[0m, in \u001b[0;36m<listcomp>\u001b[0;34m(.0)\u001b[0m\n\u001b[1;32m    228\u001b[0m \u001b[39mdef\u001b[39;00m \u001b[39mget_partition_sum\u001b[39m(\u001b[39mself\u001b[39m, beta:\u001b[39mfloat\u001b[39m\u001b[39m=\u001b[39m \u001b[39m1.0\u001b[39m):           \u001b[39m## is computationally expensive\u001b[39;00m\n\u001b[1;32m    230\u001b[0m     all_configs \u001b[39m=\u001b[39m np\u001b[39m.\u001b[39marray(\u001b[39mlist\u001b[39m(itertools\u001b[39m.\u001b[39mproduct([\u001b[39m1\u001b[39m,\u001b[39m0\u001b[39m], repeat\u001b[39m=\u001b[39m \u001b[39mself\u001b[39m\u001b[39m.\u001b[39mnum_spins)))\n\u001b[0;32m--> 231\u001b[0m     \u001b[39mreturn\u001b[39;00m \u001b[39msum\u001b[39m([ \u001b[39mself\u001b[39;49m\u001b[39m.\u001b[39;49mget_boltzmann_prob(config) \u001b[39mfor\u001b[39;00m config \u001b[39min\u001b[39;00m all_configs ])\n",
            "File \u001b[0;32m~/Documents/QBMS/qbm_git/qbm_codes/qbm_utils.py:236\u001b[0m, in \u001b[0;36mIsingEnergyFunction.get_boltzmann_prob\u001b[0;34m(self, state, beta, normalised)\u001b[0m\n\u001b[1;32m    233\u001b[0m \u001b[39mdef\u001b[39;00m \u001b[39mget_boltzmann_prob\u001b[39m(\u001b[39mself\u001b[39m, state:Union[\u001b[39mstr\u001b[39m, np\u001b[39m.\u001b[39marray], beta:\u001b[39mfloat\u001b[39m\u001b[39m=\u001b[39m \u001b[39m1.0\u001b[39m, normalised\u001b[39m=\u001b[39m \u001b[39mTrue\u001b[39;00m ) \u001b[39m-\u001b[39m\u001b[39m>\u001b[39m \u001b[39mfloat\u001b[39m:\n\u001b[1;32m    235\u001b[0m     \u001b[39mif\u001b[39;00m normalised :\n\u001b[0;32m--> 236\u001b[0m         \u001b[39mreturn\u001b[39;00m np\u001b[39m.\u001b[39mexp( \u001b[39m-\u001b[39m\u001b[39m1\u001b[39m \u001b[39m*\u001b[39m beta \u001b[39m*\u001b[39m \u001b[39mself\u001b[39;49m\u001b[39m.\u001b[39;49mget_energy(state) ) \u001b[39m/\u001b[39m \u001b[39mself\u001b[39m\u001b[39m.\u001b[39mget_partition_sum(beta)\n\u001b[1;32m    238\u001b[0m     \u001b[39melse\u001b[39;00m:    \n\u001b[1;32m    239\u001b[0m         \u001b[39mreturn\u001b[39;00m np\u001b[39m.\u001b[39mexp( \u001b[39m-\u001b[39m\u001b[39m1\u001b[39m \u001b[39m*\u001b[39m beta \u001b[39m*\u001b[39m \u001b[39mself\u001b[39m\u001b[39m.\u001b[39mget_energy(state) )\n",
            "File \u001b[0;32m~/Documents/QBMS/qbm_git/qbm_codes/qbm_utils.py:221\u001b[0m, in \u001b[0;36mIsingEnergyFunction.get_energy\u001b[0;34m(self, state)\u001b[0m\n\u001b[1;32m    219\u001b[0m \u001b[39mdef\u001b[39;00m \u001b[39mget_energy\u001b[39m(\u001b[39mself\u001b[39m, state:Union[\u001b[39mstr\u001b[39m, np\u001b[39m.\u001b[39marray] )\u001b[39m-\u001b[39m\u001b[39m>\u001b[39m \u001b[39mfloat\u001b[39m:\n\u001b[0;32m--> 221\u001b[0m     \u001b[39mif\u001b[39;00m \u001b[39misinstance\u001b[39;49m(state, \u001b[39mstr\u001b[39;49m):\n\u001b[1;32m    222\u001b[0m         state \u001b[39m=\u001b[39m np\u001b[39m.\u001b[39marray( [\u001b[39mint\u001b[39m(\u001b[39mlist\u001b[39m(state)[i]) \u001b[39mfor\u001b[39;00m i \u001b[39min\u001b[39;00m \u001b[39mrange\u001b[39m(\u001b[39mlen\u001b[39m(state))])\n\u001b[1;32m    223\u001b[0m         energy \u001b[39m=\u001b[39m  np\u001b[39m.\u001b[39mdot(state\u001b[39m.\u001b[39mtranspose(), \u001b[39mself\u001b[39m\u001b[39m.\u001b[39mJ\u001b[39m.\u001b[39mdot(state)) \u001b[39m+\u001b[39m np\u001b[39m.\u001b[39mdot(\u001b[39mself\u001b[39m\u001b[39m.\u001b[39mh\u001b[39m.\u001b[39mtranspose(), state )\n",
            "\u001b[0;31mRecursionError\u001b[0m: maximum recursion depth exceeded while calling a Python object"
          ]
        }
      ],
      "source": [
        "# symmetric uniform transition matrix for uniform transition rule\n",
        "num_spins=4\n",
        "num_elems=2**(num_spins)\n",
        "transit_mat=np.ones((num_elems,num_elems))*(1./(2*num_elems))# in general case transit matrix could be entirely different\n",
        "np.fill_diagonal(transit_mat, 1./2)\n",
        "\n",
        "# Run MCMC with uniform random transition strategy\n",
        "N_hops=50\n",
        "dict_states_quantum_mcmc, mcmc_hist = quantum_enhanced_mcmc(N_hops, num_spins, num_elems, model, alpha, num_trotter_steps=10, return_history=True, return_last_n_states=50)\n",
        "\n",
        "# get actual probability distribution\n",
        "transits_bltz = dict( [ ( state, model.get_boltzmann_prob(state) ) for state in dict_states_quantum_mcmc.keys() ] )\n",
        "# plot actual prob distribution as well as one obtained from MCMC\n",
        "plot_histogram( [transits_bltz, dict_states_quantum_mcmc] , figsize=(15, 7), legend= ['model', 'Quantum-enhanced MCMC' ])#, sort= 'value_desc')"
      ]
    },
    {
      "cell_type": "code",
      "execution_count": 7,
      "metadata": {},
      "outputs": [
        {
          "data": {
            "text/plain": [
              "Counter({'1011': 3,\n",
              "         '1101': 10,\n",
              "         '1111': 23,\n",
              "         '1010': 3,\n",
              "         '1110': 3,\n",
              "         '1001': 3,\n",
              "         '0000': 2,\n",
              "         '1000': 3})"
            ]
          },
          "execution_count": 7,
          "metadata": {},
          "output_type": "execute_result"
        }
      ],
      "source": [
        "dict_states_quantum_mcmc"
      ]
    },
    {
      "cell_type": "code",
      "execution_count": 8,
      "metadata": {},
      "outputs": [],
      "source": [
        "import itertools"
      ]
    },
    {
      "cell_type": "code",
      "execution_count": 18,
      "metadata": {},
      "outputs": [
        {
          "data": {
            "text/plain": [
              "array([[1, 1, 1],\n",
              "       [1, 1, 0],\n",
              "       [1, 0, 1],\n",
              "       [1, 0, 0],\n",
              "       [0, 1, 1],\n",
              "       [0, 1, 0],\n",
              "       [0, 0, 1],\n",
              "       [0, 0, 0]])"
            ]
          },
          "execution_count": 18,
          "metadata": {},
          "output_type": "execute_result"
        }
      ],
      "source": [
        "np.array(list(itertools.product([1,0], repeat= 3)))"
      ]
    },
    {
      "cell_type": "code",
      "execution_count": 7,
      "metadata": {},
      "outputs": [
        {
          "data": {
            "text/plain": [
              "[1, 2, 3]"
            ]
          },
          "execution_count": 7,
          "metadata": {},
          "output_type": "execute_result"
        }
      ],
      "source": [
        "l = [1,2,3]\n",
        "l[-5:]"
      ]
    },
    {
      "cell_type": "code",
      "execution_count": null,
      "metadata": {
        "id": "ChwXDLqjJsYg",
        "outputId": "050cb42b-aa02-42ff-eea7-24d6fb4c987a"
      },
      "outputs": [
        {
          "data": {
            "text/plain": [
              "[Qubit(QuantumRegister(2, 'spin'), 0), Qubit(QuantumRegister(2, 'spin'), 1)]"
            ]
          },
          "execution_count": 9,
          "metadata": {},
          "output_type": "execute_result"
        }
      ],
      "source": [
        "initialise_qc(2, '11')[0].qubits"
      ]
    },
    {
      "cell_type": "code",
      "execution_count": null,
      "metadata": {
        "id": "W2fHELkuJsYh"
      },
      "outputs": [],
      "source": [
        "observables= ['rejection_count']\n",
        "observable_dict = dict([ ( elem, []  ) for elem in observables ])"
      ]
    },
    {
      "cell_type": "code",
      "execution_count": null,
      "metadata": {
        "id": "qQ6r30jeJsYi"
      },
      "outputs": [],
      "source": [
        "observable_dict['rejection_count'].append(0.2)"
      ]
    },
    {
      "cell_type": "code",
      "execution_count": null,
      "metadata": {
        "id": "3BpwTVcSJsYi",
        "outputId": "dd1688a5-3e46-4145-85b6-084ce2bc1944"
      },
      "outputs": [
        {
          "data": {
            "text/plain": [
              "[0.1, 0.2]"
            ]
          },
          "execution_count": 20,
          "metadata": {},
          "output_type": "execute_result"
        }
      ],
      "source": [
        "observable_dict['rejection_count']"
      ]
    },
    {
      "cell_type": "code",
      "execution_count": null,
      "metadata": {
        "id": "8RIGqbQGJsYj"
      },
      "outputs": [],
      "source": []
    },
    {
      "cell_type": "code",
      "execution_count": null,
      "metadata": {
        "id": "F48IcVacJsYk"
      },
      "outputs": [],
      "source": [
        "observable_df = pd.DataFrame(observable_dict)\n",
        "# observable_df.append([[0.4]])"
      ]
    },
    {
      "cell_type": "code",
      "execution_count": null,
      "metadata": {
        "id": "2jiPuAvCJsYk",
        "outputId": "2d31ab98-1e49-4966-9135-420cbebddb31"
      },
      "outputs": [
        {
          "data": {
            "text/html": [
              "<div>\n",
              "<style scoped>\n",
              "    .dataframe tbody tr th:only-of-type {\n",
              "        vertical-align: middle;\n",
              "    }\n",
              "\n",
              "    .dataframe tbody tr th {\n",
              "        vertical-align: top;\n",
              "    }\n",
              "\n",
              "    .dataframe thead th {\n",
              "        text-align: right;\n",
              "    }\n",
              "</style>\n",
              "<table border=\"1\" class=\"dataframe\">\n",
              "  <thead>\n",
              "    <tr style=\"text-align: right;\">\n",
              "      <th></th>\n",
              "      <th>rejection_count</th>\n",
              "    </tr>\n",
              "  </thead>\n",
              "  <tbody>\n",
              "    <tr>\n",
              "      <th>0</th>\n",
              "      <td>0.1</td>\n",
              "    </tr>\n",
              "    <tr>\n",
              "      <th>1</th>\n",
              "      <td>0.2</td>\n",
              "    </tr>\n",
              "  </tbody>\n",
              "</table>\n",
              "</div>"
            ],
            "text/plain": [
              "   rejection_count\n",
              "0              0.1\n",
              "1              0.2"
            ]
          },
          "execution_count": 22,
          "metadata": {},
          "output_type": "execute_result"
        }
      ],
      "source": [
        "observable_df"
      ]
    },
    {
      "cell_type": "code",
      "execution_count": null,
      "metadata": {
        "id": "7W5c4j6BJsYl"
      },
      "outputs": [],
      "source": [
        "## class for updating; \n",
        "# requirements ->\n",
        "# update_strategy = {classical, quantum}\n",
        "# measurements = {} : list of observables to measure over iterations\n",
        "\n",
        "\n",
        "\n",
        "def run_mcmc_sampling():\n",
        "    "
      ]
    }
  ],
  "metadata": {
    "accelerator": "GPU",
    "colab": {
      "include_colab_link": true,
      "provenance": []
    },
    "kernelspec": {
      "display_name": "Python 3.10.6 64-bit",
      "language": "python",
      "name": "python3"
    },
    "language_info": {
      "codemirror_mode": {
        "name": "ipython",
        "version": 3
      },
      "file_extension": ".py",
      "mimetype": "text/x-python",
      "name": "python",
      "nbconvert_exporter": "python",
      "pygments_lexer": "ipython3",
      "version": "3.10.6"
    },
    "orig_nbformat": 4,
    "vscode": {
      "interpreter": {
        "hash": "31f2aee4e71d21fbe5cf8b01ff0e069b9275f58929596ceb00d14d90e3e16cd6"
      }
    }
  },
  "nbformat": 4,
  "nbformat_minor": 0
}
