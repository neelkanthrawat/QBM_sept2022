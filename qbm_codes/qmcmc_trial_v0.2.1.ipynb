{
  "cells": [
    {
      "cell_type": "code",
      "execution_count": 1,
      "metadata": {
        "id": "8j8VtbXvAq1r"
      },
      "outputs": [],
      "source": [
        "import numpy as np\n",
        "import matplotlib.pyplot as plt\n",
        "import pandas as pd\n",
        "from tqdm import tqdm\n",
        "from collections import Counter"
      ]
    },
    {
      "cell_type": "code",
      "execution_count": null,
      "metadata": {
        "colab": {
          "base_uri": "https://localhost:8080/"
        },
        "id": "0Hz-A7mtA9Vi",
        "outputId": "2b9afdea-0c25-47f1-c63e-0e6309fbe9ad"
      },
      "outputs": [],
      "source": [
        "!pip install qiskit ipywidgets # while working on google colab!"
      ]
    },
    {
      "cell_type": "code",
      "execution_count": null,
      "metadata": {
        "colab": {
          "base_uri": "https://localhost:8080/"
        },
        "id": "Zt6GDRoNAtZJ",
        "outputId": "a1dce75c-0214-4c02-f469-2686457b30d6"
      },
      "outputs": [],
      "source": [
        "# while working on google colab, run this cell\n",
        "!wget https://raw.githubusercontent.com/neelkanthrawat/QBM_sept2022/main/qbm_codes/qbm_utils.py"
      ]
    },
    {
      "cell_type": "code",
      "execution_count": 2,
      "metadata": {
        "id": "bZo97FWnAq1u"
      },
      "outputs": [],
      "source": [
        "from qbm_utils import *\n",
        "from typing import Optional"
      ]
    },
    {
      "cell_type": "markdown",
      "metadata": {
        "id": "L9T8wv1MJie2"
      },
      "source": [
        "## Magnetization ent-to-end "
      ]
    },
    {
      "cell_type": "code",
      "execution_count": 3,
      "metadata": {
        "id": "vyTkKzGYJrX1"
      },
      "outputs": [],
      "source": [
        "def experiment_on_magnetization(n_spins, seed , num_seperate_mcmc_chains = 10 , strategy: Optional[str]= 'classical'):\n",
        "    ## put n_spins even always\n",
        "    \n",
        "    np.random.seed(101)\n",
        "    num_spins = n_spins\n",
        "    ## construct problem Hamiltonian ##\n",
        "    shape_of_J=(n_spins,n_spins)\n",
        "    J =  np.random.randn(n_spins,n_spins)#np.random.uniform(low= -1, high= 1, size= (n_spins, n_spins) )\n",
        "    J2 = 0.5 * (J + J.transpose() )\n",
        "    h = np.random.randn(n_spins)#np.random.uniform(low= -1, high = 1, size= (n_spins))\n",
        "\n",
        "    # instantiate the model\n",
        "    model = IsingEnergyFunction(J, h)\n",
        "\n",
        "    alpha = np.sqrt(n_spins) / np.sqrt( sum([J[i][j]**2 for i in range(n_spins) for j in range(i)]) + sum([h[j]**2 for j in range(n_spins)])  )\n",
        "    num_elems=2**(num_spins)\n",
        "\n",
        "    if strategy == 'classical' :\n",
        "        # Run MCMC with uniform random transition strategy\n",
        "        N_hops=2000\n",
        "        dict_5_iter_states_distn_mcmc={}\n",
        "        dict_5_iter_sprime_mcmc={}\n",
        "        dict_5_iter_accepted_mcmc={}\n",
        "        # num_seperate_mcmc_chains=10\n",
        "        for iteration in tqdm(range(0,num_seperate_mcmc_chains)):\n",
        "            dict_states_mcmc, cl_mcmc_after_trsn, cl_mcmc_after_accept = classical_mcmc(N_hops, num_spins, num_elems,model, return_last_n_states=600, return_both_classical_and_quantum_steps=True)\n",
        "            dict_5_iter_accepted_mcmc[iteration]=cl_mcmc_after_accept\n",
        "\n",
        "        ### data for plotting running average magnetization 5 cases seperately:\n",
        "        first_few=500\n",
        "        cl_running_avg_magzn=[running_avg_magnetization(list_states_mcmc=dict_5_iter_accepted_mcmc[m][:first_few+1]) for m in range(0,num_seperate_mcmc_chains)]\n",
        "\n",
        "        # array first_few_iterations X number of seperate mcmc chains:\n",
        "        array_avg_mag_diff_chains=np.zeros((first_few, num_seperate_mcmc_chains))\n",
        "        for i in range(0, num_seperate_mcmc_chains):\n",
        "            array_avg_mag_diff_chains[:,i]=list(cl_running_avg_magzn[i].values())\n",
        "\n",
        "        mean_mag_iterations=np.mean(array_avg_mag_diff_chains, axis=1)\n",
        "        std_dev=np.std(array_avg_mag_diff_chains, axis=1)\n",
        "\n",
        "        ## save data\n",
        "        columns = ['mcmc_'+str(i) for i in range(num_seperate_mcmc_chains)]\n",
        "        df = pd.DataFrame(array_avg_mag_diff_chains,columns = columns)\n",
        "        df.to_csv('magn_classical:' + '['+'spins='+ str(n_spins)+ ', seed='+ str(seed)+ '].csv')\n",
        "\n",
        "    if strategy == 'quantum' :\n",
        "        # Run MCMC with uniform random transition strategy\n",
        "        N_hops=2000\n",
        "        dict_5_iter_states_distn_mcmc={}\n",
        "        dict_5_iter_sprime_mcmc={}\n",
        "        dict_5_iter_accepted_mcmc={}\n",
        "        # num_seperate_mcmc_chains=10\n",
        "        for iteration in tqdm(range(0,num_seperate_mcmc_chains)):\n",
        "            dict_states_mcmc, cl_mcmc_after_trsn, cl_mcmc_after_accept = quantum_enhanced_mcmc(N_hops, num_spins, num_elems,model, return_last_n_states=600, alpha= alpha, return_both_classical_and_quantum_steps=True)\n",
        "            dict_5_iter_accepted_mcmc[iteration]=cl_mcmc_after_accept\n",
        "\n",
        "        ### data for plotting running average magnetization 5 cases seperately:\n",
        "        first_few=500\n",
        "        cl_running_avg_magzn=[running_avg_magnetization(list_states_mcmc=dict_5_iter_accepted_mcmc[m][:first_few+1]) for m in range(0,num_seperate_mcmc_chains)]\n",
        "\n",
        "        # array first_few_iterations X number of seperate mcmc chains:\n",
        "        array_avg_mag_diff_chains=np.zeros((first_few, num_seperate_mcmc_chains))\n",
        "        for i in range(0, num_seperate_mcmc_chains):\n",
        "            array_avg_mag_diff_chains[:,i]=list(cl_running_avg_magzn[i].values())\n",
        "\n",
        "        mean_mag_iterations=np.mean(array_avg_mag_diff_chains, axis=1)\n",
        "        std_dev=np.std(array_avg_mag_diff_chains, axis=1)\n",
        "\n",
        "        ## save data\n",
        "        columns = ['mcmc_'+str(i) for i in range(num_seperate_mcmc_chains)]\n",
        "        df = pd.DataFrame(array_avg_mag_diff_chains,columns = columns)\n",
        "        df.to_csv('magn_quantum:' + '['+'spins='+ str(n_spins)+ ', seed='+ str(seed)+ '].csv')\n",
        "  "
      ]
    },
    {
      "cell_type": "code",
      "execution_count": 10,
      "metadata": {
        "colab": {
          "base_uri": "https://localhost:8080/",
          "height": 130
        },
        "id": "Hd45JSWIJrQy",
        "outputId": "b3ec0db3-8296-4ebc-aa2d-a713a7c94e58"
      },
      "outputs": [
        {
          "name": "stderr",
          "output_type": "stream",
          "text": [
            "  0%|          | 0/10 [00:00<?, ?it/s]"
          ]
        },
        {
          "name": "stdout",
          "output_type": "stream",
          "text": [
            "starting with:  01111111\n"
          ]
        },
        {
          "name": "stderr",
          "output_type": "stream",
          "text": [
            "100%|██████████| 2000/2000 [00:01<00:00, 1900.33it/s]\n",
            " 10%|█         | 1/10 [00:01<00:11,  1.25s/it]"
          ]
        },
        {
          "name": "stdout",
          "output_type": "stream",
          "text": [
            "starting with:  10101010\n"
          ]
        },
        {
          "name": "stderr",
          "output_type": "stream",
          "text": [
            "100%|██████████| 2000/2000 [00:01<00:00, 1595.66it/s]\n",
            " 20%|██        | 2/10 [00:02<00:10,  1.26s/it]"
          ]
        },
        {
          "name": "stdout",
          "output_type": "stream",
          "text": [
            "starting with:  00011111\n"
          ]
        },
        {
          "name": "stderr",
          "output_type": "stream",
          "text": [
            "100%|██████████| 2000/2000 [00:01<00:00, 1919.66it/s]\n",
            " 30%|███       | 3/10 [00:03<00:08,  1.16s/it]"
          ]
        },
        {
          "name": "stdout",
          "output_type": "stream",
          "text": [
            "starting with:  00011100\n"
          ]
        },
        {
          "name": "stderr",
          "output_type": "stream",
          "text": [
            "100%|██████████| 2000/2000 [00:01<00:00, 1929.96it/s]\n",
            " 40%|████      | 4/10 [00:04<00:06,  1.12s/it]"
          ]
        },
        {
          "name": "stdout",
          "output_type": "stream",
          "text": [
            "starting with:  01110101\n"
          ]
        },
        {
          "name": "stderr",
          "output_type": "stream",
          "text": [
            "100%|██████████| 2000/2000 [00:01<00:00, 1975.01it/s]\n",
            " 50%|█████     | 5/10 [00:05<00:05,  1.08s/it]"
          ]
        },
        {
          "name": "stdout",
          "output_type": "stream",
          "text": [
            "starting with:  01100111\n"
          ]
        },
        {
          "name": "stderr",
          "output_type": "stream",
          "text": [
            "100%|██████████| 2000/2000 [00:00<00:00, 2029.19it/s]\n",
            " 60%|██████    | 6/10 [00:06<00:04,  1.05s/it]"
          ]
        },
        {
          "name": "stdout",
          "output_type": "stream",
          "text": [
            "starting with:  00101111\n"
          ]
        },
        {
          "name": "stderr",
          "output_type": "stream",
          "text": [
            "100%|██████████| 2000/2000 [00:01<00:00, 1983.79it/s]\n",
            " 70%|███████   | 7/10 [00:07<00:03,  1.04s/it]"
          ]
        },
        {
          "name": "stdout",
          "output_type": "stream",
          "text": [
            "starting with:  11110001\n"
          ]
        },
        {
          "name": "stderr",
          "output_type": "stream",
          "text": [
            "100%|██████████| 2000/2000 [00:01<00:00, 1841.47it/s]\n",
            " 80%|████████  | 8/10 [00:08<00:02,  1.06s/it]"
          ]
        },
        {
          "name": "stdout",
          "output_type": "stream",
          "text": [
            "starting with:  00000011\n"
          ]
        },
        {
          "name": "stderr",
          "output_type": "stream",
          "text": [
            "100%|██████████| 2000/2000 [00:01<00:00, 1862.44it/s]\n",
            " 90%|█████████ | 9/10 [00:09<00:01,  1.06s/it]"
          ]
        },
        {
          "name": "stdout",
          "output_type": "stream",
          "text": [
            "starting with:  10001111\n"
          ]
        },
        {
          "name": "stderr",
          "output_type": "stream",
          "text": [
            "100%|██████████| 2000/2000 [00:01<00:00, 1532.22it/s]\n",
            "100%|██████████| 10/10 [00:11<00:00,  1.11s/it]\n",
            "100%|██████████| 500/500 [00:01<00:00, 379.91it/s] \n",
            "100%|██████████| 500/500 [00:01<00:00, 411.48it/s] \n",
            "100%|██████████| 500/500 [00:01<00:00, 397.60it/s] \n",
            "100%|██████████| 500/500 [00:01<00:00, 462.99it/s] \n",
            "100%|██████████| 500/500 [00:01<00:00, 473.87it/s] \n",
            "100%|██████████| 500/500 [00:01<00:00, 454.84it/s] \n",
            "100%|██████████| 500/500 [00:01<00:00, 443.03it/s] \n",
            "100%|██████████| 500/500 [00:01<00:00, 460.77it/s] \n",
            "100%|██████████| 500/500 [00:01<00:00, 431.58it/s] \n",
            "100%|██████████| 500/500 [00:01<00:00, 315.44it/s] \n"
          ]
        }
      ],
      "source": [
        "experiment_on_magnetization(8, 1201, strategy= 'classical')"
      ]
    },
    {
      "cell_type": "code",
      "execution_count": 11,
      "metadata": {
        "colab": {
          "base_uri": "https://localhost:8080/",
          "height": 514
        },
        "id": "zfJFBw4SS_wd",
        "outputId": "90fce425-6596-4f6b-ad64-1197ea49d2ff"
      },
      "outputs": [
        {
          "data": {
            "text/plain": [
              "<matplotlib.legend.Legend at 0x7fed40891360>"
            ]
          },
          "execution_count": 11,
          "metadata": {},
          "output_type": "execute_result"
        },
        {
          "data": {
            "image/png": "[encoded data removed]",
            "text/plain": [
              "<Figure size 1440x576 with 1 Axes>"
            ]
          },
          "metadata": {
            "needs_background": "light"
          },
          "output_type": "display_data"
        }
      ],
      "source": [
        "df_t = pd.read_csv('/home/rajarsi/Documents/QBMS/qbm_git/qbm_codes/magn_classical:[spins=8, seed=124101].csv')\n",
        "index = list(df_t.index)\n",
        "index = [int(j) for j in index]\n",
        "fig = plt.figure(figsize=(20,8))\n",
        "# plt.plot(np.linspace(0,45,5),np.linspace(0,45,5), linestyle='dotted', label= 'KYd = d')\n",
        "plt.grid(True)\n",
        "plt.errorbar(index, df_t.mean(axis=1), yerr= df_t.std(axis=1), errorevery= 10 ,label = 'Magn-classical',uplims= True, lolims=True, marker= 'o', color= 'r',linestyle='dashdot')\n",
        "plt.xlabel(\"iteration\")\n",
        "plt.ylabel(\"magnetization\")\n",
        "plt.legend()\n",
        "# plt.title('KYd vs. d (statistics)')"
      ]
    },
    {
      "cell_type": "code",
      "execution_count": null,
      "metadata": {
        "id": "6KXgUbkkJrH7"
      },
      "outputs": [],
      "source": []
    },
    {
      "cell_type": "code",
      "execution_count": null,
      "metadata": {
        "id": "yGa0SQbzJq3W"
      },
      "outputs": [],
      "source": []
    },
    {
      "cell_type": "markdown",
      "metadata": {
        "id": "F_GVM83HD2Kh"
      },
      "source": [
        "### Define your model"
      ]
    },
    {
      "cell_type": "code",
      "execution_count": 12,
      "metadata": {
        "id": "KOeMOjD5Aq1v"
      },
      "outputs": [],
      "source": [
        "# define the model\n",
        "## put n_spins even always\n",
        "n_spins = 8\n",
        "\n",
        "np.random.seed(101)\n",
        "## construct problem Hamiltonian ##\n",
        "shape_of_J=(n_spins,n_spins)\n",
        "J =  np.random.randn(n_spins,n_spins)#np.random.uniform(low= -1, high= 1, size= (n_spins, n_spins) )\n",
        "J2 = 0.5 * (J + J.transpose() )\n",
        "h = np.random.randn(n_spins)#np.random.uniform(low= -1, high = 1, size= (n_spins))\n",
        "\n",
        "# instantiate the model\n",
        "model = IsingEnergyFunction(J, h)\n",
        "\n",
        "alpha = np.sqrt(n_spins) / np.sqrt( sum([J[i][j]**2 for i in range(n_spins) for j in range(i)]) + sum([h[j]**2 for j in range(n_spins)])  )\n"
      ]
    },
    {
      "cell_type": "markdown",
      "metadata": {
        "id": "51HJZt-pAq1w"
      },
      "source": [
        "### Some updated funcs"
      ]
    },
    {
      "cell_type": "code",
      "execution_count": 6,
      "metadata": {
        "id": "wqKR3qcaAq1y"
      },
      "outputs": [],
      "source": [
        "def classical_mcmc(N_hops:int, num_spins:int, num_elems:int, model, return_last_n_states=500, return_both_classical_and_quantum_steps=False ):\n",
        "    ''' \n",
        "    version 0.2\n",
        "    Args: \n",
        "    Nhops: Number of time you want to run mcmc\n",
        "    num_spins: number of spins\n",
        "    num_elems: 2**(num_spins)\n",
        "    model\n",
        "\n",
        "    Returns:\n",
        "    Last 'return_last_n_states' elements of states so collected (default value=500). one can then deduce the distribution from it! \n",
        "    '''\n",
        "    states=[]\n",
        "    current_state=f'{np.random.randint(0,num_elems):0{num_spins}b}'# bin_next_state=f'{next_state:0{num_spins}b}'\n",
        "    print(\"starting with: \", current_state) \n",
        "\n",
        "    ## initialiiise observables\n",
        "    #observable_dict = dict([ (elem, []) for elem in observables ])\n",
        "    list_after_transition=[]\n",
        "    list_after_acceptance_step=[]\n",
        "\n",
        "    for i in tqdm(range(0, N_hops)):\n",
        "        states.append(current_state)\n",
        "        # get sprime\n",
        "        s_prime=classical_transition(num_spins)\n",
        "        list_after_transition.append(s_prime)\n",
        "        # accept/reject s_prime \n",
        "        energy_s=model.get_energy(current_state)\n",
        "        energy_sprime=model.get_energy(s_prime)\n",
        "        next_state= classical_loop_accepting_state(current_state, s_prime, energy_s, energy_sprime,temp=1)\n",
        "        current_state= next_state\n",
        "        list_after_acceptance_step.append(current_state)\n",
        "        # if store_observables:  ## store the observables \n",
        "          \n",
        "        #   if next_state == s_prime: observable_dict['acceptance'].append('True')\n",
        "        #   else: observable_dict['acceptance'].append('False')\n",
        "        #   observable_dict['energy'].append(model.get_energy(next_state))\n",
        "\n",
        "        ## reinitiate\n",
        "        qc_s=initialise_qc(n_spins=num_spins, bitstring=current_state)\n",
        "    \n",
        "    # returns dictionary of occurences for last \"return_last_n_states\" states\n",
        "    dict_count_return_last_n_states=Counter(states[-return_last_n_states:])\n",
        "    \n",
        "    if return_both_classical_and_quantum_steps: \n",
        "        to_return = dict_count_return_last_n_states, list_after_transition, list_after_acceptance_step\n",
        "    else: \n",
        "        to_return= dict_count_return_last_n_states \n",
        "    \n",
        "    return to_return"
      ]
    },
    {
      "cell_type": "code",
      "execution_count": 7,
      "metadata": {
        "id": "vXzV3CDwAq10"
      },
      "outputs": [],
      "source": [
        "def quantum_enhanced_mcmc(N_hops:int, num_spins:int, num_elems:int, model:IsingEnergyFunction, alpha, num_trotter_steps=10, return_last_n_states=500, return_both_classical_and_quantum_steps=False):\n",
        "    ''' \n",
        "    version 0.2\n",
        "    Args: \n",
        "    Nhops: Number of time you want to run mcmc\n",
        "    num_spins: number of spins\n",
        "    num_elems: 2**(num_spins)\n",
        "\n",
        "    Returns:\n",
        "    Last 'return_last_n_states' elements of states so collected (default value=500). one can then deduce the distribution from it! \n",
        "    '''\n",
        "    states=[]\n",
        "    current_state=f'{np.random.randint(0,num_elems):0{num_spins}b}'# bin_next_state=f'{next_state:0{num_spins}b}'\n",
        "    print(\"starting with: \", current_state) \n",
        "    ## initialise quantum circuit to current_state\n",
        "    qc_s=initialise_qc(n_spins=num_spins, bitstring=current_state)\n",
        "    #print(\"qc_s is:\"); print(qc_s.draw())\n",
        "\n",
        "    ## intialise observables\n",
        "    #observable_dict = dict([ ( elem, []  ) for elem in observables ])\n",
        "    list_after_transition=[]\n",
        "    list_after_acceptance_step=[]\n",
        "\n",
        "    for i in tqdm(range(0, N_hops)):\n",
        "        #print(\"i: \", i)\n",
        "        states.append(current_state)\n",
        "        # get sprime\n",
        "        s_prime=run_qc_quantum_step(qc_initialised_to_s=qc_s, model= model, alpha=alpha, n_spins=num_spins, num_trotter_steps=num_trotter_steps, time=0.8)\n",
        "        list_after_transition.append(s_prime)\n",
        "        # accept/reject s_prime \n",
        "        energy_s=model.get_energy(current_state)\n",
        "        energy_sprime=model.get_energy(s_prime)\n",
        "        next_state= classical_loop_accepting_state(current_state, s_prime, energy_s, energy_sprime,temp=1)\n",
        "        current_state=next_state\n",
        "        # if current_state!=next_state:# this seems to be a redundant step. I could have set current_state=classical_loop_accepting_state(current_state, s_prime, energy_s, energy_sprime,temp=1)\n",
        "        #   current_state= next_state\n",
        "        list_after_acceptance_step.append(current_state)\n",
        "\n",
        "        # if store_observables:  ## store the observables \n",
        "          \n",
        "        #   if next_state == s_prime: observable_dict['acceptance'].append('True')\n",
        "        #   else: observable_dict['acceptance'].append('False')\n",
        "        #   observable_dict['energy'].append(model.get_energy(next_state))\n",
        "\n",
        "        ## reinitiate\n",
        "        qc_s=initialise_qc(n_spins=num_spins, bitstring=current_state)\n",
        "      \n",
        "    dict_count_return_last_n_states=Counter(states[-return_last_n_states:])#dictionary of occurences for last \"return_last_n_states\" states\n",
        "\n",
        "    if return_both_classical_and_quantum_steps: \n",
        "      to_return= dict_count_return_last_n_states, list_after_transition, list_after_acceptance_step\n",
        "    else: \n",
        "      to_return= dict_count_return_last_n_states\n",
        "\n",
        "    return to_return"
      ]
    },
    {
      "cell_type": "markdown",
      "metadata": {
        "id": "ALhUoauAD2K0"
      },
      "source": [
        "### Some new helper functions"
      ]
    },
    {
      "cell_type": "code",
      "execution_count": 8,
      "metadata": {
        "id": "jeeJADzzAq12"
      },
      "outputs": [],
      "source": [
        "# some new helper functions\n",
        "def states(num_spins:int)->list:\n",
        "    ''' \n",
        "    Returns all possible binary strings of length n=num_spins\n",
        "\n",
        "    Args:\n",
        "    num_spins: n length of the bitstring\n",
        "    Returns:\n",
        "    possible_states= list of all possible binary strings of length num_spins\n",
        "    '''\n",
        "    num_possible_states=2**(num_spins)\n",
        "    possible_states=[f'{k:0{num_spins}b}' for k in range(0,num_possible_states)]\n",
        "    return possible_states\n",
        "\n",
        "def magnetization_of_state(bitstring:str)->float:\n",
        "    '''  \n",
        "    Args:\n",
        "    bitstring: for eg: '010'\n",
        "    Returns:\n",
        "    magnetization for the given bitstring\n",
        "    '''\n",
        "    array=np.array(list(bitstring))\n",
        "    num_times_one=np.count_nonzero(array=='1')\n",
        "    num_times_zero=len(array)-num_times_one\n",
        "    magnetization=num_times_one-num_times_zero\n",
        "    return magnetization\n",
        "\n",
        "def dict_magnetization_of_all_states(list_all_possible_states:list)->dict:\n",
        "    '''\n",
        "    Returns magnetization for all unique states\n",
        "    \n",
        "    Args:\n",
        "    list_all_possible_states\n",
        "    Returns:\n",
        "    dict_magnetization={state(str): magnetization_value}\n",
        "    '''\n",
        "    list_mag_vals=[magnetization_of_state(state) for state in list_all_possible_states]\n",
        "    dict_magnetization=dict(zip(list_all_possible_states, list_mag_vals ))\n",
        "    #print(\"dict_magnetization:\"); print(dict_magnetization)\n",
        "    return dict_magnetization\n",
        "  \n",
        "def value_sorted_dict(dict_in, reverse=False):\n",
        "\n",
        "  sorted_dict={k: v for k, v in sorted(dict_in.items(), key=lambda item: item[1], reverse=reverse)}\n",
        "  return sorted_dict\n",
        "\n",
        "\n",
        "## enter samples, get normalised distn\n",
        "def get_distn(list_of_samples:list)-> dict:\n",
        "  '''   \n",
        "  Returns the dictionary of distn for input list_of_samples\n",
        "  '''\n",
        "  len_list=len(list_of_samples)\n",
        "  temp_dict=Counter(list_of_samples)\n",
        "  temp_prob_list=np.array(list(temp_dict.values()))*(1./len_list)\n",
        "  dict_to_return=dict(zip( list(temp_dict.keys()), temp_prob_list))\n",
        "  return dict_to_return\n",
        "\n",
        "\n",
        "## Average\n",
        "def avg(dict_probabilities:dict, dict_observable_val_at_states:dict):\n",
        "  ''' \n",
        "  Returns average of any observable of interest\n",
        "\n",
        "  Args:\n",
        "  dict_probabilities= {state: probability}\n",
        "  dict_observable_val_at_states={state (same as that of dict_probabilities): observable's value at that state}\n",
        "\n",
        "  Returns:\n",
        "  avg\n",
        "  '''\n",
        "  len_dict=len(dict_probabilities)\n",
        "  temp_array=np.zeros((len_dict,))\n",
        "  temp_list=[dict_probabilities[j]*dict_observable_val_at_states[j] for j in (list(dict_probabilities.keys())) ]\n",
        "  avg=np.mean(temp_list)\n",
        "  return avg\n",
        "\n",
        "### function to get running average of magnetization\n",
        "def running_avg_magnetization(list_states_mcmc:list):\n",
        "  ''' \n",
        "  Returns the running average magnetization \n",
        "\n",
        "  Args:\n",
        "  list_states_mcmc= List of states aceepted after each MCMC step\n",
        "  '''\n",
        "  len_iters_mcmc=len(list_states_mcmc)\n",
        "  running_avg_mag={}\n",
        "  for i in tqdm(range(1,len_iters_mcmc)):\n",
        "    temp_list=list_states_mcmc[:i]#[:i]\n",
        "    temp_prob=get_distn(temp_list)\n",
        "    dict_mag_states_in_temp_prob=dict_magnetization_of_all_states(temp_list)\n",
        "    running_avg_mag[i]=avg(temp_prob, dict_mag_states_in_temp_prob)\n",
        "  return running_avg_mag\n",
        "\n",
        "\n",
        "\n",
        "## Plotting related\n",
        "def plot_dict_of_running_avg_observable(dict_running_avg:dict, observable_legend_label:str):\n",
        "  plt.plot(list(dict_running_avg.keys()), list(dict_running_avg.values()),\"-\" ,label=observable_legend_label)\n",
        "  plt.xlabel(\"MCMC iterations\")\n",
        "\n",
        "def plot_bargraph_desc_order(desc_val_order_dict_in:dict, label:str, normalise_complete_data:bool=False,plot_first_few:int=0):\n",
        "  width=1.0\n",
        "  list_keys=list(desc_val_order_dict_in.keys())\n",
        "  list_vals=list(desc_val_order_dict_in.values())\n",
        "  if normalise_complete_data:\n",
        "    list_vals=np.divide(list_vals, sum(list_vals))#np.divide(list(vals), sum(vals))\n",
        "  if plot_first_few!=0:\n",
        "    plt.bar(list_keys[0:plot_first_few], list_vals[0:plot_first_few], label=label)\n",
        "  else:\n",
        "    plt.bar(list_keys, list_vals, label=label)\n",
        "  plt.xticks(rotation=45)\n",
        "\n",
        "def plot_multiple_bargraphs(list_of_dicts:list,list_labels:list,list_normalise:list ,plot_first_few,  sort_desc=False,sort_asc=False, figsize=(15,7)):\n",
        "  list_keys=list(list_of_dicts[0].keys())\n",
        "  dict_data={}\n",
        "  for i in range(0,len(list_labels)):\n",
        "    #list_vals=[list_of_dicts[i][j] for j in list_keys if j in list(list_of_dicts[i].keys()) else 0] #list(list_of_dicts[i].values())\n",
        "    list_vals=[list_of_dicts[i][j] if j in list(list_of_dicts[i].keys()) else 0 for j in list_keys]\n",
        "    if list_normalise[i]:\n",
        "      list_vals=np.divide(list_vals, sum(list_vals))\n",
        "    dict_data[list_labels[i]]=list_vals\n",
        "  df=pd.DataFrame(dict_data, index=list_keys)\n",
        "  if sort_desc:\n",
        "    df_sorted_desc=df.sort_values(list_labels[0], ascending=False)\n",
        "    df_sorted_desc[:plot_first_few].plot.bar(rot=90,figsize=figsize)\n",
        "  elif sort_asc:\n",
        "    df_sorted_asc=df.sort_values(list_labels[0], ascending=True)\n",
        "    df_sorted_asc[:plot_first_few].plot.bar(rot=90,figsize=figsize)\n",
        "  elif (sort_desc==False and sort_asc==False):\n",
        "    df[:plot_first_few].plot.bar(rot=90,figsize=figsize)\n",
        "\n",
        "\n",
        "# function to create dict for number of times states sprime were not accepted in MCMC iterations\n",
        "def fn_numtimes_bitstring_not_accepted(list_after_trsn, list_after_accept, bitstring):\n",
        "\n",
        "  where_sprime_is_bitstr=list(np.where( np.array(list_after_trsn) == bitstring)[0])\n",
        "  where_bitstr_not_accepted=[k for k in where_sprime_is_bitstr if list_after_accept[k]!=bitstring]\n",
        "  numtimes_sprime_is_bitstring= len(where_sprime_is_bitstr)\n",
        "  numtimes_bitstring_not_accepted=len(where_bitstr_not_accepted)\n",
        "  return numtimes_bitstring_not_accepted, numtimes_sprime_is_bitstring\n",
        "\n",
        "def fn_states_not_accepted(list_states:list, list_after_trsn:list, list_after_accept:list):\n",
        "  list_numtimes_state_not_accepted=[fn_numtimes_bitstring_not_accepted(list_after_trsn, list_after_accept,k)[0] for k in list_states]\n",
        "  list_numtimes_sprime_is_state=[fn_numtimes_bitstring_not_accepted(list_after_trsn, list_after_accept,k)[1] for k in list_states]\n",
        "  dict_numtimes_states_not_accepted=dict(zip(list_states, list_numtimes_state_not_accepted))\n",
        "  dict_numtimes_sprime_is_state=dict(zip(list_states, list_numtimes_sprime_is_state))\n",
        "  return dict_numtimes_states_not_accepted, dict_numtimes_sprime_is_state"
      ]
    },
    {
      "cell_type": "code",
      "execution_count": 9,
      "metadata": {
        "id": "K_psDXWVD2K9"
      },
      "outputs": [],
      "source": [
        "states_nbit=states(num_spins=n_spins)\n",
        "\n",
        "# Actual_probability distribution\n",
        "transits_bltz = dict( [ ( state, model.get_boltzmann_prob(state) ) for state in states_nbit ] )\n",
        "rqd_sum=np.sum(np.array(list(transits_bltz.values())))\n",
        "#print(rqd_sum)\n",
        "prob_vals=list(np.array(list(transits_bltz.values()))*(1./rqd_sum))\n",
        "boltz_prob_distn=value_sorted_dict( dict(zip(states_nbit, prob_vals )), reverse=True )"
      ]
    },
    {
      "cell_type": "markdown",
      "metadata": {
        "id": "IekfaYLOD_67"
      },
      "source": [
        "## Run classical MCMC"
      ]
    },
    {
      "cell_type": "code",
      "execution_count": 32,
      "metadata": {
        "id": "QJGVQcuVD_Cf"
      },
      "outputs": [
        {
          "name": "stderr",
          "output_type": "stream",
          "text": [
            "  0%|          | 0/10 [00:00<?, ?it/s]"
          ]
        },
        {
          "name": "stdout",
          "output_type": "stream",
          "text": [
            "starting with:  01111111\n"
          ]
        },
        {
          "name": "stderr",
          "output_type": "stream",
          "text": []
        }
      ],
      "source": [
        "# define the model\n",
        "## put n_spins even always\n",
        "n_spins = 8\n",
        "\n",
        "np.random.seed(101)\n",
        "## construct problem Hamiltonian ##\n",
        "shape_of_J=(n_spins,n_spins)\n",
        "J =  np.random.randn(n_spins,n_spins)#np.random.uniform(low= -1, high= 1, size= (n_spins, n_spins) )\n",
        "J2 = 0.5 * (J + J.transpose() )\n",
        "h = np.random.randn(n_spins)#np.random.uniform(low= -1, high = 1, size= (n_spins))\n",
        "\n",
        "# instantiate the model\n",
        "model = IsingEnergyFunction(J, h)\n",
        "\n",
        "alpha = np.sqrt(n_spins) / np.sqrt( sum([J[i][j]**2 for i in range(n_spins) for j in range(i)]) + sum([h[j]**2 for j in range(n_spins)])  )\n",
        "\n",
        "# symmetric uniform transition matrix for uniform transition rule\n",
        "num_spins=n_spins#4\n",
        "num_elems=2**(num_spins)\n",
        "# transit_mat=np.ones((num_elems,num_elems))*(1./(2*num_elems))# in general case transit matrix could be entirely different\n",
        "# np.fill_diagonal(transit_mat, 1./2)\n",
        "\n",
        "# Run MCMC with uniform random transition strategy\n",
        "\n",
        "N_hops=200\n",
        "dict_5_iter_states_distn_mcmc={}\n",
        "dict_5_iter_sprime_mcmc={}\n",
        "dict_5_iter_accepted_mcmc={}\n",
        "num_seperate_mcmc_chains=10\n",
        "for iteration in tqdm(range(0,num_seperate_mcmc_chains)):\n",
        "    # dict_states_mcmc, cl_mcmc_after_trsn, cl_mcmc_after_accept = classical_mcmc(N_hops, num_spins, num_elems,model, return_last_n_states=600, return_both_classical_and_quantum_steps=True)\n",
        "    dict_states_mcmc, cl_mcmc_after_trsn, cl_mcmc_after_accept = quantum_enhanced_mcmc(N_hops, num_spins, num_elems,model, return_last_n_states=600, alpha= alpha, return_both_classical_and_quantum_steps=True)\n",
        "    dict_states_mcmc_sorted_desc=value_sorted_dict(dict_states_mcmc, reverse=True)\n",
        "    \n",
        "    # dict_5_iter_states_distn_mcmc[iteration]=dict_states_mcmc_sorted_desc\n",
        "    # dict_5_iter_sprime_mcmc[iteration]=cl_mcmc_after_trsn\n",
        "    dict_5_iter_accepted_mcmc[iteration]=cl_mcmc_after_accept\n",
        "\n",
        "### data for plotting running average magnetization 5 cases seperately:\n",
        "first_few=100\n",
        "cl_running_avg_magzn=[running_avg_magnetization(list_states_mcmc=dict_5_iter_accepted_mcmc[m][:first_few+1]) for m in range(0,num_seperate_mcmc_chains)]\n",
        "\n",
        "# array first_few_iterations X number of seperate mcmc chains:\n",
        "array_avg_mag_diff_chains=np.zeros((first_few, num_seperate_mcmc_chains))\n",
        "for i in range(0, num_seperate_mcmc_chains):\n",
        "    array_avg_mag_diff_chains[:,i]=list(cl_running_avg_magzn[i].values())\n",
        "\n",
        "# mean_mag_iterations=np.mean(array_avg_mag_diff_chains, axis=1)\n",
        "# std_dev=np.std(array_avg_mag_diff_chains, axis=1)\n",
        "\n",
        "columns = ['mcmc_'+str(i) for i in range(num_seperate_mcmc_chains)]\n",
        "df_t = pd.DataFrame(array_avg_mag_diff_chains,columns = columns)\n",
        "df_t"
      ]
    },
    {
      "cell_type": "code",
      "execution_count": 28,
      "metadata": {},
      "outputs": [
        {
          "data": {
            "text/plain": [
              "<matplotlib.legend.Legend at 0x7fed33c738b0>"
            ]
          },
          "execution_count": 28,
          "metadata": {},
          "output_type": "execute_result"
        },
        {
          "data": {
            "image/png": "[encoded data removed]",
            "text/plain": [
              "<Figure size 1440x576 with 1 Axes>"
            ]
          },
          "metadata": {
            "needs_background": "light"
          },
          "output_type": "display_data"
        }
      ],
      "source": [
        "index = list(df_t.index)\n",
        "index = [int(j) for j in index]\n",
        "fig = plt.figure(figsize=(20,8))\n",
        "# plt.plot(np.linspace(0,45,5),np.linspace(0,45,5), linestyle='dotted', label= 'KYd = d')\n",
        "plt.grid(True)\n",
        "plt.errorbar(index, df_t.mean(axis=1), yerr= df_t.std(axis=1), errorevery= 100 ,label = 'Magn-classical',uplims= True, lolims=True, marker= '*', color= 'r',linestyle='dashdot')\n",
        "plt.xlabel(\"iteration\")\n",
        "plt.ylabel(\"magnetization\")\n",
        "plt.legend()"
      ]
    },
    {
      "cell_type": "code",
      "execution_count": 16,
      "metadata": {
        "colab": {
          "base_uri": "https://localhost:8080/",
          "height": 445
        },
        "id": "G8Fq4D7FD2LE",
        "outputId": "f7c6161f-3035-489c-a26d-7ad485112eab"
      },
      "outputs": [
        {
          "data": {
            "text/plain": [
              "<matplotlib.legend.Legend at 0x7fed3c578dc0>"
            ]
          },
          "execution_count": 16,
          "metadata": {},
          "output_type": "execute_result"
        },
        {
          "data": {
            "image/png": "[encoded data removed]",
            "text/plain": [
              "<Figure size 1440x504 with 1 Axes>"
            ]
          },
          "metadata": {
            "needs_background": "light"
          },
          "output_type": "display_data"
        }
      ],
      "source": [
        "plt.figure(figsize=(20,7))\n",
        "magnetization_of_all_states=dict_magnetization_of_all_states(states_nbit)\n",
        "actual_avg_mag=avg(dict_probabilities=boltz_prob_distn, dict_observable_val_at_states=magnetization_of_all_states)\n",
        "plt.plot(mean_mag_iterations,\":\" ,label=\"Cl mcmc\")\n",
        "plt.axhline(y=actual_avg_mag,linestyle=\"-\", color=\"k\" ,label=\"Actual\")\n",
        "plt.legend()"
      ]
    },
    {
      "cell_type": "code",
      "execution_count": null,
      "metadata": {
        "colab": {
          "base_uri": "https://localhost:8080/"
        },
        "id": "ltOSt5END2LG",
        "outputId": "e3679f93-f5c8-4768-b791-57255ead586f"
      },
      "outputs": [
        {
          "name": "stderr",
          "output_type": "stream",
          "text": [
            "100%|██████████| 10/10 [00:01<00:00,  5.36it/s]"
          ]
        },
        {
          "name": "stdout",
          "output_type": "stream",
          "text": [
            "[7.7, 7.4, 6.6, 8.7, 6.9, 8.4, 6.6, 5.7, 6.7, 7.1, 7.4, 7.7, 9.2, 7.7, 7.5, 7.8, 7.1, 8.3, 7.4, 7.5, 6.2, 7.4, 5.5, 8.1, 7.5, 8.0, 7.1, 7.2, 8.0, 8.7, 8.4, 7.4, 8.3, 6.8, 6.9, 7.1, 7.8, 7.4, 7.6, 7.4, 7.4, 9.0, 8.3, 6.9, 9.2, 7.3, 7.8, 6.8, 7.1, 6.9, 7.5, 6.1, 6.7, 7.5, 8.0, 7.8, 6.8, 8.3, 9.3, 7.3, 7.8, 7.8, 7.1, 8.0, 7.2, 8.1, 6.3, 6.1, 8.4, 9.0, 4.9, 5.1, 6.3, 8.0, 8.5, 7.8, 8.8, 7.7, 6.7, 8.3, 8.2, 8.2, 5.1, 5.4, 9.5, 7.8, 6.6, 4.1, 9.3, 7.3, 9.0, 8.1, 8.0, 7.8, 7.9, 6.8, 5.5, 8.6, 6.9, 8.7, 7.9, 8.3, 7.6, 7.9, 7.2, 8.5, 8.3, 8.4, 7.0, 6.1, 6.9, 6.9, 7.4, 8.5, 7.8, 6.9, 9.7, 8.2, 8.5, 8.1, 8.0, 8.7, 8.3, 7.1, 8.3, 6.5, 8.9, 8.2, 7.3, 6.4, 6.8, 6.2, 6.3, 7.7, 4.9, 5.5, 8.6, 8.1, 7.8, 10.6, 8.1, 7.9, 7.2, 7.8, 10.1, 8.0, 8.3, 8.3, 7.3, 9.7, 6.1, 7.2, 5.3, 6.8, 7.6, 7.2, 7.6, 8.9, 7.1, 7.6, 7.6, 8.8, 8.0, 7.4, 6.6, 9.0, 8.4, 8.5, 7.9, 7.6, 8.1, 7.1, 7.7, 8.2, 7.7, 8.7, 7.8, 7.7, 9.1, 6.9, 9.1, 6.7, 7.0, 7.9, 8.3, 8.1, 7.8, 8.4, 8.0, 9.1, 9.2, 8.4, 6.5, 6.0, 2.3, 5.0, 6.1, 6.1, 0.0, 0.9, 8.3, 9.2, 8.1, 8.6, 7.4, 7.0, 8.9, 8.1, 6.2, 6.1, 7.0, 9.1, 6.5, 8.2, 5.7, 3.0, 8.5, 7.9, 7.9, 8.4, 8.2, 8.3, 6.9, 9.2, 6.9, 7.7, 7.2, 7.2, 8.1, 8.3, 7.4, 7.5, 7.8, 7.0, 8.5, 6.2, 10.6, 8.3, 7.9, 8.3, 8.0, 8.2, 8.7, 7.7, 8.5, 8.6, 8.1, 7.1, 7.3, 7.5, 8.7, 7.8, 8.0, 7.4, 8.4, 7.1]\n"
          ]
        },
        {
          "name": "stderr",
          "output_type": "stream",
          "text": [
            "\n"
          ]
        }
      ],
      "source": [
        "### Sampling related\n",
        "\n",
        "list_of_dict_state_not_accepted=[]\n",
        "list_of_dict_sprime_occured=[]\n",
        "for i in tqdm(range(0,num_seperate_mcmc_chains)):\n",
        "    dict_numtimes_state_not_accepted, dict_numtimes_sprime=fn_states_not_accepted(list_states=states_nbit,\n",
        "    list_after_trsn=dict_5_iter_sprime_mcmc[i], \n",
        "    list_after_accept= dict_5_iter_accepted_mcmc[i])\n",
        "    list_of_dict_state_not_accepted.append(dict_numtimes_state_not_accepted)\n",
        "    list_of_dict_sprime_occured.append(dict_numtimes_sprime)\n",
        "\n",
        "numtimes_sprime_rejected_array=np.zeros((num_elems,num_seperate_mcmc_chains))\n",
        "numtimes_sprime_occured_array=np.zeros((num_elems,num_seperate_mcmc_chains))\n",
        "for i in range(0, num_seperate_mcmc_chains):\n",
        "    numtimes_sprime_rejected_array[:,i]=list(list_of_dict_state_not_accepted[i].values())\n",
        "    numtimes_sprime_occured_array[:,i]=list(list_of_dict_sprime_occured[i].values())\n",
        "\n",
        "avg_sprime_rejected=list(np.mean(numtimes_sprime_rejected_array, axis=1))\n",
        "std_dev_sprime_rejected=np.std(numtimes_sprime_rejected_array, axis=1)\n",
        "avg_sprime_occured=list(np.mean(numtimes_sprime_occured_array, axis=1))\n",
        "\n",
        "dict_avg_times_sprime_rejected=dict(\n",
        "    zip(\n",
        "    list(dict_numtimes_state_not_accepted.keys()),avg_sprime_rejected\n",
        "    )\n",
        "    )\n",
        "\n",
        "dict_avg_times_sprime_occured=dict(\n",
        "    zip(\n",
        "    list(dict_numtimes_sprime.keys()),avg_sprime_occured\n",
        "    )\n",
        "    )\n",
        "\n",
        "print(avg_sprime_rejected)"
      ]
    },
    {
      "cell_type": "code",
      "execution_count": null,
      "metadata": {
        "id": "kULpQHAzac1R"
      },
      "outputs": [],
      "source": [
        "# plt.figure(figsize=(15,10))\n",
        "# plt.subplot(2,1,1)\n",
        "# plot_bargraph_desc_order(boltz_prob_distn,label=\"theoretical\", plot_first_few=30)   \n",
        "# plt.legend()\n",
        "# plt.subplot(2,1,2)\n",
        "# plot_bargraph_desc_order(dict_states_mcmc,label=\"MCMC-uniform\", normalise_complete_data=True)  \n",
        "# plt.legend()\n",
        "# # plot_bargraph(boltz_prob_distn,label=\"theoretical\",plot_first_few=60)  \n",
        "# # plot_bargraph(dict_states_mcmc,label=\"MCMC-Uniform\",normalise_complete_data=True,plot_first_few=60)  \n",
        "# plot_multiple_bargraphs([boltz_prob_distn,dict_states_mcmc], [\"theory\", \"MCMC-Uniform random\"], list_normalise=[True,True], plot_first_few=30, sort_desc=True)\n",
        "# # plt.legend()"
      ]
    },
    {
      "cell_type": "code",
      "execution_count": null,
      "metadata": {
        "id": "z2lTXaPG1To_"
      },
      "outputs": [],
      "source": [
        "# # get actual probability distribution\n",
        "# transits_bltz = dict( [ ( state, model.get_boltzmann_prob(state) ) for state in states_nbit ] )\n",
        "# # plot actual prob distribution as well as one obtained from MCMC\n",
        "# #dict_states_mcmc_plot=dict(zip(list(range(0,2**(num_spins))), list(dict_states_mcmc.values()) ))\n",
        "# plot_histogram( [boltz_prob_distn, dict_states_mcmc] , figsize=(20, 7), legend= ['model', 'MCMC-uniform'], bar_labels=False, sort=\"value_desc\")"
      ]
    },
    {
      "cell_type": "markdown",
      "metadata": {
        "id": "A2r85OtSAq15"
      },
      "source": [
        "## Run quantum enhanced MCMC"
      ]
    },
    {
      "cell_type": "code",
      "execution_count": null,
      "metadata": {
        "colab": {
          "base_uri": "https://localhost:8080/"
        },
        "id": "YzHqeUOTAq15",
        "outputId": "0b6e39c2-e6e4-47ee-c535-da0b82939c16"
      },
      "outputs": [
        {
          "name": "stdout",
          "output_type": "stream",
          "text": [
            "starting with:  00011101\n"
          ]
        },
        {
          "name": "stderr",
          "output_type": "stream",
          "text": [
            "100%|██████████| 600/600 [03:59<00:00,  2.51it/s]\n"
          ]
        }
      ],
      "source": [
        "# symmetric uniform transition matrix for uniform transition rule: tho tbh I dont need it\n",
        "num_spins=n_spins#4\n",
        "num_elems=2**(num_spins)\n",
        "transit_mat=np.ones((num_elems,num_elems))*(1./(2*num_elems))# in general case transit matrix could be entirely different\n",
        "np.fill_diagonal(transit_mat, 1./2)\n",
        "\n",
        "# Run MCMC with uniform random transition strategy\n",
        "N_hops=600\n",
        "dict_states_quantum_mcmc, quant_mcmc_after_trsn, quant_mcmc_after_accept =quantum_enhanced_mcmc(N_hops, \n",
        "num_spins, num_elems, model, alpha, num_trotter_steps=10, \n",
        "return_last_n_states=300,return_both_classical_and_quantum_steps=True)"
      ]
    },
    {
      "cell_type": "code",
      "execution_count": null,
      "metadata": {
        "id": "-DZTBYno1ALp"
      },
      "outputs": [],
      "source": [
        "# get actual probability distribution\n",
        "#transits_bltz = dict( [ ( state, model.get_boltzmann_prob(state) ) for state in states_nbit ] )\n",
        "# plot actual prob distribution as well as one obtained from MCMC\n",
        "plot_histogram( [boltz_prob_distn, dict_states_quantum_mcmc] , figsize=(20, 7), legend= ['model', 'Quantum-enhanced MCMC' ], sort= 'value_desc')"
      ]
    },
    {
      "cell_type": "code",
      "execution_count": null,
      "metadata": {
        "id": "zBFr2uQgF7p_"
      },
      "outputs": [],
      "source": [
        "fig = plot_histogram( [boltz_prob_distn,dict_states_quantum_mcmc] , figsize=(40, 15), legend= [\"model\", \"Quantum\" ], bar_labels=False)\n",
        "fig"
      ]
    },
    {
      "cell_type": "code",
      "execution_count": null,
      "metadata": {
        "id": "8kIg-BaQFgQL"
      },
      "outputs": [],
      "source": [
        "plot_histogram( [boltz_prob_distn,dict_states_mcmc, dict_states_quantum_mcmc] , figsize=(40, 15), legend= ['model', 'classical MCMC: Uniform','Quantum-enhanced MCMC' ], sort='value_desc', bar_labels=False)"
      ]
    },
    {
      "cell_type": "code",
      "execution_count": null,
      "metadata": {
        "id": "7AjbJG0vAkxP"
      },
      "outputs": [],
      "source": [
        "# transits_bltz"
      ]
    },
    {
      "cell_type": "code",
      "execution_count": null,
      "metadata": {
        "id": "k--IFkWn__QG"
      },
      "outputs": [],
      "source": [
        "transits_bltz = dict( [ ( state, model.get_boltzmann_prob(state) ) for state in states_nbit ] )\n",
        "rqd_sum=np.sum(np.array(list(transits_bltz.values())))\n",
        "#print(rqd_sum)\n",
        "prob_vals=list(np.array(list(transits_bltz.values()))*(1./rqd_sum))\n",
        "boltz_prob_distn=dict(zip(list(transits_bltz.keys()), prob_vals ))\n",
        "print(boltz_prob_distn)"
      ]
    },
    {
      "cell_type": "markdown",
      "metadata": {
        "id": "yiwCStvOGip-"
      },
      "source": [
        "### comparing number of accepted/rejected samples"
      ]
    },
    {
      "cell_type": "code",
      "execution_count": null,
      "metadata": {
        "id": "SMtohT9qG_TX"
      },
      "outputs": [],
      "source": [
        "# plt.figure(figsize=(20,7))\n",
        "# plt.plot(cl_mcmc_after_trsn, label=\"Classical Uniform\")\n",
        "# plt.plot(quant_mcmc_after_trsn, label=\"Quantum\")\n",
        "# plt.xlabel(\"MCMC iterations\")\n",
        "# plt.title(\"after transition\")\n",
        "plt.figure(figsize=(10,10))\n",
        "#quant_mcmc_after_trsn, quant_mcmc_after_accept\n",
        "plt.plot(cl_mcmc_after_accept, label=\"Classical Uniform\")\n",
        "plt.plot(quant_mcmc_after_accept,label=\"Quantum\")\n",
        "plt.xlabel(\"MCMC iterations\")\n",
        "plt.title(\"State accepted in i'th iteration\")\n",
        "plt.legend()"
      ]
    },
    {
      "cell_type": "markdown",
      "metadata": {
        "id": "7fkk5Z-9PAYb"
      },
      "source": [
        "Next task:\n",
        "For different problem instances, do the following:\n",
        "\n",
        "1. Running average: magnetization. **(DONE)**\n",
        "\n",
        "2.  For first few relevant states (high probability), check how many times were those states accepted/rejected out of total number of iterations considered for the prob distn. **(CODE IS COMPLETE, NOW WE NEED TO RUN SOME EXPERIEMENTS)**\n",
        "\n",
        "3. Overlap with the desired distribution.\n"
      ]
    },
    {
      "cell_type": "markdown",
      "metadata": {
        "id": "CKgLUKukDne0"
      },
      "source": [
        "## Running average; magnetization"
      ]
    },
    {
      "cell_type": "code",
      "execution_count": null,
      "metadata": {
        "colab": {
          "base_uri": "https://localhost:8080/"
        },
        "id": "atvmYeWL0hvO",
        "outputId": "33f110b2-d51c-40e7-9a5a-173191095d4f"
      },
      "outputs": [
        {
          "name": "stderr",
          "output_type": "stream",
          "text": [
            "100%|██████████| 599/599 [00:00<00:00, 843.07it/s]\n",
            "100%|██████████| 599/599 [00:00<00:00, 811.41it/s]\n"
          ]
        }
      ],
      "source": [
        "check_cl=running_avg_magnetization(list_states_mcmc=cl_mcmc_after_accept)\n",
        "check_quant=running_avg_magnetization(list_states_mcmc=quant_mcmc_after_accept)"
      ]
    },
    {
      "cell_type": "code",
      "execution_count": null,
      "metadata": {
        "colab": {
          "base_uri": "https://localhost:8080/",
          "height": 460
        },
        "id": "ynfCYeiS50wQ",
        "outputId": "e7d5e285-be38-440e-fed3-f35d6c8d6253"
      },
      "outputs": [
        {
          "data": {
            "text/plain": [
              "<matplotlib.legend.Legend at 0x7f308a901990>"
            ]
          },
          "execution_count": 24,
          "metadata": {},
          "output_type": "execute_result"
        },
        {
          "data": {
            "image/png": "[encoded data removed]",
            "text/plain": [
              "<Figure size 1440x504 with 1 Axes>"
            ]
          },
          "metadata": {
            "needs_background": "light"
          },
          "output_type": "display_data"
        }
      ],
      "source": [
        "plt.figure(figsize=(20,7))\n",
        "magnetization_of_all_states=dict_magnetization_of_all_states(states_nbit)\n",
        "actual_avg_mag=avg(dict_probabilities=boltz_prob_distn, dict_observable_val_at_states=magnetization_of_all_states)\n",
        "plt.axhline(y=actual_avg_mag,linestyle=\":\", color=\"k\" ,label=\"Actual\")\n",
        "plot_dict_of_running_avg_observable(check_cl, \"Cl MCMC- Uniform\")\n",
        "plot_dict_of_running_avg_observable(check_quant, \"Quantum\")\n",
        "plt.legend()"
      ]
    },
    {
      "cell_type": "markdown",
      "metadata": {
        "id": "sL_7qZNIEDeO"
      },
      "source": [
        "## Sampling related"
      ]
    },
    {
      "cell_type": "code",
      "execution_count": null,
      "metadata": {
        "id": "s2_o7fwB6-Fy"
      },
      "outputs": [],
      "source": [
        "# cl_mcmc_after_trsn, cl_mcmc_after_accept\n",
        "# quant_mcmc_after_trsn, quant_mcmc_after_accept \n",
        "aa,bb=fn_states_not_accepted(list_states=states_nbit, list_after_trsn=cl_mcmc_after_trsn, list_after_accept=cl_mcmc_after_accept)\n",
        "print(aa); print(bb)\n",
        "# fn_numtimes_bitstring_not_accepted(list_after_trsn=cl_mcmc_after_trsn, list_after_accept=cl_mcmc_after_accept,bitstring='0000')"
      ]
    },
    {
      "cell_type": "code",
      "execution_count": null,
      "metadata": {
        "id": "qP7XoMFnUgdr"
      },
      "outputs": [],
      "source": []
    },
    {
      "cell_type": "code",
      "execution_count": null,
      "metadata": {
        "id": "XTgDq37vKC61"
      },
      "outputs": [],
      "source": []
    }
  ],
  "metadata": {
    "colab": {
      "provenance": []
    },
    "kernelspec": {
      "display_name": "Python 3.10.6 64-bit",
      "language": "python",
      "name": "python3"
    },
    "language_info": {
      "codemirror_mode": {
        "name": "ipython",
        "version": 3
      },
      "file_extension": ".py",
      "mimetype": "text/x-python",
      "name": "python",
      "nbconvert_exporter": "python",
      "pygments_lexer": "ipython3",
      "version": "3.10.6"
    },
    "orig_nbformat": 4,
    "vscode": {
      "interpreter": {
        "hash": "31f2aee4e71d21fbe5cf8b01ff0e069b9275f58929596ceb00d14d90e3e16cd6"
      }
    }
  },
  "nbformat": 4,
  "nbformat_minor": 0
}
