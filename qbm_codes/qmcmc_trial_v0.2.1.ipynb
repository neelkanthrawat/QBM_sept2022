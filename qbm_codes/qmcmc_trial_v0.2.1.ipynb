{
  "cells": [
    {
      "cell_type": "code",
      "execution_count": null,
      "metadata": {
        "id": "8j8VtbXvAq1r"
      },
      "outputs": [],
      "source": [
        "import numpy as np\n",
        "import matplotlib.pyplot as plt\n",
        "import pandas as pd\n",
        "from tqdm import tqdm\n",
        "from collections import Counter"
      ]
    },
    {
      "cell_type": "code",
      "execution_count": null,
      "metadata": {
        "colab": {
          "base_uri": "https://localhost:8080/"
        },
        "id": "0Hz-A7mtA9Vi",
        "outputId": "2b9afdea-0c25-47f1-c63e-0e6309fbe9ad"
      },
      "outputs": [
        {
          "output_type": "stream",
          "name": "stdout",
          "text": [
            "Looking in indexes: https://pypi.org/simple, https://us-python.pkg.dev/colab-wheels/public/simple/\n",
            "Collecting qiskit\n",
            "  Downloading qiskit-0.38.0.tar.gz (13 kB)\n",
            "Requirement already satisfied: ipywidgets in /usr/local/lib/python3.7/dist-packages (7.7.1)\n",
            "Collecting qiskit-terra==0.21.2\n",
            "  Downloading qiskit_terra-0.21.2-cp37-cp37m-manylinux_2_17_x86_64.manylinux2014_x86_64.whl (6.7 MB)\n",
            "\u001b[K     |████████████████████████████████| 6.7 MB 2.1 MB/s \n",
            "\u001b[?25hCollecting qiskit-aer==0.11.0\n",
            "  Downloading qiskit_aer-0.11.0-cp37-cp37m-manylinux_2_17_x86_64.manylinux2014_x86_64.whl (19.2 MB)\n",
            "\u001b[K     |████████████████████████████████| 19.2 MB 1.4 MB/s \n",
            "\u001b[?25hCollecting qiskit-ibmq-provider==0.19.2\n",
            "  Downloading qiskit_ibmq_provider-0.19.2-py3-none-any.whl (240 kB)\n",
            "\u001b[K     |████████████████████████████████| 240 kB 48.7 MB/s \n",
            "\u001b[?25hRequirement already satisfied: numpy>=1.16.3 in /usr/local/lib/python3.7/dist-packages (from qiskit-aer==0.11.0->qiskit) (1.21.6)\n",
            "Requirement already satisfied: scipy>=1.0 in /usr/local/lib/python3.7/dist-packages (from qiskit-aer==0.11.0->qiskit) (1.7.3)\n",
            "Collecting websockets>=10.0\n",
            "  Downloading websockets-10.3-cp37-cp37m-manylinux_2_5_x86_64.manylinux1_x86_64.manylinux_2_12_x86_64.manylinux2010_x86_64.whl (112 kB)\n",
            "\u001b[K     |████████████████████████████████| 112 kB 53.8 MB/s \n",
            "\u001b[?25hRequirement already satisfied: python-dateutil>=2.8.0 in /usr/local/lib/python3.7/dist-packages (from qiskit-ibmq-provider==0.19.2->qiskit) (2.8.2)\n",
            "Collecting websocket-client>=1.0.1\n",
            "  Downloading websocket_client-1.4.1-py3-none-any.whl (55 kB)\n",
            "\u001b[K     |████████████████████████████████| 55 kB 2.6 MB/s \n",
            "\u001b[?25hCollecting requests-ntlm>=1.1.0\n",
            "  Downloading requests_ntlm-1.1.0-py2.py3-none-any.whl (5.7 kB)\n",
            "Requirement already satisfied: requests>=2.19 in /usr/local/lib/python3.7/dist-packages (from qiskit-ibmq-provider==0.19.2->qiskit) (2.23.0)\n",
            "Requirement already satisfied: urllib3>=1.21.1 in /usr/local/lib/python3.7/dist-packages (from qiskit-ibmq-provider==0.19.2->qiskit) (1.24.3)\n",
            "Requirement already satisfied: psutil>=5 in /usr/local/lib/python3.7/dist-packages (from qiskit-terra==0.21.2->qiskit) (5.4.8)\n",
            "Collecting symengine>=0.9\n",
            "  Downloading symengine-0.9.2-cp37-cp37m-manylinux2010_x86_64.whl (37.5 MB)\n",
            "\u001b[K     |████████████████████████████████| 37.5 MB 1.3 MB/s \n",
            "\u001b[?25hCollecting ply>=3.10\n",
            "  Downloading ply-3.11-py2.py3-none-any.whl (49 kB)\n",
            "\u001b[K     |████████████████████████████████| 49 kB 5.6 MB/s \n",
            "\u001b[?25hCollecting retworkx>=0.11.0\n",
            "  Downloading retworkx-0.11.0-cp37-cp37m-manylinux_2_5_x86_64.manylinux1_x86_64.manylinux_2_12_x86_64.manylinux2010_x86_64.whl (1.6 MB)\n",
            "\u001b[K     |████████████████████████████████| 1.6 MB 32.2 MB/s \n",
            "\u001b[?25hRequirement already satisfied: typing-extensions in /usr/local/lib/python3.7/dist-packages (from qiskit-terra==0.21.2->qiskit) (4.1.1)\n",
            "Collecting tweedledum<2.0,>=1.1\n",
            "  Downloading tweedledum-1.1.1-cp37-cp37m-manylinux_2_12_x86_64.manylinux2010_x86_64.whl (943 kB)\n",
            "\u001b[K     |████████████████████████████████| 943 kB 45.6 MB/s \n",
            "\u001b[?25hRequirement already satisfied: dill>=0.3 in /usr/local/lib/python3.7/dist-packages (from qiskit-terra==0.21.2->qiskit) (0.3.5.1)\n",
            "Collecting shared-memory38\n",
            "  Downloading shared_memory38-0.1.2-cp37-cp37m-manylinux_2_5_x86_64.manylinux1_x86_64.whl (25 kB)\n",
            "Requirement already satisfied: sympy>=1.3 in /usr/local/lib/python3.7/dist-packages (from qiskit-terra==0.21.2->qiskit) (1.7.1)\n",
            "Collecting stevedore>=3.0.0\n",
            "  Downloading stevedore-3.5.0-py3-none-any.whl (49 kB)\n",
            "\u001b[K     |████████████████████████████████| 49 kB 5.8 MB/s \n",
            "\u001b[?25hRequirement already satisfied: six>=1.5 in /usr/local/lib/python3.7/dist-packages (from python-dateutil>=2.8.0->qiskit-ibmq-provider==0.19.2->qiskit) (1.15.0)\n",
            "Requirement already satisfied: chardet<4,>=3.0.2 in /usr/local/lib/python3.7/dist-packages (from requests>=2.19->qiskit-ibmq-provider==0.19.2->qiskit) (3.0.4)\n",
            "Requirement already satisfied: certifi>=2017.4.17 in /usr/local/lib/python3.7/dist-packages (from requests>=2.19->qiskit-ibmq-provider==0.19.2->qiskit) (2022.6.15)\n",
            "Requirement already satisfied: idna<3,>=2.5 in /usr/local/lib/python3.7/dist-packages (from requests>=2.19->qiskit-ibmq-provider==0.19.2->qiskit) (2.10)\n",
            "Collecting cryptography>=1.3\n",
            "  Downloading cryptography-38.0.1-cp36-abi3-manylinux_2_24_x86_64.whl (4.0 MB)\n",
            "\u001b[K     |████████████████████████████████| 4.0 MB 33.0 MB/s \n",
            "\u001b[?25hCollecting ntlm-auth>=1.0.2\n",
            "  Downloading ntlm_auth-1.5.0-py2.py3-none-any.whl (29 kB)\n",
            "Requirement already satisfied: cffi>=1.12 in /usr/local/lib/python3.7/dist-packages (from cryptography>=1.3->requests-ntlm>=1.1.0->qiskit-ibmq-provider==0.19.2->qiskit) (1.15.1)\n",
            "Requirement already satisfied: pycparser in /usr/local/lib/python3.7/dist-packages (from cffi>=1.12->cryptography>=1.3->requests-ntlm>=1.1.0->qiskit-ibmq-provider==0.19.2->qiskit) (2.21)\n",
            "Requirement already satisfied: importlib-metadata>=1.7.0 in /usr/local/lib/python3.7/dist-packages (from stevedore>=3.0.0->qiskit-terra==0.21.2->qiskit) (4.12.0)\n",
            "Collecting pbr!=2.1.0,>=2.0.0\n",
            "  Downloading pbr-5.10.0-py2.py3-none-any.whl (112 kB)\n",
            "\u001b[K     |████████████████████████████████| 112 kB 43.3 MB/s \n",
            "\u001b[?25hRequirement already satisfied: zipp>=0.5 in /usr/local/lib/python3.7/dist-packages (from importlib-metadata>=1.7.0->stevedore>=3.0.0->qiskit-terra==0.21.2->qiskit) (3.8.1)\n",
            "Requirement already satisfied: mpmath>=0.19 in /usr/local/lib/python3.7/dist-packages (from sympy>=1.3->qiskit-terra==0.21.2->qiskit) (1.2.1)\n",
            "Requirement already satisfied: ipython-genutils~=0.2.0 in /usr/local/lib/python3.7/dist-packages (from ipywidgets) (0.2.0)\n",
            "Requirement already satisfied: widgetsnbextension~=3.6.0 in /usr/local/lib/python3.7/dist-packages (from ipywidgets) (3.6.1)\n",
            "Requirement already satisfied: jupyterlab-widgets>=1.0.0 in /usr/local/lib/python3.7/dist-packages (from ipywidgets) (3.0.3)\n",
            "Requirement already satisfied: traitlets>=4.3.1 in /usr/local/lib/python3.7/dist-packages (from ipywidgets) (5.1.1)\n",
            "Requirement already satisfied: ipykernel>=4.5.1 in /usr/local/lib/python3.7/dist-packages (from ipywidgets) (5.3.4)\n",
            "Requirement already satisfied: ipython>=4.0.0 in /usr/local/lib/python3.7/dist-packages (from ipywidgets) (7.9.0)\n",
            "Requirement already satisfied: jupyter-client in /usr/local/lib/python3.7/dist-packages (from ipykernel>=4.5.1->ipywidgets) (6.1.12)\n",
            "Requirement already satisfied: tornado>=4.2 in /usr/local/lib/python3.7/dist-packages (from ipykernel>=4.5.1->ipywidgets) (5.1.1)\n",
            "Requirement already satisfied: pygments in /usr/local/lib/python3.7/dist-packages (from ipython>=4.0.0->ipywidgets) (2.6.1)\n",
            "Requirement already satisfied: pexpect in /usr/local/lib/python3.7/dist-packages (from ipython>=4.0.0->ipywidgets) (4.8.0)\n",
            "Requirement already satisfied: decorator in /usr/local/lib/python3.7/dist-packages (from ipython>=4.0.0->ipywidgets) (4.4.2)\n",
            "Requirement already satisfied: setuptools>=18.5 in /usr/local/lib/python3.7/dist-packages (from ipython>=4.0.0->ipywidgets) (57.4.0)\n",
            "Requirement already satisfied: pickleshare in /usr/local/lib/python3.7/dist-packages (from ipython>=4.0.0->ipywidgets) (0.7.5)\n",
            "Collecting jedi>=0.10\n",
            "  Downloading jedi-0.18.1-py2.py3-none-any.whl (1.6 MB)\n",
            "\u001b[K     |████████████████████████████████| 1.6 MB 20.7 MB/s \n",
            "\u001b[?25hRequirement already satisfied: backcall in /usr/local/lib/python3.7/dist-packages (from ipython>=4.0.0->ipywidgets) (0.2.0)\n",
            "Requirement already satisfied: prompt-toolkit<2.1.0,>=2.0.0 in /usr/local/lib/python3.7/dist-packages (from ipython>=4.0.0->ipywidgets) (2.0.10)\n",
            "Requirement already satisfied: parso<0.9.0,>=0.8.0 in /usr/local/lib/python3.7/dist-packages (from jedi>=0.10->ipython>=4.0.0->ipywidgets) (0.8.3)\n",
            "Requirement already satisfied: wcwidth in /usr/local/lib/python3.7/dist-packages (from prompt-toolkit<2.1.0,>=2.0.0->ipython>=4.0.0->ipywidgets) (0.2.5)\n",
            "Requirement already satisfied: notebook>=4.4.1 in /usr/local/lib/python3.7/dist-packages (from widgetsnbextension~=3.6.0->ipywidgets) (5.3.1)\n",
            "Requirement already satisfied: nbconvert in /usr/local/lib/python3.7/dist-packages (from notebook>=4.4.1->widgetsnbextension~=3.6.0->ipywidgets) (5.6.1)\n",
            "Requirement already satisfied: jinja2 in /usr/local/lib/python3.7/dist-packages (from notebook>=4.4.1->widgetsnbextension~=3.6.0->ipywidgets) (2.11.3)\n",
            "Requirement already satisfied: Send2Trash in /usr/local/lib/python3.7/dist-packages (from notebook>=4.4.1->widgetsnbextension~=3.6.0->ipywidgets) (1.8.0)\n",
            "Requirement already satisfied: jupyter-core>=4.4.0 in /usr/local/lib/python3.7/dist-packages (from notebook>=4.4.1->widgetsnbextension~=3.6.0->ipywidgets) (4.11.1)\n",
            "Requirement already satisfied: terminado>=0.8.1 in /usr/local/lib/python3.7/dist-packages (from notebook>=4.4.1->widgetsnbextension~=3.6.0->ipywidgets) (0.13.3)\n",
            "Requirement already satisfied: nbformat in /usr/local/lib/python3.7/dist-packages (from notebook>=4.4.1->widgetsnbextension~=3.6.0->ipywidgets) (5.4.0)\n",
            "Requirement already satisfied: pyzmq>=13 in /usr/local/lib/python3.7/dist-packages (from jupyter-client->ipykernel>=4.5.1->ipywidgets) (23.2.1)\n",
            "Requirement already satisfied: ptyprocess in /usr/local/lib/python3.7/dist-packages (from terminado>=0.8.1->notebook>=4.4.1->widgetsnbextension~=3.6.0->ipywidgets) (0.7.0)\n",
            "Requirement already satisfied: MarkupSafe>=0.23 in /usr/local/lib/python3.7/dist-packages (from jinja2->notebook>=4.4.1->widgetsnbextension~=3.6.0->ipywidgets) (2.0.1)\n",
            "Requirement already satisfied: defusedxml in /usr/local/lib/python3.7/dist-packages (from nbconvert->notebook>=4.4.1->widgetsnbextension~=3.6.0->ipywidgets) (0.7.1)\n",
            "Requirement already satisfied: pandocfilters>=1.4.1 in /usr/local/lib/python3.7/dist-packages (from nbconvert->notebook>=4.4.1->widgetsnbextension~=3.6.0->ipywidgets) (1.5.0)\n",
            "Requirement already satisfied: testpath in /usr/local/lib/python3.7/dist-packages (from nbconvert->notebook>=4.4.1->widgetsnbextension~=3.6.0->ipywidgets) (0.6.0)\n",
            "Requirement already satisfied: mistune<2,>=0.8.1 in /usr/local/lib/python3.7/dist-packages (from nbconvert->notebook>=4.4.1->widgetsnbextension~=3.6.0->ipywidgets) (0.8.4)\n",
            "Requirement already satisfied: bleach in /usr/local/lib/python3.7/dist-packages (from nbconvert->notebook>=4.4.1->widgetsnbextension~=3.6.0->ipywidgets) (5.0.1)\n",
            "Requirement already satisfied: entrypoints>=0.2.2 in /usr/local/lib/python3.7/dist-packages (from nbconvert->notebook>=4.4.1->widgetsnbextension~=3.6.0->ipywidgets) (0.4)\n",
            "Requirement already satisfied: fastjsonschema in /usr/local/lib/python3.7/dist-packages (from nbformat->notebook>=4.4.1->widgetsnbextension~=3.6.0->ipywidgets) (2.16.1)\n",
            "Requirement already satisfied: jsonschema>=2.6 in /usr/local/lib/python3.7/dist-packages (from nbformat->notebook>=4.4.1->widgetsnbextension~=3.6.0->ipywidgets) (4.3.3)\n",
            "Requirement already satisfied: attrs>=17.4.0 in /usr/local/lib/python3.7/dist-packages (from jsonschema>=2.6->nbformat->notebook>=4.4.1->widgetsnbextension~=3.6.0->ipywidgets) (22.1.0)\n",
            "Requirement already satisfied: importlib-resources>=1.4.0 in /usr/local/lib/python3.7/dist-packages (from jsonschema>=2.6->nbformat->notebook>=4.4.1->widgetsnbextension~=3.6.0->ipywidgets) (5.9.0)\n",
            "Requirement already satisfied: pyrsistent!=0.17.0,!=0.17.1,!=0.17.2,>=0.14.0 in /usr/local/lib/python3.7/dist-packages (from jsonschema>=2.6->nbformat->notebook>=4.4.1->widgetsnbextension~=3.6.0->ipywidgets) (0.18.1)\n",
            "Requirement already satisfied: webencodings in /usr/local/lib/python3.7/dist-packages (from bleach->nbconvert->notebook>=4.4.1->widgetsnbextension~=3.6.0->ipywidgets) (0.5.1)\n",
            "Building wheels for collected packages: qiskit\n",
            "  Building wheel for qiskit (setup.py) ... \u001b[?25l\u001b[?25hdone\n",
            "  Created wheel for qiskit: filename=qiskit-0.38.0-py3-none-any.whl size=12147 sha256=5651c8e1aae2513316a4ad1f46743009ea020b340613ceec90eecd85a0c40bb7\n",
            "  Stored in directory: /root/.cache/pip/wheels/0b/30/78/04c91b7e82655f191b8f6238b6e74af67f3cc618cfca429189\n",
            "Successfully built qiskit\n",
            "Installing collected packages: jedi, pbr, tweedledum, symengine, stevedore, shared-memory38, retworkx, ply, ntlm-auth, cryptography, websockets, websocket-client, requests-ntlm, qiskit-terra, qiskit-ibmq-provider, qiskit-aer, qiskit\n",
            "Successfully installed cryptography-38.0.1 jedi-0.18.1 ntlm-auth-1.5.0 pbr-5.10.0 ply-3.11 qiskit-0.38.0 qiskit-aer-0.11.0 qiskit-ibmq-provider-0.19.2 qiskit-terra-0.21.2 requests-ntlm-1.1.0 retworkx-0.11.0 shared-memory38-0.1.2 stevedore-3.5.0 symengine-0.9.2 tweedledum-1.1.1 websocket-client-1.4.1 websockets-10.3\n"
          ]
        }
      ],
      "source": [
        "!pip install qiskit ipywidgets # while working on google colab!"
      ]
    },
    {
      "cell_type": "code",
      "execution_count": null,
      "metadata": {
        "colab": {
          "base_uri": "https://localhost:8080/"
        },
        "id": "Zt6GDRoNAtZJ",
        "outputId": "a1dce75c-0214-4c02-f469-2686457b30d6"
      },
      "outputs": [
        {
          "output_type": "stream",
          "name": "stdout",
          "text": [
            "--2022-10-04 17:49:18--  https://raw.githubusercontent.com/neelkanthrawat/QBM_sept2022/main/qbm_codes/qbm_utils.py\n",
            "Resolving raw.githubusercontent.com (raw.githubusercontent.com)... 185.199.108.133, 185.199.109.133, 185.199.110.133, ...\n",
            "Connecting to raw.githubusercontent.com (raw.githubusercontent.com)|185.199.108.133|:443... connected.\n",
            "HTTP request sent, awaiting response... 200 OK\n",
            "Length: 17062 (17K) [text/plain]\n",
            "Saving to: ‘qbm_utils.py’\n",
            "\n",
            "qbm_utils.py        100%[===================>]  16.66K  --.-KB/s    in 0.002s  \n",
            "\n",
            "2022-10-04 17:49:18 (8.30 MB/s) - ‘qbm_utils.py’ saved [17062/17062]\n",
            "\n"
          ]
        }
      ],
      "source": [
        "# while working on google colab, run this cell\n",
        "!wget https://raw.githubusercontent.com/neelkanthrawat/QBM_sept2022/main/qbm_codes/qbm_utils.py"
      ]
    },
    {
      "cell_type": "code",
      "execution_count": null,
      "metadata": {
        "id": "bZo97FWnAq1u"
      },
      "outputs": [],
      "source": [
        "from qbm_utils import *\n",
        "from typing import Optional"
      ]
    },
    {
      "cell_type": "markdown",
      "source": [
        "## Magnetization ent-to-end "
      ],
      "metadata": {
        "id": "L9T8wv1MJie2"
      }
    },
    {
      "cell_type": "code",
      "source": [
        "def experiment_on_magnetization(n_spins, seed , num_seperate_mcmc_chains = 10 , strategy: Optional[str]= 'classical'):\n",
        "    ## put n_spins even always\n",
        "    \n",
        "    np.random.seed(101)\n",
        "    num_spins = n_spins\n",
        "    ## construct problem Hamiltonian ##\n",
        "    shape_of_J=(n_spins,n_spins)\n",
        "    J =  np.random.randn(n_spins,n_spins)#np.random.uniform(low= -1, high= 1, size= (n_spins, n_spins) )\n",
        "    J2 = 0.5 * (J + J.transpose() )\n",
        "    h = np.random.randn(n_spins)#np.random.uniform(low= -1, high = 1, size= (n_spins))\n",
        "\n",
        "    # instantiate the model\n",
        "    model = IsingEnergyFunction(J, h)\n",
        "\n",
        "    alpha = np.sqrt(n_spins) / np.sqrt( sum([J[i][j]**2 for i in range(n_spins) for j in range(i)]) + sum([h[j]**2 for j in range(n_spins)])  )\n",
        "    num_elems=2**(num_spins)\n",
        "\n",
        "    if strategy == 'classical' :\n",
        "        # Run MCMC with uniform random transition strategy\n",
        "        N_hops=2000\n",
        "        dict_5_iter_states_distn_mcmc={}\n",
        "        dict_5_iter_sprime_mcmc={}\n",
        "        dict_5_iter_accepted_mcmc={}\n",
        "        # num_seperate_mcmc_chains=10\n",
        "        for iteration in tqdm(range(0,num_seperate_mcmc_chains)):\n",
        "            dict_states_mcmc, cl_mcmc_after_trsn, cl_mcmc_after_accept = classical_mcmc(N_hops, num_spins, num_elems,model, return_last_n_states=600, return_both_classical_and_quantum_steps=True)\n",
        "            dict_5_iter_accepted_mcmc[iteration]=cl_mcmc_after_accept\n",
        "\n",
        "        ### data for plotting running average magnetization 5 cases seperately:\n",
        "        first_few=500\n",
        "        cl_running_avg_magzn=[running_avg_magnetization(list_states_mcmc=dict_5_iter_accepted_mcmc[m][:first_few+1]) for m in range(0,num_seperate_mcmc_chains)]\n",
        "\n",
        "        # array first_few_iterations X number of seperate mcmc chains:\n",
        "        array_avg_mag_diff_chains=np.zeros((first_few, num_seperate_mcmc_chains))\n",
        "        for i in range(0, num_seperate_mcmc_chains):\n",
        "            array_avg_mag_diff_chains[:,i]=list(cl_running_avg_magzn[i].values())\n",
        "\n",
        "        mean_mag_iterations=np.mean(array_avg_mag_diff_chains, axis=1)\n",
        "        std_dev=np.std(array_avg_mag_diff_chains, axis=1)\n",
        "\n",
        "        ## save data\n",
        "        columns = ['mcmc_'+str(i) for i in range(num_seperate_mcmc_chains)]\n",
        "        df = pd.DataFrame(array_avg_mag_diff_chains,columns = columns)\n",
        "        df.to_csv('magn_classical:' + '['+'spins='+ str(n_spins)+ ', seed='+ str(seed)+ '].csv')\n",
        "\n",
        "    if strategy == 'quantum' :\n",
        "        # Run MCMC with uniform random transition strategy\n",
        "        N_hops=2000\n",
        "        dict_5_iter_states_distn_mcmc={}\n",
        "        dict_5_iter_sprime_mcmc={}\n",
        "        dict_5_iter_accepted_mcmc={}\n",
        "        # num_seperate_mcmc_chains=10\n",
        "        for iteration in tqdm(range(0,num_seperate_mcmc_chains)):\n",
        "            dict_states_mcmc, cl_mcmc_after_trsn, cl_mcmc_after_accept = quantum_enhanced_mcmc(N_hops, num_spins, num_elems,model, return_last_n_states=600, alpha= alpha, return_both_classical_and_quantum_steps=True)\n",
        "            dict_5_iter_accepted_mcmc[iteration]=cl_mcmc_after_accept\n",
        "\n",
        "        ### data for plotting running average magnetization 5 cases seperately:\n",
        "        first_few=500\n",
        "        cl_running_avg_magzn=[running_avg_magnetization(list_states_mcmc=dict_5_iter_accepted_mcmc[m][:first_few+1]) for m in range(0,num_seperate_mcmc_chains)]\n",
        "\n",
        "        # array first_few_iterations X number of seperate mcmc chains:\n",
        "        array_avg_mag_diff_chains=np.zeros((first_few, num_seperate_mcmc_chains))\n",
        "        for i in range(0, num_seperate_mcmc_chains):\n",
        "            array_avg_mag_diff_chains[:,i]=list(cl_running_avg_magzn[i].values())\n",
        "\n",
        "        mean_mag_iterations=np.mean(array_avg_mag_diff_chains, axis=1)\n",
        "        std_dev=np.std(array_avg_mag_diff_chains, axis=1)\n",
        "\n",
        "        ## save data\n",
        "        columns = ['mcmc_'+str(i) for i in range(num_seperate_mcmc_chains)]\n",
        "        df = pd.DataFrame(array_avg_mag_diff_chains,columns = columns)\n",
        "        df.to_csv('magn_quantum:' + '['+'spins='+ str(n_spins)+ ', seed='+ str(seed)+ '].csv')\n",
        "  "
      ],
      "metadata": {
        "id": "vyTkKzGYJrX1"
      },
      "execution_count": null,
      "outputs": []
    },
    {
      "cell_type": "code",
      "source": [
        "experiment_on_magnetization(8, 0124101, strategy= 'classical')"
      ],
      "metadata": {
        "colab": {
          "base_uri": "https://localhost:8080/",
          "height": 130
        },
        "id": "Hd45JSWIJrQy",
        "outputId": "b3ec0db3-8296-4ebc-aa2d-a713a7c94e58"
      },
      "execution_count": null,
      "outputs": [
        {
          "output_type": "error",
          "ename": "SyntaxError",
          "evalue": "ignored",
          "traceback": [
            "\u001b[0;36m  File \u001b[0;32m\"<ipython-input-87-79340bee55ec>\"\u001b[0;36m, line \u001b[0;32m1\u001b[0m\n\u001b[0;31m    experiment_on_magnetization(8, 0124101, strategy= 'classical')\u001b[0m\n\u001b[0m                                         ^\u001b[0m\n\u001b[0;31mSyntaxError\u001b[0m\u001b[0;31m:\u001b[0m invalid token\n"
          ]
        }
      ]
    },
    {
      "cell_type": "code",
      "source": [
        "df_t = pd.read_csv('/content/magn_classical:[spins=3, seed=101].csv')\n",
        "index = list(df_t.index)\n",
        "index = [int(j) for j in index]\n",
        "fig = plt.figure(figsize=(20,8))\n",
        "# plt.plot(np.linspace(0,45,5),np.linspace(0,45,5), linestyle='dotted', label= 'KYd = d')\n",
        "plt.grid(True)\n",
        "plt.errorbar(index, df_t.mean(axis=1), yerr= df_t.std(axis=1), errorevery= 10 ,label = 'Magn-classical',uplims= True, lolims=True, marker= 'o', color= 'r',linestyle='dashdot')\n",
        "plt.xlabel(\"iteration\")\n",
        "plt.ylabel(\"magnetization\")\n",
        "plt.legend()\n",
        "# plt.title('KYd vs. d (statistics)')"
      ],
      "metadata": {
        "colab": {
          "base_uri": "https://localhost:8080/",
          "height": 514
        },
        "id": "zfJFBw4SS_wd",
        "outputId": "90fce425-6596-4f6b-ad64-1197ea49d2ff"
      },
      "execution_count": null,
      "outputs": [
        {
          "output_type": "execute_result",
          "data": {
            "text/plain": [
              "<matplotlib.legend.Legend at 0x7f5770b4cd90>"
            ]
          },
          "metadata": {},
          "execution_count": 86
        },
        {
          "output_type": "display_data",
          "data": {
            "text/plain": [
              "<Figure size 1440x576 with 1 Axes>"
            ],
            "image/png": "[encoded data removed]"
          },
          "metadata": {
            "needs_background": "light"
          }
        }
      ]
    },
    {
      "cell_type": "code",
      "source": [],
      "metadata": {
        "id": "6KXgUbkkJrH7"
      },
      "execution_count": null,
      "outputs": []
    },
    {
      "cell_type": "code",
      "source": [],
      "metadata": {
        "id": "yGa0SQbzJq3W"
      },
      "execution_count": null,
      "outputs": []
    },
    {
      "cell_type": "markdown",
      "metadata": {
        "id": "F_GVM83HD2Kh"
      },
      "source": [
        "### Define your model"
      ]
    },
    {
      "cell_type": "code",
      "execution_count": null,
      "metadata": {
        "id": "KOeMOjD5Aq1v"
      },
      "outputs": [],
      "source": [
        "# define the model\n",
        "## put n_spins even always\n",
        "n_spins = 8\n",
        "\n",
        "np.random.seed(101)\n",
        "## construct problem Hamiltonian ##\n",
        "shape_of_J=(n_spins,n_spins)\n",
        "J =  np.random.randn(n_spins,n_spins)#np.random.uniform(low= -1, high= 1, size= (n_spins, n_spins) )\n",
        "J2 = 0.5 * (J + J.transpose() )\n",
        "h = np.random.randn(n_spins)#np.random.uniform(low= -1, high = 1, size= (n_spins))\n",
        "\n",
        "# instantiate the model\n",
        "model = IsingEnergyFunction(J, h)\n",
        "\n",
        "alpha = np.sqrt(n_spins) / np.sqrt( sum([J[i][j]**2 for i in range(n_spins) for j in range(i)]) + sum([h[j]**2 for j in range(n_spins)])  )\n"
      ]
    },
    {
      "cell_type": "code",
      "source": [
        "J1 == J2"
      ],
      "metadata": {
        "colab": {
          "base_uri": "https://localhost:8080/"
        },
        "id": "9jZbpDa_J3Uj",
        "outputId": "0e14b388-53e0-4e90-da1a-7e21275d148c"
      },
      "execution_count": null,
      "outputs": [
        {
          "output_type": "execute_result",
          "data": {
            "text/plain": [
              "array([[ True,  True,  True,  True,  True,  True,  True,  True],\n",
              "       [ True,  True,  True,  True,  True,  True,  True,  True],\n",
              "       [ True,  True,  True,  True,  True,  True,  True,  True],\n",
              "       [ True,  True,  True,  True,  True,  True,  True,  True],\n",
              "       [ True,  True,  True,  True,  True,  True,  True,  True],\n",
              "       [ True,  True,  True,  True,  True,  True,  True,  True],\n",
              "       [ True,  True,  True,  True,  True,  True,  True,  True],\n",
              "       [ True,  True,  True,  True,  True,  True,  True,  True]])"
            ]
          },
          "metadata": {},
          "execution_count": 35
        }
      ]
    },
    {
      "cell_type": "markdown",
      "metadata": {
        "id": "51HJZt-pAq1w"
      },
      "source": [
        "### Some updated funcs"
      ]
    },
    {
      "cell_type": "code",
      "execution_count": null,
      "metadata": {
        "id": "wqKR3qcaAq1y"
      },
      "outputs": [],
      "source": [
        "def classical_mcmc(N_hops:int, num_spins:int, num_elems:int, model, return_last_n_states=500, return_both_classical_and_quantum_steps=False ):\n",
        "    ''' \n",
        "    version 0.2\n",
        "    Args: \n",
        "    Nhops: Number of time you want to run mcmc\n",
        "    num_spins: number of spins\n",
        "    num_elems: 2**(num_spins)\n",
        "    model\n",
        "\n",
        "    Returns:\n",
        "    Last 'return_last_n_states' elements of states so collected (default value=500). one can then deduce the distribution from it! \n",
        "    '''\n",
        "    states=[]\n",
        "    current_state=f'{np.random.randint(0,num_elems):0{num_spins}b}'# bin_next_state=f'{next_state:0{num_spins}b}'\n",
        "    print(\"starting with: \", current_state) \n",
        "\n",
        "    ## initialiiise observables\n",
        "    #observable_dict = dict([ (elem, []) for elem in observables ])\n",
        "    list_after_transition=[]\n",
        "    list_after_acceptance_step=[]\n",
        "\n",
        "    for i in tqdm(range(0, N_hops)):\n",
        "        states.append(current_state)\n",
        "        # get sprime\n",
        "        s_prime=classical_transition(num_spins)\n",
        "        list_after_transition.append(s_prime)\n",
        "        # accept/reject s_prime \n",
        "        energy_s=model.get_energy(current_state)\n",
        "        energy_sprime=model.get_energy(s_prime)\n",
        "        next_state= classical_loop_accepting_state(current_state, s_prime, energy_s, energy_sprime,temp=1)\n",
        "        current_state= next_state\n",
        "        list_after_acceptance_step.append(current_state)\n",
        "        # if store_observables:  ## store the observables \n",
        "          \n",
        "        #   if next_state == s_prime: observable_dict['acceptance'].append('True')\n",
        "        #   else: observable_dict['acceptance'].append('False')\n",
        "        #   observable_dict['energy'].append(model.get_energy(next_state))\n",
        "\n",
        "        ## reinitiate\n",
        "        qc_s=initialise_qc(n_spins=num_spins, bitstring=current_state)\n",
        "    \n",
        "    # returns dictionary of occurences for last \"return_last_n_states\" states\n",
        "    dict_count_return_last_n_states=Counter(states[-return_last_n_states:])\n",
        "    \n",
        "    if return_both_classical_and_quantum_steps: \n",
        "        to_return = dict_count_return_last_n_states, list_after_transition, list_after_acceptance_step\n",
        "    else: \n",
        "        to_return= dict_count_return_last_n_states \n",
        "    \n",
        "    return to_return"
      ]
    },
    {
      "cell_type": "code",
      "execution_count": null,
      "metadata": {
        "id": "vXzV3CDwAq10"
      },
      "outputs": [],
      "source": [
        "def quantum_enhanced_mcmc(N_hops:int, num_spins:int, num_elems:int, model:IsingEnergyFunction, alpha, num_trotter_steps=10, return_last_n_states=500, return_both_classical_and_quantum_steps=False):\n",
        "    ''' \n",
        "    version 0.2\n",
        "    Args: \n",
        "    Nhops: Number of time you want to run mcmc\n",
        "    num_spins: number of spins\n",
        "    num_elems: 2**(num_spins)\n",
        "\n",
        "    Returns:\n",
        "    Last 'return_last_n_states' elements of states so collected (default value=500). one can then deduce the distribution from it! \n",
        "    '''\n",
        "    states=[]\n",
        "    current_state=f'{np.random.randint(0,num_elems):0{num_spins}b}'# bin_next_state=f'{next_state:0{num_spins}b}'\n",
        "    print(\"starting with: \", current_state) \n",
        "    ## initialise quantum circuit to current_state\n",
        "    qc_s=initialise_qc(n_spins=num_spins, bitstring=current_state)\n",
        "    #print(\"qc_s is:\"); print(qc_s.draw())\n",
        "\n",
        "    ## intialise observables\n",
        "    #observable_dict = dict([ ( elem, []  ) for elem in observables ])\n",
        "    list_after_transition=[]\n",
        "    list_after_acceptance_step=[]\n",
        "\n",
        "    for i in tqdm(range(0, N_hops)):\n",
        "        #print(\"i: \", i)\n",
        "        states.append(current_state)\n",
        "        # get sprime\n",
        "        s_prime=run_qc_quantum_step(qc_initialised_to_s=qc_s, model= model, alpha=alpha, n_spins=num_spins, num_trotter_steps=num_trotter_steps, time=0.8)\n",
        "        list_after_transition.append(s_prime)\n",
        "        # accept/reject s_prime \n",
        "        energy_s=model.get_energy(current_state)\n",
        "        energy_sprime=model.get_energy(s_prime)\n",
        "        next_state= classical_loop_accepting_state(current_state, s_prime, energy_s, energy_sprime,temp=1)\n",
        "        current_state=next_state\n",
        "        # if current_state!=next_state:# this seems to be a redundant step. I could have set current_state=classical_loop_accepting_state(current_state, s_prime, energy_s, energy_sprime,temp=1)\n",
        "        #   current_state= next_state\n",
        "        list_after_acceptance_step.append(current_state)\n",
        "\n",
        "        # if store_observables:  ## store the observables \n",
        "          \n",
        "        #   if next_state == s_prime: observable_dict['acceptance'].append('True')\n",
        "        #   else: observable_dict['acceptance'].append('False')\n",
        "        #   observable_dict['energy'].append(model.get_energy(next_state))\n",
        "\n",
        "        ## reinitiate\n",
        "        qc_s=initialise_qc(n_spins=num_spins, bitstring=current_state)\n",
        "      \n",
        "    dict_count_return_last_n_states=Counter(states[-return_last_n_states:])#dictionary of occurences for last \"return_last_n_states\" states\n",
        "\n",
        "    if return_both_classical_and_quantum_steps: \n",
        "      to_return= dict_count_return_last_n_states, list_after_transition, list_after_acceptance_step\n",
        "    else: \n",
        "      to_return= dict_count_return_last_n_states\n",
        "\n",
        "    return to_return"
      ]
    },
    {
      "cell_type": "markdown",
      "metadata": {
        "id": "ALhUoauAD2K0"
      },
      "source": [
        "### Some new helper functions"
      ]
    },
    {
      "cell_type": "code",
      "execution_count": null,
      "metadata": {
        "id": "jeeJADzzAq12"
      },
      "outputs": [],
      "source": [
        "# some new helper functions\n",
        "def states(num_spins:int)->list:\n",
        "    ''' \n",
        "    Returns all possible binary strings of length n=num_spins\n",
        "\n",
        "    Args:\n",
        "    num_spins: n length of the bitstring\n",
        "    Returns:\n",
        "    possible_states= list of all possible binary strings of length num_spins\n",
        "    '''\n",
        "    num_possible_states=2**(num_spins)\n",
        "    possible_states=[f'{k:0{num_spins}b}' for k in range(0,num_possible_states)]\n",
        "    return possible_states\n",
        "\n",
        "def magnetization_of_state(bitstring:str)->float:\n",
        "    '''  \n",
        "    Args:\n",
        "    bitstring: for eg: '010'\n",
        "    Returns:\n",
        "    magnetization for the given bitstring\n",
        "    '''\n",
        "    array=np.array(list(bitstring))\n",
        "    num_times_one=np.count_nonzero(array=='1')\n",
        "    num_times_zero=len(array)-num_times_one\n",
        "    magnetization=num_times_one-num_times_zero\n",
        "    return magnetization\n",
        "\n",
        "def dict_magnetization_of_all_states(list_all_possible_states:list)->dict:\n",
        "    '''\n",
        "    Returns magnetization for all unique states\n",
        "    \n",
        "    Args:\n",
        "    list_all_possible_states\n",
        "    Returns:\n",
        "    dict_magnetization={state(str): magnetization_value}\n",
        "    '''\n",
        "    list_mag_vals=[magnetization_of_state(state) for state in list_all_possible_states]\n",
        "    dict_magnetization=dict(zip(list_all_possible_states, list_mag_vals ))\n",
        "    #print(\"dict_magnetization:\"); print(dict_magnetization)\n",
        "    return dict_magnetization\n",
        "  \n",
        "def value_sorted_dict(dict_in, reverse=False):\n",
        "\n",
        "  sorted_dict={k: v for k, v in sorted(dict_in.items(), key=lambda item: item[1], reverse=reverse)}\n",
        "  return sorted_dict\n",
        "\n",
        "\n",
        "## enter samples, get normalised distn\n",
        "def get_distn(list_of_samples:list)-> dict:\n",
        "  '''   \n",
        "  Returns the dictionary of distn for input list_of_samples\n",
        "  '''\n",
        "  len_list=len(list_of_samples)\n",
        "  temp_dict=Counter(list_of_samples)\n",
        "  temp_prob_list=np.array(list(temp_dict.values()))*(1./len_list)\n",
        "  dict_to_return=dict(zip( list(temp_dict.keys()), temp_prob_list))\n",
        "  return dict_to_return\n",
        "\n",
        "\n",
        "## Average\n",
        "def avg(dict_probabilities:dict, dict_observable_val_at_states:dict):\n",
        "  ''' \n",
        "  Returns average of any observable of interest\n",
        "\n",
        "  Args:\n",
        "  dict_probabilities= {state: probability}\n",
        "  dict_observable_val_at_states={state (same as that of dict_probabilities): observable's value at that state}\n",
        "\n",
        "  Returns:\n",
        "  avg\n",
        "  '''\n",
        "  len_dict=len(dict_probabilities)\n",
        "  temp_array=np.zeros((len_dict,))\n",
        "  temp_list=[dict_probabilities[j]*dict_observable_val_at_states[j] for j in (list(dict_probabilities.keys())) ]\n",
        "  avg=np.mean(temp_list)\n",
        "  return avg\n",
        "\n",
        "### function to get running average of magnetization\n",
        "def running_avg_magnetization(list_states_mcmc:list):\n",
        "  ''' \n",
        "  Returns the running average magnetization \n",
        "\n",
        "  Args:\n",
        "  list_states_mcmc= List of states aceepted after each MCMC step\n",
        "  '''\n",
        "  len_iters_mcmc=len(list_states_mcmc)\n",
        "  running_avg_mag={}\n",
        "  for i in tqdm(range(1,len_iters_mcmc)):\n",
        "    temp_list=list_states_mcmc[:i]#[:i]\n",
        "    temp_prob=get_distn(temp_list)\n",
        "    dict_mag_states_in_temp_prob=dict_magnetization_of_all_states(temp_list)\n",
        "    running_avg_mag[i]=avg(temp_prob, dict_mag_states_in_temp_prob)\n",
        "  return running_avg_mag\n",
        "\n",
        "\n",
        "\n",
        "## Plotting related\n",
        "def plot_dict_of_running_avg_observable(dict_running_avg:dict, observable_legend_label:str):\n",
        "  plt.plot(list(dict_running_avg.keys()), list(dict_running_avg.values()),\"-\" ,label=observable_legend_label)\n",
        "  plt.xlabel(\"MCMC iterations\")\n",
        "\n",
        "def plot_bargraph_desc_order(desc_val_order_dict_in:dict, label:str, normalise_complete_data:bool=False,plot_first_few:int=0):\n",
        "  width=1.0\n",
        "  list_keys=list(desc_val_order_dict_in.keys())\n",
        "  list_vals=list(desc_val_order_dict_in.values())\n",
        "  if normalise_complete_data:\n",
        "    list_vals=np.divide(list_vals, sum(list_vals))#np.divide(list(vals), sum(vals))\n",
        "  if plot_first_few!=0:\n",
        "    plt.bar(list_keys[0:plot_first_few], list_vals[0:plot_first_few], label=label)\n",
        "  else:\n",
        "    plt.bar(list_keys, list_vals, label=label)\n",
        "  plt.xticks(rotation=45)\n",
        "\n",
        "def plot_multiple_bargraphs(list_of_dicts:list,list_labels:list,list_normalise:list ,plot_first_few,  sort_desc=False,sort_asc=False, figsize=(15,7)):\n",
        "  list_keys=list(list_of_dicts[0].keys())\n",
        "  dict_data={}\n",
        "  for i in range(0,len(list_labels)):\n",
        "    #list_vals=[list_of_dicts[i][j] for j in list_keys if j in list(list_of_dicts[i].keys()) else 0] #list(list_of_dicts[i].values())\n",
        "    list_vals=[list_of_dicts[i][j] if j in list(list_of_dicts[i].keys()) else 0 for j in list_keys]\n",
        "    if list_normalise[i]:\n",
        "      list_vals=np.divide(list_vals, sum(list_vals))\n",
        "    dict_data[list_labels[i]]=list_vals\n",
        "  df=pd.DataFrame(dict_data, index=list_keys)\n",
        "  if sort_desc:\n",
        "    df_sorted_desc=df.sort_values(list_labels[0], ascending=False)\n",
        "    df_sorted_desc[:plot_first_few].plot.bar(rot=90,figsize=figsize)\n",
        "  elif sort_asc:\n",
        "    df_sorted_asc=df.sort_values(list_labels[0], ascending=True)\n",
        "    df_sorted_asc[:plot_first_few].plot.bar(rot=90,figsize=figsize)\n",
        "  elif (sort_desc==False and sort_asc==False):\n",
        "    df[:plot_first_few].plot.bar(rot=90,figsize=figsize)\n",
        "\n",
        "\n",
        "# function to create dict for number of times states sprime were not accepted in MCMC iterations\n",
        "def fn_numtimes_bitstring_not_accepted(list_after_trsn, list_after_accept, bitstring):\n",
        "\n",
        "  where_sprime_is_bitstr=list(np.where( np.array(list_after_trsn) == bitstring)[0])\n",
        "  where_bitstr_not_accepted=[k for k in where_sprime_is_bitstr if list_after_accept[k]!=bitstring]\n",
        "  numtimes_sprime_is_bitstring= len(where_sprime_is_bitstr)\n",
        "  numtimes_bitstring_not_accepted=len(where_bitstr_not_accepted)\n",
        "  return numtimes_bitstring_not_accepted, numtimes_sprime_is_bitstring\n",
        "\n",
        "def fn_states_not_accepted(list_states:list, list_after_trsn:list, list_after_accept:list):\n",
        "  list_numtimes_state_not_accepted=[fn_numtimes_bitstring_not_accepted(list_after_trsn, list_after_accept,k)[0] for k in list_states]\n",
        "  list_numtimes_sprime_is_state=[fn_numtimes_bitstring_not_accepted(list_after_trsn, list_after_accept,k)[1] for k in list_states]\n",
        "  dict_numtimes_states_not_accepted=dict(zip(list_states, list_numtimes_state_not_accepted))\n",
        "  dict_numtimes_sprime_is_state=dict(zip(list_states, list_numtimes_sprime_is_state))\n",
        "  return dict_numtimes_states_not_accepted, dict_numtimes_sprime_is_state"
      ]
    },
    {
      "cell_type": "code",
      "execution_count": null,
      "metadata": {
        "id": "K_psDXWVD2K9"
      },
      "outputs": [],
      "source": [
        "states_nbit=states(num_spins=n_spins)\n",
        "\n",
        "# Actual_probability distribution\n",
        "transits_bltz = dict( [ ( state, model.get_boltzmann_prob(state) ) for state in states_nbit ] )\n",
        "rqd_sum=np.sum(np.array(list(transits_bltz.values())))\n",
        "#print(rqd_sum)\n",
        "prob_vals=list(np.array(list(transits_bltz.values()))*(1./rqd_sum))\n",
        "boltz_prob_distn=value_sorted_dict( dict(zip(states_nbit, prob_vals )), reverse=True )"
      ]
    },
    {
      "cell_type": "markdown",
      "metadata": {
        "id": "IekfaYLOD_67"
      },
      "source": [
        "## Run classical MCMC"
      ]
    },
    {
      "cell_type": "code",
      "execution_count": null,
      "metadata": {
        "id": "QJGVQcuVD_Cf"
      },
      "outputs": [],
      "source": [
        "# symmetric uniform transition matrix for uniform transition rule\n",
        "num_spins=n_spins#4\n",
        "num_elems=2**(num_spins)\n",
        "# transit_mat=np.ones((num_elems,num_elems))*(1./(2*num_elems))# in general case transit matrix could be entirely different\n",
        "# np.fill_diagonal(transit_mat, 1./2)\n",
        "\n",
        "# Run MCMC with uniform random transition strategy\n",
        "\n",
        "N_hops=2000\n",
        "dict_5_iter_states_distn_mcmc={}\n",
        "dict_5_iter_sprime_mcmc={}\n",
        "dict_5_iter_accepted_mcmc={}\n",
        "num_seperate_mcmc_chains=10\n",
        "for iteration in tqdm(range(0,num_seperate_mcmc_chains)):\n",
        "    dict_states_mcmc, cl_mcmc_after_trsn, cl_mcmc_after_accept = classical_mcmc(N_hops, num_spins, num_elems,model, return_last_n_states=600, return_both_classical_and_quantum_steps=True)\n",
        "    dict_states_mcmc_sorted_desc=value_sorted_dict(dict_states_mcmc, reverse=True)\n",
        "    \n",
        "    dict_5_iter_states_distn_mcmc[iteration]=dict_states_mcmc_sorted_desc\n",
        "    dict_5_iter_sprime_mcmc[iteration]=cl_mcmc_after_trsn\n",
        "    dict_5_iter_accepted_mcmc[iteration]=cl_mcmc_after_accept"
      ]
    },
    {
      "cell_type": "code",
      "execution_count": null,
      "metadata": {
        "id": "l8xoTe4XD2LC",
        "colab": {
          "base_uri": "https://localhost:8080/"
        },
        "outputId": "5965200d-06b6-4c59-cdce-5b24675a4d7d"
      },
      "outputs": [
        {
          "output_type": "stream",
          "name": "stderr",
          "text": [
            "100%|██████████| 500/500 [00:00<00:00, 711.58it/s]\n",
            "100%|██████████| 500/500 [00:00<00:00, 730.10it/s]\n",
            "100%|██████████| 500/500 [00:01<00:00, 419.12it/s]\n",
            "100%|██████████| 500/500 [00:01<00:00, 438.47it/s]\n",
            "100%|██████████| 500/500 [00:00<00:00, 720.67it/s]\n",
            "100%|██████████| 500/500 [00:00<00:00, 714.22it/s]\n",
            "100%|██████████| 500/500 [00:00<00:00, 714.25it/s]\n",
            "100%|██████████| 500/500 [00:00<00:00, 711.76it/s]\n",
            "100%|██████████| 500/500 [00:00<00:00, 720.86it/s]\n",
            "100%|██████████| 500/500 [00:00<00:00, 707.65it/s]\n"
          ]
        }
      ],
      "source": [
        "### data for plotting running average magnetization 5 cases seperately:\n",
        "first_few=500\n",
        "cl_running_avg_magzn=[running_avg_magnetization(list_states_mcmc=dict_5_iter_accepted_mcmc[m][:first_few+1]) for m in range(0,num_seperate_mcmc_chains)]\n",
        "\n",
        "# array first_few_iterations X number of seperate mcmc chains:\n",
        "array_avg_mag_diff_chains=np.zeros((first_few, num_seperate_mcmc_chains))\n",
        "for i in range(0, num_seperate_mcmc_chains):\n",
        "    array_avg_mag_diff_chains[:,i]=list(cl_running_avg_magzn[i].values())\n",
        "\n",
        "mean_mag_iterations=np.mean(array_avg_mag_diff_chains, axis=1)\n",
        "std_dev=np.std(array_avg_mag_diff_chains, axis=1)"
      ]
    },
    {
      "cell_type": "code",
      "source": [],
      "metadata": {
        "id": "uGakvKL1NP38"
      },
      "execution_count": null,
      "outputs": []
    },
    {
      "cell_type": "code",
      "source": [
        "columns = ['mcmc_'+str(i) for i in range(num_seperate_mcmc_chains)]\n",
        "df = pd.DataFrame(array_avg_mag_diff_chains,columns = columns)\n",
        "df"
      ],
      "metadata": {
        "colab": {
          "base_uri": "https://localhost:8080/",
          "height": 424
        },
        "id": "EEuERWSGL1YI",
        "outputId": "d15a16d1-9e02-4532-df78-a3a41976484c"
      },
      "execution_count": null,
      "outputs": [
        {
          "output_type": "execute_result",
          "data": {
            "text/plain": [
              "       mcmc_0    mcmc_1    mcmc_2    mcmc_3    mcmc_4    mcmc_5    mcmc_6  \\\n",
              "0    0.000000 -2.000000  0.000000 -4.000000 -4.000000  2.000000  2.000000   \n",
              "1    0.000000 -2.000000 -0.500000 -4.000000 -4.000000  2.000000  2.000000   \n",
              "2    0.000000 -1.333333 -0.666667 -4.000000 -4.000000  2.000000  0.666667   \n",
              "3   -0.500000 -1.500000 -0.750000 -2.000000 -4.000000  0.750000  0.500000   \n",
              "4   -0.800000 -1.600000 -0.800000 -2.000000 -4.000000  0.266667  0.400000   \n",
              "..        ...       ...       ...       ...       ...       ...       ...   \n",
              "495 -0.096124 -0.138441 -0.113424 -0.148359 -0.104839 -0.075941 -0.106407   \n",
              "496 -0.096190 -0.138162 -0.113325 -0.148200 -0.105017 -0.075884 -0.106416   \n",
              "497 -0.096256 -0.132530 -0.113227 -0.148040 -0.105195 -0.075827 -0.106426   \n",
              "498 -0.096322 -0.132425 -0.113129 -0.147882 -0.105372 -0.075771 -0.106435   \n",
              "499 -0.096387 -0.132320 -0.109375 -0.147724 -0.105548 -0.075714 -0.106444   \n",
              "\n",
              "       mcmc_7    mcmc_8    mcmc_9  \n",
              "0   -2.000000 -4.000000  0.000000  \n",
              "1    0.500000 -4.000000  0.000000  \n",
              "2    1.000000 -4.000000  0.333333  \n",
              "3    0.333333 -2.000000 -0.333333  \n",
              "4    0.300000 -2.000000 -0.666667  \n",
              "..        ...       ...       ...  \n",
              "495 -0.089844 -0.077117 -0.199885  \n",
              "496 -0.090166 -0.077163 -0.200057  \n",
              "497 -0.090487 -0.077209 -0.200229  \n",
              "498 -0.090807 -0.077255 -0.200401  \n",
              "499 -0.091125 -0.077300 -0.200571  \n",
              "\n",
              "[500 rows x 10 columns]"
            ],
            "text/html": [
              "\n",
              "  <div id=\"df-4e4917dd-57e6-4d82-a5f1-ab75beae7dca\">\n",
              "    <div class=\"colab-df-container\">\n",
              "      <div>\n",
              "<style scoped>\n",
              "    .dataframe tbody tr th:only-of-type {\n",
              "        vertical-align: middle;\n",
              "    }\n",
              "\n",
              "    .dataframe tbody tr th {\n",
              "        vertical-align: top;\n",
              "    }\n",
              "\n",
              "    .dataframe thead th {\n",
              "        text-align: right;\n",
              "    }\n",
              "</style>\n",
              "<table border=\"1\" class=\"dataframe\">\n",
              "  <thead>\n",
              "    <tr style=\"text-align: right;\">\n",
              "      <th></th>\n",
              "      <th>mcmc_0</th>\n",
              "      <th>mcmc_1</th>\n",
              "      <th>mcmc_2</th>\n",
              "      <th>mcmc_3</th>\n",
              "      <th>mcmc_4</th>\n",
              "      <th>mcmc_5</th>\n",
              "      <th>mcmc_6</th>\n",
              "      <th>mcmc_7</th>\n",
              "      <th>mcmc_8</th>\n",
              "      <th>mcmc_9</th>\n",
              "    </tr>\n",
              "  </thead>\n",
              "  <tbody>\n",
              "    <tr>\n",
              "      <th>0</th>\n",
              "      <td>0.000000</td>\n",
              "      <td>-2.000000</td>\n",
              "      <td>0.000000</td>\n",
              "      <td>-4.000000</td>\n",
              "      <td>-4.000000</td>\n",
              "      <td>2.000000</td>\n",
              "      <td>2.000000</td>\n",
              "      <td>-2.000000</td>\n",
              "      <td>-4.000000</td>\n",
              "      <td>0.000000</td>\n",
              "    </tr>\n",
              "    <tr>\n",
              "      <th>1</th>\n",
              "      <td>0.000000</td>\n",
              "      <td>-2.000000</td>\n",
              "      <td>-0.500000</td>\n",
              "      <td>-4.000000</td>\n",
              "      <td>-4.000000</td>\n",
              "      <td>2.000000</td>\n",
              "      <td>2.000000</td>\n",
              "      <td>0.500000</td>\n",
              "      <td>-4.000000</td>\n",
              "      <td>0.000000</td>\n",
              "    </tr>\n",
              "    <tr>\n",
              "      <th>2</th>\n",
              "      <td>0.000000</td>\n",
              "      <td>-1.333333</td>\n",
              "      <td>-0.666667</td>\n",
              "      <td>-4.000000</td>\n",
              "      <td>-4.000000</td>\n",
              "      <td>2.000000</td>\n",
              "      <td>0.666667</td>\n",
              "      <td>1.000000</td>\n",
              "      <td>-4.000000</td>\n",
              "      <td>0.333333</td>\n",
              "    </tr>\n",
              "    <tr>\n",
              "      <th>3</th>\n",
              "      <td>-0.500000</td>\n",
              "      <td>-1.500000</td>\n",
              "      <td>-0.750000</td>\n",
              "      <td>-2.000000</td>\n",
              "      <td>-4.000000</td>\n",
              "      <td>0.750000</td>\n",
              "      <td>0.500000</td>\n",
              "      <td>0.333333</td>\n",
              "      <td>-2.000000</td>\n",
              "      <td>-0.333333</td>\n",
              "    </tr>\n",
              "    <tr>\n",
              "      <th>4</th>\n",
              "      <td>-0.800000</td>\n",
              "      <td>-1.600000</td>\n",
              "      <td>-0.800000</td>\n",
              "      <td>-2.000000</td>\n",
              "      <td>-4.000000</td>\n",
              "      <td>0.266667</td>\n",
              "      <td>0.400000</td>\n",
              "      <td>0.300000</td>\n",
              "      <td>-2.000000</td>\n",
              "      <td>-0.666667</td>\n",
              "    </tr>\n",
              "    <tr>\n",
              "      <th>...</th>\n",
              "      <td>...</td>\n",
              "      <td>...</td>\n",
              "      <td>...</td>\n",
              "      <td>...</td>\n",
              "      <td>...</td>\n",
              "      <td>...</td>\n",
              "      <td>...</td>\n",
              "      <td>...</td>\n",
              "      <td>...</td>\n",
              "      <td>...</td>\n",
              "    </tr>\n",
              "    <tr>\n",
              "      <th>495</th>\n",
              "      <td>-0.096124</td>\n",
              "      <td>-0.138441</td>\n",
              "      <td>-0.113424</td>\n",
              "      <td>-0.148359</td>\n",
              "      <td>-0.104839</td>\n",
              "      <td>-0.075941</td>\n",
              "      <td>-0.106407</td>\n",
              "      <td>-0.089844</td>\n",
              "      <td>-0.077117</td>\n",
              "      <td>-0.199885</td>\n",
              "    </tr>\n",
              "    <tr>\n",
              "      <th>496</th>\n",
              "      <td>-0.096190</td>\n",
              "      <td>-0.138162</td>\n",
              "      <td>-0.113325</td>\n",
              "      <td>-0.148200</td>\n",
              "      <td>-0.105017</td>\n",
              "      <td>-0.075884</td>\n",
              "      <td>-0.106416</td>\n",
              "      <td>-0.090166</td>\n",
              "      <td>-0.077163</td>\n",
              "      <td>-0.200057</td>\n",
              "    </tr>\n",
              "    <tr>\n",
              "      <th>497</th>\n",
              "      <td>-0.096256</td>\n",
              "      <td>-0.132530</td>\n",
              "      <td>-0.113227</td>\n",
              "      <td>-0.148040</td>\n",
              "      <td>-0.105195</td>\n",
              "      <td>-0.075827</td>\n",
              "      <td>-0.106426</td>\n",
              "      <td>-0.090487</td>\n",
              "      <td>-0.077209</td>\n",
              "      <td>-0.200229</td>\n",
              "    </tr>\n",
              "    <tr>\n",
              "      <th>498</th>\n",
              "      <td>-0.096322</td>\n",
              "      <td>-0.132425</td>\n",
              "      <td>-0.113129</td>\n",
              "      <td>-0.147882</td>\n",
              "      <td>-0.105372</td>\n",
              "      <td>-0.075771</td>\n",
              "      <td>-0.106435</td>\n",
              "      <td>-0.090807</td>\n",
              "      <td>-0.077255</td>\n",
              "      <td>-0.200401</td>\n",
              "    </tr>\n",
              "    <tr>\n",
              "      <th>499</th>\n",
              "      <td>-0.096387</td>\n",
              "      <td>-0.132320</td>\n",
              "      <td>-0.109375</td>\n",
              "      <td>-0.147724</td>\n",
              "      <td>-0.105548</td>\n",
              "      <td>-0.075714</td>\n",
              "      <td>-0.106444</td>\n",
              "      <td>-0.091125</td>\n",
              "      <td>-0.077300</td>\n",
              "      <td>-0.200571</td>\n",
              "    </tr>\n",
              "  </tbody>\n",
              "</table>\n",
              "<p>500 rows × 10 columns</p>\n",
              "</div>\n",
              "      <button class=\"colab-df-convert\" onclick=\"convertToInteractive('df-4e4917dd-57e6-4d82-a5f1-ab75beae7dca')\"\n",
              "              title=\"Convert this dataframe to an interactive table.\"\n",
              "              style=\"display:none;\">\n",
              "        \n",
              "  <svg xmlns=\"http://www.w3.org/2000/svg\" height=\"24px\"viewBox=\"0 0 24 24\"\n",
              "       width=\"24px\">\n",
              "    <path d=\"M0 0h24v24H0V0z\" fill=\"none\"/>\n",
              "    <path d=\"M18.56 5.44l.94 2.06.94-2.06 2.06-.94-2.06-.94-.94-2.06-.94 2.06-2.06.94zm-11 1L8.5 8.5l.94-2.06 2.06-.94-2.06-.94L8.5 2.5l-.94 2.06-2.06.94zm10 10l.94 2.06.94-2.06 2.06-.94-2.06-.94-.94-2.06-.94 2.06-2.06.94z\"/><path d=\"M17.41 7.96l-1.37-1.37c-.4-.4-.92-.59-1.43-.59-.52 0-1.04.2-1.43.59L10.3 9.45l-7.72 7.72c-.78.78-.78 2.05 0 2.83L4 21.41c.39.39.9.59 1.41.59.51 0 1.02-.2 1.41-.59l7.78-7.78 2.81-2.81c.8-.78.8-2.07 0-2.86zM5.41 20L4 18.59l7.72-7.72 1.47 1.35L5.41 20z\"/>\n",
              "  </svg>\n",
              "      </button>\n",
              "      \n",
              "  <style>\n",
              "    .colab-df-container {\n",
              "      display:flex;\n",
              "      flex-wrap:wrap;\n",
              "      gap: 12px;\n",
              "    }\n",
              "\n",
              "    .colab-df-convert {\n",
              "      background-color: #E8F0FE;\n",
              "      border: none;\n",
              "      border-radius: 50%;\n",
              "      cursor: pointer;\n",
              "      display: none;\n",
              "      fill: #1967D2;\n",
              "      height: 32px;\n",
              "      padding: 0 0 0 0;\n",
              "      width: 32px;\n",
              "    }\n",
              "\n",
              "    .colab-df-convert:hover {\n",
              "      background-color: #E2EBFA;\n",
              "      box-shadow: 0px 1px 2px rgba(60, 64, 67, 0.3), 0px 1px 3px 1px rgba(60, 64, 67, 0.15);\n",
              "      fill: #174EA6;\n",
              "    }\n",
              "\n",
              "    [theme=dark] .colab-df-convert {\n",
              "      background-color: #3B4455;\n",
              "      fill: #D2E3FC;\n",
              "    }\n",
              "\n",
              "    [theme=dark] .colab-df-convert:hover {\n",
              "      background-color: #434B5C;\n",
              "      box-shadow: 0px 1px 3px 1px rgba(0, 0, 0, 0.15);\n",
              "      filter: drop-shadow(0px 1px 2px rgba(0, 0, 0, 0.3));\n",
              "      fill: #FFFFFF;\n",
              "    }\n",
              "  </style>\n",
              "\n",
              "      <script>\n",
              "        const buttonEl =\n",
              "          document.querySelector('#df-4e4917dd-57e6-4d82-a5f1-ab75beae7dca button.colab-df-convert');\n",
              "        buttonEl.style.display =\n",
              "          google.colab.kernel.accessAllowed ? 'block' : 'none';\n",
              "\n",
              "        async function convertToInteractive(key) {\n",
              "          const element = document.querySelector('#df-4e4917dd-57e6-4d82-a5f1-ab75beae7dca');\n",
              "          const dataTable =\n",
              "            await google.colab.kernel.invokeFunction('convertToInteractive',\n",
              "                                                     [key], {});\n",
              "          if (!dataTable) return;\n",
              "\n",
              "          const docLinkHtml = 'Like what you see? Visit the ' +\n",
              "            '<a target=\"_blank\" href=https://colab.research.google.com/notebooks/data_table.ipynb>data table notebook</a>'\n",
              "            + ' to learn more about interactive tables.';\n",
              "          element.innerHTML = '';\n",
              "          dataTable['output_type'] = 'display_data';\n",
              "          await google.colab.output.renderOutput(dataTable, element);\n",
              "          const docLink = document.createElement('div');\n",
              "          docLink.innerHTML = docLinkHtml;\n",
              "          element.appendChild(docLink);\n",
              "        }\n",
              "      </script>\n",
              "    </div>\n",
              "  </div>\n",
              "  "
            ]
          },
          "metadata": {},
          "execution_count": 54
        }
      ]
    },
    {
      "cell_type": "code",
      "execution_count": null,
      "metadata": {
        "id": "G8Fq4D7FD2LE",
        "outputId": "f7c6161f-3035-489c-a26d-7ad485112eab",
        "colab": {
          "base_uri": "https://localhost:8080/",
          "height": 445
        }
      },
      "outputs": [
        {
          "output_type": "execute_result",
          "data": {
            "text/plain": [
              "<matplotlib.legend.Legend at 0x7f577744b790>"
            ]
          },
          "metadata": {},
          "execution_count": 38
        },
        {
          "output_type": "display_data",
          "data": {
            "text/plain": [
              "<Figure size 1440x504 with 1 Axes>"
            ],
            "image/png": "[encoded data removed]"
          },
          "metadata": {
            "needs_background": "light"
          }
        }
      ],
      "source": [
        "plt.figure(figsize=(20,7))\n",
        "magnetization_of_all_states=dict_magnetization_of_all_states(states_nbit)\n",
        "actual_avg_mag=avg(dict_probabilities=boltz_prob_distn, dict_observable_val_at_states=magnetization_of_all_states)\n",
        "plt.plot(mean_mag_iterations,\":\" ,label=\"Cl mcmc\")\n",
        "plt.axhline(y=actual_avg_mag,linestyle=\"-\", color=\"k\" ,label=\"Actual\")\n",
        "plt.legend()"
      ]
    },
    {
      "cell_type": "code",
      "execution_count": null,
      "metadata": {
        "id": "ltOSt5END2LG",
        "outputId": "e3679f93-f5c8-4768-b791-57255ead586f",
        "colab": {
          "base_uri": "https://localhost:8080/"
        }
      },
      "outputs": [
        {
          "output_type": "stream",
          "name": "stderr",
          "text": [
            "100%|██████████| 10/10 [00:01<00:00,  5.36it/s]"
          ]
        },
        {
          "output_type": "stream",
          "name": "stdout",
          "text": [
            "[7.7, 7.4, 6.6, 8.7, 6.9, 8.4, 6.6, 5.7, 6.7, 7.1, 7.4, 7.7, 9.2, 7.7, 7.5, 7.8, 7.1, 8.3, 7.4, 7.5, 6.2, 7.4, 5.5, 8.1, 7.5, 8.0, 7.1, 7.2, 8.0, 8.7, 8.4, 7.4, 8.3, 6.8, 6.9, 7.1, 7.8, 7.4, 7.6, 7.4, 7.4, 9.0, 8.3, 6.9, 9.2, 7.3, 7.8, 6.8, 7.1, 6.9, 7.5, 6.1, 6.7, 7.5, 8.0, 7.8, 6.8, 8.3, 9.3, 7.3, 7.8, 7.8, 7.1, 8.0, 7.2, 8.1, 6.3, 6.1, 8.4, 9.0, 4.9, 5.1, 6.3, 8.0, 8.5, 7.8, 8.8, 7.7, 6.7, 8.3, 8.2, 8.2, 5.1, 5.4, 9.5, 7.8, 6.6, 4.1, 9.3, 7.3, 9.0, 8.1, 8.0, 7.8, 7.9, 6.8, 5.5, 8.6, 6.9, 8.7, 7.9, 8.3, 7.6, 7.9, 7.2, 8.5, 8.3, 8.4, 7.0, 6.1, 6.9, 6.9, 7.4, 8.5, 7.8, 6.9, 9.7, 8.2, 8.5, 8.1, 8.0, 8.7, 8.3, 7.1, 8.3, 6.5, 8.9, 8.2, 7.3, 6.4, 6.8, 6.2, 6.3, 7.7, 4.9, 5.5, 8.6, 8.1, 7.8, 10.6, 8.1, 7.9, 7.2, 7.8, 10.1, 8.0, 8.3, 8.3, 7.3, 9.7, 6.1, 7.2, 5.3, 6.8, 7.6, 7.2, 7.6, 8.9, 7.1, 7.6, 7.6, 8.8, 8.0, 7.4, 6.6, 9.0, 8.4, 8.5, 7.9, 7.6, 8.1, 7.1, 7.7, 8.2, 7.7, 8.7, 7.8, 7.7, 9.1, 6.9, 9.1, 6.7, 7.0, 7.9, 8.3, 8.1, 7.8, 8.4, 8.0, 9.1, 9.2, 8.4, 6.5, 6.0, 2.3, 5.0, 6.1, 6.1, 0.0, 0.9, 8.3, 9.2, 8.1, 8.6, 7.4, 7.0, 8.9, 8.1, 6.2, 6.1, 7.0, 9.1, 6.5, 8.2, 5.7, 3.0, 8.5, 7.9, 7.9, 8.4, 8.2, 8.3, 6.9, 9.2, 6.9, 7.7, 7.2, 7.2, 8.1, 8.3, 7.4, 7.5, 7.8, 7.0, 8.5, 6.2, 10.6, 8.3, 7.9, 8.3, 8.0, 8.2, 8.7, 7.7, 8.5, 8.6, 8.1, 7.1, 7.3, 7.5, 8.7, 7.8, 8.0, 7.4, 8.4, 7.1]\n"
          ]
        },
        {
          "output_type": "stream",
          "name": "stderr",
          "text": [
            "\n"
          ]
        }
      ],
      "source": [
        "### Sampling related\n",
        "\n",
        "list_of_dict_state_not_accepted=[]\n",
        "list_of_dict_sprime_occured=[]\n",
        "for i in tqdm(range(0,num_seperate_mcmc_chains)):\n",
        "    dict_numtimes_state_not_accepted, dict_numtimes_sprime=fn_states_not_accepted(list_states=states_nbit,\n",
        "    list_after_trsn=dict_5_iter_sprime_mcmc[i], \n",
        "    list_after_accept= dict_5_iter_accepted_mcmc[i])\n",
        "    list_of_dict_state_not_accepted.append(dict_numtimes_state_not_accepted)\n",
        "    list_of_dict_sprime_occured.append(dict_numtimes_sprime)\n",
        "\n",
        "numtimes_sprime_rejected_array=np.zeros((num_elems,num_seperate_mcmc_chains))\n",
        "numtimes_sprime_occured_array=np.zeros((num_elems,num_seperate_mcmc_chains))\n",
        "for i in range(0, num_seperate_mcmc_chains):\n",
        "    numtimes_sprime_rejected_array[:,i]=list(list_of_dict_state_not_accepted[i].values())\n",
        "    numtimes_sprime_occured_array[:,i]=list(list_of_dict_sprime_occured[i].values())\n",
        "\n",
        "avg_sprime_rejected=list(np.mean(numtimes_sprime_rejected_array, axis=1))\n",
        "std_dev_sprime_rejected=np.std(numtimes_sprime_rejected_array, axis=1)\n",
        "avg_sprime_occured=list(np.mean(numtimes_sprime_occured_array, axis=1))\n",
        "\n",
        "dict_avg_times_sprime_rejected=dict(\n",
        "    zip(\n",
        "    list(dict_numtimes_state_not_accepted.keys()),avg_sprime_rejected\n",
        "    )\n",
        "    )\n",
        "\n",
        "dict_avg_times_sprime_occured=dict(\n",
        "    zip(\n",
        "    list(dict_numtimes_sprime.keys()),avg_sprime_occured\n",
        "    )\n",
        "    )\n",
        "\n",
        "print(avg_sprime_rejected)"
      ]
    },
    {
      "cell_type": "code",
      "execution_count": null,
      "metadata": {
        "id": "kULpQHAzac1R"
      },
      "outputs": [],
      "source": [
        "# plt.figure(figsize=(15,10))\n",
        "# plt.subplot(2,1,1)\n",
        "# plot_bargraph_desc_order(boltz_prob_distn,label=\"theoretical\", plot_first_few=30)   \n",
        "# plt.legend()\n",
        "# plt.subplot(2,1,2)\n",
        "# plot_bargraph_desc_order(dict_states_mcmc,label=\"MCMC-uniform\", normalise_complete_data=True)  \n",
        "# plt.legend()\n",
        "# # plot_bargraph(boltz_prob_distn,label=\"theoretical\",plot_first_few=60)  \n",
        "# # plot_bargraph(dict_states_mcmc,label=\"MCMC-Uniform\",normalise_complete_data=True,plot_first_few=60)  \n",
        "# plot_multiple_bargraphs([boltz_prob_distn,dict_states_mcmc], [\"theory\", \"MCMC-Uniform random\"], list_normalise=[True,True], plot_first_few=30, sort_desc=True)\n",
        "# # plt.legend()"
      ]
    },
    {
      "cell_type": "code",
      "execution_count": null,
      "metadata": {
        "id": "z2lTXaPG1To_"
      },
      "outputs": [],
      "source": [
        "# # get actual probability distribution\n",
        "# transits_bltz = dict( [ ( state, model.get_boltzmann_prob(state) ) for state in states_nbit ] )\n",
        "# # plot actual prob distribution as well as one obtained from MCMC\n",
        "# #dict_states_mcmc_plot=dict(zip(list(range(0,2**(num_spins))), list(dict_states_mcmc.values()) ))\n",
        "# plot_histogram( [boltz_prob_distn, dict_states_mcmc] , figsize=(20, 7), legend= ['model', 'MCMC-uniform'], bar_labels=False, sort=\"value_desc\")"
      ]
    },
    {
      "cell_type": "markdown",
      "metadata": {
        "id": "A2r85OtSAq15"
      },
      "source": [
        "## Run quantum enhanced MCMC"
      ]
    },
    {
      "cell_type": "code",
      "execution_count": null,
      "metadata": {
        "colab": {
          "base_uri": "https://localhost:8080/"
        },
        "id": "YzHqeUOTAq15",
        "outputId": "0b6e39c2-e6e4-47ee-c535-da0b82939c16"
      },
      "outputs": [
        {
          "name": "stdout",
          "output_type": "stream",
          "text": [
            "starting with:  00011101\n"
          ]
        },
        {
          "name": "stderr",
          "output_type": "stream",
          "text": [
            "100%|██████████| 600/600 [03:59<00:00,  2.51it/s]\n"
          ]
        }
      ],
      "source": [
        "# symmetric uniform transition matrix for uniform transition rule: tho tbh I dont need it\n",
        "num_spins=n_spins#4\n",
        "num_elems=2**(num_spins)\n",
        "transit_mat=np.ones((num_elems,num_elems))*(1./(2*num_elems))# in general case transit matrix could be entirely different\n",
        "np.fill_diagonal(transit_mat, 1./2)\n",
        "\n",
        "# Run MCMC with uniform random transition strategy\n",
        "N_hops=600\n",
        "dict_states_quantum_mcmc, quant_mcmc_after_trsn, quant_mcmc_after_accept =quantum_enhanced_mcmc(N_hops, \n",
        "num_spins, num_elems, model, alpha, num_trotter_steps=10, \n",
        "return_last_n_states=300,return_both_classical_and_quantum_steps=True)"
      ]
    },
    {
      "cell_type": "code",
      "execution_count": null,
      "metadata": {
        "id": "-DZTBYno1ALp"
      },
      "outputs": [],
      "source": [
        "# get actual probability distribution\n",
        "#transits_bltz = dict( [ ( state, model.get_boltzmann_prob(state) ) for state in states_nbit ] )\n",
        "# plot actual prob distribution as well as one obtained from MCMC\n",
        "plot_histogram( [boltz_prob_distn, dict_states_quantum_mcmc] , figsize=(20, 7), legend= ['model', 'Quantum-enhanced MCMC' ], sort= 'value_desc')"
      ]
    },
    {
      "cell_type": "code",
      "execution_count": null,
      "metadata": {
        "id": "zBFr2uQgF7p_"
      },
      "outputs": [],
      "source": [
        "fig = plot_histogram( [boltz_prob_distn,dict_states_quantum_mcmc] , figsize=(40, 15), legend= [\"model\", \"Quantum\" ], bar_labels=False)\n",
        "fig"
      ]
    },
    {
      "cell_type": "code",
      "execution_count": null,
      "metadata": {
        "id": "8kIg-BaQFgQL"
      },
      "outputs": [],
      "source": [
        "plot_histogram( [boltz_prob_distn,dict_states_mcmc, dict_states_quantum_mcmc] , figsize=(40, 15), legend= ['model', 'classical MCMC: Uniform','Quantum-enhanced MCMC' ], sort='value_desc', bar_labels=False)"
      ]
    },
    {
      "cell_type": "code",
      "execution_count": null,
      "metadata": {
        "id": "7AjbJG0vAkxP"
      },
      "outputs": [],
      "source": [
        "# transits_bltz"
      ]
    },
    {
      "cell_type": "code",
      "execution_count": null,
      "metadata": {
        "id": "k--IFkWn__QG"
      },
      "outputs": [],
      "source": [
        "transits_bltz = dict( [ ( state, model.get_boltzmann_prob(state) ) for state in states_nbit ] )\n",
        "rqd_sum=np.sum(np.array(list(transits_bltz.values())))\n",
        "#print(rqd_sum)\n",
        "prob_vals=list(np.array(list(transits_bltz.values()))*(1./rqd_sum))\n",
        "boltz_prob_distn=dict(zip(list(transits_bltz.keys()), prob_vals ))\n",
        "print(boltz_prob_distn)"
      ]
    },
    {
      "cell_type": "markdown",
      "metadata": {
        "id": "yiwCStvOGip-"
      },
      "source": [
        "### comparing number of accepted/rejected samples"
      ]
    },
    {
      "cell_type": "code",
      "execution_count": null,
      "metadata": {
        "id": "SMtohT9qG_TX"
      },
      "outputs": [],
      "source": [
        "# plt.figure(figsize=(20,7))\n",
        "# plt.plot(cl_mcmc_after_trsn, label=\"Classical Uniform\")\n",
        "# plt.plot(quant_mcmc_after_trsn, label=\"Quantum\")\n",
        "# plt.xlabel(\"MCMC iterations\")\n",
        "# plt.title(\"after transition\")\n",
        "plt.figure(figsize=(10,10))\n",
        "#quant_mcmc_after_trsn, quant_mcmc_after_accept\n",
        "plt.plot(cl_mcmc_after_accept, label=\"Classical Uniform\")\n",
        "plt.plot(quant_mcmc_after_accept,label=\"Quantum\")\n",
        "plt.xlabel(\"MCMC iterations\")\n",
        "plt.title(\"State accepted in i'th iteration\")\n",
        "plt.legend()"
      ]
    },
    {
      "cell_type": "markdown",
      "metadata": {
        "id": "7fkk5Z-9PAYb"
      },
      "source": [
        "Next task:\n",
        "For different problem instances, do the following:\n",
        "\n",
        "1. Running average: magnetization. **(DONE)**\n",
        "\n",
        "2.  For first few relevant states (high probability), check how many times were those states accepted/rejected out of total number of iterations considered for the prob distn. **(CODE IS COMPLETE, NOW WE NEED TO RUN SOME EXPERIEMENTS)**\n",
        "\n",
        "3. Overlap with the desired distribution.\n"
      ]
    },
    {
      "cell_type": "markdown",
      "metadata": {
        "id": "CKgLUKukDne0"
      },
      "source": [
        "## Running average; magnetization"
      ]
    },
    {
      "cell_type": "code",
      "execution_count": null,
      "metadata": {
        "colab": {
          "base_uri": "https://localhost:8080/"
        },
        "id": "atvmYeWL0hvO",
        "outputId": "33f110b2-d51c-40e7-9a5a-173191095d4f"
      },
      "outputs": [
        {
          "name": "stderr",
          "output_type": "stream",
          "text": [
            "100%|██████████| 599/599 [00:00<00:00, 843.07it/s]\n",
            "100%|██████████| 599/599 [00:00<00:00, 811.41it/s]\n"
          ]
        }
      ],
      "source": [
        "check_cl=running_avg_magnetization(list_states_mcmc=cl_mcmc_after_accept)\n",
        "check_quant=running_avg_magnetization(list_states_mcmc=quant_mcmc_after_accept)"
      ]
    },
    {
      "cell_type": "code",
      "execution_count": null,
      "metadata": {
        "colab": {
          "base_uri": "https://localhost:8080/",
          "height": 460
        },
        "id": "ynfCYeiS50wQ",
        "outputId": "e7d5e285-be38-440e-fed3-f35d6c8d6253"
      },
      "outputs": [
        {
          "data": {
            "text/plain": [
              "<matplotlib.legend.Legend at 0x7f308a901990>"
            ]
          },
          "execution_count": 24,
          "metadata": {},
          "output_type": "execute_result"
        },
        {
          "data": {
            "image/png": "[encoded data removed]",
            "text/plain": [
              "<Figure size 1440x504 with 1 Axes>"
            ]
          },
          "metadata": {
            "needs_background": "light"
          },
          "output_type": "display_data"
        }
      ],
      "source": [
        "plt.figure(figsize=(20,7))\n",
        "magnetization_of_all_states=dict_magnetization_of_all_states(states_nbit)\n",
        "actual_avg_mag=avg(dict_probabilities=boltz_prob_distn, dict_observable_val_at_states=magnetization_of_all_states)\n",
        "plt.axhline(y=actual_avg_mag,linestyle=\":\", color=\"k\" ,label=\"Actual\")\n",
        "plot_dict_of_running_avg_observable(check_cl, \"Cl MCMC- Uniform\")\n",
        "plot_dict_of_running_avg_observable(check_quant, \"Quantum\")\n",
        "plt.legend()"
      ]
    },
    {
      "cell_type": "markdown",
      "metadata": {
        "id": "sL_7qZNIEDeO"
      },
      "source": [
        "## Sampling related"
      ]
    },
    {
      "cell_type": "code",
      "execution_count": null,
      "metadata": {
        "id": "s2_o7fwB6-Fy"
      },
      "outputs": [],
      "source": [
        "# cl_mcmc_after_trsn, cl_mcmc_after_accept\n",
        "# quant_mcmc_after_trsn, quant_mcmc_after_accept \n",
        "aa,bb=fn_states_not_accepted(list_states=states_nbit, list_after_trsn=cl_mcmc_after_trsn, list_after_accept=cl_mcmc_after_accept)\n",
        "print(aa); print(bb)\n",
        "# fn_numtimes_bitstring_not_accepted(list_after_trsn=cl_mcmc_after_trsn, list_after_accept=cl_mcmc_after_accept,bitstring='0000')"
      ]
    },
    {
      "cell_type": "code",
      "execution_count": null,
      "metadata": {
        "id": "qP7XoMFnUgdr"
      },
      "outputs": [],
      "source": []
    },
    {
      "cell_type": "code",
      "execution_count": null,
      "metadata": {
        "id": "XTgDq37vKC61"
      },
      "outputs": [],
      "source": []
    }
  ],
  "metadata": {
    "colab": {
      "provenance": []
    },
    "kernelspec": {
      "display_name": "Python 3.8.8 ('base')",
      "language": "python",
      "name": "python3"
    },
    "language_info": {
      "codemirror_mode": {
        "name": "ipython",
        "version": 3
      },
      "file_extension": ".py",
      "mimetype": "text/x-python",
      "name": "python",
      "nbconvert_exporter": "python",
      "pygments_lexer": "ipython3",
      "version": "3.8.8"
    },
    "orig_nbformat": 4,
    "vscode": {
      "interpreter": {
        "hash": "184a4bfd18ed123440bfad7023e607e274d9f6c0bdada601c853a4367aa45839"
      }
    }
  },
  "nbformat": 4,
  "nbformat_minor": 0
}