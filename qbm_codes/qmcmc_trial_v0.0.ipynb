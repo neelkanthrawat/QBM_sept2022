{
  "cells": [
    {
      "cell_type": "code",
      "source": [
        "!pip install qiskit ipywidgets"
      ],
      "metadata": {
        "id": "0CIKud1ZMztV"
      },
      "execution_count": null,
      "outputs": []
    },
    {
      "cell_type": "code",
      "execution_count": 10,
      "metadata": {
        "id": "BCbUY0yDMyL7"
      },
      "outputs": [],
      "source": [
        "#from qbm_utils import *\n",
        "from qiskit.quantum_info import Pauli\n",
        "#from qiskit.extensions import UGate, RZZGate\n",
        "from qiskit.circuit.library import RZZGate, UGate, MCXGate"
      ]
    },
    {
      "cell_type": "code",
      "execution_count": 11,
      "metadata": {
        "id": "Tr5NsJ7QMyL-"
      },
      "outputs": [],
      "source": [
        "import numpy as np\n",
        "import matplotlib.pyplot as plt\n",
        "import pandas as pd"
      ]
    },
    {
      "cell_type": "code",
      "source": [
        "from qbm_utils import *"
      ],
      "metadata": {
        "id": "dfwqs3hKNZqv"
      },
      "execution_count": 12,
      "outputs": []
    },
    {
      "cell_type": "markdown",
      "metadata": {
        "id": "d5hHisczMyL_"
      },
      "source": [
        "### Quantum enhanced MCMC implementation\n",
        "Aim is to implement the circuit for implementing quantum enhanced MCMC"
      ]
    },
    {
      "cell_type": "code",
      "execution_count": 13,
      "metadata": {
        "id": "DpV6z9uoMyMB"
      },
      "outputs": [],
      "source": [
        "import qiskit"
      ]
    },
    {
      "cell_type": "markdown",
      "metadata": {
        "id": "wufeB3Z0MyMC"
      },
      "source": [
        "### Define the model"
      ]
    },
    {
      "cell_type": "code",
      "execution_count": 14,
      "metadata": {
        "id": "f4OxhV2bMyMD"
      },
      "outputs": [],
      "source": [
        "## put n_spins even always\n",
        "n_spins = 4\n",
        "\n",
        "## construct problem Hamiltonian ##\n",
        "shape_of_J=(n_spins,n_spins)\n",
        "J =  np.random.randn(n_spins,n_spins)#np.random.uniform(low= -1, high= 1, size= (n_spins, n_spins) )\n",
        "J = 0.5 * (J + J.transpose() )\n",
        "h = np.random.randn(n_spins)#np.random.uniform(low= -1, high = 1, size= (n_spins))\n",
        "\n",
        "# instantiate the model\n",
        "model = IsingEnergyFunction(J, h)\n",
        "\n",
        "alpha = np.sqrt(n_spins) / np.sqrt( sum([J[i][j]**2 for i in range(n_spins) for j in range(i)]) + sum([h[j]**2 for j in range(n_spins)])  )\n"
      ]
    },
    {
      "cell_type": "markdown",
      "metadata": {
        "id": "kOCP59wIMyMG"
      },
      "source": [
        "### Quantum part!"
      ]
    },
    {
      "cell_type": "code",
      "execution_count": 15,
      "metadata": {
        "id": "GW4cL-GXMyMH",
        "outputId": "c7b71ac2-c96e-45a9-feaa-36871676964e",
        "colab": {
          "base_uri": "https://localhost:8080/"
        }
      },
      "outputs": [
        {
          "output_type": "execute_result",
          "data": {
            "text/plain": [
              "<qiskit.circuit.instructionset.InstructionSet at 0x7f330cebff10>"
            ]
          },
          "metadata": {},
          "execution_count": 15
        }
      ],
      "source": [
        "# initial case : later I need to create a function for it!\n",
        "spins = QuantumRegister(n_spins, name= 'spin')\n",
        "creg_final = ClassicalRegister(n_spins, name= 'creg_f')\n",
        "qc = QuantumCircuit(spins, creg_final)\n",
        "qc.h(spins)\n",
        "qc.barrier()\n",
        "# qc.draw(\"mpl\")"
      ]
    },
    {
      "cell_type": "code",
      "execution_count": 16,
      "metadata": {
        "id": "MHZ_bOA1MyMI"
      },
      "outputs": [],
      "source": [
        "# quantum procedure to make transitions from s to s'\n",
        "def run_qc_quantum_step(qc_initialised_to_s:QuantumCircuit, alpha,num_trotter_steps=10, time=0.8)->str:\n",
        "\n",
        "    '''     \n",
        "    Takes in a qc initialized to some state \"s\". After performing unitary evolution U=exp(-iHt)\n",
        "    , circuit is measured once and returns the state \" s' \" so obtained.\n",
        "\n",
        "    Args:\n",
        "    qc_initialised_to_s\n",
        "    alpha:\n",
        "    num_trotter_steps: (default 10)\n",
        "    time: For how long you want to evolve.\n",
        "    '''\n",
        "    for _ in range(num_trotter_steps):\n",
        "        append_evolution(qc_initialised_to_s, h, J ,gamma=np.random.random(), alpha=alpha, time=time)\n",
        "    append_evolution(qc_initialised_to_s, h, J , gamma=0.1, alpha=alpha, time=time, is_terminal_step=True)\n",
        "    \n",
        "    # draw the ckt\n",
        "    #print(qc_initialised_to_s.draw())\n",
        "\n",
        "    # run the circuit\n",
        "    creg_final=ClassicalRegister(n_spins, name= 'creg_f')\n",
        "    num_shots=1\n",
        "    qc_initialised_to_s.measure(qc.qubits, creg_final)\n",
        "    state_obtained_dict=execute(qc, shots= num_shots, backend= qsm).result().get_counts()\n",
        "    state_obtained=list(state_obtained_dict.keys())[0]#since there is only one element\n",
        "    return state_obtained"
      ]
    },
    {
      "cell_type": "markdown",
      "metadata": {
        "id": "41uvZzZsMyMJ"
      },
      "source": [
        "### Run the quantum step to carry out transition from s to $s^{'}$"
      ]
    },
    {
      "cell_type": "code",
      "execution_count": null,
      "metadata": {
        "id": "VlfBooxwMyMK"
      },
      "outputs": [],
      "source": [
        "# num_trotter_steps=5\n",
        "# state_obtained=run_qc_quantum_step(qc, alpha,num_trotter_steps, time=0.8)\n",
        "# print(state_obtained)"
      ]
    },
    {
      "cell_type": "markdown",
      "metadata": {
        "id": "HLfXNI9KMyML"
      },
      "source": [
        "## Classical procedure for $s \\to s^{'}$"
      ]
    },
    {
      "cell_type": "code",
      "execution_count": 17,
      "metadata": {
        "id": "S-FVAIo8MyML"
      },
      "outputs": [],
      "source": [
        "def classical_transition(num_spins:int)->str:\n",
        "    '''   \n",
        "    transition from s --> s' via uniform transition rule! (bad english!)\n",
        "    '''\n",
        "    num_elems=2**(num_spins)\n",
        "    next_state=np.random.randint(0,num_elems)# since upper limit is exclusive and lower limit is inclusive\n",
        "    bin_next_state=f'{next_state:0{num_spins}b}'\n",
        "    return bin_next_state"
      ]
    },
    {
      "cell_type": "markdown",
      "metadata": {
        "id": "D1REWqAAMyMM"
      },
      "source": [
        "## Step 2: Classical part: Accepting the state $s^{'}$"
      ]
    },
    {
      "cell_type": "code",
      "execution_count": 28,
      "metadata": {
        "id": "WMS26gTiMyMM"
      },
      "outputs": [],
      "source": [
        "def classical_loop_accepting_state(s_init:str, s_prime:str,energy_s:float,energy_sprime:float,temp=1)->str:\n",
        "    '''  \n",
        "    Accepts the state sprime with probability A ( i.e. min(1,exp(-(E(s')-E(s))/ temp) ) \n",
        "    and s_init with probability 1-A\n",
        "    '''\n",
        "    delta_energy=energy_sprime-energy_s # E(s')-E(s)\n",
        "    exp_factor=np.exp(-delta_energy/temp)\n",
        "    acceptance=min(1,exp_factor)# for both QC case as well as uniform random strategy, the transition matrix Pij is symmetric!\n",
        "    coin_flip=np.random.choice([True, False], p=[acceptance, 1-acceptance])\n",
        "    new_state=s_init\n",
        "    if coin_flip:\n",
        "        new_state=s_prime\n",
        "    \n",
        "    return new_state"
      ]
    },
    {
      "cell_type": "markdown",
      "source": [
        "## Function to run MCMC"
      ],
      "metadata": {
        "id": "NMhlWk9mOd1g"
      }
    },
    {
      "cell_type": "code",
      "execution_count": 64,
      "metadata": {
        "id": "3QYZAsMEMyMO"
      },
      "outputs": [],
      "source": [
        "from collections import Counter\n",
        "def mcmc(N_hops:int, num_spins:int, num_elems:int, return_last_n_states=500, transition_rule=classical_transition):\n",
        "    ''' \n",
        "    Args: \n",
        "    Nhops: Number of time you want to run mcmc\n",
        "    num_spins: number of spins\n",
        "    num_elems: 2**(num_spins)\n",
        "\n",
        "    Returns:\n",
        "    Last 'return_last_n_states' elements of states so collected (default value=500). one can then deduce the distribution from it! \n",
        "    '''\n",
        "    states=[]\n",
        "    current_state=f'{np.random.randint(0,num_elems):0{num_spins}b}'# bin_next_state=f'{next_state:0{num_spins}b}'\n",
        "    print(\"starting with: \", current_state) \n",
        "    for i in range(0, N_hops):\n",
        "        states.append(current_state)\n",
        "        s_prime=transition_rule(num_spins)# in quantum case, only this will change\n",
        "        energy_s=model.get_energy(current_state)\n",
        "        energy_sprime=model.get_energy(s_prime)\n",
        "        next_state= classical_loop_accepting_state(current_state, s_prime, energy_s, energy_sprime,temp=1)\n",
        "        current_state= next_state\n",
        "    \n",
        "    return Counter(states[-return_last_n_states:])# returns dictionary of occurences for last 500 states"
      ]
    },
    {
      "cell_type": "markdown",
      "metadata": {
        "id": "2kTb-J36MyMN"
      },
      "source": [
        "# Run MCMC using classical rule"
      ]
    },
    {
      "cell_type": "code",
      "execution_count": 20,
      "metadata": {
        "id": "khjWZQpHMyMO"
      },
      "outputs": [],
      "source": [
        "# define the model\n",
        "## put n_spins even always\n",
        "n_spins = 4\n",
        "\n",
        "## construct problem Hamiltonian ##\n",
        "shape_of_J=(n_spins,n_spins)\n",
        "J =  np.random.randn(n_spins,n_spins)#np.random.uniform(low= -1, high= 1, size= (n_spins, n_spins) )\n",
        "J = 0.5 * (J + J.transpose() )\n",
        "h = np.random.randn(n_spins)#np.random.uniform(low= -1, high = 1, size= (n_spins))\n",
        "\n",
        "# instantiate the model\n",
        "model = IsingEnergyFunction(J, h)\n",
        "\n",
        "alpha = np.sqrt(n_spins) / np.sqrt( sum([J[i][j]**2 for i in range(n_spins) for j in range(i)]) + sum([h[j]**2 for j in range(n_spins)])  )\n"
      ]
    },
    {
      "cell_type": "code",
      "source": [
        "from qiskit.visualization import plot_histogram"
      ],
      "metadata": {
        "id": "54TPMpVrU35-"
      },
      "execution_count": 51,
      "outputs": []
    },
    {
      "cell_type": "code",
      "execution_count": 95,
      "metadata": {
        "id": "4icgM2aaMyMP",
        "outputId": "33bb509b-b536-4a7b-c8c4-14db42628708",
        "colab": {
          "base_uri": "https://localhost:8080/",
          "height": 475
        }
      },
      "outputs": [
        {
          "output_type": "stream",
          "name": "stdout",
          "text": [
            "starting with:  1001\n"
          ]
        },
        {
          "output_type": "execute_result",
          "data": {
            "text/plain": [
              "<Figure size 1080x504 with 1 Axes>"
            ],
            "image/png": "[encoded data removed]"
          },
          "metadata": {},
          "execution_count": 95
        }
      ],
      "source": [
        "# symmetric uniform transition matrix for uniform transition rule\n",
        "num_spins=4\n",
        "num_elems=2**(num_spins)\n",
        "transit_mat=np.ones((num_elems,num_elems))*(1./(2*num_elems))# in general case transit matrix could be entirely different\n",
        "np.fill_diagonal(transit_mat, 1./2)\n",
        "\n",
        "# Run MCMC with uniform random transition strategy\n",
        "N_hops=10000\n",
        "dict_states_mcmc=mcmc(N_hops, num_spins, num_elems, return_last_n_states=500, transition_rule=classical_transition)\n",
        "\n",
        "# get actual probability distribution\n",
        "transits_bltz = dict( [ ( state, model.get_boltzmann_prob(state) ) for state in dict_states_mcmc.keys() ] )\n",
        "# plot actual prob distribution as well as one obtained from MCMC\n",
        "plot_histogram( [transits_bltz, dict_states_mcmc] , figsize=(15, 7), legend= ['model', 'MCMC-uniform' ], sort= 'value_desc')"
      ]
    },
    {
      "cell_type": "markdown",
      "metadata": {
        "id": "kTVuCFqEMyMQ"
      },
      "source": [
        "# Run Quantum Enchanced MCMC"
      ]
    },
    {
      "cell_type": "code",
      "execution_count": null,
      "metadata": {
        "id": "yyzE2AJEMyMR"
      },
      "outputs": [],
      "source": [
        "# num_trotter_steps = 5\n",
        "# for step in range(num_trotter_steps):\n",
        "#     append_evolution(qc, h, J, gamma= np.random.random(), alpha= alpha, time= 0.8)\n",
        "# append_evolution(qc, h, J, gamma= 0.1, alpha= alpha, time= 0.8, is_terminal_step= True)\n",
        "# qc.draw(\"mpl\")\n",
        "\n",
        "# qc_i = qc.copy()\n",
        "# shots = 10000\n",
        "# qc.measure(spins, creg_final)\n",
        "# counts =  execute(qc, shots= shots, backend= qsm).result().get_counts() \n",
        "\n",
        "# transits_exp = dict( [ (item[0].split(' ')[0], item[1]/shots ) for item in counts.items() ] )\n",
        "# transits_bltz = dict( [ ( state, model.get_boltzmann_prob(state) ) for state in transits_exp.keys() ] )\n",
        "\n",
        "#plot_histogram( [transits_bltz, transits_exp ] , figsize=(25, 16), sort= 'value_desc', legend= ['model', 'sample' ])"
      ]
    }
  ],
  "metadata": {
    "kernelspec": {
      "display_name": "Python 3.8.8 ('base')",
      "language": "python",
      "name": "python3"
    },
    "language_info": {
      "codemirror_mode": {
        "name": "ipython",
        "version": 3
      },
      "file_extension": ".py",
      "mimetype": "text/x-python",
      "name": "python",
      "nbconvert_exporter": "python",
      "pygments_lexer": "ipython3",
      "version": "3.8.8"
    },
    "orig_nbformat": 4,
    "vscode": {
      "interpreter": {
        "hash": "184a4bfd18ed123440bfad7023e607e274d9f6c0bdada601c853a4367aa45839"
      }
    },
    "colab": {
      "provenance": []
    },
    "accelerator": "GPU"
  },
  "nbformat": 4,
  "nbformat_minor": 0
}