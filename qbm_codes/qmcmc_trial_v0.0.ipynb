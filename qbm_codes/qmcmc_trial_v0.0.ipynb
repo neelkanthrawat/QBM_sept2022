{
  "cells": [
    {
      "cell_type": "code",
      "execution_count": null,
      "metadata": {
        "id": "0CIKud1ZMztV"
      },
      "outputs": [],
      "source": [
        "# !pip install qiskit ipywidgets # while working on google colab!"
      ]
    },
    {
      "cell_type": "code",
      "execution_count": null,
      "metadata": {
        "id": "BCbUY0yDMyL7"
      },
      "outputs": [],
      "source": [
        "#from qbm_utils import *\n",
        "from qiskit.quantum_info import Pauli\n",
        "#from qiskit.extensions import UGate, RZZGate\n",
        "from qiskit.circuit.library import RZZGate, UGate, MCXGate"
      ]
    },
    {
      "cell_type": "code",
      "execution_count": null,
      "metadata": {
        "id": "Tr5NsJ7QMyL-"
      },
      "outputs": [],
      "source": [
        "import numpy as np\n",
        "import matplotlib.pyplot as plt\n",
        "import pandas as pd"
      ]
    },
    {
      "cell_type": "code",
      "execution_count": null,
      "metadata": {
        "id": "dfwqs3hKNZqv"
      },
      "outputs": [],
      "source": [
        "# first import qbm_utils.py from the project-repository. it is in the folder \"qbm_codes\"\n",
        "from qbm_utils import * "
      ]
    },
    {
      "cell_type": "markdown",
      "metadata": {
        "id": "d5hHisczMyL_"
      },
      "source": [
        "### Quantum enhanced MCMC implementation\n",
        "Aim is to implement the circuit for implementing quantum enhanced MCMC"
      ]
    },
    {
      "cell_type": "code",
      "execution_count": null,
      "metadata": {
        "id": "DpV6z9uoMyMB"
      },
      "outputs": [],
      "source": [
        "import qiskit"
      ]
    },
    {
      "cell_type": "markdown",
      "metadata": {
        "id": "wufeB3Z0MyMC"
      },
      "source": [
        "### Define the model"
      ]
    },
    {
      "cell_type": "code",
      "execution_count": null,
      "metadata": {
        "id": "f4OxhV2bMyMD"
      },
      "outputs": [],
      "source": [
        "## put n_spins even always\n",
        "# n_spins = 4\n",
        "\n",
        "# ## construct problem Hamiltonian ##\n",
        "# shape_of_J=(n_spins,n_spins)\n",
        "# J =  np.random.randn(n_spins,n_spins)#np.random.uniform(low= -1, high= 1, size= (n_spins, n_spins) )\n",
        "# J = 0.5 * (J + J.transpose() )\n",
        "# h = np.random.randn(n_spins)#np.random.uniform(low= -1, high = 1, size= (n_spins))\n",
        "\n",
        "# # instantiate the model\n",
        "# model = IsingEnergyFunction(J, h)\n",
        "\n",
        "# alpha = np.sqrt(n_spins) / np.sqrt( sum([J[i][j]**2 for i in range(n_spins) for j in range(i)]) + sum([h[j]**2 for j in range(n_spins)])  )\n"
      ]
    },
    {
      "cell_type": "markdown",
      "metadata": {
        "id": "kOCP59wIMyMG"
      },
      "source": [
        "### Quantum part!"
      ]
    },
    {
      "cell_type": "code",
      "execution_count": null,
      "metadata": {
        "id": "GW4cL-GXMyMH"
      },
      "outputs": [],
      "source": [
        "def initialise_qc(n_spins:int, bitstring:str):\n",
        "  '''\n",
        "  Initialises a quantum circuit with n_spins number of qubits in a state defined by \"bitstring\"\n",
        "  (Caution: Qiskit's indexing convention for qubits (order of tensor product) is different from the conventional textbook one!)  \n",
        "  '''\n",
        "\n",
        "  spins = QuantumRegister(n_spins, name= 'spin')\n",
        "  creg_final = ClassicalRegister(n_spins, name= 'creg_f')\n",
        "  qc_in = QuantumCircuit(spins, creg_final)\n",
        "\n",
        "  len_str_in=len(bitstring)\n",
        "  assert(len_str_in == len(qc_in.qubits)), \"len(bitstring) should be equal to number_of_qubits/spins\"\n",
        "\n",
        "  #print(\"qc_in.qubits: \", qc_in.qubits)\n",
        "  where_x_gate=[qc_in.qubits[len_str_in-1-i] for i in range(0,len(bitstring)) if bitstring[i]=='1']\n",
        "  if len(where_x_gate)!=0:\n",
        "    qc_in.x(where_x_gate)\n",
        "  return qc_in"
      ]
    },
    {
      "cell_type": "code",
      "execution_count": null,
      "metadata": {
        "id": "MHZ_bOA1MyMI"
      },
      "outputs": [],
      "source": [
        "# quantum procedure to make transitions from s to s'\n",
        "def run_qc_quantum_step(qc_initialised_to_s:QuantumCircuit, model:IsingEnergyFunction, alpha,n_spins:int, num_trotter_steps=10, time=0.8)->str:\n",
        "\n",
        "    '''     \n",
        "    Takes in a qc initialized to some state \"s\". After performing unitary evolution U=exp(-iHt)\n",
        "    , circuit is measured once and returns the bitstring ,s', corresponding to the measured state .\n",
        "\n",
        "    Args:\n",
        "    qc_initialised_to_s\n",
        "    alpha:\n",
        "    num_trotter_steps: (default 10)\n",
        "    time: For how long you want to evolve.\n",
        "    '''\n",
        "\n",
        "    h = model.get_h()\n",
        "    J = model.get_J()\n",
        "    \n",
        "    for _ in range(num_trotter_steps):\n",
        "        append_evolution(qc_initialised_to_s, h, J ,gamma=np.random.random(), alpha=alpha, time=time)\n",
        "    append_evolution(qc_initialised_to_s, h, J , gamma=0.1, alpha=alpha, time=time, is_terminal_step=True)\n",
        "    \n",
        "    # draw the ckt\n",
        "    #print(qc_initialised_to_s.draw())\n",
        "\n",
        "    # run the circuit\n",
        "    #creg_final=ClassicalRegister(n_spins, name= 'creg_f')\n",
        "    num_shots=1\n",
        "    quantum_registers_for_spins=qc_initialised_to_s.qregs[0]\n",
        "    classical_register=qc_initialised_to_s.cregs[0]\n",
        "    qc_initialised_to_s.measure(quantum_registers_for_spins,classical_register)\n",
        "    state_obtained_dict=execute(qc_initialised_to_s, shots= num_shots, backend= qsm).result().get_counts()\n",
        "    state_obtained=list(state_obtained_dict.keys())[0]#since there is only one element\n",
        "    return state_obtained"
      ]
    },
    {
      "cell_type": "markdown",
      "metadata": {
        "id": "HLfXNI9KMyML"
      },
      "source": [
        "## Classical procedure for $s \\to s^{'}$"
      ]
    },
    {
      "cell_type": "code",
      "execution_count": null,
      "metadata": {
        "id": "S-FVAIo8MyML"
      },
      "outputs": [],
      "source": [
        "def classical_transition(num_spins:int)->str:\n",
        "    '''   \n",
        "    Returns s' , obtained via uniform transition rule!\n",
        "    '''\n",
        "    num_elems=2**(num_spins)\n",
        "    next_state=np.random.randint(0,num_elems)# since upper limit is exclusive and lower limit is inclusive\n",
        "    bin_next_state=f'{next_state:0{num_spins}b}'\n",
        "    return bin_next_state"
      ]
    },
    {
      "cell_type": "markdown",
      "metadata": {
        "id": "D1REWqAAMyMM"
      },
      "source": [
        "## Step 2: Classical part: Accepting the state $s^{'}$"
      ]
    },
    {
      "cell_type": "code",
      "execution_count": null,
      "metadata": {
        "id": "WMS26gTiMyMM"
      },
      "outputs": [],
      "source": [
        "def classical_loop_accepting_state(s_init:str, s_prime:str,energy_s:float,energy_sprime:float,temp=1)->str:\n",
        "    '''  \n",
        "    Accepts the state sprime with probability A ( i.e. min(1,exp(-(E(s')-E(s))/ temp) ) \n",
        "    and s_init with probability 1-A\n",
        "    '''\n",
        "    delta_energy=energy_sprime-energy_s # E(s')-E(s)\n",
        "    exp_factor=np.exp(-delta_energy/temp)\n",
        "    acceptance=min(1,exp_factor)# for both QC case as well as uniform random strategy, the transition matrix Pij is symmetric!\n",
        "    coin_flip=np.random.choice([True, False], p=[acceptance, 1-acceptance])\n",
        "    new_state=s_init\n",
        "    if coin_flip:\n",
        "        new_state=s_prime\n",
        "    \n",
        "    return new_state"
      ]
    },
    {
      "cell_type": "markdown",
      "metadata": {
        "id": "NMhlWk9mOd1g"
      },
      "source": [
        "## Function to run MCMC"
      ]
    },
    {
      "cell_type": "code",
      "execution_count": null,
      "metadata": {
        "id": "3QYZAsMEMyMO"
      },
      "outputs": [],
      "source": [
        "from collections import Counter\n",
        "def classical_mcmc(N_hops:int, num_spins:int, num_elems:int, model, return_last_n_states=500):\n",
        "    ''' \n",
        "    Args: \n",
        "    Nhops: Number of time you want to run mcmc\n",
        "    num_spins: number of spins\n",
        "    num_elems: 2**(num_spins)\n",
        "    model\n",
        "\n",
        "    Returns:\n",
        "    Last 'return_last_n_states' elements of states so collected (default value=500). one can then deduce the distribution from it! \n",
        "    '''\n",
        "    states=[]\n",
        "    current_state=f'{np.random.randint(0,num_elems):0{num_spins}b}'# bin_next_state=f'{next_state:0{num_spins}b}'\n",
        "    print(\"starting with: \", current_state) \n",
        "    for i in range(0, N_hops):\n",
        "        #print(\"i:\",i)\n",
        "        states.append(current_state)\n",
        "        # get sprime\n",
        "        s_prime=classical_transition(num_spins)\n",
        "        # accept/reject s_prime \n",
        "        energy_s=model.get_energy(current_state)\n",
        "        energy_sprime=model.get_energy(s_prime)\n",
        "        next_state= classical_loop_accepting_state(current_state, s_prime, energy_s, energy_sprime,temp=1)\n",
        "        current_state= next_state\n",
        "    \n",
        "    return Counter(states[-return_last_n_states:])# returns dictionary of occurences for last 500 states"
      ]
    },
    {
      "cell_type": "code",
      "execution_count": null,
      "metadata": {
        "id": "Idm1JCNlksnE"
      },
      "outputs": [],
      "source": [
        "from collections import Counter\n",
        "def quantum_enhanced_mcmc(N_hops:int, num_spins:int, num_elems:int, model:IsingEnergyFunction, alpha, num_trotter_steps=10, return_last_n_states=500):\n",
        "    ''' \n",
        "    Args: \n",
        "    Nhops: Number of time you want to run mcmc\n",
        "    num_spins: number of spins\n",
        "    num_elems: 2**(num_spins)\n",
        "\n",
        "    Returns:\n",
        "    Last 'return_last_n_states' elements of states so collected (default value=500). one can then deduce the distribution from it! \n",
        "    '''\n",
        "    states=[]\n",
        "    current_state=f'{np.random.randint(0,num_elems):0{num_spins}b}'# bin_next_state=f'{next_state:0{num_spins}b}'\n",
        "    print(\"starting with: \", current_state) \n",
        "    # initialise quantum circuit to current_state\n",
        "    qc_s=initialise_qc(n_spins=num_spins, bitstring=current_state)\n",
        "    #print(\"qc_s is:\"); print(qc_s.draw())\n",
        "    for i in range(0, N_hops):\n",
        "        #print(\"i: \", i)\n",
        "        states.append(current_state)\n",
        "        # get sprime\n",
        "        s_prime=run_qc_quantum_step(qc_initialised_to_s=qc_s, model= model, alpha=alpha, n_spins=num_spins, num_trotter_steps=num_trotter_steps, time=0.8)\n",
        "        # accept/reject s_prime \n",
        "        energy_s=model.get_energy(current_state)\n",
        "        energy_sprime=model.get_energy(s_prime)\n",
        "        next_state= classical_loop_accepting_state(current_state, s_prime, energy_s, energy_sprime,temp=1)\n",
        "        if current_state!=next_state:\n",
        "          current_state= next_state\n",
        "        qc_s=initialise_qc(n_spins=num_spins, bitstring=current_state)\n",
        "    \n",
        "    return Counter(states[-return_last_n_states:])# returns dictionary of occurences for last 500 states"
      ]
    },
    {
      "cell_type": "markdown",
      "metadata": {
        "id": "2kTb-J36MyMN"
      },
      "source": [
        "# Run MCMC using classical rule"
      ]
    },
    {
      "cell_type": "markdown",
      "metadata": {
        "id": "chd6t8b4kDfW"
      },
      "source": [
        "## Define your model"
      ]
    },
    {
      "cell_type": "code",
      "execution_count": null,
      "metadata": {
        "id": "khjWZQpHMyMO"
      },
      "outputs": [],
      "source": [
        "# define the model\n",
        "## put n_spins even always\n",
        "n_spins = 4\n",
        "\n",
        "## construct problem Hamiltonian ##\n",
        "shape_of_J=(n_spins,n_spins)\n",
        "J =  np.random.randn(n_spins,n_spins)#np.random.uniform(low= -1, high= 1, size= (n_spins, n_spins) )\n",
        "J = 0.5 * (J + J.transpose() )\n",
        "h = np.random.randn(n_spins)#np.random.uniform(low= -1, high = 1, size= (n_spins))\n",
        "\n",
        "# instantiate the model\n",
        "model = IsingEnergyFunction(J, h)\n",
        "\n",
        "alpha = np.sqrt(n_spins) / np.sqrt( sum([J[i][j]**2 for i in range(n_spins) for j in range(i)]) + sum([h[j]**2 for j in range(n_spins)])  )\n"
      ]
    },
    {
      "cell_type": "code",
      "execution_count": null,
      "metadata": {
        "id": "1APxXCZtwFDh"
      },
      "outputs": [],
      "source": [
        "# just checking something\n",
        "# qr = QuantumRegister(3, 'q')\n",
        "# anc = QuantumRegister(1, 'ancilla')\n",
        "# cr = ClassicalRegister(3, 'c')\n",
        "# qc = QuantumCircuit(qr, anc, cr)\n",
        "\n",
        "# qc.x(anc[0])\n",
        "# qc.h(anc[0])\n",
        "# qc.h(qr[0:3])\n",
        "# qc.cx(qr[0:3], anc[0])\n",
        "# qc.h(qr[0:3])\n",
        "# qc.barrier(qr)\n",
        "# # qc.measure(qc.qregs, qc.cregs)\n",
        "# print(\"qr is:\", qr); print(\"cr is:\", cr)\n",
        "# print(\"qc.qregs is:\", qc.qregs)\n",
        "# print(\"qc.qregs is:\", qc.cregs)\n",
        "\n",
        "# job = execute(qc, backend=qsm, shots=4321)\n"
      ]
    },
    {
      "cell_type": "code",
      "execution_count": null,
      "metadata": {
        "colab": {
          "base_uri": "https://localhost:8080/"
        },
        "id": "jUOM-St0wFDh",
        "outputId": "76db70fa-23d9-4780-c848-40d61432f442"
      },
      "outputs": [],
      "source": [
        "# an example # just checking something!\n",
        "k=initialise_qc(n_spins=4,bitstring='1011')\n",
        "print(\"k.qregs:\",k.qregs)\n",
        "print(\"_\"*10)\n",
        "print(\"k.cregs:\",k.cregs)\n",
        "\n",
        "print(k.draw())\n",
        "state_check=run_qc_quantum_step(qc_initialised_to_s=k, model= model, alpha=alpha,n_spins=4, \n",
        "num_trotter_steps=10, time=0.8)\n",
        "print(state_check)\n"
      ]
    },
    {
      "cell_type": "code",
      "execution_count": null,
      "metadata": {
        "id": "54TPMpVrU35-"
      },
      "outputs": [],
      "source": [
        "from qiskit.visualization import plot_histogram"
      ]
    },
    {
      "cell_type": "markdown",
      "metadata": {
        "id": "EGxnLl5akIZx"
      },
      "source": [
        "### 1. Run classical mcmc with uniform transition strategy"
      ]
    },
    {
      "cell_type": "code",
      "execution_count": null,
      "metadata": {
        "colab": {
          "base_uri": "https://localhost:8080/",
          "height": 475
        },
        "id": "4icgM2aaMyMP",
        "outputId": "617b1bfd-37fb-4823-f66c-d3fb88608e19"
      },
      "outputs": [],
      "source": [
        "# symmetric uniform transition matrix for uniform transition rule\n",
        "num_spins=4\n",
        "num_elems=2**(num_spins)\n",
        "transit_mat=np.ones((num_elems,num_elems))*(1./(2*num_elems))# in general case transit matrix could be entirely different\n",
        "np.fill_diagonal(transit_mat, 1./2)\n",
        "\n",
        "# Run MCMC with uniform random transition strategy\n",
        "N_hops=1000\n",
        "dict_states_mcmc=classical_mcmc(N_hops, num_spins, num_elems,model, return_last_n_states=1000)\n",
        "\n",
        "# get actual probability distribution\n",
        "transits_bltz = dict( [ ( state, model.get_boltzmann_prob(state) ) for state in dict_states_mcmc.keys() ] )\n",
        "# plot actual prob distribution as well as one obtained from MCMC\n",
        "plot_histogram( [transits_bltz, dict_states_mcmc] , figsize=(15, 7), legend= ['model', 'MCMC-uniform' ])#, sort= 'value_desc')"
      ]
    },
    {
      "cell_type": "markdown",
      "metadata": {
        "id": "kTVuCFqEMyMQ"
      },
      "source": [
        "### 2. Run Quantum Enchanced MCMC"
      ]
    },
    {
      "cell_type": "code",
      "execution_count": null,
      "metadata": {
        "colab": {
          "base_uri": "https://localhost:8080/",
          "height": 475
        },
        "id": "7UnMpGcdnSnQ",
        "outputId": "2927ae96-f0a9-4eec-d305-58a158d0912e"
      },
      "outputs": [],
      "source": [
        "# symmetric uniform transition matrix for uniform transition rule\n",
        "num_spins=4\n",
        "num_elems=2**(num_spins)\n",
        "transit_mat=np.ones((num_elems,num_elems))*(1./(2*num_elems))# in general case transit matrix could be entirely different\n",
        "np.fill_diagonal(transit_mat, 1./2)\n",
        "\n",
        "# Run MCMC with uniform random transition strategy\n",
        "N_hops=1000\n",
        "dict_states_quantum_mcmc=quantum_enhanced_mcmc(N_hops, num_spins, num_elems, model, alpha, num_trotter_steps=10, return_last_n_states=500)\n",
        "\n",
        "# get actual probability distribution\n",
        "transits_bltz = dict( [ ( state, model.get_boltzmann_prob(state) ) for state in dict_states_quantum_mcmc.keys() ] )\n",
        "# plot actual prob distribution as well as one obtained from MCMC\n",
        "plot_histogram( [transits_bltz, dict_states_quantum_mcmc] , figsize=(15, 7), legend= ['model', 'Quantum-enhanced MCMC' ])#, sort= 'value_desc')"
      ]
    },
    {
      "cell_type": "code",
      "execution_count": null,
      "metadata": {
        "colab": {
          "base_uri": "https://localhost:8080/",
          "height": 457
        },
        "id": "mv_NK-fbxUu0",
        "outputId": "e7d09654-0b9e-4acf-c848-3af9b664b483"
      },
      "outputs": [],
      "source": [
        "plot_histogram( [transits_bltz, dict_states_mcmc, dict_states_quantum_mcmc] , figsize=(20, 7), legend= ['model', 'MCMC-uniform', 'Quantum-enhanced-MCMC' ])"
      ]
    },
    {
      "cell_type": "code",
      "execution_count": null,
      "metadata": {
        "id": "yyzE2AJEMyMR"
      },
      "outputs": [],
      "source": [
        "# num_trotter_steps = 5\n",
        "# for step in range(num_trotter_steps):\n",
        "#     append_evolution(qc, h, J, gamma= np.random.random(), alpha= alpha, time= 0.8)\n",
        "# append_evolution(qc, h, J, gamma= 0.1, alpha= alpha, time= 0.8, is_terminal_step= True)\n",
        "# qc.draw(\"mpl\")\n",
        "\n",
        "# qc_i = qc.copy()\n",
        "# shots = 10000\n",
        "# qc.measure(spins, creg_final)\n",
        "# counts =  execute(qc, shots= shots, backend= qsm).result().get_counts() \n",
        "\n",
        "# transits_exp = dict( [ (item[0].split(' ')[0], item[1]/shots ) for item in counts.items() ] )\n",
        "# transits_bltz = dict( [ ( state, model.get_boltzmann_prob(state) ) for state in transits_exp.keys() ] )\n",
        "\n",
        "#plot_histogram( [transits_bltz, transits_exp ] , figsize=(25, 16), sort= 'value_desc', legend= ['model', 'sample' ])"
      ]
    }
  ],
  "metadata": {
    "accelerator": "GPU",
    "colab": {
      "provenance": []
    },
    "kernelspec": {
      "display_name": "Python 3.10.6 64-bit",
      "language": "python",
      "name": "python3"
    },
    "language_info": {
      "codemirror_mode": {
        "name": "ipython",
        "version": 3
      },
      "file_extension": ".py",
      "mimetype": "text/x-python",
      "name": "python",
      "nbconvert_exporter": "python",
      "pygments_lexer": "ipython3",
      "version": "3.10.6"
    },
    "orig_nbformat": 4,
    "vscode": {
      "interpreter": {
        "hash": "31f2aee4e71d21fbe5cf8b01ff0e069b9275f58929596ceb00d14d90e3e16cd6"
      }
    }
  },
  "nbformat": 4,
  "nbformat_minor": 0
}
