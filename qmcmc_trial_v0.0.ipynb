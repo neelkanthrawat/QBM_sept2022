{
 "cells": [
  {
   "cell_type": "code",
   "execution_count": 1,
   "metadata": {},
   "outputs": [],
   "source": [
    "from qbm_utils import *\n",
    "from qiskit.quantum_info import Pauli\n",
    "from qiskit.extensions import UGate, RZZGate"
   ]
  },
  {
   "cell_type": "markdown",
   "metadata": {},
   "source": [
    "### Quantum enhanced MCMC implementation\n",
    "Aim is to implement the circuit for implementing quantum enhanced MCMC"
   ]
  },
  {
   "cell_type": "code",
   "execution_count": 2,
   "metadata": {},
   "outputs": [],
   "source": [
    "## put n_spins even always\n",
    "n_spins = 10\n",
    "\n",
    "## construct problem Hamiltonian ##\n",
    "J = np.random.uniform(low= -1, high= 1, size= (n_spins, n_spins) )\n",
    "J = 0.5 * (J + J.transpose() )\n",
    "\n",
    "h = np.random.uniform(low= -1, high = 1, size= (n_spins))\n",
    "alpha = np.sqrt(n_spins) / np.sqrt( sum([J[i][j]**2 for i in range(n_spins) for j in range(i)]) + sum([h[j]**2 for j in range(n_spins)])  )"
   ]
  },
  {
   "cell_type": "code",
   "execution_count": 47,
   "metadata": {},
   "outputs": [],
   "source": [
    "class IsingEnergyFunction():\n",
    "    \"\"\" A class to build the Ising Hamiltonian \n",
    "    \n",
    "    \"\"\"\n",
    "    def __init__(self, J: np.array, h: np.array) -> None:\n",
    "        self.J = J\n",
    "        self.h = h\n",
    "        self.num_spins = len(h)\n",
    "    \n",
    "    def get_energy(self, state:Union[str, np.array] )-> float:\n",
    "\n",
    "        if isinstance(state, str):\n",
    "            state = np.array( [int(list(s)[i]) for i in range(len(s))])\n",
    "            energy =  np.dot(state.transpose(), self.J.dot(state)) + np.dot(self.h.transpose(), state )\n",
    "            return energy\n",
    "        else:\n",
    "            return np.dot(state.transpose(), self.J.dot(state)) + np.dot(self.h.transpose(), state )\n",
    "    \n",
    "    def get_boltzmann_prob(self, state:Union[str, np.array], beta:float= 1.0) -> float:\n",
    "\n",
    "        return np.exp( -1 * beta * self.get_energy(state) )\n",
    "        \n"
   ]
  },
  {
   "cell_type": "code",
   "execution_count": 48,
   "metadata": {},
   "outputs": [],
   "source": [
    "enr = IsingEnergyFunction(J, h)"
   ]
  },
  {
   "cell_type": "code",
   "execution_count": 49,
   "metadata": {},
   "outputs": [
    {
     "data": {
      "text/plain": [
       "'1111111111'"
      ]
     },
     "execution_count": 49,
     "metadata": {},
     "output_type": "execute_result"
    }
   ],
   "source": [
    "s"
   ]
  },
  {
   "cell_type": "code",
   "execution_count": 50,
   "metadata": {},
   "outputs": [
    {
     "data": {
      "text/plain": [
       "(0.9769800137695706, 0.3764462464043058)"
      ]
     },
     "execution_count": 50,
     "metadata": {},
     "output_type": "execute_result"
    }
   ],
   "source": [
    "enr.get_energy(s), enr.get_boltzmann_prob(s)"
   ]
  },
  {
   "cell_type": "code",
   "execution_count": 46,
   "metadata": {},
   "outputs": [
    {
     "data": {
      "text/plain": [
       "<qiskit.circuit.instructionset.InstructionSet at 0x7f8170b5e0c0>"
      ]
     },
     "execution_count": 46,
     "metadata": {},
     "output_type": "execute_result"
    }
   ],
   "source": [
    "spins = QuantumRegister(n_spins, name= 'spin')\n",
    "creg_init = ClassicalRegister(n_spins, name= 'creg_0')\n",
    "creg_final = ClassicalRegister(n_spins, name= 'creg_f')\n",
    "\n",
    "qc = QuantumCircuit(spins, creg_init, creg_final)\n",
    "qc.h(spins)\n",
    "qc.barrier()"
   ]
  },
  {
   "cell_type": "code",
   "execution_count": 9,
   "metadata": {},
   "outputs": [
    {
     "data": {
      "image/png": "[encoded data removed]",
      "text/plain": [
       "<Figure size 504x360 with 1 Axes>"
      ]
     },
     "execution_count": 9,
     "metadata": {},
     "output_type": "execute_result"
    }
   ],
   "source": [
    "# qc_i = qc.copy()\n",
    "qc.measure(spins, creg_init)\n",
    "qc.barrier()\n",
    "plot_histogram( execute(qc, shots= 1, backend= qsm).result().get_counts() )"
   ]
  },
  {
   "cell_type": "code",
   "execution_count": 13,
   "metadata": {},
   "outputs": [
    {
     "data": {
      "text/plain": [
       "<qiskit.circuit.quantumcircuit.QuantumCircuit at 0x7f8179a51b10>"
      ]
     },
     "execution_count": 13,
     "metadata": {},
     "output_type": "execute_result"
    }
   ],
   "source": [
    "num_trotter_steps = 5\n",
    "for step in range(num_trotter_steps):\n",
    "    append_evolution(qc, h, J, gamma= np.random.random(), alpha= alpha, time= 0.8)\n",
    "append_evolution(qc, h, J, gamma= 0.1, alpha= alpha, time= 0.8, is_terminal_step= True)"
   ]
  },
  {
   "cell_type": "code",
   "execution_count": 14,
   "metadata": {},
   "outputs": [],
   "source": [
    "# qc.draw(output= 'mpl')"
   ]
  },
  {
   "cell_type": "code",
   "execution_count": 22,
   "metadata": {},
   "outputs": [],
   "source": [
    "# qc_i = qc.copy()\n",
    "qc.measure(spins, creg_final)\n",
    "counts =  execute(qc, shots= 2, backend= qsm).result().get_counts() "
   ]
  },
  {
   "cell_type": "code",
   "execution_count": 17,
   "metadata": {},
   "outputs": [
    {
     "data": {
      "text/plain": [
       "{'0010010011 1011110101': 1}"
      ]
     },
     "execution_count": 17,
     "metadata": {},
     "output_type": "execute_result"
    }
   ],
   "source": [
    "transits_probs = [counts.keys()"
   ]
  },
  {
   "cell_type": "code",
   "execution_count": 24,
   "metadata": {},
   "outputs": [
    {
     "data": {
      "text/plain": [
       "(['1011110110', '1001011110'], ['0000100101', '1101100000'])"
      ]
     },
     "execution_count": 24,
     "metadata": {},
     "output_type": "execute_result"
    }
   ],
   "source": [
    "list(counts.keys())[0].split(' ') , list(counts.keys())[1].split(' ')"
   ]
  },
  {
   "cell_type": "code",
   "execution_count": 32,
   "metadata": {},
   "outputs": [],
   "source": [
    "s = '1'*10\n",
    "ss = np.array( [int(list(s)[i]) for i in range(len(s))])"
   ]
  },
  {
   "cell_type": "code",
   "execution_count": 36,
   "metadata": {},
   "outputs": [
    {
     "data": {
      "text/plain": [
       "(array([ 1.04736728, -0.25364895, -1.91954348, -0.2333103 ,  0.356421  ,\n",
       "         0.61180832, -0.60933239,  0.03641738, -1.47887935,  0.25417604]),\n",
       " array([ 1.04736728, -0.25364895, -1.91954348, -0.2333103 ,  0.356421  ,\n",
       "         0.61180832, -0.60933239,  0.03641738, -1.47887935,  0.25417604]))"
      ]
     },
     "execution_count": 36,
     "metadata": {},
     "output_type": "execute_result"
    }
   ],
   "source": [
    "np.dot(J, ss) , J.dot(ss)"
   ]
  },
  {
   "cell_type": "code",
   "execution_count": null,
   "metadata": {},
   "outputs": [],
   "source": []
  }
 ],
 "metadata": {
  "kernelspec": {
   "display_name": "Python 3.10.4 64-bit",
   "language": "python",
   "name": "python3"
  },
  "language_info": {
   "codemirror_mode": {
    "name": "ipython",
    "version": 3
   },
   "file_extension": ".py",
   "mimetype": "text/x-python",
   "name": "python",
   "nbconvert_exporter": "python",
   "pygments_lexer": "ipython3",
   "version": "3.10.4"
  },
  "orig_nbformat": 4,
  "vscode": {
   "interpreter": {
    "hash": "31f2aee4e71d21fbe5cf8b01ff0e069b9275f58929596ceb00d14d90e3e16cd6"
   }
  }
 },
 "nbformat": 4,
 "nbformat_minor": 2
}
