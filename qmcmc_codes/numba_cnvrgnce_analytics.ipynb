{
  "cells": [
    {
      "cell_type": "code",
      "execution_count": 1,
      "metadata": {
        "id": "Y4spUofDctBa"
      },
      "outputs": [],
      "source": [
        "import numpy as np\n",
        "import matplotlib.pyplot as plt\n",
        "import pandas as pd\n",
        "from tqdm import tqdm\n",
        "from collections import Counter\n",
        "import numba\n",
        "from numba import jit"
      ]
    },
    {
      "cell_type": "code",
      "execution_count": null,
      "metadata": {
        "id": "TkFVBq5GKKoH"
      },
      "outputs": [],
      "source": [
        "## TO RUN WHILE USING GOOGLE-COLAB\n",
        "# !pip install numba --q\n",
        "# !pip install qiskit ipywidgets --q \n",
        "# !wget https://raw.githubusercontent.com/neelkanthrawat/QBM_sept2022/main/qmcmc_codes/qbm_utils_2.py"
      ]
    },
    {
      "cell_type": "code",
      "execution_count": null,
      "metadata": {
        "id": "7iC6yy54ctBh"
      },
      "outputs": [],
      "source": [
        "from qbm_utils_2 import *"
      ]
    },
    {
      "cell_type": "markdown",
      "metadata": {
        "id": "bkr0xkNLctBi"
      },
      "source": [
        "### Define the model"
      ]
    },
    {
      "cell_type": "code",
      "execution_count": null,
      "metadata": {
        "colab": {
          "base_uri": "https://localhost:8080/"
        },
        "id": "7DaTGgKPctBl",
        "outputId": "c64a9b6a-1496-44b9-ed97-b1a6e43ab9b1"
      },
      "outputs": [
        {
          "name": "stdout",
          "output_type": "stream",
          "text": [
            "J after: [[ 0.     0.52  -0.01  -0.6    0.03  -0.585 -0.795 -0.1   -0.365  0.17\n",
            "   0.37  -0.14  -0.48   0.63  -0.095  0.48  -0.17   0.425 -0.56  -0.36 ]\n",
            " [ 0.52   0.     0.065  0.105  0.5    0.42  -0.89  -0.825 -0.335  0.09\n",
            "  -0.345 -0.25   0.855  0.395  0.595  0.19   0.3    0.785 -0.835  0.33 ]\n",
            " [-0.01   0.065  0.     0.485 -0.145  0.335 -0.06  -0.645 -0.09  -0.115\n",
            "  -0.065 -0.19  -0.21   0.02   0.155 -0.255 -0.19  -0.03   0.49   0.69 ]\n",
            " [-0.6    0.105  0.485  0.    -0.6   -0.11  -0.09  -0.365  0.775 -0.35\n",
            "   0.545 -0.055 -0.675  0.505 -0.33  -0.265  0.03   0.205  0.29  -0.07 ]\n",
            " [ 0.03   0.5   -0.145 -0.6    0.     0.805  0.29   0.01  -0.18  -0.12\n",
            "  -0.495  0.295  0.24   0.445 -0.34  -0.605  0.42  -0.325 -0.02  -0.135]\n",
            " [-0.585  0.42   0.335 -0.11   0.805  0.    -0.445  0.035 -0.29   0.8\n",
            "  -0.345  0.075  0.545  0.02  -0.08   0.22   0.23   0.575  0.345 -0.615]\n",
            " [-0.795 -0.89  -0.06  -0.09   0.29  -0.445  0.     0.065 -0.805 -0.525\n",
            "   0.19   0.55  -0.385 -0.31   0.33  -0.42  -0.04   0.095  0.86   0.495]\n",
            " [-0.1   -0.825 -0.645 -0.365  0.01   0.035  0.065  0.     0.045 -0.345\n",
            "  -0.38   0.845 -0.01  -0.345  0.05  -0.03  -0.185  0.19   0.515  0.3  ]\n",
            " [-0.365 -0.335 -0.09   0.775 -0.18  -0.29  -0.805  0.045  0.     0.095\n",
            "   0.24   0.835  0.26  -0.24   0.12   0.34   0.215  0.065 -0.41  -0.575]\n",
            " [ 0.17   0.09  -0.115 -0.35  -0.12   0.8   -0.525 -0.345  0.095  0.\n",
            "   0.185 -0.03   0.655  0.18   0.645  0.24  -0.33  -0.73  -0.25   0.46 ]\n",
            " [ 0.37  -0.345 -0.065  0.545 -0.495 -0.345  0.19  -0.38   0.24   0.185\n",
            "   0.     0.425 -0.825 -0.475 -0.345  0.42  -0.835  0.72   0.18  -0.775]\n",
            " [-0.14  -0.25  -0.19  -0.055  0.295  0.075  0.55   0.845  0.835 -0.03\n",
            "   0.425  0.     0.775 -0.4    0.26   0.51  -0.235  0.325 -0.54   0.605]\n",
            " [-0.48   0.855 -0.21  -0.675  0.24   0.545 -0.385 -0.01   0.26   0.655\n",
            "  -0.825  0.775  0.     0.595  0.175  0.085 -0.205 -0.11  -0.555 -0.12 ]\n",
            " [ 0.63   0.395  0.02   0.505  0.445  0.02  -0.31  -0.345 -0.24   0.18\n",
            "  -0.475 -0.4    0.595  0.     0.44  -0.21  -0.28  -0.32   0.09  -0.17 ]\n",
            " [-0.095  0.595  0.155 -0.33  -0.34  -0.08   0.33   0.05   0.12   0.645\n",
            "  -0.345  0.26   0.175  0.44   0.    -0.735  0.165 -0.29   0.015 -0.225]\n",
            " [ 0.48   0.19  -0.255 -0.265 -0.605  0.22  -0.42  -0.03   0.34   0.24\n",
            "   0.42   0.51   0.085 -0.21  -0.735  0.    -0.25  -0.445 -0.385  0.695]\n",
            " [-0.17   0.3   -0.19   0.03   0.42   0.23  -0.04  -0.185  0.215 -0.33\n",
            "  -0.835 -0.235 -0.205 -0.28   0.165 -0.25   0.     0.67   0.705 -0.08 ]\n",
            " [ 0.425  0.785 -0.03   0.205 -0.325  0.575  0.095  0.19   0.065 -0.73\n",
            "   0.72   0.325 -0.11  -0.32  -0.29  -0.445  0.67   0.     0.48   0.74 ]\n",
            " [-0.56  -0.835  0.49   0.29  -0.02   0.345  0.86   0.515 -0.41  -0.25\n",
            "   0.18  -0.54  -0.555  0.09   0.015 -0.385  0.705  0.48   0.    -0.3  ]\n",
            " [-0.36   0.33   0.69  -0.07  -0.135 -0.615  0.495  0.3   -0.575  0.46\n",
            "  -0.775  0.605 -0.12  -0.17  -0.225  0.695 -0.08   0.74  -0.3    0.   ]]\n",
            "h is: [ 0.65 -0.05 -0.73 -0.87 -0.14 -0.8   0.28 -0.83  0.62  0.96 -0.71  1.19\n",
            " -0.24  1.16  0.44  1.12 -1.   -0.11  1.45 -0.62]\n",
            "alpha:  0.6492156724566963\n"
          ]
        }
      ],
      "source": [
        "# define the model\n",
        "np.random.seed(1)# should always be in the same cell!  \n",
        "n_spins = 20\n",
        "\n",
        "## construct problem Hamiltonian ##\n",
        "shape_of_J=(n_spins,n_spins)\n",
        "\n",
        "# defining J matrix (mutual 1-1 interaction)\n",
        "J =  np.round(np.random.uniform(low= -1, high= 1, size = (n_spins,n_spins)), decimals=2)#np.random.uniform(low= -1, high= 1, size= (n_spins, n_spins) )\n",
        "J = 0.5 * (J + J.transpose() )\n",
        "# print(\"J before:\"); print(J)\n",
        "J= J - np.diag(np.diag(J))\n",
        "\n",
        "# J=np.array([[0,1,0.5,-1],[1,0,0.3,0.5],[0.5,0.3,0,1],[-1,0.5,1,0]])\n",
        "print(\"J after:\", J)\n",
        "\n",
        "# defining h\n",
        "h = np.round(np.random.randn(n_spins), decimals=2)#np.random.uniform(low= -1, high = 1, size= (n_spins))\n",
        "# h=np.array([0.5]*n_spins)\n",
        "print(\"h is:\", h)\n",
        "\n",
        "# instantiate the model\n",
        "model = IsingEnergyFunction(J, h)\n",
        "# print(model.get_energy('0100'))\n",
        "alpha = np.sqrt(n_spins) / np.sqrt( sum([J[i][j]**2 for i in range(n_spins) for j in range(i)]) + sum([h[j]**2 for j in range(n_spins)])  )\n",
        "print(\"alpha: \", alpha)"
      ]
    },
    {
      "cell_type": "markdown",
      "metadata": {
        "id": "GKufwMofctBq"
      },
      "source": [
        "### Get the true distribution"
      ]
    },
    {
      "cell_type": "code",
      "execution_count": null,
      "metadata": {
        "id": "A3RrDZK_ctBx"
      },
      "outputs": [],
      "source": [
        "# @jit(nopython = True)\n",
        "def true_boltzman_distn(n_spins:int, temp:int, model, wanna_plot=False):\n",
        "\n",
        "    states_nbit=states(num_spins=n_spins)# arranged in ascending order in magnitude\n",
        "    # Actual_probability distribution\n",
        "    transits_bltz = dict( [ ( state, model.get_boltzmann_prob(state, beta=1./temp) ) for state in states_nbit ] )\n",
        "    rqd_sum=np.sum(np.array(list(transits_bltz.values())))\n",
        "    prob_vals=list(np.array(list(transits_bltz.values()))*(1./rqd_sum))\n",
        "    ### unsorted prob distribution\n",
        "    bpd=dict(zip(states_nbit, prob_vals ))### dict of distn, arranged in ascending order of keys\n",
        "    ### Prob distribution, sorted in descending order of prob values\n",
        "    boltz_prob_distn_sorted_desc=value_sorted_dict( bpd, reverse=True )\n",
        "    # plot distribution\n",
        "    if wanna_plot:\n",
        "        plt.figure(2)\n",
        "    plot_bargraph_desc_order(boltz_prob_distn_sorted_desc, label=\"analytical\",plot_first_few=20); plt.legend()\n",
        "    \n",
        "    return boltz_prob_distn_sorted_desc, bpd"
      ]
    },
    {
      "cell_type": "code",
      "execution_count": null,
      "metadata": {
        "colab": {
          "base_uri": "https://localhost:8080/",
          "height": 382
        },
        "id": "Zs21bQBjctBy",
        "outputId": "d5275da4-1558-4433-91c7-29b866572987"
      },
      "outputs": [
        {
          "data": {
            "image/png": "[encoded data removed]",
            "text/plain": [
              "<Figure size 432x288 with 1 Axes>"
            ]
          },
          "metadata": {
            "needs_background": "light"
          },
          "output_type": "display_data"
        }
      ],
      "source": [
        "states_nbit=states(num_spins=n_spins)\n",
        "temp=0.4\n",
        "boltz_prob_distn,bpd=true_boltzman_distn(n_spins, temp=temp, model=model, wanna_plot=True)#dict sorted in vals,dict sorted in keys\n",
        "# plot_histogram([bpd], legend=[\"analytical\"])"
      ]
    },
    {
      "cell_type": "code",
      "execution_count": null,
      "metadata": {
        "colab": {
          "base_uri": "https://localhost:8080/"
        },
        "id": "434x-YDOctB1",
        "outputId": "ace80bf4-36b6-49ab-9da6-495d467c30ad"
      },
      "outputs": [
        {
          "name": "stdout",
          "output_type": "stream",
          "text": [
            "actual_avg_mag:  1.758106510846588\n"
          ]
        }
      ],
      "source": [
        "mag_all_states=dict_magnetization_of_all_states(list_all_possible_states=states_nbit)\n",
        "actual_avg_mag=avg(dict_probabilities=boltz_prob_distn, dict_observable_val_at_states=mag_all_states)\n",
        "print(\"actual_avg_mag: \",actual_avg_mag)"
      ]
    },
    {
      "cell_type": "markdown",
      "metadata": {
        "id": "1crl98pgctB2"
      },
      "source": [
        "### Function to run different number of mcmc chains for a particular problem instance"
      ]
    },
    {
      "cell_type": "code",
      "execution_count": null,
      "metadata": {
        "id": "DCnvZVZPPgG4"
      },
      "outputs": [],
      "source": [
        "# SOME UPDATED FUNCTIONS\n",
        "def uncommon_els_2_lists(list_1,list_2):\n",
        "  return list(set(list_1).symmetric_difference(set(list_2)))\n",
        "\n",
        "def merge_2_dict(dict1, dict2):\n",
        "    return({**dict1,**dict2})\n",
        "\n",
        "def sort_dict_by_keys(dict_in:dict):\n",
        "  from collections import OrderedDict\n",
        "  return dict(OrderedDict(sorted(dict_in.items())))\n",
        "\n",
        "# some changes in clasical mcmc\n",
        "def classical_mcmc(\n",
        "    N_hops: int,\n",
        "    num_spins: int,\n",
        "    initial_state: str,\n",
        "    num_elems: int,\n",
        "    model,\n",
        "    return_last_n_states=500,\n",
        "    return_both=False,\n",
        "    temp=1,\n",
        "):\n",
        "    \"\"\"\n",
        "    Args:\n",
        "    Nhops: Number of time you want to run mcmc\n",
        "    num_spins: number of spins\n",
        "    num_elems: 2**(num_spins)\n",
        "    model:\n",
        "    return_last_n_states: (int) Number of states in the end of the M.Chain you want to consider for prob distn (default value is last 500)\n",
        "    return_both (default=False): If set to True, in addition to dict_count_return_lst_n_states, also returns 2 lists:\n",
        "                                \"list_after_transition: list of states s' obtained after transition step s->s' \" and\n",
        "                                \"list_after_acceptance_step: list of states accepted after the accepance step\".\n",
        "    Returns:\n",
        "    Last 'dict_count_return_last_n_states' elements of states so collected (default value=500). one can then deduce the distribution from it!\n",
        "    \"\"\"\n",
        "    states_obt = []\n",
        "    # current_state=f'{np.random.randint(0,num_elems):0{num_spins}b}'# bin_next_state=f'{next_state:0{num_spins}b}'\n",
        "    current_state = initial_state\n",
        "    print(\"starting with: \", current_state)\n",
        "    states_obt.append(current_state)\n",
        "\n",
        "    ## initialiiise observables\n",
        "    # observable_dict = dict([ (elem, []) for elem in observables ])\n",
        "    list_after_transition = []\n",
        "    list_after_acceptance_step = []\n",
        "\n",
        "    for i in tqdm(range(0, N_hops)):\n",
        "        # get sprime\n",
        "        s_prime = classical_transition(num_spins)\n",
        "        list_after_transition.append(s_prime)\n",
        "        # accept/reject s_prime\n",
        "        energy_s = model.get_energy(current_state)\n",
        "        energy_sprime = model.get_energy(s_prime)\n",
        "        next_state = classical_loop_accepting_state(\n",
        "            current_state, s_prime, energy_s, energy_sprime, temp=temp\n",
        "        )\n",
        "        current_state = next_state\n",
        "        list_after_acceptance_step.append(current_state)\n",
        "        states_obt.append(current_state)\n",
        "        # WE DON;T NEED TO DO THIS! # reinitiate\n",
        "        # qc_s=initialise_qc(n_spins=num_spins, bitstring=current_state)\n",
        "\n",
        "    # returns dictionary of occurences for last \"return_last_n_states\" states\n",
        "    ### added by neel 22-11-22\n",
        "    all_possible_states_nbit=states(num_spins=num_spins)\n",
        "    states_sampled=states_obt[-return_last_n_states:]\n",
        "    states_not_obtained=uncommon_els_2_lists(all_possible_states_nbit, states_sampled)\n",
        "    val_states_not_obtained=[0]*len(states_not_obtained)\n",
        "    dict_states_not_obtained=dict(zip(states_not_obtained, val_states_not_obtained ))\n",
        "    ### added by neel 22-11-22\n",
        "    dict_count_return_last_n_states = merge_2_dict(dict(Counter(states_obt[-return_last_n_states:])), dict_states_not_obtained)\n",
        "\n",
        "    if return_both:\n",
        "        to_return = (\n",
        "            dict_count_return_last_n_states,\n",
        "            list_after_transition,\n",
        "            list_after_acceptance_step,\n",
        "        )\n",
        "    else:\n",
        "        to_return = dict_count_return_last_n_states\n",
        "\n",
        "    return to_return\n",
        "\n",
        "# some changes i quantum mcmc.\n",
        "def quantum_enhanced_mcmc(\n",
        "    N_hops: int,\n",
        "    num_spins: int,\n",
        "    initial_state: str,\n",
        "    num_elems: int,\n",
        "    model: IsingEnergyFunction,\n",
        "    alpha,\n",
        "    return_last_n_states=500,\n",
        "    return_both=False,\n",
        "    temp=1,\n",
        "):\n",
        "    \"\"\"\n",
        "    version 0.2\n",
        "    Args:\n",
        "    Nhops: Number of time you want to run mcmc\n",
        "    num_spins: number of spins\n",
        "    num_elems: 2**(num_spins)\n",
        "    model:\n",
        "    alpha:\n",
        "    return_last_n_states:\n",
        "    return_both:\n",
        "    temp:\n",
        "\n",
        "    Returns:\n",
        "    Last 'return_last_n_states' elements of states so collected (default value=500). one can then deduce the distribution from it!\n",
        "    \"\"\"\n",
        "    states_obt = []\n",
        "    print(\"starting with: \", initial_state)\n",
        "\n",
        "    ## initialise quantum circuit to current_state\n",
        "    qc_s = initialise_qc(n_spins=num_spins, bitstring=initial_state)\n",
        "    current_state = initial_state\n",
        "    states_obt.append(current_state)\n",
        "    ## intialise observables\n",
        "    list_after_transition = []\n",
        "    list_after_acceptance_step = []\n",
        "\n",
        "    for i in tqdm(range(0, N_hops)):\n",
        "        # print(\"i: \", i)\n",
        "        # get sprime\n",
        "        s_prime = run_qc_quantum_step(\n",
        "            qc_initialised_to_s=qc_s, model=model, alpha=alpha, n_spins=num_spins\n",
        "        )\n",
        "        list_after_transition.append(s_prime)\n",
        "        # accept/reject s_prime\n",
        "        energy_s = model.get_energy(current_state)\n",
        "        energy_sprime = model.get_energy(s_prime)\n",
        "        next_state = classical_loop_accepting_state(\n",
        "            current_state, s_prime, energy_s, energy_sprime, temp=temp\n",
        "        )\n",
        "        current_state = next_state\n",
        "        list_after_acceptance_step.append(current_state)\n",
        "        states_obt.append(current_state)\n",
        "        ## reinitiate\n",
        "        qc_s = initialise_qc(n_spins=num_spins, bitstring=current_state)\n",
        "\n",
        "    # dict_count_return_last_n_states = Counter(\n",
        "    #     states[-return_last_n_states:]\n",
        "    # )  # dictionary of occurences for last \"return_last_n_states\" states\n",
        "    ### added by neel 22-11-22\n",
        "    all_possible_states_nbit=states(num_spins=num_spins)\n",
        "    states_sampled=states_obt[-return_last_n_states:]\n",
        "    states_not_obtained=uncommon_els_2_lists(all_possible_states_nbit, states_sampled)\n",
        "    val_states_not_obtained=[0]*len(states_not_obtained)\n",
        "    dict_states_not_obtained=dict(zip(states_not_obtained, val_states_not_obtained ))\n",
        "    ### added by neel 22-11-22\n",
        "    dict_count_return_last_n_states = merge_2_dict(dict(Counter(states_obt[-return_last_n_states:])), dict_states_not_obtained)\n",
        "\n",
        "\n",
        "    if return_both:\n",
        "        to_return = (\n",
        "            dict_count_return_last_n_states,\n",
        "            list_after_transition,\n",
        "            list_after_acceptance_step,\n",
        "        )\n",
        "    else:\n",
        "        to_return = dict_count_return_last_n_states\n",
        "\n",
        "    return to_return"
      ]
    },
    {
      "cell_type": "code",
      "execution_count": null,
      "metadata": {
        "id": "bQV__B7tctB4"
      },
      "outputs": [],
      "source": [
        "def run_mcmc_different_chains(num_spins:int, \n",
        "N_hops:int,num_seperate_mcmc_chains:int ,model,temp:float, \n",
        "return_last_n_states:int,return_both=False, is_quantum_mcmc=False, alpha=None ):\n",
        "\n",
        "    num_elems=2**(num_spins)\n",
        "    dict_seperate_chains_states_distn_mcmc={}\n",
        "    dict_seperate_chains_sprime_mcmc={}\n",
        "    dict_seperate_chains_accepted_mcmc={}\n",
        "    dict_seperate_chains_counts_based_on_hamming_dist={}# we can get rid of these things\n",
        "    dict_seperate_chains_energy_diff_s_and_sprime={}# for plotting histogram\n",
        "    poss_states=list(range(0,num_elems))\n",
        "    print(f\"Whether running quantum mcmc: {is_quantum_mcmc}\")\n",
        "    for chain_num in tqdm(range(0,num_seperate_mcmc_chains)):\n",
        "        init_state=np.random.choice(poss_states)\n",
        "        poss_states.remove(init_state)# to ensure that each mcmc chain starts with a different initial state\n",
        "        initial_state=f'{init_state:0{num_spins}b}'#f'{np.random.randint(0,num_elems):0{num_spins}b}'\n",
        "        if is_quantum_mcmc:\n",
        "            dict_states_mcmc, state_mcmc_after_trsn, state_mcmc_after_accept =quantum_enhanced_mcmc(N_hops, num_spins, \n",
        "                                                                                initial_state,\n",
        "                                                                                num_elems,model, \n",
        "                                                                                alpha,return_last_n_states=return_last_n_states,\n",
        "                                                                                return_both=True, temp=temp)\n",
        "        else:\n",
        "            dict_states_mcmc, state_mcmc_after_trsn, state_mcmc_after_accept =classical_mcmc(N_hops, num_spins, \n",
        "                                                                                initial_state,\n",
        "                                                                                num_elems,model, \n",
        "                                                                                return_last_n_states=return_last_n_states,\n",
        "                                                                                return_both=True, temp=temp)                                                                        \n",
        "        # sorting states in descending order of values(# occurences in mcmc chains)  for keys(states) \n",
        "        dict_states_mcmc_sorted_desc=value_sorted_dict(dict_states_mcmc, reverse=True)#dict_states_mcmc# this is where I might have to change things a little bit\n",
        "        #storing in a dict\n",
        "        dict_seperate_chains_states_distn_mcmc[chain_num]=dict_states_mcmc_sorted_desc\n",
        "        dict_seperate_chains_sprime_mcmc[chain_num]=state_mcmc_after_trsn\n",
        "        dict_seperate_chains_accepted_mcmc[chain_num]=state_mcmc_after_accept\n",
        "        dict_seperate_chains_energy_diff_s_and_sprime[chain_num]=energy_difference_related_counts(num_spins, state_mcmc_after_trsn, state_mcmc_after_accept, model_in=model)\n",
        "        dict_seperate_chains_counts_based_on_hamming_dist[chain_num]=hamming_dist_related_counts(num_spins, state_mcmc_after_trsn, state_mcmc_after_accept)\n",
        "\n",
        "    return dict_seperate_chains_states_distn_mcmc, dict_seperate_chains_sprime_mcmc, dict_seperate_chains_accepted_mcmc, dict_seperate_chains_energy_diff_s_and_sprime,dict_seperate_chains_counts_based_on_hamming_dist\n"
      ]
    },
    {
      "cell_type": "code",
      "execution_count": null,
      "metadata": {
        "colab": {
          "base_uri": "https://localhost:8080/"
        },
        "id": "Qp0pEbzWctB6",
        "outputId": "3d580024-25d5-4bee-b044-2e15a6a3342c",
        "scrolled": true,
        "tags": []
      },
      "outputs": [
        {
          "name": "stdout",
          "output_type": "stream",
          "text": [
            "Whether running quantum mcmc: False\n"
          ]
        },
        {
          "name": "stderr",
          "output_type": "stream",
          "text": [
            "\r  0%|          | 0/4 [00:00<?, ?it/s]"
          ]
        },
        {
          "name": "stdout",
          "output_type": "stream",
          "text": [
            "starting with:  00001100110101100001\n"
          ]
        },
        {
          "name": "stderr",
          "output_type": "stream",
          "text": [
            "\n",
            "100%|██████████| 1000/1000 [00:00<00:00, 27196.89it/s]\n",
            " 25%|██▌       | 1/4 [00:02<00:06,  2.21s/it]"
          ]
        },
        {
          "name": "stdout",
          "output_type": "stream",
          "text": [
            "starting with:  01000001100000110111\n"
          ]
        },
        {
          "name": "stderr",
          "output_type": "stream",
          "text": [
            "\n",
            "100%|██████████| 1000/1000 [00:00<00:00, 26496.92it/s]\n",
            " 50%|█████     | 2/4 [00:04<00:04,  2.19s/it]"
          ]
        },
        {
          "name": "stdout",
          "output_type": "stream",
          "text": [
            "starting with:  11111000010000100111\n"
          ]
        },
        {
          "name": "stderr",
          "output_type": "stream",
          "text": [
            "\n",
            "100%|██████████| 1000/1000 [00:00<00:00, 25834.79it/s]\n",
            " 75%|███████▌  | 3/4 [00:06<00:02,  2.17s/it]"
          ]
        },
        {
          "name": "stdout",
          "output_type": "stream",
          "text": [
            "starting with:  00000011110111111101\n"
          ]
        },
        {
          "name": "stderr",
          "output_type": "stream",
          "text": [
            "\n",
            "100%|██████████| 1000/1000 [00:00<00:00, 26252.47it/s]\n",
            "100%|██████████| 4/4 [00:08<00:00,  2.17s/it]\n"
          ]
        }
      ],
      "source": [
        "# 10 seperate chains of classical mcmc for the given problem instance\n",
        "N_hops=1000;num_seperate_mcmc_chains=4; return_last_n_states=N_hops\n",
        "# later get rid of energy difference and hamming distance dicts.\n",
        "dict_seperate_chains_states_distn_mcmc, dict_seperate_chains_sprime_mcmc, dict_seperate_chains_accepted_mcmc, dict_seperate_chains_energy_diff_s_and_sprime,dict_seperate_chains_counts_based_on_hamming_dist=run_mcmc_different_chains(n_spins, \n",
        "N_hops, num_seperate_mcmc_chains,\n",
        "model, temp=temp, return_last_n_states=return_last_n_states,\n",
        "return_both=True )"
      ]
    },
    {
      "cell_type": "markdown",
      "metadata": {
        "id": "lCXRT6KuV6K2"
      },
      "source": [
        "# TO DO:\n",
        "get empirical distribution instead of count of occurence"
      ]
    },
    {
      "cell_type": "code",
      "execution_count": null,
      "metadata": {
        "id": "ZKiuBlJEvx6g"
      },
      "outputs": [],
      "source": [
        "# kl divergence\n",
        "# calculate the kl divergence\n",
        "from math import log2\n",
        "from math import sqrt\n",
        "from numpy import asarray\n",
        "import time \n",
        "def kl_divergence(p:list, q:list):\n",
        "    return sum(p[i] * log2(p[i]/q[i]) for i in range(len(p)) if p[i]!=0)\n",
        "\n",
        "# calculate the js divergence\n",
        "def js_divergence(dict_p:dict, dict_q:dict):\n",
        "  p=asarray(list(dict_p.values())); q=asarray(list(dict_q.values()))\n",
        "  m = 0.5 * (p + q)\n",
        "  #print(\"m is:\");print(m)\n",
        "  return 0.5 * kl_divergence(p, m) + 0.5 * kl_divergence(q, m)\n",
        "\n",
        "def running_js_divergence(list_chain_state_accepted:list, actual_boltz_distn:dict):\n",
        "  num_nhops=len(list_chain_state_accepted)\n",
        "  list_js_after_each_step=[]\n",
        "  possible_states=list(actual_boltz_distn.keys())\n",
        "  for step_num in tqdm(range(1,num_nhops)):\n",
        "    print(\"step_num: \",step_num)\n",
        "    t_i = time.process_time()\n",
        "    #temp_distn_model=get_distn(list_chain_state_accepted[:step_num])\n",
        "    ### added by me today:\n",
        "    # 1. get list of unique elements in list_chain_state_accepted\n",
        "    # 2. get list of allowed state not present in list_chain_state_accepted (list_states_not_present)\n",
        "    # 3. create a temp_distn_model= \n",
        "    unique_els_list_of_accept_states=list(np.unique(list_chain_state_accepted[:step_num]))\n",
        "    \n",
        "    list_states_not_present=uncommon_els_2_lists(unique_els_list_of_accept_states,\n",
        "                                                 possible_states)\n",
        "    t1 = time.process_time()\n",
        "    print(\"t_1:\", t1 - t_i) ##cflag\n",
        "\n",
        "    dict_states_not_obtained=dict(zip(list_states_not_present, [0]*len(list_states_not_present) ))\n",
        "    temp_distn_model=merge_2_dict(get_distn(list_chain_state_accepted[:step_num]),dict_states_not_obtained)\n",
        "    temp_distn_model=sort_dict_by_keys(temp_distn_model)#arranged in ascedning order of keys\n",
        "\n",
        "    t2 = time.process_time()\n",
        "    print(\"t_2:\", t2 - t1) ##cflag\n",
        "    #Merge(get_distn(list_chain_state_accepted[:step_num]), dict(zip()))\n",
        "    # print(\"temp_distribution:\")\n",
        "    # print(temp_distn_model)\n",
        "    # print(f\"len(temp_distn_model):{len(temp_distn_model)}\")\n",
        "    \n",
        "    #js divergence\n",
        "    js_temp=js_divergence(actual_boltz_distn,temp_distn_model)\n",
        "\n",
        "    # print(js_temp)\n",
        "    list_js_after_each_step.append(js_temp)\n",
        "\n",
        "    t3 = time.process_time()\n",
        "    print(\"t_3:\", t3 - t2) ##cflag\n",
        "\n",
        "    #print(f\"at step={step_num} of MCMC , KL Divergence: {js_temp}\")\n",
        "  return list_js_after_each_step"
      ]
    },
    {
      "cell_type": "code",
      "execution_count": null,
      "metadata": {
        "colab": {
          "base_uri": "https://localhost:8080/"
        },
        "id": "LAYJo3NCC8aV",
        "outputId": "038b9274-691b-4770-bde3-8aedf55ec5c0"
      },
      "outputs": [
        {
          "data": {
            "text/plain": [
              "1000"
            ]
          },
          "execution_count": 23,
          "metadata": {},
          "output_type": "execute_result"
        }
      ],
      "source": [
        "len(chain_accepted_state)"
      ]
    },
    {
      "cell_type": "code",
      "execution_count": null,
      "metadata": {
        "colab": {
          "base_uri": "https://localhost:8080/",
          "height": 1000
        },
        "id": "bV7HNAYCwfLc",
        "outputId": "c3e67f6b-379d-4a58-cfec-9d06dccf3cc0"
      },
      "outputs": [
        {
          "name": "stderr",
          "output_type": "stream",
          "text": [
            "\r  0%|          | 0/999 [00:00<?, ?it/s]"
          ]
        },
        {
          "name": "stdout",
          "output_type": "stream",
          "text": [
            "step_num:  1\n",
            "t_1: 0.24681886700000177\n",
            "t_2: 3.4823304120000103\n"
          ]
        },
        {
          "name": "stderr",
          "output_type": "stream",
          "text": [
            "\r  0%|          | 1/999 [00:05<1:23:11,  5.00s/it]"
          ]
        },
        {
          "name": "stdout",
          "output_type": "stream",
          "text": [
            "t_3: 1.2889229479999358\n",
            "step_num:  2\n",
            "t_1: 0.2560485730000437\n",
            "t_2: 3.498400585999889\n"
          ]
        },
        {
          "name": "stderr",
          "output_type": "stream",
          "text": [
            "\r  0%|          | 2/999 [00:10<1:23:27,  5.02s/it]"
          ]
        },
        {
          "name": "stdout",
          "output_type": "stream",
          "text": [
            "t_3: 1.291992657000037\n",
            "step_num:  3\n",
            "t_1: 0.28291574599984415\n",
            "t_2: 3.495369768000046\n"
          ]
        },
        {
          "name": "stderr",
          "output_type": "stream",
          "text": [
            "\r  0%|          | 3/999 [00:15<1:23:13,  5.01s/it]"
          ]
        },
        {
          "name": "stdout",
          "output_type": "stream",
          "text": [
            "t_3: 1.2453098180001234\n",
            "step_num:  4\n",
            "t_1: 0.2616262579999784\n",
            "t_2: 3.480060332999983\n"
          ]
        },
        {
          "name": "stderr",
          "output_type": "stream",
          "text": [
            "\r  0%|          | 4/999 [00:20<1:22:51,  5.00s/it]"
          ]
        },
        {
          "name": "stdout",
          "output_type": "stream",
          "text": [
            "t_3: 1.2421393570000419\n",
            "step_num:  5\n",
            "t_1: 0.26954590900004405\n",
            "t_2: 3.404361525000013\n"
          ]
        },
        {
          "name": "stderr",
          "output_type": "stream",
          "text": [
            "\r  1%|          | 5/999 [00:24<1:22:27,  4.98s/it]"
          ]
        },
        {
          "name": "stdout",
          "output_type": "stream",
          "text": [
            "t_3: 1.2816790239999136\n",
            "step_num:  6\n",
            "t_1: 0.3019669069999509\n",
            "t_2: 3.468194474000029\n"
          ]
        },
        {
          "name": "stderr",
          "output_type": "stream",
          "text": [
            "\r  1%|          | 6/999 [00:30<1:24:01,  5.08s/it]"
          ]
        },
        {
          "name": "stdout",
          "output_type": "stream",
          "text": [
            "t_3: 1.2404148329999316\n",
            "step_num:  7\n",
            "t_1: 0.2594931539999834\n",
            "t_2: 3.5177306670000235\n"
          ]
        },
        {
          "name": "stderr",
          "output_type": "stream",
          "text": [
            "\r  1%|          | 7/999 [00:35<1:27:23,  5.29s/it]"
          ]
        },
        {
          "name": "stdout",
          "output_type": "stream",
          "text": [
            "t_3: 1.4218794070000058\n",
            "step_num:  8\n",
            "t_1: 0.25825006799982475\n",
            "t_2: 3.589928600000121\n"
          ]
        },
        {
          "name": "stderr",
          "output_type": "stream",
          "text": [
            "\r  1%|          | 8/999 [00:41<1:27:18,  5.29s/it]"
          ]
        },
        {
          "name": "stdout",
          "output_type": "stream",
          "text": [
            "t_3: 1.283023987999968\n",
            "step_num:  9\n",
            "t_1: 0.2609076720000303\n",
            "t_2: 3.3236621599999125\n"
          ]
        },
        {
          "name": "stderr",
          "output_type": "stream",
          "text": [
            "\r  1%|          | 9/999 [00:46<1:25:01,  5.15s/it]"
          ]
        },
        {
          "name": "stdout",
          "output_type": "stream",
          "text": [
            "t_3: 1.287285249000206\n",
            "step_num:  10\n",
            "t_1: 0.25928044499983116\n",
            "t_2: 3.4186147130001245\n"
          ]
        },
        {
          "name": "stderr",
          "output_type": "stream",
          "text": [
            "\r  1%|          | 10/999 [00:51<1:23:42,  5.08s/it]"
          ]
        },
        {
          "name": "stdout",
          "output_type": "stream",
          "text": [
            "t_3: 1.2384689089999483\n",
            "step_num:  11\n",
            "t_1: 0.25646102600012455\n",
            "t_2: 3.3539322699998593\n"
          ]
        },
        {
          "name": "stderr",
          "output_type": "stream",
          "text": [
            "\r  1%|          | 11/999 [00:55<1:22:37,  5.02s/it]"
          ]
        },
        {
          "name": "stdout",
          "output_type": "stream",
          "text": [
            "t_3: 1.2786289289999786\n",
            "step_num:  12\n",
            "t_1: 0.2539663449999807\n",
            "t_2: 3.416132293999908\n"
          ]
        },
        {
          "name": "stderr",
          "output_type": "stream",
          "text": [
            "\r  1%|          | 12/999 [01:00<1:22:01,  4.99s/it]"
          ]
        },
        {
          "name": "stdout",
          "output_type": "stream",
          "text": [
            "t_3: 1.260184739000124\n",
            "step_num:  13\n",
            "t_1: 0.25775171999998747\n",
            "t_2: 3.4434602929998164\n"
          ]
        },
        {
          "name": "stderr",
          "output_type": "stream",
          "text": [
            "\r  1%|▏         | 13/999 [01:05<1:22:10,  5.00s/it]"
          ]
        },
        {
          "name": "stdout",
          "output_type": "stream",
          "text": [
            "t_3: 1.3472733050000443\n",
            "step_num:  14\n",
            "t_1: 0.2584257839998827\n",
            "t_2: 3.5058699210001123\n"
          ]
        },
        {
          "name": "stderr",
          "output_type": "stream",
          "text": [
            "\r  1%|▏         | 14/999 [01:10<1:22:06,  5.00s/it]"
          ]
        },
        {
          "name": "stdout",
          "output_type": "stream",
          "text": [
            "t_3: 1.2571235939999497\n",
            "step_num:  15\n",
            "t_1: 0.2508260680001513\n",
            "t_2: 3.4802071869999054\n"
          ]
        },
        {
          "name": "stderr",
          "output_type": "stream",
          "text": [
            "\r  2%|▏         | 15/999 [01:15<1:21:55,  4.99s/it]"
          ]
        },
        {
          "name": "stdout",
          "output_type": "stream",
          "text": [
            "t_3: 1.2580874099999164\n",
            "step_num:  16\n",
            "t_1: 0.2708256649998475\n",
            "t_2: 3.405479615000104\n"
          ]
        },
        {
          "name": "stderr",
          "output_type": "stream",
          "text": [
            "\r  2%|▏         | 16/999 [01:20<1:21:29,  4.97s/it]"
          ]
        },
        {
          "name": "stdout",
          "output_type": "stream",
          "text": [
            "t_3: 1.2604260559999148\n",
            "step_num:  17\n",
            "t_1: 0.2618292529998598\n",
            "t_2: 3.3637212490000366\n"
          ]
        },
        {
          "name": "stderr",
          "output_type": "stream",
          "text": [
            "\r  2%|▏         | 17/999 [01:25<1:21:06,  4.96s/it]"
          ]
        },
        {
          "name": "stdout",
          "output_type": "stream",
          "text": [
            "t_3: 1.3013741810000283\n",
            "step_num:  18\n",
            "t_1: 0.2617403249998915\n",
            "t_2: 3.426532105999968\n"
          ]
        },
        {
          "name": "stderr",
          "output_type": "stream",
          "text": [
            "\r  2%|▏         | 18/999 [01:30<1:21:12,  4.97s/it]"
          ]
        },
        {
          "name": "stdout",
          "output_type": "stream",
          "text": [
            "t_3: 1.3159156040001108\n",
            "step_num:  19\n",
            "t_1: 0.25528463299997384\n",
            "t_2: 3.44202062699992\n"
          ]
        },
        {
          "name": "stderr",
          "output_type": "stream",
          "text": [
            "\r  2%|▏         | 19/999 [01:35<1:21:11,  4.97s/it]"
          ]
        },
        {
          "name": "stdout",
          "output_type": "stream",
          "text": [
            "t_3: 1.2962380500000563\n",
            "step_num:  20\n",
            "t_1: 0.25672631399993406\n",
            "t_2: 3.4771997499999543\n"
          ]
        },
        {
          "name": "stderr",
          "output_type": "stream",
          "text": [
            "\r  2%|▏         | 20/999 [01:40<1:21:10,  4.97s/it]"
          ]
        },
        {
          "name": "stdout",
          "output_type": "stream",
          "text": [
            "t_3: 1.2598985130000528\n",
            "step_num:  21\n",
            "t_1: 0.25473884899997756\n",
            "t_2: 3.4817441279999457\n"
          ]
        },
        {
          "name": "stderr",
          "output_type": "stream",
          "text": [
            "\r  2%|▏         | 21/999 [01:45<1:21:06,  4.98s/it]"
          ]
        },
        {
          "name": "stdout",
          "output_type": "stream",
          "text": [
            "t_3: 1.2570967610001844\n",
            "step_num:  22\n",
            "t_1: 0.25397886399991876\n",
            "t_2: 3.39509219699994\n"
          ]
        },
        {
          "name": "stderr",
          "output_type": "stream",
          "text": [
            "\r  2%|▏         | 22/999 [01:50<1:20:32,  4.95s/it]"
          ]
        },
        {
          "name": "stdout",
          "output_type": "stream",
          "text": [
            "t_3: 1.2435899459999291\n",
            "step_num:  23\n",
            "t_1: 0.26502848599966455\n",
            "t_2: 3.410173018000023\n"
          ]
        },
        {
          "name": "stderr",
          "output_type": "stream",
          "text": [
            "\r  2%|▏         | 23/999 [01:55<1:20:21,  4.94s/it]"
          ]
        },
        {
          "name": "stdout",
          "output_type": "stream",
          "text": [
            "t_3: 1.2667293040003642\n",
            "step_num:  24\n",
            "t_1: 0.2563264690002143\n",
            "t_2: 3.431180263999977\n"
          ]
        },
        {
          "name": "stderr",
          "output_type": "stream",
          "text": [
            "\r  2%|▏         | 24/999 [02:00<1:20:21,  4.94s/it]"
          ]
        },
        {
          "name": "stdout",
          "output_type": "stream",
          "text": [
            "t_3: 1.2726863610000692\n",
            "step_num:  25\n",
            "t_1: 0.26111785099965346\n",
            "t_2: 3.4351926829999684\n"
          ]
        },
        {
          "name": "stderr",
          "output_type": "stream",
          "text": [
            "\r  3%|▎         | 25/999 [02:05<1:20:12,  4.94s/it]"
          ]
        },
        {
          "name": "stdout",
          "output_type": "stream",
          "text": [
            "t_3: 1.2533398020000277\n",
            "step_num:  26\n",
            "t_1: 0.26018979899981787\n",
            "t_2: 3.5224865780000982\n"
          ]
        },
        {
          "name": "stderr",
          "output_type": "stream",
          "text": [
            "\r  3%|▎         | 26/999 [02:10<1:20:50,  4.98s/it]"
          ]
        },
        {
          "name": "stdout",
          "output_type": "stream",
          "text": [
            "t_3: 1.298623705999944\n",
            "step_num:  27\n",
            "t_1: 0.25653659699992204\n",
            "t_2: 3.446951680999973\n"
          ]
        },
        {
          "name": "stderr",
          "output_type": "stream",
          "text": [
            "\r  3%|▎         | 27/999 [02:15<1:20:35,  4.97s/it]"
          ]
        },
        {
          "name": "stdout",
          "output_type": "stream",
          "text": [
            "t_3: 1.2647568259999389\n",
            "step_num:  28\n",
            "t_1: 0.2563171480001074\n",
            "t_2: 3.4642212859998835\n"
          ]
        },
        {
          "name": "stderr",
          "output_type": "stream",
          "text": [
            "\r  3%|▎         | 28/999 [02:20<1:20:27,  4.97s/it]"
          ]
        },
        {
          "name": "stdout",
          "output_type": "stream",
          "text": [
            "t_3: 1.2573555079998187\n",
            "step_num:  29\n",
            "t_1: 0.26012976799984244\n",
            "t_2: 3.372647211000185\n"
          ]
        },
        {
          "name": "stderr",
          "output_type": "stream",
          "text": [
            "\r  3%|▎         | 29/999 [02:25<1:19:51,  4.94s/it]"
          ]
        },
        {
          "name": "stdout",
          "output_type": "stream",
          "text": [
            "t_3: 1.2456729179998547\n",
            "step_num:  30\n",
            "t_1: 0.2554555110000365\n",
            "t_2: 3.367303480999908\n"
          ]
        },
        {
          "name": "stderr",
          "output_type": "stream",
          "text": [
            "\r  3%|▎         | 30/999 [02:29<1:19:20,  4.91s/it]"
          ]
        },
        {
          "name": "stdout",
          "output_type": "stream",
          "text": [
            "t_3: 1.238504954000291\n",
            "step_num:  31\n",
            "t_1: 0.24862828899995293\n",
            "t_2: 3.367018907000329\n"
          ]
        },
        {
          "name": "stderr",
          "output_type": "stream",
          "text": [
            "\r  3%|▎         | 31/999 [02:34<1:18:58,  4.90s/it]"
          ]
        },
        {
          "name": "stdout",
          "output_type": "stream",
          "text": [
            "t_3: 1.2522196309996616\n",
            "step_num:  32\n",
            "t_1: 0.26068541899985576\n",
            "t_2: 3.4312567410001975\n"
          ]
        },
        {
          "name": "stderr",
          "output_type": "stream",
          "text": [
            "\r  3%|▎         | 32/999 [02:39<1:19:02,  4.90s/it]"
          ]
        },
        {
          "name": "stdout",
          "output_type": "stream",
          "text": [
            "t_3: 1.2441010029997415\n",
            "step_num:  33\n",
            "t_1: 0.24855606699975397\n",
            "t_2: 3.3489073030000327\n"
          ]
        },
        {
          "name": "stderr",
          "output_type": "stream",
          "text": [
            "\r  3%|▎         | 33/999 [02:44<1:18:49,  4.90s/it]"
          ]
        },
        {
          "name": "stdout",
          "output_type": "stream",
          "text": [
            "t_3: 1.2871393980003631\n",
            "step_num:  34\n",
            "t_1: 0.2518577929999992\n",
            "t_2: 3.4038251550000496\n"
          ]
        },
        {
          "name": "stderr",
          "output_type": "stream",
          "text": [
            "\r  3%|▎         | 34/999 [02:49<1:18:42,  4.89s/it]"
          ]
        },
        {
          "name": "stdout",
          "output_type": "stream",
          "text": [
            "t_3: 1.2471662749999268\n",
            "step_num:  35\n",
            "t_1: 0.2494167429999834\n",
            "t_2: 3.4161969850001697\n"
          ]
        },
        {
          "name": "stderr",
          "output_type": "stream",
          "text": [
            "\r  4%|▎         | 35/999 [02:54<1:18:48,  4.90s/it]"
          ]
        },
        {
          "name": "stdout",
          "output_type": "stream",
          "text": [
            "t_3: 1.269178606999958\n",
            "step_num:  36\n",
            "t_1: 0.251462624999931\n",
            "t_2: 3.378552789999958\n"
          ]
        },
        {
          "name": "stderr",
          "output_type": "stream",
          "text": [
            "\r  4%|▎         | 36/999 [02:59<1:18:35,  4.90s/it]"
          ]
        },
        {
          "name": "stdout",
          "output_type": "stream",
          "text": [
            "t_3: 1.2681871120003052\n",
            "step_num:  37\n",
            "t_1: 0.2613963670000885\n",
            "t_2: 3.385734195999703\n"
          ]
        },
        {
          "name": "stderr",
          "output_type": "stream",
          "text": [
            "\r  4%|▎         | 37/999 [03:04<1:18:31,  4.90s/it]"
          ]
        },
        {
          "name": "stdout",
          "output_type": "stream",
          "text": [
            "t_3: 1.2651019710001492\n",
            "step_num:  38\n",
            "t_1: 0.2470188259999304\n",
            "t_2: 3.3787178210000093\n"
          ]
        },
        {
          "name": "stderr",
          "output_type": "stream",
          "text": [
            "\r  4%|▍         | 38/999 [03:09<1:18:19,  4.89s/it]"
          ]
        },
        {
          "name": "stdout",
          "output_type": "stream",
          "text": [
            "t_3: 1.2577079840002625\n",
            "step_num:  39\n",
            "t_1: 0.25251338899988696\n",
            "t_2: 3.334168329000022\n"
          ]
        },
        {
          "name": "stderr",
          "output_type": "stream",
          "text": [
            "\r  4%|▍         | 39/999 [03:13<1:18:08,  4.88s/it]"
          ]
        },
        {
          "name": "stdout",
          "output_type": "stream",
          "text": [
            "t_3: 1.2919326319997708\n",
            "step_num:  40\n",
            "t_1: 0.25229424799999833\n",
            "t_2: 3.33311176899997\n"
          ]
        },
        {
          "name": "stderr",
          "output_type": "stream",
          "text": [
            "\r  4%|▍         | 40/999 [03:18<1:17:46,  4.87s/it]"
          ]
        },
        {
          "name": "stdout",
          "output_type": "stream",
          "text": [
            "t_3: 1.2624704579998252\n",
            "step_num:  41\n",
            "t_1: 0.2510432409999339\n",
            "t_2: 3.249098274000062\n"
          ]
        },
        {
          "name": "stderr",
          "output_type": "stream",
          "text": [
            "\r  4%|▍         | 41/999 [03:23<1:17:13,  4.84s/it]"
          ]
        },
        {
          "name": "stdout",
          "output_type": "stream",
          "text": [
            "t_3: 1.2755410350000602\n",
            "step_num:  42\n",
            "t_1: 0.24836632100004863\n",
            "t_2: 3.37319923799987\n"
          ]
        },
        {
          "name": "stderr",
          "output_type": "stream",
          "text": [
            "\r  4%|▍         | 42/999 [03:28<1:17:22,  4.85s/it]"
          ]
        },
        {
          "name": "stdout",
          "output_type": "stream",
          "text": [
            "t_3: 1.2721537500001432\n",
            "step_num:  43\n",
            "t_1: 0.2539061549996404\n",
            "t_2: 3.3096774180003194\n"
          ]
        },
        {
          "name": "stderr",
          "output_type": "stream",
          "text": [
            "\r  4%|▍         | 43/999 [03:33<1:17:13,  4.85s/it]"
          ]
        },
        {
          "name": "stdout",
          "output_type": "stream",
          "text": [
            "t_3: 1.2878038740000193\n",
            "step_num:  44\n",
            "t_1: 0.25238726599991423\n",
            "t_2: 3.3212967389999903\n"
          ]
        },
        {
          "name": "stderr",
          "output_type": "stream",
          "text": [
            "\r  4%|▍         | 44/999 [03:38<1:17:24,  4.86s/it]"
          ]
        },
        {
          "name": "stdout",
          "output_type": "stream",
          "text": [
            "t_3: 1.3337817050000922\n",
            "step_num:  45\n",
            "t_1: 0.259386749999976\n",
            "t_2: 3.4219020450000244\n"
          ]
        },
        {
          "name": "stderr",
          "output_type": "stream",
          "text": [
            "\r  5%|▍         | 45/999 [03:43<1:17:52,  4.90s/it]"
          ]
        },
        {
          "name": "stdout",
          "output_type": "stream",
          "text": [
            "t_3: 1.3087034889999813\n",
            "step_num:  46\n",
            "t_1: 0.26047849599990514\n",
            "t_2: 3.490050870000232\n"
          ]
        },
        {
          "name": "stderr",
          "output_type": "stream",
          "text": [
            "\r  5%|▍         | 46/999 [03:48<1:18:30,  4.94s/it]"
          ]
        },
        {
          "name": "stdout",
          "output_type": "stream",
          "text": [
            "t_3: 1.3129073919999428\n",
            "step_num:  47\n",
            "t_1: 0.272608142000081\n",
            "t_2: 3.4477580289999423\n"
          ]
        },
        {
          "name": "stderr",
          "output_type": "stream",
          "text": [
            "\r  5%|▍         | 47/999 [03:53<1:18:49,  4.97s/it]"
          ]
        },
        {
          "name": "stdout",
          "output_type": "stream",
          "text": [
            "t_3: 1.3286913430001732\n",
            "step_num:  48\n",
            "t_1: 0.2676653069997883\n",
            "t_2: 3.490905715000281\n"
          ]
        },
        {
          "name": "stderr",
          "output_type": "stream",
          "text": [
            "\r  5%|▍         | 48/999 [03:58<1:18:58,  4.98s/it]"
          ]
        },
        {
          "name": "stdout",
          "output_type": "stream",
          "text": [
            "t_3: 1.2779393349997008\n",
            "step_num:  49\n",
            "t_1: 0.2700514579996707\n",
            "t_2: 3.4606899610002984\n"
          ]
        },
        {
          "name": "stderr",
          "output_type": "stream",
          "text": [
            "\r  5%|▍         | 49/999 [04:03<1:19:03,  4.99s/it]"
          ]
        },
        {
          "name": "stdout",
          "output_type": "stream",
          "text": [
            "t_3: 1.307769972999722\n",
            "step_num:  50\n",
            "t_1: 0.25230901499980973\n",
            "t_2: 3.4507312420000744\n"
          ]
        },
        {
          "name": "stderr",
          "output_type": "stream",
          "text": [
            "\r  5%|▌         | 50/999 [04:08<1:19:03,  5.00s/it]"
          ]
        },
        {
          "name": "stdout",
          "output_type": "stream",
          "text": [
            "t_3: 1.3185770519999096\n",
            "step_num:  51\n",
            "t_1: 0.2657716500002607\n",
            "t_2: 3.458223784999973\n"
          ]
        },
        {
          "name": "stderr",
          "output_type": "stream",
          "text": [
            "\r  5%|▌         | 51/999 [04:13<1:19:11,  5.01s/it]"
          ]
        },
        {
          "name": "stdout",
          "output_type": "stream",
          "text": [
            "t_3: 1.3411722709997775\n",
            "step_num:  52\n",
            "t_1: 0.2556658570001673\n",
            "t_2: 3.4468700150000586\n"
          ]
        },
        {
          "name": "stderr",
          "output_type": "stream",
          "text": [
            "\r  5%|▌         | 52/999 [04:18<1:19:00,  5.01s/it]"
          ]
        },
        {
          "name": "stdout",
          "output_type": "stream",
          "text": [
            "t_3: 1.2948526850000235\n",
            "step_num:  53\n",
            "t_1: 0.2524635039999339\n",
            "t_2: 3.359862681999857\n"
          ]
        },
        {
          "name": "stderr",
          "output_type": "stream",
          "text": [
            "\r  5%|▌         | 53/999 [04:23<1:18:33,  4.98s/it]"
          ]
        },
        {
          "name": "stdout",
          "output_type": "stream",
          "text": [
            "t_3: 1.3220403889999943\n",
            "step_num:  54\n",
            "t_1: 0.25932741899987377\n",
            "t_2: 3.476103005999903\n"
          ]
        },
        {
          "name": "stderr",
          "output_type": "stream",
          "text": [
            "\r  5%|▌         | 54/999 [04:28<1:18:40,  5.00s/it]"
          ]
        },
        {
          "name": "stdout",
          "output_type": "stream",
          "text": [
            "t_3: 1.295013297999958\n",
            "step_num:  55\n",
            "t_1: 0.253939747000004\n",
            "t_2: 3.479119001000072\n"
          ]
        },
        {
          "name": "stderr",
          "output_type": "stream",
          "text": [
            "\r  6%|▌         | 55/999 [04:33<1:18:32,  4.99s/it]"
          ]
        },
        {
          "name": "stdout",
          "output_type": "stream",
          "text": [
            "t_3: 1.26636260999976\n",
            "step_num:  56\n",
            "t_1: 0.2598480810002002\n",
            "t_2: 3.4268256049999763\n"
          ]
        },
        {
          "name": "stderr",
          "output_type": "stream",
          "text": [
            "\r  6%|▌         | 56/999 [04:38<1:18:37,  5.00s/it]"
          ]
        },
        {
          "name": "stdout",
          "output_type": "stream",
          "text": [
            "t_3: 1.3487601840001844\n",
            "step_num:  57\n",
            "t_1: 0.2609254469998632\n",
            "t_2: 3.493015886000194\n"
          ]
        },
        {
          "name": "stderr",
          "output_type": "stream",
          "text": [
            "\r  6%|▌         | 57/999 [04:43<1:18:46,  5.02s/it]"
          ]
        },
        {
          "name": "stdout",
          "output_type": "stream",
          "text": [
            "t_3: 1.309130082000138\n",
            "step_num:  58\n",
            "t_1: 0.25312141199992766\n",
            "t_2: 3.4862111209999966\n"
          ]
        },
        {
          "name": "stderr",
          "output_type": "stream",
          "text": [
            "\r  6%|▌         | 58/999 [04:48<1:18:35,  5.01s/it]"
          ]
        },
        {
          "name": "stdout",
          "output_type": "stream",
          "text": [
            "t_3: 1.2711155790002522\n",
            "step_num:  59\n",
            "t_1: 0.26512283899955946\n",
            "t_2: 3.5257090790000802\n"
          ]
        },
        {
          "name": "stderr",
          "output_type": "stream",
          "text": [
            "\r  6%|▌         | 59/999 [04:53<1:18:50,  5.03s/it]"
          ]
        },
        {
          "name": "stdout",
          "output_type": "stream",
          "text": [
            "t_3: 1.3066433090002647\n",
            "step_num:  60\n",
            "t_1: 0.2529544259996328\n",
            "t_2: 3.5115466470001593\n"
          ]
        },
        {
          "name": "stderr",
          "output_type": "stream",
          "text": [
            "\r  6%|▌         | 60/999 [04:58<1:18:48,  5.04s/it]"
          ]
        },
        {
          "name": "stdout",
          "output_type": "stream",
          "text": [
            "t_3: 1.2975229710000349\n",
            "step_num:  61\n",
            "t_1: 0.26074296199976743\n",
            "t_2: 3.515660311999909\n"
          ]
        },
        {
          "name": "stderr",
          "output_type": "stream",
          "text": [
            "\r  6%|▌         | 61/999 [05:03<1:19:06,  5.06s/it]"
          ]
        },
        {
          "name": "stdout",
          "output_type": "stream",
          "text": [
            "t_3: 1.3492743340002562\n",
            "step_num:  62\n",
            "t_1: 0.26166254700001446\n",
            "t_2: 3.56294772199999\n"
          ]
        },
        {
          "name": "stderr",
          "output_type": "stream",
          "text": [
            "\r  6%|▌         | 62/999 [05:08<1:19:12,  5.07s/it]"
          ]
        },
        {
          "name": "stdout",
          "output_type": "stream",
          "text": [
            "t_3: 1.2961304180003026\n",
            "step_num:  63\n",
            "t_1: 0.26556479700002456\n",
            "t_2: 3.5832877329999064\n"
          ]
        },
        {
          "name": "stderr",
          "output_type": "stream",
          "text": [
            "\r  6%|▋         | 63/999 [05:13<1:19:38,  5.11s/it]"
          ]
        },
        {
          "name": "stdout",
          "output_type": "stream",
          "text": [
            "t_3: 1.3523801810001714\n",
            "step_num:  64\n",
            "t_1: 0.25751030599985825\n",
            "t_2: 3.494378463999965\n"
          ]
        },
        {
          "name": "stderr",
          "output_type": "stream",
          "text": [
            "\r  6%|▋         | 64/999 [05:18<1:19:10,  5.08s/it]"
          ]
        },
        {
          "name": "stdout",
          "output_type": "stream",
          "text": [
            "t_3: 1.2882561650003481\n",
            "step_num:  65\n",
            "t_1: 0.2508077960001174\n",
            "t_2: 3.4149034729998675\n"
          ]
        },
        {
          "name": "stderr",
          "output_type": "stream",
          "text": [
            "\r  7%|▋         | 65/999 [05:23<1:18:26,  5.04s/it]"
          ]
        },
        {
          "name": "stdout",
          "output_type": "stream",
          "text": [
            "t_3: 1.2813564819998646\n",
            "step_num:  66\n",
            "t_1: 0.2623716630000672\n",
            "t_2: 3.47338447500033\n"
          ]
        },
        {
          "name": "stderr",
          "output_type": "stream",
          "text": [
            "\r  7%|▋         | 66/999 [05:28<1:18:07,  5.02s/it]"
          ]
        },
        {
          "name": "stdout",
          "output_type": "stream",
          "text": [
            "t_3: 1.2726150139997117\n",
            "step_num:  67\n",
            "t_1: 0.2667604640000718\n",
            "t_2: 3.469782675999795\n"
          ]
        },
        {
          "name": "stderr",
          "output_type": "stream",
          "text": [
            "\r  7%|▋         | 67/999 [05:33<1:17:46,  5.01s/it]"
          ]
        },
        {
          "name": "stdout",
          "output_type": "stream",
          "text": [
            "t_3: 1.2457331240002532\n",
            "step_num:  68\n",
            "t_1: 0.24942207999993116\n",
            "t_2: 3.3748614129999623\n"
          ]
        },
        {
          "name": "stderr",
          "output_type": "stream",
          "text": [
            "\r  7%|▋         | 68/999 [05:38<1:17:10,  4.97s/it]"
          ]
        },
        {
          "name": "stdout",
          "output_type": "stream",
          "text": [
            "t_3: 1.2888285260000885\n",
            "step_num:  69\n",
            "t_1: 0.25121085299997503\n",
            "t_2: 3.4193630899999334\n"
          ]
        },
        {
          "name": "stderr",
          "output_type": "stream",
          "text": [
            "\r  7%|▋         | 69/999 [05:43<1:17:03,  4.97s/it]"
          ]
        },
        {
          "name": "stdout",
          "output_type": "stream",
          "text": [
            "t_3: 1.3134082999999919\n",
            "step_num:  70\n",
            "t_1: 0.25714077600014207\n",
            "t_2: 3.3482147069998973\n"
          ]
        },
        {
          "name": "stderr",
          "output_type": "stream",
          "text": [
            "\r  7%|▋         | 70/999 [05:48<1:16:40,  4.95s/it]"
          ]
        },
        {
          "name": "stdout",
          "output_type": "stream",
          "text": [
            "t_3: 1.325837158000013\n",
            "step_num:  71\n",
            "t_1: 0.2581884109999919\n",
            "t_2: 3.389910986999894\n"
          ]
        },
        {
          "name": "stderr",
          "output_type": "stream",
          "text": [
            "\r  7%|▋         | 71/999 [05:53<1:16:30,  4.95s/it]"
          ]
        },
        {
          "name": "stdout",
          "output_type": "stream",
          "text": [
            "t_3: 1.3035628259999612\n",
            "step_num:  72\n",
            "t_1: 0.2515644989998691\n",
            "t_2: 3.3926622920002956\n"
          ]
        },
        {
          "name": "stderr",
          "output_type": "stream",
          "text": [
            "\r  7%|▋         | 72/999 [05:58<1:16:11,  4.93s/it]"
          ]
        },
        {
          "name": "stdout",
          "output_type": "stream",
          "text": [
            "t_3: 1.2674781350001467\n",
            "step_num:  73\n",
            "t_1: 0.2617309209999803\n",
            "t_2: 3.4559368499999437\n"
          ]
        },
        {
          "name": "stderr",
          "output_type": "stream",
          "text": [
            "\r  7%|▋         | 73/999 [06:03<1:16:23,  4.95s/it]"
          ]
        },
        {
          "name": "stdout",
          "output_type": "stream",
          "text": [
            "t_3: 1.2848586179998165\n",
            "step_num:  74\n",
            "t_1: 0.27117081500000495\n",
            "t_2: 3.4725179689999095\n"
          ]
        },
        {
          "name": "stderr",
          "output_type": "stream",
          "text": [
            "\r  7%|▋         | 74/999 [06:08<1:16:41,  4.97s/it]"
          ]
        },
        {
          "name": "stdout",
          "output_type": "stream",
          "text": [
            "t_3: 1.2956857569997737\n",
            "step_num:  75\n",
            "t_1: 0.2559497980000742\n",
            "t_2: 3.541142518000015\n"
          ]
        },
        {
          "name": "stderr",
          "output_type": "stream",
          "text": [
            "\r  8%|▊         | 75/999 [06:13<1:17:03,  5.00s/it]"
          ]
        },
        {
          "name": "stdout",
          "output_type": "stream",
          "text": [
            "t_3: 1.2945006529998864\n",
            "step_num:  76\n",
            "t_1: 0.24773421400004736\n",
            "t_2: 3.4386231399998906\n"
          ]
        },
        {
          "name": "stderr",
          "output_type": "stream",
          "text": [
            "\r  8%|▊         | 76/999 [06:18<1:16:39,  4.98s/it]"
          ]
        },
        {
          "name": "stdout",
          "output_type": "stream",
          "text": [
            "t_3: 1.2611999609998747\n",
            "step_num:  77\n",
            "t_1: 0.2659292169996661\n",
            "t_2: 3.4273982630002138\n"
          ]
        },
        {
          "name": "stderr",
          "output_type": "stream",
          "text": [
            "\r  8%|▊         | 77/999 [06:23<1:16:32,  4.98s/it]"
          ]
        },
        {
          "name": "stdout",
          "output_type": "stream",
          "text": [
            "t_3: 1.2936909119998745\n",
            "step_num:  78\n",
            "t_1: 0.2558917100000144\n",
            "t_2: 3.4643016009999883\n"
          ]
        },
        {
          "name": "stderr",
          "output_type": "stream",
          "text": [
            "\r  8%|▊         | 78/999 [06:28<1:16:20,  4.97s/it]"
          ]
        },
        {
          "name": "stdout",
          "output_type": "stream",
          "text": [
            "t_3: 1.2566063300000678\n",
            "step_num:  79\n",
            "t_1: 0.2533134320001409\n",
            "t_2: 3.4605054220000966\n"
          ]
        },
        {
          "name": "stderr",
          "output_type": "stream",
          "text": [
            "\r  8%|▊         | 79/999 [06:33<1:16:12,  4.97s/it]"
          ]
        },
        {
          "name": "stdout",
          "output_type": "stream",
          "text": [
            "t_3: 1.2619585560000814\n",
            "step_num:  80\n",
            "t_1: 0.24899585299999671\n",
            "t_2: 3.4546417500000643\n"
          ]
        },
        {
          "name": "stderr",
          "output_type": "stream",
          "text": [
            "\r  8%|▊         | 80/999 [06:38<1:16:11,  4.97s/it]"
          ]
        },
        {
          "name": "stdout",
          "output_type": "stream",
          "text": [
            "t_3: 1.285352994999812\n",
            "step_num:  81\n",
            "t_1: 0.2529709630002799\n",
            "t_2: 3.3897954660001233\n"
          ]
        },
        {
          "name": "stderr",
          "output_type": "stream",
          "text": [
            "\r  8%|▊         | 81/999 [06:43<1:15:42,  4.95s/it]"
          ]
        },
        {
          "name": "stdout",
          "output_type": "stream",
          "text": [
            "t_3: 1.2585523029997603\n",
            "step_num:  82\n",
            "t_1: 0.25721703199997137\n",
            "t_2: 3.360838898000111\n"
          ]
        },
        {
          "name": "stderr",
          "output_type": "stream",
          "text": [
            "\r  8%|▊         | 82/999 [06:48<1:15:19,  4.93s/it]"
          ]
        },
        {
          "name": "stdout",
          "output_type": "stream",
          "text": [
            "t_3: 1.2809317219998775\n",
            "step_num:  83\n",
            "t_1: 0.25792188900004476\n",
            "t_2: 3.423479755000244\n"
          ]
        },
        {
          "name": "stderr",
          "output_type": "stream",
          "text": [
            "\r  8%|▊         | 83/999 [06:52<1:15:06,  4.92s/it]"
          ]
        },
        {
          "name": "stdout",
          "output_type": "stream",
          "text": [
            "t_3: 1.2365751669999554\n",
            "step_num:  84\n",
            "t_1: 0.251683741999841\n",
            "t_2: 3.345561751999867\n"
          ]
        },
        {
          "name": "stderr",
          "output_type": "stream",
          "text": [
            "\r  8%|▊         | 84/999 [06:57<1:14:46,  4.90s/it]"
          ]
        },
        {
          "name": "stdout",
          "output_type": "stream",
          "text": [
            "t_3: 1.2779165940000894\n",
            "step_num:  85\n",
            "t_1: 0.2509066249999705\n",
            "t_2: 3.3751238579998244\n"
          ]
        },
        {
          "name": "stderr",
          "output_type": "stream",
          "text": [
            "\r  9%|▊         | 85/999 [07:02<1:14:55,  4.92s/it]"
          ]
        },
        {
          "name": "stdout",
          "output_type": "stream",
          "text": [
            "t_3: 1.3382125190000806\n",
            "step_num:  86\n",
            "t_1: 0.25449889099991196\n",
            "t_2: 3.3550669539999944\n"
          ]
        },
        {
          "name": "stderr",
          "output_type": "stream",
          "text": [
            "\r  9%|▊         | 86/999 [07:07<1:14:42,  4.91s/it]"
          ]
        },
        {
          "name": "stdout",
          "output_type": "stream",
          "text": [
            "t_3: 1.2936561050000819\n",
            "step_num:  87\n",
            "t_1: 0.25676182999995945\n",
            "t_2: 3.3820787760000712\n"
          ]
        },
        {
          "name": "stderr",
          "output_type": "stream",
          "text": [
            "\r  9%|▊         | 87/999 [07:12<1:14:30,  4.90s/it]"
          ]
        },
        {
          "name": "stdout",
          "output_type": "stream",
          "text": [
            "t_3: 1.2622019010000258\n",
            "step_num:  88\n",
            "t_1: 0.2556811790000211\n",
            "t_2: 3.463625595999929\n"
          ]
        },
        {
          "name": "stderr",
          "output_type": "stream",
          "text": [
            "\r  9%|▉         | 88/999 [07:17<1:14:47,  4.93s/it]"
          ]
        },
        {
          "name": "stdout",
          "output_type": "stream",
          "text": [
            "t_3: 1.272662672000024\n",
            "step_num:  89\n",
            "t_1: 0.25263948300016636\n",
            "t_2: 3.4376984330001505\n"
          ]
        },
        {
          "name": "stderr",
          "output_type": "stream",
          "text": [
            "\r  9%|▉         | 89/999 [07:22<1:14:47,  4.93s/it]"
          ]
        },
        {
          "name": "stdout",
          "output_type": "stream",
          "text": [
            "t_3: 1.2626498039999206\n",
            "step_num:  90\n",
            "t_1: 0.24388045500018052\n",
            "t_2: 3.405668502000026\n"
          ]
        },
        {
          "name": "stderr",
          "output_type": "stream",
          "text": [
            "\r  9%|▉         | 90/999 [07:27<1:14:31,  4.92s/it]"
          ]
        },
        {
          "name": "stdout",
          "output_type": "stream",
          "text": [
            "t_3: 1.2554956789999778\n",
            "step_num:  91\n",
            "t_1: 0.2528858880000371\n",
            "t_2: 3.3538168119998772\n"
          ]
        },
        {
          "name": "stderr",
          "output_type": "stream",
          "text": [
            "\r  9%|▉         | 91/999 [07:32<1:14:17,  4.91s/it]"
          ]
        },
        {
          "name": "stdout",
          "output_type": "stream",
          "text": [
            "t_3: 1.2839276370000334\n",
            "step_num:  92\n",
            "t_1: 0.2530261470001278\n",
            "t_2: 3.3508819210001093\n"
          ]
        },
        {
          "name": "stderr",
          "output_type": "stream",
          "text": [
            "\r  9%|▉         | 92/999 [07:37<1:14:14,  4.91s/it]"
          ]
        },
        {
          "name": "stdout",
          "output_type": "stream",
          "text": [
            "t_3: 1.3126541809997434\n",
            "step_num:  93\n",
            "t_1: 0.2604293389999839\n",
            "t_2: 3.325594744999762\n"
          ]
        },
        {
          "name": "stderr",
          "output_type": "stream",
          "text": [
            "\r  9%|▉         | 93/999 [07:42<1:14:02,  4.90s/it]"
          ]
        },
        {
          "name": "stdout",
          "output_type": "stream",
          "text": [
            "t_3: 1.3100882200001251\n",
            "step_num:  94\n",
            "t_1: 0.25210890100015604\n",
            "t_2: 3.5068537359998118\n"
          ]
        },
        {
          "name": "stderr",
          "output_type": "stream",
          "text": [
            "\r  9%|▉         | 94/999 [07:47<1:14:33,  4.94s/it]"
          ]
        },
        {
          "name": "stdout",
          "output_type": "stream",
          "text": [
            "t_3: 1.2609381699999176\n",
            "step_num:  95\n",
            "t_1: 0.26309577599977274\n",
            "t_2: 3.375716965000265\n"
          ]
        },
        {
          "name": "stderr",
          "output_type": "stream",
          "text": [
            "\r 10%|▉         | 95/999 [07:52<1:14:20,  4.93s/it]"
          ]
        },
        {
          "name": "stdout",
          "output_type": "stream",
          "text": [
            "t_3: 1.2898765739996634\n",
            "step_num:  96\n",
            "t_1: 0.2402252890001364\n",
            "t_2: 3.363286369999969\n"
          ]
        },
        {
          "name": "stderr",
          "output_type": "stream",
          "text": [
            "\r 10%|▉         | 96/999 [07:56<1:13:53,  4.91s/it]"
          ]
        },
        {
          "name": "stdout",
          "output_type": "stream",
          "text": [
            "t_3: 1.2578174279997256\n",
            "step_num:  97\n",
            "t_1: 0.24682527899994966\n",
            "t_2: 3.3242697559999215\n"
          ]
        },
        {
          "name": "stderr",
          "output_type": "stream",
          "text": [
            "\r 10%|▉         | 97/999 [08:01<1:13:28,  4.89s/it]"
          ]
        },
        {
          "name": "stdout",
          "output_type": "stream",
          "text": [
            "t_3: 1.2751790500001334\n",
            "step_num:  98\n",
            "t_1: 0.25732792700000573\n",
            "t_2: 3.453031581000232\n"
          ]
        },
        {
          "name": "stderr",
          "output_type": "stream",
          "text": [
            "\r 10%|▉         | 98/999 [08:06<1:13:39,  4.90s/it]"
          ]
        },
        {
          "name": "stdout",
          "output_type": "stream",
          "text": [
            "t_3: 1.2458011159997113\n",
            "step_num:  99\n",
            "t_1: 0.2585883339997963\n",
            "t_2: 3.4042141490003814\n"
          ]
        },
        {
          "name": "stderr",
          "output_type": "stream",
          "text": [
            "\r 10%|▉         | 99/999 [08:11<1:13:35,  4.91s/it]"
          ]
        },
        {
          "name": "stdout",
          "output_type": "stream",
          "text": [
            "t_3: 1.2640036610000607\n",
            "step_num:  100\n",
            "t_1: 0.25374484200028746\n",
            "t_2: 3.447537997999916\n"
          ]
        },
        {
          "name": "stderr",
          "output_type": "stream",
          "text": [
            "\r 10%|█         | 100/999 [08:16<1:13:34,  4.91s/it]"
          ]
        },
        {
          "name": "stdout",
          "output_type": "stream",
          "text": [
            "t_3: 1.2346111520000704\n",
            "step_num:  101\n",
            "t_1: 0.25806648800016774\n",
            "t_2: 3.459126144000038\n"
          ]
        },
        {
          "name": "stderr",
          "output_type": "stream",
          "text": [
            "\r 10%|█         | 101/999 [08:21<1:13:45,  4.93s/it]"
          ]
        },
        {
          "name": "stdout",
          "output_type": "stream",
          "text": [
            "t_3: 1.2673492740000256\n",
            "step_num:  102\n",
            "t_1: 0.253349550999701\n",
            "t_2: 3.4761736600003132\n"
          ]
        },
        {
          "name": "stderr",
          "output_type": "stream",
          "text": [
            "\r 10%|█         | 102/999 [08:26<1:13:54,  4.94s/it]"
          ]
        },
        {
          "name": "stdout",
          "output_type": "stream",
          "text": [
            "t_3: 1.262185715999749\n",
            "step_num:  103\n",
            "t_1: 0.2600770349999948\n",
            "t_2: 3.4738686140003665\n"
          ]
        },
        {
          "name": "stderr",
          "output_type": "stream",
          "text": [
            "\r 10%|█         | 103/999 [08:31<1:13:58,  4.95s/it]"
          ]
        },
        {
          "name": "stdout",
          "output_type": "stream",
          "text": [
            "t_3: 1.2484556199997314\n",
            "step_num:  104\n",
            "t_1: 0.2550797760000023\n",
            "t_2: 3.4605126980000023\n"
          ]
        },
        {
          "name": "stderr",
          "output_type": "stream",
          "text": [
            "\r 10%|█         | 104/999 [08:36<1:13:58,  4.96s/it]"
          ]
        },
        {
          "name": "stdout",
          "output_type": "stream",
          "text": [
            "t_3: 1.2646993170001224\n",
            "step_num:  105\n",
            "t_1: 0.2573612520000097\n",
            "t_2: 3.4034303510002246\n"
          ]
        },
        {
          "name": "stderr",
          "output_type": "stream",
          "text": [
            "\r 11%|█         | 105/999 [08:41<1:13:38,  4.94s/it]"
          ]
        },
        {
          "name": "stdout",
          "output_type": "stream",
          "text": [
            "t_3: 1.2545891209997535\n",
            "step_num:  106\n",
            "t_1: 0.2611170420000235\n",
            "t_2: 3.412615500999891\n"
          ]
        },
        {
          "name": "stderr",
          "output_type": "stream",
          "text": [
            "\r 11%|█         | 106/999 [08:46<1:13:40,  4.95s/it]"
          ]
        },
        {
          "name": "stdout",
          "output_type": "stream",
          "text": [
            "t_3: 1.3145118610000281\n",
            "step_num:  107\n",
            "t_1: 0.2554228190001595\n",
            "t_2: 3.37048684399997\n"
          ]
        },
        {
          "name": "stderr",
          "output_type": "stream",
          "text": [
            "\r 11%|█         | 107/999 [08:51<1:13:25,  4.94s/it]"
          ]
        },
        {
          "name": "stdout",
          "output_type": "stream",
          "text": [
            "t_3: 1.299687979999817\n",
            "step_num:  108\n",
            "t_1: 0.2521132000001671\n",
            "t_2: 3.392584498999895\n"
          ]
        },
        {
          "name": "stderr",
          "output_type": "stream",
          "text": [
            "\r 11%|█         | 108/999 [08:56<1:13:13,  4.93s/it]"
          ]
        },
        {
          "name": "stdout",
          "output_type": "stream",
          "text": [
            "t_3: 1.2877137169998605\n",
            "step_num:  109\n",
            "t_1: 0.25045170100020187\n",
            "t_2: 3.4271965930001898\n"
          ]
        },
        {
          "name": "stderr",
          "output_type": "stream",
          "text": [
            "\r 11%|█         | 109/999 [09:01<1:13:15,  4.94s/it]"
          ]
        },
        {
          "name": "stdout",
          "output_type": "stream",
          "text": [
            "t_3: 1.2827874589997919\n",
            "step_num:  110\n",
            "t_1: 0.25146448200030136\n",
            "t_2: 3.485680258999764\n"
          ]
        },
        {
          "name": "stderr",
          "output_type": "stream",
          "text": [
            "\r 11%|█         | 110/999 [09:06<1:13:25,  4.96s/it]"
          ]
        },
        {
          "name": "stdout",
          "output_type": "stream",
          "text": [
            "t_3: 1.2732698350000646\n",
            "step_num:  111\n",
            "t_1: 0.260581927000203\n",
            "t_2: 3.466526192999936\n"
          ]
        },
        {
          "name": "stderr",
          "output_type": "stream",
          "text": [
            "\r 11%|█         | 111/999 [09:11<1:13:29,  4.97s/it]"
          ]
        },
        {
          "name": "stdout",
          "output_type": "stream",
          "text": [
            "t_3: 1.2660344020000593\n",
            "step_num:  112\n",
            "t_1: 0.2543083589998787\n",
            "t_2: 3.3789254810003513\n"
          ]
        },
        {
          "name": "stderr",
          "output_type": "stream",
          "text": [
            "\r 11%|█         | 112/999 [09:15<1:13:07,  4.95s/it]"
          ]
        },
        {
          "name": "stdout",
          "output_type": "stream",
          "text": [
            "t_3: 1.289509753999937\n",
            "step_num:  113\n",
            "t_1: 0.2513589079999292\n",
            "t_2: 3.410805554000035\n"
          ]
        },
        {
          "name": "stderr",
          "output_type": "stream",
          "text": [
            "\r 11%|█▏        | 113/999 [09:20<1:12:48,  4.93s/it]"
          ]
        },
        {
          "name": "stdout",
          "output_type": "stream",
          "text": [
            "t_3: 1.2458237480000207\n",
            "step_num:  114\n",
            "t_1: 0.26242404899994654\n",
            "t_2: 3.383332413000062\n"
          ]
        },
        {
          "name": "stderr",
          "output_type": "stream",
          "text": [
            "\r 11%|█▏        | 114/999 [09:25<1:12:38,  4.92s/it]"
          ]
        },
        {
          "name": "stdout",
          "output_type": "stream",
          "text": [
            "t_3: 1.2778680930000519\n",
            "step_num:  115\n",
            "t_1: 0.2559478670000317\n",
            "t_2: 3.452199538000059\n"
          ]
        },
        {
          "name": "stderr",
          "output_type": "stream",
          "text": [
            "\r 12%|█▏        | 115/999 [09:30<1:12:54,  4.95s/it]"
          ]
        },
        {
          "name": "stdout",
          "output_type": "stream",
          "text": [
            "t_3: 1.3041158569999425\n",
            "step_num:  116\n",
            "t_1: 0.24655362200019226\n",
            "t_2: 3.418225082999925\n"
          ]
        },
        {
          "name": "stderr",
          "output_type": "stream",
          "text": [
            "\r 12%|█▏        | 116/999 [09:35<1:12:47,  4.95s/it]"
          ]
        },
        {
          "name": "stdout",
          "output_type": "stream",
          "text": [
            "t_3: 1.2860730239999612\n",
            "step_num:  117\n",
            "t_1: 0.25174378400015485\n",
            "t_2: 3.445224959999905\n"
          ]
        },
        {
          "name": "stderr",
          "output_type": "stream",
          "text": [
            "\r 12%|█▏        | 117/999 [09:40<1:13:00,  4.97s/it]"
          ]
        },
        {
          "name": "stdout",
          "output_type": "stream",
          "text": [
            "t_3: 1.3296064119999755\n",
            "step_num:  118\n",
            "t_1: 0.24829802799968093\n",
            "t_2: 3.4381306000000222\n"
          ]
        },
        {
          "name": "stderr",
          "output_type": "stream",
          "text": [
            "\r 12%|█▏        | 118/999 [09:45<1:12:58,  4.97s/it]"
          ]
        },
        {
          "name": "stdout",
          "output_type": "stream",
          "text": [
            "t_3: 1.3080513180002526\n",
            "step_num:  119\n",
            "t_1: 0.25928323500011174\n",
            "t_2: 3.3880698829998437\n"
          ]
        },
        {
          "name": "stderr",
          "output_type": "stream",
          "text": [
            "\r 12%|█▏        | 119/999 [09:50<1:12:48,  4.96s/it]"
          ]
        },
        {
          "name": "stdout",
          "output_type": "stream",
          "text": [
            "t_3: 1.3190513570002622\n",
            "step_num:  120\n",
            "t_1: 0.25448255900028016\n",
            "t_2: 3.3579797919996963\n"
          ]
        },
        {
          "name": "stderr",
          "output_type": "stream",
          "text": [
            "\r 12%|█▏        | 120/999 [09:55<1:12:19,  4.94s/it]"
          ]
        },
        {
          "name": "stdout",
          "output_type": "stream",
          "text": [
            "t_3: 1.2806266440002219\n",
            "step_num:  121\n",
            "t_1: 0.25874782900018545\n",
            "t_2: 3.340064194000206\n"
          ]
        },
        {
          "name": "stderr",
          "output_type": "stream",
          "text": [
            "\r 12%|█▏        | 121/999 [10:00<1:12:03,  4.92s/it]"
          ]
        },
        {
          "name": "stdout",
          "output_type": "stream",
          "text": [
            "t_3: 1.3055505229999653\n",
            "step_num:  122\n",
            "t_1: 0.2575616560002345\n",
            "t_2: 3.4385369799997534\n"
          ]
        },
        {
          "name": "stderr",
          "output_type": "stream",
          "text": [
            "\r 12%|█▏        | 122/999 [10:05<1:12:02,  4.93s/it]"
          ]
        },
        {
          "name": "stdout",
          "output_type": "stream",
          "text": [
            "t_3: 1.2594891329999882\n",
            "step_num:  123\n",
            "t_1: 0.2630831000001308\n",
            "t_2: 3.434277834999648\n"
          ]
        },
        {
          "name": "stderr",
          "output_type": "stream",
          "text": [
            "\r 12%|█▏        | 123/999 [10:10<1:12:00,  4.93s/it]"
          ]
        },
        {
          "name": "stdout",
          "output_type": "stream",
          "text": [
            "t_3: 1.2551254770000924\n",
            "step_num:  124\n",
            "t_1: 0.254972885999905\n",
            "t_2: 3.4489588259998527\n"
          ]
        },
        {
          "name": "stderr",
          "output_type": "stream",
          "text": [
            "\r 12%|█▏        | 124/999 [10:15<1:11:51,  4.93s/it]"
          ]
        },
        {
          "name": "stdout",
          "output_type": "stream",
          "text": [
            "t_3: 1.2318026570001166\n",
            "step_num:  125\n",
            "t_1: 0.25345003900019947\n",
            "t_2: 3.4914355089999844\n"
          ]
        },
        {
          "name": "stderr",
          "output_type": "stream",
          "text": [
            "\r 13%|█▎        | 125/999 [10:20<1:12:06,  4.95s/it]"
          ]
        },
        {
          "name": "stdout",
          "output_type": "stream",
          "text": [
            "t_3: 1.2721359450001728\n",
            "step_num:  126\n",
            "t_1: 0.2511788750002779\n",
            "t_2: 3.407842477000031\n"
          ]
        },
        {
          "name": "stderr",
          "output_type": "stream",
          "text": [
            "\r 13%|█▎        | 126/999 [10:25<1:11:50,  4.94s/it]"
          ]
        },
        {
          "name": "stdout",
          "output_type": "stream",
          "text": [
            "t_3: 1.2699870349997582\n",
            "step_num:  127\n",
            "t_1: 0.25135120499999175\n",
            "t_2: 3.403913560000092\n"
          ]
        },
        {
          "name": "stderr",
          "output_type": "stream",
          "text": [
            "\r 13%|█▎        | 127/999 [10:30<1:11:45,  4.94s/it]"
          ]
        },
        {
          "name": "stdout",
          "output_type": "stream",
          "text": [
            "t_3: 1.2986095390001537\n",
            "step_num:  128\n",
            "t_1: 0.2594108030002644\n",
            "t_2: 3.4988137699997424\n"
          ]
        },
        {
          "name": "stderr",
          "output_type": "stream",
          "text": [
            "\r 13%|█▎        | 128/999 [10:35<1:11:55,  4.95s/it]"
          ]
        },
        {
          "name": "stdout",
          "output_type": "stream",
          "text": [
            "t_3: 1.2470422710002822\n",
            "step_num:  129\n",
            "t_1: 0.26019066100025157\n",
            "t_2: 3.3627461769997353\n"
          ]
        },
        {
          "name": "stderr",
          "output_type": "stream",
          "text": [
            "\r 13%|█▎        | 129/999 [10:39<1:11:35,  4.94s/it]"
          ]
        },
        {
          "name": "stdout",
          "output_type": "stream",
          "text": [
            "t_3: 1.293292547999954\n",
            "step_num:  130\n",
            "t_1: 0.24714841300010448\n",
            "t_2: 3.4088867509999545\n"
          ]
        },
        {
          "name": "stderr",
          "output_type": "stream",
          "text": [
            "\r 13%|█▎        | 130/999 [10:44<1:11:17,  4.92s/it]"
          ]
        },
        {
          "name": "stdout",
          "output_type": "stream",
          "text": [
            "t_3: 1.2502829539998856\n",
            "step_num:  131\n",
            "t_1: 0.24815297699979055\n",
            "t_2: 3.424806066000201\n"
          ]
        },
        {
          "name": "stderr",
          "output_type": "stream",
          "text": [
            "\r 13%|█▎        | 131/999 [10:49<1:11:09,  4.92s/it]"
          ]
        },
        {
          "name": "stdout",
          "output_type": "stream",
          "text": [
            "t_3: 1.2539526329996988\n",
            "step_num:  132\n",
            "t_1: 0.2523560540003018\n",
            "t_2: 3.35551168999973\n"
          ]
        },
        {
          "name": "stderr",
          "output_type": "stream",
          "text": [
            "\r 13%|█▎        | 132/999 [10:54<1:10:50,  4.90s/it]"
          ]
        },
        {
          "name": "stdout",
          "output_type": "stream",
          "text": [
            "t_3: 1.2693502870001794\n",
            "step_num:  133\n",
            "t_1: 0.2466509739997491\n",
            "t_2: 3.3420053530003315\n"
          ]
        },
        {
          "name": "stderr",
          "output_type": "stream",
          "text": [
            "\r 13%|█▎        | 133/999 [10:59<1:10:28,  4.88s/it]"
          ]
        },
        {
          "name": "stdout",
          "output_type": "stream",
          "text": [
            "t_3: 1.2558598709997568\n",
            "step_num:  134\n",
            "t_1: 0.2588582379999025\n",
            "t_2: 3.3876822140000513\n"
          ]
        },
        {
          "name": "stderr",
          "output_type": "stream",
          "text": [
            "\r 13%|█▎        | 134/999 [11:04<1:10:29,  4.89s/it]"
          ]
        },
        {
          "name": "stdout",
          "output_type": "stream",
          "text": [
            "t_3: 1.2639799049998146\n",
            "step_num:  135\n",
            "t_1: 0.25708677899956456\n",
            "t_2: 3.3634810220000873\n"
          ]
        },
        {
          "name": "stderr",
          "output_type": "stream",
          "text": [
            "\r 14%|█▎        | 135/999 [11:09<1:10:27,  4.89s/it]"
          ]
        },
        {
          "name": "stdout",
          "output_type": "stream",
          "text": [
            "t_3: 1.2994391639999776\n",
            "step_num:  136\n",
            "t_1: 0.25338004199966235\n",
            "t_2: 3.3573913100003665\n"
          ]
        },
        {
          "name": "stderr",
          "output_type": "stream",
          "text": [
            "\r 14%|█▎        | 136/999 [11:14<1:10:13,  4.88s/it]"
          ]
        },
        {
          "name": "stdout",
          "output_type": "stream",
          "text": [
            "t_3: 1.2714048709999588\n",
            "step_num:  137\n",
            "t_1: 0.2538064069999564\n",
            "t_2: 3.3530646470003376\n"
          ]
        },
        {
          "name": "stderr",
          "output_type": "stream",
          "text": [
            "\r 14%|█▎        | 137/999 [11:18<1:10:10,  4.88s/it]"
          ]
        },
        {
          "name": "stdout",
          "output_type": "stream",
          "text": [
            "t_3: 1.2978872169996976\n",
            "step_num:  138\n",
            "t_1: 0.25283234700009416\n",
            "t_2: 3.383585608999965\n"
          ]
        },
        {
          "name": "stderr",
          "output_type": "stream",
          "text": [
            "\r 14%|█▍        | 138/999 [11:23<1:10:08,  4.89s/it]"
          ]
        },
        {
          "name": "stdout",
          "output_type": "stream",
          "text": [
            "t_3: 1.2698508980001861\n",
            "step_num:  139\n",
            "t_1: 0.26624365499992564\n",
            "t_2: 3.414453253999909\n"
          ]
        },
        {
          "name": "stderr",
          "output_type": "stream",
          "text": [
            "\r 14%|█▍        | 139/999 [11:28<1:10:14,  4.90s/it]"
          ]
        },
        {
          "name": "stdout",
          "output_type": "stream",
          "text": [
            "t_3: 1.2643464279999534\n",
            "step_num:  140\n",
            "t_1: 0.25738074899982166\n",
            "t_2: 3.414313246999882\n"
          ]
        },
        {
          "name": "stderr",
          "output_type": "stream",
          "text": [
            "\r 14%|█▍        | 140/999 [11:33<1:10:18,  4.91s/it]"
          ]
        },
        {
          "name": "stdout",
          "output_type": "stream",
          "text": [
            "t_3: 1.2757322160000513\n",
            "step_num:  141\n",
            "t_1: 0.2526896599997599\n",
            "t_2: 3.442774689000089\n"
          ]
        },
        {
          "name": "stderr",
          "output_type": "stream",
          "text": [
            "\r 14%|█▍        | 141/999 [11:38<1:10:26,  4.93s/it]"
          ]
        },
        {
          "name": "stdout",
          "output_type": "stream",
          "text": [
            "t_3: 1.2848671699998704\n",
            "step_num:  142\n",
            "t_1: 0.260390231999736\n",
            "t_2: 3.3938936710001144\n"
          ]
        },
        {
          "name": "stderr",
          "output_type": "stream",
          "text": [
            "\r 14%|█▍        | 142/999 [11:43<1:10:21,  4.93s/it]"
          ]
        },
        {
          "name": "stdout",
          "output_type": "stream",
          "text": [
            "t_3: 1.2781074210001862\n",
            "step_num:  143\n",
            "t_1: 0.2564380830003756\n",
            "t_2: 3.485328580999976\n"
          ]
        },
        {
          "name": "stderr",
          "output_type": "stream",
          "text": [
            "\r 14%|█▍        | 143/999 [11:48<1:10:36,  4.95s/it]"
          ]
        },
        {
          "name": "stdout",
          "output_type": "stream",
          "text": [
            "t_3: 1.2715648250000413\n",
            "step_num:  144\n",
            "t_1: 0.2570032550001997\n",
            "t_2: 3.4414514079999208\n"
          ]
        },
        {
          "name": "stderr",
          "output_type": "stream",
          "text": [
            "\r 14%|█▍        | 144/999 [11:53<1:10:45,  4.97s/it]"
          ]
        },
        {
          "name": "stdout",
          "output_type": "stream",
          "text": [
            "t_3: 1.314244386000155\n",
            "step_num:  145\n",
            "t_1: 0.2533805940001912\n",
            "t_2: 3.450443175000146\n"
          ]
        },
        {
          "name": "stderr",
          "output_type": "stream",
          "text": [
            "\r 15%|█▍        | 145/999 [11:58<1:10:37,  4.96s/it]"
          ]
        },
        {
          "name": "stdout",
          "output_type": "stream",
          "text": [
            "t_3: 1.2714493700000276\n",
            "step_num:  146\n",
            "t_1: 0.2578082869999889\n",
            "t_2: 3.3980999120003617\n"
          ]
        },
        {
          "name": "stderr",
          "output_type": "stream",
          "text": [
            "\r 15%|█▍        | 146/999 [12:03<1:10:26,  4.95s/it]"
          ]
        },
        {
          "name": "stdout",
          "output_type": "stream",
          "text": [
            "t_3: 1.3021913570000834\n",
            "step_num:  147\n",
            "t_1: 0.2593942779999452\n",
            "t_2: 3.4391612750000604\n"
          ]
        },
        {
          "name": "stderr",
          "output_type": "stream",
          "text": [
            "\r 15%|█▍        | 147/999 [12:08<1:10:20,  4.95s/it]"
          ]
        },
        {
          "name": "stdout",
          "output_type": "stream",
          "text": [
            "t_3: 1.2718113890000495\n",
            "step_num:  148\n",
            "t_1: 0.2563470199997937\n",
            "t_2: 3.4362121500003013\n"
          ]
        },
        {
          "name": "stderr",
          "output_type": "stream",
          "text": [
            "\r 15%|█▍        | 148/999 [12:13<1:10:09,  4.95s/it]"
          ]
        },
        {
          "name": "stdout",
          "output_type": "stream",
          "text": [
            "t_3: 1.2496623129995896\n",
            "step_num:  149\n",
            "t_1: 0.2534307959999751\n",
            "t_2: 3.359794625000177\n"
          ]
        },
        {
          "name": "stderr",
          "output_type": "stream",
          "text": [
            "\r 15%|█▍        | 149/999 [12:18<1:09:48,  4.93s/it]"
          ]
        },
        {
          "name": "stdout",
          "output_type": "stream",
          "text": [
            "t_3: 1.281076356000085\n",
            "step_num:  150\n",
            "t_1: 0.25497323099989444\n",
            "t_2: 3.4174280229999567\n"
          ]
        },
        {
          "name": "stderr",
          "output_type": "stream",
          "text": [
            "\r 15%|█▌        | 150/999 [12:23<1:09:41,  4.92s/it]"
          ]
        },
        {
          "name": "stdout",
          "output_type": "stream",
          "text": [
            "t_3: 1.2619456299999001\n",
            "step_num:  151\n",
            "t_1: 0.25596007900003315\n",
            "t_2: 3.4149104990001433\n"
          ]
        },
        {
          "name": "stderr",
          "output_type": "stream",
          "text": [
            "\r 15%|█▌        | 151/999 [12:28<1:09:39,  4.93s/it]"
          ]
        },
        {
          "name": "stdout",
          "output_type": "stream",
          "text": [
            "t_3: 1.2831604479997623\n",
            "step_num:  152\n",
            "t_1: 0.25455323100004534\n",
            "t_2: 3.571699281000292\n"
          ]
        },
        {
          "name": "stderr",
          "output_type": "stream",
          "text": [
            "\r 15%|█▌        | 152/999 [12:33<1:10:12,  4.97s/it]"
          ]
        },
        {
          "name": "stdout",
          "output_type": "stream",
          "text": [
            "t_3: 1.267801443999815\n",
            "step_num:  153\n",
            "t_1: 0.2512809200002266\n",
            "t_2: 3.364633152999886\n"
          ]
        },
        {
          "name": "stderr",
          "output_type": "stream",
          "text": [
            "\r 15%|█▌        | 153/999 [12:38<1:09:47,  4.95s/it]"
          ]
        },
        {
          "name": "stdout",
          "output_type": "stream",
          "text": [
            "t_3: 1.298349145999964\n",
            "step_num:  154\n",
            "t_1: 0.2574088979999942\n",
            "t_2: 3.5062224979997154\n"
          ]
        },
        {
          "name": "stderr",
          "output_type": "stream",
          "text": [
            "\r 15%|█▌        | 154/999 [12:43<1:10:02,  4.97s/it]"
          ]
        },
        {
          "name": "stdout",
          "output_type": "stream",
          "text": [
            "t_3: 1.273061348000283\n",
            "step_num:  155\n",
            "t_1: 0.2620597159998397\n",
            "t_2: 3.5766576190003434\n"
          ]
        },
        {
          "name": "stderr",
          "output_type": "stream",
          "text": [
            "\r 16%|█▌        | 155/999 [12:48<1:10:28,  5.01s/it]"
          ]
        },
        {
          "name": "stdout",
          "output_type": "stream",
          "text": [
            "t_3: 1.2736772799999017\n",
            "step_num:  156\n",
            "t_1: 0.2656818079999539\n",
            "t_2: 3.601385222999852\n"
          ]
        },
        {
          "name": "stderr",
          "output_type": "stream",
          "text": [
            "\r 16%|█▌        | 156/999 [12:53<1:10:57,  5.05s/it]"
          ]
        },
        {
          "name": "stdout",
          "output_type": "stream",
          "text": [
            "t_3: 1.287076307999996\n",
            "step_num:  157\n",
            "t_1: 0.279047074999653\n",
            "t_2: 3.5316905070003486\n"
          ]
        },
        {
          "name": "stderr",
          "output_type": "stream",
          "text": [
            "\r 16%|█▌        | 157/999 [12:58<1:10:52,  5.05s/it]"
          ]
        },
        {
          "name": "stdout",
          "output_type": "stream",
          "text": [
            "t_3: 1.2580447279997315\n",
            "step_num:  158\n",
            "t_1: 0.26523915000007037\n",
            "t_2: 3.5921517989995664\n"
          ]
        },
        {
          "name": "stderr",
          "output_type": "stream",
          "text": [
            "\r 16%|█▌        | 158/999 [13:03<1:11:19,  5.09s/it]"
          ]
        },
        {
          "name": "stdout",
          "output_type": "stream",
          "text": [
            "t_3: 1.3312775540002804\n",
            "step_num:  159\n",
            "t_1: 0.26260758399985207\n",
            "t_2: 3.618360495000161\n"
          ]
        },
        {
          "name": "stderr",
          "output_type": "stream",
          "text": [
            "\r 16%|█▌        | 159/999 [13:08<1:11:40,  5.12s/it]"
          ]
        },
        {
          "name": "stdout",
          "output_type": "stream",
          "text": [
            "t_3: 1.3313714219998474\n",
            "step_num:  160\n",
            "t_1: 0.26375570800018977\n",
            "t_2: 3.4177482599998257\n"
          ]
        },
        {
          "name": "stderr",
          "output_type": "stream",
          "text": [
            "\r 16%|█▌        | 160/999 [13:13<1:10:50,  5.07s/it]"
          ]
        },
        {
          "name": "stdout",
          "output_type": "stream",
          "text": [
            "t_3: 1.2693231739999646\n",
            "step_num:  161\n",
            "t_1: 0.25558321400012574\n",
            "t_2: 3.394742090999898\n"
          ]
        },
        {
          "name": "stderr",
          "output_type": "stream",
          "text": [
            "\r 16%|█▌        | 161/999 [13:18<1:10:10,  5.02s/it]"
          ]
        },
        {
          "name": "stdout",
          "output_type": "stream",
          "text": [
            "t_3: 1.286451640999985\n",
            "step_num:  162\n",
            "t_1: 0.25335780799969143\n",
            "t_2: 3.4748286660001213\n"
          ]
        },
        {
          "name": "stderr",
          "output_type": "stream",
          "text": [
            "\r 16%|█▌        | 162/999 [13:23<1:09:55,  5.01s/it]"
          ]
        },
        {
          "name": "stdout",
          "output_type": "stream",
          "text": [
            "t_3: 1.2724801660001503\n",
            "step_num:  163\n",
            "t_1: 0.2476570349999747\n",
            "t_2: 3.4258576739998716\n"
          ]
        },
        {
          "name": "stderr",
          "output_type": "stream",
          "text": [
            "\r 16%|█▋        | 163/999 [13:28<1:09:27,  4.99s/it]"
          ]
        },
        {
          "name": "stdout",
          "output_type": "stream",
          "text": [
            "t_3: 1.268444762999934\n",
            "step_num:  164\n",
            "t_1: 0.25649447700016026\n",
            "t_2: 3.4053730239998004\n"
          ]
        },
        {
          "name": "stderr",
          "output_type": "stream",
          "text": [
            "\r 16%|█▋        | 164/999 [13:33<1:09:10,  4.97s/it]"
          ]
        },
        {
          "name": "stdout",
          "output_type": "stream",
          "text": [
            "t_3: 1.2907449419999466\n",
            "step_num:  165\n",
            "t_1: 0.2576486580001074\n",
            "t_2: 3.4931863199999498\n"
          ]
        },
        {
          "name": "stderr",
          "output_type": "stream",
          "text": [
            "\r 17%|█▋        | 165/999 [13:38<1:09:24,  4.99s/it]"
          ]
        },
        {
          "name": "stdout",
          "output_type": "stream",
          "text": [
            "t_3: 1.313229895999939\n",
            "step_num:  166\n",
            "t_1: 0.2568840949998048\n",
            "t_2: 3.500348774000031\n"
          ]
        },
        {
          "name": "stderr",
          "output_type": "stream",
          "text": [
            "\r 17%|█▋        | 166/999 [13:43<1:09:23,  5.00s/it]"
          ]
        },
        {
          "name": "stdout",
          "output_type": "stream",
          "text": [
            "t_3: 1.265001205000317\n",
            "step_num:  167\n",
            "t_1: 0.25612419900016903\n",
            "t_2: 3.473859480000101\n"
          ]
        },
        {
          "name": "stderr",
          "output_type": "stream",
          "text": [
            "\r 17%|█▋        | 167/999 [13:48<1:09:22,  5.00s/it]"
          ]
        },
        {
          "name": "stdout",
          "output_type": "stream",
          "text": [
            "t_3: 1.302220084000055\n",
            "step_num:  168\n",
            "t_1: 0.255769687999873\n",
            "t_2: 3.528534640000089\n"
          ]
        },
        {
          "name": "stderr",
          "output_type": "stream",
          "text": [
            "\r 17%|█▋        | 168/999 [13:53<1:09:23,  5.01s/it]"
          ]
        },
        {
          "name": "stdout",
          "output_type": "stream",
          "text": [
            "t_3: 1.257862025999657\n",
            "step_num:  169\n",
            "t_1: 0.2657891210001253\n",
            "t_2: 3.469092117999935\n"
          ]
        },
        {
          "name": "stderr",
          "output_type": "stream",
          "text": [
            "\r 17%|█▋        | 169/999 [13:58<1:09:25,  5.02s/it]"
          ]
        },
        {
          "name": "stdout",
          "output_type": "stream",
          "text": [
            "t_3: 1.3135786739999276\n",
            "step_num:  170\n",
            "t_1: 0.2576492979997056\n",
            "t_2: 3.567983465999987\n"
          ]
        },
        {
          "name": "stderr",
          "output_type": "stream",
          "text": [
            "\r 17%|█▋        | 170/999 [14:03<1:09:42,  5.05s/it]"
          ]
        },
        {
          "name": "stdout",
          "output_type": "stream",
          "text": [
            "t_3: 1.2965349310002239\n",
            "step_num:  171\n",
            "t_1: 0.26365618399995583\n",
            "t_2: 3.5520495169998867\n"
          ]
        },
        {
          "name": "stderr",
          "output_type": "stream",
          "text": [
            "\r 17%|█▋        | 171/999 [14:08<1:09:48,  5.06s/it]"
          ]
        },
        {
          "name": "stdout",
          "output_type": "stream",
          "text": [
            "t_3: 1.2956034170001658\n",
            "step_num:  172\n",
            "t_1: 0.2612066289998438\n",
            "t_2: 3.5664108940000006\n"
          ]
        },
        {
          "name": "stderr",
          "output_type": "stream",
          "text": [
            "\r 17%|█▋        | 172/999 [14:13<1:09:45,  5.06s/it]"
          ]
        },
        {
          "name": "stdout",
          "output_type": "stream",
          "text": [
            "t_3: 1.2505090149998068\n",
            "step_num:  173\n",
            "t_1: 0.2637048149999828\n",
            "t_2: 3.4979004100000566\n"
          ]
        },
        {
          "name": "stderr",
          "output_type": "stream",
          "text": [
            "\r 17%|█▋        | 173/999 [14:18<1:09:37,  5.06s/it]"
          ]
        },
        {
          "name": "stdout",
          "output_type": "stream",
          "text": [
            "t_3: 1.3061414740000146\n",
            "step_num:  174\n",
            "t_1: 0.25807347299996763\n",
            "t_2: 3.5672162500000013\n"
          ]
        },
        {
          "name": "stderr",
          "output_type": "stream",
          "text": [
            "\r 17%|█▋        | 174/999 [14:24<1:09:32,  5.06s/it]"
          ]
        },
        {
          "name": "stdout",
          "output_type": "stream",
          "text": [
            "t_3: 1.2411999250002737\n",
            "step_num:  175\n",
            "t_1: 0.2597549230004006\n",
            "t_2: 3.4991272729998855\n"
          ]
        },
        {
          "name": "stderr",
          "output_type": "stream",
          "text": [
            "\r 18%|█▊        | 175/999 [14:29<1:09:14,  5.04s/it]"
          ]
        },
        {
          "name": "stdout",
          "output_type": "stream",
          "text": [
            "t_3: 1.2606093300000794\n",
            "step_num:  176\n",
            "t_1: 0.25845497199998135\n",
            "t_2: 3.372073601000011\n"
          ]
        },
        {
          "name": "stderr",
          "output_type": "stream",
          "text": [
            "\r 18%|█▊        | 176/999 [14:33<1:08:36,  5.00s/it]"
          ]
        },
        {
          "name": "stdout",
          "output_type": "stream",
          "text": [
            "t_3: 1.2872076610001386\n",
            "step_num:  177\n",
            "t_1: 0.2506333110000014\n",
            "t_2: 3.3688000439997268\n"
          ]
        },
        {
          "name": "stderr",
          "output_type": "stream",
          "text": [
            "\r 18%|█▊        | 177/999 [14:38<1:08:08,  4.97s/it]"
          ]
        },
        {
          "name": "stdout",
          "output_type": "stream",
          "text": [
            "t_3: 1.3010832760000994\n",
            "step_num:  178\n",
            "t_1: 0.25443145899998854\n",
            "t_2: 3.3640516880000177\n"
          ]
        },
        {
          "name": "stderr",
          "output_type": "stream",
          "text": [
            "\r 18%|█▊        | 178/999 [14:43<1:07:35,  4.94s/it]"
          ]
        },
        {
          "name": "stdout",
          "output_type": "stream",
          "text": [
            "t_3: 1.2462857649998114\n",
            "step_num:  179\n",
            "t_1: 0.2521961019997434\n",
            "t_2: 3.3338996900001803\n"
          ]
        },
        {
          "name": "stderr",
          "output_type": "stream",
          "text": [
            "\r 18%|█▊        | 179/999 [14:48<1:06:58,  4.90s/it]"
          ]
        },
        {
          "name": "stdout",
          "output_type": "stream",
          "text": [
            "t_3: 1.2375773359999584\n",
            "step_num:  180\n",
            "t_1: 0.2579220229999919\n",
            "t_2: 3.3392576080000254\n"
          ]
        },
        {
          "name": "stderr",
          "output_type": "stream",
          "text": [
            "\r 18%|█▊        | 180/999 [14:53<1:06:43,  4.89s/it]"
          ]
        },
        {
          "name": "stdout",
          "output_type": "stream",
          "text": [
            "t_3: 1.27636511899982\n",
            "step_num:  181\n",
            "t_1: 0.2518867290000344\n",
            "t_2: 3.335021577000134\n"
          ]
        },
        {
          "name": "stderr",
          "output_type": "stream",
          "text": [
            "\r 18%|█▊        | 181/999 [14:58<1:06:22,  4.87s/it]"
          ]
        },
        {
          "name": "stdout",
          "output_type": "stream",
          "text": [
            "t_3: 1.2479109440000684\n",
            "step_num:  182\n",
            "t_1: 0.24962380299984943\n",
            "t_2: 3.4050453340000786\n"
          ]
        },
        {
          "name": "stderr",
          "output_type": "stream",
          "text": [
            "\r 18%|█▊        | 182/999 [15:03<1:06:27,  4.88s/it]"
          ]
        },
        {
          "name": "stdout",
          "output_type": "stream",
          "text": [
            "t_3: 1.2659862669997892\n",
            "step_num:  183\n",
            "t_1: 0.2603332580001734\n",
            "t_2: 3.440495763999934\n"
          ]
        },
        {
          "name": "stderr",
          "output_type": "stream",
          "text": [
            "\r 18%|█▊        | 183/999 [15:08<1:06:53,  4.92s/it]"
          ]
        },
        {
          "name": "stdout",
          "output_type": "stream",
          "text": [
            "t_3: 1.3046062260000326\n",
            "step_num:  184\n",
            "t_1: 0.24934972900018693\n",
            "t_2: 3.406973457999811\n"
          ]
        },
        {
          "name": "stderr",
          "output_type": "stream",
          "text": [
            "\r 18%|█▊        | 184/999 [15:13<1:06:47,  4.92s/it]"
          ]
        },
        {
          "name": "stdout",
          "output_type": "stream",
          "text": [
            "t_3: 1.2734435130000747\n",
            "step_num:  185\n",
            "t_1: 0.25455020499975944\n",
            "t_2: 3.373471772999892\n"
          ]
        },
        {
          "name": "stderr",
          "output_type": "stream",
          "text": [
            "\r 19%|█▊        | 185/999 [15:17<1:06:30,  4.90s/it]"
          ]
        },
        {
          "name": "stdout",
          "output_type": "stream",
          "text": [
            "t_3: 1.2418606720002572\n",
            "step_num:  186\n",
            "t_1: 0.25885198899959505\n",
            "t_2: 3.318439285000295\n"
          ]
        },
        {
          "name": "stderr",
          "output_type": "stream",
          "text": [
            "\r 19%|█▊        | 186/999 [15:22<1:06:19,  4.89s/it]"
          ]
        },
        {
          "name": "stdout",
          "output_type": "stream",
          "text": [
            "t_3: 1.3119766149998213\n",
            "step_num:  187\n",
            "t_1: 0.25475572899995313\n",
            "t_2: 3.523901331000161\n"
          ]
        },
        {
          "name": "stderr",
          "output_type": "stream",
          "text": [
            "\r 19%|█▊        | 187/999 [15:27<1:07:04,  4.96s/it]"
          ]
        },
        {
          "name": "stdout",
          "output_type": "stream",
          "text": [
            "t_3: 1.3343618750000132\n",
            "step_num:  188\n",
            "t_1: 0.25244933500016487\n",
            "t_2: 3.519120510999983\n"
          ]
        },
        {
          "name": "stderr",
          "output_type": "stream",
          "text": [
            "\r 19%|█▉        | 188/999 [15:32<1:07:21,  4.98s/it]"
          ]
        },
        {
          "name": "stdout",
          "output_type": "stream",
          "text": [
            "t_3: 1.2880047059998105\n",
            "step_num:  189\n",
            "t_1: 0.25962866100007886\n",
            "t_2: 3.5887340429999313\n"
          ]
        },
        {
          "name": "stderr",
          "output_type": "stream",
          "text": [
            "\r 19%|█▉        | 189/999 [15:38<1:07:47,  5.02s/it]"
          ]
        },
        {
          "name": "stdout",
          "output_type": "stream",
          "text": [
            "t_3: 1.2795537670003796\n",
            "step_num:  190\n",
            "t_1: 0.2557113349998872\n",
            "t_2: 3.5152936680001403\n"
          ]
        },
        {
          "name": "stderr",
          "output_type": "stream",
          "text": [
            "\r 19%|█▉        | 190/999 [15:43<1:07:40,  5.02s/it]"
          ]
        },
        {
          "name": "stdout",
          "output_type": "stream",
          "text": [
            "t_3: 1.2571020840000529\n",
            "step_num:  191\n",
            "t_1: 0.25184546399987084\n",
            "t_2: 3.3362043689999155\n"
          ]
        },
        {
          "name": "stderr",
          "output_type": "stream",
          "text": [
            "\r 19%|█▉        | 191/999 [15:47<1:06:52,  4.97s/it]"
          ]
        },
        {
          "name": "stdout",
          "output_type": "stream",
          "text": [
            "t_3: 1.269021463000172\n",
            "step_num:  192\n",
            "t_1: 0.2648097650003365\n",
            "t_2: 3.361737743000049\n"
          ]
        },
        {
          "name": "stderr",
          "output_type": "stream",
          "text": [
            "\r 19%|█▉        | 192/999 [15:52<1:06:45,  4.96s/it]"
          ]
        },
        {
          "name": "stdout",
          "output_type": "stream",
          "text": [
            "t_3: 1.3419842849998531\n",
            "step_num:  193\n",
            "t_1: 0.24922207000008711\n",
            "t_2: 3.3641147560001627\n"
          ]
        },
        {
          "name": "stderr",
          "output_type": "stream",
          "text": [
            "\r 19%|█▉        | 193/999 [15:57<1:06:16,  4.93s/it]"
          ]
        },
        {
          "name": "stdout",
          "output_type": "stream",
          "text": [
            "t_3: 1.265657076000025\n",
            "step_num:  194\n",
            "t_1: 0.2606191019999642\n",
            "t_2: 3.3247418240002844\n"
          ]
        },
        {
          "name": "stderr",
          "output_type": "stream",
          "text": [
            "\r 19%|█▉        | 194/999 [16:02<1:05:47,  4.90s/it]"
          ]
        },
        {
          "name": "stdout",
          "output_type": "stream",
          "text": [
            "t_3: 1.2663554349996957\n",
            "step_num:  195\n",
            "t_1: 0.2618797499999346\n",
            "t_2: 3.445911727999828\n"
          ]
        },
        {
          "name": "stderr",
          "output_type": "stream",
          "text": [
            "\r 20%|█▉        | 195/999 [16:07<1:06:06,  4.93s/it]"
          ]
        },
        {
          "name": "stdout",
          "output_type": "stream",
          "text": [
            "t_3: 1.316417265000382\n",
            "step_num:  196\n",
            "t_1: 0.2551977729999635\n",
            "t_2: 3.4813593139997465\n"
          ]
        },
        {
          "name": "stderr",
          "output_type": "stream",
          "text": [
            "\r 20%|█▉        | 196/999 [16:12<1:06:19,  4.96s/it]"
          ]
        },
        {
          "name": "stdout",
          "output_type": "stream",
          "text": [
            "t_3: 1.2882907880002676\n",
            "step_num:  197\n",
            "t_1: 0.24881400500044037\n",
            "t_2: 3.5136408439998377\n"
          ]
        },
        {
          "name": "stderr",
          "output_type": "stream",
          "text": [
            "\r 20%|█▉        | 197/999 [16:17<1:06:28,  4.97s/it]"
          ]
        },
        {
          "name": "stdout",
          "output_type": "stream",
          "text": [
            "t_3: 1.2680462429998443\n",
            "step_num:  198\n",
            "t_1: 0.25112175499998557\n",
            "t_2: 3.503318679000131\n"
          ]
        },
        {
          "name": "stderr",
          "output_type": "stream",
          "text": [
            "\r 20%|█▉        | 198/999 [16:22<1:06:26,  4.98s/it]"
          ]
        },
        {
          "name": "stdout",
          "output_type": "stream",
          "text": [
            "t_3: 1.2484480799998892\n",
            "step_num:  199\n",
            "t_1: 0.2621889269998974\n",
            "t_2: 3.5518535259998316\n"
          ]
        },
        {
          "name": "stderr",
          "output_type": "stream",
          "text": [
            "\r 20%|█▉        | 199/999 [16:27<1:06:38,  5.00s/it]"
          ]
        },
        {
          "name": "stdout",
          "output_type": "stream",
          "text": [
            "t_3: 1.25157828600004\n",
            "step_num:  200\n",
            "t_1: 0.2582943659999728\n",
            "t_2: 3.441639604000102\n"
          ]
        },
        {
          "name": "stderr",
          "output_type": "stream",
          "text": [
            "\r 20%|██        | 200/999 [16:32<1:06:31,  5.00s/it]"
          ]
        },
        {
          "name": "stdout",
          "output_type": "stream",
          "text": [
            "t_3: 1.3005849259998286\n",
            "step_num:  201\n",
            "t_1: 0.2560202320000826\n",
            "t_2: 3.506111875999977\n"
          ]
        },
        {
          "name": "stderr",
          "output_type": "stream",
          "text": [
            "\r 20%|██        | 201/999 [16:37<1:06:41,  5.01s/it]"
          ]
        },
        {
          "name": "stdout",
          "output_type": "stream",
          "text": [
            "t_3: 1.300993866999761\n",
            "step_num:  202\n",
            "t_1: 0.2566087179998249\n",
            "t_2: 3.589991552000356\n"
          ]
        },
        {
          "name": "stderr",
          "output_type": "stream",
          "text": [
            "\r 20%|██        | 202/999 [16:42<1:07:14,  5.06s/it]"
          ]
        },
        {
          "name": "stdout",
          "output_type": "stream",
          "text": [
            "t_3: 1.3465130509998744\n",
            "step_num:  203\n",
            "t_1: 0.25537596699996357\n",
            "t_2: 3.616921315000127\n"
          ]
        },
        {
          "name": "stderr",
          "output_type": "stream",
          "text": [
            "\r 20%|██        | 203/999 [16:48<1:07:45,  5.11s/it]"
          ]
        },
        {
          "name": "stdout",
          "output_type": "stream",
          "text": [
            "t_3: 1.3325132810000468\n",
            "step_num:  204\n",
            "t_1: 0.24988987599999746\n",
            "t_2: 3.5078094620002958\n"
          ]
        },
        {
          "name": "stderr",
          "output_type": "stream",
          "text": [
            "\r 20%|██        | 204/999 [16:53<1:07:27,  5.09s/it]"
          ]
        },
        {
          "name": "stdout",
          "output_type": "stream",
          "text": [
            "t_3: 1.3054697759998817\n",
            "step_num:  205\n",
            "t_1: 0.25695085300003484\n",
            "t_2: 3.3618582540002535\n"
          ]
        },
        {
          "name": "stderr",
          "output_type": "stream",
          "text": [
            "\r 21%|██        | 205/999 [16:58<1:07:40,  5.11s/it]"
          ]
        },
        {
          "name": "stdout",
          "output_type": "stream",
          "text": [
            "t_3: 1.4130408040000475\n",
            "step_num:  206\n",
            "t_1: 0.35599456999989343\n",
            "t_2: 4.545149637000122\n"
          ]
        },
        {
          "name": "stderr",
          "output_type": "stream",
          "text": [
            "\r 21%|██        | 206/999 [17:07<1:24:49,  6.42s/it]"
          ]
        },
        {
          "name": "stdout",
          "output_type": "stream",
          "text": [
            "t_3: 1.9166748150000785\n",
            "step_num:  207\n",
            "t_1: 0.26074191499992594\n",
            "t_2: 3.554557935000048\n"
          ]
        },
        {
          "name": "stderr",
          "output_type": "stream",
          "text": [
            "\r 21%|██        | 207/999 [17:12<1:19:37,  6.03s/it]"
          ]
        },
        {
          "name": "stdout",
          "output_type": "stream",
          "text": [
            "t_3: 1.3262833079998018\n",
            "step_num:  208\n",
            "t_1: 0.2581688740001482\n",
            "t_2: 3.5384336689999145\n"
          ]
        },
        {
          "name": "stderr",
          "output_type": "stream",
          "text": [
            "\r 21%|██        | 208/999 [17:17<1:15:53,  5.76s/it]"
          ]
        },
        {
          "name": "stdout",
          "output_type": "stream",
          "text": [
            "t_3: 1.3280378869999367\n",
            "step_num:  209\n",
            "t_1: 0.26404271799992785\n",
            "t_2: 3.5736228310001934\n"
          ]
        },
        {
          "name": "stderr",
          "output_type": "stream",
          "text": [
            "\r 21%|██        | 209/999 [17:23<1:13:17,  5.57s/it]"
          ]
        },
        {
          "name": "stdout",
          "output_type": "stream",
          "text": [
            "t_3: 1.2974814220001463\n",
            "step_num:  210\n",
            "t_1: 0.26351236500022424\n"
          ]
        },
        {
          "name": "stderr",
          "output_type": "stream",
          "text": [
            "\r 21%|██        | 209/999 [17:25<1:05:53,  5.00s/it]\n"
          ]
        },
        {
          "ename": "KeyboardInterrupt",
          "evalue": "ignored",
          "output_type": "error",
          "traceback": [
            "\u001b[0;31m---------------------------------------------------------------------------\u001b[0m",
            "\u001b[0;31mKeyboardInterrupt\u001b[0m                         Traceback (most recent call last)",
            "\u001b[0;32m<ipython-input-27-5f9caf33f844>\u001b[0m in \u001b[0;36m<module>\u001b[0;34m\u001b[0m\n\u001b[1;32m      3\u001b[0m   \u001b[0;31m# print(\"i:\",i)\u001b[0m\u001b[0;34m\u001b[0m\u001b[0;34m\u001b[0m\u001b[0;34m\u001b[0m\u001b[0m\n\u001b[1;32m      4\u001b[0m   \u001b[0mchain_accepted_state\u001b[0m\u001b[0;34m=\u001b[0m\u001b[0mdict_seperate_chains_accepted_mcmc\u001b[0m\u001b[0;34m[\u001b[0m\u001b[0mi\u001b[0m\u001b[0;34m]\u001b[0m\u001b[0;34m\u001b[0m\u001b[0;34m\u001b[0m\u001b[0m\n\u001b[0;32m----> 5\u001b[0;31m   \u001b[0mrunning_js\u001b[0m\u001b[0;34m=\u001b[0m\u001b[0mrunning_js_divergence\u001b[0m\u001b[0;34m(\u001b[0m\u001b[0mchain_accepted_state\u001b[0m\u001b[0;34m,\u001b[0m\u001b[0mbpd\u001b[0m\u001b[0;34m)\u001b[0m\u001b[0;34m\u001b[0m\u001b[0;34m\u001b[0m\u001b[0m\n\u001b[0m\u001b[1;32m      6\u001b[0m   \u001b[0mlist_running_js\u001b[0m\u001b[0;34m.\u001b[0m\u001b[0mappend\u001b[0m\u001b[0;34m(\u001b[0m\u001b[0mrunning_js\u001b[0m\u001b[0;34m)\u001b[0m\u001b[0;34m\u001b[0m\u001b[0;34m\u001b[0m\u001b[0m\n\u001b[1;32m      7\u001b[0m   \u001b[0mplt\u001b[0m\u001b[0;34m.\u001b[0m\u001b[0mfigure\u001b[0m\u001b[0;34m(\u001b[0m\u001b[0;34m)\u001b[0m\u001b[0;34m\u001b[0m\u001b[0;34m\u001b[0m\u001b[0m\n",
            "\u001b[0;32m<ipython-input-26-4f50a354d178>\u001b[0m in \u001b[0;36mrunning_js_divergence\u001b[0;34m(list_chain_state_accepted, actual_boltz_distn)\u001b[0m\n\u001b[1;32m     36\u001b[0m     \u001b[0mdict_states_not_obtained\u001b[0m\u001b[0;34m=\u001b[0m\u001b[0mdict\u001b[0m\u001b[0;34m(\u001b[0m\u001b[0mzip\u001b[0m\u001b[0;34m(\u001b[0m\u001b[0mlist_states_not_present\u001b[0m\u001b[0;34m,\u001b[0m \u001b[0;34m[\u001b[0m\u001b[0;36m0\u001b[0m\u001b[0;34m]\u001b[0m\u001b[0;34m*\u001b[0m\u001b[0mlen\u001b[0m\u001b[0;34m(\u001b[0m\u001b[0mlist_states_not_present\u001b[0m\u001b[0;34m)\u001b[0m \u001b[0;34m)\u001b[0m\u001b[0;34m)\u001b[0m\u001b[0;34m\u001b[0m\u001b[0;34m\u001b[0m\u001b[0m\n\u001b[1;32m     37\u001b[0m     \u001b[0mtemp_distn_model\u001b[0m\u001b[0;34m=\u001b[0m\u001b[0mmerge_2_dict\u001b[0m\u001b[0;34m(\u001b[0m\u001b[0mget_distn\u001b[0m\u001b[0;34m(\u001b[0m\u001b[0mlist_chain_state_accepted\u001b[0m\u001b[0;34m[\u001b[0m\u001b[0;34m:\u001b[0m\u001b[0mstep_num\u001b[0m\u001b[0;34m]\u001b[0m\u001b[0;34m)\u001b[0m\u001b[0;34m,\u001b[0m\u001b[0mdict_states_not_obtained\u001b[0m\u001b[0;34m)\u001b[0m\u001b[0;34m\u001b[0m\u001b[0;34m\u001b[0m\u001b[0m\n\u001b[0;32m---> 38\u001b[0;31m     \u001b[0mtemp_distn_model\u001b[0m\u001b[0;34m=\u001b[0m\u001b[0msort_dict_by_keys\u001b[0m\u001b[0;34m(\u001b[0m\u001b[0mtemp_distn_model\u001b[0m\u001b[0;34m)\u001b[0m\u001b[0;31m#arranged in ascedning order of keys\u001b[0m\u001b[0;34m\u001b[0m\u001b[0;34m\u001b[0m\u001b[0m\n\u001b[0m\u001b[1;32m     39\u001b[0m \u001b[0;34m\u001b[0m\u001b[0m\n\u001b[1;32m     40\u001b[0m     \u001b[0mt2\u001b[0m \u001b[0;34m=\u001b[0m \u001b[0mtime\u001b[0m\u001b[0;34m.\u001b[0m\u001b[0mprocess_time\u001b[0m\u001b[0;34m(\u001b[0m\u001b[0;34m)\u001b[0m\u001b[0;34m\u001b[0m\u001b[0;34m\u001b[0m\u001b[0m\n",
            "\u001b[0;32m<ipython-input-13-59923ba3c224>\u001b[0m in \u001b[0;36msort_dict_by_keys\u001b[0;34m(dict_in)\u001b[0m\n\u001b[1;32m      8\u001b[0m \u001b[0;32mdef\u001b[0m \u001b[0msort_dict_by_keys\u001b[0m\u001b[0;34m(\u001b[0m\u001b[0mdict_in\u001b[0m\u001b[0;34m:\u001b[0m\u001b[0mdict\u001b[0m\u001b[0;34m)\u001b[0m\u001b[0;34m:\u001b[0m\u001b[0;34m\u001b[0m\u001b[0;34m\u001b[0m\u001b[0m\n\u001b[1;32m      9\u001b[0m   \u001b[0;32mfrom\u001b[0m \u001b[0mcollections\u001b[0m \u001b[0;32mimport\u001b[0m \u001b[0mOrderedDict\u001b[0m\u001b[0;34m\u001b[0m\u001b[0;34m\u001b[0m\u001b[0m\n\u001b[0;32m---> 10\u001b[0;31m   \u001b[0;32mreturn\u001b[0m \u001b[0mdict\u001b[0m\u001b[0;34m(\u001b[0m\u001b[0mOrderedDict\u001b[0m\u001b[0;34m(\u001b[0m\u001b[0msorted\u001b[0m\u001b[0;34m(\u001b[0m\u001b[0mdict_in\u001b[0m\u001b[0;34m.\u001b[0m\u001b[0mitems\u001b[0m\u001b[0;34m(\u001b[0m\u001b[0;34m)\u001b[0m\u001b[0;34m)\u001b[0m\u001b[0;34m)\u001b[0m\u001b[0;34m)\u001b[0m\u001b[0;34m\u001b[0m\u001b[0;34m\u001b[0m\u001b[0m\n\u001b[0m\u001b[1;32m     11\u001b[0m \u001b[0;34m\u001b[0m\u001b[0m\n\u001b[1;32m     12\u001b[0m \u001b[0;31m# some changes in clasical mcmc\u001b[0m\u001b[0;34m\u001b[0m\u001b[0;34m\u001b[0m\u001b[0;34m\u001b[0m\u001b[0m\n",
            "\u001b[0;31mKeyboardInterrupt\u001b[0m: "
          ]
        }
      ],
      "source": [
        "list_running_js=[]\n",
        "for i in range(0,num_seperate_mcmc_chains):# need to make this fast! it running very slowly rn\n",
        "  # print(\"i:\",i)\n",
        "  chain_accepted_state=dict_seperate_chains_accepted_mcmc[i]\n",
        "  running_js=running_js_divergence(chain_accepted_state,bpd)\n",
        "  list_running_js.append(running_js)\n",
        "  plt.figure()\n",
        "  plt.plot(np.sqrt(running_js))\n",
        "  plt.xlabel(\"mcmc steps\")\n",
        "  plt.ylabel(\"J-S Distance\")"
      ]
    },
    {
      "cell_type": "code",
      "execution_count": null,
      "metadata": {
        "id": "qPzcsTLL63Fx"
      },
      "outputs": [],
      "source": [
        "def plot_mean_running_avg(list_of_list:list, label:str):\n",
        "  mean_running_val=np.mean(np.sqrt(list_of_list),axis=0)\n",
        "  std=np.std(np.sqrt(list_of_list),axis=0)\n",
        "  plt.fill_between(range(len(mean_running_val)), mean_running_val+std/2, mean_running_val-std/2, alpha=0.1)\n",
        "  plt.plot(mean_running_val,\"-\",label=label, linewidth=2)"
      ]
    },
    {
      "cell_type": "code",
      "execution_count": null,
      "metadata": {
        "colab": {
          "base_uri": "https://localhost:8080/",
          "height": 297
        },
        "id": "2_uKweuoTiql",
        "outputId": "676ca03d-e82c-4247-f2bb-f1f2bbfacd9c"
      },
      "outputs": [
        {
          "data": {
            "text/plain": [
              "<matplotlib.legend.Legend at 0x7f5c135c9790>"
            ]
          },
          "execution_count": 98,
          "metadata": {},
          "output_type": "execute_result"
        },
        {
          "data": {
            "image/png": "[encoded data removed]",
            "text/plain": [
              "<Figure size 432x288 with 1 Axes>"
            ]
          },
          "metadata": {
            "needs_background": "light"
          },
          "output_type": "display_data"
        }
      ],
      "source": [
        "plot_mean_running_avg(list_running_js,label=\"cl mcmc\")\n",
        "plt.xlabel(\"mcmc iter\");plt.ylabel(\"JS Distance\");plt.legend()"
      ]
    },
    {
      "cell_type": "code",
      "execution_count": null,
      "metadata": {
        "id": "FHxrMf5ActB8",
        "tags": []
      },
      "outputs": [],
      "source": [
        "### data for plotting running average magnetization (averaged over \"num_seperate_mcmc_chains\" number of mcmc chains):\n",
        "first_few=N_hops# \n",
        "\n",
        "list_for_df_running_avg_seperate_mcmc = []\n",
        "for m in range(0, num_seperate_mcmc_chains):\n",
        "    list_for_df_running_avg_seperate_mcmc.append(running_avg_magnetization_as_list(dict_seperate_chains_accepted_mcmc[m][:first_few+1]))"
      ]
    },
    {
      "cell_type": "code",
      "execution_count": null,
      "metadata": {
        "colab": {
          "base_uri": "https://localhost:8080/",
          "height": 283
        },
        "id": "pSFcxIerRTLM",
        "outputId": "50794ccf-3a9c-41b8-820e-f0b996ba7316"
      },
      "outputs": [
        {
          "data": {
            "image/png": "[encoded data removed]",
            "text/plain": [
              "<Figure size 432x288 with 1 Axes>"
            ]
          },
          "metadata": {
            "needs_background": "light"
          },
          "output_type": "display_data"
        }
      ],
      "source": [
        "mean_magnetization = np.mean(list_for_df_running_avg_seperate_mcmc, axis=0) - actual_avg_mag\n",
        "std_magnetization = np.std(list_for_df_running_avg_seperate_mcmc, axis=0)\n",
        "plt.fill_between(range(len(mean_magnetization)), mean_magnetization+std_magnetization/2, mean_magnetization-std_magnetization/2, alpha=0.1)\n",
        "\n",
        "plt.plot(mean_magnetization,\":\" ,label=\"Cl mcmc\", linewidth=2)\n",
        "\n",
        "plt.axhline(y=0,linestyle=\"-\", color=\"k\" ,label=\"Actual\")\n",
        "plt.legend()\n",
        "# plt.ylim(0, 3)\n",
        "plt.ylabel(\"Magnetization error\")\n",
        "plt.xlabel(\"MCMC steps\")\n",
        "plt.xscale(\"log\")\n",
        "# plt.yscale(\"log\")\n",
        "# plt.ylim(1e-2, 3)\n",
        "plt.show()\n"
      ]
    },
    {
      "cell_type": "code",
      "execution_count": null,
      "metadata": {
        "id": "sDaxuS9BctB9"
      },
      "outputs": [],
      "source": [
        "# pandas data_frame for prob distn obtained from different mcmc chains\n",
        "def fn_get_dataframe_diff_mcmc_chains_same_problem_instance(dict_seperate_chains_states_mcmc):\n",
        "    df=pd.DataFrame(dict_seperate_chains_states_mcmc)\n",
        "    df=df.fillna(0)\n",
        "    return df\n",
        "\n",
        "def get_dict_mean_occurences(df_seperate_chains_mcmc_states_occurences):\n",
        "    mean_occurences=df_seperate_chains_mcmc_states_occurences.mean(axis=1)\n",
        "    #print(\"mean occurences:\"); print(mean_occurences)\n",
        "    #print(f\"type(mean_occurences): {type(mean_occurences)}\")\n",
        "    dict_mean_occurences=mean_occurences.to_dict()# mean number of occurences; we took mean of data obtained for mcmc chains\n",
        "    # plt.figure(1); mean_occurences.plot.bar()\n",
        "    return dict_mean_occurences\n",
        "\n",
        "def get_empirical_distn(dict_mean_occurences):\n",
        "    sum_of_counts = sum(dict_mean_occurences.values())\n",
        "    empirical_probs=list(np.array(list(dict_mean_occurences.values()))/sum_of_counts)\n",
        "    ### Prob distribution, sorted in descending order of prob values\n",
        "    dict_empirical_prob_distn=dict(zip(list(dict_mean_occurences.keys()), empirical_probs ))\n",
        "    return dict_empirical_prob_distn\n",
        "\n",
        "\n"
      ]
    },
    {
      "cell_type": "code",
      "execution_count": null,
      "metadata": {
        "colab": {
          "base_uri": "https://localhost:8080/",
          "height": 487
        },
        "id": "G8UZANBnctB-",
        "outputId": "38d5e6fe-020c-4eb6-d56e-004124ab9780"
      },
      "outputs": [
        {
          "data": {
            "text/plain": [
              "<Figure size 432x288 with 0 Axes>"
            ]
          },
          "metadata": {},
          "output_type": "display_data"
        },
        {
          "data": {
            "image/png": "[encoded data removed]",
            "text/plain": [
              "<Figure size 720x504 with 1 Axes>"
            ]
          },
          "metadata": {
            "needs_background": "light"
          },
          "output_type": "display_data"
        }
      ],
      "source": [
        "### for classical mcmc\n",
        "df_1=fn_get_dataframe_diff_mcmc_chains_same_problem_instance(dict_seperate_chains_states_distn_mcmc)\n",
        "dict_mean_occurences=get_dict_mean_occurences(df_1)\n",
        "dict_empirical_cl_prob_distn=get_empirical_distn(dict_mean_occurences)\n",
        "\n",
        "plt.figure(1)\n",
        "plot_multiple_bargraphs(list_of_dicts=[boltz_prob_distn, dict_empirical_cl_prob_distn],\n",
        "                        list_labels=[\"analytical\",\"classical-uniform MCMC\"],\n",
        "                        list_normalise=[False,False] ,plot_first_few=16,  \n",
        "                        sort_desc=True,figsize=(10,7))"
      ]
    },
    {
      "cell_type": "code",
      "execution_count": null,
      "metadata": {
        "colab": {
          "base_uri": "https://localhost:8080/"
        },
        "id": "KyS-4_r1ctCA",
        "outputId": "374fb60f-b802-4320-bf57-c9e5300cff1a"
      },
      "outputs": [
        {
          "data": {
            "text/plain": [
              "0.2762100972848577"
            ]
          },
          "execution_count": 104,
          "metadata": {},
          "output_type": "execute_result"
        }
      ],
      "source": [
        "np.sqrt(js_divergence(boltz_prob_distn,dict_empirical_cl_prob_distn))"
      ]
    },
    {
      "cell_type": "markdown",
      "metadata": {
        "id": "xD-dnVTbctCB"
      },
      "source": [
        "### Quantum enhanced MCMC"
      ]
    },
    {
      "cell_type": "code",
      "execution_count": null,
      "metadata": {
        "id": "jEKd8YaectCC",
        "scrolled": true,
        "tags": []
      },
      "outputs": [],
      "source": [
        "# 10 seperate chains of quantum mcmc for the given problem instance\n",
        "N_hops_q=1000;num_seperate_mcmc_chains_q=4; return_last_n_states_q=N_hops_q\n",
        "dict_seperate_chains_states_distn_mcmc_q, dict_seperate_chains_sprime_mcmc_q, dict_seperate_chains_accepted_mcmc_q, dict_seperate_chains_energy_diff_s_and_sprime_q,dict_seperate_chains_counts_based_on_hamming_dist_q=run_mcmc_different_chains(n_spins, \n",
        "N_hops_q, num_seperate_mcmc_chains_q,\n",
        "model, temp=temp, return_last_n_states=return_last_n_states_q,\n",
        "return_both=True, is_quantum_mcmc=True, alpha=alpha )"
      ]
    },
    {
      "cell_type": "code",
      "execution_count": null,
      "metadata": {
        "colab": {
          "base_uri": "https://localhost:8080/",
          "height": 1000
        },
        "id": "FjePWBsk_TVV",
        "outputId": "cba160a6-f48b-4fc6-d382-f3d27b688c2b"
      },
      "outputs": [
        {
          "name": "stdout",
          "output_type": "stream",
          "text": [
            "i: 0\n",
            "i: 1\n",
            "i: 2\n",
            "i: 3\n"
          ]
        },
        {
          "data": {
            "image/png": "[encoded data removed]",
            "text/plain": [
              "<Figure size 432x288 with 1 Axes>"
            ]
          },
          "metadata": {
            "needs_background": "light"
          },
          "output_type": "display_data"
        },
        {
          "data": {
            "image/png": "[encoded data removed]",
            "text/plain": [
              "<Figure size 432x288 with 1 Axes>"
            ]
          },
          "metadata": {
            "needs_background": "light"
          },
          "output_type": "display_data"
        },
        {
          "data": {
            "image/png": "[encoded data removed]",
            "text/plain": [
              "<Figure size 432x288 with 1 Axes>"
            ]
          },
          "metadata": {
            "needs_background": "light"
          },
          "output_type": "display_data"
        },
        {
          "data": {
            "image/png": "[encoded data removed]",
            "text/plain": [
              "<Figure size 432x288 with 1 Axes>"
            ]
          },
          "metadata": {
            "needs_background": "light"
          },
          "output_type": "display_data"
        }
      ],
      "source": [
        "list_running_js_q=[]\n",
        "for i in range(0,num_seperate_mcmc_chains):\n",
        "  print(\"i:\",i)\n",
        "  chain_accepted_state_q=dict_seperate_chains_accepted_mcmc_q[i]\n",
        "  running_js_q=running_js_divergence(chain_accepted_state_q,bpd)\n",
        "  list_running_js_q.append(running_js_q)\n",
        "  plt.figure()\n",
        "  plt.plot(np.sqrt(running_js_q))\n",
        "  plt.xlabel(\"mcmc steps\")\n",
        "  plt.ylabel(\"J-S Distance\")"
      ]
    },
    {
      "cell_type": "code",
      "execution_count": null,
      "metadata": {
        "colab": {
          "base_uri": "https://localhost:8080/",
          "height": 297
        },
        "id": "AyS1e-n1_TMv",
        "outputId": "f0b5fb39-40ef-42a2-f1c5-cbb7fdf009c6"
      },
      "outputs": [
        {
          "data": {
            "text/plain": [
              "<matplotlib.legend.Legend at 0x7f5c187a7910>"
            ]
          },
          "execution_count": 106,
          "metadata": {},
          "output_type": "execute_result"
        },
        {
          "data": {
            "image/png": "[encoded data removed]",
            "text/plain": [
              "<Figure size 432x288 with 1 Axes>"
            ]
          },
          "metadata": {
            "needs_background": "light"
          },
          "output_type": "display_data"
        }
      ],
      "source": [
        "plot_mean_running_avg(list_running_js_q,label=\"q mcmc\")\n",
        "plot_mean_running_avg(list_running_js,label=\"cl mcmc\")\n",
        "plt.xlabel(\"mcmc iter\");plt.ylabel(\"JS Distance\");plt.legend()"
      ]
    },
    {
      "cell_type": "code",
      "execution_count": null,
      "metadata": {
        "id": "H7uFqY-ZRTLR"
      },
      "outputs": [],
      "source": [
        "### data for plotting running average magnetization 5 cases seperately:\n",
        "first_few=N_hops_q# \n",
        "list_for_df_running_avg_seperate_mcmc_q = []\n",
        "for m in range(0, num_seperate_mcmc_chains_q):\n",
        "    list_for_df_running_avg_seperate_mcmc_q.append(running_avg_magnetization_as_list(dict_seperate_chains_accepted_mcmc_q[m][:first_few+1]))\n"
      ]
    },
    {
      "cell_type": "code",
      "execution_count": null,
      "metadata": {
        "colab": {
          "base_uri": "https://localhost:8080/",
          "height": 442
        },
        "id": "droVL2bKctCF",
        "outputId": "49f65616-9a9b-44b0-b9a4-bbfe06dc1b27"
      },
      "outputs": [
        {
          "data": {
            "image/png": "[encoded data removed]",
            "text/plain": [
              "<Figure size 720x504 with 1 Axes>"
            ]
          },
          "metadata": {
            "needs_background": "light"
          },
          "output_type": "display_data"
        }
      ],
      "source": [
        "mean_magnetization_q = np.mean(list_for_df_running_avg_seperate_mcmc_q, axis=0) - actual_avg_mag\n",
        "std_magnetization_q = np.std(list_for_df_running_avg_seperate_mcmc_q, axis=0)\n",
        "\n",
        "plt.figure(figsize=(10,7))\n",
        "\n",
        "plt.fill_between(range(len(mean_magnetization)), mean_magnetization+std_magnetization/2, mean_magnetization-std_magnetization/2, alpha=0.1)\n",
        "plt.fill_between(range(len(mean_magnetization_q)), mean_magnetization_q+std_magnetization_q/2, mean_magnetization_q-std_magnetization_q/2, alpha=0.1)\n",
        "\n",
        "# magnetization_of_all_states=dict_magnetization_of_all_states(states_nbit)\n",
        "# actual_avg_mag=avg(dict_probabilities=boltz_prob_distn, dict_observable_val_at_states=magnetization_of_all_states)\n",
        "\n",
        "plt.plot(mean_magnetization,\"-\" ,label=\"classical mcmc\")\n",
        "plt.plot(mean_magnetization_q,\"-\" ,label=\"quant mcmc\")\n",
        "plt.axhline(y=0,linestyle=\"--\", color=\"k\" ,label=\"Actual\")\n",
        "plt.legend()\n",
        "#plt.ylim(-1, 1)\n",
        "plt.ylabel(\"Magnetization error\")\n",
        "plt.xlabel(\"MCMC steps\")\n",
        "plt.show()"
      ]
    },
    {
      "cell_type": "code",
      "execution_count": null,
      "metadata": {
        "colab": {
          "base_uri": "https://localhost:8080/",
          "height": 487
        },
        "id": "FFCb1B5DctCG",
        "outputId": "320c5ea7-fff8-45b4-9695-e3c059e741a6"
      },
      "outputs": [
        {
          "data": {
            "text/plain": [
              "<Figure size 432x288 with 0 Axes>"
            ]
          },
          "metadata": {},
          "output_type": "display_data"
        },
        {
          "data": {
            "image/png": "[encoded data removed]",
            "text/plain": [
              "<Figure size 720x504 with 1 Axes>"
            ]
          },
          "metadata": {
            "needs_background": "light"
          },
          "output_type": "display_data"
        }
      ],
      "source": [
        "### for quantum mcmc\n",
        "df_q=fn_get_dataframe_diff_mcmc_chains_same_problem_instance(dict_seperate_chains_states_distn_mcmc_q)\n",
        "dict_mean_occurences_q=get_dict_mean_occurences(df_q)\n",
        "dict_empirical_prob_distn_q=get_empirical_distn(dict_mean_occurences_q)\n",
        "\n",
        "plt.figure(1)\n",
        "plot_multiple_bargraphs(list_of_dicts=[boltz_prob_distn, dict_empirical_cl_prob_distn,dict_empirical_prob_distn_q],\n",
        "                        list_labels=[\"analytical\",\"Cl-MCMC\",\"Quant MCMC\"],\n",
        "                        list_normalise=[False,False,False] ,plot_first_few=10,  \n",
        "                        sort_desc=True,figsize=(10,7))"
      ]
    },
    {
      "cell_type": "code",
      "execution_count": null,
      "metadata": {
        "colab": {
          "base_uri": "https://localhost:8080/"
        },
        "id": "4o8Nf5FXctCH",
        "outputId": "8377afbe-2a0b-4a5b-de17-7304f0366ee1"
      },
      "outputs": [
        {
          "name": "stdout",
          "output_type": "stream",
          "text": [
            "JS distance quantum case:\n",
            "0.18983598800532106\n",
            "JS distance classical case:\n",
            "0.2762100972848577\n"
          ]
        }
      ],
      "source": [
        "print(\"JS distance quantum case:\");\n",
        "print(np.sqrt(js_divergence(dict_empirical_prob_distn_q,boltz_prob_distn)))\n",
        "print(\"JS distance classical case:\")\n",
        "print(np.sqrt(js_divergence(dict_empirical_cl_prob_distn,boltz_prob_distn)))"
      ]
    },
    {
      "cell_type": "code",
      "execution_count": null,
      "metadata": {
        "id": "qti-6LJJEdXF"
      },
      "outputs": [],
      "source": [
        "# def similarity_coefficient(target_prob_distn:dict, model_prob_distn:dict):\n",
        "#   \"\"\" Returns: Bhattacharya coefficient BC(P,Q)= \\sum_{i} sqrt(P(i)*Q(i))\n",
        "#       Args: target_prob_distn: P\n",
        "#             model_prob_distn: Q, approximates P\n",
        "#   \"\"\"\n",
        "#   list_prob_model=list(target_prob_distn.values())\n",
        "#   list_prob_data=list(model_prob_distn.values())\n",
        "#   list_keys_model=list(model_prob_distn.keys())\n",
        "\n",
        "#   sim_coeff=0\n",
        "#   for i in range(0,len(list_keys_model)):\n",
        "#       if(list_prob_data[i]== 0 or list_prob_model==0):\n",
        "#           to_return+= 0\n",
        "#       else:\n",
        "#         sim_coeff+=np.sqrt(list_prob_data[i]*list_prob_model[i])\n",
        "#   return sim_coeff\n",
        "\n",
        "# def running_sim_coeff(list_chain_state_accepted:list,actual_boltz_distn:dict):\n",
        "#   num_nhops=len(list_chain_state_accepted)\n",
        "#   list_sim_coeff_after_each_step=[]\n",
        "#   for step_num in range(1,num_nhops):\n",
        "#     #print(\"step_num: \",step_num)\n",
        "#     temp_distn_model=get_distn(list_chain_state_accepted[:step_num])\n",
        "#     #print(\"temp_distribution:\")\n",
        "#     #print(temp_distn_model)\n",
        "#     sim_coeff_temp=similarity_coefficient(actual_boltz_distn,temp_distn_model)\n",
        "#     list_sim_coeff_after_each_step.append(sim_coeff_temp)\n",
        "#     print(f\"at step={step_num} of MCMC , bhatt.coeff: {sim_coeff_temp}\")\n",
        "#   return list_sim_coeff_after_each_step"
      ]
    }
  ],
  "metadata": {
    "accelerator": "GPU",
    "colab": {
      "provenance": []
    },
    "gpuClass": "standard",
    "kernelspec": {
      "display_name": "Python 3.10.6 64-bit",
      "language": "python",
      "name": "python3"
    },
    "language_info": {
      "codemirror_mode": {
        "name": "ipython",
        "version": 3
      },
      "file_extension": ".py",
      "mimetype": "text/x-python",
      "name": "python",
      "nbconvert_exporter": "python",
      "pygments_lexer": "ipython3",
      "version": "3.10.6"
    },
    "vscode": {
      "interpreter": {
        "hash": "916dbcbb3f70747c44a77c7bcd40155683ae19c65e1c03b4aa3499c5328201f1"
      }
    }
  },
  "nbformat": 4,
  "nbformat_minor": 0
}
